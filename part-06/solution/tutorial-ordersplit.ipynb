{
  "cells": [
    {
      "cell_type": "markdown",
      "id": "447fbf43-a60e-4158-997d-0a1cb38fb9f5",
      "metadata": {},
      "source": [
        "# Tutorial VI - Minimizing Split Orders in E-Commerce\n",
        "\n",
        "Applied Optimization with Julia\n",
        "\n",
        "# Introduction\n",
        "\n",
        "We are consulting for FitGear, a rapidly growing e-commerce company\n",
        "specializing in fitness equipment and athletic wear. FitGear is facing a\n",
        "challenge: customer complaints about split orders have increased by 40%\n",
        "in the last quarter. When a customer orders multiple items, they\n",
        "sometimes receive multiple packages from different warehouses, leading\n",
        "to higher shipping costs and frustrated customers.\n",
        "\n",
        "This tutorial explores how to optimize SKU allocation across warehouses\n",
        "to minimize split orders using mathematical optimization.\n",
        "\n",
        "## 1. Coappearance Matrix\n",
        "\n",
        "First, we need to understand which products are frequently purchased\n",
        "together. We’ll use a coappearance matrix. It shows how frequently items\n",
        "appear together in customer orders. For each pair of items (i,j), the\n",
        "matrix element Q\\[i,j\\] represents the number of orders containing both\n",
        "items i and j. Let’s start with a small sample of FitGear’s historical\n",
        "order data and determine the coappearance matrix of the transactional\n",
        "data set **manually by hand**.\n",
        "\n",
        "| $t_{mi}$ | A   | B   | C   | D   |\n",
        "|----------|-----|-----|-----|-----|\n",
        "| 1        | 1   | 1   | 1   | 0   |\n",
        "| 2        | 1   | 1   | 1   | 0   |\n",
        "| 3        | 1   | 1   | 0   | 0   |\n",
        "| 4        | 1   | 0   | 0   | 1   |\n",
        "| 5        | 1   | 0   | 0   | 1   |\n",
        "| 6        | 1   | 0   | 0   | 1   |\n",
        "| 7        | 1   | 0   | 0   | 1   |\n",
        "| 8        | 0   | 0   | 1   | 1   |\n",
        "\n",
        "What is the resulting **coappearance matrix** from the transactional\n",
        "data set? Please provide it in the following cell as matrix by changing\n",
        "the `0`s to the correct values."
      ]
    },
    {
      "cell_type": "code",
      "execution_count": 16,
      "id": "65a55e08",
      "metadata": {},
      "outputs": [
        {
          "data": {
            "text/plain": [
              "4×4 Matrix{Int64}:\n",
              " 0  0  0  0\n",
              " 0  0  0  0\n",
              " 0  0  0  0\n",
              " 0  0  0  0"
            ]
          },
          "metadata": {},
          "output_type": "display_data"
        }
      ],
      "source": [
        "Q = [\n",
        "    0 0 0 0; \n",
        "    0 0 0 0; \n",
        "    0 0 0 0; \n",
        "    0 0 0 0;\n",
        "]"
      ]
    },
    {
      "cell_type": "markdown",
      "id": "b3afdba4-e3ab-4078-89a0-5800adf8462a",
      "metadata": {},
      "source": [
        "## 2. Maximizing Coappearances\n",
        "\n",
        "FitGear currently operates two warehouses - one in Hamburg and one in\n",
        "Berlin. Each warehouse has limited storage capacity:\n",
        "\n",
        "-   Hamburg can store 3 different product types (SKUs)\n",
        "-   Berlin can also store 3 different product types\n",
        "\n",
        "Based on the coappearance matrix you have determined in the previous\n",
        "assignment, use the model from the lecture to maximise the coappearances\n",
        "**manually by hand**. What is the resulting objective function value of\n",
        "the assignment? Please provide it in the following cell."
      ]
    },
    {
      "cell_type": "code",
      "execution_count": 17,
      "id": "76574569",
      "metadata": {},
      "outputs": [
        {
          "ename": "Base.Meta.ParseError",
          "evalue": "ParseError:\n# Error @ /Users/tvlcek/Documents/git-projects/Applied-Optimization/part-06/solution/jl_notebook_cell_df34fa98e69747e1a8f8a730347b8e2f_W3sZmlsZQ==.jl:1:26\nobjective_value_by_hand =\n#                        └ ── premature end of input",
          "output_type": "error",
          "traceback": [
            "ParseError:\n",
            "# Error @ /Users/tvlcek/Documents/git-projects/Applied-Optimization/part-06/solution/jl_notebook_cell_df34fa98e69747e1a8f8a730347b8e2f_W3sZmlsZQ==.jl:1:26\n",
            "objective_value_by_hand =\n",
            "#                        └ ── premature end of input\n",
            "\n",
            "Stacktrace:\n",
            " [1] top-level scope\n",
            "   @ ~/Documents/git-projects/Applied-Optimization/part-06/solution/jl_notebook_cell_df34fa98e69747e1a8f8a730347b8e2f_W3sZmlsZQ==.jl:1"
          ]
        }
      ],
      "source": [
        "objective_value_by_hand ="
      ]
    },
    {
      "cell_type": "markdown",
      "id": "4a02ffd5-8e7e-42c2-9066-59393f86c0f4",
      "metadata": {},
      "source": [
        "## 3. Counting Split Parcels\n",
        "\n",
        "Based on the output of the optimisation, we don’t know the number of\n",
        "split orders yet. Calculate the **number of split orders manually** from\n",
        "your previous solution."
      ]
    },
    {
      "cell_type": "code",
      "execution_count": 18,
      "id": "b61edd71",
      "metadata": {},
      "outputs": [
        {
          "ename": "Base.Meta.ParseError",
          "evalue": "ParseError:\n# Error @ /Users/tvlcek/Documents/git-projects/Applied-Optimization/part-06/solution/jl_notebook_cell_df34fa98e69747e1a8f8a730347b8e2f_W5sZmlsZQ==.jl:1:26\nnumber_of_split_parcels =\n#                        └ ── premature end of input",
          "output_type": "error",
          "traceback": [
            "ParseError:\n",
            "# Error @ /Users/tvlcek/Documents/git-projects/Applied-Optimization/part-06/solution/jl_notebook_cell_df34fa98e69747e1a8f8a730347b8e2f_W5sZmlsZQ==.jl:1:26\n",
            "number_of_split_parcels =\n",
            "#                        └ ── premature end of input\n",
            "\n",
            "Stacktrace:\n",
            " [1] top-level scope\n",
            "   @ ~/Documents/git-projects/Applied-Optimization/part-06/solution/jl_notebook_cell_df34fa98e69747e1a8f8a730347b8e2f_W5sZmlsZQ==.jl:1"
          ]
        }
      ],
      "source": [
        "number_of_split_parcels ="
      ]
    },
    {
      "cell_type": "markdown",
      "id": "1f0e27f7-080b-4d06-b156-e1bb3701ef81",
      "metadata": {},
      "source": [
        "> **Bonus Question**\n",
        ">\n",
        "> Is the solution of the QMKP the optimal solution for the underlying\n",
        "> split parcel minimisation problem? Try to come up with another\n",
        "> solution that has less split or the same number of split parcels.\n",
        "\n",
        "## 4. Implementing the model\n",
        "\n",
        "As FitGear continues to grow, the operations team needs a solution that\n",
        "can handle their full product catalog. They now have:\n",
        "\n",
        "-   12 popular fitness products\n",
        "-   40 recent customer orders\n",
        "-   Two warehouses with different capacities:\n",
        "    -   Hamburg: 7 SKUs\n",
        "    -   Berlin: 6 SKUs\n",
        "\n",
        "Thus, we’ll now implement a scalable solution using Julia and JuMP that\n",
        "can handle larger datasets."
      ]
    },
    {
      "cell_type": "code",
      "execution_count": 19,
      "id": "bbd47340",
      "metadata": {},
      "outputs": [
        {
          "data": {
            "text/plain": [
              "40×12 Matrix{Int64}:\n",
              " 1  1  0  0  0  0  0  0  0  0  0  0\n",
              " 1  1  0  0  0  1  0  0  0  0  0  0\n",
              " 0  0  0  1  1  0  0  0  0  0  1  0\n",
              " 0  0  1  1  0  0  0  0  0  0  0  0\n",
              " 0  0  0  0  0  0  1  0  0  0  0  0\n",
              " 0  0  0  0  0  0  1  0  0  0  0  1\n",
              " 0  0  0  0  0  0  0  1  1  0  0  0\n",
              " 0  0  0  0  1  0  0  1  1  0  0  0\n",
              " 0  0  0  0  0  0  0  0  0  1  0  0\n",
              " 1  1  1  0  0  1  0  1  1  0  0  0\n",
              " ⋮              ⋮              ⋮  \n",
              " 0  0  1  0  0  0  1  1  1  0  0  1\n",
              " 0  0  1  0  1  0  0  0  0  1  0  0\n",
              " 1  1  0  0  0  1  0  1  1  0  0  0\n",
              " 0  0  0  1  1  0  0  0  0  0  1  1\n",
              " 0  0  1  0  0  0  1  0  0  0  1  1\n",
              " 0  0  1  0  0  1  1  0  0  0  0  0\n",
              " 1  0  0  0  0  1  0  0  0  1  1  0\n",
              " 0  0  0  0  1  0  0  1  1  1  0  0\n",
              " 0  0  0  1  0  0  0  0  0  1  1  0"
            ]
          },
          "metadata": {},
          "output_type": "display_data"
        }
      ],
      "source": [
        "skus = [\n",
        "    \"Running Shoes\",      \n",
        "    \"Athletic Socks\",     \n",
        "    \"Water Bottle\",       \n",
        "    \"Yoga Mat\",          \n",
        "    \"Resistance Bands\",  \n",
        "    \"Sports Bag\",        \n",
        "    \"Protein Powder\",     \n",
        "    \"Exercise Shorts\",    \n",
        "    \"Training Shirt\",     \n",
        "    \"Fitness Tracker\",    \n",
        "    \"Foam Roller\",       \n",
        "    \"Weight Gloves\"       \n",
        "]\n",
        "\n",
        "warehouses = [\"Hamburg\", \"Berlin\"]\n",
        "\n",
        "capacity = [7, 6]\n",
        "\n",
        "T = [\n",
        "    # First set of transactions (1-20)\n",
        "    1 1 0 0 0 0 0 0 0 0 0 0;  # shoes + socks\n",
        "    1 1 0 0 0 1 0 0 0 0 0 0;  # shoes + socks + sports bag\n",
        "    0 0 0 1 1 0 0 0 0 0 1 0;  # yoga mat + bands + foam roller\n",
        "    0 0 1 1 0 0 0 0 0 0 0 0;  # water bottle + yoga mat\n",
        "    0 0 0 0 0 0 1 0 0 0 0 0;  # just protein powder\n",
        "    0 0 0 0 0 0 1 0 0 0 0 1;  # protein powder + gloves\n",
        "    0 0 0 0 0 0 0 1 1 0 0 0;  # shorts + shirt combo\n",
        "    0 0 0 0 1 0 0 1 1 0 0 0;  # workout outfit + bands\n",
        "    0 0 0 0 0 0 0 0 0 1 0 0;  # just fitness tracker\n",
        "    1 1 1 0 0 1 0 1 1 0 0 0;  # full running gear set\n",
        "    0 0 0 1 1 0 0 0 0 0 1 1;  # home gym basics\n",
        "    0 0 0 0 0 0 1 1 1 0 0 1;  # gym starter pack\n",
        "    0 0 1 0 1 0 0 0 0 0 0 0;  # water bottle + bands\n",
        "    1 1 0 0 0 0 0 1 1 0 0 0;  # running outfit complete\n",
        "    0 0 0 1 1 0 0 0 0 0 1 0;  # yoga equipment set\n",
        "    0 0 0 0 0 0 1 0 0 0 0 1;  # protein powder + gloves\n",
        "    0 0 1 0 0 0 1 0 0 0 0 0;  # water bottle + protein\n",
        "    1 0 0 0 0 1 0 0 0 1 0 0;  # shoes + bag + tracker\n",
        "    0 0 0 0 1 0 0 1 1 0 0 0;  # workout outfit + bands\n",
        "    0 0 0 1 0 0 0 0 0 0 1 0;  # yoga mat + foam roller\n",
        "    1 1 0 0 0 0 0 1 1 0 0 0;  # shoes + socks + workout clothes\n",
        "    1 1 0 0 0 1 0 0 0 1 0 0;  # shoes + socks + bag + tracker\n",
        "    0 0 0 1 1 0 0 0 0 0 1 1;  # yoga mat + bands + foam roller + gloves\n",
        "    0 0 1 1 1 0 0 0 0 0 0 0;  # water bottle + yoga mat + bands\n",
        "    0 0 1 0 0 0 1 0 0 0 0 1;  # protein powder + water bottle + gloves\n",
        "    0 0 0 0 1 0 1 0 0 0 0 1;  # protein powder + bands + gloves\n",
        "    0 0 0 0 0 0 0 1 1 1 0 0;  # shorts + shirt + tracker\n",
        "    1 0 0 0 1 0 0 1 1 0 0 0;  # shoes + workout outfit + bands\n",
        "    0 0 1 0 0 0 0 0 0 1 0 0;  # water bottle + tracker\n",
        "    1 1 1 0 0 1 0 1 1 1 0 0;  # deluxe running gear set\n",
        "    0 0 0 1 1 0 1 0 0 0 1 1;  # advanced home gym set\n",
        "    0 0 1 0 0 0 1 1 1 0 0 1;  # gym starter pack with water bottle\n",
        "    0 0 1 0 1 0 0 0 0 1 0 0;  # water bottle + bands + tracker\n",
        "    1 1 0 0 0 1 0 1 1 0 0 0;  # running outfit with bag\n",
        "    0 0 0 1 1 0 0 0 0 0 1 1;  # yoga equipment set with gloves\n",
        "    0 0 1 0 0 0 1 0 0 0 1 1;  # protein set with foam roller\n",
        "    0 0 1 0 0 1 1 0 0 0 0 0;  # water bottle + protein + bag\n",
        "    1 0 0 0 0 1 0 0 0 1 1 0;  # shoes + bag + tracker + foam roller\n",
        "    0 0 0 0 1 0 0 1 1 1 0 0;  # workout outfit + bands + tracker\n",
        "    0 0 0 1 0 0 0 0 0 1 1 0   # yoga mat + tracker + foam roller\n",
        "]"
      ]
    },
    {
      "cell_type": "markdown",
      "id": "548fd2c4-a2bb-4394-b0c8-90c1a62adcb0",
      "metadata": {},
      "source": [
        "Implement the model in Julia and solve it for the given data set.\n",
        "\n",
        "> **Each SKU can only be allocated to one warehouse!**\n",
        ">\n",
        "> The retailer has another requirement: each SKU can only be allocated\n",
        "> to one warehouse. Make sure to include this requirement in your model.\n",
        "\n",
        "> **Use the SCIP solver**\n",
        ">\n",
        "> If you don’t have SCIP or JuMP installed, add the solver via\n",
        "> Pkg.add(“SCIP”) and Pkg.add(“JuMP”).\n",
        "\n",
        "First, we start by defining the model."
      ]
    },
    {
      "cell_type": "code",
      "execution_count": 20,
      "id": "310adc6e",
      "metadata": {},
      "outputs": [
        {
          "data": {
            "text/plain": [
              "A JuMP Model\n",
              "Feasibility problem with:\n",
              "Variables: 0\n",
              "Model mode: AUTOMATIC\n",
              "CachingOptimizer state: EMPTY_OPTIMIZER\n",
              "Solver name: Juniper"
            ]
          },
          "metadata": {},
          "output_type": "display_data"
        }
      ],
      "source": [
        "using JuMP, Ipopt, HiGHS, Juniper\n",
        "ipopt = optimizer_with_attributes(Ipopt.Optimizer, \"print_level\" => 0)\n",
        "highs = optimizer_with_attributes(HiGHS.Optimizer, \"output_flag\" => false)\n",
        "warehouse_model = Model(\n",
        "    optimizer_with_attributes(\n",
        "        Juniper.Optimizer,\n",
        "        \"nl_solver\" => ipopt,\n",
        "        \"mip_solver\" => highs,\n",
        "    ),\n",
        ")"
      ]
    },
    {
      "cell_type": "markdown",
      "id": "0a9583d7-0559-4d4c-bf2b-c4bf90140171",
      "metadata": {},
      "source": [
        "Next, compute the coappearance matrix based on the transactional data\n",
        "provided in `T`."
      ]
    },
    {
      "cell_type": "code",
      "execution_count": 21,
      "id": "bbf1b745",
      "metadata": {},
      "outputs": [
        {
          "data": {
            "text/plain": [
              "12×12 Matrix{Int64}:\n",
              " 11  8   2   0   1  7   0   6   6   4   1   0\n",
              "  8  8   2   0   0  5   0   5   5   2   0   0\n",
              "  2  2  12   2   3  3   5   3   3   3   1   3\n",
              "  0  0   2  10   7  0   1   0   0   1   8   4\n",
              "  1  0   3   7  14  0   2   4   4   2   6   5\n",
              "  7  5   3   0   0  8   1   3   3   4   1   0\n",
              "  0  0   5   1   2  1  11   2   2   0   2   8\n",
              "  6  5   3   0   4  3   2  13  13   3   0   2\n",
              "  6  5   3   0   4  3   2  13  13   3   0   2\n",
              "  4  2   3   1   2  4   0   3   3  10   2   0\n",
              "  1  0   1   8   6  1   2   0   0   2  10   5\n",
              "  0  0   3   4   5  0   8   2   2   0   5  11"
            ]
          },
          "metadata": {},
          "output_type": "display_data"
        }
      ],
      "source": [
        "# YOUR CODE BELOW\n",
        "Q = T' * T"
      ]
    },
    {
      "cell_type": "code",
      "execution_count": 22,
      "id": "ad0b9b5d",
      "metadata": {},
      "outputs": [
        {
          "name": "stdout",
          "output_type": "stream",
          "text": [
            "Great! The coappearance matrix is correct.\n"
          ]
        }
      ],
      "source": [
        "# Assert whether the coappearance matrix is correct.\n",
        "@assert Q == Q' \"The coappearance matrix is not symmetric. Have you transposed the transactional data set?\"\n",
        "@assert Q[1,1] == 11 \"The coappearance matrix is not correct. Have you multiplied the transposed transactional data set with itself?\"\n",
        "println(\"Great! The coappearance matrix is correct.\")"
      ]
    },
    {
      "cell_type": "markdown",
      "id": "efd0b070-72b4-4b0f-b151-3017c7fdcdea",
      "metadata": {},
      "source": [
        "Now, define the decision variable for the SKU allocation. Please name\n",
        "the variable `X`."
      ]
    },
    {
      "cell_type": "code",
      "execution_count": 23,
      "id": "154a7463",
      "metadata": {},
      "outputs": [
        {
          "data": {
            "text/plain": [
              "2-dimensional DenseAxisArray{VariableRef,2,...} with index sets:\n",
              "    Dimension 1, [\"Running Shoes\", \"Athletic Socks\", \"Water Bottle\", \"Yoga Mat\", \"Resistance Bands\", \"Sports Bag\", \"Protein Powder\", \"Exercise Shorts\", \"Training Shirt\", \"Fitness Tracker\", \"Foam Roller\", \"Weight Gloves\"]\n",
              "    Dimension 2, [\"Hamburg\", \"Berlin\"]\n",
              "And data, a 12×2 Matrix{VariableRef}:\n",
              " X[Running Shoes,Hamburg]     X[Running Shoes,Berlin]\n",
              " X[Athletic Socks,Hamburg]    X[Athletic Socks,Berlin]\n",
              " X[Water Bottle,Hamburg]      X[Water Bottle,Berlin]\n",
              " X[Yoga Mat,Hamburg]          X[Yoga Mat,Berlin]\n",
              " X[Resistance Bands,Hamburg]  X[Resistance Bands,Berlin]\n",
              " X[Sports Bag,Hamburg]        X[Sports Bag,Berlin]\n",
              " X[Protein Powder,Hamburg]    X[Protein Powder,Berlin]\n",
              " X[Exercise Shorts,Hamburg]   X[Exercise Shorts,Berlin]\n",
              " X[Training Shirt,Hamburg]    X[Training Shirt,Berlin]\n",
              " X[Fitness Tracker,Hamburg]   X[Fitness Tracker,Berlin]\n",
              " X[Foam Roller,Hamburg]       X[Foam Roller,Berlin]\n",
              " X[Weight Gloves,Hamburg]     X[Weight Gloves,Berlin]"
            ]
          },
          "metadata": {},
          "output_type": "display_data"
        }
      ],
      "source": [
        "# YOUR CODE BELOW\n",
        "@variable(warehouse_model, X[i in skus, k in warehouses], Bin)"
      ]
    },
    {
      "cell_type": "code",
      "execution_count": 24,
      "id": "99065a24",
      "metadata": {},
      "outputs": [
        {
          "name": "stdout",
          "output_type": "stream",
          "text": [
            "Great! The decision variable is correctly defined as a binary variable with proper dimensions.\n"
          ]
        }
      ],
      "source": [
        "# Assert whether the decision variable is correct.\n",
        "@assert typeof(X) <: AbstractArray{VariableRef} \"The decision variable X should be an array of JuMP variables\"\n",
        "@assert all(is_binary.(X)) \"The decision variable X should be defined as binary\"\n",
        "@assert size(X) == (length(skus), length(warehouses)) \"The decision variable X should have dimensions [skus × warehouses]\"\n",
        "println(\"Great! The decision variable is correctly defined as a binary variable with proper dimensions.\")"
      ]
    },
    {
      "cell_type": "markdown",
      "id": "79683497-47e1-465f-b6a3-733bfb16b8fa",
      "metadata": {},
      "source": [
        "Then, define the objective function to maximize the coappearance."
      ]
    },
    {
      "cell_type": "code",
      "execution_count": 25,
      "id": "5ad86bab",
      "metadata": {},
      "outputs": [
        {
          "data": {
            "text/latex": [
              "$ 8 X_{Athletic Socks,Hamburg}\\times X_{Running Shoes,Hamburg} + 8 X_{Athletic Socks,Berlin}\\times X_{Running Shoes,Berlin} + 2 X_{Water Bottle,Hamburg}\\times X_{Running Shoes,Hamburg} + 2 X_{Water Bottle,Berlin}\\times X_{Running Shoes,Berlin} + 2 X_{Water Bottle,Hamburg}\\times X_{Athletic Socks,Hamburg} + 2 X_{Water Bottle,Berlin}\\times X_{Athletic Socks,Berlin} + 2 X_{Yoga Mat,Hamburg}\\times X_{Water Bottle,Hamburg} + 2 X_{Yoga Mat,Berlin}\\times X_{Water Bottle,Berlin} + X_{Resistance Bands,Hamburg}\\times X_{Running Shoes,Hamburg} + X_{Resistance Bands,Berlin}\\times X_{Running Shoes,Berlin} + 3 X_{Resistance Bands,Hamburg}\\times X_{Water Bottle,Hamburg} + 3 X_{Resistance Bands,Berlin}\\times X_{Water Bottle,Berlin} + 7 X_{Resistance Bands,Hamburg}\\times X_{Yoga Mat,Hamburg} + 7 X_{Resistance Bands,Berlin}\\times X_{Yoga Mat,Berlin} + 7 X_{Sports Bag,Hamburg}\\times X_{Running Shoes,Hamburg} + 7 X_{Sports Bag,Berlin}\\times X_{Running Shoes,Berlin} + 5 X_{Sports Bag,Hamburg}\\times X_{Athletic Socks,Hamburg} + 5 X_{Sports Bag,Berlin}\\times X_{Athletic Socks,Berlin} + 3 X_{Sports Bag,Hamburg}\\times X_{Water Bottle,Hamburg} + 3 X_{Sports Bag,Berlin}\\times X_{Water Bottle,Berlin} + 5 X_{Protein Powder,Hamburg}\\times X_{Water Bottle,Hamburg} + 5 X_{Protein Powder,Berlin}\\times X_{Water Bottle,Berlin} + X_{Protein Powder,Hamburg}\\times X_{Yoga Mat,Hamburg} + X_{Protein Powder,Berlin}\\times X_{Yoga Mat,Berlin} + 2 X_{Protein Powder,Hamburg}\\times X_{Resistance Bands,Hamburg} + 2 X_{Protein Powder,Berlin}\\times X_{Resistance Bands,Berlin} + X_{Protein Powder,Hamburg}\\times X_{Sports Bag,Hamburg} + X_{Protein Powder,Berlin}\\times X_{Sports Bag,Berlin} + 6 X_{Exercise Shorts,Hamburg}\\times X_{Running Shoes,Hamburg} + 6 X_{Exercise Shorts,Berlin}\\times X_{Running Shoes,Berlin} + [[\\ldots\\text{38 terms omitted}\\ldots]] + 3 X_{Fitness Tracker,Hamburg}\\times X_{Training Shirt,Hamburg} + 3 X_{Fitness Tracker,Berlin}\\times X_{Training Shirt,Berlin} + X_{Foam Roller,Hamburg}\\times X_{Running Shoes,Hamburg} + X_{Foam Roller,Berlin}\\times X_{Running Shoes,Berlin} + X_{Foam Roller,Hamburg}\\times X_{Water Bottle,Hamburg} + X_{Foam Roller,Berlin}\\times X_{Water Bottle,Berlin} + 8 X_{Foam Roller,Hamburg}\\times X_{Yoga Mat,Hamburg} + 8 X_{Foam Roller,Berlin}\\times X_{Yoga Mat,Berlin} + 6 X_{Foam Roller,Hamburg}\\times X_{Resistance Bands,Hamburg} + 6 X_{Foam Roller,Berlin}\\times X_{Resistance Bands,Berlin} + X_{Foam Roller,Hamburg}\\times X_{Sports Bag,Hamburg} + X_{Foam Roller,Berlin}\\times X_{Sports Bag,Berlin} + 2 X_{Foam Roller,Hamburg}\\times X_{Protein Powder,Hamburg} + 2 X_{Foam Roller,Berlin}\\times X_{Protein Powder,Berlin} + 2 X_{Foam Roller,Hamburg}\\times X_{Fitness Tracker,Hamburg} + 2 X_{Foam Roller,Berlin}\\times X_{Fitness Tracker,Berlin} + 3 X_{Weight Gloves,Hamburg}\\times X_{Water Bottle,Hamburg} + 3 X_{Weight Gloves,Berlin}\\times X_{Water Bottle,Berlin} + 4 X_{Weight Gloves,Hamburg}\\times X_{Yoga Mat,Hamburg} + 4 X_{Weight Gloves,Berlin}\\times X_{Yoga Mat,Berlin} + 5 X_{Weight Gloves,Hamburg}\\times X_{Resistance Bands,Hamburg} + 5 X_{Weight Gloves,Berlin}\\times X_{Resistance Bands,Berlin} + 8 X_{Weight Gloves,Hamburg}\\times X_{Protein Powder,Hamburg} + 8 X_{Weight Gloves,Berlin}\\times X_{Protein Powder,Berlin} + 2 X_{Weight Gloves,Hamburg}\\times X_{Exercise Shorts,Hamburg} + 2 X_{Weight Gloves,Berlin}\\times X_{Exercise Shorts,Berlin} + 2 X_{Weight Gloves,Hamburg}\\times X_{Training Shirt,Hamburg} + 2 X_{Weight Gloves,Berlin}\\times X_{Training Shirt,Berlin} + 5 X_{Weight Gloves,Hamburg}\\times X_{Foam Roller,Hamburg} + 5 X_{Weight Gloves,Berlin}\\times X_{Foam Roller,Berlin} $"
            ],
            "text/plain": [
              "8 X[Athletic Socks,Hamburg]*X[Running Shoes,Hamburg] + 8 X[Athletic Socks,Berlin]*X[Running Shoes,Berlin] + 2 X[Water Bottle,Hamburg]*X[Running Shoes,Hamburg] + 2 X[Water Bottle,Berlin]*X[Running Shoes,Berlin] + 2 X[Water Bottle,Hamburg]*X[Athletic Socks,Hamburg] + 2 X[Water Bottle,Berlin]*X[Athletic Socks,Berlin] + 2 X[Yoga Mat,Hamburg]*X[Water Bottle,Hamburg] + 2 X[Yoga Mat,Berlin]*X[Water Bottle,Berlin] + X[Resistance Bands,Hamburg]*X[Running Shoes,Hamburg] + X[Resistance Bands,Berlin]*X[Running Shoes,Berlin] + 3 X[Resistance Bands,Hamburg]*X[Water Bottle,Hamburg] + 3 X[Resistance Bands,Berlin]*X[Water Bottle,Berlin] + 7 X[Resistance Bands,Hamburg]*X[Yoga Mat,Hamburg] + 7 X[Resistance Bands,Berlin]*X[Yoga Mat,Berlin] + 7 X[Sports Bag,Hamburg]*X[Running Shoes,Hamburg] + 7 X[Sports Bag,Berlin]*X[Running Shoes,Berlin] + 5 X[Sports Bag,Hamburg]*X[Athletic Socks,Hamburg] + 5 X[Sports Bag,Berlin]*X[Athletic Socks,Berlin] + 3 X[Sports Bag,Hamburg]*X[Water Bottle,Hamburg] + 3 X[Sports Bag,Berlin]*X[Water Bottle,Berlin] + 5 X[Protein Powder,Hamburg]*X[Water Bottle,Hamburg] + 5 X[Protein Powder,Berlin]*X[Water Bottle,Berlin] + X[Protein Powder,Hamburg]*X[Yoga Mat,Hamburg] + X[Protein Powder,Berlin]*X[Yoga Mat,Berlin] + 2 X[Protein Powder,Hamburg]*X[Resistance Bands,Hamburg] + 2 X[Protein Powder,Berlin]*X[Resistance Bands,Berlin] + X[Protein Powder,Hamburg]*X[Sports Bag,Hamburg] + X[Protein Powder,Berlin]*X[Sports Bag,Berlin] + 6 X[Exercise Shorts,Hamburg]*X[Running Shoes,Hamburg] + 6 X[Exercise Shorts,Berlin]*X[Running Shoes,Berlin] + [[...38 terms omitted...]] + 3 X[Fitness Tracker,Hamburg]*X[Training Shirt,Hamburg] + 3 X[Fitness Tracker,Berlin]*X[Training Shirt,Berlin] + X[Foam Roller,Hamburg]*X[Running Shoes,Hamburg] + X[Foam Roller,Berlin]*X[Running Shoes,Berlin] + X[Foam Roller,Hamburg]*X[Water Bottle,Hamburg] + X[Foam Roller,Berlin]*X[Water Bottle,Berlin] + 8 X[Foam Roller,Hamburg]*X[Yoga Mat,Hamburg] + 8 X[Foam Roller,Berlin]*X[Yoga Mat,Berlin] + 6 X[Foam Roller,Hamburg]*X[Resistance Bands,Hamburg] + 6 X[Foam Roller,Berlin]*X[Resistance Bands,Berlin] + X[Foam Roller,Hamburg]*X[Sports Bag,Hamburg] + X[Foam Roller,Berlin]*X[Sports Bag,Berlin] + 2 X[Foam Roller,Hamburg]*X[Protein Powder,Hamburg] + 2 X[Foam Roller,Berlin]*X[Protein Powder,Berlin] + 2 X[Foam Roller,Hamburg]*X[Fitness Tracker,Hamburg] + 2 X[Foam Roller,Berlin]*X[Fitness Tracker,Berlin] + 3 X[Weight Gloves,Hamburg]*X[Water Bottle,Hamburg] + 3 X[Weight Gloves,Berlin]*X[Water Bottle,Berlin] + 4 X[Weight Gloves,Hamburg]*X[Yoga Mat,Hamburg] + 4 X[Weight Gloves,Berlin]*X[Yoga Mat,Berlin] + 5 X[Weight Gloves,Hamburg]*X[Resistance Bands,Hamburg] + 5 X[Weight Gloves,Berlin]*X[Resistance Bands,Berlin] + 8 X[Weight Gloves,Hamburg]*X[Protein Powder,Hamburg] + 8 X[Weight Gloves,Berlin]*X[Protein Powder,Berlin] + 2 X[Weight Gloves,Hamburg]*X[Exercise Shorts,Hamburg] + 2 X[Weight Gloves,Berlin]*X[Exercise Shorts,Berlin] + 2 X[Weight Gloves,Hamburg]*X[Training Shirt,Hamburg] + 2 X[Weight Gloves,Berlin]*X[Training Shirt,Berlin] + 5 X[Weight Gloves,Hamburg]*X[Foam Roller,Hamburg] + 5 X[Weight Gloves,Berlin]*X[Foam Roller,Berlin]"
            ]
          },
          "metadata": {},
          "output_type": "display_data"
        }
      ],
      "source": [
        "# YOUR CODE BELOW\n",
        "@objective(warehouse_model, \n",
        "    Max, \n",
        "    sum(\n",
        "        X[skus[i], warehouses[k]] * X[skus[j], warehouses[k]] * Q[i,j]\n",
        "        for i in 2:length(skus)\n",
        "        for j in 1:i-1\n",
        "        for k in 1:length(warehouses)\n",
        "    )\n",
        ")"
      ]
    },
    {
      "cell_type": "code",
      "execution_count": 26,
      "id": "63538b9a",
      "metadata": {},
      "outputs": [
        {
          "name": "stdout",
          "output_type": "stream",
          "text": [
            "Great! The objective function is correctly defined.\n"
          ]
        }
      ],
      "source": [
        "# Assert whether the objective function is correct.\n",
        "@assert typeof(objective_function(warehouse_model)) <: QuadExpr \"The objective function should be a quadratic expression of JuMP variables\"\n",
        "println(\"Great! The objective function is correctly defined.\")"
      ]
    },
    {
      "cell_type": "markdown",
      "id": "fa3f74db-8689-4b8b-9aa5-788f9342349a",
      "metadata": {},
      "source": [
        "To ensure that each SKU is allocated to one warehouse, add the first\n",
        "constraint."
      ]
    },
    {
      "cell_type": "code",
      "execution_count": 27,
      "id": "98bebeea",
      "metadata": {},
      "outputs": [
        {
          "data": {
            "text/plain": [
              "1-dimensional DenseAxisArray{ConstraintRef{Model, MathOptInterface.ConstraintIndex{MathOptInterface.ScalarAffineFunction{Float64}, MathOptInterface.EqualTo{Float64}}, ScalarShape},1,...} with index sets:\n",
              "    Dimension 1, [\"Running Shoes\", \"Athletic Socks\", \"Water Bottle\", \"Yoga Mat\", \"Resistance Bands\", \"Sports Bag\", \"Protein Powder\", \"Exercise Shorts\", \"Training Shirt\", \"Fitness Tracker\", \"Foam Roller\", \"Weight Gloves\"]\n",
              "And data, a 12-element Vector{ConstraintRef{Model, MathOptInterface.ConstraintIndex{MathOptInterface.ScalarAffineFunction{Float64}, MathOptInterface.EqualTo{Float64}}, ScalarShape}}:\n",
              " single_allocation[Running Shoes] : X[Running Shoes,Hamburg] + X[Running Shoes,Berlin] = 1\n",
              " single_allocation[Athletic Socks] : X[Athletic Socks,Hamburg] + X[Athletic Socks,Berlin] = 1\n",
              " single_allocation[Water Bottle] : X[Water Bottle,Hamburg] + X[Water Bottle,Berlin] = 1\n",
              " single_allocation[Yoga Mat] : X[Yoga Mat,Hamburg] + X[Yoga Mat,Berlin] = 1\n",
              " single_allocation[Resistance Bands] : X[Resistance Bands,Hamburg] + X[Resistance Bands,Berlin] = 1\n",
              " single_allocation[Sports Bag] : X[Sports Bag,Hamburg] + X[Sports Bag,Berlin] = 1\n",
              " single_allocation[Protein Powder] : X[Protein Powder,Hamburg] + X[Protein Powder,Berlin] = 1\n",
              " single_allocation[Exercise Shorts] : X[Exercise Shorts,Hamburg] + X[Exercise Shorts,Berlin] = 1\n",
              " single_allocation[Training Shirt] : X[Training Shirt,Hamburg] + X[Training Shirt,Berlin] = 1\n",
              " single_allocation[Fitness Tracker] : X[Fitness Tracker,Hamburg] + X[Fitness Tracker,Berlin] = 1\n",
              " single_allocation[Foam Roller] : X[Foam Roller,Hamburg] + X[Foam Roller,Berlin] = 1\n",
              " single_allocation[Weight Gloves] : X[Weight Gloves,Hamburg] + X[Weight Gloves,Berlin] = 1"
            ]
          },
          "metadata": {},
          "output_type": "display_data"
        }
      ],
      "source": [
        "# YOUR CODE BELOW\n",
        "@constraint(warehouse_model, single_allocation[i in skus], sum(X[i,k] for k in warehouses) == 1)"
      ]
    },
    {
      "cell_type": "code",
      "execution_count": 28,
      "id": "ffd57cec",
      "metadata": {},
      "outputs": [
        {
          "name": "stdout",
          "output_type": "stream",
          "text": [
            "Great! The single allocation constraint is correctly defined.\n"
          ]
        }
      ],
      "source": [
        "# Assert whether the single allocation constraint is correct.\n",
        "@assert num_constraints(warehouse_model, AffExpr, MOI.EqualTo{Float64}) == length(skus) \"The single allocation constraint should have one constraint for each SKU\"\n",
        "println(\"Great! The single allocation constraint is correctly defined.\")"
      ]
    },
    {
      "cell_type": "markdown",
      "id": "b583f887-c8b3-4434-a935-cab981c92092",
      "metadata": {},
      "source": [
        "To ensure that the capacity of each warehouse is not exceeded, add the\n",
        "second constraint."
      ]
    },
    {
      "cell_type": "code",
      "execution_count": 29,
      "id": "d748226a",
      "metadata": {},
      "outputs": [
        {
          "data": {
            "text/plain": [
              "2-element Vector{ConstraintRef{Model, MathOptInterface.ConstraintIndex{MathOptInterface.ScalarAffineFunction{Float64}, MathOptInterface.LessThan{Float64}}, ScalarShape}}:\n",
              " capacity_constraint[1] : X[Running Shoes,Hamburg] + X[Athletic Socks,Hamburg] + X[Water Bottle,Hamburg] + X[Yoga Mat,Hamburg] + X[Resistance Bands,Hamburg] + X[Sports Bag,Hamburg] + X[Protein Powder,Hamburg] + X[Exercise Shorts,Hamburg] + X[Training Shirt,Hamburg] + X[Fitness Tracker,Hamburg] + X[Foam Roller,Hamburg] + X[Weight Gloves,Hamburg] ≤ 7\n",
              " capacity_constraint[2] : X[Running Shoes,Berlin] + X[Athletic Socks,Berlin] + X[Water Bottle,Berlin] + X[Yoga Mat,Berlin] + X[Resistance Bands,Berlin] + X[Sports Bag,Berlin] + X[Protein Powder,Berlin] + X[Exercise Shorts,Berlin] + X[Training Shirt,Berlin] + X[Fitness Tracker,Berlin] + X[Foam Roller,Berlin] + X[Weight Gloves,Berlin] ≤ 6"
            ]
          },
          "metadata": {},
          "output_type": "display_data"
        }
      ],
      "source": [
        "# YOUR CODE BELOW\n",
        "@constraint(warehouse_model, capacity_constraint[k in 1:length(warehouses)], sum(X[i,warehouses[k]] for i in skus) <= capacity[k])"
      ]
    },
    {
      "cell_type": "code",
      "execution_count": 30,
      "id": "49304b0a",
      "metadata": {},
      "outputs": [
        {
          "name": "stdout",
          "output_type": "stream",
          "text": [
            "Great! The capacity constraint is correctly defined.\n"
          ]
        }
      ],
      "source": [
        "# Assert whether the capacity constraint is correct.\n",
        "@assert num_constraints(warehouse_model, AffExpr, MOI.LessThan{Float64}) == length(warehouses) \"The capacity constraint should have one constraint for each warehouse\"\n",
        "println(\"Great! The capacity constraint is correctly defined.\")"
      ]
    },
    {
      "cell_type": "markdown",
      "id": "ca13fe68-91cf-4748-8142-22cc783a0673",
      "metadata": {},
      "source": [
        "Finally, solve the model with a solve statement."
      ]
    },
    {
      "cell_type": "code",
      "execution_count": 31,
      "id": "83f6edf9",
      "metadata": {},
      "outputs": [
        {
          "name": "stdout",
          "output_type": "stream",
          "text": [
            "nl_solver   : MathOptInterface.OptimizerWithAttributes(Ipopt.Optimizer, Pair{MathOptInterface.AbstractOptimizerAttribute, Any}[MathOptInterface.RawOptimizerAttribute(\"print_level\") => 0])\n",
            "mip_solver  : MathOptInterface.OptimizerWithAttributes(HiGHS.Optimizer, Pair{MathOptInterface.AbstractOptimizerAttribute, Any}[MathOptInterface.RawOptimizerAttribute(\"output_flag\") => false])\n",
            "log_levels  : [:Options, :Table, :Info]\n",
            "\n",
            "#Variables: 24\n",
            "#IntBinVar: 24\n",
            "Obj Sense: Max\n",
            "\n",
            "Start values are not feasible.\n",
            "Status of relaxation: LOCALLY_SOLVED\n",
            "Time for relaxation: 0.011147022247314453\n",
            "Relaxation Obj: 141.00000197994706\n",
            "Obj: 141.00000197994706\n"
          ]
        }
      ],
      "source": [
        "# YOUR CODE BELOW\n",
        "optimize!(warehouse_model)"
      ]
    },
    {
      "cell_type": "code",
      "execution_count": 32,
      "id": "64a1ad53",
      "metadata": {},
      "outputs": [
        {
          "name": "stdout",
          "output_type": "stream",
          "text": [
            "Objective value: 141.00000197994706\n"
          ]
        }
      ],
      "source": [
        "println(\"Objective value: \", objective_value(warehouse_model))"
      ]
    },
    {
      "cell_type": "code",
      "execution_count": 33,
      "id": "900bc90b",
      "metadata": {},
      "outputs": [
        {
          "name": "stdout",
          "output_type": "stream",
          "text": [
            "Great! The model is correctly solved.\n"
          ]
        }
      ],
      "source": [
        "# Assert whether the model is solved correctly.\n",
        "@assert termination_status(warehouse_model) == MOI.OPTIMAL || termination_status(warehouse_model) == MOI.LOCALLY_SOLVED \"The model should either be solved with an optimal solution or with a locally optimal solution\"\n",
        "@assert isapprox(objective_value(warehouse_model), 141) \"The objective value should approximaly be 141. Have you correctly implemented the objective function?\"\n",
        "println(\"Great! The model is correctly solved.\")"
      ]
    },
    {
      "cell_type": "markdown",
      "id": "e6a75d05-07e9-4d3f-9122-97596993179c",
      "metadata": {},
      "source": [
        "The following code prints the objective value, the SKU allocation and\n",
        "the warehouse capacities based on your optimal solution."
      ]
    },
    {
      "cell_type": "code",
      "execution_count": 34,
      "id": "0dbc7e66",
      "metadata": {},
      "outputs": [
        {
          "name": "stdout",
          "output_type": "stream",
          "text": [
            "Objective value: 141.00000197994706\n",
            "\n",
            "SKU Allocation:\n",
            "\n",
            "Warehouse Capacities:\n",
            "Warehouse: Hamburg Capacity: 7 Used: 7.000000019377266\n",
            "Warehouse: Berlin Capacity: 6 Used: 4.999999980622732\n"
          ]
        }
      ],
      "source": [
        "println(\"Objective value: \", objective_value(warehouse_model))\n",
        "println()\n",
        "println(\"SKU Allocation:\")\n",
        "for i in skus\n",
        "    for k in warehouses\n",
        "        if value(X[i,k]) == 1\n",
        "            println(\"SKU: \", i, \" Allocation: \", k)\n",
        "        end\n",
        "    end\n",
        "end\n",
        "println()\n",
        "println(\"Warehouse Capacities:\")\n",
        "for k in 1:length(warehouses)\n",
        "    println(\"Warehouse: \", warehouses[k], \" Capacity: \", capacity[k], \" Used: \", sum(value.(X[i,warehouses[k]]) for i in skus))\n",
        "end"
      ]
    },
    {
      "cell_type": "markdown",
      "id": "65bab6b0-11a6-4075-bdb3-cd49513690f9",
      "metadata": {},
      "source": [
        "Based on the output of the optimisation, we still don’t know the number\n",
        "of split orders. The following code calculates the number of split\n",
        "orders from the SKU allocation for the optimal solution."
      ]
    },
    {
      "cell_type": "code",
      "execution_count": 35,
      "id": "bc0ab132",
      "metadata": {},
      "outputs": [
        {
          "name": "stdout",
          "output_type": "stream",
          "text": [
            "Number of split orders (optimal): 16\n",
            "Number of regular orders (optimal): 40\n",
            "\n",
            "Number of split orders (random): 30.93\n",
            "Number of regular orders (random): 40.0\n"
          ]
        }
      ],
      "source": [
        "# Binary matrix indicating whether a SKU is allocated to a warehouse.\n",
        "X_values = [value(X[i,j]) > 0 ? true : false for i in skus, j in warehouses]\n",
        "\n",
        "# Function to count the number of split and regular parcels.\n",
        "function count_split_orders(X_input, transactional_data)\n",
        "    # Initialize the counters for split and regular parcels.\n",
        "    split_parcels = 0\n",
        "    regular_parcels = 0\n",
        "\n",
        "    # Iterate over each transaction in the transactional data set.\n",
        "    for t in 1:size(transactional_data,1)\n",
        "\n",
        "        # Check if the first warehouse can fulfill the transaction.\n",
        "        if all(X_input[:,1] .>= transactional_data[t,:])\n",
        "            regular_parcels += 1\n",
        "\n",
        "        # Check if the second warehouse can fulfill the transaction.\n",
        "        elseif all(X_input[:,2] .>= transactional_data[t,:])\n",
        "            regular_parcels += 1\n",
        "\n",
        "        # If neither warehouse can fulfill the transaction, it is a split.\n",
        "        else\n",
        "            split_parcels += 1\n",
        "            regular_parcels += 1\n",
        "        end\n",
        "    end\n",
        "    return split_parcels, regular_parcels\n",
        "end\n",
        "\n",
        "# Count the number of split and regular parcels for the optimal solution.\n",
        "split_parcels, regular_parcels = count_split_orders(X_values, T)\n",
        "\n",
        "# Count the number of split and regular parcels for 100 random solutions.\n",
        "split_parcels_random = []\n",
        "regular_parcels_random = []\n",
        "for trial in 1:100\n",
        "    X_random = [rand(Bool) for i in 1:length(skus), j in 1:length(warehouses)]\n",
        "    split_parcels_random_trial, regular_parcels_random_trial = count_split_orders(X_random, T)\n",
        "    push!(split_parcels_random, split_parcels_random_trial)\n",
        "    push!(regular_parcels_random, regular_parcels_random_trial)\n",
        "end\n",
        "split_parcels_random = sum(split_parcels_random)/100\n",
        "regular_parcels_random = sum(regular_parcels_random)/100\n",
        "\n",
        "# Print the number of split and regular parcels.\n",
        "println(\"Number of split orders (optimal): \", split_parcels)\n",
        "println(\"Number of regular orders (optimal): \", regular_parcels)\n",
        "println()\n",
        "\n",
        "# Print the number of split and regular parcels for the random solution.\n",
        "println(\"Number of split orders (random): \", split_parcels_random)\n",
        "println(\"Number of regular orders (random): \", regular_parcels_random)"
      ]
    },
    {
      "cell_type": "markdown",
      "id": "a12be486-fea4-48c2-9594-cbd33cf9befa",
      "metadata": {},
      "source": [
        "## 5. Analyzing the Results\n",
        "\n",
        "FitGear’s operations team needs to understand the business implications\n",
        "of this optimization:\n",
        "\n",
        "-   Which product categories tend to cluster together in the same\n",
        "    warehouse? For example, do workout clothes tend to be stored\n",
        "    together?\n",
        "-   How many fewer split shipments would FitGear have compared to their\n",
        "    current random allocation?\n",
        "-   How might this new allocation affect warehouse operations and\n",
        "    picking efficiency?\n",
        "\n",
        "Your answer goes here, thinking from the business perspective. A few\n",
        "sentences are fully sufficient!"
      ]
    },
    {
      "cell_type": "code",
      "execution_count": 36,
      "id": "47083bbb",
      "metadata": {},
      "outputs": [],
      "source": [
        "# YOUR ANSWER BELOW\n",
        "#=\n",
        "\n",
        "\n",
        "\n",
        "=#"
      ]
    },
    {
      "cell_type": "markdown",
      "id": "834e268c-18d4-4e53-a5d5-a35b2eab031c",
      "metadata": {},
      "source": [
        "------------------------------------------------------------------------\n",
        "\n",
        "# Solutions\n",
        "\n",
        "You will likely find solutions to most exercises online. However, I\n",
        "strongly encourage you to work on these exercises independently without\n",
        "searching explicitly for the exact answers to the exercises.\n",
        "Understanding someone else’s solution is very different from developing\n",
        "your own. Use the lecture notes and try to solve the exercises on your\n",
        "own. This approach will significantly enhance your learning and\n",
        "problem-solving skills.\n",
        "\n",
        "Remember, the goal is not just to complete the exercises, but to\n",
        "understand the concepts and improve your programming abilities. If you\n",
        "encounter difficulties, review the lecture materials, experiment with\n",
        "different approaches, and don’t hesitate to ask for clarification during\n",
        "class discussions.\n",
        "\n",
        "Later, you will find the solutions to these exercises online in the\n",
        "associated GitHub repository, but we will also quickly go over them in\n",
        "next week’s tutorial. To access the solutions, click on the Github\n",
        "button on the lower right and search for the folder with today’s lecture\n",
        "and tutorial. Alternatively, you can ask ChatGPT or Claude to explain\n",
        "them to you. But please remember, the goal is not just to complete the\n",
        "exercises, but to understand the concepts and improve your programming\n",
        "abilities."
      ]
    }
  ],
  "metadata": {
    "kernelspec": {
      "display_name": "Julia 1.10.6",
      "language": "julia",
      "name": "julia-1.10"
    },
    "language_info": {
      "file_extension": ".jl",
      "mimetype": "application/julia",
      "name": "julia",
      "version": "1.10.6"
    }
  },
  "nbformat": 4,
  "nbformat_minor": 5
}
