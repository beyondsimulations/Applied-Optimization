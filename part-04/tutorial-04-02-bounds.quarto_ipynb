{
  "cells": [
    {
      "cell_type": "markdown",
      "metadata": {},
      "source": [
        "---\n",
        "title: \"Tutorial IV.II - Variables and Bounds in JuMP\"\n",
        "subtitle: \"Applied Optimization with Julia\"\n",
        "\n",
        "format:\n",
        "    html:\n",
        "        theme: litera\n",
        "        highlight-style: arrow\n",
        "        linkcolor: \"#a60000\"\n",
        "        code-copy: true\n",
        "        code-link: true\n",
        "        toc: true\n",
        "        toc-location: right\n",
        "        code-overflow: wrap\n",
        "    pdf: \n",
        "        documentclass: report\n",
        "        geometry:\n",
        "            - margin=1in\n",
        "        fontfamily: roboto\n",
        "        fontfamilyoptions: sfdefault\n",
        "        colorlinks: true\n",
        "    ipynb:\n",
        "        code-copy: true\n",
        "        code-overflow: wrap\n",
        "---\n",
        "\n",
        "\n",
        "# Introduction\n",
        "\n",
        "This Julia script is an interactive tutorial to introduce you to advanced variable handling in JuMP. You'll learn about creating variables in containers, managing different types of variables, and working with indexed variables. Follow the instructions, write your code in the designated code blocks, and confirm your understanding with `@assert` statements. Make sure to have the JuMP package installed to follow this tutorial.\n"
      ],
      "id": "cef17cdd"
    },
    {
      "cell_type": "code",
      "metadata": {},
      "source": [
        "#| output: false\n",
        "using JuMP"
      ],
      "id": "71292055",
      "execution_count": null,
      "outputs": []
    },
    {
      "cell_type": "markdown",
      "metadata": {},
      "source": [
        "Now, we need a model. As we don't solve anything in this tutorial, we don't need to add the solver and can solely define the abstract model.\n"
      ],
      "id": "02b1126f"
    },
    {
      "cell_type": "code",
      "metadata": {},
      "source": [
        "new_model = Model()"
      ],
      "id": "b0e3733b",
      "execution_count": null,
      "outputs": []
    },
    {
      "cell_type": "markdown",
      "metadata": {},
      "source": [
        "# Section 1 - Managing Different Types of Variables\n",
        "\n",
        "JuMP allows creating continuous, integer, and binary variables. For example:\n"
      ],
      "id": "64889fd8"
    },
    {
      "cell_type": "code",
      "metadata": {},
      "source": [
        "@variable(model, variableName)    "
      ],
      "id": "a4d1ee92",
      "execution_count": null,
      "outputs": []
    },
    {
      "cell_type": "markdown",
      "metadata": {},
      "source": [
        "This defines a continuous variable without any bound.\n"
      ],
      "id": "ff39eff9"
    },
    {
      "cell_type": "code",
      "metadata": {},
      "source": [
        "@variable(model, 0 <= variableName <= 1) "
      ],
      "id": "5280f518",
      "execution_count": null,
      "outputs": []
    },
    {
      "cell_type": "markdown",
      "metadata": {},
      "source": [
        "This defines a continuous variable in an interval.\n"
      ],
      "id": "93292374"
    },
    {
      "cell_type": "code",
      "metadata": {},
      "source": [
        "@variable(model, 0 <= variableName, Bin) "
      ],
      "id": "c553699a",
      "execution_count": null,
      "outputs": []
    },
    {
      "cell_type": "markdown",
      "metadata": {},
      "source": [
        "This defines a binary variable.\n"
      ],
      "id": "a2db5458"
    },
    {
      "cell_type": "code",
      "metadata": {},
      "source": [
        "@variable(model, 0 <= variableName, Int) "
      ],
      "id": "f0b7c016",
      "execution_count": null,
      "outputs": []
    },
    {
      "cell_type": "markdown",
      "metadata": {},
      "source": [
        "This defines an integer variable. Note that you will have to change `modelName` and `variableName` according to your instance.\n",
        "\n",
        "## Exercise 1.1 - Create Variables\n",
        "Create continuous, integer, and binary variables. Create three different variables of different types without any additional bound: `continuous_var` as a continuous variable for `new_model`, `integer_var` as an integer variable for `new_model`, and `binary_var` as a binary variable for `new_model`.\n"
      ],
      "id": "6da80266"
    },
    {
      "cell_type": "code",
      "metadata": {},
      "source": [
        "#| eval: false\n",
        "# YOUR CODE BELOW\n",
        "\n",
        "# Test your answer\n",
        "@assert typeof(continuous_var) == VariableRef && typeof(integer_var) == VariableRef\n",
        "@assert typeof(binary_var) == VariableRef\n",
        "println(\"Continuous, integer, and binary variables created successfully!\")"
      ],
      "id": "23803030",
      "execution_count": null,
      "outputs": []
    },
    {
      "cell_type": "markdown",
      "metadata": {},
      "source": [
        "# Section 2 - Creating Variables in Containers\n",
        "\n",
        "If we need to define larger models, creating each variable manually can become impossible. JuMP supports creating variables in containers like arrays, sets, dictionaries, and matrices. For example:\n"
      ],
      "id": "98e4bdf9"
    },
    {
      "cell_type": "code",
      "metadata": {},
      "source": [
        "@variable(modelName, variableName[1:20], Bin)"
      ],
      "id": "ef95b35e",
      "execution_count": null,
      "outputs": []
    },
    {
      "cell_type": "markdown",
      "metadata": {},
      "source": [
        "This would create a container with 20 variables. To create a set based on a range, we could do:\n"
      ],
      "id": "2d2a23c7"
    },
    {
      "cell_type": "code",
      "metadata": {},
      "source": [
        "new_range = 1:100\n",
        "@variable(modelName, variableName[i in new_range] >= 0)"
      ],
      "id": "3187e23c",
      "execution_count": null,
      "outputs": []
    },
    {
      "cell_type": "markdown",
      "metadata": {},
      "source": [
        "This would create a container with 100 continuous variables larger than 0. \n",
        "\n",
        "For a container with multiple dimensions:\n"
      ],
      "id": "1fa49702"
    },
    {
      "cell_type": "code",
      "metadata": {},
      "source": [
        "@variable(modelName, variableName[1:30, 1:30])"
      ],
      "id": "3bd8193e",
      "execution_count": null,
      "outputs": []
    },
    {
      "cell_type": "markdown",
      "metadata": {},
      "source": [
        "This would create a container with a matrix of continuous variables without any bound. Note that you will have to change `modelName` and `variableName` according to your instance.\n",
        "\n",
        "## Exercise 2.1 - Create an Array\n",
        "Create an array `X` for `new_model` containing 8 variables with non-negative lower bounds.\n"
      ],
      "id": "63e1cf8b"
    },
    {
      "cell_type": "code",
      "metadata": {},
      "source": [
        "# YOUR CODE BELOW\n",
        "\n",
        "# Test your answer\n",
        "@assert length(X) == 8 && all(lower_bound(X[i]) == 0 for i in 1:8)\n",
        "println(\"Array of variables created successfully!\")"
      ],
      "id": "2107a1dd",
      "execution_count": null,
      "outputs": []
    },
    {
      "cell_type": "markdown",
      "metadata": {},
      "source": [
        "## Exercise 2.2 - Create a Matrix\n",
        "Create a matrix `Y` for `new_model` containing binary variables with a size of 3 x 3.\n"
      ],
      "id": "a15955c8"
    },
    {
      "cell_type": "code",
      "metadata": {},
      "source": [
        "#| eval: false\n",
        "# YOUR CODE BELOW\n",
        "\n",
        "# Test your answer\n",
        "@assert size(Y, 1) == 3 && size(Y, 2) == 3\n",
        "@assert all(has_lower_bound(Y[i, j]) == false for i in 1:3, j in 1:3)\n",
        "@assert all(has_upper_bound(Y[i, j]) == false for i in 1:3, j in 1:3)\n",
        "println(\"Matrix of variables created successfully!\")"
      ],
      "id": "1ba16eaa",
      "execution_count": null,
      "outputs": []
    },
    {
      "cell_type": "markdown",
      "metadata": {},
      "source": [
        "## Exercise 2.3 - Create Indexed Variables\n",
        "Create indexed variables based on a set. Create variables `W` indexed by set `N` of size 1, 2, ..., 6 with non-negative lower bounds.\n"
      ],
      "id": "95fa96a3"
    },
    {
      "cell_type": "code",
      "metadata": {},
      "source": [
        "#| eval: false\n",
        "# YOUR CODE BELOW\n",
        "\n",
        "# Test your answer\n",
        "@assert length(W) == 6 && all(lower_bound(W[i]) == 0 for i in N)\n",
        "println(\"Indexed variables created successfully!\")"
      ],
      "id": "3a2ffa2b",
      "execution_count": null,
      "outputs": []
    },
    {
      "cell_type": "markdown",
      "metadata": {},
      "source": [
        "# Conclusion\n",
        "\n",
        "Fantastic! You've completed the tutorial on advanced variables in JuMP. You've learned how to create variables in containers, manage different types of variables, and work with indexed variables. Continue to the next file to learn more.\n",
        "\n",
        "\n",
        "# Solutions\n",
        "\n",
        "You will likely find solutions to most exercises online. However, I strongly encourage you to work on these exercises independently without searching explicitly for the exact answers to the exercises. Understanding someone else's solution is very different from developing your own. Use the lecture notes and try to solve the exercises on your own. This approach will significantly enhance your learning and problem-solving skills.\n",
        "\n",
        "Remember, the goal is not just to complete the exercises, but to understand the concepts and improve your programming abilities. If you encounter difficulties, review the lecture materials, experiment with different approaches, and don't hesitate to ask for clarification during class discussions.\n",
        "\n",
        "Later, you will find the solutions to these exercises online in the associated GitHub repository, but we will also quickly go over them in next week's tutorial. To access the solutions, click on the Github button on the lower right and search for the folder with today's lecture and tutorial. Alternatively, you can ask ChatGPT or Claude to explain them to you. But please remember, the goal is not just to complete the exercises, but to understand the concepts and improve your programming abilities.\n"
      ],
      "id": "5713bcc2"
    }
  ],
  "metadata": {
    "kernelspec": {
      "name": "julia-1.11",
      "language": "julia",
      "display_name": "Julia 1.11.1",
      "path": "/Users/tobiasvlcek/Library/Jupyter/kernels/julia-1.11"
    }
  },
  "nbformat": 4,
  "nbformat_minor": 5
}