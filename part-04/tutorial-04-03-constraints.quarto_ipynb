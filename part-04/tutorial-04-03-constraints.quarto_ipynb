{
  "cells": [
    {
      "cell_type": "markdown",
      "metadata": {},
      "source": [
        "---\n",
        "title: \"Tutorial IV.III - Constraints in JuMP\"\n",
        "subtitle: \"Applied Optimization with Julia\"\n",
        "\n",
        "format:\n",
        "    html:\n",
        "        theme: litera\n",
        "        highlight-style: arrow\n",
        "        linkcolor: \"#a60000\"\n",
        "        code-copy: true\n",
        "        code-link: true\n",
        "        toc: true\n",
        "        toc-location: right\n",
        "        code-overflow: wrap\n",
        "    pdf: \n",
        "        documentclass: report\n",
        "        geometry:\n",
        "            - margin=1in\n",
        "        fontfamily: roboto\n",
        "        fontfamilyoptions: sfdefault\n",
        "        colorlinks: true\n",
        "\n",
        "    ipynb:\n",
        "        code-copy: true\n",
        "        code-overflow: wrap\n",
        "        \n",
        "---\n",
        "\n",
        "\n",
        "\n",
        "\n",
        "\n",
        "\n",
        "\n",
        "\n",
        "# Introduction\n",
        "\n",
        "Welcome to this tutorial on constraints in JuMP! In this lesson, we'll explore how to add rules (constraints) to our optimization problems.\n",
        "\n",
        "By the end of this tutorial, you'll be able to:\n",
        "1. Create simple constraints for your optimization problems\n",
        "2. Use containers (like arrays) to manage multiple similar constraints\n",
        "3. Create more complex constraints based on conditions\n",
        "\n",
        "Let's start by loading the necessary packages:\n"
      ],
      "id": "f212ed15"
    },
    {
      "cell_type": "code",
      "metadata": {},
      "source": [
        "#| eval: true\n",
        "#| output: false\n",
        "#| echo: false\n",
        "Pkg.add(\"JuMP\", \"HiGHS\")"
      ],
      "id": "489e8714",
      "execution_count": null,
      "outputs": []
    },
    {
      "cell_type": "code",
      "metadata": {},
      "source": [
        "#| eval: true\n",
        "using JuMP, HiGHS"
      ],
      "id": "88129a00",
      "execution_count": null,
      "outputs": []
    },
    {
      "cell_type": "markdown",
      "metadata": {},
      "source": [
        "Now, let's create a model that we'll use throughout this tutorial:\n"
      ],
      "id": "8d818a85"
    },
    {
      "cell_type": "code",
      "metadata": {},
      "source": [
        "#| eval: false\n",
        "another_model = Model(HiGHS.Optimizer)\n",
        "println(\"Great! We've created a new optimization model.\")"
      ],
      "id": "3805d98e",
      "execution_count": null,
      "outputs": []
    },
    {
      "cell_type": "markdown",
      "metadata": {},
      "source": [
        "# Section 1 - Objective Functions with Container Variables\n",
        "\n",
        "Defining objective functions with variables in containers allows for scalable and dynamic model formulations. First, we need a container with variables for the objective function. For example:\n",
        "\n",
        "```julia\n",
        "@variable(modelName, variableName[1:3] >= 0)\n",
        "```\n",
        "\n",
        "Now, we can define an objective function with the container. For example:\n",
        "\n",
        "```julia\n",
        "@objective(modelName, Max, sum(variableName[i] for i in 1:3))\n",
        "```\n",
        "\n",
        "## Exercise 1.1 - Define arrays\n",
        "\n",
        "Scenario: Imagine you're optimizing the production of 8 different products in a factory. Each product has a different profit margin, and you want to maximize total profit.\n",
        "\n",
        "Define an array of variables and an objective function for `another_model`. The variables should be called `profits` and have a range from `1:8`. It has a lower bound of `0`. The objective should be a Maximization of the sum of all `profits`.\n"
      ],
      "id": "643b103d"
    },
    {
      "cell_type": "code",
      "metadata": {},
      "source": [
        "#| eval: false\n",
        "# YOUR CODE BELOW"
      ],
      "id": "c51c6b94",
      "execution_count": null,
      "outputs": []
    },
    {
      "cell_type": "code",
      "metadata": {},
      "source": [
        "#| eval: false\n",
        "#| code-fold: true\n",
        "# Test your answer\n",
        "@assert length(profits) == 8 && all(lower_bound(profits[i]) == 0 for i in 1:8)\n",
        "@assert typeof(objective_function(another_model)) == AffExpr\n",
        "println(\"Objective function with container variables defined successfully!\")"
      ],
      "id": "ee44caf5",
      "execution_count": null,
      "outputs": []
    },
    {
      "cell_type": "markdown",
      "metadata": {},
      "source": [
        "# Section 2 - Constraints within Containers\n",
        "\n",
        "Defining constraints within containers allows for structured and easily manageable models. This is especially important when models become larger! To define a constraint within a container, we can do, for example, the following:\n",
        "\n",
        "```julia\n",
        "@constraint(modelName, \n",
        "    constraintName[i in 1:3], \n",
        "    variableName[i] <= 100\n",
        ")\n",
        "```\n",
        "\n",
        "This would create a constraint called `constraintName` for each `i` - thus `1`,`2`, and `3` - where `variableName[1]`, `variableName[2]`, and `variableName[3]` are restricted to be maximally `100`.\n",
        "\n",
        "# Exercise 2.1 - Define constraints\n",
        "\n",
        "Continuing our factory scenario: Each product has a maximum daily production capacity due to machine limitations.\n",
        "\n",
        "Define constraints called `maxProfit` using an array of variables. The logic: Each profit defined in the previous task should be less than or equal to `12`.\n"
      ],
      "id": "29c6eedc"
    },
    {
      "cell_type": "code",
      "metadata": {},
      "source": [
        "#| eval: false\n",
        "# YOUR CODE BELOW"
      ],
      "id": "46862685",
      "execution_count": null,
      "outputs": []
    },
    {
      "cell_type": "code",
      "metadata": {},
      "source": [
        "#| eval: false\n",
        "#| code-fold: true\n",
        "# Test your answer\n",
        "@assert all(is_valid(another_model, maxProfit[i]) for i in 1:8)\n",
        "println(\"Constraints within containers defined successfully!\")"
      ],
      "id": "4859c378",
      "execution_count": null,
      "outputs": []
    },
    {
      "cell_type": "markdown",
      "metadata": {},
      "source": [
        "# Section 3 - Implementing Conditional Constraints\n",
        "\n",
        "Conditional constraints are added to the model based on certain conditions, allowing for dynamic and flexible model formulations. To define a constraint within a container under conditions, we can do the following:\n",
        "\n",
        "```julia\n",
        "@constraint(modelName, \n",
        "    constraintName[i in 1:3; i <= 2], \n",
        "    variableName[i] <= 50\n",
        ")\n",
        "```\n",
        "\n",
        "This would create a constraint called `constraintName` for each `i` - thus `1`,`2`, and `3` - where `variableName[1]`, `variableName[2]` are restricted to be maximally `50` and `variableName[3]` was not restricted.\n",
        "\n",
        "## Exercise 3.1 - Add a conditional constraints\n",
        "\n",
        "Scenario extension: The first 4 products are new and have limited market demand.\n",
        "\n",
        "Add a conditional constraint `smallProfit` to the previous model. Condition: Only the first 4 variables profit have to be lower than 5.\n"
      ],
      "id": "1635b59e"
    },
    {
      "cell_type": "code",
      "metadata": {},
      "source": [
        "#| eval: false\n",
        "# YOUR CODE BELOW"
      ],
      "id": "ff02040d",
      "execution_count": null,
      "outputs": []
    },
    {
      "cell_type": "code",
      "metadata": {},
      "source": [
        "#| eval: false\n",
        "#| code-fold: true\n",
        "# Test your answer\n",
        "@assert all(is_valid(another_model, smallProfit[i]) for i in 1:4)\n",
        "println(\"Conditional constraint implemented successfully!\")\n",
        "println(\"Checking successful implementation.\")\n",
        "optimize!(another_model)\n",
        "status = termination_status(another_model)\n",
        "@assert status == MOI.OPTIMAL \"Sorry, something didn't work out as the model status is $status\"\n",
        "@assert objective_value(another_model) ≈ 68 atol=1e-4 \"Although you have an optimal solution, \n",
        "    the should be 68 not $(objective_value(another_model)). Is the model correct?\"\n",
        "println(\"Model components validated successfully!\")"
      ],
      "id": "ae7c969d",
      "execution_count": null,
      "outputs": []
    },
    {
      "cell_type": "markdown",
      "metadata": {},
      "source": [
        "# Visualization of Results\n",
        "\n",
        "Let's visualize our optimal solution:\n"
      ],
      "id": "550ea79d"
    },
    {
      "cell_type": "code",
      "metadata": {},
      "source": [
        "#| eval: false\n",
        "using Plots\n",
        "# Assuming the model has been solved!!!\n",
        "optimal_profits = value.(profits)\n",
        "\n",
        "bar(1:8, optimal_profits, \n",
        "    title=\"Optimal Production Levels\", \n",
        "    xlabel=\"Product\", \n",
        "    ylabel=\"Profit\", \n",
        "    legend=false)"
      ],
      "id": "ef770c57",
      "execution_count": null,
      "outputs": []
    },
    {
      "cell_type": "markdown",
      "metadata": {},
      "source": [
        "# Conclusion\n",
        "\n",
        "Congratulations! You've completed the tutorial on advanced handling of objective functions and constraints in JuMP. You've learned how to define objective functions and constraints using container variables. Continue to the next file to learn more."
      ],
      "id": "e9487e26"
    }
  ],
  "metadata": {
    "kernelspec": {
      "name": "julia-1.11",
      "language": "julia",
      "display_name": "Julia 1.11.1",
      "path": "/Users/tvlcek/Library/Jupyter/kernels/julia-1.11"
    }
  },
  "nbformat": 4,
  "nbformat_minor": 5
}