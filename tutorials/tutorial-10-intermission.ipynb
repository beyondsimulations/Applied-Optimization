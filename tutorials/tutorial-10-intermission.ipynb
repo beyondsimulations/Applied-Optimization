{
  "cells": [
    {
      "cell_type": "markdown",
      "metadata": {},
      "source": [
        "# Tutorial X - Intermission: Exam Preparation\n",
        "\n",
        "Applied Optimization with Julia\n",
        "\n",
        "# Introduction\n",
        "\n",
        "This tutorial is another short intermission to give you an idea of the\n",
        "structure of the exam. You can hand in your answers at the end to\n",
        "receive half a **bonus point**, if at least 75 % of the answers are\n",
        "correct and you describe your work clearly. If you have any questions or\n",
        "suggestions on how to improve the structure of the exam, please ask\n",
        "them.\n",
        "\n",
        "The exam is just meant to be a **tool** to check your understanding of\n",
        "the material and to give you a chance to show your skills. It is not\n",
        "meant to be a stressful event or a punishment. If you have followed the\n",
        "course and put in the effort, you should be able to pass the exam with a\n",
        "good grade.\n",
        "\n",
        "> **Tip**\n",
        ">\n",
        "> As some of these tasks are difficult to answer on a computer, you can\n",
        "> hand in your answer scanned or written digitally on an iPad or Laptop.\n",
        "\n",
        "------------------------------------------------------------------------\n",
        "\n",
        "# Part I\n",
        "\n",
        "## 1.a (6 Points)\n",
        "\n",
        "As temperatures rise due to global warming, so does the demand for ice\n",
        "cream. The ice cream company was amazed by your transportation plan from\n",
        "the lecture and asked if you could help with their production plan.\n",
        "\n",
        "The company wants to optimize its production to keep up with the\n",
        "customer demand. To do so, they offer different flavors of ice cream\n",
        "that are made and stored in a warehouse. Each flavor has a unique\n",
        "production time per unit of ice cream and no setup time for the\n",
        "production. In the first period, the company has 100 units of each\n",
        "flavor in storage at the end of the period.\n",
        "\n",
        "Furthermore, each setup of a different flavor costs a fixed amount of\n",
        "money identical for all flavors and periods, while the ice cream storage\n",
        "costs in the warehouse are different for each flavor but identical for\n",
        "all periods. These storage costs occur at the end of each period per\n",
        "unit of ice cream for all units not sold to cover the varying demand per\n",
        "flavor and period.\n",
        "\n",
        "Each period matches a shift length of a certain number of hours,\n",
        "identical for all periods. The objective is to minimize the total cost\n",
        "of production and storage while satisfying all demands and production\n",
        "capacities.\n",
        "\n",
        "Define all sets, parameters and variables required to model the problem\n",
        "described above. Select a suitable notation of your choice. Make sure to\n",
        "explicitly state in your notation which elements are sets, parameters\n",
        "and variables.\n",
        "\n",
        "> **Tip**\n",
        ">\n",
        "> Note that the problem does not have to be modeled yet!"
      ],
      "id": "49506593-cfea-4e81-b1fb-d102c33e33f9"
    },
    {
      "cell_type": "raw",
      "metadata": {
        "raw_mimetype": "tex"
      },
      "source": [
        "\\vspace{0.1in}"
      ],
      "id": "fc4b41af-e4cd-48e6-b29a-4508e170d48f"
    },
    {
      "cell_type": "code",
      "execution_count": 2,
      "metadata": {},
      "outputs": [],
      "source": [
        "# Your answer here\n",
        "|\n",
        "|\n",
        "|\n",
        "|\n",
        "|\n",
        "|\n",
        "|\n",
        "|\n",
        "|\n",
        "|\n",
        "|\n",
        "|\n",
        "|\n",
        "|"
      ],
      "id": "e0290be2"
    },
    {
      "cell_type": "raw",
      "metadata": {
        "raw_mimetype": "tex"
      },
      "source": [
        "\\newpage"
      ],
      "id": "54844c19-36b0-460d-bf07-52b6ac34ea73"
    },
    {
      "cell_type": "markdown",
      "metadata": {},
      "source": [
        "------------------------------------------------------------------------\n",
        "\n",
        "## 1.b (3 Points)\n",
        "\n",
        "Please define the objective function to model the described problem\n",
        "based on your defined notation.\n",
        "\n",
        "> **Tip**\n",
        ">\n",
        "> If you need additional sets, parameters or variables that are not yet\n",
        "> defined, please define them as well."
      ],
      "id": "408e4bbc-f4f3-4678-a321-97ce4bbf137e"
    },
    {
      "cell_type": "raw",
      "metadata": {
        "raw_mimetype": "tex"
      },
      "source": [
        "\\vspace{0.1in}"
      ],
      "id": "66f1e3f0-f9c8-4c12-a87e-f7a13e148f23"
    },
    {
      "cell_type": "code",
      "execution_count": 3,
      "metadata": {},
      "outputs": [],
      "source": [
        "# Your answer here\n",
        "|\n",
        "|\n",
        "|\n",
        "|\n",
        "|\n",
        "|\n",
        "|\n",
        "|\n",
        "|\n",
        "|\n",
        "|\n",
        "|\n",
        "|\n",
        "|"
      ],
      "id": "19f731ef"
    },
    {
      "cell_type": "raw",
      "metadata": {
        "raw_mimetype": "tex"
      },
      "source": [
        "\\newpage"
      ],
      "id": "c6a5a967-c6e7-41c1-aa0d-c21103da4f8d"
    },
    {
      "cell_type": "markdown",
      "metadata": {},
      "source": [
        "------------------------------------------------------------------------\n",
        "\n",
        "## 1.c (6 Points)\n",
        "\n",
        "Please define all necessary constraints and the variable ranges to model\n",
        "the described problem based on your notation.\n",
        "\n",
        "> **Tip**\n",
        ">\n",
        "> If you need additional sets, parameters or variables that are not yet\n",
        "> defined, please define them as well."
      ],
      "id": "e60618e1-c730-4b09-bbcb-21338a3e5cc9"
    },
    {
      "cell_type": "raw",
      "metadata": {
        "raw_mimetype": "tex"
      },
      "source": [
        "\\vspace{0.1in}"
      ],
      "id": "9fe23353-0853-48ea-9d87-a8703fc6b56c"
    },
    {
      "cell_type": "code",
      "execution_count": 4,
      "metadata": {},
      "outputs": [],
      "source": [
        "# Your answer here\n",
        "|\n",
        "|\n",
        "|\n",
        "|\n",
        "|\n",
        "|\n",
        "|\n",
        "|\n",
        "|\n",
        "|\n",
        "|\n",
        "|\n",
        "|\n",
        "|"
      ],
      "id": "ff060c9e"
    },
    {
      "cell_type": "raw",
      "metadata": {
        "raw_mimetype": "tex"
      },
      "source": [
        "\\newpage"
      ],
      "id": "a84253c7-6e05-4a44-9bd9-8c188694abe1"
    },
    {
      "cell_type": "markdown",
      "metadata": {},
      "source": [
        "------------------------------------------------------------------------\n",
        "\n",
        "## 1.d (2 Points)\n",
        "\n",
        "Is the model formulation a nonlinear problem with continuous variables?\n",
        "\n",
        "Please explain your answer briefly."
      ],
      "id": "9f871332-ea40-4913-ba31-04a6282fd1c8"
    },
    {
      "cell_type": "raw",
      "metadata": {
        "raw_mimetype": "tex"
      },
      "source": [
        "\\vspace{0.1in}"
      ],
      "id": "6ba9b559-1229-435e-825e-09833646bd7a"
    },
    {
      "cell_type": "code",
      "execution_count": 5,
      "metadata": {},
      "outputs": [],
      "source": [
        "# Your answer here\n",
        "|\n",
        "|\n",
        "|\n",
        "|\n",
        "|\n",
        "|\n",
        "|\n",
        "|\n",
        "|\n",
        "|\n",
        "|\n",
        "|\n",
        "|\n",
        "|"
      ],
      "id": "1ee73ed5"
    },
    {
      "cell_type": "raw",
      "metadata": {
        "raw_mimetype": "tex"
      },
      "source": [
        "\\newpage"
      ],
      "id": "59a227e5-f5cb-4b45-b727-5ecc11769ca1"
    },
    {
      "cell_type": "markdown",
      "metadata": {},
      "source": [
        "------------------------------------------------------------------------\n",
        "\n",
        "## 1.e (9 Points)\n",
        "\n",
        "Due to the success of the companies, workers demand higher wages and a\n",
        "compensation for working overtime. Your task is to extend the model to\n",
        "reflect this new situation. In the future, each worked hour in a period\n",
        "has a fixed cost per shift hour, identical for all periods. If the\n",
        "production time in one period exceeds the shift-length, workers have to\n",
        "work overtime. For each hour working overtime, the fixed costs per hour\n",
        "are 50% higher than usual. Furthermore, more than an additional time of\n",
        "a half a shift length is not allowed due to legal reasons.\n",
        "\n",
        "How can you expand your model to reflect this new situation? Write down\n",
        "all additional or modified sets, parameters, variables, constraints and\n",
        "the objective function while describing each with a few words.\n",
        "\n",
        "> **Tip**\n",
        ">\n",
        "> Note, that you only need to write down new and modified elements!"
      ],
      "id": "746482fb-e29a-491b-a7c5-d45b690907fe"
    },
    {
      "cell_type": "raw",
      "metadata": {
        "raw_mimetype": "tex"
      },
      "source": [
        "\\vspace{0.1in}"
      ],
      "id": "15094249-a36e-4162-99dd-b55887d5db53"
    },
    {
      "cell_type": "code",
      "execution_count": 6,
      "metadata": {},
      "outputs": [],
      "source": [
        "# Your answer here\n",
        "|\n",
        "|\n",
        "|\n",
        "|\n",
        "|\n",
        "|\n",
        "|\n",
        "|\n",
        "|\n",
        "|\n",
        "|\n",
        "|\n",
        "|\n",
        "|"
      ],
      "id": "be881725"
    },
    {
      "cell_type": "raw",
      "metadata": {
        "raw_mimetype": "tex"
      },
      "source": [
        "\\newpage"
      ],
      "id": "1ce30abb-d859-4c11-a57b-2768734bd41a"
    },
    {
      "cell_type": "markdown",
      "metadata": {},
      "source": [
        "------------------------------------------------------------------------\n",
        "\n",
        "## 1.f (4 points)\n",
        "\n",
        "What assumptions are made in the model that might not hold in the real\n",
        "world?\n",
        "\n",
        "Please describe at least two assumptions with a 1-3 sentences and\n",
        "explain briefly why they might not hold."
      ],
      "id": "e3910978-0c27-438e-97f9-57c25186b3ed"
    },
    {
      "cell_type": "raw",
      "metadata": {
        "raw_mimetype": "tex"
      },
      "source": [
        "\\vspace{0.1in}"
      ],
      "id": "ba9bda0d-535c-498a-9654-54b9b1bf7a08"
    },
    {
      "cell_type": "code",
      "execution_count": 7,
      "metadata": {},
      "outputs": [],
      "source": [
        "# Your answer here\n",
        "|\n",
        "|\n",
        "|\n",
        "|\n",
        "|\n",
        "|\n",
        "|\n",
        "|\n",
        "|\n",
        "|\n",
        "|\n",
        "|\n",
        "|\n",
        "|"
      ],
      "id": "425e60c9"
    },
    {
      "cell_type": "raw",
      "metadata": {
        "raw_mimetype": "tex"
      },
      "source": [
        "\\newpage"
      ],
      "id": "90ae4790-2e47-4de2-ac42-7972522b4405"
    },
    {
      "cell_type": "markdown",
      "metadata": {},
      "source": [
        "------------------------------------------------------------------------\n",
        "\n",
        "# Part II\n",
        "\n",
        "## 2.a (6 Points)\n",
        "\n",
        "Throughout the course, we covered several different optimization\n",
        "problems. For one of the following two problems, briefly:\n",
        "\n",
        "-   Describe the main objective of the problem (2 points)\n",
        "-   Describe two key assumptions of the model (2 points per assumption)\n",
        "\n",
        "Choose from:\n",
        "\n",
        "-   Transportation Problem (Solar Panel Transport)\n",
        "-   Split Order Minimization Problem (E-Commerce)"
      ],
      "id": "cb27986c-9a24-4ed6-9997-e5150d6ef4e1"
    },
    {
      "cell_type": "raw",
      "metadata": {
        "raw_mimetype": "tex"
      },
      "source": [
        "\\vspace{0.1in}"
      ],
      "id": "88143b6f-d552-463e-ade2-c886211f2aff"
    },
    {
      "cell_type": "code",
      "execution_count": 8,
      "metadata": {},
      "outputs": [],
      "source": [
        "# Your answer here\n",
        "|\n",
        "|\n",
        "|\n",
        "|\n",
        "|\n",
        "|\n",
        "|\n",
        "|\n",
        "|\n",
        "|\n",
        "|\n",
        "|\n",
        "|\n",
        "|"
      ],
      "id": "acb88f7c"
    },
    {
      "cell_type": "raw",
      "metadata": {
        "raw_mimetype": "tex"
      },
      "source": [
        "\\newpage"
      ],
      "id": "757cf215-4393-4ac6-a9f9-c8b8191e590f"
    },
    {
      "cell_type": "markdown",
      "metadata": {},
      "source": [
        "------------------------------------------------------------------------\n",
        "\n",
        "## 2.b (4 Points)\n",
        "\n",
        "You are trying to solve the capacitated vehicle routing problem with\n",
        "more than 500 customers and 10 vehicles. Unfortunately, your computer is\n",
        "not able to handle the problem. What could you try to solve the problem\n",
        "instead?\n",
        "\n",
        "Please describe one approach to adress the problem and describe the\n",
        "advantages and disadvantages of the approach in a few sentences."
      ],
      "id": "13984783-4b9c-4b33-b134-56924ba64688"
    },
    {
      "cell_type": "raw",
      "metadata": {
        "raw_mimetype": "tex"
      },
      "source": [
        "\\vspace{0.1in}"
      ],
      "id": "eec29a42-5353-4ec0-9dfa-79ebff4f111b"
    },
    {
      "cell_type": "code",
      "execution_count": 9,
      "metadata": {},
      "outputs": [],
      "source": [
        "# Your answer here\n",
        "|\n",
        "|\n",
        "|\n",
        "|\n",
        "|\n",
        "|\n",
        "|\n",
        "|\n",
        "|\n",
        "|\n",
        "|\n",
        "|\n",
        "|\n",
        "|"
      ],
      "id": "14de1f09"
    },
    {
      "cell_type": "raw",
      "metadata": {
        "raw_mimetype": "tex"
      },
      "source": [
        "\\newpage"
      ],
      "id": "69eb3af7-0e02-43a0-895c-37f1fd3f86e6"
    },
    {
      "cell_type": "markdown",
      "metadata": {},
      "source": [
        "------------------------------------------------------------------------\n",
        "\n",
        "## 2.c (3 Points)\n",
        "\n",
        "Suppose you aim to improve the shifts of workers in a hospital. As the\n",
        "administration finds it difficult to find new workers, they want to\n",
        "optimize the shifts of the current workers to improve their\n",
        "satisfaction. What potential objective could be used in an objective\n",
        "function?\n",
        "\n",
        "Please describe the objective function and explain why it would be a\n",
        "good choice for the problem.\n",
        "\n",
        "> **Tip**\n",
        ">\n",
        "> You don’t need to write any code or mathematical model here!"
      ],
      "id": "a15abbd5-52c4-443a-a1b0-727550ee783d"
    },
    {
      "cell_type": "raw",
      "metadata": {
        "raw_mimetype": "tex"
      },
      "source": [
        "\\vspace{0.1in}"
      ],
      "id": "489eebf1-0a4b-4015-810a-4851606177d6"
    },
    {
      "cell_type": "code",
      "execution_count": 10,
      "metadata": {},
      "outputs": [],
      "source": [
        "# Your answer here\n",
        "|\n",
        "|\n",
        "|\n",
        "|\n",
        "|\n",
        "|\n",
        "|\n",
        "|\n",
        "|\n",
        "|\n",
        "|\n",
        "|\n",
        "|\n",
        "|"
      ],
      "id": "b6a30437"
    },
    {
      "cell_type": "raw",
      "metadata": {
        "raw_mimetype": "tex"
      },
      "source": [
        "\\newpage"
      ],
      "id": "6d7b1ca8-a078-4bab-97c7-03c364142835"
    },
    {
      "cell_type": "markdown",
      "metadata": {},
      "source": [
        "------------------------------------------------------------------------\n",
        "\n",
        "## 2.d (2 Points)\n",
        "\n",
        "What is the purpose of a solver used in Mathematical Programming?\n",
        "\n",
        "Please describe the answer in your own words in 2-3 sentences."
      ],
      "id": "35277ca9-4409-4b9c-a26d-1976d70250f8"
    },
    {
      "cell_type": "raw",
      "metadata": {
        "raw_mimetype": "tex"
      },
      "source": [
        "\\vspace{0.1in}"
      ],
      "id": "380f95c8-4461-495e-b34f-8a94a8377e7b"
    },
    {
      "cell_type": "code",
      "execution_count": 11,
      "metadata": {},
      "outputs": [],
      "source": [
        "# Your answer here\n",
        "|\n",
        "|\n",
        "|\n",
        "|\n",
        "|\n",
        "|\n",
        "|\n",
        "|\n",
        "|\n",
        "|\n",
        "|\n",
        "|\n",
        "|\n",
        "|"
      ],
      "id": "54bfc46d"
    },
    {
      "cell_type": "raw",
      "metadata": {
        "raw_mimetype": "tex"
      },
      "source": [
        "\\newpage"
      ],
      "id": "7d1744be-4315-4373-8997-713bdb2e6095"
    },
    {
      "cell_type": "markdown",
      "metadata": {},
      "source": [
        "------------------------------------------------------------------------\n",
        "\n",
        "# Part III\n",
        "\n",
        "## 3.a (3 Points)\n",
        "\n",
        "Create a JuMP variable with the following properties: A continuous\n",
        "variable `Production[t,p]` for time periods $t \\in 1:T$ and products\n",
        "$p \\in 1:P$ which must be non-negative and has an upper bound stored in\n",
        "parameter `capacity[t,p]`. All parameters (`T`, `P`, `capacity`) are\n",
        "already defined, the model is not created yet.\n",
        "\n",
        "Specify the definition of the variable in correct Julia syntax."
      ],
      "id": "2ce623e1-5eaa-475c-8cff-6cc1699833eb"
    },
    {
      "cell_type": "raw",
      "metadata": {
        "raw_mimetype": "tex"
      },
      "source": [
        "\\vspace{0.1in}"
      ],
      "id": "d64f032a-549d-4962-b361-ddd658a89929"
    },
    {
      "cell_type": "code",
      "execution_count": 14,
      "metadata": {},
      "outputs": [],
      "source": [
        "# Your answer here\n",
        "|\n",
        "|\n",
        "|\n",
        "|\n",
        "|\n",
        "|\n",
        "|\n",
        "|\n",
        "|\n",
        "|\n",
        "|\n",
        "|\n",
        "|\n",
        "|"
      ],
      "id": "4357c284"
    },
    {
      "cell_type": "raw",
      "metadata": {
        "raw_mimetype": "tex"
      },
      "source": [
        "\\newpage"
      ],
      "id": "75b32e52-3e13-4f8c-8095-ca58a765c784"
    },
    {
      "cell_type": "markdown",
      "metadata": {},
      "source": [
        "------------------------------------------------------------------------\n",
        "\n",
        "## 3.b (3 Points)\n",
        "\n",
        "Write JuMP code to implement the following constraint:\n",
        "\n",
        "$$\\sum_{f \\in F} Y_{f,z} \\leq 1 \\quad \\forall z \\in Z$$\n",
        "\n",
        "Assume variables `Y` is already defined as binary variables and the sets\n",
        "`F` and `Z` are already defined as well. The model is also already\n",
        "created.\n",
        "\n",
        "Specify the definition of the constraint in correct Julia syntax."
      ],
      "id": "d3f26ac1-549f-4a07-9294-24b7a62b8118"
    },
    {
      "cell_type": "raw",
      "metadata": {
        "raw_mimetype": "tex"
      },
      "source": [
        "\\vspace{0.1in}"
      ],
      "id": "1e677cf3-0fd3-4a1e-baeb-f51bd1228822"
    },
    {
      "cell_type": "code",
      "execution_count": 17,
      "metadata": {},
      "outputs": [],
      "source": [
        "# Your answer here\n",
        "|\n",
        "|\n",
        "|\n",
        "|\n",
        "|\n",
        "|\n",
        "|\n",
        "|\n",
        "|\n",
        "|\n",
        "|\n",
        "|\n",
        "|\n",
        "|"
      ],
      "id": "6ef9e4a5"
    },
    {
      "cell_type": "raw",
      "metadata": {
        "raw_mimetype": "tex"
      },
      "source": [
        "\\newpage"
      ],
      "id": "6641a861-589c-46b2-9caa-8ada0bfa3930"
    },
    {
      "cell_type": "markdown",
      "metadata": {},
      "source": [
        "------------------------------------------------------------------------\n",
        "\n",
        "## 3.c (2 Points)\n",
        "\n",
        "You are given the following JuMP code with a constraint that is not\n",
        "correctly implemented.\n",
        "\n",
        "``` julia\n",
        "@constraint(sum(X[i,j] for i in 1:10, j in 1:5) == 10)\n",
        "```\n",
        "\n",
        "Please explain why the constraint is not correctly implemented and how\n",
        "it can be fixed."
      ],
      "id": "d4eb03ba-3183-49ab-bbc9-d33aa8b9ba26"
    },
    {
      "cell_type": "raw",
      "metadata": {
        "raw_mimetype": "tex"
      },
      "source": [
        "\\vspace{0.1in}"
      ],
      "id": "d7422d51-870b-4311-9b30-a69bca70f60a"
    },
    {
      "cell_type": "code",
      "execution_count": 21,
      "metadata": {},
      "outputs": [],
      "source": [
        "# Your answer here\n",
        "|\n",
        "|\n",
        "|\n",
        "|\n",
        "|\n",
        "|\n",
        "|\n",
        "|\n",
        "|\n",
        "|\n",
        "|\n",
        "|\n",
        "|\n",
        "|"
      ],
      "id": "a9e65dd9"
    },
    {
      "cell_type": "raw",
      "metadata": {
        "raw_mimetype": "tex"
      },
      "source": [
        "\\newpage"
      ],
      "id": "e7132824-d566-4c74-ba00-d25b1bb75342"
    },
    {
      "cell_type": "markdown",
      "metadata": {},
      "source": [
        "------------------------------------------------------------------------\n",
        "\n",
        "## 3.d (2 Points)\n",
        "\n",
        "What is the difference between a tuple and an array (vector) in Julia?\n",
        "\n",
        "Please describe the difference in a 1-3 sentences."
      ],
      "id": "48d864f0-d4fc-46f0-affe-78a0c50ee097"
    },
    {
      "cell_type": "raw",
      "metadata": {
        "raw_mimetype": "tex"
      },
      "source": [
        "\\vspace{0.1in}"
      ],
      "id": "56917b46-cfca-4ee0-8ee8-21e004d5cfac"
    },
    {
      "cell_type": "code",
      "execution_count": 22,
      "metadata": {},
      "outputs": [],
      "source": [
        "# Your answer here\n",
        "|\n",
        "|\n",
        "|\n",
        "|\n",
        "|\n",
        "|\n",
        "|\n",
        "|\n",
        "|\n",
        "|\n",
        "|\n",
        "|\n",
        "|\n",
        "|"
      ],
      "id": "f69e9fa3"
    },
    {
      "cell_type": "raw",
      "metadata": {
        "raw_mimetype": "tex"
      },
      "source": [
        "\\newpage"
      ],
      "id": "125bdb0e-47cd-43db-88b7-26c2e2d65372"
    },
    {
      "cell_type": "markdown",
      "metadata": {},
      "source": [
        "------------------------------------------------------------------------\n",
        "\n",
        "## 3.e (5 Points)\n",
        "\n",
        "You are given the following code in Julia:"
      ],
      "id": "306a93b0-5aab-459c-abb3-b3cf934f5d7b"
    },
    {
      "cell_type": "code",
      "execution_count": 23,
      "metadata": {},
      "outputs": [],
      "source": [
        "mySet = 1:8\n",
        "vectorA = [\"Hello\", \"World\"]\n",
        "for i in mySet\n",
        "    if i <= 2\n",
        "        println(vectorA[i])\n",
        "    elseif i <= 4\n",
        "        println(vectorA[i-2])\n",
        "    elseif i > 6 && i <= 8\n",
        "        println(\"This is $i\")\n",
        "    elseif i == 9\n",
        "        break\n",
        "    else\n",
        "        println(\"Hi $i\")\n",
        "    end\n",
        "end"
      ],
      "id": "f6c3b44a"
    },
    {
      "cell_type": "markdown",
      "metadata": {},
      "source": [
        "Please write down the output of the code."
      ],
      "id": "7c65970f-f964-48b5-9113-18712ccdf114"
    },
    {
      "cell_type": "raw",
      "metadata": {
        "raw_mimetype": "tex"
      },
      "source": [
        "\\vspace{0.1in}"
      ],
      "id": "78a0adcf-341b-4f1e-867d-40ddce4e6b11"
    },
    {
      "cell_type": "code",
      "execution_count": 25,
      "metadata": {},
      "outputs": [],
      "source": [
        "# Your answer here\n",
        "|\n",
        "|\n",
        "|\n",
        "|\n",
        "|\n",
        "|\n",
        "|\n",
        "|\n",
        "|\n",
        "|\n",
        "|\n",
        "|\n",
        "|\n",
        "|"
      ],
      "id": "21456374"
    },
    {
      "cell_type": "raw",
      "metadata": {
        "raw_mimetype": "tex"
      },
      "source": [
        "\\newpage"
      ],
      "id": "3cd7e06f-fa37-4452-ad9c-064d1b1190d4"
    }
  ],
  "nbformat": 4,
  "nbformat_minor": 5,
  "metadata": {
    "kernelspec": {
      "name": "julia-1.11",
      "display_name": "Julia 1.11.6",
      "language": "julia",
      "path": "/Users/vlcek/Library/Jupyter/kernels/julia-1.11"
    },
    "language_info": {
      "name": "julia",
      "file_extension": ".jl",
      "mimetype": "application/julia",
      "version": "1.11.6"
    }
  }
}