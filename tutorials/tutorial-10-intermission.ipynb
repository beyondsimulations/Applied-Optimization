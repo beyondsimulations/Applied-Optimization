{
  "cells": [
    {
      "cell_type": "markdown",
      "metadata": {},
      "source": [
        "# Tutorial X - Intermission: Exam Preparation\n",
        "\n",
        "Applied Optimization with Julia\n",
        "\n",
        "# Introduction\n",
        "\n",
        "This tutorial is another short intermission to give you an idea of the\n",
        "structure of the exam. You can hand in your answers at the end to\n",
        "receive half a **bonus point**, if at least 75 % of the answers are\n",
        "correct and you describe your work clearly. If you have any questions or\n",
        "suggestions on how to improve the structure of the exam, please ask\n",
        "them.\n",
        "\n",
        "The exam is just meant to be a **tool** to check your understanding of\n",
        "the material and to give you a chance to show your skills. It is not\n",
        "meant to be a stressful event or a punishment. If you have followed the\n",
        "course and put in the effort, you should be able to pass the exam with a\n",
        "good grade.\n",
        "\n",
        "> **Tip**\n",
        ">\n",
        "> As some of these tasks are difficult to answer on a computer, you can\n",
        "> hand in your answer scanned or written digitally on an iPad or Laptop.\n",
        "\n",
        "------------------------------------------------------------------------\n",
        "\n",
        "# Part I\n",
        "\n",
        "## 1.a (6 Points)\n",
        "\n",
        "As temperatures rise due to global warming, so does the demand for ice\n",
        "cream. The ice cream company was amazed by your transportation plan from\n",
        "the lecture and asked if you could help with their production plan.\n",
        "\n",
        "The company wants to optimize its production to keep up with the\n",
        "customer demand. To do so, they offer different flavors of ice cream\n",
        "that are made and stored in a warehouse. Each flavor has a unique\n",
        "production time per unit of ice cream and no setup time for the\n",
        "production. In the first period, the company has 100 units of each\n",
        "flavor in storage at the end of the period.\n",
        "\n",
        "Furthermore, each setup of a different flavor costs a fixed amount of\n",
        "money identical for all flavors and periods, while the ice cream storage\n",
        "costs in the warehouse are different for each flavor but identical for\n",
        "all periods. These storage costs occur at the end of each period per\n",
        "unit of ice cream for all units not sold to cover the varying demand per\n",
        "flavor and period.\n",
        "\n",
        "Each period matches a shift length of a certain number of hours,\n",
        "identical for all periods. The objective is to minimize the total cost\n",
        "of production and storage while satisfying all demands and production\n",
        "capacities.\n",
        "\n",
        "Define all sets, parameters and variables required to model the problem\n",
        "described above. Select a suitable notation of your choice. Make sure to\n",
        "explicitly state in your notation which elements are sets, parameters\n",
        "and variables.\n",
        "\n",
        "> **Tip**\n",
        ">\n",
        "> Note that the problem does not have to be modeled yet!"
      ],
      "id": "cb943a22-fb4e-463b-a9e1-70a24172c4f1"
    },
    {
      "cell_type": "raw",
      "metadata": {
        "raw_mimetype": "tex"
      },
      "source": [
        "\\vspace{0.1in}"
      ],
      "id": "c06acd4d-d374-4ee4-bbe4-641d88c1c2ce"
    },
    {
      "cell_type": "code",
      "execution_count": 2,
      "metadata": {},
      "outputs": [],
      "source": [
        "# Your answer here\n",
        "|\n",
        "|\n",
        "|\n",
        "|\n",
        "|\n",
        "|\n",
        "|\n",
        "|\n",
        "|\n",
        "|\n",
        "|\n",
        "|\n",
        "|\n",
        "|"
      ],
      "id": "f494faac"
    },
    {
      "cell_type": "raw",
      "metadata": {
        "raw_mimetype": "tex"
      },
      "source": [
        "\\newpage"
      ],
      "id": "5b400b78-9dc1-419b-8fbd-6ff980edfc75"
    },
    {
      "cell_type": "markdown",
      "metadata": {},
      "source": [
        "------------------------------------------------------------------------\n",
        "\n",
        "## 1.b (3 Points)\n",
        "\n",
        "Please define the objective function to model the described problem\n",
        "based on your defined notation.\n",
        "\n",
        "> **Tip**\n",
        ">\n",
        "> If you need additional sets, parameters or variables that are not yet\n",
        "> defined, please define them as well."
      ],
      "id": "9d2d6f8a-c69b-4673-a5d7-ca938fece657"
    },
    {
      "cell_type": "raw",
      "metadata": {
        "raw_mimetype": "tex"
      },
      "source": [
        "\\vspace{0.1in}"
      ],
      "id": "0911d1d2-e0cb-452d-9626-4df4991bd464"
    },
    {
      "cell_type": "code",
      "execution_count": 3,
      "metadata": {},
      "outputs": [],
      "source": [
        "# Your answer here\n",
        "|\n",
        "|\n",
        "|\n",
        "|\n",
        "|\n",
        "|\n",
        "|\n",
        "|\n",
        "|\n",
        "|\n",
        "|\n",
        "|\n",
        "|\n",
        "|"
      ],
      "id": "09cd1925"
    },
    {
      "cell_type": "raw",
      "metadata": {
        "raw_mimetype": "tex"
      },
      "source": [
        "\\newpage"
      ],
      "id": "f7f96220-46bf-46d4-b759-8f4feea7b3a4"
    },
    {
      "cell_type": "markdown",
      "metadata": {},
      "source": [
        "------------------------------------------------------------------------\n",
        "\n",
        "## 1.c (6 Points)\n",
        "\n",
        "Please define all necessary constraints and the variable ranges to model\n",
        "the described problem based on your notation.\n",
        "\n",
        "> **Tip**\n",
        ">\n",
        "> If you need additional sets, parameters or variables that are not yet\n",
        "> defined, please define them as well."
      ],
      "id": "28c0fdf1-bba6-4c54-9057-7e0246446bb9"
    },
    {
      "cell_type": "raw",
      "metadata": {
        "raw_mimetype": "tex"
      },
      "source": [
        "\\vspace{0.1in}"
      ],
      "id": "56e267e8-e5df-421d-a6ea-138a3eab6039"
    },
    {
      "cell_type": "code",
      "execution_count": 4,
      "metadata": {},
      "outputs": [],
      "source": [
        "# Your answer here\n",
        "|\n",
        "|\n",
        "|\n",
        "|\n",
        "|\n",
        "|\n",
        "|\n",
        "|\n",
        "|\n",
        "|\n",
        "|\n",
        "|\n",
        "|\n",
        "|"
      ],
      "id": "92391006"
    },
    {
      "cell_type": "raw",
      "metadata": {
        "raw_mimetype": "tex"
      },
      "source": [
        "\\newpage"
      ],
      "id": "6848c2ae-aa1c-4881-877d-c48407fc6a55"
    },
    {
      "cell_type": "markdown",
      "metadata": {},
      "source": [
        "------------------------------------------------------------------------\n",
        "\n",
        "## 1.d (2 Points)\n",
        "\n",
        "Is the model formulation a nonlinear problem with continuous variables?\n",
        "\n",
        "Please explain your answer briefly."
      ],
      "id": "1cd76193-0c37-4f57-9685-b90b2b3daedb"
    },
    {
      "cell_type": "raw",
      "metadata": {
        "raw_mimetype": "tex"
      },
      "source": [
        "\\vspace{0.1in}"
      ],
      "id": "da9697ce-f684-45e7-901c-8ac7b0eafb0b"
    },
    {
      "cell_type": "code",
      "execution_count": 5,
      "metadata": {},
      "outputs": [],
      "source": [
        "# Your answer here\n",
        "|\n",
        "|\n",
        "|\n",
        "|\n",
        "|\n",
        "|\n",
        "|\n",
        "|\n",
        "|\n",
        "|\n",
        "|\n",
        "|\n",
        "|\n",
        "|"
      ],
      "id": "1cf70fe0"
    },
    {
      "cell_type": "raw",
      "metadata": {
        "raw_mimetype": "tex"
      },
      "source": [
        "\\newpage"
      ],
      "id": "8735c3b6-b1b0-470f-939a-789c4546eb6a"
    },
    {
      "cell_type": "markdown",
      "metadata": {},
      "source": [
        "------------------------------------------------------------------------\n",
        "\n",
        "## 1.e (9 Points)\n",
        "\n",
        "Due to the success of the companies, workers demand higher wages and a\n",
        "compensation for working overtime. Your task is to extend the model to\n",
        "reflect this new situation. In the future, each worked hour in a period\n",
        "has a fixed cost per shift hour, identical for all periods. If the\n",
        "production time in one period exceeds the shift-length, workers have to\n",
        "work overtime. For each hour working overtime, the fixed costs per hour\n",
        "are 50% higher than usual. Furthermore, more than an additional time of\n",
        "a half a shift length is not allowed due to legal reasons.\n",
        "\n",
        "How can you expand your model to reflect this new situation? Write down\n",
        "all additional or modified sets, parameters, variables, constraints and\n",
        "the objective function while describing each with a few words.\n",
        "\n",
        "> **Tip**\n",
        ">\n",
        "> Note, that you only need to write down new and modified elements!"
      ],
      "id": "d8288c43-4ec8-4e31-9d09-6a0476f97114"
    },
    {
      "cell_type": "raw",
      "metadata": {
        "raw_mimetype": "tex"
      },
      "source": [
        "\\vspace{0.1in}"
      ],
      "id": "dc41cf7f-1c79-41ab-8969-452bba7043ce"
    },
    {
      "cell_type": "code",
      "execution_count": 6,
      "metadata": {},
      "outputs": [],
      "source": [
        "# Your answer here\n",
        "|\n",
        "|\n",
        "|\n",
        "|\n",
        "|\n",
        "|\n",
        "|\n",
        "|\n",
        "|\n",
        "|\n",
        "|\n",
        "|\n",
        "|\n",
        "|"
      ],
      "id": "51da7de7"
    },
    {
      "cell_type": "raw",
      "metadata": {
        "raw_mimetype": "tex"
      },
      "source": [
        "\\newpage"
      ],
      "id": "571414fe-57cd-4187-82a9-fb906554ad3c"
    },
    {
      "cell_type": "markdown",
      "metadata": {},
      "source": [
        "------------------------------------------------------------------------\n",
        "\n",
        "## 1.f (4 points)\n",
        "\n",
        "What assumptions are made in the model that might not hold in the real\n",
        "world?\n",
        "\n",
        "Please describe at least two assumptions with a 1-3 sentences and\n",
        "explain briefly why they might not hold."
      ],
      "id": "8245e187-0256-4601-be61-49e0352e1011"
    },
    {
      "cell_type": "raw",
      "metadata": {
        "raw_mimetype": "tex"
      },
      "source": [
        "\\vspace{0.1in}"
      ],
      "id": "d7207135-f2c9-4314-8672-cdae056ce7d9"
    },
    {
      "cell_type": "code",
      "execution_count": 7,
      "metadata": {},
      "outputs": [],
      "source": [
        "# Your answer here\n",
        "|\n",
        "|\n",
        "|\n",
        "|\n",
        "|\n",
        "|\n",
        "|\n",
        "|\n",
        "|\n",
        "|\n",
        "|\n",
        "|\n",
        "|\n",
        "|"
      ],
      "id": "aea86bd6"
    },
    {
      "cell_type": "raw",
      "metadata": {
        "raw_mimetype": "tex"
      },
      "source": [
        "\\newpage"
      ],
      "id": "d28285d6-4700-42e4-8932-c6bef5a075b1"
    },
    {
      "cell_type": "markdown",
      "metadata": {},
      "source": [
        "------------------------------------------------------------------------\n",
        "\n",
        "# Part II\n",
        "\n",
        "## 2.a (6 Points)\n",
        "\n",
        "Throughout the course, we covered several different optimization\n",
        "problems. For one of the following two problems, briefly:\n",
        "\n",
        "-   Describe the main objective of the problem (2 points)\n",
        "-   Describe two key assumptions of the model (2 points per assumption)\n",
        "\n",
        "Choose from:\n",
        "\n",
        "-   Transportation Problem (Solar Panel Transport)\n",
        "-   Split Order Minimization Problem (E-Commerce)"
      ],
      "id": "4c77470f-c2bf-4db1-bc6c-de9b5b723923"
    },
    {
      "cell_type": "raw",
      "metadata": {
        "raw_mimetype": "tex"
      },
      "source": [
        "\\vspace{0.1in}"
      ],
      "id": "bf6485a7-0cf5-41fd-9f66-4b701a8dab05"
    },
    {
      "cell_type": "code",
      "execution_count": 8,
      "metadata": {},
      "outputs": [],
      "source": [
        "# Your answer here\n",
        "|\n",
        "|\n",
        "|\n",
        "|\n",
        "|\n",
        "|\n",
        "|\n",
        "|\n",
        "|\n",
        "|\n",
        "|\n",
        "|\n",
        "|\n",
        "|"
      ],
      "id": "187059a3"
    },
    {
      "cell_type": "raw",
      "metadata": {
        "raw_mimetype": "tex"
      },
      "source": [
        "\\newpage"
      ],
      "id": "42027421-c801-4d36-b001-ac79bde78b92"
    },
    {
      "cell_type": "markdown",
      "metadata": {},
      "source": [
        "------------------------------------------------------------------------\n",
        "\n",
        "## 2.b (4 Points)\n",
        "\n",
        "You are trying to solve the capacitated vehicle routing problem with\n",
        "more than 500 customers and 10 vehicles. Unfortunately, your computer is\n",
        "not able to handle the problem. What could you try to solve the problem\n",
        "instead?\n",
        "\n",
        "Please describe one approach to adress the problem and describe the\n",
        "advantages and disadvantages of the approach in a few sentences."
      ],
      "id": "7d1d755a-ebbe-47a7-9c47-c389e3cb654e"
    },
    {
      "cell_type": "raw",
      "metadata": {
        "raw_mimetype": "tex"
      },
      "source": [
        "\\vspace{0.1in}"
      ],
      "id": "58a4318b-a135-4243-940c-2c138fbd9d8f"
    },
    {
      "cell_type": "code",
      "execution_count": 9,
      "metadata": {},
      "outputs": [],
      "source": [
        "# Your answer here\n",
        "|\n",
        "|\n",
        "|\n",
        "|\n",
        "|\n",
        "|\n",
        "|\n",
        "|\n",
        "|\n",
        "|\n",
        "|\n",
        "|\n",
        "|\n",
        "|"
      ],
      "id": "c0a17ddb"
    },
    {
      "cell_type": "raw",
      "metadata": {
        "raw_mimetype": "tex"
      },
      "source": [
        "\\newpage"
      ],
      "id": "8e2426cf-45e6-4d14-8d1c-4b648cac7eaa"
    },
    {
      "cell_type": "markdown",
      "metadata": {},
      "source": [
        "------------------------------------------------------------------------\n",
        "\n",
        "## 2.c (3 Points)\n",
        "\n",
        "Suppose you aim to improve the shifts of workers in a hospital. As the\n",
        "administration finds it difficult to find new workers, they want to\n",
        "optimize the shifts of the current workers to improve their\n",
        "satisfaction. What potential objective could be used in an objective\n",
        "function?\n",
        "\n",
        "Please describe the objective function and explain why it would be a\n",
        "good choice for the problem.\n",
        "\n",
        "> **Tip**\n",
        ">\n",
        "> You don’t need to write any code or mathematical model here!"
      ],
      "id": "0014bebb-f5d5-4bcd-86d4-21777b77346b"
    },
    {
      "cell_type": "raw",
      "metadata": {
        "raw_mimetype": "tex"
      },
      "source": [
        "\\vspace{0.1in}"
      ],
      "id": "53ac3583-51d5-4049-bca2-e4d3e398595e"
    },
    {
      "cell_type": "code",
      "execution_count": 10,
      "metadata": {},
      "outputs": [],
      "source": [
        "# Your answer here\n",
        "|\n",
        "|\n",
        "|\n",
        "|\n",
        "|\n",
        "|\n",
        "|\n",
        "|\n",
        "|\n",
        "|\n",
        "|\n",
        "|\n",
        "|\n",
        "|"
      ],
      "id": "009c5e85"
    },
    {
      "cell_type": "raw",
      "metadata": {
        "raw_mimetype": "tex"
      },
      "source": [
        "\\newpage"
      ],
      "id": "8e5eddba-fd91-4981-a624-143bde2eb64a"
    },
    {
      "cell_type": "markdown",
      "metadata": {},
      "source": [
        "------------------------------------------------------------------------\n",
        "\n",
        "## 2.d (2 Points)\n",
        "\n",
        "What is the purpose of a solver used in Mathematical Programming?\n",
        "\n",
        "Please describe the answer in your own words in 2-3 sentences."
      ],
      "id": "94079c7b-6c6c-467f-b641-30ab976bc71f"
    },
    {
      "cell_type": "raw",
      "metadata": {
        "raw_mimetype": "tex"
      },
      "source": [
        "\\vspace{0.1in}"
      ],
      "id": "6111dfcd-1ba9-4b21-bfa7-7f7e16f267e8"
    },
    {
      "cell_type": "code",
      "execution_count": 11,
      "metadata": {},
      "outputs": [],
      "source": [
        "# Your answer here\n",
        "|\n",
        "|\n",
        "|\n",
        "|\n",
        "|\n",
        "|\n",
        "|\n",
        "|\n",
        "|\n",
        "|\n",
        "|\n",
        "|\n",
        "|\n",
        "|"
      ],
      "id": "4c4f63d8"
    },
    {
      "cell_type": "raw",
      "metadata": {
        "raw_mimetype": "tex"
      },
      "source": [
        "\\newpage"
      ],
      "id": "e9c2a442-9349-4369-8e4e-7ac6c5d9f0f7"
    },
    {
      "cell_type": "markdown",
      "metadata": {},
      "source": [
        "------------------------------------------------------------------------\n",
        "\n",
        "# Part III\n",
        "\n",
        "## 3.a (3 Points)\n",
        "\n",
        "Create a JuMP variable with the following properties: A continuous\n",
        "variable `Production[t,p]` for time periods $t \\in 1:T$ and products\n",
        "$p \\in 1:P$ which must be non-negative and has an upper bound stored in\n",
        "parameter `capacity[t,p]`. All parameters (`T`, `P`, `capacity`) are\n",
        "already defined, the model is not created yet.\n",
        "\n",
        "Specify the definition of the variable in correct Julia syntax."
      ],
      "id": "26d0370b-c73f-41e8-a729-bc7ad7771e31"
    },
    {
      "cell_type": "raw",
      "metadata": {
        "raw_mimetype": "tex"
      },
      "source": [
        "\\vspace{0.1in}"
      ],
      "id": "e063794a-d8f1-4b98-8fef-39e3c68f765d"
    },
    {
      "cell_type": "code",
      "execution_count": 14,
      "metadata": {},
      "outputs": [],
      "source": [
        "# Your answer here\n",
        "|\n",
        "|\n",
        "|\n",
        "|\n",
        "|\n",
        "|\n",
        "|\n",
        "|\n",
        "|\n",
        "|\n",
        "|\n",
        "|\n",
        "|\n",
        "|"
      ],
      "id": "ac06fd99"
    },
    {
      "cell_type": "raw",
      "metadata": {
        "raw_mimetype": "tex"
      },
      "source": [
        "\\newpage"
      ],
      "id": "7e42af44-2aae-432f-89b2-db4ef51e0aae"
    },
    {
      "cell_type": "markdown",
      "metadata": {},
      "source": [
        "------------------------------------------------------------------------\n",
        "\n",
        "## 3.b (3 Points)\n",
        "\n",
        "Write JuMP code to implement the following constraint:\n",
        "\n",
        "$$\\sum_{f \\in F} Y_{f,z} \\leq 1 \\quad \\forall z \\in Z$$\n",
        "\n",
        "Assume variables `Y` is already defined as binary variables and the sets\n",
        "`F` and `Z` are already defined as well. The model is also already\n",
        "created.\n",
        "\n",
        "Specify the definition of the constraint in correct Julia syntax."
      ],
      "id": "e779b8ee-d727-44d1-99b3-e799a7063ab3"
    },
    {
      "cell_type": "raw",
      "metadata": {
        "raw_mimetype": "tex"
      },
      "source": [
        "\\vspace{0.1in}"
      ],
      "id": "e09b083a-c93c-4f2c-a9e5-f02d01d4a580"
    },
    {
      "cell_type": "code",
      "execution_count": 17,
      "metadata": {},
      "outputs": [],
      "source": [
        "# Your answer here\n",
        "|\n",
        "|\n",
        "|\n",
        "|\n",
        "|\n",
        "|\n",
        "|\n",
        "|\n",
        "|\n",
        "|\n",
        "|\n",
        "|\n",
        "|\n",
        "|"
      ],
      "id": "41fad7a0"
    },
    {
      "cell_type": "raw",
      "metadata": {
        "raw_mimetype": "tex"
      },
      "source": [
        "\\newpage"
      ],
      "id": "50c61b16-e4ee-4f1d-8eea-7c6c2c053783"
    },
    {
      "cell_type": "markdown",
      "metadata": {},
      "source": [
        "------------------------------------------------------------------------\n",
        "\n",
        "## 3.c (2 Points)\n",
        "\n",
        "You are given the following JuMP code with a constraint that is not\n",
        "correctly implemented.\n",
        "\n",
        "``` julia\n",
        "@constraint(sum(X[i,j] for i in 1:10, j in 1:5) == 10)\n",
        "```\n",
        "\n",
        "Please explain why the constraint is not correctly implemented and how\n",
        "it can be fixed."
      ],
      "id": "e4b7844d-1c27-4f8a-9986-13ada61eb848"
    },
    {
      "cell_type": "raw",
      "metadata": {
        "raw_mimetype": "tex"
      },
      "source": [
        "\\vspace{0.1in}"
      ],
      "id": "0f5274ca-08c6-4231-aef9-98a732732d2e"
    },
    {
      "cell_type": "code",
      "execution_count": 21,
      "metadata": {},
      "outputs": [],
      "source": [
        "# Your answer here\n",
        "|\n",
        "|\n",
        "|\n",
        "|\n",
        "|\n",
        "|\n",
        "|\n",
        "|\n",
        "|\n",
        "|\n",
        "|\n",
        "|\n",
        "|\n",
        "|"
      ],
      "id": "7f2b5b00"
    },
    {
      "cell_type": "raw",
      "metadata": {
        "raw_mimetype": "tex"
      },
      "source": [
        "\\newpage"
      ],
      "id": "b314cff4-3f6f-46dc-a557-d0644d092b03"
    },
    {
      "cell_type": "markdown",
      "metadata": {},
      "source": [
        "------------------------------------------------------------------------\n",
        "\n",
        "## 3.d (2 Points)\n",
        "\n",
        "What is the difference between a tuple and an array (vector) in Julia?\n",
        "\n",
        "Please describe the difference in a 1-3 sentences."
      ],
      "id": "2ba359c7-4b6e-4c78-9d63-0c3e938b9183"
    },
    {
      "cell_type": "raw",
      "metadata": {
        "raw_mimetype": "tex"
      },
      "source": [
        "\\vspace{0.1in}"
      ],
      "id": "cf0cd676-4395-45be-b212-983af693bbc8"
    },
    {
      "cell_type": "code",
      "execution_count": 22,
      "metadata": {},
      "outputs": [],
      "source": [
        "# Your answer here\n",
        "|\n",
        "|\n",
        "|\n",
        "|\n",
        "|\n",
        "|\n",
        "|\n",
        "|\n",
        "|\n",
        "|\n",
        "|\n",
        "|\n",
        "|\n",
        "|"
      ],
      "id": "fb51658d"
    },
    {
      "cell_type": "raw",
      "metadata": {
        "raw_mimetype": "tex"
      },
      "source": [
        "\\newpage"
      ],
      "id": "bd6858c0-ef29-4a00-a352-28a0621bb46f"
    },
    {
      "cell_type": "markdown",
      "metadata": {},
      "source": [
        "------------------------------------------------------------------------\n",
        "\n",
        "## 3.e (5 Points)\n",
        "\n",
        "You are given the following code in Julia:"
      ],
      "id": "e28c051b-22da-433e-8697-2a9707efb25f"
    },
    {
      "cell_type": "code",
      "execution_count": 23,
      "metadata": {},
      "outputs": [],
      "source": [
        "mySet = 1:8\n",
        "vectorA = [\"Hello\", \"World\"]\n",
        "for i in mySet\n",
        "    if i <= 2\n",
        "        println(vectorA[i])\n",
        "    elseif i <= 4\n",
        "        println(vectorA[i-2])\n",
        "    elseif i > 6 && i <= 8\n",
        "        println(\"This is $i\")\n",
        "    elseif i == 9\n",
        "        break\n",
        "    else\n",
        "        println(\"Hi $i\")\n",
        "    end\n",
        "end"
      ],
      "id": "de92758c"
    },
    {
      "cell_type": "markdown",
      "metadata": {},
      "source": [
        "Please write down the output of the code."
      ],
      "id": "ee404c14-a571-41fd-9def-dadf6efa46b9"
    },
    {
      "cell_type": "raw",
      "metadata": {
        "raw_mimetype": "tex"
      },
      "source": [
        "\\vspace{0.1in}"
      ],
      "id": "e560a40d-fca4-4f8b-8b05-d5a6b8fe6024"
    },
    {
      "cell_type": "code",
      "execution_count": 25,
      "metadata": {},
      "outputs": [],
      "source": [
        "# Your answer here\n",
        "|\n",
        "|\n",
        "|\n",
        "|\n",
        "|\n",
        "|\n",
        "|\n",
        "|\n",
        "|\n",
        "|\n",
        "|\n",
        "|\n",
        "|\n",
        "|"
      ],
      "id": "4e973b8c"
    },
    {
      "cell_type": "raw",
      "metadata": {
        "raw_mimetype": "tex"
      },
      "source": [
        "\\newpage"
      ],
      "id": "942582ad-1cc3-4c34-bfb3-807b2ed5c2d9"
    }
  ],
  "nbformat": 4,
  "nbformat_minor": 5,
  "metadata": {
    "kernelspec": {
      "name": "julia-ao-1.12",
      "display_name": "Julia-AO 1.12.0",
      "language": "julia",
      "path": "/Users/vlcek/Library/Jupyter/kernels/julia-ao-1.12"
    },
    "language_info": {
      "name": "julia",
      "file_extension": ".jl",
      "mimetype": "application/julia",
      "version": "1.12.0"
    }
  }
}