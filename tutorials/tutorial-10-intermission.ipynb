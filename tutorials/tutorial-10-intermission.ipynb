{
  "cells": [
    {
      "cell_type": "markdown",
      "metadata": {},
      "source": [
        "# Tutorial X - Intermission: Exam Preparation\n",
        "\n",
        "Applied Optimization with Julia\n",
        "\n",
        "# Introduction\n",
        "\n",
        "This tutorial is another short intermission to give you an idea of the\n",
        "structure of the exam. You can hand in your answers at the end to\n",
        "receive half a **bonus point**, if at least 75 % of the answers are\n",
        "correct and you describe your work clearly. If you have any questions or\n",
        "suggestions on how to improve the structure of the exam, please ask\n",
        "them.\n",
        "\n",
        "The exam is just meant to be a **tool** to check your understanding of\n",
        "the material and to give you a chance to show your skills. It is not\n",
        "meant to be a stressful event or a punishment. If you have followed the\n",
        "course and put in the effort, you should be able to pass the exam with a\n",
        "good grade.\n",
        "\n",
        "> **Tip**\n",
        ">\n",
        "> As some of these tasks are difficult to answer on a computer, you can\n",
        "> hand in your answer scanned or written digitally on an iPad or Laptop.\n",
        "\n",
        "------------------------------------------------------------------------\n",
        "\n",
        "# Part I\n",
        "\n",
        "## 1.a (6 Points)\n",
        "\n",
        "As temperatures rise due to global warming, so does the demand for ice\n",
        "cream. The ice cream company was amazed by your transportation plan from\n",
        "the lecture and asked if you could help with their production plan.\n",
        "\n",
        "The company wants to optimize its production to keep up with the\n",
        "customer demand. To do so, they offer different flavors of ice cream\n",
        "that are made and stored in a warehouse. Each flavor has a unique\n",
        "production time per unit of ice cream and no setup time for the\n",
        "production. In the first period, the company has 100 units of each\n",
        "flavor in storage at the end of the period.\n",
        "\n",
        "Furthermore, each setup of a different flavor costs a fixed amount of\n",
        "money identical for all flavors and periods, while the ice cream storage\n",
        "costs in the warehouse are different for each flavor but identical for\n",
        "all periods. These storage costs occur at the end of each period per\n",
        "unit of ice cream for all units not sold to cover the varying demand per\n",
        "flavor and period.\n",
        "\n",
        "Each period matches a shift length of a certain number of hours,\n",
        "identical for all periods. The objective is to minimize the total cost\n",
        "of production and storage while satisfying all demands and production\n",
        "capacities.\n",
        "\n",
        "Define all sets, parameters and variables required to model the problem\n",
        "described above. Select a suitable notation of your choice. Make sure to\n",
        "explicitly state in your notation which elements are sets, parameters\n",
        "and variables.\n",
        "\n",
        "> **Tip**\n",
        ">\n",
        "> Note that the problem does not have to be modeled yet!"
      ],
      "id": "a09c8114-92da-44d5-8544-5b19b517f104"
    },
    {
      "cell_type": "raw",
      "metadata": {
        "raw_mimetype": "tex"
      },
      "source": [
        "\\vspace{0.1in}"
      ],
      "id": "869a6f61-95cf-4320-81c3-cee3252668bd"
    },
    {
      "cell_type": "code",
      "execution_count": 2,
      "metadata": {},
      "outputs": [],
      "source": [
        "# Your answer here\n",
        "|\n",
        "|\n",
        "|\n",
        "|\n",
        "|\n",
        "|\n",
        "|\n",
        "|\n",
        "|\n",
        "|\n",
        "|\n",
        "|\n",
        "|\n",
        "|"
      ],
      "id": "fa137ba0"
    },
    {
      "cell_type": "raw",
      "metadata": {
        "raw_mimetype": "tex"
      },
      "source": [
        "\\newpage"
      ],
      "id": "444d147f-d4fd-4af4-b2af-3535baabfbdb"
    },
    {
      "cell_type": "markdown",
      "metadata": {},
      "source": [
        "------------------------------------------------------------------------\n",
        "\n",
        "## 1.b (3 Points)\n",
        "\n",
        "Please define the objective function to model the described problem\n",
        "based on your defined notation.\n",
        "\n",
        "> **Tip**\n",
        ">\n",
        "> If you need additional sets, parameters or variables that are not yet\n",
        "> defined, please define them as well."
      ],
      "id": "4a27df20-81c2-4d02-b92f-dd1be07d73ee"
    },
    {
      "cell_type": "raw",
      "metadata": {
        "raw_mimetype": "tex"
      },
      "source": [
        "\\vspace{0.1in}"
      ],
      "id": "d4c1b9fd-df35-4b45-a690-ec7ed5eda953"
    },
    {
      "cell_type": "code",
      "execution_count": 3,
      "metadata": {},
      "outputs": [],
      "source": [
        "# Your answer here\n",
        "|\n",
        "|\n",
        "|\n",
        "|\n",
        "|\n",
        "|\n",
        "|\n",
        "|\n",
        "|\n",
        "|\n",
        "|\n",
        "|\n",
        "|\n",
        "|"
      ],
      "id": "87b2de35"
    },
    {
      "cell_type": "raw",
      "metadata": {
        "raw_mimetype": "tex"
      },
      "source": [
        "\\newpage"
      ],
      "id": "ab25831d-b146-4824-aab3-363527564aee"
    },
    {
      "cell_type": "markdown",
      "metadata": {},
      "source": [
        "------------------------------------------------------------------------\n",
        "\n",
        "## 1.c (6 Points)\n",
        "\n",
        "Please define all necessary constraints and the variable ranges to model\n",
        "the described problem based on your notation.\n",
        "\n",
        "> **Tip**\n",
        ">\n",
        "> If you need additional sets, parameters or variables that are not yet\n",
        "> defined, please define them as well."
      ],
      "id": "dc37c6c0-9851-4140-9b41-929e668596ec"
    },
    {
      "cell_type": "raw",
      "metadata": {
        "raw_mimetype": "tex"
      },
      "source": [
        "\\vspace{0.1in}"
      ],
      "id": "58df3bab-01db-42e0-9fa7-e878342d84c0"
    },
    {
      "cell_type": "code",
      "execution_count": 4,
      "metadata": {},
      "outputs": [],
      "source": [
        "# Your answer here\n",
        "|\n",
        "|\n",
        "|\n",
        "|\n",
        "|\n",
        "|\n",
        "|\n",
        "|\n",
        "|\n",
        "|\n",
        "|\n",
        "|\n",
        "|\n",
        "|"
      ],
      "id": "7ba2413b"
    },
    {
      "cell_type": "raw",
      "metadata": {
        "raw_mimetype": "tex"
      },
      "source": [
        "\\newpage"
      ],
      "id": "11ccd68f-6099-48f8-9942-57757bcac0c1"
    },
    {
      "cell_type": "markdown",
      "metadata": {},
      "source": [
        "------------------------------------------------------------------------\n",
        "\n",
        "## 1.d (2 Points)\n",
        "\n",
        "Is the model formulation a nonlinear problem with continuous variables?\n",
        "\n",
        "Please explain your answer briefly."
      ],
      "id": "b5576bea-85d2-47ba-89cf-94c82c3e0e4c"
    },
    {
      "cell_type": "raw",
      "metadata": {
        "raw_mimetype": "tex"
      },
      "source": [
        "\\vspace{0.1in}"
      ],
      "id": "cd98fba3-55cd-41ad-ae8c-ef458c3b53f0"
    },
    {
      "cell_type": "code",
      "execution_count": 5,
      "metadata": {},
      "outputs": [],
      "source": [
        "# Your answer here\n",
        "|\n",
        "|\n",
        "|\n",
        "|\n",
        "|\n",
        "|\n",
        "|\n",
        "|\n",
        "|\n",
        "|\n",
        "|\n",
        "|\n",
        "|\n",
        "|"
      ],
      "id": "12549317"
    },
    {
      "cell_type": "raw",
      "metadata": {
        "raw_mimetype": "tex"
      },
      "source": [
        "\\newpage"
      ],
      "id": "1f0b25bf-b608-4ec2-a270-ac7e1472d6d4"
    },
    {
      "cell_type": "markdown",
      "metadata": {},
      "source": [
        "------------------------------------------------------------------------\n",
        "\n",
        "## 1.e (9 Points)\n",
        "\n",
        "Due to the success of the companies, workers demand higher wages and a\n",
        "compensation for working overtime. Your task is to extend the model to\n",
        "reflect this new situation. In the future, each worked hour in a period\n",
        "has a fixed cost per shift hour, identical for all periods. If the\n",
        "production time in one period exceeds the shift-length, workers have to\n",
        "work overtime. For each hour working overtime, the fixed costs per hour\n",
        "are 50% higher than usual. Furthermore, more than an additional time of\n",
        "a half a shift length is not allowed due to legal reasons.\n",
        "\n",
        "How can you expand your model to reflect this new situation? Write down\n",
        "all additional or modified sets, parameters, variables, constraints and\n",
        "the objective function while describing each with a few words.\n",
        "\n",
        "> **Tip**\n",
        ">\n",
        "> Note, that you only need to write down new and modified elements!"
      ],
      "id": "bf04a43b-2d32-4d4a-8bcd-ba6a2e0915bb"
    },
    {
      "cell_type": "raw",
      "metadata": {
        "raw_mimetype": "tex"
      },
      "source": [
        "\\vspace{0.1in}"
      ],
      "id": "22bcc525-65a9-486a-b4f3-542a799489d1"
    },
    {
      "cell_type": "code",
      "execution_count": 6,
      "metadata": {},
      "outputs": [],
      "source": [
        "# Your answer here\n",
        "|\n",
        "|\n",
        "|\n",
        "|\n",
        "|\n",
        "|\n",
        "|\n",
        "|\n",
        "|\n",
        "|\n",
        "|\n",
        "|\n",
        "|\n",
        "|"
      ],
      "id": "1ffd1cd8"
    },
    {
      "cell_type": "raw",
      "metadata": {
        "raw_mimetype": "tex"
      },
      "source": [
        "\\newpage"
      ],
      "id": "28790278-5d53-4a9f-a6de-665a29a4c4f9"
    },
    {
      "cell_type": "markdown",
      "metadata": {},
      "source": [
        "------------------------------------------------------------------------\n",
        "\n",
        "## 1.f (4 points)\n",
        "\n",
        "What assumptions are made in the model that might not hold in the real\n",
        "world?\n",
        "\n",
        "Please describe at least two assumptions with a 1-3 sentences and\n",
        "explain briefly why they might not hold."
      ],
      "id": "21525bca-84c1-49f7-a3f8-5496930c2e26"
    },
    {
      "cell_type": "raw",
      "metadata": {
        "raw_mimetype": "tex"
      },
      "source": [
        "\\vspace{0.1in}"
      ],
      "id": "f7e8dcef-5a0a-48ad-bc33-09be2c7ef621"
    },
    {
      "cell_type": "code",
      "execution_count": 7,
      "metadata": {},
      "outputs": [],
      "source": [
        "# Your answer here\n",
        "|\n",
        "|\n",
        "|\n",
        "|\n",
        "|\n",
        "|\n",
        "|\n",
        "|\n",
        "|\n",
        "|\n",
        "|\n",
        "|\n",
        "|\n",
        "|"
      ],
      "id": "39b6d8c0"
    },
    {
      "cell_type": "raw",
      "metadata": {
        "raw_mimetype": "tex"
      },
      "source": [
        "\\newpage"
      ],
      "id": "35ddd330-7006-41a4-bd41-4e20a778d1c7"
    },
    {
      "cell_type": "markdown",
      "metadata": {},
      "source": [
        "------------------------------------------------------------------------\n",
        "\n",
        "# Part II\n",
        "\n",
        "## 2.a (6 Points)\n",
        "\n",
        "Throughout the course, we covered several different optimization\n",
        "problems. For one of the following two problems, briefly:\n",
        "\n",
        "-   Describe the main objective of the problem (2 points)\n",
        "-   Describe two key assumptions of the model (2 points per assumption)\n",
        "\n",
        "Choose from:\n",
        "\n",
        "-   Transportation Problem (Solar Panel Transport)\n",
        "-   Split Order Minimization Problem (E-Commerce)"
      ],
      "id": "e28f1fd2-2e7c-4a60-85d5-4548a7757276"
    },
    {
      "cell_type": "raw",
      "metadata": {
        "raw_mimetype": "tex"
      },
      "source": [
        "\\vspace{0.1in}"
      ],
      "id": "00b0d53b-18c3-49db-9743-09db6b2b0bbe"
    },
    {
      "cell_type": "code",
      "execution_count": 8,
      "metadata": {},
      "outputs": [],
      "source": [
        "# Your answer here\n",
        "|\n",
        "|\n",
        "|\n",
        "|\n",
        "|\n",
        "|\n",
        "|\n",
        "|\n",
        "|\n",
        "|\n",
        "|\n",
        "|\n",
        "|\n",
        "|"
      ],
      "id": "2f5b889c"
    },
    {
      "cell_type": "raw",
      "metadata": {
        "raw_mimetype": "tex"
      },
      "source": [
        "\\newpage"
      ],
      "id": "74b67835-09ae-4e4a-8794-7ba665ed6216"
    },
    {
      "cell_type": "markdown",
      "metadata": {},
      "source": [
        "------------------------------------------------------------------------\n",
        "\n",
        "## 2.b (4 Points)\n",
        "\n",
        "You are trying to solve the capacitated vehicle routing problem with\n",
        "more than 500 customers and 10 vehicles. Unfortunately, your computer is\n",
        "not able to handle the problem. What could you try to solve the problem\n",
        "instead?\n",
        "\n",
        "Please describe one approach to adress the problem and describe the\n",
        "advantages and disadvantages of the approach in a few sentences."
      ],
      "id": "759d2aed-5d2e-4569-857c-3d079f3847db"
    },
    {
      "cell_type": "raw",
      "metadata": {
        "raw_mimetype": "tex"
      },
      "source": [
        "\\vspace{0.1in}"
      ],
      "id": "67f71039-69a5-4a46-8a6f-c02814f042f9"
    },
    {
      "cell_type": "code",
      "execution_count": 9,
      "metadata": {},
      "outputs": [],
      "source": [
        "# Your answer here\n",
        "|\n",
        "|\n",
        "|\n",
        "|\n",
        "|\n",
        "|\n",
        "|\n",
        "|\n",
        "|\n",
        "|\n",
        "|\n",
        "|\n",
        "|\n",
        "|"
      ],
      "id": "f45406a1"
    },
    {
      "cell_type": "raw",
      "metadata": {
        "raw_mimetype": "tex"
      },
      "source": [
        "\\newpage"
      ],
      "id": "80fc0373-a823-4107-9b36-98e31ce5a79b"
    },
    {
      "cell_type": "markdown",
      "metadata": {},
      "source": [
        "------------------------------------------------------------------------\n",
        "\n",
        "## 2.c (3 Points)\n",
        "\n",
        "Suppose you aim to improve the shifts of workers in a hospital. As the\n",
        "administration finds it difficult to find new workers, they want to\n",
        "optimize the shifts of the current workers to improve their\n",
        "satisfaction. What potential objective could be used in an objective\n",
        "function?\n",
        "\n",
        "Please describe the objective function and explain why it would be a\n",
        "good choice for the problem.\n",
        "\n",
        "> **Tip**\n",
        ">\n",
        "> You don’t need to write any code or mathematical model here!"
      ],
      "id": "9818c5cc-6381-49e7-bada-d1cb5a508f7b"
    },
    {
      "cell_type": "raw",
      "metadata": {
        "raw_mimetype": "tex"
      },
      "source": [
        "\\vspace{0.1in}"
      ],
      "id": "05b032f9-9190-46fc-8c98-70c3c5ca3e4d"
    },
    {
      "cell_type": "code",
      "execution_count": 10,
      "metadata": {},
      "outputs": [],
      "source": [
        "# Your answer here\n",
        "|\n",
        "|\n",
        "|\n",
        "|\n",
        "|\n",
        "|\n",
        "|\n",
        "|\n",
        "|\n",
        "|\n",
        "|\n",
        "|\n",
        "|\n",
        "|"
      ],
      "id": "06dc3e1e"
    },
    {
      "cell_type": "raw",
      "metadata": {
        "raw_mimetype": "tex"
      },
      "source": [
        "\\newpage"
      ],
      "id": "eaa7eacd-9653-4115-840c-eecaae629de1"
    },
    {
      "cell_type": "markdown",
      "metadata": {},
      "source": [
        "------------------------------------------------------------------------\n",
        "\n",
        "## 2.d (2 Points)\n",
        "\n",
        "What is the purpose of a solver used in Mathematical Programming?\n",
        "\n",
        "Please describe the answer in your own words in 2-3 sentences."
      ],
      "id": "8589f2c8-4699-45cb-bc00-9ef97b4e40ff"
    },
    {
      "cell_type": "raw",
      "metadata": {
        "raw_mimetype": "tex"
      },
      "source": [
        "\\vspace{0.1in}"
      ],
      "id": "90bc5e3a-59a5-4d5a-be92-142457d9eaad"
    },
    {
      "cell_type": "code",
      "execution_count": 11,
      "metadata": {},
      "outputs": [],
      "source": [
        "# Your answer here\n",
        "|\n",
        "|\n",
        "|\n",
        "|\n",
        "|\n",
        "|\n",
        "|\n",
        "|\n",
        "|\n",
        "|\n",
        "|\n",
        "|\n",
        "|\n",
        "|"
      ],
      "id": "5ec18d18"
    },
    {
      "cell_type": "raw",
      "metadata": {
        "raw_mimetype": "tex"
      },
      "source": [
        "\\newpage"
      ],
      "id": "63a4b0c8-4060-4b1e-8a1d-d03002eda385"
    },
    {
      "cell_type": "markdown",
      "metadata": {},
      "source": [
        "------------------------------------------------------------------------\n",
        "\n",
        "# Part III\n",
        "\n",
        "## 3.a (3 Points)\n",
        "\n",
        "Create a JuMP variable with the following properties: A continuous\n",
        "variable `Production[t,p]` for time periods $t \\in 1:T$ and products\n",
        "$p \\in 1:P$ which must be non-negative and has an upper bound stored in\n",
        "parameter `capacity[t,p]`. All parameters (`T`, `P`, `capacity`) are\n",
        "already defined, the model is not created yet.\n",
        "\n",
        "Specify the definition of the variable in correct Julia syntax."
      ],
      "id": "19be2f5b-8fd9-4eea-a6c2-73fc45671c6e"
    },
    {
      "cell_type": "raw",
      "metadata": {
        "raw_mimetype": "tex"
      },
      "source": [
        "\\vspace{0.1in}"
      ],
      "id": "012c7942-ba40-4bbb-a21b-2571ac4b46c5"
    },
    {
      "cell_type": "code",
      "execution_count": 14,
      "metadata": {},
      "outputs": [],
      "source": [
        "# Your answer here\n",
        "|\n",
        "|\n",
        "|\n",
        "|\n",
        "|\n",
        "|\n",
        "|\n",
        "|\n",
        "|\n",
        "|\n",
        "|\n",
        "|\n",
        "|\n",
        "|"
      ],
      "id": "bda1bea8"
    },
    {
      "cell_type": "raw",
      "metadata": {
        "raw_mimetype": "tex"
      },
      "source": [
        "\\newpage"
      ],
      "id": "a490b547-9135-470a-a457-4b87ecb31816"
    },
    {
      "cell_type": "markdown",
      "metadata": {},
      "source": [
        "------------------------------------------------------------------------\n",
        "\n",
        "## 3.b (3 Points)\n",
        "\n",
        "Write JuMP code to implement the following constraint:\n",
        "\n",
        "$$\\sum_{f \\in F} Y_{f,z} \\leq 1 \\quad \\forall z \\in Z$$\n",
        "\n",
        "Assume variables `Y` is already defined as binary variables and the sets\n",
        "`F` and `Z` are already defined as well. The model is also already\n",
        "created.\n",
        "\n",
        "Specify the definition of the constraint in correct Julia syntax."
      ],
      "id": "f6914e84-81ad-4c7c-b803-c4c7602308c5"
    },
    {
      "cell_type": "raw",
      "metadata": {
        "raw_mimetype": "tex"
      },
      "source": [
        "\\vspace{0.1in}"
      ],
      "id": "b1d1d496-da9b-44ce-9bf8-9632f9ab59ff"
    },
    {
      "cell_type": "code",
      "execution_count": 17,
      "metadata": {},
      "outputs": [],
      "source": [
        "# Your answer here\n",
        "|\n",
        "|\n",
        "|\n",
        "|\n",
        "|\n",
        "|\n",
        "|\n",
        "|\n",
        "|\n",
        "|\n",
        "|\n",
        "|\n",
        "|\n",
        "|"
      ],
      "id": "5bf3c06c"
    },
    {
      "cell_type": "raw",
      "metadata": {
        "raw_mimetype": "tex"
      },
      "source": [
        "\\newpage"
      ],
      "id": "bd527366-1080-4e69-a906-6a0ca328ea3f"
    },
    {
      "cell_type": "markdown",
      "metadata": {},
      "source": [
        "------------------------------------------------------------------------\n",
        "\n",
        "## 3.c (2 Points)\n",
        "\n",
        "You are given the following JuMP code with a constraint that is not\n",
        "correctly implemented.\n",
        "\n",
        "``` julia\n",
        "@constraint(sum(X[i,j] for i in 1:10, j in 1:5) == 10)\n",
        "```\n",
        "\n",
        "Please explain why the constraint is not correctly implemented and how\n",
        "it can be fixed."
      ],
      "id": "493ad58c-16b0-4320-b4fe-715eef222038"
    },
    {
      "cell_type": "raw",
      "metadata": {
        "raw_mimetype": "tex"
      },
      "source": [
        "\\vspace{0.1in}"
      ],
      "id": "c413cef4-e05d-42f9-8cdd-b16166216e71"
    },
    {
      "cell_type": "code",
      "execution_count": 21,
      "metadata": {},
      "outputs": [],
      "source": [
        "# Your answer here\n",
        "|\n",
        "|\n",
        "|\n",
        "|\n",
        "|\n",
        "|\n",
        "|\n",
        "|\n",
        "|\n",
        "|\n",
        "|\n",
        "|\n",
        "|\n",
        "|"
      ],
      "id": "c7abdd71"
    },
    {
      "cell_type": "raw",
      "metadata": {
        "raw_mimetype": "tex"
      },
      "source": [
        "\\newpage"
      ],
      "id": "985d09dc-0677-4055-a3fc-3e486e87e40c"
    },
    {
      "cell_type": "markdown",
      "metadata": {},
      "source": [
        "------------------------------------------------------------------------\n",
        "\n",
        "## 3.d (2 Points)\n",
        "\n",
        "What is the difference between a tuple and an array (vector) in Julia?\n",
        "\n",
        "Please describe the difference in a 1-3 sentences."
      ],
      "id": "00b502d2-e12e-4ca3-838b-2d6d46e52577"
    },
    {
      "cell_type": "raw",
      "metadata": {
        "raw_mimetype": "tex"
      },
      "source": [
        "\\vspace{0.1in}"
      ],
      "id": "f863e7b0-288d-4ac8-ad27-6fcfb0d8f15a"
    },
    {
      "cell_type": "code",
      "execution_count": 22,
      "metadata": {},
      "outputs": [],
      "source": [
        "# Your answer here\n",
        "|\n",
        "|\n",
        "|\n",
        "|\n",
        "|\n",
        "|\n",
        "|\n",
        "|\n",
        "|\n",
        "|\n",
        "|\n",
        "|\n",
        "|\n",
        "|"
      ],
      "id": "45e31f26"
    },
    {
      "cell_type": "raw",
      "metadata": {
        "raw_mimetype": "tex"
      },
      "source": [
        "\\newpage"
      ],
      "id": "dcea0af5-9f00-4027-bb0e-2fc124d6d903"
    },
    {
      "cell_type": "markdown",
      "metadata": {},
      "source": [
        "------------------------------------------------------------------------\n",
        "\n",
        "## 3.e (5 Points)\n",
        "\n",
        "You are given the following code in Julia:"
      ],
      "id": "3882b8d1-57a3-40ff-bb3a-62bd6e6ec3e9"
    },
    {
      "cell_type": "code",
      "execution_count": 23,
      "metadata": {},
      "outputs": [],
      "source": [
        "mySet = 1:8\n",
        "vectorA = [\"Hello\", \"World\"]\n",
        "for i in mySet\n",
        "    if i <= 2\n",
        "        println(vectorA[i])\n",
        "    elseif i <= 4\n",
        "        println(vectorA[i-2])\n",
        "    elseif i > 6 && i <= 8\n",
        "        println(\"This is $i\")\n",
        "    elseif i == 9\n",
        "        break\n",
        "    else\n",
        "        println(\"Hi $i\")\n",
        "    end\n",
        "end"
      ],
      "id": "edbf86fe"
    },
    {
      "cell_type": "markdown",
      "metadata": {},
      "source": [
        "Please write down the output of the code."
      ],
      "id": "7c853b00-8e84-4b70-b7a5-7ffc49ae3a41"
    },
    {
      "cell_type": "raw",
      "metadata": {
        "raw_mimetype": "tex"
      },
      "source": [
        "\\vspace{0.1in}"
      ],
      "id": "740415e0-0a8f-4979-83cb-e3f733e1db80"
    },
    {
      "cell_type": "code",
      "execution_count": 25,
      "metadata": {},
      "outputs": [],
      "source": [
        "# Your answer here\n",
        "|\n",
        "|\n",
        "|\n",
        "|\n",
        "|\n",
        "|\n",
        "|\n",
        "|\n",
        "|\n",
        "|\n",
        "|\n",
        "|\n",
        "|\n",
        "|"
      ],
      "id": "e68f01c4"
    },
    {
      "cell_type": "raw",
      "metadata": {
        "raw_mimetype": "tex"
      },
      "source": [
        "\\newpage"
      ],
      "id": "cda344cb-c53e-4ac6-86d8-390df6ca5c1a"
    }
  ],
  "nbformat": 4,
  "nbformat_minor": 5,
  "metadata": {
    "kernelspec": {
      "name": "julia-ao-1.12",
      "display_name": "Julia-AO 1.12.0",
      "language": "julia",
      "path": "/Users/vlcek/Library/Jupyter/kernels/julia-ao-1.12"
    },
    "language_info": {
      "name": "julia",
      "file_extension": ".jl",
      "mimetype": "application/julia",
      "version": "1.12.0"
    }
  }
}