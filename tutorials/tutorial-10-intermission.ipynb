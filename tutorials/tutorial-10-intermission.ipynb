{
  "cells": [
    {
      "cell_type": "markdown",
      "metadata": {},
      "source": [
        "# Tutorial X - Intermission: Exam Preparation\n",
        "\n",
        "Applied Optimization with Julia\n",
        "\n",
        "# Introduction\n",
        "\n",
        "This tutorial is another short intermission to give you an idea of the\n",
        "structure of the exam. You can hand in your answers at the end to\n",
        "receive half a **bonus point**, if at least 75 % of the answers are\n",
        "correct and you describe your work clearly. If you have any questions or\n",
        "suggestions on how to improve the structure of the exam, please ask\n",
        "them.\n",
        "\n",
        "The exam is just meant to be a **tool** to check your understanding of\n",
        "the material and to give you a chance to show your skills. It is not\n",
        "meant to be a stressful event or a punishment. If you have followed the\n",
        "course and put in the effort, you should be able to pass the exam with a\n",
        "good grade.\n",
        "\n",
        "> **Tip**\n",
        ">\n",
        "> As some of these tasks are difficult to answer on a computer, you can\n",
        "> hand in your answer scanned or written digitally on an iPad or Laptop.\n",
        "\n",
        "------------------------------------------------------------------------\n",
        "\n",
        "# Part I\n",
        "\n",
        "## 1.a (6 Points)\n",
        "\n",
        "As temperatures rise due to global warming, so does the demand for ice\n",
        "cream. The ice cream company was amazed by your transportation plan from\n",
        "the lecture and asked if you could help with their production plan.\n",
        "\n",
        "The company wants to optimize its production to keep up with the\n",
        "customer demand. To do so, they offer different flavors of ice cream\n",
        "that are made and stored in a warehouse. Each flavor has a unique\n",
        "production time per unit of ice cream and no setup time for the\n",
        "production. In the first period, the company has 100 units of each\n",
        "flavor in storage at the end of the period.\n",
        "\n",
        "Furthermore, each setup of a different flavor costs a fixed amount of\n",
        "money identical for all flavors and periods, while the ice cream storage\n",
        "costs in the warehouse are different for each flavor but identical for\n",
        "all periods. These storage costs occur at the end of each period per\n",
        "unit of ice cream for all units not sold to cover the varying demand per\n",
        "flavor and period.\n",
        "\n",
        "Each period matches a shift length of a certain number of hours,\n",
        "identical for all periods. The objective is to minimize the total cost\n",
        "of production and storage while satisfying all demands and production\n",
        "capacities.\n",
        "\n",
        "Define all sets, parameters and variables required to model the problem\n",
        "described above. Select a suitable notation of your choice. Make sure to\n",
        "explicitly state in your notation which elements are sets, parameters\n",
        "and variables.\n",
        "\n",
        "> **Tip**\n",
        ">\n",
        "> Note that the problem does not have to be modeled yet!"
      ],
      "id": "e773f9e2-179b-404f-b3a5-2f2353564008"
    },
    {
      "cell_type": "raw",
      "metadata": {
        "raw_mimetype": "tex"
      },
      "source": [
        "\\vspace{0.1in}"
      ],
      "id": "48bb5bc0-3d57-4b21-9e03-1a90859dae5a"
    },
    {
      "cell_type": "code",
      "execution_count": 2,
      "metadata": {},
      "outputs": [],
      "source": [
        "# Your answer here\n",
        "|\n",
        "|\n",
        "|\n",
        "|\n",
        "|\n",
        "|\n",
        "|\n",
        "|\n",
        "|\n",
        "|\n",
        "|\n",
        "|\n",
        "|\n",
        "|"
      ],
      "id": "e0290be2"
    },
    {
      "cell_type": "raw",
      "metadata": {
        "raw_mimetype": "tex"
      },
      "source": [
        "\\newpage"
      ],
      "id": "894be869-90d2-413a-aef5-2bbf32fa364b"
    },
    {
      "cell_type": "markdown",
      "metadata": {},
      "source": [
        "------------------------------------------------------------------------\n",
        "\n",
        "## 1.b (3 Points)\n",
        "\n",
        "Please define the objective function to model the described problem\n",
        "based on your defined notation.\n",
        "\n",
        "> **Tip**\n",
        ">\n",
        "> If you need additional sets, parameters or variables that are not yet\n",
        "> defined, please define them as well."
      ],
      "id": "9d3d2a6e-7e04-4c23-a232-3b9ad89105ea"
    },
    {
      "cell_type": "raw",
      "metadata": {
        "raw_mimetype": "tex"
      },
      "source": [
        "\\vspace{0.1in}"
      ],
      "id": "ba6c7df3-43cb-4dfd-b0b7-f89c6958865d"
    },
    {
      "cell_type": "code",
      "execution_count": 3,
      "metadata": {},
      "outputs": [],
      "source": [
        "# Your answer here\n",
        "|\n",
        "|\n",
        "|\n",
        "|\n",
        "|\n",
        "|\n",
        "|\n",
        "|\n",
        "|\n",
        "|\n",
        "|\n",
        "|\n",
        "|\n",
        "|"
      ],
      "id": "19f731ef"
    },
    {
      "cell_type": "raw",
      "metadata": {
        "raw_mimetype": "tex"
      },
      "source": [
        "\\newpage"
      ],
      "id": "4aaf97fa-8270-48d9-94c5-68c9d865bcf1"
    },
    {
      "cell_type": "markdown",
      "metadata": {},
      "source": [
        "------------------------------------------------------------------------\n",
        "\n",
        "## 1.c (6 Points)\n",
        "\n",
        "Please define all necessary constraints and the variable ranges to model\n",
        "the described problem based on your notation.\n",
        "\n",
        "> **Tip**\n",
        ">\n",
        "> If you need additional sets, parameters or variables that are not yet\n",
        "> defined, please define them as well."
      ],
      "id": "35f4cb5c-69fa-4e80-b95f-4583d1469c0d"
    },
    {
      "cell_type": "raw",
      "metadata": {
        "raw_mimetype": "tex"
      },
      "source": [
        "\\vspace{0.1in}"
      ],
      "id": "8335cf75-7bc6-4d8f-a591-c0dc229cd5c1"
    },
    {
      "cell_type": "code",
      "execution_count": 4,
      "metadata": {},
      "outputs": [],
      "source": [
        "# Your answer here\n",
        "|\n",
        "|\n",
        "|\n",
        "|\n",
        "|\n",
        "|\n",
        "|\n",
        "|\n",
        "|\n",
        "|\n",
        "|\n",
        "|\n",
        "|\n",
        "|"
      ],
      "id": "ff060c9e"
    },
    {
      "cell_type": "raw",
      "metadata": {
        "raw_mimetype": "tex"
      },
      "source": [
        "\\newpage"
      ],
      "id": "9a7e56a1-0ded-4d25-8219-f8f953ed2e03"
    },
    {
      "cell_type": "markdown",
      "metadata": {},
      "source": [
        "------------------------------------------------------------------------\n",
        "\n",
        "## 1.d (2 Points)\n",
        "\n",
        "Is the model formulation a nonlinear problem with continuous variables?\n",
        "\n",
        "Please explain your answer briefly."
      ],
      "id": "e55c7aa3-db76-40b3-8918-a47bed660780"
    },
    {
      "cell_type": "raw",
      "metadata": {
        "raw_mimetype": "tex"
      },
      "source": [
        "\\vspace{0.1in}"
      ],
      "id": "26747e80-03dc-4bfd-9bc2-2acf53638dc3"
    },
    {
      "cell_type": "code",
      "execution_count": 5,
      "metadata": {},
      "outputs": [],
      "source": [
        "# Your answer here\n",
        "|\n",
        "|\n",
        "|\n",
        "|\n",
        "|\n",
        "|\n",
        "|\n",
        "|\n",
        "|\n",
        "|\n",
        "|\n",
        "|\n",
        "|\n",
        "|"
      ],
      "id": "1ee73ed5"
    },
    {
      "cell_type": "raw",
      "metadata": {
        "raw_mimetype": "tex"
      },
      "source": [
        "\\newpage"
      ],
      "id": "692c6dae-775b-4e02-93c8-cc299762f3a5"
    },
    {
      "cell_type": "markdown",
      "metadata": {},
      "source": [
        "------------------------------------------------------------------------\n",
        "\n",
        "## 1.e (9 Points)\n",
        "\n",
        "Due to the success of the companies, workers demand higher wages and a\n",
        "compensation for working overtime. Your task is to extend the model to\n",
        "reflect this new situation. In the future, each worked hour in a period\n",
        "has a fixed cost per shift hour, identical for all periods. If the\n",
        "production time in one period exceeds the shift-length, workers have to\n",
        "work overtime. For each hour working overtime, the fixed costs per hour\n",
        "are 50% higher than usual. Furthermore, more than an additional time of\n",
        "a half a shift length is not allowed due to legal reasons.\n",
        "\n",
        "How can you expand your model to reflect this new situation? Write down\n",
        "all additional or modified sets, parameters, variables, constraints and\n",
        "the objective function while describing each with a few words.\n",
        "\n",
        "> **Tip**\n",
        ">\n",
        "> Note, that you only need to write down new and modified elements!"
      ],
      "id": "9c9165c3-5dd5-44b3-8acd-cbbc377697d7"
    },
    {
      "cell_type": "raw",
      "metadata": {
        "raw_mimetype": "tex"
      },
      "source": [
        "\\vspace{0.1in}"
      ],
      "id": "b328105d-924e-407c-959f-3e77e435a38e"
    },
    {
      "cell_type": "code",
      "execution_count": 6,
      "metadata": {},
      "outputs": [],
      "source": [
        "# Your answer here\n",
        "|\n",
        "|\n",
        "|\n",
        "|\n",
        "|\n",
        "|\n",
        "|\n",
        "|\n",
        "|\n",
        "|\n",
        "|\n",
        "|\n",
        "|\n",
        "|"
      ],
      "id": "be881725"
    },
    {
      "cell_type": "raw",
      "metadata": {
        "raw_mimetype": "tex"
      },
      "source": [
        "\\newpage"
      ],
      "id": "4a1279d6-67b4-4d15-bbeb-f574d6bd459c"
    },
    {
      "cell_type": "markdown",
      "metadata": {},
      "source": [
        "------------------------------------------------------------------------\n",
        "\n",
        "## 1.f (4 points)\n",
        "\n",
        "What assumptions are made in the model that might not hold in the real\n",
        "world?\n",
        "\n",
        "Please describe at least two assumptions with a 1-3 sentences and\n",
        "explain briefly why they might not hold."
      ],
      "id": "d9070092-2533-4e36-bf6b-b12cbd6d883f"
    },
    {
      "cell_type": "raw",
      "metadata": {
        "raw_mimetype": "tex"
      },
      "source": [
        "\\vspace{0.1in}"
      ],
      "id": "aa70e430-65a2-43b3-90ce-153cdc169aba"
    },
    {
      "cell_type": "code",
      "execution_count": 7,
      "metadata": {},
      "outputs": [],
      "source": [
        "# Your answer here\n",
        "|\n",
        "|\n",
        "|\n",
        "|\n",
        "|\n",
        "|\n",
        "|\n",
        "|\n",
        "|\n",
        "|\n",
        "|\n",
        "|\n",
        "|\n",
        "|"
      ],
      "id": "425e60c9"
    },
    {
      "cell_type": "raw",
      "metadata": {
        "raw_mimetype": "tex"
      },
      "source": [
        "\\newpage"
      ],
      "id": "8a02e16e-0b11-4b79-888b-d717e1489c36"
    },
    {
      "cell_type": "markdown",
      "metadata": {},
      "source": [
        "------------------------------------------------------------------------\n",
        "\n",
        "# Part II\n",
        "\n",
        "## 2.a (6 Points)\n",
        "\n",
        "Throughout the course, we covered several different optimization\n",
        "problems. For one of the following two problems, briefly:\n",
        "\n",
        "-   Describe the main objective of the problem (2 points)\n",
        "-   Describe two key assumptions of the model (2 points per assumption)\n",
        "\n",
        "Choose from:\n",
        "\n",
        "-   Transportation Problem (Solar Panel Transport)\n",
        "-   Split Order Minimization Problem (E-Commerce)"
      ],
      "id": "f8034ac3-5d25-4762-a941-341a3a289990"
    },
    {
      "cell_type": "raw",
      "metadata": {
        "raw_mimetype": "tex"
      },
      "source": [
        "\\vspace{0.1in}"
      ],
      "id": "1a103312-867d-455f-acf3-e0c5d7bd56de"
    },
    {
      "cell_type": "code",
      "execution_count": 8,
      "metadata": {},
      "outputs": [],
      "source": [
        "# Your answer here\n",
        "|\n",
        "|\n",
        "|\n",
        "|\n",
        "|\n",
        "|\n",
        "|\n",
        "|\n",
        "|\n",
        "|\n",
        "|\n",
        "|\n",
        "|\n",
        "|"
      ],
      "id": "acb88f7c"
    },
    {
      "cell_type": "raw",
      "metadata": {
        "raw_mimetype": "tex"
      },
      "source": [
        "\\newpage"
      ],
      "id": "89111205-20ae-4fd5-8cea-c6da65dd916b"
    },
    {
      "cell_type": "markdown",
      "metadata": {},
      "source": [
        "------------------------------------------------------------------------\n",
        "\n",
        "## 2.b (4 Points)\n",
        "\n",
        "You are trying to solve the capacitated vehicle routing problem with\n",
        "more than 500 customers and 10 vehicles. Unfortunately, your computer is\n",
        "not able to handle the problem. What could you try to solve the problem\n",
        "instead?\n",
        "\n",
        "Please describe one approach to adress the problem and describe the\n",
        "advantages and disadvantages of the approach in a few sentences."
      ],
      "id": "16a77885-81ce-4f3c-a83a-95d60480da99"
    },
    {
      "cell_type": "raw",
      "metadata": {
        "raw_mimetype": "tex"
      },
      "source": [
        "\\vspace{0.1in}"
      ],
      "id": "d621c4fe-956f-4f98-b184-0fcff396c2cf"
    },
    {
      "cell_type": "code",
      "execution_count": 9,
      "metadata": {},
      "outputs": [],
      "source": [
        "# Your answer here\n",
        "|\n",
        "|\n",
        "|\n",
        "|\n",
        "|\n",
        "|\n",
        "|\n",
        "|\n",
        "|\n",
        "|\n",
        "|\n",
        "|\n",
        "|\n",
        "|"
      ],
      "id": "14de1f09"
    },
    {
      "cell_type": "raw",
      "metadata": {
        "raw_mimetype": "tex"
      },
      "source": [
        "\\newpage"
      ],
      "id": "55cff4a0-1cf9-41d5-94b7-3394aeaec8ef"
    },
    {
      "cell_type": "markdown",
      "metadata": {},
      "source": [
        "------------------------------------------------------------------------\n",
        "\n",
        "## 2.c (3 Points)\n",
        "\n",
        "Suppose you aim to improve the shifts of workers in a hospital. As the\n",
        "administration finds it difficult to find new workers, they want to\n",
        "optimize the shifts of the current workers to improve their\n",
        "satisfaction. What potential objective could be used in an objective\n",
        "function?\n",
        "\n",
        "Please describe the objective function and explain why it would be a\n",
        "good choice for the problem.\n",
        "\n",
        "> **Tip**\n",
        ">\n",
        "> You don’t need to write any code or mathematical model here!"
      ],
      "id": "f7466593-c079-46fd-aaed-8bdaf4815361"
    },
    {
      "cell_type": "raw",
      "metadata": {
        "raw_mimetype": "tex"
      },
      "source": [
        "\\vspace{0.1in}"
      ],
      "id": "d302296a-a39f-453d-b18f-14a91c23e320"
    },
    {
      "cell_type": "code",
      "execution_count": 10,
      "metadata": {},
      "outputs": [],
      "source": [
        "# Your answer here\n",
        "|\n",
        "|\n",
        "|\n",
        "|\n",
        "|\n",
        "|\n",
        "|\n",
        "|\n",
        "|\n",
        "|\n",
        "|\n",
        "|\n",
        "|\n",
        "|"
      ],
      "id": "b6a30437"
    },
    {
      "cell_type": "raw",
      "metadata": {
        "raw_mimetype": "tex"
      },
      "source": [
        "\\newpage"
      ],
      "id": "eb97cb71-8966-43d0-b31c-ab2ededfcabd"
    },
    {
      "cell_type": "markdown",
      "metadata": {},
      "source": [
        "------------------------------------------------------------------------\n",
        "\n",
        "## 2.d (2 Points)\n",
        "\n",
        "What is the purpose of a solver used in Mathematical Programming?\n",
        "\n",
        "Please describe the answer in your own words in 2-3 sentences."
      ],
      "id": "66c8e14b-0f8a-4eb0-a075-eecf9f1c42e7"
    },
    {
      "cell_type": "raw",
      "metadata": {
        "raw_mimetype": "tex"
      },
      "source": [
        "\\vspace{0.1in}"
      ],
      "id": "b6338686-1480-4c40-9af2-aa26a7f6aa54"
    },
    {
      "cell_type": "code",
      "execution_count": 11,
      "metadata": {},
      "outputs": [],
      "source": [
        "# Your answer here\n",
        "|\n",
        "|\n",
        "|\n",
        "|\n",
        "|\n",
        "|\n",
        "|\n",
        "|\n",
        "|\n",
        "|\n",
        "|\n",
        "|\n",
        "|\n",
        "|"
      ],
      "id": "54bfc46d"
    },
    {
      "cell_type": "raw",
      "metadata": {
        "raw_mimetype": "tex"
      },
      "source": [
        "\\newpage"
      ],
      "id": "83b51aaa-06e5-4dee-b639-9aca56e7c59e"
    },
    {
      "cell_type": "markdown",
      "metadata": {},
      "source": [
        "------------------------------------------------------------------------\n",
        "\n",
        "# Part III\n",
        "\n",
        "## 3.a (3 Points)\n",
        "\n",
        "Create a JuMP variable with the following properties: A continuous\n",
        "variable `Production[t,p]` for time periods $t \\in 1:T$ and products\n",
        "$p \\in 1:P$ which must be non-negative and has an upper bound stored in\n",
        "parameter `capacity[t,p]`. All parameters (`T`, `P`, `capacity`) are\n",
        "already defined, the model is not created yet.\n",
        "\n",
        "Specify the definition of the variable in correct Julia syntax."
      ],
      "id": "31e14370-6c04-4b5d-b41d-bdaf7f1cab7b"
    },
    {
      "cell_type": "raw",
      "metadata": {
        "raw_mimetype": "tex"
      },
      "source": [
        "\\vspace{0.1in}"
      ],
      "id": "6f474bc7-5cdc-441b-96d3-89a256bf1370"
    },
    {
      "cell_type": "code",
      "execution_count": 14,
      "metadata": {},
      "outputs": [],
      "source": [
        "# Your answer here\n",
        "|\n",
        "|\n",
        "|\n",
        "|\n",
        "|\n",
        "|\n",
        "|\n",
        "|\n",
        "|\n",
        "|\n",
        "|\n",
        "|\n",
        "|\n",
        "|"
      ],
      "id": "4357c284"
    },
    {
      "cell_type": "raw",
      "metadata": {
        "raw_mimetype": "tex"
      },
      "source": [
        "\\newpage"
      ],
      "id": "d74b785b-abf2-42d0-a4e6-480f0fb1878e"
    },
    {
      "cell_type": "markdown",
      "metadata": {},
      "source": [
        "------------------------------------------------------------------------\n",
        "\n",
        "## 3.b (3 Points)\n",
        "\n",
        "Write JuMP code to implement the following constraint:\n",
        "\n",
        "$$\\sum_{f \\in F} Y_{f,z} \\leq 1 \\quad \\forall z \\in Z$$\n",
        "\n",
        "Assume variables `Y` is already defined as binary variables and the sets\n",
        "`F` and `Z` are already defined as well. The model is also already\n",
        "created.\n",
        "\n",
        "Specify the definition of the constraint in correct Julia syntax."
      ],
      "id": "a389d6ca-2f48-4f19-8a30-513379f0ca6e"
    },
    {
      "cell_type": "raw",
      "metadata": {
        "raw_mimetype": "tex"
      },
      "source": [
        "\\vspace{0.1in}"
      ],
      "id": "df59ff9b-6886-4fae-b696-0d17286f8985"
    },
    {
      "cell_type": "code",
      "execution_count": 17,
      "metadata": {},
      "outputs": [],
      "source": [
        "# Your answer here\n",
        "|\n",
        "|\n",
        "|\n",
        "|\n",
        "|\n",
        "|\n",
        "|\n",
        "|\n",
        "|\n",
        "|\n",
        "|\n",
        "|\n",
        "|\n",
        "|"
      ],
      "id": "6ef9e4a5"
    },
    {
      "cell_type": "raw",
      "metadata": {
        "raw_mimetype": "tex"
      },
      "source": [
        "\\newpage"
      ],
      "id": "2723a3a4-615b-402b-8b87-3fc3043fec78"
    },
    {
      "cell_type": "markdown",
      "metadata": {},
      "source": [
        "------------------------------------------------------------------------\n",
        "\n",
        "## 3.c (2 Points)\n",
        "\n",
        "You are given the following JuMP code with a constraint that is not\n",
        "correctly implemented.\n",
        "\n",
        "``` julia\n",
        "@constraint(sum(X[i,j] for i in 1:10, j in 1:5) == 10)\n",
        "```\n",
        "\n",
        "Please explain why the constraint is not correctly implemented and how\n",
        "it can be fixed."
      ],
      "id": "3c3e0dc7-5da8-4b2a-8778-a92f63396e7a"
    },
    {
      "cell_type": "raw",
      "metadata": {
        "raw_mimetype": "tex"
      },
      "source": [
        "\\vspace{0.1in}"
      ],
      "id": "e4ed8492-29b0-4d84-aa44-eae17a362d38"
    },
    {
      "cell_type": "code",
      "execution_count": 21,
      "metadata": {},
      "outputs": [],
      "source": [
        "# Your answer here\n",
        "|\n",
        "|\n",
        "|\n",
        "|\n",
        "|\n",
        "|\n",
        "|\n",
        "|\n",
        "|\n",
        "|\n",
        "|\n",
        "|\n",
        "|\n",
        "|"
      ],
      "id": "a9e65dd9"
    },
    {
      "cell_type": "raw",
      "metadata": {
        "raw_mimetype": "tex"
      },
      "source": [
        "\\newpage"
      ],
      "id": "898b33b3-2841-49ee-acd0-bbf73748b2d4"
    },
    {
      "cell_type": "markdown",
      "metadata": {},
      "source": [
        "------------------------------------------------------------------------\n",
        "\n",
        "## 3.d (2 Points)\n",
        "\n",
        "What is the difference between a tuple and an array (vector) in Julia?\n",
        "\n",
        "Please describe the difference in a 1-3 sentences."
      ],
      "id": "0a7b3b1e-9485-4b46-8235-391cadb5a11b"
    },
    {
      "cell_type": "raw",
      "metadata": {
        "raw_mimetype": "tex"
      },
      "source": [
        "\\vspace{0.1in}"
      ],
      "id": "344eb6de-e706-4b39-b078-17a33cd08d73"
    },
    {
      "cell_type": "code",
      "execution_count": 22,
      "metadata": {},
      "outputs": [],
      "source": [
        "# Your answer here\n",
        "|\n",
        "|\n",
        "|\n",
        "|\n",
        "|\n",
        "|\n",
        "|\n",
        "|\n",
        "|\n",
        "|\n",
        "|\n",
        "|\n",
        "|\n",
        "|"
      ],
      "id": "f69e9fa3"
    },
    {
      "cell_type": "raw",
      "metadata": {
        "raw_mimetype": "tex"
      },
      "source": [
        "\\newpage"
      ],
      "id": "c9d72d43-e1e0-4ce7-9483-6046e296bfff"
    },
    {
      "cell_type": "markdown",
      "metadata": {},
      "source": [
        "------------------------------------------------------------------------\n",
        "\n",
        "## 3.e (5 Points)\n",
        "\n",
        "You are given the following code in Julia:"
      ],
      "id": "c365346e-11d5-45e5-b212-ced5a5313f36"
    },
    {
      "cell_type": "code",
      "execution_count": 23,
      "metadata": {},
      "outputs": [],
      "source": [
        "mySet = 1:8\n",
        "vectorA = [\"Hello\", \"World\"]\n",
        "for i in mySet\n",
        "    if i <= 2\n",
        "        println(vectorA[i])\n",
        "    elseif i <= 4\n",
        "        println(vectorA[i-2])\n",
        "    elseif i > 6 && i <= 8\n",
        "        println(\"This is $i\")\n",
        "    elseif i == 9\n",
        "        break\n",
        "    else\n",
        "        println(\"Hi $i\")\n",
        "    end\n",
        "end"
      ],
      "id": "f6c3b44a"
    },
    {
      "cell_type": "markdown",
      "metadata": {},
      "source": [
        "Please write down the output of the code."
      ],
      "id": "bb766576-907e-4741-9bca-1596e1d9f730"
    },
    {
      "cell_type": "raw",
      "metadata": {
        "raw_mimetype": "tex"
      },
      "source": [
        "\\vspace{0.1in}"
      ],
      "id": "f58febb5-53a1-484c-b25a-7b4888c112d1"
    },
    {
      "cell_type": "code",
      "execution_count": 25,
      "metadata": {},
      "outputs": [],
      "source": [
        "# Your answer here\n",
        "|\n",
        "|\n",
        "|\n",
        "|\n",
        "|\n",
        "|\n",
        "|\n",
        "|\n",
        "|\n",
        "|\n",
        "|\n",
        "|\n",
        "|\n",
        "|"
      ],
      "id": "21456374"
    },
    {
      "cell_type": "raw",
      "metadata": {
        "raw_mimetype": "tex"
      },
      "source": [
        "\\newpage"
      ],
      "id": "f4254de8-a7ab-4b39-98a1-25b749994169"
    }
  ],
  "nbformat": 4,
  "nbformat_minor": 5,
  "metadata": {
    "kernelspec": {
      "name": "julia-1.11",
      "display_name": "Julia 1.11.6",
      "language": "julia",
      "path": "/Users/vlcek/Library/Jupyter/kernels/julia-1.11"
    },
    "language_info": {
      "name": "julia",
      "file_extension": ".jl",
      "mimetype": "application/julia",
      "version": "1.11.6"
    }
  }
}