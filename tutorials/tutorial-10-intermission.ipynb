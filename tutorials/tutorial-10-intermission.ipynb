{
  "cells": [
    {
      "cell_type": "markdown",
      "metadata": {},
      "source": [
        "# Tutorial X - Intermission: Exam Preparation\n",
        "\n",
        "Applied Optimization with Julia\n",
        "\n",
        "# Introduction\n",
        "\n",
        "This tutorial is another short intermission to give you an idea of the\n",
        "structure of the exam. You can hand in your answers at the end to\n",
        "receive half a **bonus point**, if at least 75 % of the answers are\n",
        "correct and you describe your work clearly. If you have any questions or\n",
        "suggestions on how to improve the structure of the exam, please ask\n",
        "them.\n",
        "\n",
        "The exam is just meant to be a **tool** to check your understanding of\n",
        "the material and to give you a chance to show your skills. It is not\n",
        "meant to be a stressful event or a punishment. If you have followed the\n",
        "course and put in the effort, you should be able to pass the exam with a\n",
        "good grade.\n",
        "\n",
        "> **Tip**\n",
        ">\n",
        "> As some of these tasks are difficult to answer on a computer, you can\n",
        "> hand in your answer scanned or written digitally on an iPad or Laptop.\n",
        "\n",
        "------------------------------------------------------------------------\n",
        "\n",
        "# Part I\n",
        "\n",
        "## 1.a (6 Points)\n",
        "\n",
        "As temperatures rise due to global warming, so does the demand for ice\n",
        "cream. The ice cream company was amazed by your transportation plan from\n",
        "the lecture and asked if you could help with their production plan.\n",
        "\n",
        "The company wants to optimize its production to keep up with the\n",
        "customer demand. To do so, they offer different flavors of ice cream\n",
        "that are made and stored in a warehouse. Each flavor has a unique\n",
        "production time per unit of ice cream and no setup time for the\n",
        "production. In the first period, the company has 100 units of each\n",
        "flavor in storage at the end of the period.\n",
        "\n",
        "Furthermore, each setup of a different flavor costs a fixed amount of\n",
        "money identical for all flavors and periods, while the ice cream storage\n",
        "costs in the warehouse are different for each flavor but identical for\n",
        "all periods. These storage costs occur at the end of each period per\n",
        "unit of ice cream for all units not sold to cover the varying demand per\n",
        "flavor and period.\n",
        "\n",
        "Each period matches a shift length of a certain number of hours,\n",
        "identical for all periods. The objective is to minimize the total cost\n",
        "of production and storage while satisfying all demands and production\n",
        "capacities.\n",
        "\n",
        "Define all sets, parameters and variables required to model the problem\n",
        "described above. Select a suitable notation of your choice. Make sure to\n",
        "explicitly state in your notation which elements are sets, parameters\n",
        "and variables.\n",
        "\n",
        "> **Tip**\n",
        ">\n",
        "> Note that the problem does not have to be modeled yet!"
      ],
      "id": "13067ff5-2d21-47bf-a7b9-96cae0611c91"
    },
    {
      "cell_type": "raw",
      "metadata": {
        "raw_mimetype": "tex"
      },
      "source": [
        "\\vspace{0.1in}"
      ],
      "id": "8f004142-755c-4787-9dc1-6f1e8bd50c41"
    },
    {
      "cell_type": "code",
      "execution_count": 2,
      "metadata": {},
      "outputs": [],
      "source": [
        "# Your answer here\n",
        "|\n",
        "|\n",
        "|\n",
        "|\n",
        "|\n",
        "|\n",
        "|\n",
        "|\n",
        "|\n",
        "|\n",
        "|\n",
        "|\n",
        "|\n",
        "|"
      ],
      "id": "213d7377"
    },
    {
      "cell_type": "raw",
      "metadata": {
        "raw_mimetype": "tex"
      },
      "source": [
        "\\newpage"
      ],
      "id": "b03fd4de-5731-4a93-913f-1c50fb4f8cc0"
    },
    {
      "cell_type": "markdown",
      "metadata": {},
      "source": [
        "------------------------------------------------------------------------\n",
        "\n",
        "## 1.b (3 Points)\n",
        "\n",
        "Please define the objective function to model the described problem\n",
        "based on your defined notation.\n",
        "\n",
        "> **Tip**\n",
        ">\n",
        "> If you need additional sets, parameters or variables that are not yet\n",
        "> defined, please define them as well."
      ],
      "id": "3a72ef7e-7347-41e0-a9b9-fef70acd0ecd"
    },
    {
      "cell_type": "raw",
      "metadata": {
        "raw_mimetype": "tex"
      },
      "source": [
        "\\vspace{0.1in}"
      ],
      "id": "86620c62-b4a8-432a-8203-370c4cbb77c9"
    },
    {
      "cell_type": "code",
      "execution_count": 3,
      "metadata": {},
      "outputs": [],
      "source": [
        "# Your answer here\n",
        "|\n",
        "|\n",
        "|\n",
        "|\n",
        "|\n",
        "|\n",
        "|\n",
        "|\n",
        "|\n",
        "|\n",
        "|\n",
        "|\n",
        "|\n",
        "|"
      ],
      "id": "dd7b2c4e"
    },
    {
      "cell_type": "raw",
      "metadata": {
        "raw_mimetype": "tex"
      },
      "source": [
        "\\newpage"
      ],
      "id": "4a6440d1-1a27-49c6-bb30-3e1c3b2b05c0"
    },
    {
      "cell_type": "markdown",
      "metadata": {},
      "source": [
        "------------------------------------------------------------------------\n",
        "\n",
        "## 1.c (6 Points)\n",
        "\n",
        "Please define all necessary constraints and the variable ranges to model\n",
        "the described problem based on your notation.\n",
        "\n",
        "> **Tip**\n",
        ">\n",
        "> If you need additional sets, parameters or variables that are not yet\n",
        "> defined, please define them as well."
      ],
      "id": "8cfe8aa8-6326-45d0-932b-a3770a2342f3"
    },
    {
      "cell_type": "raw",
      "metadata": {
        "raw_mimetype": "tex"
      },
      "source": [
        "\\vspace{0.1in}"
      ],
      "id": "87110170-132a-4add-9fc0-9cd0e2096cfc"
    },
    {
      "cell_type": "code",
      "execution_count": 4,
      "metadata": {},
      "outputs": [],
      "source": [
        "# Your answer here\n",
        "|\n",
        "|\n",
        "|\n",
        "|\n",
        "|\n",
        "|\n",
        "|\n",
        "|\n",
        "|\n",
        "|\n",
        "|\n",
        "|\n",
        "|\n",
        "|"
      ],
      "id": "3947b711"
    },
    {
      "cell_type": "raw",
      "metadata": {
        "raw_mimetype": "tex"
      },
      "source": [
        "\\newpage"
      ],
      "id": "8f2fa706-f5e5-4c16-b830-7644ad4427c9"
    },
    {
      "cell_type": "markdown",
      "metadata": {},
      "source": [
        "------------------------------------------------------------------------\n",
        "\n",
        "## 1.d (2 Points)\n",
        "\n",
        "Is the model formulation a nonlinear problem with continuous variables?\n",
        "\n",
        "Please explain your answer briefly."
      ],
      "id": "eec9f68e-6f40-4198-8f13-f07219868b09"
    },
    {
      "cell_type": "raw",
      "metadata": {
        "raw_mimetype": "tex"
      },
      "source": [
        "\\vspace{0.1in}"
      ],
      "id": "fd716e0e-f461-4f34-b3ea-7f44b87ca58d"
    },
    {
      "cell_type": "code",
      "execution_count": 5,
      "metadata": {},
      "outputs": [],
      "source": [
        "# Your answer here\n",
        "|\n",
        "|\n",
        "|\n",
        "|\n",
        "|\n",
        "|\n",
        "|\n",
        "|\n",
        "|\n",
        "|\n",
        "|\n",
        "|\n",
        "|\n",
        "|"
      ],
      "id": "a7446e25"
    },
    {
      "cell_type": "raw",
      "metadata": {
        "raw_mimetype": "tex"
      },
      "source": [
        "\\newpage"
      ],
      "id": "fbfb9d41-260d-4cfe-8001-4aa5f8d3ebfa"
    },
    {
      "cell_type": "markdown",
      "metadata": {},
      "source": [
        "------------------------------------------------------------------------\n",
        "\n",
        "## 1.e (9 Points)\n",
        "\n",
        "Due to the success of the companies, workers demand higher wages and a\n",
        "compensation for working overtime. Your task is to extend the model to\n",
        "reflect this new situation. In the future, each worked hour in a period\n",
        "has a fixed cost per shift hour, identical for all periods. If the\n",
        "production time in one period exceeds the shift-length, workers have to\n",
        "work overtime. For each hour working overtime, the fixed costs per hour\n",
        "are 50% higher than usual. Furthermore, more than an additional time of\n",
        "a half a shift length is not allowed due to legal reasons.\n",
        "\n",
        "How can you expand your model to reflect this new situation? Write down\n",
        "all additional or modified sets, parameters, variables, constraints and\n",
        "the objective function while describing each with a few words.\n",
        "\n",
        "> **Tip**\n",
        ">\n",
        "> Note, that you only need to write down new and modified elements!"
      ],
      "id": "74dad6f0-779b-4bac-9675-00f386877d64"
    },
    {
      "cell_type": "raw",
      "metadata": {
        "raw_mimetype": "tex"
      },
      "source": [
        "\\vspace{0.1in}"
      ],
      "id": "c55db75c-1489-4416-b5e7-66f0dc15cb11"
    },
    {
      "cell_type": "code",
      "execution_count": 6,
      "metadata": {},
      "outputs": [],
      "source": [
        "# Your answer here\n",
        "|\n",
        "|\n",
        "|\n",
        "|\n",
        "|\n",
        "|\n",
        "|\n",
        "|\n",
        "|\n",
        "|\n",
        "|\n",
        "|\n",
        "|\n",
        "|"
      ],
      "id": "75768df6"
    },
    {
      "cell_type": "raw",
      "metadata": {
        "raw_mimetype": "tex"
      },
      "source": [
        "\\newpage"
      ],
      "id": "1234a89a-b100-401b-a988-0f88bfeb9595"
    },
    {
      "cell_type": "markdown",
      "metadata": {},
      "source": [
        "------------------------------------------------------------------------\n",
        "\n",
        "## 1.f (4 points)\n",
        "\n",
        "What assumptions are made in the model that might not hold in the real\n",
        "world?\n",
        "\n",
        "Please describe at least two assumptions with a 1-3 sentences and\n",
        "explain briefly why they might not hold."
      ],
      "id": "6d4091eb-939f-4103-bd23-ebaaefd29a50"
    },
    {
      "cell_type": "raw",
      "metadata": {
        "raw_mimetype": "tex"
      },
      "source": [
        "\\vspace{0.1in}"
      ],
      "id": "413e3ca4-10a6-4e0b-96bf-12f2f81bcdab"
    },
    {
      "cell_type": "code",
      "execution_count": 7,
      "metadata": {},
      "outputs": [],
      "source": [
        "# Your answer here\n",
        "|\n",
        "|\n",
        "|\n",
        "|\n",
        "|\n",
        "|\n",
        "|\n",
        "|\n",
        "|\n",
        "|\n",
        "|\n",
        "|\n",
        "|\n",
        "|"
      ],
      "id": "dbe1f97c"
    },
    {
      "cell_type": "raw",
      "metadata": {
        "raw_mimetype": "tex"
      },
      "source": [
        "\\newpage"
      ],
      "id": "57ec8a26-b3a7-48b1-ac17-7f78df62b6e6"
    },
    {
      "cell_type": "markdown",
      "metadata": {},
      "source": [
        "------------------------------------------------------------------------\n",
        "\n",
        "# Part II\n",
        "\n",
        "## 2.a (6 Points)\n",
        "\n",
        "Throughout the course, we covered several different optimization\n",
        "problems. For one of the following two problems, briefly:\n",
        "\n",
        "-   Describe the main objective of the problem (2 points)\n",
        "-   Describe two key assumptions of the model (2 points per assumption)\n",
        "\n",
        "Choose from:\n",
        "\n",
        "-   Transportation Problem (Solar Panel Transport)\n",
        "-   Split Order Minimization Problem (E-Commerce)"
      ],
      "id": "2d3bc650-3b44-4cc0-8b5d-bd251b801279"
    },
    {
      "cell_type": "raw",
      "metadata": {
        "raw_mimetype": "tex"
      },
      "source": [
        "\\vspace{0.1in}"
      ],
      "id": "c2108a8e-de98-4937-9a0e-6fd2cf7d9949"
    },
    {
      "cell_type": "code",
      "execution_count": 8,
      "metadata": {},
      "outputs": [],
      "source": [
        "# Your answer here\n",
        "|\n",
        "|\n",
        "|\n",
        "|\n",
        "|\n",
        "|\n",
        "|\n",
        "|\n",
        "|\n",
        "|\n",
        "|\n",
        "|\n",
        "|\n",
        "|"
      ],
      "id": "4e06f570"
    },
    {
      "cell_type": "raw",
      "metadata": {
        "raw_mimetype": "tex"
      },
      "source": [
        "\\newpage"
      ],
      "id": "53cb7083-73e2-4bae-bb5e-3a65daef9d38"
    },
    {
      "cell_type": "markdown",
      "metadata": {},
      "source": [
        "------------------------------------------------------------------------\n",
        "\n",
        "## 2.b (4 Points)\n",
        "\n",
        "You are trying to solve the capacitated vehicle routing problem with\n",
        "more than 500 customers and 10 vehicles. Unfortunately, your computer is\n",
        "not able to handle the problem. What could you try to solve the problem\n",
        "instead?\n",
        "\n",
        "Please describe one approach to adress the problem and describe the\n",
        "advantages and disadvantages of the approach in a few sentences."
      ],
      "id": "64478547-24bb-460d-a495-4920691f73c5"
    },
    {
      "cell_type": "raw",
      "metadata": {
        "raw_mimetype": "tex"
      },
      "source": [
        "\\vspace{0.1in}"
      ],
      "id": "14e5f706-4975-4342-a177-65fb2209fb8c"
    },
    {
      "cell_type": "code",
      "execution_count": 9,
      "metadata": {},
      "outputs": [],
      "source": [
        "# Your answer here\n",
        "|\n",
        "|\n",
        "|\n",
        "|\n",
        "|\n",
        "|\n",
        "|\n",
        "|\n",
        "|\n",
        "|\n",
        "|\n",
        "|\n",
        "|\n",
        "|"
      ],
      "id": "98fb2615"
    },
    {
      "cell_type": "raw",
      "metadata": {
        "raw_mimetype": "tex"
      },
      "source": [
        "\\newpage"
      ],
      "id": "2c5e5aa8-4ef0-4d83-9d13-f804f76f77a8"
    },
    {
      "cell_type": "markdown",
      "metadata": {},
      "source": [
        "------------------------------------------------------------------------\n",
        "\n",
        "## 2.c (3 Points)\n",
        "\n",
        "Suppose you aim to improve the shifts of workers in a hospital. As the\n",
        "administration finds it difficult to find new workers, they want to\n",
        "optimize the shifts of the current workers to improve their\n",
        "satisfaction. What potential objective could be used in an objective\n",
        "function?\n",
        "\n",
        "Please describe the objective function and explain why it would be a\n",
        "good choice for the problem.\n",
        "\n",
        "> **Tip**\n",
        ">\n",
        "> You don’t need to write any code or mathematical model here!"
      ],
      "id": "a429e86b-b31b-4144-ba7e-3c0c6b565692"
    },
    {
      "cell_type": "raw",
      "metadata": {
        "raw_mimetype": "tex"
      },
      "source": [
        "\\vspace{0.1in}"
      ],
      "id": "2a84ddfb-2b0e-4b17-9872-65250277522b"
    },
    {
      "cell_type": "code",
      "execution_count": 10,
      "metadata": {},
      "outputs": [],
      "source": [
        "# Your answer here\n",
        "|\n",
        "|\n",
        "|\n",
        "|\n",
        "|\n",
        "|\n",
        "|\n",
        "|\n",
        "|\n",
        "|\n",
        "|\n",
        "|\n",
        "|\n",
        "|"
      ],
      "id": "ca13043f"
    },
    {
      "cell_type": "raw",
      "metadata": {
        "raw_mimetype": "tex"
      },
      "source": [
        "\\newpage"
      ],
      "id": "46604f48-3a55-477d-bb97-e6ffcf24ec48"
    },
    {
      "cell_type": "markdown",
      "metadata": {},
      "source": [
        "------------------------------------------------------------------------\n",
        "\n",
        "## 2.d (2 Points)\n",
        "\n",
        "What is the purpose of a solver used in Mathematical Programming?\n",
        "\n",
        "Please describe the answer in your own words in 2-3 sentences."
      ],
      "id": "a9492a9a-f91b-44b7-8f1d-d97da8abbd08"
    },
    {
      "cell_type": "raw",
      "metadata": {
        "raw_mimetype": "tex"
      },
      "source": [
        "\\vspace{0.1in}"
      ],
      "id": "3cfca82e-d759-49b4-b8dd-0097d30efb06"
    },
    {
      "cell_type": "code",
      "execution_count": 11,
      "metadata": {},
      "outputs": [],
      "source": [
        "# Your answer here\n",
        "|\n",
        "|\n",
        "|\n",
        "|\n",
        "|\n",
        "|\n",
        "|\n",
        "|\n",
        "|\n",
        "|\n",
        "|\n",
        "|\n",
        "|\n",
        "|"
      ],
      "id": "d5b0b2a9"
    },
    {
      "cell_type": "raw",
      "metadata": {
        "raw_mimetype": "tex"
      },
      "source": [
        "\\newpage"
      ],
      "id": "a6a9101d-3880-4c03-9bec-8202eb02fec0"
    },
    {
      "cell_type": "markdown",
      "metadata": {},
      "source": [
        "------------------------------------------------------------------------\n",
        "\n",
        "# Part III\n",
        "\n",
        "## 3.a (3 Points)\n",
        "\n",
        "Create a JuMP variable with the following properties: A continuous\n",
        "variable `Production[t,p]` for time periods $t \\in 1:T$ and products\n",
        "$p \\in 1:P$ which must be non-negative and has an upper bound stored in\n",
        "parameter `capacity[t,p]`. All parameters (`T`, `P`, `capacity`) are\n",
        "already defined, the model is not created yet.\n",
        "\n",
        "Specify the definition of the variable in correct Julia syntax."
      ],
      "id": "634d9a49-80e4-4a74-92b1-9c6cf9daf523"
    },
    {
      "cell_type": "raw",
      "metadata": {
        "raw_mimetype": "tex"
      },
      "source": [
        "\\vspace{0.1in}"
      ],
      "id": "adc36df3-1edb-41dd-b150-a2856a9c4120"
    },
    {
      "cell_type": "code",
      "execution_count": 14,
      "metadata": {},
      "outputs": [],
      "source": [
        "# Your answer here\n",
        "|\n",
        "|\n",
        "|\n",
        "|\n",
        "|\n",
        "|\n",
        "|\n",
        "|\n",
        "|\n",
        "|\n",
        "|\n",
        "|\n",
        "|\n",
        "|"
      ],
      "id": "f4764471"
    },
    {
      "cell_type": "raw",
      "metadata": {
        "raw_mimetype": "tex"
      },
      "source": [
        "\\newpage"
      ],
      "id": "a6f703ed-710d-4a08-ab1d-3d2a79f4ab21"
    },
    {
      "cell_type": "markdown",
      "metadata": {},
      "source": [
        "------------------------------------------------------------------------\n",
        "\n",
        "## 3.b (3 Points)\n",
        "\n",
        "Write JuMP code to implement the following constraint:\n",
        "\n",
        "$$\\sum_{f \\in F} Y_{f,z} \\leq 1 \\quad \\forall z \\in Z$$\n",
        "\n",
        "Assume variables `Y` is already defined as binary variables and the sets\n",
        "`F` and `Z` are already defined as well. The model is also already\n",
        "created.\n",
        "\n",
        "Specify the definition of the constraint in correct Julia syntax."
      ],
      "id": "9b937866-4faa-455b-99e2-757f3fc46fc6"
    },
    {
      "cell_type": "raw",
      "metadata": {
        "raw_mimetype": "tex"
      },
      "source": [
        "\\vspace{0.1in}"
      ],
      "id": "1ff5e403-a587-4716-8c98-a65cd226df4f"
    },
    {
      "cell_type": "code",
      "execution_count": 17,
      "metadata": {},
      "outputs": [],
      "source": [
        "# Your answer here\n",
        "|\n",
        "|\n",
        "|\n",
        "|\n",
        "|\n",
        "|\n",
        "|\n",
        "|\n",
        "|\n",
        "|\n",
        "|\n",
        "|\n",
        "|\n",
        "|"
      ],
      "id": "9efdf22a"
    },
    {
      "cell_type": "raw",
      "metadata": {
        "raw_mimetype": "tex"
      },
      "source": [
        "\\newpage"
      ],
      "id": "51ffb794-b6da-4284-84fc-dced471fb734"
    },
    {
      "cell_type": "markdown",
      "metadata": {},
      "source": [
        "------------------------------------------------------------------------\n",
        "\n",
        "## 3.c (2 Points)\n",
        "\n",
        "You are given the following JuMP code with a constraint that is not\n",
        "correctly implemented.\n",
        "\n",
        "``` julia\n",
        "@constraint(sum(X[i,j] for i in 1:10, j in 1:5) == 10)\n",
        "```\n",
        "\n",
        "Please explain why the constraint is not correctly implemented and how\n",
        "it can be fixed."
      ],
      "id": "abc74722-c134-45a1-8fba-c71a07fb165c"
    },
    {
      "cell_type": "raw",
      "metadata": {
        "raw_mimetype": "tex"
      },
      "source": [
        "\\vspace{0.1in}"
      ],
      "id": "90cbc789-18a5-4675-a19c-a76f1d2a29ee"
    },
    {
      "cell_type": "code",
      "execution_count": 21,
      "metadata": {},
      "outputs": [],
      "source": [
        "# Your answer here\n",
        "|\n",
        "|\n",
        "|\n",
        "|\n",
        "|\n",
        "|\n",
        "|\n",
        "|\n",
        "|\n",
        "|\n",
        "|\n",
        "|\n",
        "|\n",
        "|"
      ],
      "id": "3aa3d773"
    },
    {
      "cell_type": "raw",
      "metadata": {
        "raw_mimetype": "tex"
      },
      "source": [
        "\\newpage"
      ],
      "id": "54dfcde8-556a-4530-8074-d3054ca76820"
    },
    {
      "cell_type": "markdown",
      "metadata": {},
      "source": [
        "------------------------------------------------------------------------\n",
        "\n",
        "## 3.d (2 Points)\n",
        "\n",
        "What is the difference between a tuple and an array (vector) in Julia?\n",
        "\n",
        "Please describe the difference in a 1-3 sentences."
      ],
      "id": "2fd5e1ff-e99a-4ef8-9ff3-e4149a214cde"
    },
    {
      "cell_type": "raw",
      "metadata": {
        "raw_mimetype": "tex"
      },
      "source": [
        "\\vspace{0.1in}"
      ],
      "id": "4389cac9-68ca-47d2-ba13-91ec24b69c6c"
    },
    {
      "cell_type": "code",
      "execution_count": 22,
      "metadata": {},
      "outputs": [],
      "source": [
        "# Your answer here\n",
        "|\n",
        "|\n",
        "|\n",
        "|\n",
        "|\n",
        "|\n",
        "|\n",
        "|\n",
        "|\n",
        "|\n",
        "|\n",
        "|\n",
        "|\n",
        "|"
      ],
      "id": "d6e0b2d8"
    },
    {
      "cell_type": "raw",
      "metadata": {
        "raw_mimetype": "tex"
      },
      "source": [
        "\\newpage"
      ],
      "id": "6e311623-5ac5-4e67-81ca-59dbba934ba7"
    },
    {
      "cell_type": "markdown",
      "metadata": {},
      "source": [
        "------------------------------------------------------------------------\n",
        "\n",
        "## 3.e (5 Points)\n",
        "\n",
        "You are given the following code in Julia:"
      ],
      "id": "fccf706c-8245-4970-990b-525369141d3f"
    },
    {
      "cell_type": "code",
      "execution_count": 23,
      "metadata": {},
      "outputs": [],
      "source": [
        "mySet = 1:8\n",
        "vectorA = [\"Hello\", \"World\"]\n",
        "for i in mySet\n",
        "    if i <= 2\n",
        "        println(vectorA[i])\n",
        "    elseif i <= 4\n",
        "        println(vectorA[i-2])\n",
        "    elseif i > 6 && i <= 8\n",
        "        println(\"This is $i\")\n",
        "    elseif i == 9\n",
        "        break\n",
        "    else\n",
        "        println(\"Hi $i\")\n",
        "    end\n",
        "end"
      ],
      "id": "a46aeb43"
    },
    {
      "cell_type": "markdown",
      "metadata": {},
      "source": [
        "Please write down the output of the code."
      ],
      "id": "e9b2bd40-1d54-4dba-958c-93f9c6770b37"
    },
    {
      "cell_type": "raw",
      "metadata": {
        "raw_mimetype": "tex"
      },
      "source": [
        "\\vspace{0.1in}"
      ],
      "id": "abc0b895-908b-446b-bc39-7fa232a06a63"
    },
    {
      "cell_type": "code",
      "execution_count": 25,
      "metadata": {},
      "outputs": [],
      "source": [
        "# Your answer here\n",
        "|\n",
        "|\n",
        "|\n",
        "|\n",
        "|\n",
        "|\n",
        "|\n",
        "|\n",
        "|\n",
        "|\n",
        "|\n",
        "|\n",
        "|\n",
        "|"
      ],
      "id": "4b3670f7"
    },
    {
      "cell_type": "raw",
      "metadata": {
        "raw_mimetype": "tex"
      },
      "source": [
        "\\newpage"
      ],
      "id": "725167b8-bc25-4765-978f-81d0d447c143"
    }
  ],
  "nbformat": 4,
  "nbformat_minor": 5,
  "metadata": {
    "kernelspec": {
      "name": "julia-ao-1.12",
      "display_name": "Julia-AO 1.12.0",
      "language": "julia",
      "path": "/Users/vlcek/Library/Jupyter/kernels/julia-ao-1.12"
    },
    "language_info": {
      "name": "julia",
      "file_extension": ".jl",
      "mimetype": "application/julia",
      "version": "1.12.0"
    }
  }
}