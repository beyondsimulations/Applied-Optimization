{
  "cells": [
    {
      "cell_type": "markdown",
      "metadata": {},
      "source": [
        "# Tutorial IX - Safety Planning for the Islamic Pilgrimage in Mecca\n",
        "\n",
        "Applied Optimization with Julia\n",
        "\n",
        "# Introduction\n",
        "\n",
        "The Hajj, one of the world’s largest religious gatherings, presents\n",
        "fascinating and very important optimization challenges. During this\n",
        "annual pilgrimage to Mecca, millions of Muslims perform sacred rituals,\n",
        "including the symbolic stoning of the devil. Your task is to create an\n",
        "efficient scheduling system that ensures both safety and spiritual\n",
        "fulfillment for all pilgrims.\n",
        "\n",
        "## The challenge\n",
        "\n",
        "You’re responsible for scheduling 15 pilgrim groups\n",
        "$\\mathcal{S} \\in \\{g1,g2,...,g15\\}$ across 6 time periods\n",
        "$\\mathcal{T} \\in \\{t1,t2,...,t6\\}$ for the Jamarat ritual.\n",
        "\n",
        "The groups $\\mathcal{S}$ reside in two different camps\n",
        "$\\mathcal{C} \\in \\{A,B\\}$. The first 6 groups are in camp A while the\n",
        "other groups are in camp B. Each camp has only one path\n",
        "$\\mathcal{P} \\in \\{A-S-A,B-S-B\\}$ and both paths have only one resource\n",
        "$\\mathcal{R}$, the stoning of the devil.\n",
        "\n",
        "The capacity of the stoning is 10,000 pilgrims per period and there is\n",
        "no period offset between the stoning and the capacity utilization. Each\n",
        "group can stone the devil in any period $t$.\n",
        "\n",
        "To constrain the fluctuation of the resource utilization $\\sigma$ was\n",
        "set to 0.3 while the first period is not constrained. Consider that the\n",
        "number of pilgrims per group $s$ and the penalty value $f_{s,t}$ are\n",
        "given.\n",
        "\n",
        "------------------------------------------------------------------------\n",
        "\n",
        "# 1. Problem Identification\n",
        "\n",
        "You’ll need to create an optimization model that:\n",
        "\n",
        "1.  Keeps everyone safe by respecting capacity limits\n",
        "2.  Maintains steady flow between periods\n",
        "3.  Maximizes pilgrim satisfaction by considering their time preferences\n",
        "\n",
        "The model can be simplified when compared to the full model from the\n",
        "lecture in several ways!\n",
        "\n",
        "Please illustrate possible simplifications in a few sentences in the\n",
        "cell below and document the key sets, parameters, and decision variables\n",
        "needed and which elements we can eliminate and why.\n",
        "\n",
        "> **Tip**\n",
        ">\n",
        "> To solve this task, it can be helpful to work with paper and pen to\n",
        "> sketch the problem, and get a better understanding."
      ],
      "id": "1595b51e-a6f2-4c83-bcef-15f6488360b0"
    },
    {
      "cell_type": "code",
      "execution_count": 2,
      "metadata": {},
      "outputs": [],
      "source": [
        "#=\n",
        "\n",
        "\n",
        "\n",
        "=#"
      ],
      "id": "c6a6dc65"
    },
    {
      "cell_type": "markdown",
      "metadata": {},
      "source": [
        "------------------------------------------------------------------------\n",
        "\n",
        "# 2. Implementing the Model\n",
        "\n",
        "Now, implement and solve the problem defined in the previous task. This\n",
        "time, a draft is not available and you have to implement everything\n",
        "yourself. Note, that the number of pilgrims per group $s$ and the\n",
        "penalty value $f_{s,t}$ are provided as CSV files. You can find them in\n",
        "the `data` folder of this lectures folder in the Github repository.\n",
        "\n",
        "## Load the Data\n",
        "\n",
        "Start by loading the data into the notebook for the number of pilgrims\n",
        "per group and the penalty value per group per period."
      ],
      "id": "bcff63d4-b151-43cf-9add-c64298b47da5"
    },
    {
      "cell_type": "code",
      "execution_count": 3,
      "metadata": {},
      "outputs": [],
      "source": [
        "# YOUR CODE BELOW"
      ],
      "id": "ede192d2"
    },
    {
      "cell_type": "markdown",
      "metadata": {},
      "source": [
        "## Define all Sets, Parameters and Variables\n",
        "\n",
        "Please define all sets, parameters and variables you are going to use in\n",
        "the following cell. Make sure to read the task above carefully, as the\n",
        "problem can be modelled much simpler than the full model from the\n",
        "lecture, due to certain properties of the problem."
      ],
      "id": "5f6139db-a712-4863-a236-056e3a61d566"
    },
    {
      "cell_type": "code",
      "execution_count": 4,
      "metadata": {},
      "outputs": [],
      "source": [
        "# YOUR CODE BELOW\n"
      ],
      "id": "9e906c1c"
    },
    {
      "cell_type": "markdown",
      "metadata": {},
      "source": [
        "## Define the Model\n",
        "\n",
        "Define the objective function and all constraints of the model in the\n",
        "following cell."
      ],
      "id": "b83e9534-9514-4824-99ad-f03a8c3ce92e"
    },
    {
      "cell_type": "code",
      "execution_count": 5,
      "metadata": {},
      "outputs": [],
      "source": [
        "# YOUR CODE BELOW\n"
      ],
      "id": "30dfd451"
    },
    {
      "cell_type": "markdown",
      "metadata": {},
      "source": [
        "## Solve the Model\n",
        "\n",
        "Solve the model and print the results. What is the total dissatisfaction\n",
        "with the resulting timetable?"
      ],
      "id": "a35d076c-4455-4d6a-943b-d87aace6d058"
    },
    {
      "cell_type": "code",
      "execution_count": 6,
      "metadata": {},
      "outputs": [],
      "source": [
        "# YOUR CODE BELOW"
      ],
      "id": "1938849c"
    },
    {
      "cell_type": "markdown",
      "metadata": {},
      "source": [
        "> **Tip**\n",
        ">\n",
        "> If you end up with an objective value of approximately 7, you have\n",
        "> likely found the optimal solution to the problem.\n",
        "\n",
        "------------------------------------------------------------------------\n",
        "\n",
        "## Analyze the Results\n",
        "\n",
        "Plot the utilization of the resource by using the `Plots` package."
      ],
      "id": "34f4a16e-60c3-4e16-9a19-ad475c1de831"
    },
    {
      "cell_type": "code",
      "execution_count": 7,
      "metadata": {},
      "outputs": [],
      "source": [
        "# YOUR CODE BELOW"
      ],
      "id": "e105d252"
    },
    {
      "cell_type": "markdown",
      "metadata": {},
      "source": [
        "Finally, reflect in a few sentences on the simplifications you made to\n",
        "the model and how they affected the solution."
      ],
      "id": "df0e1fe1-854f-42a4-b119-b70116ad36ff"
    },
    {
      "cell_type": "code",
      "execution_count": 8,
      "metadata": {},
      "outputs": [],
      "source": [
        "#=\n",
        "\n",
        "\n",
        "\n",
        "=#"
      ],
      "id": "253fedb9"
    },
    {
      "cell_type": "markdown",
      "metadata": {},
      "source": [
        "------------------------------------------------------------------------\n",
        "\n",
        "# Solutions\n",
        "\n",
        "You will likely find solutions to most exercises online. However, I\n",
        "strongly encourage you to work on these exercises independently without\n",
        "searching explicitly for the exact answers to the exercises.\n",
        "Understanding someone else’s solution is very different from developing\n",
        "your own. Use the lecture notes and try to solve the exercises on your\n",
        "own. This approach will significantly enhance your learning and\n",
        "problem-solving skills.\n",
        "\n",
        "Remember, the goal is not just to complete the exercises, but to\n",
        "understand the concepts and improve your programming abilities. If you\n",
        "encounter difficulties, review the lecture materials, experiment with\n",
        "different approaches, and don’t hesitate to ask for clarification during\n",
        "class discussions.\n",
        "\n",
        "Later, you will find the solutions to these exercises online in the\n",
        "associated GitHub repository, but we will also quickly go over them in\n",
        "next week’s tutorial. To access the solutions, click on the Github\n",
        "button on the lower right and search for the folder with today’s lecture\n",
        "and tutorial. Alternatively, you can ask ChatGPT or Claude to explain\n",
        "them to you. But please remember, the goal is not just to complete the\n",
        "exercises, but to understand the concepts and improve your programming\n",
        "abilities."
      ],
      "id": "4d242c2f-6a04-40d2-abc6-b1e988a5cbb1"
    }
  ],
  "nbformat": 4,
  "nbformat_minor": 5,
  "metadata": {
    "kernelspec": {
      "name": "julia-1.11",
      "display_name": "Julia 1.11.6",
      "language": "julia",
      "path": "/Users/vlcek/Library/Jupyter/kernels/julia-1.11"
    },
    "language_info": {
      "name": "julia",
      "file_extension": ".jl",
      "mimetype": "application/julia",
      "version": "1.11.6"
    }
  }
}