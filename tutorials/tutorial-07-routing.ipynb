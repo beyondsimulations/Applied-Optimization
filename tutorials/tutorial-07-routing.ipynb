{
  "cells": [
    {
      "cell_type": "markdown",
      "metadata": {},
      "source": [
        "# Tutorial VII - Periodic Library Routing\n",
        "\n",
        "Applied Optimization with Julia\n",
        "\n",
        "# Introduction\n",
        "\n",
        "Welcome to “FastDelivery” - a local logistics service in Hamburg! We’re\n",
        "working with a central warehouse that operates a decentralized\n",
        "distribution network: they deliver packages directly to smaller\n",
        "distribution centers in the region, ensuring efficient last-mile\n",
        "delivery across the area.\n",
        "\n",
        "The central warehouse operates a fleet of delivery vehicles that\n",
        "transport packages between their main hub and 14 partner distribution\n",
        "centers scattered across the region. The challenge? Designing the most\n",
        "efficient routing system to keep packages flowing smoothly while keeping\n",
        "operational costs in check.\n",
        "\n",
        "In this case study, we’ll help FastDelivery optimize their delivery\n",
        "routes using the Capacitated Vehicle Routing Problem (CVRP) approach.\n",
        "We’ll consider several real-world constraints like vehicle capacity\n",
        "(measured in standard shipping containers), driving distances, and\n",
        "operational costs to find the best possible delivery strategy.\n",
        "\n",
        "------------------------------------------------------------------------\n",
        "\n",
        "# 1. Implementing the basic CVRP\n",
        "\n",
        "Implement the CVRP from the lecture without the constraints preventing\n",
        "subtours and restricting the driving time and capacities.\n",
        "\n",
        "The demand per distribution center and the coordinates of the locations\n",
        "are provided as CSV files.\n",
        "\n",
        "The number of vehicles is 6 and each vehicle can transport up to 50\n",
        "parcels to the distribution centers. Note that capacity of each vehicle\n",
        "is identical.\n",
        "\n",
        "## Loading the data\n",
        "\n",
        "First, we need to load the required packages and data files. Make sure\n",
        "you have the following files in the `data` directory that is located in\n",
        "the same directory as this notebook:\n",
        "\n",
        "-   `routing-demand.csv`: Contains demand per distribution center\n",
        "-   `coord_x_y.csv`: Contains location coordinates"
      ],
      "id": "c8033b2b-0767-4fd5-a764-fe18760bc19b"
    },
    {
      "cell_type": "code",
      "execution_count": 3,
      "metadata": {},
      "outputs": [
        {
          "output_type": "display_data",
          "metadata": {},
          "data": {
            "text/html": [
              "</div>"
            ]
          }
        }
      ],
      "source": [
        "using DelimitedFiles\n",
        "using CSV\n",
        "using DataFrames\n",
        "using JuMP\n",
        "using HiGHS\n",
        "using Plots\n",
        "\n",
        "## Prepare the model data\n",
        "file_directory = \"$(@__DIR__)/data\"\n",
        "demand = CSV.read(\"$(file_directory)/routing-demand.csv\", DataFrame)\n",
        "coord = CSV.read(\"$(file_directory)/coord_x_y.csv\", DataFrame)"
      ],
      "id": "4729c3e3"
    },
    {
      "cell_type": "markdown",
      "metadata": {},
      "source": [
        "> **Tip**\n",
        ">\n",
        "> Make sure that you have downloaded the data in the `data` folder that\n",
        "> is located in the same directory as this notebook.\n",
        "\n",
        "------------------------------------------------------------------------\n",
        "\n",
        "## Define the parameters\n",
        "\n",
        "First, define the number of vehicles and the capacity as parameters.\n",
        "Name them `vehicles` and `capacity`."
      ],
      "id": "cbdd497b-859e-4257-9293-41427c271886"
    },
    {
      "cell_type": "code",
      "execution_count": 4,
      "metadata": {},
      "outputs": [],
      "source": [
        "# YOUR CODE BELOW"
      ],
      "id": "5ee64cc5"
    },
    {
      "cell_type": "code",
      "execution_count": 5,
      "metadata": {},
      "outputs": [],
      "source": [
        "# Test your code\n",
        "@assert vehicles == 30/5 \"Number of vehicles is incorrect\"\n",
        "@assert capacity == 100/2 \"Capacity is incorrect\"\n",
        "println(\"Variables defined, great job!\")"
      ],
      "id": "a9a693e0"
    },
    {
      "cell_type": "markdown",
      "metadata": {},
      "source": [
        "Now, we need to compute the distance matrix. You can do so by using the\n",
        "Euclidean distance between the coordinates of the locations. Compute the\n",
        "distance matrix for all locations and store it in a dictionary called\n",
        "`distance`. Access each location by the tuple `(i,j)` where `i` is the\n",
        "origin and `j` is the destination. **Hint: You need the distance from\n",
        "each location to all other locations!**"
      ],
      "id": "444b8563-6c3f-4e28-b277-e23878460483"
    },
    {
      "cell_type": "code",
      "execution_count": 6,
      "metadata": {},
      "outputs": [],
      "source": [
        "# YOUR CODE BELOW"
      ],
      "id": "1d6af2cc"
    },
    {
      "cell_type": "code",
      "execution_count": 7,
      "metadata": {},
      "outputs": [],
      "source": [
        "# Test your code\n",
        "@assert length(distance) == nrow(coord) * nrow(coord) \"Distance dictionary should have n² entries where n is the number of locations\"\n",
        "@assert all(v >= 0 for v in values(distance)) \"All distances should be non-negative\"\n",
        "@assert all(isapprox(distance[(i,j)], distance[(j,i)]) for i in coord.location for j in coord.location if i != j) \"Distances should be symmetric\"\n",
        "println(\"Distance dictionary test passed successfully, great job!\")"
      ],
      "id": "43501305"
    },
    {
      "cell_type": "markdown",
      "metadata": {},
      "source": [
        "------------------------------------------------------------------------\n",
        "\n",
        "## Define the model\n",
        "\n",
        "Next, we create the model instance. As this is a linear problem, we can\n",
        "use the `HiGHS` solver."
      ],
      "id": "f0c96bb3-08df-442a-889e-578d448b5f65"
    },
    {
      "cell_type": "code",
      "execution_count": 8,
      "metadata": {},
      "outputs": [],
      "source": [
        "# Create the model instance\n",
        "cvrp_model = Model(HiGHS.Optimizer)\n",
        "set_attribute(cvrp_model, \"presolve\", \"on\")\n",
        "set_attribute(cvrp_model, \"time_limit\", 60.0)\n",
        "set_attribute(cvrp_model, \"mip_rel_gap\", 0.0)"
      ],
      "id": "79acedf7"
    },
    {
      "cell_type": "markdown",
      "metadata": {},
      "source": [
        "## Define the variables\n",
        "\n",
        "Now you can start by defining the model variables. The variable we need\n",
        "first is the binary decision variable `X` which indicates whether an arc\n",
        "from node `i` to node `j` exists. To work with the decision variable,\n",
        "you will need to work with a vector of locations."
      ],
      "id": "b5b88243-047e-4ae2-b7cb-d9289f9a4a91"
    },
    {
      "cell_type": "code",
      "execution_count": 9,
      "metadata": {},
      "outputs": [
        {
          "output_type": "stream",
          "name": "stdout",
          "text": [
            "String7[\"central\", \"dc_01\", \"dc_02\", \"dc_03\", \"dc_04\", \"dc_05\", \"dc_06\", \"dc_07\", \"dc_08\", \"dc_09\", \"dc_10\", \"dc_11\", \"dc_12\", \"dc_13\", \"dc_14\"]"
          ]
        }
      ],
      "source": [
        "# Vector of locations\n",
        "println(demand.location)"
      ],
      "id": "166f515b"
    },
    {
      "cell_type": "markdown",
      "metadata": {},
      "source": [
        "> **Tip**\n",
        ">\n",
        "> You could use the `demand.location` vector to define the elements of\n",
        "> the decision variable `X`."
      ],
      "id": "ab562233-cdd6-41c7-82ec-f5d19758e106"
    },
    {
      "cell_type": "code",
      "execution_count": 10,
      "metadata": {},
      "outputs": [],
      "source": [
        "# YOUR CODE BELOW"
      ],
      "id": "7f520d91"
    },
    {
      "cell_type": "code",
      "execution_count": 11,
      "metadata": {},
      "outputs": [],
      "source": [
        "# Test your code\n",
        "@assert size(X) == (15,15) \"Have you defined the decision variable X?\"\n",
        "@assert all(is_binary(x) for x in X) \"The decision variable X should be binary\"\n",
        "println(\"Decision variable X test passed successfully, great job!\")"
      ],
      "id": "0982c578"
    },
    {
      "cell_type": "markdown",
      "metadata": {},
      "source": [
        "------------------------------------------------------------------------\n",
        "\n",
        "## Define the objective function\n",
        "\n",
        "We want to minimize the total distance of the routes based on the\n",
        "distance dictionary `distance` that you computed earlier. Create the\n",
        "objective function."
      ],
      "id": "41c286b5-7b2e-40d0-9703-691960b4658e"
    },
    {
      "cell_type": "code",
      "execution_count": 12,
      "metadata": {},
      "outputs": [],
      "source": [
        "# YOUR CODE BELOW"
      ],
      "id": "8d6f9f32"
    },
    {
      "cell_type": "code",
      "execution_count": 13,
      "metadata": {},
      "outputs": [],
      "source": [
        "# Test your code\n",
        "obj = objective_function(cvrp_model)\n",
        "@assert typeof(obj) <: GenericAffExpr \"Objective should be a linear expression\"\n",
        "@assert length(obj.terms) > 0 \"Objective should not be empty\"\n",
        "println(\"Objective function defined successfully, great job!\")\n",
        "println(\"Note, that it is not tested whether the objective function is correct!\")"
      ],
      "id": "8037180c"
    },
    {
      "cell_type": "markdown",
      "metadata": {},
      "source": [
        "------------------------------------------------------------------------\n",
        "\n",
        "## Define the constraints\n",
        "\n",
        "Create the two set of constraints that ensure that each location is\n",
        "visited exactly once. **Note that the central location is indexed as\n",
        "`\"central\"`!** We don’t need to consider the central location for the\n",
        "constraints and we have to ensure during summing that we don’t include\n",
        "the pairs where `i == j`."
      ],
      "id": "163efc64-cd7d-44f8-b165-6fe7677229c2"
    },
    {
      "cell_type": "code",
      "execution_count": 14,
      "metadata": {},
      "outputs": [],
      "source": [
        "# YOUR CODE BELOW"
      ],
      "id": "3723685e"
    },
    {
      "cell_type": "code",
      "execution_count": 15,
      "metadata": {},
      "outputs": [],
      "source": [
        "# Test your code\n",
        "const_refs = all_constraints(cvrp_model, include_variable_in_set_constraints=false)\n",
        "num_constraints_in_model = length(const_refs)\n",
        "expected_constraints = 2 * (nrow(demand) - 1)  # indegree + outdegree for all nodes except central\n",
        "@assert num_constraints_in_model == expected_constraints \"Number of constraints is incorrect as it is $(num_constraints_in_model) instead of $(expected_constraints).\"\n",
        "println(\"Constraints for the inflow and outflow defined, great job!\")"
      ],
      "id": "71ec5295"
    },
    {
      "cell_type": "markdown",
      "metadata": {},
      "source": [
        "Next, we need to restrict the ingoing and outgoing flows to the\n",
        "`central` location. Create the two constraints that ensure that the\n",
        "number of vehicles arriving and leaving the central location is equal to\n",
        "the number of vehicles."
      ],
      "id": "3010cfaa-1b4f-4dd6-be26-b4e5a28539b9"
    },
    {
      "cell_type": "code",
      "execution_count": 16,
      "metadata": {},
      "outputs": [],
      "source": [
        "# YOUR CODE BELOW"
      ],
      "id": "09524a76"
    },
    {
      "cell_type": "code",
      "execution_count": 17,
      "metadata": {},
      "outputs": [],
      "source": [
        "# Test your code\n",
        "const_refs = all_constraints(cvrp_model, include_variable_in_set_constraints=false)\n",
        "num_constraints_in_model = length(const_refs)\n",
        "expected_constraints = 2 * (nrow(demand) - 1) + 2  # indegree + outdegree for all nodes except central + 2 for inflow and outflow\n",
        "@assert num_constraints_in_model == expected_constraints \"Number of constraints is incorrect as it is $(num_constraints_in_model) instead of $(expected_constraints).\"\n",
        "println(\"Constraints for the inflow and outflow defined, great job!\")"
      ],
      "id": "733b87d8"
    },
    {
      "cell_type": "markdown",
      "metadata": {},
      "source": [
        "------------------------------------------------------------------------\n",
        "\n",
        "## Solve the model\n",
        "\n",
        "Now, we can solve the model. This should work very fast, as the model is\n",
        "very simple without any subtour elimination constraints. Solve the model\n",
        "as usual."
      ],
      "id": "cf31228f-dba0-4df5-b2c6-868c96682ead"
    },
    {
      "cell_type": "code",
      "execution_count": 18,
      "metadata": {},
      "outputs": [],
      "source": [
        "# YOUR CODE BELOW"
      ],
      "id": "3aa9e3e4"
    },
    {
      "cell_type": "code",
      "execution_count": 19,
      "metadata": {},
      "outputs": [],
      "source": [
        "# This defines a function that prints the status of the model\n",
        "function print_model_status(model)\n",
        "    begin\n",
        "        if termination_status(model) == OPTIMAL\n",
        "            println(\"Great, the solution is optimal.\")\n",
        "            println(\"The relative gap is $(relative_gap(model))\")\n",
        "            println(\"The solve time (in seconds) is $(solve_time(model))\")\n",
        "        elseif termination_status(model) == TIME_LIMIT && has_values(model)\n",
        "            println(\"Solution is suboptimal due to a time limit, but a primal solution is available\")\n",
        "        else\n",
        "            error(\"The model was not solved correctly.\")\n",
        "        end\n",
        "        println(\"The objective value is \", objective_value(model))\n",
        "    end\n",
        "end\n",
        "\n",
        "# Test your code\n",
        "@assert termination_status(cvrp_model) == OPTIMAL \"The model should be optimal. Have you have any mistakes in the model formulation?\"\n",
        "print_model_status(cvrp_model)\n",
        "println(\"Model solved successfully, great job!\")"
      ],
      "id": "02d510fa"
    },
    {
      "cell_type": "markdown",
      "metadata": {},
      "source": [
        "------------------------------------------------------------------------\n",
        "\n",
        "## Plot the results\n",
        "\n",
        "The following part extracts the results to plot the tours and requires\n",
        "no changes on your part. It defines some functions that are used to plot\n",
        "the results."
      ],
      "id": "ac0abcf4-d17c-4fa7-b541-d891781cd50e"
    },
    {
      "cell_type": "code",
      "execution_count": 20,
      "metadata": {},
      "outputs": [],
      "source": [
        "function plot_routes(X, coord)\n",
        "\n",
        "    Routes = [value(X[i,j]) >= 0.5 ? true : false for i in coord.location, j in coord.location]\n",
        "\n",
        "    fig = plot(\n",
        "        size=(800, 600),\n",
        "        background_color=:white,\n",
        "        framestyle=:box,\n",
        "        grid=false,\n",
        "        dpi=300\n",
        "    )\n",
        "\n",
        "    connections = findall(Routes -> !iszero(Routes), Routes .>= 0.5)\n",
        "\n",
        "    for conn in connections\n",
        "        xx = [coord[conn[1],:x]; coord[conn[2],:x]]\n",
        "        yy = [coord[conn[1],:y]; coord[conn[2],:y]]\n",
        "        plot!(\n",
        "            fig, xx, yy,\n",
        "            color=:crimson,\n",
        "            label=\"\",\n",
        "            linewidth=2,\n",
        "            linestyle=:solid,\n",
        "            alpha=0.7\n",
        "        )\n",
        "    end\n",
        "\n",
        "    scatter!(\n",
        "        fig, coord[1:1,:x], coord[1:1,:y],\n",
        "        marker=:star5,\n",
        "        color=:black,\n",
        "        markersize=15,\n",
        "        label=\"Central Library\",\n",
        "        markerstrokewidth=1\n",
        "    )\n",
        "    scatter!(\n",
        "        fig, coord[2:end,:x], coord[2:end,:y],\n",
        "        marker=:circle,\n",
        "        color=:steelblue,\n",
        "        markersize=8,\n",
        "        label=\"Libraries\",\n",
        "        markerstrokewidth=1\n",
        "    )\n",
        "\n",
        "    plot!(\n",
        "        fig,\n",
        "        title=\"Delivery Routes Optimization\",\n",
        "        xlabel=\"Distance (km)\",\n",
        "        ylabel=\"Distance (km)\",\n",
        "        legend=:bottomright,\n",
        "        legendfontsize=8,\n",
        "        foreground_color_legend=nothing,\n",
        "        background_color_legend=:transparent,\n",
        "        margin=5Plots.mm,\n",
        "        xlims=(minimum(coord.x) - 5, maximum(coord.x) + 5),\n",
        "        ylims=(minimum(coord.y) - 5, maximum(coord.y) + 5)\n",
        "    )\n",
        "\n",
        "    return fig\n",
        "end\n",
        "\n",
        "# Plot the routes\n",
        "display(plot_routes(X,coord))"
      ],
      "id": "d50be08d"
    },
    {
      "cell_type": "markdown",
      "metadata": {},
      "source": [
        "------------------------------------------------------------------------\n",
        "\n",
        "# 2. Subtour elimination\n",
        "\n",
        "As you see in the plot, the solution contains subtours. Thus, we need to\n",
        "add some constraints from the Miller-Tucker-Zemlin (MTZ) formulation to\n",
        "prevent subtours. First, we need to define the variable `U` which is the\n",
        "current capacity usage at node `i`.\n",
        "\n",
        "> **Tip**\n",
        ">\n",
        "> It might be useful to convert the `demand` DataFrame into a\n",
        "> dictionary, so we can access the demand for each location directly by\n",
        "> the location name for the variable definition and the constraints.\n",
        "\n",
        "Create the variable `U` and ensure that the capacity usage at each\n",
        "location is between the demand and the capacity. Note, that a dictionary\n",
        "might be useful here."
      ],
      "id": "5c47e9d6-eec8-434f-a313-48c8f65500ea"
    },
    {
      "cell_type": "code",
      "execution_count": 21,
      "metadata": {},
      "outputs": [],
      "source": [
        "# YOUR CODE BELOW"
      ],
      "id": "e3526b54"
    },
    {
      "cell_type": "code",
      "execution_count": 22,
      "metadata": {},
      "outputs": [],
      "source": [
        "# Test your code\n",
        "demand_dict = Dict(demand.location .=> demand.demand)\n",
        "@assert all(has_lower_bound(U[i]) == true for i in demand.location) \"The variable U should have a lower bound\"\n",
        "@assert all(has_upper_bound(U[i]) == true for i in demand.location) \"The variable U should have an upper bound\"\n",
        "println(\"Variable U defined successfully, great job!\")"
      ],
      "id": "1c14bc63"
    },
    {
      "cell_type": "markdown",
      "metadata": {},
      "source": [
        "Next, we need to add the set of constraints to prevent subtours."
      ],
      "id": "e1b10929-b4cc-4e2c-82c6-e0cb6f7bd311"
    },
    {
      "cell_type": "code",
      "execution_count": 23,
      "metadata": {},
      "outputs": [],
      "source": [
        "# YOUR CODE BELOW"
      ],
      "id": "67413913"
    },
    {
      "cell_type": "code",
      "execution_count": 24,
      "metadata": {},
      "outputs": [],
      "source": [
        "# Test your code\n",
        "println(\"Constraints for the subtour elimination defined!\")\n",
        "println(\"It is not tested whether the constraints are correct, so please check the resulting routes in the visualization.\")"
      ],
      "id": "9e125919"
    },
    {
      "cell_type": "markdown",
      "metadata": {},
      "source": [
        "Now, solve the model again."
      ],
      "id": "3db6b2e5-74cc-4dd0-9646-f741c30f38c6"
    },
    {
      "cell_type": "code",
      "execution_count": 25,
      "metadata": {},
      "outputs": [],
      "source": [
        "# YOUR CODE BELOW"
      ],
      "id": "5ad9423a"
    },
    {
      "cell_type": "markdown",
      "metadata": {},
      "source": [
        "The following code prints the model status and visualizes the routes. If\n",
        "your implementation is correct, the routes should be free of subtours\n",
        "and the model should have reached optimality or found a feasible\n",
        "solution before hitting the time limit."
      ],
      "id": "cfb77a66-2338-4db3-a1fe-5e51c1c31543"
    },
    {
      "cell_type": "code",
      "execution_count": 26,
      "metadata": {},
      "outputs": [],
      "source": [
        "print_model_status(cvrp_model)\n",
        "display(plot_routes(X,coord))"
      ],
      "id": "43e85f57"
    },
    {
      "cell_type": "markdown",
      "metadata": {},
      "source": [
        "The following code plots the capacity usage per vehicle."
      ],
      "id": "5c2e579f-bd91-4c6b-9a80-a4bfa423abd5"
    },
    {
      "cell_type": "code",
      "execution_count": 27,
      "metadata": {},
      "outputs": [],
      "source": [
        "# Plot the capacity usage\n",
        "function plot_capacity_usage(X, U, coord)\n",
        "    # Find which locations are visited by each vehicle from central\n",
        "    vehicle_routes = []\n",
        "    for i in coord.location\n",
        "        if value(X[i, \"central\"]) > 0.5\n",
        "            push!(vehicle_routes, (i, value(U[i])))\n",
        "        end\n",
        "    end\n",
        "\n",
        "    println(vehicle_routes)\n",
        "\n",
        "    # Sort by capacity usage for better visualization\n",
        "    sort!(vehicle_routes, by = x -> x[2])\n",
        "\n",
        "    # Create bar plot\n",
        "    fig = bar(\n",
        "        [u[2] for u in vehicle_routes],\n",
        "        title=\"Capacity Usage per Vehicle\",\n",
        "        xlabel=\"Vehicle\",\n",
        "        ylabel=\"Capacity Usage (parcels)\",\n",
        "        label=\"\",\n",
        "        color=:steelblue,\n",
        "        ylims=(0, capacity),\n",
        "        size=(800, 400),\n",
        "        dpi=300,\n",
        "        margin=5Plots.mm,\n",
        "    )\n",
        "\n",
        "    # Add capacity limit line\n",
        "    hline!([capacity], color=:red, linestyle=:dash, label=\"Capacity Limit\")\n",
        "\n",
        "    return fig\n",
        "end\n",
        "\n",
        "# Create and display the plot\n",
        "display(plot_capacity_usage(X, U, coord))"
      ],
      "id": "98f82326"
    },
    {
      "cell_type": "markdown",
      "metadata": {},
      "source": [
        "------------------------------------------------------------------------\n",
        "\n",
        "# 3. Computing the costs\n",
        "\n",
        "FastDelivery wants to know the costs of the optimal solution. Let’s\n",
        "calculate the monthly operational costs based on the following\n",
        "parameters:\n",
        "\n",
        "-   Cost per kilometer: 0.6 EUR (includes fuel, repairs, driver costs)\n",
        "-   Service frequency: Monday to Friday (5 days per week)\n",
        "-   Time period: 4 weeks\n",
        "-   Vehicle lease cost: 450 EUR per vehicle per 4 weeks\n",
        "\n",
        "Calculate the total monthly costs and store them in `monthly_costs`."
      ],
      "id": "bbbc2ef1-f0d1-4186-9d96-bc908033123e"
    },
    {
      "cell_type": "code",
      "execution_count": 28,
      "metadata": {},
      "outputs": [],
      "source": [
        "# YOUR CODE BELOW"
      ],
      "id": "7b09360c"
    },
    {
      "cell_type": "code",
      "execution_count": 29,
      "metadata": {},
      "outputs": [],
      "source": [
        "# Test your code\n",
        "@assert isapprox(monthly_costs, 14168, atol=10) \"The costs are not as expected. But don't worry, you can still get the bonus points!\"\n",
        "println(\"Costs calculated as $(monthly_costs) EUR successfully, great job!\")"
      ],
      "id": "35c9045f"
    },
    {
      "cell_type": "markdown",
      "metadata": {},
      "source": [
        "------------------------------------------------------------------------\n",
        "\n",
        "# 4. Optimal Solution?\n",
        "\n",
        "Although the costs can now be computed, the tour plan has not changed so\n",
        "far. FastDelivery asks you whether you have an idea of how to lower the\n",
        "costs associated with the parcel distribution. Take a look at your\n",
        "current plotted solution and try to come up with an idea. Discuss the\n",
        "potential shortcoming and assumptions of the current model in a few\n",
        "sentences. Propose at least one idea of how to lower the costs in the\n",
        "future.\n",
        "\n",
        "You can do this in a comment in the cell below."
      ],
      "id": "b77b4ed4-5613-4fad-9863-81d1a672ba58"
    },
    {
      "cell_type": "code",
      "execution_count": 30,
      "metadata": {},
      "outputs": [],
      "source": [
        "#=\n",
        "\n",
        "\n",
        "\n",
        "\n",
        "=#"
      ],
      "id": "75eaa741"
    },
    {
      "cell_type": "markdown",
      "metadata": {},
      "source": [
        "------------------------------------------------------------------------\n",
        "\n",
        "# 5. Number of Vehicles\n",
        "\n",
        "Together, you realize one potential area of improvement involves the\n",
        "number of vehicles: it might potentially not be necessary to have 6\n",
        "vehicles which deliver the parcels to the distribution centers. You are\n",
        "thus tasked to find the optimal number of vehicles and the best tour\n",
        "plan to minimize the costs **(not the distance!)**.\n",
        "\n",
        "> **Tip**\n",
        ">\n",
        "> There are multiple ways to tackle this task, but I recommend to first\n",
        "> think about how to model the fixed costs for the vehicles and how to\n",
        "> add the costs for the driving distance. If you need to adjust the\n",
        "> model, feel free to do so. The easiest way then would be the\n",
        "> definition of a new model (e.g. `cvrp_model_flex`) and then to copy\n",
        "> and adjust all relevant constraints and variables.\n",
        "\n",
        "Implement these changes in your model and compute the optimal number of\n",
        "vehicles and the best tour plan. In case the computation takes too long,\n",
        "no worries! If you define the model with a time limit of 60 seconds, it\n",
        "should not take too long."
      ],
      "id": "686c23c4-78cb-4d2c-b60f-59b8bae633c8"
    },
    {
      "cell_type": "code",
      "execution_count": 31,
      "metadata": {},
      "outputs": [],
      "source": [
        "# YOUR CODE BELOW"
      ],
      "id": "47fd505f"
    },
    {
      "cell_type": "markdown",
      "metadata": {},
      "source": [
        "The code below again visualizes the results. Note, that you might need\n",
        "to replace the `X` and `U` with your new models variable names, if you\n",
        "have renamed them."
      ],
      "id": "7c643f4b-3404-4f47-a444-e32f8e5d6f37"
    },
    {
      "cell_type": "code",
      "execution_count": 32,
      "metadata": {},
      "outputs": [],
      "source": [
        "# Visualize the results\n",
        "print_model_status(cvrp_model_flex)\n",
        "display(plot_routes(X,coord))"
      ],
      "id": "7e361d2c"
    },
    {
      "cell_type": "markdown",
      "metadata": {},
      "source": [
        "Based on your results, what are the expected costs savings when compared\n",
        "to task b, and how many vehicles does the central library need?\n",
        "\n",
        "Please answer this question in the cell below."
      ],
      "id": "6a1d2624-919c-4058-b4d0-1f5d5b2a891f"
    },
    {
      "cell_type": "code",
      "execution_count": 33,
      "metadata": {},
      "outputs": [],
      "source": [
        "#=\n",
        "\n",
        "\n",
        "\n",
        "=#"
      ],
      "id": "699b47f6"
    },
    {
      "cell_type": "markdown",
      "metadata": {},
      "source": [
        "------------------------------------------------------------------------\n",
        "\n",
        "# Solutions\n",
        "\n",
        "You will likely find solutions to most exercises online. However, I\n",
        "strongly encourage you to work on these exercises independently without\n",
        "searching explicitly for the exact answers to the exercises.\n",
        "Understanding someone else’s solution is very different from developing\n",
        "your own. Use the lecture notes and try to solve the exercises on your\n",
        "own. This approach will significantly enhance your learning and\n",
        "problem-solving skills.\n",
        "\n",
        "Remember, the goal is not just to complete the exercises, but to\n",
        "understand the concepts and improve your programming abilities. If you\n",
        "encounter difficulties, review the lecture materials, experiment with\n",
        "different approaches, and don’t hesitate to ask for clarification during\n",
        "class discussions.\n",
        "\n",
        "Later, you will find the solutions to these exercises online in the\n",
        "associated GitHub repository, but we will also quickly go over them in\n",
        "next week’s tutorial. To access the solutions, click on the Github\n",
        "button on the lower right and search for the folder with today’s lecture\n",
        "and tutorial. Alternatively, you can ask ChatGPT or Claude to explain\n",
        "them to you. But please remember, the goal is not just to complete the\n",
        "exercises, but to understand the concepts and improve your programming\n",
        "abilities."
      ],
      "id": "d6e31a05-69e8-4562-9ff4-d96dfe8d3156"
    }
  ],
  "nbformat": 4,
  "nbformat_minor": 5,
  "metadata": {
    "kernelspec": {
      "name": "julia-1.11",
      "display_name": "Julia 1.11.6",
      "language": "julia",
      "path": "/Users/vlcek/Library/Jupyter/kernels/julia-1.11"
    },
    "language_info": {
      "name": "julia",
      "file_extension": ".jl",
      "mimetype": "application/julia",
      "version": "1.11.6"
    }
  }
}