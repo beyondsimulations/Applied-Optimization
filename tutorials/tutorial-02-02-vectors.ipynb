{
  "cells": [
    {
      "cell_type": "markdown",
      "metadata": {},
      "source": [
        "# Tutorial II.II - Vectors and Matrices\n",
        "\n",
        "Applied Optimization with Julia\n",
        "\n",
        "# Introduction\n",
        "\n",
        "This interactive Julia script introduces the basics of vectors,\n",
        "matrices, and tuples.\n",
        "\n",
        "-   A vector is like a single row in a spreadsheet or a shopping list -\n",
        "    it stores items in a line\n",
        "-   A matrix is like a spreadsheet - it has rows and columns\n",
        "-   A tuple is like a sealed package containing different types of items\n",
        "\n",
        "Understanding these data structures and how to manipulate them is\n",
        "crucial in Julia. Follow the instructions, write your code in the\n",
        "designated code blocks, and execute the corresponding code cell.\n",
        "\n",
        "> **Note**\n",
        ">\n",
        "> If a cell is marked with `YOUR CODE BELOW`, you are expected to write\n",
        "> your code in that cell.\n",
        "\n",
        "------------------------------------------------------------------------\n",
        "\n",
        "# Section 1 - Vectors\n",
        "\n",
        "Vectors in Julia are one-dimensional arrays used to store sequences of\n",
        "elements. They’re powerful for numerical operations and data handling. A\n",
        "vector is the simplest way to store a list of items. Think of it as a\n",
        "row of boxes, where each box can hold a number or other type of data.\n",
        "Create vectors with square brackets, separate elements with commas."
      ],
      "id": "bf2cacb4-6003-40a0-95c1-9c4cf62d4cc8"
    },
    {
      "cell_type": "code",
      "execution_count": 2,
      "metadata": {},
      "outputs": [
        {
          "output_type": "display_data",
          "metadata": {},
          "data": {
            "text/plain": [
              "5-element Vector{Int64}:\n",
              " 95\n",
              " 87\n",
              " 91\n",
              " 78\n",
              " 88"
            ]
          }
        }
      ],
      "source": [
        "# Creating a simple vector (list) of numbers\n",
        "grades = [95, 87, 91, 78, 88]"
      ],
      "id": "0f436aab"
    },
    {
      "cell_type": "code",
      "execution_count": 3,
      "metadata": {},
      "outputs": [
        {
          "output_type": "display_data",
          "metadata": {},
          "data": {
            "text/plain": [
              "3-element Vector{String}:\n",
              " \"Mike\"\n",
              " \"Yola\"\n",
              " \"Elio\""
            ]
          }
        }
      ],
      "source": [
        "# Creating a vector of names\n",
        "students = [\"Mike\", \"Yola\", \"Elio\"]"
      ],
      "id": "012fb28a"
    },
    {
      "cell_type": "markdown",
      "metadata": {},
      "source": [
        "Vectors are mutable, and you can:\n",
        "\n",
        "-   Add items to the end (like adding to a shopping list):\n",
        "    `push!(grades, 82)`\n",
        "-   Remove the last item (like crossing off the last item):\n",
        "    `pop!(grades)`\n",
        "-   Remove the first item (like crossing off the first item):\n",
        "    `popfirst!(grades)`\n",
        "-   Look at specific items using their position number: `grades[1]`\n",
        "    gives you the first grade\n",
        "-   Access a range of items: `grades[1:3]` gives you the first three\n",
        "    grades\n",
        "\n",
        "> **Tip**\n",
        ">\n",
        "> In Julia, we start counting positions from 1, not 0. So `grades[1]`\n",
        "> gives you the first grade!\n",
        "\n",
        "Use ‘?’ in the REPL for function details.\n",
        "\n",
        "## Exercise 1.1 - Create a Vector\n",
        "\n",
        "Create a vector ‘fib’ with the first five Fibonacci numbers:\n",
        "`1, 1, 2, 3, 5`."
      ],
      "id": "8cc09b24-1173-427c-9f35-9917cd6683e7"
    },
    {
      "cell_type": "code",
      "execution_count": 4,
      "metadata": {},
      "outputs": [],
      "source": [
        "# YOUR CODE BELOW"
      ],
      "id": "7b214dab"
    },
    {
      "cell_type": "code",
      "execution_count": 5,
      "metadata": {},
      "outputs": [],
      "source": [
        "# Test your answer\n",
        "@assert fib == [1, 1, 2, 3, 5]\n",
        "println(\"The 'fib' vector: \", fib)"
      ],
      "id": "78cd3591"
    },
    {
      "cell_type": "markdown",
      "metadata": {},
      "source": [
        "## Exercise 1.2 - Append to a Vector\n",
        "\n",
        "Append the number 8 to the `fib` vector."
      ],
      "id": "bac9aa07-af0e-47df-896e-6f3a828b2c90"
    },
    {
      "cell_type": "code",
      "execution_count": 6,
      "metadata": {},
      "outputs": [],
      "source": [
        "# YOUR CODE BELOW"
      ],
      "id": "b004bd86"
    },
    {
      "cell_type": "code",
      "execution_count": 7,
      "metadata": {},
      "outputs": [],
      "source": [
        "# Test your answer\n",
        "@assert fib == [1, 1, 2, 3, 5, 8]\n",
        "println(\"The 'fib' vector after appending 8: \", fib)"
      ],
      "id": "d8943d97"
    },
    {
      "cell_type": "markdown",
      "metadata": {},
      "source": [
        "## Exercise 1.3 - Remove the First Element\n",
        "\n",
        "Remove the first element of the `fib` vector."
      ],
      "id": "78147a12-3479-4f85-ae21-3d073e456090"
    },
    {
      "cell_type": "code",
      "execution_count": 8,
      "metadata": {},
      "outputs": [],
      "source": [
        "# YOUR CODE BELOW"
      ],
      "id": "b61b546d"
    },
    {
      "cell_type": "code",
      "execution_count": 9,
      "metadata": {},
      "outputs": [],
      "source": [
        "# Test your answer\n",
        "@assert fib == [1, 2, 3, 5, 8]\n",
        "println(\"The 'fib' vector after removing the first element: \", fib)"
      ],
      "id": "02a07cb3"
    },
    {
      "cell_type": "markdown",
      "metadata": {},
      "source": [
        "## Exercise 1.4 - Access and Save the First Three Elements\n",
        "\n",
        "Access and save the first three elements of `fib`, to\n",
        "`first_three_elements`."
      ],
      "id": "3f3a2ecd-b3d4-49b4-ae8b-095a12087625"
    },
    {
      "cell_type": "code",
      "execution_count": 10,
      "metadata": {},
      "outputs": [],
      "source": [
        "# YOUR CODE BELOW"
      ],
      "id": "57c094ca"
    },
    {
      "cell_type": "code",
      "execution_count": 11,
      "metadata": {},
      "outputs": [],
      "source": [
        "# Test your answer\n",
        "@assert first_three_elements == fib[1:3]\n",
        "println(\"The first three elements of the 'fib' vector: \", first_three_elements)"
      ],
      "id": "ab60c227"
    },
    {
      "cell_type": "markdown",
      "metadata": {},
      "source": [
        "------------------------------------------------------------------------\n",
        "\n",
        "# Section 2 - Matrices\n",
        "\n",
        "A matrix in Julia is a 2D array, great for linear algebra and data\n",
        "representation. Create matrices with square brackets, separate elements\n",
        "with spaces, rows with semicolons. Access elements with square brackets\n",
        "(e.g., `matrix[2,2]`). You can add or substract matrices of the same\n",
        "dimensions element-wise if you add or substract them.\n",
        "\n",
        "For example:"
      ],
      "id": "4e2d2af8-ab63-4141-9e3a-b9a9ab5b8fc5"
    },
    {
      "cell_type": "code",
      "execution_count": 12,
      "metadata": {},
      "outputs": [
        {
          "output_type": "stream",
          "name": "stdout",
          "text": [
            "matrix1 is [3 4; 6 7].\n",
            "matrix2 is [1 0; 0 -1]."
          ]
        }
      ],
      "source": [
        "matrix1 = [2 2; 3 3] + [1 2; 3 4]\n",
        "matrix2 = [2 2; 3 3] - [1 2; 3 4]\n",
        "println(\"matrix1 is $matrix1.\")\n",
        "println(\"matrix2 is $matrix2.\")"
      ],
      "id": "6fe03353"
    },
    {
      "cell_type": "markdown",
      "metadata": {},
      "source": [
        "If you want to perform multiplications, things are a bit different, as\n",
        "matrix multiplications are not performed element-wise!"
      ],
      "id": "dd2007b5-d94c-4cb4-9850-58a11006f6fb"
    },
    {
      "cell_type": "code",
      "execution_count": 13,
      "metadata": {},
      "outputs": [
        {
          "output_type": "stream",
          "name": "stdout",
          "text": [
            "matrix3 is [8 12; 12 18]."
          ]
        }
      ],
      "source": [
        "matrix3 = [2 2; 3 3] * [1 2; 3 4]   # Not element-wise\n",
        "println(\"matrix3 is $matrix3.\")"
      ],
      "id": "bdb4ce4a"
    },
    {
      "cell_type": "markdown",
      "metadata": {},
      "source": [
        "But we can change this by using broadcasting!\n",
        "\n",
        "> **Tip**\n",
        ">\n",
        "> Julia’s broadcasting feature allows you to apply functions\n",
        "> element-wise to arrays of different sizes. This is denoted by adding a\n",
        "> dot (.) before the operator or function. It is extremely useful for\n",
        "> performing operations on arrays without the need to loop through each\n",
        "> element."
      ],
      "id": "444e5d0e-3edc-46ce-9fba-282c61b33bf1"
    },
    {
      "cell_type": "code",
      "execution_count": 14,
      "metadata": {},
      "outputs": [
        {
          "output_type": "stream",
          "name": "stdout",
          "text": [
            "matrix4 is [2 3; 4 5]."
          ]
        }
      ],
      "source": [
        "matrix4 = [1 2; 3 4]\n",
        "matrix4 = matrix4 .+ 1\n",
        "println(\"matrix4 is $matrix4.\")"
      ],
      "id": "0936fed7"
    },
    {
      "cell_type": "markdown",
      "metadata": {},
      "source": [
        "We can also use this to perform element-wise multiplications, as shown\n",
        "below:"
      ],
      "id": "a86220af-a1c5-425e-ae4a-b0cdec59f194"
    },
    {
      "cell_type": "code",
      "execution_count": 15,
      "metadata": {},
      "outputs": [
        {
          "output_type": "stream",
          "name": "stdout",
          "text": [
            "matrix5 is [2 4; 9 12]."
          ]
        }
      ],
      "source": [
        "matrix5 = [2 2; 3 3] .* [1 2; 3 4]  # Element-wise\n",
        "println(\"matrix5 is $matrix5.\")"
      ],
      "id": "13edc13a"
    },
    {
      "cell_type": "markdown",
      "metadata": {},
      "source": [
        "## Exercise 2.1 - Create a Matrix\n",
        "\n",
        "Create a 2x3 matrix `my_matrix` with the values: `1 2 3; 4 5 6`."
      ],
      "id": "ae56e361-6854-4879-925e-90497bd512a6"
    },
    {
      "cell_type": "code",
      "execution_count": 16,
      "metadata": {},
      "outputs": [],
      "source": [
        "# YOUR CODE BELOW"
      ],
      "id": "d302462e"
    },
    {
      "cell_type": "code",
      "execution_count": 17,
      "metadata": {},
      "outputs": [],
      "source": [
        "# Test your answer\n",
        "@assert my_matrix == [1 2 3; 4 5 6]\n",
        "println(\"The 'my_matrix':\\n\", my_matrix)"
      ],
      "id": "0c512d6b"
    },
    {
      "cell_type": "markdown",
      "metadata": {},
      "source": [
        "## Exercise 2.2 - Change the 3rd Column of the 2nd Row\n",
        "\n",
        "Change the 3rd column of the 2nd row to `17` by accessing and changing\n",
        "the element."
      ],
      "id": "65176872-8bdf-4fdf-8d41-9ca4abc38e66"
    },
    {
      "cell_type": "code",
      "execution_count": 18,
      "metadata": {},
      "outputs": [],
      "source": [
        "# YOUR CODE BELOW\n"
      ],
      "id": "c6fb9eee"
    },
    {
      "cell_type": "code",
      "execution_count": 19,
      "metadata": {},
      "outputs": [],
      "source": [
        "# Test your answer\n",
        "@assert my_matrix == [1 2 3; 4 5 17]\n",
        "println(\"The 'my_matrix' after modification:\\n\", my_matrix)"
      ],
      "id": "e7a9f7a0"
    },
    {
      "cell_type": "markdown",
      "metadata": {},
      "source": [
        "## Exercise 2.3 - Perform Matrix Addition\n",
        "\n",
        "Perform matrix addition with `my_matrix` and `another_matrix`. Call the\n",
        "resulting matrix `added_matrices`."
      ],
      "id": "ea660848-cea4-4c6b-9ad4-70c19f5f62fc"
    },
    {
      "cell_type": "code",
      "execution_count": 20,
      "metadata": {},
      "outputs": [],
      "source": [
        "another_matrix = [10 20 30; 40 50 60]\n",
        "# YOUR CODE BELOW"
      ],
      "id": "bb3601d9"
    },
    {
      "cell_type": "code",
      "execution_count": 21,
      "metadata": {},
      "outputs": [],
      "source": [
        "# Test your answer\n",
        "@assert added_matrices == [11 22 33; 44 55 77]\n",
        "println(\"Result of adding 'my_matrix' and 'another_matrix':\\n\", added_matrices)"
      ],
      "id": "895d9cec"
    },
    {
      "cell_type": "markdown",
      "metadata": {},
      "source": [
        "## Exercise 2.4 - Add 10 to Each Element\n",
        "\n",
        "Add `10` to each element in `added_matrices`."
      ],
      "id": "7faec731-b402-4263-a53d-03aad0e4a903"
    },
    {
      "cell_type": "code",
      "execution_count": 22,
      "metadata": {},
      "outputs": [],
      "source": [
        "# YOUR CODE BELOW"
      ],
      "id": "9ac84d98"
    },
    {
      "cell_type": "code",
      "execution_count": 23,
      "metadata": {},
      "outputs": [],
      "source": [
        "# Test your answer\n",
        "@assert added_matrices == [21 32 43; 54 65 87]\n",
        "println(\"Result of adding 10 to each element in 'added_matrices':\\n\", added_matrices)"
      ],
      "id": "db963eb5"
    },
    {
      "cell_type": "markdown",
      "metadata": {},
      "source": [
        "------------------------------------------------------------------------\n",
        "\n",
        "# Section 3: Tuples\n",
        "\n",
        "A tuple is like a sealed package - once you create it, you can’t change\n",
        "what’s inside. That’s why we call it “immutable”. It’s perfect for\n",
        "grouping related items that shouldn’t change. For example:\n",
        "\n",
        "``` julia\n",
        "# A person's basic info that won't change\n",
        "person = (\"Elio Smith\", 18, \"Hamburg\")\n",
        "\n",
        "# RGB color values\n",
        "red = (255, 0, 0)\n",
        "```\n",
        "\n",
        "Think of tuples as permanent labels - once you write them, they can’t be\n",
        "changed. This is useful when you want to make sure data stays exactly as\n",
        "you set it.\n",
        "\n",
        "## Exercise 3.1 - Create a Tuple\n",
        "\n",
        "Create a tuple `my_tuple` with three elements: `4.0`, your matrix\n",
        "`added_matrices`, and `\"Hi there!\"`."
      ],
      "id": "741d417b-da18-4b51-ad53-803625d0ad71"
    },
    {
      "cell_type": "code",
      "execution_count": 24,
      "metadata": {},
      "outputs": [],
      "source": [
        "# YOUR CODE BELOW"
      ],
      "id": "f82c261d"
    },
    {
      "cell_type": "code",
      "execution_count": 25,
      "metadata": {},
      "outputs": [],
      "source": [
        "# Test your answer\n",
        "@assert my_tuple == (4.0, added_matrices, \"Hi there!\")\n",
        "println(\"The 'my_tuple': \", my_tuple)"
      ],
      "id": "9a003eed"
    },
    {
      "cell_type": "markdown",
      "metadata": {},
      "source": [
        "## Exercise 3.2 - Access the Second Element\n",
        "\n",
        "Access the second element of `my_tuple`, store it in `second_element`."
      ],
      "id": "9bae06e1-a20a-4449-9d71-a9eb315b281a"
    },
    {
      "cell_type": "code",
      "execution_count": 26,
      "metadata": {},
      "outputs": [],
      "source": [
        "# YOUR CODE BELOW"
      ],
      "id": "f70768c4"
    },
    {
      "cell_type": "code",
      "execution_count": 27,
      "metadata": {},
      "outputs": [],
      "source": [
        "# Test your answer\n",
        "@assert second_element == [21 32 43; 54 65 87]\n",
        "println(\"The second element of 'my_tuple':\\n\", second_element)"
      ],
      "id": "9bda2498"
    },
    {
      "cell_type": "markdown",
      "metadata": {},
      "source": [
        "------------------------------------------------------------------------\n",
        "\n",
        "# Conclusion\n",
        "\n",
        "Well done! You’ve completed the tutorial on Vectors, Matrices, and\n",
        "Tuples. You’ve learned to create, manipulate, and interact with these\n",
        "fundamental data structures. Experiment with the code, try different\n",
        "operations, and see how Julia behaves. Continue to the next file to\n",
        "learn more.\n",
        "\n",
        "# Solutions\n",
        "\n",
        "You will likely find solutions to most exercises online. However, I\n",
        "strongly encourage you to work on these exercises independently without\n",
        "searching explicitly for the exact answers to the exercises.\n",
        "Understanding someone else’s solution is very different from developing\n",
        "your own. Use the lecture notes and try to solve the exercises on your\n",
        "own. This approach will significantly enhance your learning and\n",
        "problem-solving skills.\n",
        "\n",
        "Remember, the goal is not just to complete the exercises, but to\n",
        "understand the concepts and improve your programming abilities. If you\n",
        "encounter difficulties, review the lecture materials, experiment with\n",
        "different approaches, and don’t hesitate to ask for clarification during\n",
        "class discussions."
      ],
      "id": "d1b5d444-3c80-46b9-ac27-e19469a4ef64"
    }
  ],
  "nbformat": 4,
  "nbformat_minor": 5,
  "metadata": {
    "kernelspec": {
      "name": "julia-ao-1.12",
      "display_name": "Julia-AO 1.12.0",
      "language": "julia",
      "path": "/Users/vlcek/Library/Jupyter/kernels/julia-ao-1.12"
    },
    "language_info": {
      "name": "julia",
      "file_extension": ".jl",
      "mimetype": "application/julia",
      "version": "1.12.0"
    }
  }
}