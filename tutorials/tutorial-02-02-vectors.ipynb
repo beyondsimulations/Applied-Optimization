{
  "cells": [
    {
      "cell_type": "markdown",
      "metadata": {},
      "source": [
        "# Tutorial II.II - Vectors and Matrices\n",
        "\n",
        "Applied Optimization with Julia\n",
        "\n",
        "# Introduction\n",
        "\n",
        "This interactive Julia script introduces the basics of vectors,\n",
        "matrices, and tuples.\n",
        "\n",
        "-   A vector is like a single row in a spreadsheet or a shopping list -\n",
        "    it stores items in a line\n",
        "-   A matrix is like a spreadsheet - it has rows and columns\n",
        "-   A tuple is like a sealed package containing different types of items\n",
        "\n",
        "Understanding these data structures and how to manipulate them is\n",
        "crucial in Julia. Follow the instructions, write your code in the\n",
        "designated code blocks, and execute the corresponding code cell.\n",
        "\n",
        "> **Note**\n",
        ">\n",
        "> If a cell is marked with `YOUR CODE BELOW`, you are expected to write\n",
        "> your code in that cell.\n",
        "\n",
        "------------------------------------------------------------------------\n",
        "\n",
        "# Section 1 - Vectors\n",
        "\n",
        "Vectors in Julia are one-dimensional arrays used to store sequences of\n",
        "elements. They’re powerful for numerical operations and data handling. A\n",
        "vector is the simplest way to store a list of items. Think of it as a\n",
        "row of boxes, where each box can hold a number or other type of data.\n",
        "Create vectors with square brackets, separate elements with commas."
      ],
      "id": "d9d766ba-9b98-4bd9-8139-2640e8c7b4ba"
    },
    {
      "cell_type": "code",
      "execution_count": 2,
      "metadata": {},
      "outputs": [
        {
          "output_type": "display_data",
          "metadata": {},
          "data": {
            "text/plain": [
              "5-element Vector{Int64}:\n",
              " 95\n",
              " 87\n",
              " 91\n",
              " 78\n",
              " 88"
            ]
          }
        }
      ],
      "source": [
        "# Creating a simple vector (list) of numbers\n",
        "grades = [95, 87, 91, 78, 88]"
      ],
      "id": "6f71b263"
    },
    {
      "cell_type": "code",
      "execution_count": 3,
      "metadata": {},
      "outputs": [
        {
          "output_type": "display_data",
          "metadata": {},
          "data": {
            "text/plain": [
              "3-element Vector{String}:\n",
              " \"Mike\"\n",
              " \"Yola\"\n",
              " \"Elio\""
            ]
          }
        }
      ],
      "source": [
        "# Creating a vector of names\n",
        "students = [\"Mike\", \"Yola\", \"Elio\"]"
      ],
      "id": "95338fd9"
    },
    {
      "cell_type": "markdown",
      "metadata": {},
      "source": [
        "Vectors are mutable, and you can:\n",
        "\n",
        "-   Add items to the end (like adding to a shopping list):\n",
        "    `push!(grades, 82)`\n",
        "-   Remove the last item (like crossing off the last item):\n",
        "    `pop!(grades)`\n",
        "-   Remove the first item (like crossing off the first item):\n",
        "    `popfirst!(grades)`\n",
        "-   Look at specific items using their position number: `grades[1]`\n",
        "    gives you the first grade\n",
        "-   Access a range of items: `grades[1:3]` gives you the first three\n",
        "    grades\n",
        "\n",
        "> **Tip**\n",
        ">\n",
        "> In Julia, we start counting positions from 1, not 0. So `grades[1]`\n",
        "> gives you the first grade!\n",
        "\n",
        "Use ‘?’ in the REPL for function details.\n",
        "\n",
        "## Exercise 1.1 - Create a Vector\n",
        "\n",
        "Create a vector ‘fib’ with the first five Fibonacci numbers:\n",
        "`1, 1, 2, 3, 5`."
      ],
      "id": "e8852677-f911-4ecc-afb9-968b05a39c13"
    },
    {
      "cell_type": "code",
      "execution_count": 4,
      "metadata": {},
      "outputs": [],
      "source": [
        "# YOUR CODE BELOW"
      ],
      "id": "e7629a7a"
    },
    {
      "cell_type": "code",
      "execution_count": 5,
      "metadata": {},
      "outputs": [],
      "source": [
        "# Test your answer\n",
        "@assert fib == [1, 1, 2, 3, 5]\n",
        "println(\"The 'fib' vector: \", fib)"
      ],
      "id": "82f7e8c9"
    },
    {
      "cell_type": "markdown",
      "metadata": {},
      "source": [
        "## Exercise 1.2 - Append to a Vector\n",
        "\n",
        "Append the number 8 to the `fib` vector."
      ],
      "id": "a38fb012-a93d-4055-819b-684e0802bbd5"
    },
    {
      "cell_type": "code",
      "execution_count": 6,
      "metadata": {},
      "outputs": [],
      "source": [
        "# YOUR CODE BELOW"
      ],
      "id": "e051ec8f"
    },
    {
      "cell_type": "code",
      "execution_count": 7,
      "metadata": {},
      "outputs": [],
      "source": [
        "# Test your answer\n",
        "@assert fib == [1, 1, 2, 3, 5, 8]\n",
        "println(\"The 'fib' vector after appending 8: \", fib)"
      ],
      "id": "d51ebd5a"
    },
    {
      "cell_type": "markdown",
      "metadata": {},
      "source": [
        "## Exercise 1.3 - Remove the First Element\n",
        "\n",
        "Remove the first element of the `fib` vector."
      ],
      "id": "55305cbb-7d6b-4be0-bc34-6aad8d7b962c"
    },
    {
      "cell_type": "code",
      "execution_count": 8,
      "metadata": {},
      "outputs": [],
      "source": [
        "# YOUR CODE BELOW"
      ],
      "id": "30873e57"
    },
    {
      "cell_type": "code",
      "execution_count": 9,
      "metadata": {},
      "outputs": [],
      "source": [
        "# Test your answer\n",
        "@assert fib == [1, 2, 3, 5, 8]\n",
        "println(\"The 'fib' vector after removing the first element: \", fib)"
      ],
      "id": "fc66490d"
    },
    {
      "cell_type": "markdown",
      "metadata": {},
      "source": [
        "## Exercise 1.4 - Access and Save the First Three Elements\n",
        "\n",
        "Access and save the first three elements of `fib`, to\n",
        "`first_three_elements`."
      ],
      "id": "11d311f4-7952-480a-bb4c-06cb362375a4"
    },
    {
      "cell_type": "code",
      "execution_count": 10,
      "metadata": {},
      "outputs": [],
      "source": [
        "# YOUR CODE BELOW"
      ],
      "id": "faef64aa"
    },
    {
      "cell_type": "code",
      "execution_count": 11,
      "metadata": {},
      "outputs": [],
      "source": [
        "# Test your answer\n",
        "@assert first_three_elements == fib[1:3]\n",
        "println(\"The first three elements of the 'fib' vector: \", first_three_elements)"
      ],
      "id": "c918ebeb"
    },
    {
      "cell_type": "markdown",
      "metadata": {},
      "source": [
        "------------------------------------------------------------------------\n",
        "\n",
        "# Section 2 - Matrices\n",
        "\n",
        "A matrix in Julia is a 2D array, great for linear algebra and data\n",
        "representation. Create matrices with square brackets, separate elements\n",
        "with spaces, rows with semicolons. Access elements with square brackets\n",
        "(e.g., `matrix[2,2]`). You can add or substract matrices of the same\n",
        "dimensions element-wise if you add or substract them.\n",
        "\n",
        "For example:"
      ],
      "id": "6eaf173f-136c-41a6-86d9-5f28cf4f86ed"
    },
    {
      "cell_type": "code",
      "execution_count": 12,
      "metadata": {},
      "outputs": [
        {
          "output_type": "stream",
          "name": "stdout",
          "text": [
            "matrix1 is [3 4; 6 7].\n",
            "matrix2 is [1 0; 0 -1]."
          ]
        }
      ],
      "source": [
        "matrix1 = [2 2; 3 3] + [1 2; 3 4]\n",
        "matrix2 = [2 2; 3 3] - [1 2; 3 4]\n",
        "println(\"matrix1 is $matrix1.\")\n",
        "println(\"matrix2 is $matrix2.\")"
      ],
      "id": "208ff816"
    },
    {
      "cell_type": "markdown",
      "metadata": {},
      "source": [
        "If you want to perform multiplications, things are a bit different, as\n",
        "matrix multiplications are not performed element-wise!"
      ],
      "id": "b42c297a-9fd5-43e9-805e-932e9d60ac78"
    },
    {
      "cell_type": "code",
      "execution_count": 13,
      "metadata": {},
      "outputs": [
        {
          "output_type": "stream",
          "name": "stdout",
          "text": [
            "matrix3 is [8 12; 12 18]."
          ]
        }
      ],
      "source": [
        "matrix3 = [2 2; 3 3] * [1 2; 3 4]   # Not element-wise\n",
        "println(\"matrix3 is $matrix3.\")"
      ],
      "id": "b7c65d12"
    },
    {
      "cell_type": "markdown",
      "metadata": {},
      "source": [
        "But we can change this by using broadcasting!\n",
        "\n",
        "> **Tip**\n",
        ">\n",
        "> Julia’s broadcasting feature allows you to apply functions\n",
        "> element-wise to arrays of different sizes. This is denoted by adding a\n",
        "> dot (.) before the operator or function. It is extremely useful for\n",
        "> performing operations on arrays without the need to loop through each\n",
        "> element."
      ],
      "id": "2eb83633-ac10-4fa2-9d61-a4f366c63bf6"
    },
    {
      "cell_type": "code",
      "execution_count": 14,
      "metadata": {},
      "outputs": [
        {
          "output_type": "stream",
          "name": "stdout",
          "text": [
            "matrix4 is [2 3; 4 5]."
          ]
        }
      ],
      "source": [
        "matrix4 = [1 2; 3 4]\n",
        "matrix4 = matrix4 .+ 1\n",
        "println(\"matrix4 is $matrix4.\")"
      ],
      "id": "cca2bc5a"
    },
    {
      "cell_type": "markdown",
      "metadata": {},
      "source": [
        "We can also use this to perform element-wise multiplications, as shown\n",
        "below:"
      ],
      "id": "598de062-baf5-41d2-a146-55559e44b40c"
    },
    {
      "cell_type": "code",
      "execution_count": 15,
      "metadata": {},
      "outputs": [
        {
          "output_type": "stream",
          "name": "stdout",
          "text": [
            "matrix5 is [2 4; 9 12]."
          ]
        }
      ],
      "source": [
        "matrix5 = [2 2; 3 3] .* [1 2; 3 4]  # Element-wise\n",
        "println(\"matrix5 is $matrix5.\")"
      ],
      "id": "24177dc4"
    },
    {
      "cell_type": "markdown",
      "metadata": {},
      "source": [
        "## Exercise 2.1 - Create a Matrix\n",
        "\n",
        "Create a 2x3 matrix `my_matrix` with the values: `1 2 3; 4 5 6`."
      ],
      "id": "d4c27117-43b2-4ebd-951b-f47d0f166a63"
    },
    {
      "cell_type": "code",
      "execution_count": 16,
      "metadata": {},
      "outputs": [],
      "source": [
        "# YOUR CODE BELOW"
      ],
      "id": "fe669682"
    },
    {
      "cell_type": "code",
      "execution_count": 17,
      "metadata": {},
      "outputs": [],
      "source": [
        "# Test your answer\n",
        "@assert my_matrix == [1 2 3; 4 5 6]\n",
        "println(\"The 'my_matrix':\\n\", my_matrix)"
      ],
      "id": "5c03d424"
    },
    {
      "cell_type": "markdown",
      "metadata": {},
      "source": [
        "## Exercise 2.2 - Change the 3rd Column of the 2nd Row\n",
        "\n",
        "Change the 3rd column of the 2nd row to `17` by accessing and changing\n",
        "the element."
      ],
      "id": "8a3bb3b2-42cc-47ed-b467-561804fe728e"
    },
    {
      "cell_type": "code",
      "execution_count": 18,
      "metadata": {},
      "outputs": [],
      "source": [
        "# YOUR CODE BELOW\n"
      ],
      "id": "fb4bcd37"
    },
    {
      "cell_type": "code",
      "execution_count": 19,
      "metadata": {},
      "outputs": [],
      "source": [
        "# Test your answer\n",
        "@assert my_matrix == [1 2 3; 4 5 17]\n",
        "println(\"The 'my_matrix' after modification:\\n\", my_matrix)"
      ],
      "id": "af5fdd09"
    },
    {
      "cell_type": "markdown",
      "metadata": {},
      "source": [
        "## Exercise 2.3 - Perform Matrix Addition\n",
        "\n",
        "Perform matrix addition with `my_matrix` and `another_matrix`. Call the\n",
        "resulting matrix `added_matrices`."
      ],
      "id": "52003fa0-72b3-40b7-95a7-aa3ef7d841dd"
    },
    {
      "cell_type": "code",
      "execution_count": 20,
      "metadata": {},
      "outputs": [],
      "source": [
        "another_matrix = [10 20 30; 40 50 60]\n",
        "# YOUR CODE BELOW"
      ],
      "id": "fe3d1cb5"
    },
    {
      "cell_type": "code",
      "execution_count": 21,
      "metadata": {},
      "outputs": [],
      "source": [
        "# Test your answer\n",
        "@assert added_matrices == [11 22 33; 44 55 77]\n",
        "println(\"Result of adding 'my_matrix' and 'another_matrix':\\n\", added_matrices)"
      ],
      "id": "21472f65"
    },
    {
      "cell_type": "markdown",
      "metadata": {},
      "source": [
        "## Exercise 2.4 - Add 10 to Each Element\n",
        "\n",
        "Add `10` to each element in `added_matrices`."
      ],
      "id": "1d4fe2ba-70ee-4b4d-9346-84dc5d11ec4d"
    },
    {
      "cell_type": "code",
      "execution_count": 22,
      "metadata": {},
      "outputs": [],
      "source": [
        "# YOUR CODE BELOW"
      ],
      "id": "989c0bcf"
    },
    {
      "cell_type": "code",
      "execution_count": 23,
      "metadata": {},
      "outputs": [],
      "source": [
        "# Test your answer\n",
        "@assert added_matrices == [21 32 43; 54 65 87]\n",
        "println(\"Result of adding 10 to each element in 'added_matrices':\\n\", added_matrices)"
      ],
      "id": "f169285f"
    },
    {
      "cell_type": "markdown",
      "metadata": {},
      "source": [
        "------------------------------------------------------------------------\n",
        "\n",
        "# Section 3: Tuples\n",
        "\n",
        "A tuple is like a sealed package - once you create it, you can’t change\n",
        "what’s inside. That’s why we call it “immutable”. It’s perfect for\n",
        "grouping related items that shouldn’t change. For example:\n",
        "\n",
        "``` julia\n",
        "# A person's basic info that won't change\n",
        "person = (\"Elio Smith\", 18, \"Hamburg\")\n",
        "\n",
        "# RGB color values\n",
        "red = (255, 0, 0)\n",
        "```\n",
        "\n",
        "Think of tuples as permanent labels - once you write them, they can’t be\n",
        "changed. This is useful when you want to make sure data stays exactly as\n",
        "you set it.\n",
        "\n",
        "## Exercise 3.1 - Create a Tuple\n",
        "\n",
        "Create a tuple `my_tuple` with three elements: `4.0`, your matrix\n",
        "`added_matrices`, and `\"Hi there!\"`."
      ],
      "id": "669cd1bb-3792-4e64-9815-76e6101f1dc5"
    },
    {
      "cell_type": "code",
      "execution_count": 24,
      "metadata": {},
      "outputs": [],
      "source": [
        "# YOUR CODE BELOW"
      ],
      "id": "3026d740"
    },
    {
      "cell_type": "code",
      "execution_count": 25,
      "metadata": {},
      "outputs": [],
      "source": [
        "# Test your answer\n",
        "@assert my_tuple == (4.0, added_matrices, \"Hi there!\")\n",
        "println(\"The 'my_tuple': \", my_tuple)"
      ],
      "id": "e1a0645c"
    },
    {
      "cell_type": "markdown",
      "metadata": {},
      "source": [
        "## Exercise 3.2 - Access the Second Element\n",
        "\n",
        "Access the second element of `my_tuple`, store it in `second_element`."
      ],
      "id": "1b795333-1f26-46e4-b157-034a0fbf30c5"
    },
    {
      "cell_type": "code",
      "execution_count": 26,
      "metadata": {},
      "outputs": [],
      "source": [
        "# YOUR CODE BELOW"
      ],
      "id": "e1de20b2"
    },
    {
      "cell_type": "code",
      "execution_count": 27,
      "metadata": {},
      "outputs": [],
      "source": [
        "# Test your answer\n",
        "@assert second_element == [21 32 43; 54 65 87]\n",
        "println(\"The second element of 'my_tuple':\\n\", second_element)"
      ],
      "id": "20a8096f"
    },
    {
      "cell_type": "markdown",
      "metadata": {},
      "source": [
        "------------------------------------------------------------------------\n",
        "\n",
        "# Conclusion\n",
        "\n",
        "Well done! You’ve completed the tutorial on Vectors, Matrices, and\n",
        "Tuples. You’ve learned to create, manipulate, and interact with these\n",
        "fundamental data structures. Experiment with the code, try different\n",
        "operations, and see how Julia behaves. Continue to the next file to\n",
        "learn more.\n",
        "\n",
        "# Solutions\n",
        "\n",
        "You will likely find solutions to most exercises online. However, I\n",
        "strongly encourage you to work on these exercises independently without\n",
        "searching explicitly for the exact answers to the exercises.\n",
        "Understanding someone else’s solution is very different from developing\n",
        "your own. Use the lecture notes and try to solve the exercises on your\n",
        "own. This approach will significantly enhance your learning and\n",
        "problem-solving skills.\n",
        "\n",
        "Remember, the goal is not just to complete the exercises, but to\n",
        "understand the concepts and improve your programming abilities. If you\n",
        "encounter difficulties, review the lecture materials, experiment with\n",
        "different approaches, and don’t hesitate to ask for clarification during\n",
        "class discussions."
      ],
      "id": "868010af-349f-4045-a11b-7330223edda2"
    }
  ],
  "nbformat": 4,
  "nbformat_minor": 5,
  "metadata": {
    "kernelspec": {
      "name": "julia-ao-1.12",
      "display_name": "Julia-AO 1.12.0",
      "language": "julia",
      "path": "/Users/vlcek/Library/Jupyter/kernels/julia-ao-1.12"
    },
    "language_info": {
      "name": "julia",
      "file_extension": ".jl",
      "mimetype": "application/julia",
      "version": "1.12.0"
    }
  }
}