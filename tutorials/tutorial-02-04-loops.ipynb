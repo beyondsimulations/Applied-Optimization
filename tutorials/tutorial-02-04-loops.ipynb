{
  "cells": [
    {
      "cell_type": "markdown",
      "metadata": {},
      "source": [
        "# Tutorial II.IV - Loops\n",
        "\n",
        "Applied Optimization with Julia\n",
        "\n",
        "# Introduction\n",
        "\n",
        "Imagine you need to do the same task many times - like sending emails to\n",
        "100 people or counting from 1 to 10. Instead of writing the same code\n",
        "over and over, we use loops! Loops are like having a helpful assistant\n",
        "who can repeat tasks for you.\n",
        "\n",
        "Follow the instructions, input your code in the designated areas, and\n",
        "verify your implementations with `@assert` statements.\n",
        "\n",
        "------------------------------------------------------------------------\n",
        "\n",
        "# Section 1 - For Loops\n",
        "\n",
        "A `for` loop is like giving instructions to that assistant: “For each\n",
        "item in this list, do this task.” For example:\n",
        "\n",
        "Iterating over a range (1 to 3):"
      ],
      "id": "81a1ea64-fd68-4f27-86ea-f1f0e05cda56"
    },
    {
      "cell_type": "code",
      "execution_count": 2,
      "metadata": {},
      "outputs": [
        {
          "output_type": "stream",
          "name": "stdout",
          "text": [
            "1\n",
            "2\n",
            "3"
          ]
        }
      ],
      "source": [
        "for i in 1:3\n",
        "    println(i)\n",
        "end"
      ],
      "id": "ba18eab0"
    },
    {
      "cell_type": "markdown",
      "metadata": {},
      "source": [
        "This prints `1`, `2`, and `3`.\n",
        "\n",
        "Iterating over an array:"
      ],
      "id": "ea6ae107-4b90-40e0-b81c-bbb31f9d1466"
    },
    {
      "cell_type": "code",
      "execution_count": 3,
      "metadata": {},
      "outputs": [
        {
          "output_type": "stream",
          "name": "stdout",
          "text": [
            "apple\n",
            "banana\n",
            "cherry"
          ]
        }
      ],
      "source": [
        "fruits = [\"apple\", \"banana\", \"cherry\"]\n",
        "for fruit in fruits\n",
        "    println(fruit)\n",
        "end"
      ],
      "id": "a5531f58"
    },
    {
      "cell_type": "markdown",
      "metadata": {},
      "source": [
        "This prints each fruit in the `fruits` array.\n",
        "\n",
        "The `break` statement can be utilized to exit the loop based on a\n",
        "condition. To check some condition, we can use `if` statements. For\n",
        "example:"
      ],
      "id": "ef9ba9d8-2758-4c2a-a12b-49dff96abeee"
    },
    {
      "cell_type": "code",
      "execution_count": 4,
      "metadata": {},
      "outputs": [
        {
          "output_type": "stream",
          "name": "stdout",
          "text": [
            "1\n",
            "2\n",
            "3\n",
            "4"
          ]
        }
      ],
      "source": [
        "loop_number = 0\n",
        "for x in 1:10\n",
        "    loop_number = x\n",
        "    println(loop_number)\n",
        "    if loop_number == 4\n",
        "        break\n",
        "    end\n",
        "end"
      ],
      "id": "cbbb4e5c"
    },
    {
      "cell_type": "markdown",
      "metadata": {},
      "source": [
        "This exits the loop in iteration `4`, as the condition\n",
        "`loop_number == 4` is true here.\n",
        "\n",
        "We can also chain `if` statements. For example:"
      ],
      "id": "63146b80-f0e8-4f53-b09c-9fffed4dee5c"
    },
    {
      "cell_type": "code",
      "execution_count": 5,
      "metadata": {},
      "outputs": [
        {
          "output_type": "stream",
          "name": "stdout",
          "text": [
            "1\n",
            "2\n",
            "We reached 3!"
          ]
        }
      ],
      "source": [
        "loop_number = 0\n",
        "for x in 1:10\n",
        "    loop_number = x\n",
        "    if loop_number <= 2\n",
        "        println(loop_number)\n",
        "    elseif loop_number == 3\n",
        "        println(\"We reached 3!\")\n",
        "    else\n",
        "        break\n",
        "    end\n",
        "end"
      ],
      "id": "cebea6bc"
    },
    {
      "cell_type": "markdown",
      "metadata": {},
      "source": [
        "This prints `1`, then `2`, then `We reached 3!`. Afterwards the loop\n",
        "ends, as the `break` statement kicks in.\n",
        "\n",
        "> **Tip**\n",
        ">\n",
        "> Think of a `for` loop like a recipe:\n",
        ">\n",
        "> 1.  Start with a collection of items (like numbers 1-10 or a shopping\n",
        ">     list)\n",
        "> 2.  For each item, follow the instructions inside the loop\n",
        "> 3.  When done with one item, move to the next\n",
        "> 4.  Stop when you’ve used all items (or when told to break)\n",
        "\n",
        "## Exercise 1.1 - Sum the Numbers from 1 to 5\n",
        "\n",
        "Sum the numbers from `1` to `5` in a loop. The next lines initialize\n",
        "`sum_numbers` to `0`. The sum you compute should accumulate in this\n",
        "variable."
      ],
      "id": "da3afd24-ed2b-431b-a462-e9cb4f258030"
    },
    {
      "cell_type": "code",
      "execution_count": 6,
      "metadata": {},
      "outputs": [],
      "source": [
        "sum_numbers = 0\n",
        "# YOUR CODE BELOW"
      ],
      "id": "ece93c37"
    },
    {
      "cell_type": "code",
      "execution_count": 7,
      "metadata": {},
      "outputs": [],
      "source": [
        "# Test your answer\n",
        "@assert sum_numbers == 15\n",
        "println(\"Sum of numbers from 1 to 5: \", sum_numbers)"
      ],
      "id": "d94ec4d4"
    },
    {
      "cell_type": "markdown",
      "metadata": {},
      "source": [
        "## Exercise 1.2 - Sum Only the Even Numbers from 1 to 10\n",
        "\n",
        "Sum only the even numbers from `1` to `10`. Again, we initialize a\n",
        "variable `sum_evens` to `0`. The sum you compute should accumulate in\n",
        "this variable."
      ],
      "id": "f0aa4875-7361-40a1-80ec-1c8de21daebf"
    },
    {
      "cell_type": "code",
      "execution_count": 8,
      "metadata": {},
      "outputs": [],
      "source": [
        "sum_evens = 0\n",
        "# YOUR CODE BELOW"
      ],
      "id": "fbc1d060"
    },
    {
      "cell_type": "code",
      "execution_count": 9,
      "metadata": {},
      "outputs": [],
      "source": [
        "# Test your answer\n",
        "@assert sum_evens == 30\n",
        "println(\"Sum of even numbers from 1 to 10: \", sum_evens)"
      ],
      "id": "764a3b49"
    },
    {
      "cell_type": "markdown",
      "metadata": {},
      "source": [
        "> **Tip**\n",
        ">\n",
        "> Hint: You can use the modulo operator `%` to check if a number is\n",
        "> even. The modulo operator returns the remainder of the division of two\n",
        "> numbers. If a number is divisible by another number, the remainder is\n",
        "> `0`. The following example checks if `4` is even: `4 % 2 == 0`.\n",
        "\n",
        "## Exercise 1.3 - Exit the Loop if the Current Fruit is Banana\n",
        "\n",
        "Iterate over each fruit in the `fruits` array, store the current fruit\n",
        "in `current_fruit`, and exit the loop if `current_fruit` is `banana`.\n",
        "The next lines initialize the `fruits` array and `current_fruit`\n",
        "variable."
      ],
      "id": "ef89f33e-4be2-4855-9348-9b4bf5e221b6"
    },
    {
      "cell_type": "code",
      "execution_count": 10,
      "metadata": {},
      "outputs": [],
      "source": [
        "fruits = [\"apple\", \"banana\", \"cherry\"]\n",
        "current_fruit = \"None\"\n",
        "# YOUR CODE BELOW"
      ],
      "id": "64754a13"
    },
    {
      "cell_type": "code",
      "execution_count": 11,
      "metadata": {},
      "outputs": [],
      "source": [
        "# Test your answer\n",
        "@assert current_fruit == \"banana\"\n",
        "println(\"The current fruit is: \", current_fruit)"
      ],
      "id": "955b3fe6"
    },
    {
      "cell_type": "markdown",
      "metadata": {},
      "source": [
        "------------------------------------------------------------------------\n",
        "\n",
        "# Section 2 - While Loops for Conditional Execution\n",
        "\n",
        "A `while` loop is like giving instructions to your assistant: “Keep\n",
        "doing this task as long as this condition is true.” They’re particularly\n",
        "useful when the number of iterations is dynamic or unknown in advance.\n",
        "For example:"
      ],
      "id": "7b9e039e-1b82-4e17-acbb-41a1f649663d"
    },
    {
      "cell_type": "code",
      "execution_count": 12,
      "metadata": {},
      "outputs": [
        {
          "output_type": "stream",
          "name": "stdout",
          "text": [
            "Number is: 10\n",
            "Number is: 9\n",
            "Number is: 8\n",
            "Number is: 7\n",
            "Number is: 6\n",
            "Number is: 5\n",
            "Final number: 4"
          ]
        }
      ],
      "source": [
        "# Keep subtracting 1 until we get below 5\n",
        "number = 10\n",
        "while number >= 5\n",
        "    println(\"Number is: $number\")\n",
        "    number = number - 1\n",
        "end\n",
        "println(\"Final number: $number\")"
      ],
      "id": "ce01a73b"
    },
    {
      "cell_type": "markdown",
      "metadata": {},
      "source": [
        "Real-world examples:"
      ],
      "id": "cf74c4c2-495e-4b5d-af24-25fbbf77e775"
    },
    {
      "cell_type": "code",
      "execution_count": 13,
      "metadata": {},
      "outputs": [
        {
          "output_type": "stream",
          "name": "stdout",
          "text": [
            "Playing game... Lives left: 3\n",
            "Playing game... Lives left: 2\n",
            "Playing game... Lives left: 1\n",
            "Game Over!"
          ]
        }
      ],
      "source": [
        "# Keep playing game while player has lives\n",
        "lives = 3\n",
        "while lives > 0\n",
        "    println(\"Playing game... Lives left: $lives\")\n",
        "    lives = lives - 1\n",
        "end\n",
        "println(\"Game Over!\")"
      ],
      "id": "f2bdee89"
    },
    {
      "cell_type": "code",
      "execution_count": 14,
      "metadata": {},
      "outputs": [
        {
          "output_type": "stream",
          "name": "stdout",
          "text": [
            "Adding 1 liter...\n",
            "Adding 1 liter...\n",
            "Adding 1 liter...\n",
            "Adding 1 liter...\n",
            "Adding 1 liter...\n",
            "Bucket is full!"
          ]
        }
      ],
      "source": [
        "# Keep filling water bucket until full\n",
        "current_liters = 0\n",
        "bucket_size = 5\n",
        "while true\n",
        "    println(\"Adding 1 liter...\")\n",
        "    current_liters = current_liters + 1\n",
        "    if current_liters == bucket_size\n",
        "        break\n",
        "    end\n",
        "end\n",
        "println(\"Bucket is full!\")"
      ],
      "id": "b4bfb1e7"
    },
    {
      "cell_type": "markdown",
      "metadata": {},
      "source": [
        "> **Tip**\n",
        ">\n",
        "> Think of a `while` loop like these everyday situations:\n",
        ">\n",
        "> -   Keep studying WHILE you don’t understand the topic\n",
        "> -   Keep adding ingredients WHILE the recipe isn’t complete\n",
        "> -   Keep saving money WHILE you don’t have enough\n",
        "\n",
        "## Exercise 2.1 - Subtract from 10 in Increments of 1 Until the Result is Less Than 3\n",
        "\n",
        "Subtract from `10` in increments of `1` until the result is less than\n",
        "`3`. The next line initializes `current_value` to `10`. The result\n",
        "should be in this variable."
      ],
      "id": "a22a9177-0555-4515-b7f8-d8406f6442b8"
    },
    {
      "cell_type": "code",
      "execution_count": 15,
      "metadata": {},
      "outputs": [],
      "source": [
        "current_value = 10\n",
        "# YOUR CODE BELOW"
      ],
      "id": "3f04a28c"
    },
    {
      "cell_type": "code",
      "execution_count": 16,
      "metadata": {},
      "outputs": [],
      "source": [
        "# Test your answer\n",
        "@assert current_value == 2\n",
        "println(\"The first value smaller than 3 is: \", current_value)"
      ],
      "id": "e789544e"
    },
    {
      "cell_type": "markdown",
      "metadata": {},
      "source": [
        "## Exercise 2.2 - Find the First Multiple of 7 Greater Than 50\n",
        "\n",
        "Find the first multiple of `7` greater than `50` using an indefinite\n",
        "loop. The next line initializes `first_multiple_of_7` to `0`. The first\n",
        "multiple should be in this variable."
      ],
      "id": "b109de8d-e07f-4d81-ac2f-f625d2c56815"
    },
    {
      "cell_type": "code",
      "execution_count": 17,
      "metadata": {},
      "outputs": [],
      "source": [
        "first_multiple_of_7 = 0\n",
        "# YOUR CODE BELOW"
      ],
      "id": "2fff0315"
    },
    {
      "cell_type": "code",
      "execution_count": 18,
      "metadata": {},
      "outputs": [],
      "source": [
        "# Test your answer\n",
        "@assert first_multiple_of_7 == 56\n",
        "println(\"First multiple of 7 greater than 50: \", first_multiple_of_7)"
      ],
      "id": "c42114ab"
    },
    {
      "cell_type": "markdown",
      "metadata": {},
      "source": [
        "> **Tip**\n",
        ">\n",
        "> ‘while true … end’ constructs an infinite loop. You can exit the loop\n",
        "> using a ‘break’ statement if a condition is met.\n",
        "\n",
        "------------------------------------------------------------------------\n",
        "\n",
        "# Section 3 - Nested Loops\n",
        "\n",
        "Nested loops are loops inside other loops. Think of it like organizing\n",
        "your closet: - First loop: Go through each shelf - Second loop: For each\n",
        "shelf, go through each item"
      ],
      "id": "e138c0d0-eb95-4b40-92e7-a49d68e455ea"
    },
    {
      "cell_type": "code",
      "execution_count": 19,
      "metadata": {},
      "outputs": [
        {
          "output_type": "stream",
          "name": "stdout",
          "text": [
            "Found Red t-shirt in size Small\n",
            "Found Blue t-shirt in size Small\n",
            "Found Red t-shirt in size Medium\n",
            "Found Blue t-shirt in size Medium\n",
            "Found Red t-shirt in size Large\n",
            "Found Blue t-shirt in size Large"
          ]
        }
      ],
      "source": [
        "# Checking sizes and colors of t-shirts\n",
        "sizes = [\"Small\", \"Medium\", \"Large\"]\n",
        "colors = [\"Red\", \"Blue\"]\n",
        "\n",
        "for size in sizes\n",
        "    for color in colors\n",
        "        println(\"Found $color t-shirt in size $size\")\n",
        "    end\n",
        "end"
      ],
      "id": "b94b368d"
    },
    {
      "cell_type": "markdown",
      "metadata": {},
      "source": [
        "## Exercise 3.1 - Compute the Product of Each Pair of Elements from Two Arrays\n",
        "\n",
        "Compute the product of **each pair of elements** from two arrays. For\n",
        "example, the product of two numbers `a` and `b` is `a * b`. The next\n",
        "lines initialize `numbers1`, `numbers2` arrays, and the `products` array\n",
        "to store your results."
      ],
      "id": "410dbf12-504c-44e6-a5cf-3494ab9a652a"
    },
    {
      "cell_type": "code",
      "execution_count": 20,
      "metadata": {},
      "outputs": [],
      "source": [
        "numbers1 = [1, 2, 3]\n",
        "numbers2 = [4, 5, 6]\n",
        "products = []\n",
        "# YOUR CODE BELOW"
      ],
      "id": "1cd4e4bb"
    },
    {
      "cell_type": "code",
      "execution_count": 21,
      "metadata": {},
      "outputs": [],
      "source": [
        "# Test your answer\n",
        "@assert products == [4, 5, 6, 8, 10, 12, 12, 15, 18]\n",
        "println(\"Products of each pair from two arrays: \", products)"
      ],
      "id": "6442590d"
    },
    {
      "cell_type": "markdown",
      "metadata": {},
      "source": [
        "> **Tip**\n",
        ">\n",
        "> Remember, you can use push!() to append elements to an array.\n",
        "\n",
        "------------------------------------------------------------------------\n",
        "\n",
        "# Section 4 - List Comprehensions\n",
        "\n",
        "List comprehensions provide a concise way to create lists based on\n",
        "existing lists. They can often replace for loops and are considered more\n",
        "“Julia-like”. Basic syntax:\n",
        "\n",
        "``` julia\n",
        "[expression for item in collection if condition]\n",
        "```\n",
        "\n",
        "For example:\n",
        "\n",
        "``` julia\n",
        "# The long way\n",
        "squares = []\n",
        "for n in 1:5\n",
        "    push!(squares, n^2)\n",
        "end\n",
        "\n",
        "# The short way (list comprehension)\n",
        "squares = [n^2 for n in 1:5]\n",
        "```\n",
        "\n",
        "Both create `[1, 4, 9, 16, 25]`, but the second way is more concise!\n",
        "\n",
        "## Exercise 4.1 - Create a List of Even Numbers\n",
        "\n",
        "Create a list of even numbers from 1 to 10 using a list comprehension."
      ],
      "id": "d36f544c-d56c-494b-900a-da80c2a1268d"
    },
    {
      "cell_type": "code",
      "execution_count": 22,
      "metadata": {},
      "outputs": [],
      "source": [
        "# YOUR CODE BELOW"
      ],
      "id": "93bb284c"
    },
    {
      "cell_type": "code",
      "execution_count": 23,
      "metadata": {},
      "outputs": [],
      "source": [
        "# Test your answer\n",
        "@assert even_numbers == [2, 4, 6, 8, 10]\n",
        "println(\"Even numbers from 1 to 10: \", even_numbers)"
      ],
      "id": "e6a782a0"
    },
    {
      "cell_type": "markdown",
      "metadata": {},
      "source": [
        "------------------------------------------------------------------------\n",
        "\n",
        "# Conclusion\n",
        "\n",
        "Great work! You’ve successfully navigated through the basics of loops in\n",
        "Julia. You’ve seen for and while loops, tackled iterable structure, and\n",
        "worked on nested loops. Continue to the next file to learn more.\n",
        "\n",
        "# Solutions\n",
        "\n",
        "You will likely find solutions to most exercises online. However, I\n",
        "strongly encourage you to work on these exercises independently without\n",
        "searching explicitly for the exact answers to the exercises.\n",
        "Understanding someone else’s solution is very different from developing\n",
        "your own. Use the lecture notes and try to solve the exercises on your\n",
        "own. This approach will significantly enhance your learning and\n",
        "problem-solving skills.\n",
        "\n",
        "Remember, the goal is not just to complete the exercises, but to\n",
        "understand the concepts and improve your programming abilities. If you\n",
        "encounter difficulties, review the lecture materials, experiment with\n",
        "different approaches, and don’t hesitate to ask for clarification during\n",
        "class discussions."
      ],
      "id": "9fd02178-3ccc-4089-b512-96c4fe8b557b"
    }
  ],
  "nbformat": 4,
  "nbformat_minor": 5,
  "metadata": {
    "kernelspec": {
      "name": "julia-ao-1.12",
      "display_name": "Julia-AO 1.12.0",
      "language": "julia",
      "path": "/Users/vlcek/Library/Jupyter/kernels/julia-ao-1.12"
    },
    "language_info": {
      "name": "julia",
      "file_extension": ".jl",
      "mimetype": "application/julia",
      "version": "1.12.0"
    }
  }
}