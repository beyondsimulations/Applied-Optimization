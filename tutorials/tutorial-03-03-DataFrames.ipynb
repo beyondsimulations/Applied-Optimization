{
  "cells": [
    {
      "cell_type": "markdown",
      "metadata": {},
      "source": [
        "# Tutorial III.III - DataFrames in Julia\n",
        "\n",
        "Applied Optimization with Julia\n",
        "\n",
        "# Introduction\n",
        "\n",
        "Imagine a DataFrame as a digital spreadsheet. It’s a way to organize and\n",
        "work with data in rows and columns. Each column can hold different types\n",
        "of information, like names, ages, or salaries. In this tutorial, we’ll\n",
        "learn how to create DataFrames, add and change data, and perform simple\n",
        "operations on our data.\n",
        "\n",
        "> **Note**\n",
        ">\n",
        "> Before we start, make sure you have the DataFrames package installed.\n",
        "> If you’re not sure how to do this, check the previous tutorial on\n",
        "> package management!\n",
        "\n",
        "Let’s begin by importing the DataFrames package:"
      ],
      "id": "1492c940-f9cc-48a2-815a-2cd8d6252207"
    },
    {
      "cell_type": "code",
      "execution_count": 2,
      "metadata": {},
      "outputs": [],
      "source": [
        "# Import the DataFrames package\n",
        "using DataFrames"
      ],
      "id": "f7bb3ff3"
    },
    {
      "cell_type": "markdown",
      "metadata": {},
      "source": [
        "------------------------------------------------------------------------\n",
        "\n",
        "# Section 1 - Creating DataFrames\n",
        "\n",
        "A DataFrame in Julia is akin to a table in SQL or a spreadsheet - each\n",
        "column can have its own type, making it highly versatile. A DataFrame\n",
        "can be created using the DataFrame constructor and passing key-value\n",
        "pairs where the key is the column name and the value is an array of\n",
        "data. For more help, use `?` in the REPL and type `DataFrame`. Example:"
      ],
      "id": "edf4213a-16c9-46f8-8dae-f269ebbd6ad7"
    },
    {
      "cell_type": "code",
      "execution_count": 3,
      "metadata": {},
      "outputs": [
        {
          "output_type": "display_data",
          "metadata": {},
          "data": {
            "text/html": [
              "</div>"
            ]
          }
        }
      ],
      "source": [
        "students = DataFrame(\n",
        "    Name = [\"Elio\", \"Bob\", \"Yola\"],\n",
        "    Age = [18, 25,29],\n",
        ")"
      ],
      "id": "30ce7b6a"
    },
    {
      "cell_type": "markdown",
      "metadata": {},
      "source": [
        "## Exercise 1.1 - Create a DataFrame\n",
        "\n",
        "Create and Test a DataFrame. Create a DataFrame named `employees` with\n",
        "the columns `Name`, `Age`, and `Salary`, and populate it with the\n",
        "specified data: John is `28` years old and earns `50000`, Mike is `23`\n",
        "years old and earns `62000`. Frank is `37` years old and earns `90000`."
      ],
      "id": "a95d1292-fc9c-4e92-87e2-24a5dad749e4"
    },
    {
      "cell_type": "code",
      "execution_count": 4,
      "metadata": {},
      "outputs": [],
      "source": [
        "# YOUR CODE BELOW"
      ],
      "id": "3cf5eba9"
    },
    {
      "cell_type": "code",
      "execution_count": 5,
      "metadata": {},
      "outputs": [],
      "source": [
        "# Test your answer\n",
        "@assert employees == DataFrame(\n",
        "    Name = [\"John\", \"Mike\", \"Frank\"],\n",
        "    Age = [28, 23, 37],\n",
        "    Salary = [50000, 62000, 90000]\n",
        ")\n",
        "println(\"DataFrame created successfully!\")\n",
        "println(employees)"
      ],
      "id": "3cf9c52d"
    },
    {
      "cell_type": "markdown",
      "metadata": {},
      "source": [
        "> **Tip**\n",
        ">\n",
        "> Remember, for more help, use `?` in the REPL and type `DataFrame`.\n",
        "\n",
        "------------------------------------------------------------------------\n",
        "\n",
        "# Section 2 - Accessing and Modifying Data\n",
        "\n",
        "Accessing columns in a DataFrame can be done using the dot syntax, while\n",
        "rows can be accessed via indexing. Modification of data is\n",
        "straightforward; just assign a new value to the desired cell. To access\n",
        "the column ‘name’ in our DataFrame with `employees`, we could do:"
      ],
      "id": "59374e42-543c-41fe-a2d7-d785b5e123e5"
    },
    {
      "cell_type": "code",
      "execution_count": 7,
      "metadata": {},
      "outputs": [
        {
          "output_type": "display_data",
          "metadata": {},
          "data": {
            "text/plain": [
              "3-element Vector{String}:\n",
              " \"John\"\n",
              " \"Mike\"\n",
              " \"Frank\""
            ]
          }
        }
      ],
      "source": [
        "employees.Name"
      ],
      "id": "8a98bf0c"
    },
    {
      "cell_type": "markdown",
      "metadata": {},
      "source": [
        "To access the third name specifically, we could do:"
      ],
      "id": "5c3cf751-8dd0-45bb-b8be-6fa7aeec01f1"
    },
    {
      "cell_type": "code",
      "execution_count": 8,
      "metadata": {},
      "outputs": [
        {
          "output_type": "display_data",
          "metadata": {},
          "data": {
            "text/plain": [
              "\"Frank\""
            ]
          }
        }
      ],
      "source": [
        "employees.Name[3]"
      ],
      "id": "925e8a36"
    },
    {
      "cell_type": "markdown",
      "metadata": {},
      "source": [
        "## Exercise 2.1 - Access the `Age` Column\n",
        "\n",
        "Access the `Age` column from the DataFrame and save it in a new variable\n",
        "`ages`."
      ],
      "id": "a4415210-c12a-4ec1-b023-36b0ca2898b0"
    },
    {
      "cell_type": "code",
      "execution_count": 9,
      "metadata": {},
      "outputs": [],
      "source": [
        "# YOUR CODE BELOW"
      ],
      "id": "4fd99943"
    },
    {
      "cell_type": "code",
      "execution_count": 10,
      "metadata": {},
      "outputs": [],
      "source": [
        "# Test your answer\n",
        "@assert ages == [28, 23, 37]\n",
        "println(\"Correct, the Ages column is: \", ages)"
      ],
      "id": "16cee1ed"
    },
    {
      "cell_type": "markdown",
      "metadata": {},
      "source": [
        "## Exercise 2.2 - Update John’s Salary\n",
        "\n",
        "Update John’s salary to `59000`."
      ],
      "id": "674e6de8-3dbc-4e2a-a368-e242b012bc80"
    },
    {
      "cell_type": "code",
      "execution_count": 11,
      "metadata": {},
      "outputs": [],
      "source": [
        "# YOUR CODE BELOW"
      ],
      "id": "e9add3da"
    },
    {
      "cell_type": "code",
      "execution_count": 12,
      "metadata": {},
      "outputs": [],
      "source": [
        "# Test your answer\n",
        "@assert employees.Salary[1] == 59000\n",
        "println(\"Modified DataFrame: \")\n",
        "println(employees)"
      ],
      "id": "99431a09"
    },
    {
      "cell_type": "markdown",
      "metadata": {},
      "source": [
        "------------------------------------------------------------------------\n",
        "\n",
        "# Section 3 - Filtering Data\n",
        "\n",
        "Logical indexing can be used to filter rows in a DataFrame based on\n",
        "conditions. To filter the DataFrame to include only employees names\n",
        "“Frank” we could do:"
      ],
      "id": "9530a707-927e-42b6-ad99-c27019018710"
    },
    {
      "cell_type": "code",
      "execution_count": 13,
      "metadata": {},
      "outputs": [
        {
          "output_type": "display_data",
          "metadata": {},
          "data": {
            "text/html": [
              "</div>"
            ]
          }
        }
      ],
      "source": [
        "allFranks = employees[employees.Name .== \"Frank\", :]"
      ],
      "id": "fed868ab"
    },
    {
      "cell_type": "markdown",
      "metadata": {},
      "source": [
        "Alternatively, the filter function provides a powerful tool to extract\n",
        "subsets of data based on a condition:"
      ],
      "id": "fc7bc853-f155-46b0-9ee0-87c93e4a5032"
    },
    {
      "cell_type": "code",
      "execution_count": 14,
      "metadata": {},
      "outputs": [
        {
          "output_type": "display_data",
          "metadata": {},
          "data": {
            "text/html": [
              "</div>"
            ]
          }
        }
      ],
      "source": [
        "allFranks = filter(row -> row.Name == \"Frank\", employees)"
      ],
      "id": "cdcd65af"
    },
    {
      "cell_type": "markdown",
      "metadata": {},
      "source": [
        "## Exercise 3.1 - Filter the DataFrame\n",
        "\n",
        "Filter the DataFrame to include only employees with salaries above\n",
        "`60000`. Save the resulting employees in the DataFrame `high_earners`."
      ],
      "id": "2205a32c-f8ef-490d-b30e-93f51ae138b3"
    },
    {
      "cell_type": "code",
      "execution_count": 15,
      "metadata": {},
      "outputs": [],
      "source": [
        "# YOUR CODE BELOW"
      ],
      "id": "f8b88af1"
    },
    {
      "cell_type": "code",
      "execution_count": 16,
      "metadata": {},
      "outputs": [],
      "source": [
        "# Test your answer\n",
        "@assert nrow(high_earners) == 2\n",
        "println(\"High earners: \")\n",
        "println(high_earners)"
      ],
      "id": "9e2a37a2"
    },
    {
      "cell_type": "markdown",
      "metadata": {},
      "source": [
        "------------------------------------------------------------------------\n",
        "\n",
        "# Section 4 - Basic Data Manipulation\n",
        "\n",
        "Julia provides functions for basic data manipulation tasks, including\n",
        "sorting, grouping, and joining DataFrames. The `sort` function can be\n",
        "used to order the rows in a DataFrame based on the values in one or more\n",
        "columns. To see how to use the function, type `?` into the REPL\n",
        "(terminal) and type `sort`.\n",
        "\n",
        "## Exercise 4.1 - Sort the DataFrame\n",
        "\n",
        "Sort the DataFrame based on the `Age` column and save it as `sorted_df`."
      ],
      "id": "683840b6-01a8-4c62-be99-1cc8f9054baa"
    },
    {
      "cell_type": "code",
      "execution_count": 17,
      "metadata": {},
      "outputs": [],
      "source": [
        "# YOUR CODE BELOW"
      ],
      "id": "eee3e0ed"
    },
    {
      "cell_type": "code",
      "execution_count": 18,
      "metadata": {},
      "outputs": [],
      "source": [
        "# Test your answer\n",
        "@assert sorted_df.Age[1] == 23\n",
        "println(\"DataFrame sorted by age: \")\n",
        "println(sorted_df)"
      ],
      "id": "ade789c5"
    },
    {
      "cell_type": "markdown",
      "metadata": {},
      "source": [
        "> **Tip**\n",
        ">\n",
        "> If you have more complicated data structures, take a look at JSON\n",
        "> files which can be used to work with all kind of differently\n",
        "> structured data sets.\n",
        "\n",
        "------------------------------------------------------------------------\n",
        "\n",
        "# Section 5 - Loop over DataFrames\n",
        "\n",
        "Sometimes, you might need to iterate over the rows of a DataFrame to\n",
        "perform operations on each row individually. Julia provides a convenient\n",
        "way to do this using the `eachrow` function. For example, if we want to\n",
        "check for each employee if they have a salary above 60000, we can do the\n",
        "following:"
      ],
      "id": "d6603c14-9d71-416b-9664-803d4b80d305"
    },
    {
      "cell_type": "code",
      "execution_count": 19,
      "metadata": {},
      "outputs": [
        {
          "output_type": "stream",
          "name": "stdout",
          "text": [
            "Mike earns more than 60000\n",
            "Frank earns more than 60000"
          ]
        }
      ],
      "source": [
        "for row in eachrow(employees)\n",
        "    if row.Salary > 60000\n",
        "        println(\"$(row.Name) earns more than 60000\")\n",
        "    end\n",
        "end"
      ],
      "id": "26394132"
    },
    {
      "cell_type": "markdown",
      "metadata": {},
      "source": [
        "Here, the `row` holds all the values of the row as a `NamedTuple`. We\n",
        "can access the values of a column then by using the dot syntax. To\n",
        "create a new column, we can use the `push!` function. For example, to\n",
        "create a new column called `VacationDays` in the `employees` DataFrame,\n",
        "we can do one of the following:"
      ],
      "id": "1ea505ec-6fdf-4fe9-966c-bb2b0126b4d6"
    },
    {
      "cell_type": "code",
      "execution_count": 20,
      "metadata": {},
      "outputs": [
        {
          "output_type": "display_data",
          "metadata": {},
          "data": {
            "text/plain": [
              "3-element Vector{Int64}:\n",
              " 0\n",
              " 0\n",
              " 0"
            ]
          }
        }
      ],
      "source": [
        "employees.VacationDays = [0 for row in eachrow(employees)]\n",
        "employees.VacationDays .= 0"
      ],
      "id": "5e9df72e"
    },
    {
      "cell_type": "markdown",
      "metadata": {},
      "source": [
        "## Exercise 5.1 - Loop over DataFrame\n",
        "\n",
        "Create a new column called `Bonus` in the `employees` DataFrame. The\n",
        "bonus should be calculated as 10% of the salary for employees over 30,\n",
        "and 5% for those 30 and under. Use a loop to iterate over the rows and\n",
        "calculate the bonus."
      ],
      "id": "c5dcae22-6f5e-4a5a-8ad0-e1a3d2b683b2"
    },
    {
      "cell_type": "code",
      "execution_count": 21,
      "metadata": {},
      "outputs": [],
      "source": [
        "# YOUR CODE BELOW"
      ],
      "id": "853e88ff"
    },
    {
      "cell_type": "code",
      "execution_count": 22,
      "metadata": {},
      "outputs": [],
      "source": [
        "# Test your answer\n",
        "@assert filter(\n",
        "    row -> row.Bonus == 2950,\n",
        "    employees\n",
        ").Name == [\"John\"] \"John should have a bonus of 2950\"\n",
        "@assert filter(\n",
        "    row -> row.Bonus == 3100,\n",
        "    employees\n",
        ").Name == [\"Mike\"] \"Mike should have a bonus of 3100\"\n",
        "@assert filter(\n",
        "    row -> row.Bonus == 9000,\n",
        "    employees\n",
        ").Name == [\"Frank\"] \"Frank should have a bonus of 9000\"\n",
        "println(\"Great job! All the bonuses are correct!\")"
      ],
      "id": "1eae9f84"
    },
    {
      "cell_type": "markdown",
      "metadata": {},
      "source": [
        "------------------------------------------------------------------------\n",
        "\n",
        "# Section 6 - Filling a new DataFrame with values\n",
        "\n",
        "Do you remember the `push!` function? We can use it to fill a new\n",
        "DataFrame with values. For example, we can create a new DataFrame called\n",
        "`WorkingHours` and fill it with the values from the `employees`\n",
        "DataFrame. Imagine that the company has a policy, where employees above\n",
        "30 work 30 hours a week, and employees under 30 work 40 hours a week:"
      ],
      "id": "e6c650d2-332b-460a-9a36-379128e7d453"
    },
    {
      "cell_type": "code",
      "execution_count": 23,
      "metadata": {},
      "outputs": [],
      "source": [
        "# Create a new DataFrame\n",
        "WorkingHours = DataFrame(\n",
        "    Name = String[],\n",
        "    Hours = Int[]\n",
        ")\n",
        "# Loop over the rows of the employees DataFrame\n",
        "for row in eachrow(employees)\n",
        "    if row.Age < 30\n",
        "        push!(WorkingHours, (\n",
        "            Name = row.Name,\n",
        "            Hours = 40\n",
        "        ))\n",
        "    else\n",
        "        push!(WorkingHours, (\n",
        "            Name = row.Name,\n",
        "            Hours = 30\n",
        "        ))\n",
        "    end\n",
        "end\n",
        "println(WorkingHours)"
      ],
      "id": "aa4a8bb7"
    },
    {
      "cell_type": "markdown",
      "metadata": {},
      "source": [
        "------------------------------------------------------------------------\n",
        "\n",
        "# Conclusion\n",
        "\n",
        "Fantastic work! You’ve completed the tutorial on DataFrames in Julia.\n",
        "You’ve seen how to create DataFrames and access, modify and filter data.\n",
        "Continue to the next file to learn more.\n",
        "\n",
        "# Solutions\n",
        "\n",
        "You will likely find solutions to most exercises online. However, I\n",
        "strongly encourage you to work on these exercises independently without\n",
        "searching explicitly for the exact answers to the exercises.\n",
        "Understanding someone else’s solution is very different from developing\n",
        "your own. Use the lecture notes and try to solve the exercises on your\n",
        "own. This approach will significantly enhance your learning and\n",
        "problem-solving skills.\n",
        "\n",
        "Remember, the goal is not just to complete the exercises, but to\n",
        "understand the concepts and improve your programming abilities. If you\n",
        "encounter difficulties, review the lecture materials, experiment with\n",
        "different approaches, and don’t hesitate to ask for clarification during\n",
        "class discussions."
      ],
      "id": "b40665c0-e023-41c8-91ad-84ca6cf2cac8"
    }
  ],
  "nbformat": 4,
  "nbformat_minor": 5,
  "metadata": {
    "kernelspec": {
      "name": "julia-ao-1.12",
      "display_name": "Julia-AO 1.12.0",
      "language": "julia",
      "path": "/Users/vlcek/Library/Jupyter/kernels/julia-ao-1.12"
    },
    "language_info": {
      "name": "julia",
      "file_extension": ".jl",
      "mimetype": "application/julia",
      "version": "1.12.0"
    }
  }
}