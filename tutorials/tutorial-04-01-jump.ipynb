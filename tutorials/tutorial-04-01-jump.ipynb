{
  "cells": [
    {
      "cell_type": "markdown",
      "metadata": {},
      "source": [
        "# Tutorial IV.I - Introduction to Mathematical Optimization with JuMP\n",
        "\n",
        "and HiGHS\n",
        "\n",
        "Applied Optimization with Julia\n",
        "\n",
        "# Introduction\n",
        "\n",
        "Welcome to this beginner-friendly tutorial on mathematical optimization\n",
        "using JuMP and the HiGHS solver in Julia! Don’t worry if these terms\n",
        "sound unfamiliar – we’ll explain everything step by step.\n",
        "\n",
        "In this tutorial, you’ll learn how to:\n",
        "\n",
        "1.  Set up a simple optimization problem\n",
        "2.  Define variables and constraints\n",
        "3.  Create an objective function\n",
        "4.  Solve the problem and interpret the results\n",
        "\n",
        "We’ll use a real-world example to make these concepts more relatable.\n",
        "Imagine you’re managing a small factory that produces two types of\n",
        "products. Your goal is to maximize profit while working within certain\n",
        "limitations. This is exactly the kind of problem that mathematical\n",
        "optimization can solve!\n",
        "\n",
        "## What is JuMP?\n",
        "\n",
        "JuMP (Julia for Mathematical Programming) is a powerful tool that helps\n",
        "us describe optimization problems in a way that computers can understand\n",
        "and solve. Think of it as a translator between your business problem and\n",
        "the mathematical solver.\n",
        "\n",
        "## What is HiGHS?\n",
        "\n",
        "HiGHS is an open-source solver that can find solutions to the\n",
        "optimization problems we describe using JuMP. It’s like a very smart\n",
        "calculator that can handle complex problems quickly and efficiently.\n",
        "\n",
        "## Our Example Problem\n",
        "\n",
        "Let’s break down our factory management problem:\n",
        "\n",
        "-   You produce two products: Product A and Product B\n",
        "-   Each product gives you a different profit:\n",
        "    -   Product A: 100 profit per unit\n",
        "    -   Product B: 150 profit per unit\n",
        "-   You have two departments: Cutting and Finishing\n",
        "-   Each product requires different amounts of time in each department:\n",
        "    -   Product A: 2 hours in Cutting, 4 hours in Finishing\n",
        "    -   Product B: 4 hours in Cutting, 3 hours in Finishing\n",
        "-   You have limited time available in each department:\n",
        "    -   Cutting: 40 hours total\n",
        "    -   Finishing: 60 hours total\n",
        "\n",
        "Your goal is to decide how many of each product to make to maximize your\n",
        "total profit, while not exceeding the available time in each department.\n",
        "\n",
        "## Setting Up\n",
        "\n",
        "First, we need to install and load the necessary packages. If you\n",
        "haven’t already installed JuMP and HiGHS, run the following code:"
      ],
      "id": "3248b506-ea76-40d0-91b4-3c53c878dc4e"
    },
    {
      "cell_type": "code",
      "execution_count": 2,
      "metadata": {},
      "outputs": [],
      "source": [
        "import Pkg\n",
        "Pkg.activate(\"applied-optimization\")\n",
        "Pkg.add([\"JuMP\",\"HiGHS\"])"
      ],
      "id": "d82b621d"
    },
    {
      "cell_type": "markdown",
      "metadata": {},
      "source": [
        "Now, let’s load these packages:"
      ],
      "id": "7d30f48c-52d5-4a5d-a2af-431102a73d68"
    },
    {
      "cell_type": "code",
      "execution_count": 3,
      "metadata": {},
      "outputs": [],
      "source": [
        "using JuMP, HiGHS"
      ],
      "id": "dcc5bfc2"
    },
    {
      "cell_type": "markdown",
      "metadata": {},
      "source": [
        "Great! We’re now ready to start building our optimization model.\n",
        "\n",
        "------------------------------------------------------------------------\n",
        "\n",
        "# Section 1 - Defining an Optimization Model\n",
        "\n",
        "The first step in solving an optimization problem is to create a model.\n",
        "This model will contain all the information about our problem: the\n",
        "variables, constraints, and objective.\n",
        "\n",
        "In JuMP, we create a model like this:"
      ],
      "id": "3761864d-e7cd-4550-ad68-bea068cf8b71"
    },
    {
      "cell_type": "code",
      "execution_count": 4,
      "metadata": {},
      "outputs": [
        {
          "output_type": "stream",
          "name": "stdout",
          "text": [
            "Optimization model created successfully!"
          ]
        }
      ],
      "source": [
        "model = Model(HiGHS.Optimizer)\n",
        "println(\"Optimization model created successfully!\")"
      ],
      "id": "d0687283"
    },
    {
      "cell_type": "markdown",
      "metadata": {},
      "source": [
        "Let’s break this down: - `Model()` creates a new optimization model -\n",
        "`HiGHS.Optimizer` tells JuMP to use the HiGHS solver for this model\n",
        "\n",
        "Think of this as creating a blank canvas where we’ll paint our\n",
        "optimization problem.\n",
        "\n",
        "------------------------------------------------------------------------\n",
        "\n",
        "# Section 2 - Adding Variables\n",
        "\n",
        "Now that we have our model, we need to define our variables. In our\n",
        "factory problem, the variables represent the quantities of Product A and\n",
        "Product B that we want to produce.\n",
        "\n",
        "In JuMP, we use the `@variable` macro to define variables. Here’s the\n",
        "general syntax:\n",
        "\n",
        "``` julia\n",
        "@variable(model_name, variable_name, [additional_properties])\n",
        "```\n",
        "\n",
        "Where:\n",
        "\n",
        "-   `model_name` is the name of your JuMP model\n",
        "-   `variable_name` is what you want to call your variable\n",
        "-   `[additional_properties]` can include bounds or variable types\n",
        "\n",
        "For example, to create a continuous variable that’s greater than or\n",
        "equal to 0:\n",
        "\n",
        "``` julia\n",
        "@variable(model_name, variable_name >= 0)\n",
        "```\n",
        "\n",
        "This defines a continuous variable that’s equal to or larger than 0.\n",
        "\n",
        "## Exercise 2.1 - Create Variables\n",
        "\n",
        "Now it’s your turn! Create two continuous variables equal to or larger\n",
        "than 0 called `productA` and `productB` that represent the number of\n",
        "units produced in our problem for our model `model`."
      ],
      "id": "b87bbd7d-e064-4b7e-b489-6b90c0ac9f82"
    },
    {
      "cell_type": "code",
      "execution_count": 5,
      "metadata": {},
      "outputs": [],
      "source": [
        "# YOUR CODE BELOW"
      ],
      "id": "95e82cac"
    },
    {
      "cell_type": "code",
      "execution_count": 6,
      "metadata": {},
      "outputs": [],
      "source": [
        "# Test your answer\n",
        "@assert @isdefined productA\n",
        "@assert typeof(productA) == VariableRef\n",
        "@assert has_upper_bound(productA) == false\n",
        "@assert has_lower_bound(productA) == true\n",
        "@assert lower_bound(productA) == 0\n",
        "@assert @isdefined productA\n",
        "@assert typeof(productB) == VariableRef\n",
        "@assert has_upper_bound(productB) == false\n",
        "@assert has_lower_bound(productB) == true\n",
        "@assert lower_bound(productB) == 0\n",
        "println(\"Variables added to the model successfully!\")"
      ],
      "id": "5f17b47a"
    },
    {
      "cell_type": "markdown",
      "metadata": {},
      "source": [
        "------------------------------------------------------------------------\n",
        "\n",
        "# Section 3 - Adding Constraints\n",
        "\n",
        "Constraints are conditions that limit the possible values of the\n",
        "variables in our optimization problem. In JuMP, we use the `@constraint`\n",
        "macro to define these constraints.\n",
        "\n",
        "The general syntax for adding a constraint is:\n",
        "\n",
        "``` julia\n",
        "@constraint(model_name, constraint_name, constraint_expression)\n",
        "```\n",
        "\n",
        "Where:\n",
        "\n",
        "-   `model_name` is the name of your JuMP model\n",
        "-   `constraint_name` is a label you give to the constraint (optional,\n",
        "    but useful for reference)\n",
        "-   `constraint_expression` is the mathematical expression of the\n",
        "    constraint\n",
        "\n",
        "For example:\n",
        "\n",
        "``` julia\n",
        "constraint(model_name, constraint_name, 4 * variable_name <= 100)\n",
        "```\n",
        "\n",
        "This defines a constraint that ensures, that the variable\n",
        "`variable_name` can maximally be 25. Note, that you will have to change\n",
        "`model_name`, `constraint_name` and `variable_name` according to your\n",
        "instance.\n",
        "\n",
        "## Exercise 3.1 - Create Constraints\n",
        "\n",
        "Create two constraints based on the on the Cutting and Finishing\n",
        "department hours of the problem description in this tutorial. Call the\n",
        "first constraint `cutting_constraint` and the second constraint\n",
        "`finishing_constraint`."
      ],
      "id": "b714cf5b-e4e8-46ff-b9cf-ca608c99c1c1"
    },
    {
      "cell_type": "code",
      "execution_count": 7,
      "metadata": {},
      "outputs": [],
      "source": [
        "# YOUR CODE BELOW"
      ],
      "id": "3d0f5267"
    },
    {
      "cell_type": "code",
      "execution_count": 8,
      "metadata": {},
      "outputs": [],
      "source": [
        "# Test your answer\n",
        "@assert is_valid(model, cutting_constraint)\n",
        "@assert is_valid(model, finishing_constraint)\n",
        "println(\"Constraints added to the model successfully!\")\n",
        "println(\"Note, that only the existence of these constraints was checked!\")\n",
        "println(\"The optimization later will show, whether the formulation was correct.\")"
      ],
      "id": "529d0809"
    },
    {
      "cell_type": "markdown",
      "metadata": {},
      "source": [
        "------------------------------------------------------------------------\n",
        "\n",
        "# Section 4 - Defining the Objective Function\n",
        "\n",
        "The objective function represents the goal of our optimization problem -\n",
        "what we want to maximize or minimize. In JuMP, we use the `@objective`\n",
        "macro to define this function.\n",
        "\n",
        "The general syntax for defining an objective function is:\n",
        "\n",
        "``` julia\n",
        "@objective(model_name, optimization_direction, objective_expression)\n",
        "```\n",
        "\n",
        "Where:\n",
        "\n",
        "-   `model_name` is the name of your JuMP model\n",
        "-   `optimization_direction` is either `Max` for maximization or `Min`\n",
        "    for minimization\n",
        "-   `objective_expression` is the mathematical expression of the\n",
        "    objective function\n",
        "\n",
        "For example:\n",
        "\n",
        "``` julia\n",
        "@objective(model_name, Max, 2*variableA + 3*variableB)\n",
        "```\n",
        "\n",
        "This defines an objective function that maximizes something based on the\n",
        "values of `variableA` and `variableB`.\n",
        "\n",
        "## Exercise 4.1 - Create the Objective Function\n",
        "\n",
        "Create the objective function based on the problem description of this\n",
        "tutorial. The objective is to maximize profit based on the values of\n",
        "`productA` and `productB`."
      ],
      "id": "8fbdc870-cbd2-4d86-aec2-d0ef55028afe"
    },
    {
      "cell_type": "code",
      "execution_count": 9,
      "metadata": {},
      "outputs": [],
      "source": [
        "# YOUR CODE BELOW"
      ],
      "id": "4875896a"
    },
    {
      "cell_type": "code",
      "execution_count": 10,
      "metadata": {},
      "outputs": [],
      "source": [
        "# Test your answer\n",
        "@assert typeof(objective_function(model)) == AffExpr\n",
        "println(\"An objective function defined successfully!\")\n",
        "println(\"The optimization later will show, whether the formulation was correct.\")"
      ],
      "id": "960b3302"
    },
    {
      "cell_type": "markdown",
      "metadata": {},
      "source": [
        "------------------------------------------------------------------------\n",
        "\n",
        "# Section 5 - Solving the Model\n",
        "\n",
        "Now that we have defined our variables, constraints, and objective\n",
        "function, we’re ready to solve the optimization model. Here’s how to do\n",
        "it step by step:\n",
        "\n",
        "1.  Solve the model:"
      ],
      "id": "0f3ccdab-839b-4663-b2a6-f4fee4636e6f"
    },
    {
      "cell_type": "code",
      "execution_count": 11,
      "metadata": {},
      "outputs": [],
      "source": [
        "optimize!(model)"
      ],
      "id": "b140e03f"
    },
    {
      "cell_type": "markdown",
      "metadata": {},
      "source": [
        "1.  Check the status of the solution:"
      ],
      "id": "b475098c-2859-44fd-a0cc-aa3b1dc26589"
    },
    {
      "cell_type": "code",
      "execution_count": 12,
      "metadata": {},
      "outputs": [],
      "source": [
        "termination_status(model)"
      ],
      "id": "056aa544"
    },
    {
      "cell_type": "markdown",
      "metadata": {},
      "source": [
        "1.  If the solution is optimal, we can retrieve the optimal values of\n",
        "    our variables and the objective function. If the time limit is\n",
        "    reached, we can check whether a primal solution is available. We do\n",
        "    so by checking whether the model has values."
      ],
      "id": "1096e1cf-2645-4dd0-9161-a345f7a0486a"
    },
    {
      "cell_type": "code",
      "execution_count": 13,
      "metadata": {},
      "outputs": [],
      "source": [
        "begin\n",
        "    if termination_status(model) == OPTIMAL\n",
        "        println(\"Solution is optimal\")\n",
        "    elseif termination_status(model) == TIME_LIMIT && has_values(model)\n",
        "        println(\"Solution is suboptimal due to a time limit,\n",
        "            but a primal solution is available\")\n",
        "    else\n",
        "        error(\"The model was not solved correctly.\")\n",
        "    end\n",
        "    println(\"Objective value = \", objective_value(model))\n",
        "end"
      ],
      "id": "bc08268b"
    },
    {
      "cell_type": "markdown",
      "metadata": {},
      "source": [
        "We can then get the values of the variables as follows:"
      ],
      "id": "c5af3d2c-5ff3-487f-8f10-d95a74a4cab9"
    },
    {
      "cell_type": "code",
      "execution_count": 14,
      "metadata": {},
      "outputs": [],
      "source": [
        "println(\"Product A quantity: $(value(productA))\")\n",
        "println(\"Product B quantity: $(value(productB))\")"
      ],
      "id": "151d273d"
    },
    {
      "cell_type": "markdown",
      "metadata": {},
      "source": [
        "Let’s break this down:\n",
        "\n",
        "-   `optimize!(model)` tells JuMP to solve our model\n",
        "-   `termination_status(model)` checks if we found an optimal solution\n",
        "-   `objective_value(model)` gives us the maximum profit we can achieve\n",
        "-   `value(productA)` and `value(productB)` tell us how many of each\n",
        "    product we should produce\n",
        "\n",
        "> **Note**\n",
        ">\n",
        "> The values might be slightly off due to the nature of floating-point\n",
        "> numbers in computers.\n",
        "\n",
        "The following code block tests whether the solution is correct or\n",
        "whether you have made a mistake in the formulation of the problem."
      ],
      "id": "f397f773-5fd0-4d90-8071-768f8c1739e5"
    },
    {
      "cell_type": "code",
      "execution_count": 15,
      "metadata": {},
      "outputs": [],
      "source": [
        "# Test your answer\n",
        "@assert termination_status(model) == MOI.OPTIMAL \"Sorry, something didn't work out as the model status is $termination_status(model)\".\n",
        "println(\"Solution: Product A = \", val_productA, \", Product B = \", val_productB)\n",
        "@assert value(productA) ≈ 12 atol=1e-4 \"Although you have a solution, val_productA should be 12 not $val_productA\"\n",
        "@assert value(productB) ≈ 4 atol=1e-4 \"Although you have a solution, val_productB should be 4 not $val_productB\"\n",
        "println(\"You have solved the model correctly!\")"
      ],
      "id": "7dffba0f"
    },
    {
      "cell_type": "markdown",
      "metadata": {},
      "source": [
        "------------------------------------------------------------------------\n",
        "\n",
        "# Conclusion\n",
        "\n",
        "Excellent! You’ve completed the tutorial on mathematical optimization\n",
        "with JuMP and HiGHS. You’ve learned how to define optimization models,\n",
        "add variables and constraints, define an objective function, and solve\n",
        "the model. Continue to the next file to learn more.\n",
        "\n",
        "# Solutions\n",
        "\n",
        "You will likely find solutions to most exercises online. However, I\n",
        "strongly encourage you to work on these exercises independently without\n",
        "searching explicitly for the exact answers to the exercises.\n",
        "Understanding someone else’s solution is very different from developing\n",
        "your own. Use the lecture notes and try to solve the exercises on your\n",
        "own. This approach will significantly enhance your learning and\n",
        "problem-solving skills.\n",
        "\n",
        "Remember, the goal is not just to complete the exercises, but to\n",
        "understand the concepts and improve your programming abilities. If you\n",
        "encounter difficulties, review the lecture materials, experiment with\n",
        "different approaches, and don’t hesitate to ask for clarification during\n",
        "class discussions."
      ],
      "id": "1e4765e2-b5b4-4556-b3db-7be03ce9fe66"
    }
  ],
  "nbformat": 4,
  "nbformat_minor": 5,
  "metadata": {
    "kernelspec": {
      "name": "julia-ao-1.12",
      "display_name": "Julia-AO 1.12.0",
      "language": "julia",
      "path": "/Users/vlcek/Library/Jupyter/kernels/julia-ao-1.12"
    },
    "language_info": {
      "name": "julia",
      "file_extension": ".jl",
      "mimetype": "application/julia",
      "version": "1.12.0"
    }
  }
}