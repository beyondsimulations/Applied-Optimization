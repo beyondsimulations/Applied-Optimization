{
  "cells": [
    {
      "cell_type": "markdown",
      "metadata": {},
      "source": [
        "# Tutorial V - Production Planning in Breweries\n",
        "\n",
        "Applied Optimization with Julia\n",
        "\n",
        "# 1. Modelling the CLSP\n",
        "\n",
        "## Load the necessary packages and data\n",
        "\n",
        "Implement the CLSP from the lecture in Julia. Before we start, let’s\n",
        "load the necessary packages and data."
      ],
      "id": "642b7cc6-1103-4900-b3e5-25a878df0ead"
    },
    {
      "cell_type": "code",
      "execution_count": 3,
      "metadata": {},
      "outputs": [],
      "source": [
        "using JuMP, HiGHS\n",
        "using CSV\n",
        "using DelimitedFiles\n",
        "using DataFrames\n",
        "using Plots\n",
        "using StatsPlots\n",
        "import Pkg; Pkg.add(\"PlotlyBase\")\n",
        "plotly() # This will create interactive plots later on"
      ],
      "id": "fbfec656"
    },
    {
      "cell_type": "markdown",
      "metadata": {},
      "source": [
        "> **Tip**\n",
        ">\n",
        "> If you haven’t installed the packages yet, you can do so by running\n",
        "> `using Pkg` first and then `Pkg.add(\"JuMP\")`, `Pkg.add(\"HiGHS\")`,\n",
        "> `Pkg.add(\"DataFrames\")`, `Pkg.add(\"Plots\")`, and\n",
        "> `Pkg.add(\"StatsPlots\")`.\n",
        "\n",
        "------------------------------------------------------------------------\n",
        "\n",
        "## Load the data\n",
        "\n",
        "Now, let’s load the data. The weekly demand in bottles $d_{i,t}$, the\n",
        "available time at the bottling plant in hours $a_t$, the time required\n",
        "to bottle each beer in hours $b_i$, and the setup time in hours $g_i$\n",
        "are provided as CSV files."
      ],
      "id": "9d353403-f553-4cf9-88e8-42b33b1fd3f3"
    },
    {
      "cell_type": "code",
      "execution_count": 4,
      "metadata": {},
      "outputs": [],
      "source": [
        "# Get the directory of the current file\n",
        "file_directory = \"$(@__DIR__)/data\"\n",
        "\n",
        "# Load the data about the available time at the bottling plant\n",
        "availableTime = CSV.read(\"$file_directory/availabletime.csv\", DataFrame)\n",
        "println(\"Number of periods: $(nrow(availableTime))\")\n",
        "println(\"First 5 rows of available time per period:\")\n",
        "println(availableTime[1:5, :])"
      ],
      "id": "bc652d1f"
    },
    {
      "cell_type": "code",
      "execution_count": 5,
      "metadata": {},
      "outputs": [],
      "source": [
        "# Load the data about the bottling time for each beer\n",
        "bottlingTime = CSV.read(\"$file_directory/bottlingtime.csv\", DataFrame)\n",
        "println(\"Number of beers: $(nrow(bottlingTime))\")\n",
        "println(\"Bottling time per beer:\")\n",
        "println(bottlingTime)"
      ],
      "id": "d6bcae64"
    },
    {
      "cell_type": "code",
      "execution_count": 6,
      "metadata": {},
      "outputs": [],
      "source": [
        "# Load the data about the setup time for each beer\n",
        "setupTime = CSV.read(\"$file_directory/setuptime.csv\", DataFrame)\n",
        "println(\"Setup time per beer:\")\n",
        "println(setupTime)"
      ],
      "id": "8f72c22c"
    },
    {
      "cell_type": "code",
      "execution_count": 7,
      "metadata": {},
      "outputs": [],
      "source": [
        "# Load the data about the weekly demand for each beer\n",
        "demandCustomers = CSV.read(\"$file_directory/demand.csv\", DataFrame)\n",
        "println(\"First 5 rows of demand per beer:\")\n",
        "println(demandCustomers[1:5, :])"
      ],
      "id": "1df98c43"
    },
    {
      "cell_type": "markdown",
      "metadata": {},
      "source": [
        "------------------------------------------------------------------------\n",
        "\n",
        "## Define the parameters\n",
        "\n",
        "Consider in your implementation, that **each hour of setup** is\n",
        "associated with a cost of 1000 Euros, and the inventory holding cost for\n",
        "unsold bottles at the end of each period is 0.1 Euro per bottle.\n",
        "Implement **both parameters** for the cost of setup and the inventory\n",
        "holding cost in the model. Call them `setupHourCosts` and\n",
        "`warehouseCosts`."
      ],
      "id": "ee2c9222-d3c8-4b37-833d-21dcf8d0d76b"
    },
    {
      "cell_type": "code",
      "execution_count": 8,
      "metadata": {},
      "outputs": [],
      "source": [
        "# YOUR CODE BELOW"
      ],
      "id": "4294be3b"
    },
    {
      "cell_type": "markdown",
      "metadata": {},
      "source": [
        "Next, you need to prepare the given data for the model. Create a\n",
        "dictionary for the available time, bottling time, and setup time. Call\n",
        "them `dictAvailableTime`, `dictBottlingTime`, and `dictSetupTime`."
      ],
      "id": "d570d5f5-fb03-40a8-81df-9b289bd0f415"
    },
    {
      "cell_type": "code",
      "execution_count": 10,
      "metadata": {},
      "outputs": [],
      "source": [
        "# Prepare the data for the model\n",
        "dictDemand = Dict((row.beer_type,row.period) => row.demand for row in eachrow(demandCustomers))\n",
        "\n",
        "# YOUR CODE BELOW\n"
      ],
      "id": "11fa3e6f"
    },
    {
      "cell_type": "code",
      "execution_count": 11,
      "metadata": {},
      "outputs": [],
      "source": [
        "# Validate your solution\n",
        "@assert length(dictAvailableTime) == nrow(availableTime) \"Available time dictionary should have same length as input data\"\n",
        "@assert length(dictBottlingTime) == nrow(bottlingTime) \"Bottling time dictionary should have same length as input data\"\n",
        "@assert length(dictSetupTime) == nrow(setupTime) \"Setup time dictionary should have same length as input data\"\n",
        "\n",
        "# Check that all values are positive\n",
        "@assert all(v -> v > 0, values(dictAvailableTime)) \"All available time values must be positive\"\n",
        "@assert all(v -> v > 0, values(dictBottlingTime)) \"All bottling time values must be positive\"\n",
        "@assert all(v -> v > 0, values(dictSetupTime)) \"All setup time values must be positive\"\n",
        "\n",
        "# Check that dictionaries contain all expected keys\n",
        "@assert all(p -> haskey(dictAvailableTime, p), availableTime.period) \"Missing periods in available time dictionary\"\n",
        "@assert all(b -> haskey(dictBottlingTime, b), bottlingTime.beer_type) \"Missing beer types in bottling time dictionary\"\n",
        "@assert all(b -> haskey(dictSetupTime, b), setupTime.beer_type) \"Missing beer types in setup time dictionary\""
      ],
      "id": "2d71945e"
    },
    {
      "cell_type": "markdown",
      "metadata": {},
      "source": [
        "------------------------------------------------------------------------\n",
        "\n",
        "## Define the model instance\n",
        "\n",
        "Next, we define the model instance for the CLSP."
      ],
      "id": "fa1e692a-5fc1-45c6-b6ac-31006ae90820"
    },
    {
      "cell_type": "code",
      "execution_count": 12,
      "metadata": {},
      "outputs": [],
      "source": [
        "# Prepare the model instance\n",
        "lotsizeModel = Model(HiGHS.Optimizer)\n",
        "set_attribute(lotsizeModel, \"presolve\", \"on\")\n",
        "set_time_limit_sec(lotsizeModel, 60.0)"
      ],
      "id": "75866b43"
    },
    {
      "cell_type": "markdown",
      "metadata": {},
      "source": [
        "------------------------------------------------------------------------\n",
        "\n",
        "## Define the variables\n",
        "\n",
        "Now, create your variables. Please name them `productBottled` for the\n",
        "binary variable, `productQuantity` for the production quantity and\n",
        "`WarehouseStockPeriodEnd` for the warehouse stock at the end of each\n",
        "period. We will use these names later in the code to plot the results."
      ],
      "id": "5a6b4863-29cd-41e3-b8e7-295ca3675722"
    },
    {
      "cell_type": "code",
      "execution_count": 13,
      "metadata": {},
      "outputs": [],
      "source": [
        "# YOUR CODE BELOW\n"
      ],
      "id": "dacb4447"
    },
    {
      "cell_type": "code",
      "execution_count": 14,
      "metadata": {},
      "outputs": [],
      "source": [
        "# Validate your solution\n",
        "# Check if variables exist in the model\n",
        "@assert haskey(lotsizeModel.obj_dict, :productBottled) \"productBottled variable not found in model\"\n",
        "@assert haskey(lotsizeModel.obj_dict, :productQuantity) \"productQuantity variable not found in model\"\n",
        "@assert haskey(lotsizeModel.obj_dict, :WarehouseStockPeriodEnd) \"WarehouseStockPeriodEnd variable not found in model\"\n",
        "\n",
        "# Check variable dimensions\n",
        "@assert length(productBottled) == length(dictBottlingTime) * length(dictAvailableTime) \"Incorrect dimensions for productBottled\"\n",
        "@assert length(productQuantity) == length(dictBottlingTime) * length(dictAvailableTime) \"Incorrect dimensions for productQuantity\"\n",
        "@assert length(WarehouseStockPeriodEnd) == length(dictBottlingTime) * length(dictAvailableTime) \"Incorrect dimensions for WarehouseStockPeriodEnd\"\n",
        "\n",
        "# Check variable types\n",
        "@assert all(is_binary, productBottled) \"productBottled must be binary variables\"\n",
        "@assert all(is_integer, productQuantity) == false \"productQuantity must be continuous variables\"\n",
        "@assert all(is_integer, WarehouseStockPeriodEnd) == false \"WarehouseStockPeriodEnd must be continuous variables\""
      ],
      "id": "d823c3da"
    },
    {
      "cell_type": "markdown",
      "metadata": {},
      "source": [
        "------------------------------------------------------------------------\n",
        "\n",
        "## Define the objective function\n",
        "\n",
        "Next, define the objective function."
      ],
      "id": "3c3be4df-bf16-4505-8575-9f6d1dcbc6e5"
    },
    {
      "cell_type": "code",
      "execution_count": 15,
      "metadata": {},
      "outputs": [],
      "source": [
        "# YOUR CODE BELOW"
      ],
      "id": "cd34f02d"
    },
    {
      "cell_type": "code",
      "execution_count": 16,
      "metadata": {},
      "outputs": [],
      "source": [
        "# Validate your solution\n",
        "# Check if the model has an objective\n",
        "@assert objective_function(lotsizeModel) !== nothing \"Model must have an objective function\"\n",
        "\n",
        "# Check if it's a minimization problem\n",
        "@assert objective_sense(lotsizeModel) == MOI.MIN_SENSE \"Objective should be minimization\"\n",
        "\n",
        "# Check if the objective function contains both cost components\n",
        "obj_expr = objective_function(lotsizeModel)\n",
        "@assert contains(string(obj_expr), \"productBottled\") \"Objective must include setup costs (productBottled)\"\n",
        "@assert contains(string(obj_expr), \"WarehouseStockPeriodEnd\") \"Objective must include warehouse costs (WarehouseStockPeriodEnd)\""
      ],
      "id": "9ccc8536"
    },
    {
      "cell_type": "markdown",
      "metadata": {},
      "source": [
        "------------------------------------------------------------------------\n",
        "\n",
        "## Define the constraints\n",
        "\n",
        "Now, we need to define all necessary constraints for the model. Start\n",
        "with the demand/inventory balance constraint.\n",
        "\n",
        "> **Tip**\n",
        ">\n",
        "> The first period is special, as it does not have a previous period.\n",
        "> Furthermore, we are working with strings as variable references, thus\n",
        "> we cannot use `t-1` directly as in the lecture. To address this, we\n",
        "> could collect and sort all keys and then use their indices to address\n",
        "> the previous period. For example, `all_periods[t-1]` would then be the\n",
        "> previous period, if we index t just as a range from\n",
        "> `2:length(all_periods)`."
      ],
      "id": "c67c4c24-416d-47ff-9967-65839e8d1845"
    },
    {
      "cell_type": "code",
      "execution_count": 17,
      "metadata": {},
      "outputs": [],
      "source": [
        "# Get the first period and all periods\n",
        "first_period = first(sort(collect(keys(dictAvailableTime))))\n",
        "all_periods = sort(collect(keys(dictAvailableTime)))"
      ],
      "id": "fe94ecc9"
    },
    {
      "cell_type": "markdown",
      "metadata": {},
      "source": [
        "With these, we can now define the demand/inventory balance constraint.\n",
        "As this is the first constraint and might be a bit tricky, the solution\n",
        "is already given below."
      ],
      "id": "92554787-cff2-4640-804e-2501f1602120"
    },
    {
      "cell_type": "code",
      "execution_count": 18,
      "metadata": {},
      "outputs": [],
      "source": [
        "# Inventory balance constraints for periods after first period\n",
        "@constraint(lotsizeModel,\n",
        "    demandBalance[i=keys(dictBottlingTime), t=2:length(all_periods)],\n",
        "    WarehouseStockPeriodEnd[i,all_periods[t-1]] + productQuantity[i,all_periods[t]] - WarehouseStockPeriodEnd[i,all_periods[t]] == dictDemand[i,all_periods[t]]\n",
        "    )"
      ],
      "id": "eedad6bf"
    },
    {
      "cell_type": "markdown",
      "metadata": {},
      "source": [
        "Next, we need to ensure that we setup the production for a beer type\n",
        "only if we bottle the type at least once."
      ],
      "id": "b3170cde-b6fb-44e9-b65c-f3b5ad5c05b2"
    },
    {
      "cell_type": "code",
      "execution_count": 19,
      "metadata": {},
      "outputs": [],
      "source": [
        "# YOUR CODE BELOW"
      ],
      "id": "11b0571b"
    },
    {
      "cell_type": "markdown",
      "metadata": {},
      "source": [
        "Last, we need to define the constraint that limits the production\n",
        "quantity to the number of bottles that can be bottled within the\n",
        "available time."
      ],
      "id": "9fa90943-c786-4e03-bbcb-1b5a5ba483b0"
    },
    {
      "cell_type": "code",
      "execution_count": 20,
      "metadata": {},
      "outputs": [],
      "source": [
        "# YOUR CODE BELOW"
      ],
      "id": "c75f387c"
    },
    {
      "cell_type": "markdown",
      "metadata": {},
      "source": [
        "------------------------------------------------------------------------\n",
        "\n",
        "## Solve the model\n",
        "\n",
        "Finally, implement the solve statement for your model instance."
      ],
      "id": "49b4579a-1318-474c-90b1-5541b2b38e06"
    },
    {
      "cell_type": "code",
      "execution_count": 21,
      "metadata": {},
      "outputs": [],
      "source": [
        "# YOUR CODE BELOW"
      ],
      "id": "7491054f"
    },
    {
      "cell_type": "code",
      "execution_count": 22,
      "metadata": {},
      "outputs": [],
      "source": [
        "# Validate your solution\n",
        "@assert 600000 <= objective_value(lotsizeModel) <= 700000 \"Objective value should be between 600,000 and 700,000\""
      ],
      "id": "5a2e482e"
    },
    {
      "cell_type": "markdown",
      "metadata": {},
      "source": [
        "Now, unfortunately we cannot assert the value of the objective function\n",
        "perfectly here as we have to abort the computation due to the time limit\n",
        "and everybody is likely getting different results. The solution for the\n",
        "first task will likely be in the <span class=\"highlight\">range of\n",
        "600,000 to 700,000</span>. If your model is solved within seconds, your\n",
        "formulation is not correct.\n",
        "\n",
        "------------------------------------------------------------------------\n",
        "\n",
        "## Create the plots\n",
        "\n",
        "The following code creates production and warehouse plots for you. Use\n",
        "it to verify and visualize your solution in the following tasks.\n",
        "\n",
        "> **Note**\n",
        ">\n",
        "> The creation of the dataframes and the plots is implemented inside of\n",
        "> a function, as we will need to use it multiple times in the following\n",
        "> tasks."
      ],
      "id": "5c524be3-e4de-40fd-8b5c-088fb2e152d2"
    },
    {
      "cell_type": "code",
      "execution_count": 23,
      "metadata": {},
      "outputs": [],
      "source": [
        "# Create the production results\n",
        "function create_production_results()\n",
        "    # Create a DataFrame to store the results\n",
        "    productionResults = DataFrame(\n",
        "        period = String[],\n",
        "        product = String[],\n",
        "        productBottled = Bool[],\n",
        "        productQuantity=Int[],\n",
        "        WarehouseStockPeriodEnd=Int[]\n",
        "    )\n",
        "\n",
        "    # Populate the DataFrame with the results\n",
        "    for i in keys(dictSetupTime)\n",
        "        for t in keys(dictAvailableTime)\n",
        "            push!(\n",
        "                productionResults,(\n",
        "                period = t,\n",
        "                product = i,\n",
        "                productBottled = value(productBottled[i,t])>0.5 ? true : false,\n",
        "                productQuantity = ceil(Int,value(productQuantity[i,t])),\n",
        "                WarehouseStockPeriodEnd = ceil(Int,value(WarehouseStockPeriodEnd[i,t])),\n",
        "                )\n",
        "            )\n",
        "        end\n",
        "    end\n",
        "\n",
        "    sort!(productionResults,[:period, :product])\n",
        "    return productionResults\n",
        "end\n",
        "\n",
        "# Create the production plot\n",
        "function create_production_plot(productionResults)\n",
        "    p = groupedbar(\n",
        "        productionResults.period,\n",
        "        productionResults.productQuantity,\n",
        "        group=productionResults.product,\n",
        "        ylabel=\"Production Quantity (Bottles)\",\n",
        "        xlabel=\"Period\",\n",
        "        title=\"Production Schedule by Beer Type\",\n",
        "        size=(1200,600),\n",
        "        palette = :Set3,\n",
        "        legend=:outertopright,\n",
        "        xrotation = 45,\n",
        "        legendtitle=\"Beer Type\",\n",
        "        bar_width=0.7,\n",
        "        grid=false,\n",
        "        dpi=300\n",
        "    )\n",
        "    return p\n",
        "end\n",
        "\n",
        "# Create the warehouse stock plot\n",
        "function create_warehouse_plot(productionResults)\n",
        "    p = groupedbar(\n",
        "        productionResults.period,\n",
        "        productionResults.WarehouseStockPeriodEnd,\n",
        "        group=productionResults.product,\n",
        "        ylabel=\"Warehouse Stock\",\n",
        "        xlabel=\"Period\",\n",
        "        title=\"Warehouse Stock\",\n",
        "        size=(1200,600),\n",
        "        palette = :Set3,\n",
        "        legend=:outertopright,\n",
        "        xrotation = 45,\n",
        "        legendtitle=\"Beer Type\",\n",
        "        bar_width=0.7,\n",
        "        grid=false,\n",
        "        dpi=300\n",
        "    )\n",
        "    return p\n",
        "end\n"
      ],
      "id": "e2cb7ba8"
    },
    {
      "cell_type": "markdown",
      "metadata": {},
      "source": [
        "The following code creates the production plot."
      ],
      "id": "ab6cfe7e-46e1-402e-8553-884e425dcd1c"
    },
    {
      "cell_type": "code",
      "execution_count": 24,
      "metadata": {},
      "outputs": [],
      "source": [
        "productionResults = create_production_results()\n",
        "p = create_production_plot(productionResults)"
      ],
      "id": "4318fb4f"
    },
    {
      "cell_type": "markdown",
      "metadata": {},
      "source": [
        "The following code creates the warehouse stock plot."
      ],
      "id": "2c64a532-c705-4db4-9e9d-072e4ab3d7ad"
    },
    {
      "cell_type": "code",
      "execution_count": 25,
      "metadata": {},
      "outputs": [],
      "source": [
        "productionResults = create_production_results()\n",
        "p = create_warehouse_plot(productionResults)"
      ],
      "id": "774043eb"
    },
    {
      "cell_type": "markdown",
      "metadata": {},
      "source": [
        "------------------------------------------------------------------------\n",
        "\n",
        "## Calculate the setup and inventory costs\n",
        "\n",
        "Next, we calculate the setup and inventory costs for each period and\n",
        "store them in a DataFrame. This should also work for you, if you\n",
        "followed the previous name instructions."
      ],
      "id": "175312ba-63f1-4746-849b-ba4aff974820"
    },
    {
      "cell_type": "code",
      "execution_count": 26,
      "metadata": {},
      "outputs": [],
      "source": [
        "# Calculate costs per period\n",
        "function create_cost_results()\n",
        "    costResults = DataFrame(\n",
        "        period = String[],\n",
        "        setup_costs = Float64[],\n",
        "        inventory_costs = Float64[]\n",
        "    )\n",
        "\n",
        "    for t in sort(collect(keys(dictAvailableTime)))\n",
        "        # Calculate setup costs for this period\n",
        "        period_setup_costs = sum(\n",
        "            setupHourCosts * dictSetupTime[i] * value(productBottled[i,t])\n",
        "            for i in keys(dictBottlingTime)\n",
        "        )\n",
        "\n",
        "        # Calculate inventory costs for this period\n",
        "        period_inventory_costs = sum(\n",
        "            warehouseCosts * value(WarehouseStockPeriodEnd[i,t])\n",
        "            for i in keys(dictBottlingTime)\n",
        "        )\n",
        "\n",
        "        push!(costResults, (\n",
        "            period = t,\n",
        "            setup_costs = period_setup_costs,\n",
        "            inventory_costs = period_inventory_costs\n",
        "        ))\n",
        "    end\n",
        "\n",
        "    # Stack the cost columns\n",
        "    stacked_costs = stack(costResults, [:setup_costs, :inventory_costs],\n",
        "                         variable_name=\"Cost_Type\", value_name=\"Cost\")\n",
        "    return stacked_costs\n",
        "end\n",
        "\n",
        "# Create the cost plot\n",
        "function create_cost_plot(stacked_costs)\n",
        "    p = groupedbar(\n",
        "        stacked_costs.period,\n",
        "        stacked_costs.Cost,\n",
        "        group=stacked_costs.Cost_Type,\n",
        "        ylabel=\"Costs (€)\",\n",
        "        xlabel=\"Period\",\n",
        "        title=\"Setup and Inventory Costs per Period\",\n",
        "        size=(1200,600),\n",
        "        palette=:Set2,\n",
        "        legend=:outertopright,\n",
        "        xrotation=45,\n",
        "        legendtitle=\"Cost Type\",\n",
        "        bar_width=0.7,\n",
        "        grid=false,\n",
        "        dpi=300\n",
        "    )\n",
        "    return p\n",
        "end"
      ],
      "id": "df3cb7f1"
    },
    {
      "cell_type": "markdown",
      "metadata": {},
      "source": [
        "The following code calls the setup and inventory costs plot."
      ],
      "id": "535727bb-a85c-46a1-8e9f-da8fd81c8af6"
    },
    {
      "cell_type": "code",
      "execution_count": 27,
      "metadata": {},
      "outputs": [],
      "source": [
        "stacked_costs = create_cost_results()\n",
        "p = create_cost_plot(stacked_costs)"
      ],
      "id": "7f3bd2bb"
    },
    {
      "cell_type": "markdown",
      "metadata": {},
      "source": [
        "------------------------------------------------------------------------\n",
        "\n",
        "# 2. Initial Warehouse Stock\n",
        "\n",
        "The model currently sets the initial warehouse stock levels without any\n",
        "restrictions. Modify your model to incorporate an initial stock for\n",
        "**all types of beer of zero** at the beginning of the **initial planning\n",
        "period**.\n",
        "\n",
        "To solve this task, you can simply extend the previous model by these\n",
        "additional constraints in the cell below. Afterwards, you can re-run the\n",
        "optimization."
      ],
      "id": "192f850b-2b15-493d-a1c9-837f0e2e6df7"
    },
    {
      "cell_type": "code",
      "execution_count": 28,
      "metadata": {},
      "outputs": [],
      "source": [
        "# YOUR CODE BELOW"
      ],
      "id": "7c20b194"
    },
    {
      "cell_type": "code",
      "execution_count": 29,
      "metadata": {},
      "outputs": [],
      "source": [
        "# Validate your solution\n",
        "@assert 700000 <= objective_value(lotsizeModel) <= 760000 \"Objective value should be between 700,000 and 760,000\""
      ],
      "id": "199057a7"
    },
    {
      "cell_type": "markdown",
      "metadata": {},
      "source": [
        "The objective value should now be higher, as the solution space is\n",
        "smaller than before and the initial stock is zero for all beer types.\n",
        "You can check the plots for the production and warehouse stock to verify\n",
        "this."
      ],
      "id": "1d1b647f-0dd1-445c-a6d9-c63bf08d7cba"
    },
    {
      "cell_type": "code",
      "execution_count": 30,
      "metadata": {},
      "outputs": [],
      "source": [
        "productionResults = create_production_results()\n",
        "p = create_production_plot(productionResults)"
      ],
      "id": "16a38109"
    },
    {
      "cell_type": "code",
      "execution_count": 31,
      "metadata": {},
      "outputs": [],
      "source": [
        "productionResults = create_production_results()\n",
        "p = create_warehouse_plot(productionResults)"
      ],
      "id": "6305f5d0"
    },
    {
      "cell_type": "code",
      "execution_count": 32,
      "metadata": {},
      "outputs": [],
      "source": [
        "stacked_costs = create_cost_results()\n",
        "p = create_cost_plot(stacked_costs)"
      ],
      "id": "4ff27cf6"
    },
    {
      "cell_type": "markdown",
      "metadata": {},
      "source": [
        "------------------------------------------------------------------------\n",
        "\n",
        "# 3. Scheduled Repair\n",
        "\n",
        "Unfortunately, the bottling plant has to undergo maintenance in periods\n",
        "`\"week_10\"` and `\"week_11\"`. **Extend your model** to prevent any\n",
        "production in those two periods.\n",
        "\n",
        "Again, to solve this task, you can simply extend the previous model by\n",
        "these additional constraints in the cell below. Afterwards, you can\n",
        "re-run the optimization."
      ],
      "id": "b4ef250f-f43c-4036-98c5-8d9281f8af47"
    },
    {
      "cell_type": "code",
      "execution_count": 33,
      "metadata": {},
      "outputs": [],
      "source": [
        "# YOUR CODE BELOW\n"
      ],
      "id": "a18a6b89"
    },
    {
      "cell_type": "code",
      "execution_count": 34,
      "metadata": {},
      "outputs": [],
      "source": [
        "# Validate your solution\n",
        "@assert 760000 <= objective_value(lotsizeModel) <= 800000 \"Objective value should be between 760,000 and 800,000\""
      ],
      "id": "f1e86bf5"
    },
    {
      "cell_type": "markdown",
      "metadata": {},
      "source": [
        "Again, the objective value should be higher, because the solution space\n",
        "is smaller. You can check the plots for the production and warehouse\n",
        "stock to verify whether the production is zero in the maintenance\n",
        "periods."
      ],
      "id": "41cea360-fa9b-4dd0-af9b-6fd744c31563"
    },
    {
      "cell_type": "code",
      "execution_count": 35,
      "metadata": {},
      "outputs": [],
      "source": [
        "productionResults = create_production_results()\n",
        "p = create_production_plot(productionResults)"
      ],
      "id": "0e96f84c"
    },
    {
      "cell_type": "code",
      "execution_count": 36,
      "metadata": {},
      "outputs": [],
      "source": [
        "productionResults = create_production_results()\n",
        "p = create_warehouse_plot(productionResults)"
      ],
      "id": "ccdd9d15"
    },
    {
      "cell_type": "code",
      "execution_count": 37,
      "metadata": {},
      "outputs": [],
      "source": [
        "stacked_costs = create_cost_results()\n",
        "p = create_cost_plot(stacked_costs)"
      ],
      "id": "10ef539e"
    },
    {
      "cell_type": "markdown",
      "metadata": {},
      "source": [
        "------------------------------------------------------------------------\n",
        "\n",
        "# 4. Production Schedule Analysis\n",
        "\n",
        "Analyze the production schedule outlined in section 2 of this tutorial.\n",
        "Is the workload **distributed evenly** across all time periods? Provide\n",
        "a rationale for your assessment.\n",
        "\n",
        "Please answer in the following cell. Note, that `#=` and `=#` are a\n",
        "comment delimiter for multiline comments. You can write whatever you\n",
        "want between them and the code will not be executed."
      ],
      "id": "43ce811c-b052-4448-9b3e-de1946ee2498"
    },
    {
      "cell_type": "code",
      "execution_count": 38,
      "metadata": {},
      "outputs": [],
      "source": [
        "# YOUR REASONING BELOW\n",
        "#=\n",
        "\n",
        "\n",
        "\n",
        "=#"
      ],
      "id": "b3b05989"
    },
    {
      "cell_type": "markdown",
      "metadata": {},
      "source": [
        "Based on the production data from the final period, **calculate the\n",
        "ending inventory levels for each type of beer**. Discuss any significant\n",
        "findings. Compute the ending inventory levels for each type of beer in\n",
        "the following cell. You can name the DataFrame however you want."
      ],
      "id": "1c5fcfb8-3940-403e-8974-006ee1f3138b"
    },
    {
      "cell_type": "code",
      "execution_count": 39,
      "metadata": {},
      "outputs": [],
      "source": [
        "# YOUR CODE BELOW"
      ],
      "id": "f291a4e5"
    },
    {
      "cell_type": "markdown",
      "metadata": {},
      "source": [
        "------------------------------------------------------------------------\n",
        "\n",
        "# 5. Biannual Bottling Strategy\n",
        "\n",
        "Reflecting on a scenario where the company schedules its bottling\n",
        "operations **biannually** using the current method: identify and discuss\n",
        "potential pitfalls of this strategy.\n",
        "\n",
        "Offer at least one actionable suggestion for enhancing the efficiency or\n",
        "effectiveness of the production planning process.\n",
        "\n",
        "Your answer goes here."
      ],
      "id": "f7dad4a9-fa81-472e-96ed-6c07ff92c37e"
    },
    {
      "cell_type": "code",
      "execution_count": 40,
      "metadata": {},
      "outputs": [],
      "source": [
        "# YOUR ANSWER BELOW\n",
        "#=\n",
        "\n",
        "\n",
        "\n",
        "=#"
      ],
      "id": "8add0c5e"
    },
    {
      "cell_type": "markdown",
      "metadata": {},
      "source": [
        "------------------------------------------------------------------------\n",
        "\n",
        "# Solutions\n",
        "\n",
        "You will likely find solutions to most exercises online. However, I\n",
        "strongly encourage you to work on these exercises independently without\n",
        "searching explicitly for the exact answers to the exercises.\n",
        "Understanding someone else’s solution is very different from developing\n",
        "your own. Use the lecture notes and try to solve the exercises on your\n",
        "own. This approach will significantly enhance your learning and\n",
        "problem-solving skills.\n",
        "\n",
        "Remember, the goal is not just to complete the exercises, but to\n",
        "understand the concepts and improve your programming abilities. If you\n",
        "encounter difficulties, review the lecture materials, experiment with\n",
        "different approaches, and don’t hesitate to ask for clarification during\n",
        "class discussions.\n",
        "\n",
        "Later, you will find the solutions to these exercises online in the\n",
        "associated GitHub repository, but we will also quickly go over them in\n",
        "next week’s tutorial. To access the solutions, click on the Github\n",
        "button on the lower right and search for the folder with today’s lecture\n",
        "and tutorial. Alternatively, you can ask ChatGPT or Claude to explain\n",
        "them to you. But please remember, the goal is not just to complete the\n",
        "exercises, but to understand the concepts and improve your programming\n",
        "abilities."
      ],
      "id": "0344362e-6b31-49a8-ae18-96be32027106"
    }
  ],
  "nbformat": 4,
  "nbformat_minor": 5,
  "metadata": {
    "kernelspec": {
      "name": "julia-1.11",
      "display_name": "Julia 1.11.6",
      "language": "julia",
      "path": "/Users/vlcek/Library/Jupyter/kernels/julia-1.11"
    },
    "language_info": {
      "name": "julia",
      "file_extension": ".jl",
      "mimetype": "application/julia",
      "version": "1.11.6"
    }
  }
}