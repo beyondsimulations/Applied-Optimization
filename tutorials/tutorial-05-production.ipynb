{
  "cells": [
    {
      "cell_type": "markdown",
      "metadata": {},
      "source": [
        "# Tutorial V - Production Planning in Breweries\n",
        "\n",
        "Applied Optimization with Julia\n",
        "\n",
        "# 1. Modelling the CLSP\n",
        "\n",
        "## Load the necessary packages and data\n",
        "\n",
        "Implement the CLSP from the lecture in Julia. Before we start, let’s\n",
        "load the necessary packages and data."
      ],
      "id": "c909dd04-93ec-4d3d-ac58-775feb076bb1"
    },
    {
      "cell_type": "code",
      "execution_count": 3,
      "metadata": {},
      "outputs": [],
      "source": [
        "using JuMP, HiGHS\n",
        "using CSV\n",
        "using DelimitedFiles\n",
        "using DataFrames\n",
        "using Plots\n",
        "using StatsPlots\n",
        "import Pkg; Pkg.add(\"PlotlyBase\")\n",
        "plotly() # This will create interactive plots later on"
      ],
      "id": "5006ec82"
    },
    {
      "cell_type": "markdown",
      "metadata": {},
      "source": [
        "> **Tip**\n",
        ">\n",
        "> If you haven’t installed the packages yet, you can do so by running\n",
        "> `using Pkg` first and then `Pkg.add(\"JuMP\")`, `Pkg.add(\"HiGHS\")`,\n",
        "> `Pkg.add(\"DataFrames\")`, `Pkg.add(\"Plots\")`, and\n",
        "> `Pkg.add(\"StatsPlots\")`.\n",
        "\n",
        "------------------------------------------------------------------------\n",
        "\n",
        "## Load the data\n",
        "\n",
        "Now, let’s load the data. The weekly demand in bottles $d_{i,t}$, the\n",
        "available time at the bottling plant in hours $a_t$, the time required\n",
        "to bottle each beer in hours $b_i$, and the setup time in hours $g_i$\n",
        "are provided as CSV files."
      ],
      "id": "a0bd7ea5-47fb-4888-89e1-7e4a8e1c7117"
    },
    {
      "cell_type": "code",
      "execution_count": 4,
      "metadata": {},
      "outputs": [],
      "source": [
        "# Get the directory of the current file\n",
        "file_directory = \"$(@__DIR__)/data\"\n",
        "\n",
        "# Load the data about the available time at the bottling plant\n",
        "availableTime = CSV.read(\"$file_directory/availabletime.csv\", DataFrame)\n",
        "println(\"Number of periods: $(nrow(availableTime))\")\n",
        "println(\"First 5 rows of available time per period:\")\n",
        "println(availableTime[1:5, :])"
      ],
      "id": "64e2530f"
    },
    {
      "cell_type": "code",
      "execution_count": 5,
      "metadata": {},
      "outputs": [],
      "source": [
        "# Load the data about the bottling time for each beer\n",
        "bottlingTime = CSV.read(\"$file_directory/bottlingtime.csv\", DataFrame)\n",
        "println(\"Number of beers: $(nrow(bottlingTime))\")\n",
        "println(\"Bottling time per beer:\")\n",
        "println(bottlingTime)"
      ],
      "id": "9e3382cf"
    },
    {
      "cell_type": "code",
      "execution_count": 6,
      "metadata": {},
      "outputs": [],
      "source": [
        "# Load the data about the setup time for each beer\n",
        "setupTime = CSV.read(\"$file_directory/setuptime.csv\", DataFrame)\n",
        "println(\"Setup time per beer:\")\n",
        "println(setupTime)"
      ],
      "id": "b3bd7303"
    },
    {
      "cell_type": "code",
      "execution_count": 7,
      "metadata": {},
      "outputs": [],
      "source": [
        "# Load the data about the weekly demand for each beer\n",
        "demandCustomers = CSV.read(\"$file_directory/demand.csv\", DataFrame)\n",
        "println(\"First 5 rows of demand per beer:\")\n",
        "println(demandCustomers[1:5, :])"
      ],
      "id": "dc587c45"
    },
    {
      "cell_type": "markdown",
      "metadata": {},
      "source": [
        "------------------------------------------------------------------------\n",
        "\n",
        "## Define the parameters\n",
        "\n",
        "Consider in your implementation, that **each hour of setup** is\n",
        "associated with a cost of 1000 Euros, and the inventory holding cost for\n",
        "unsold bottles at the end of each period is 0.1 Euro per bottle.\n",
        "Implement **both parameters** for the cost of setup and the inventory\n",
        "holding cost in the model. Call them `setupHourCosts` and\n",
        "`warehouseCosts`."
      ],
      "id": "b7374ee4-7d50-4f15-815f-68872fd1e030"
    },
    {
      "cell_type": "code",
      "execution_count": 8,
      "metadata": {},
      "outputs": [],
      "source": [
        "# YOUR CODE BELOW"
      ],
      "id": "2e37c692"
    },
    {
      "cell_type": "markdown",
      "metadata": {},
      "source": [
        "Next, you need to prepare the given data for the model. Create a\n",
        "dictionary for the available time, bottling time, and setup time. Call\n",
        "them `dictAvailableTime`, `dictBottlingTime`, and `dictSetupTime`."
      ],
      "id": "06eae3a5-2377-41be-b9dc-90cfbf8899a7"
    },
    {
      "cell_type": "code",
      "execution_count": 10,
      "metadata": {},
      "outputs": [],
      "source": [
        "# Prepare the data for the model\n",
        "dictDemand = Dict((row.beer_type,row.period) => row.demand for row in eachrow(demandCustomers))\n",
        "\n",
        "# YOUR CODE BELOW\n"
      ],
      "id": "2ac04c96"
    },
    {
      "cell_type": "code",
      "execution_count": 11,
      "metadata": {},
      "outputs": [],
      "source": [
        "# Validate your solution\n",
        "@assert length(dictAvailableTime) == nrow(availableTime) \"Available time dictionary should have same length as input data\"\n",
        "@assert length(dictBottlingTime) == nrow(bottlingTime) \"Bottling time dictionary should have same length as input data\"\n",
        "@assert length(dictSetupTime) == nrow(setupTime) \"Setup time dictionary should have same length as input data\"\n",
        "\n",
        "# Check that all values are positive\n",
        "@assert all(v -> v > 0, values(dictAvailableTime)) \"All available time values must be positive\"\n",
        "@assert all(v -> v > 0, values(dictBottlingTime)) \"All bottling time values must be positive\"\n",
        "@assert all(v -> v > 0, values(dictSetupTime)) \"All setup time values must be positive\"\n",
        "\n",
        "# Check that dictionaries contain all expected keys\n",
        "@assert all(p -> haskey(dictAvailableTime, p), availableTime.period) \"Missing periods in available time dictionary\"\n",
        "@assert all(b -> haskey(dictBottlingTime, b), bottlingTime.beer_type) \"Missing beer types in bottling time dictionary\"\n",
        "@assert all(b -> haskey(dictSetupTime, b), setupTime.beer_type) \"Missing beer types in setup time dictionary\""
      ],
      "id": "e45fb3df"
    },
    {
      "cell_type": "markdown",
      "metadata": {},
      "source": [
        "------------------------------------------------------------------------\n",
        "\n",
        "## Define the model instance\n",
        "\n",
        "Next, we define the model instance for the CLSP."
      ],
      "id": "dd7fe87a-4545-49ec-abf4-cd835d42c66f"
    },
    {
      "cell_type": "code",
      "execution_count": 12,
      "metadata": {},
      "outputs": [],
      "source": [
        "# Prepare the model instance\n",
        "lotsizeModel = Model(HiGHS.Optimizer)\n",
        "set_attribute(lotsizeModel, \"presolve\", \"on\")\n",
        "set_time_limit_sec(lotsizeModel, 60.0)"
      ],
      "id": "b113a361"
    },
    {
      "cell_type": "markdown",
      "metadata": {},
      "source": [
        "------------------------------------------------------------------------\n",
        "\n",
        "## Define the variables\n",
        "\n",
        "Now, create your variables. Please name them `productBottled` for the\n",
        "binary variable, `productQuantity` for the production quantity and\n",
        "`WarehouseStockPeriodEnd` for the warehouse stock at the end of each\n",
        "period. We will use these names later in the code to plot the results."
      ],
      "id": "c41ffc75-42f5-480c-bba4-04f8c6dc489c"
    },
    {
      "cell_type": "code",
      "execution_count": 13,
      "metadata": {},
      "outputs": [],
      "source": [
        "# YOUR CODE BELOW\n"
      ],
      "id": "65266eb9"
    },
    {
      "cell_type": "code",
      "execution_count": 14,
      "metadata": {},
      "outputs": [],
      "source": [
        "# Validate your solution\n",
        "# Check if variables exist in the model\n",
        "@assert haskey(lotsizeModel.obj_dict, :productBottled) \"productBottled variable not found in model\"\n",
        "@assert haskey(lotsizeModel.obj_dict, :productQuantity) \"productQuantity variable not found in model\"\n",
        "@assert haskey(lotsizeModel.obj_dict, :WarehouseStockPeriodEnd) \"WarehouseStockPeriodEnd variable not found in model\"\n",
        "\n",
        "# Check variable dimensions\n",
        "@assert length(productBottled) == length(dictBottlingTime) * length(dictAvailableTime) \"Incorrect dimensions for productBottled\"\n",
        "@assert length(productQuantity) == length(dictBottlingTime) * length(dictAvailableTime) \"Incorrect dimensions for productQuantity\"\n",
        "@assert length(WarehouseStockPeriodEnd) == length(dictBottlingTime) * length(dictAvailableTime) \"Incorrect dimensions for WarehouseStockPeriodEnd\"\n",
        "\n",
        "# Check variable types\n",
        "@assert all(is_binary, productBottled) \"productBottled must be binary variables\"\n",
        "@assert all(is_integer, productQuantity) == false \"productQuantity must be continuous variables\"\n",
        "@assert all(is_integer, WarehouseStockPeriodEnd) == false \"WarehouseStockPeriodEnd must be continuous variables\""
      ],
      "id": "4fb360e9"
    },
    {
      "cell_type": "markdown",
      "metadata": {},
      "source": [
        "------------------------------------------------------------------------\n",
        "\n",
        "## Define the objective function\n",
        "\n",
        "Next, define the objective function."
      ],
      "id": "1e5cfc1f-bad4-4ea8-ac4c-2af5c50adf6d"
    },
    {
      "cell_type": "code",
      "execution_count": 15,
      "metadata": {},
      "outputs": [],
      "source": [
        "# YOUR CODE BELOW"
      ],
      "id": "c95b86d7"
    },
    {
      "cell_type": "code",
      "execution_count": 16,
      "metadata": {},
      "outputs": [],
      "source": [
        "# Validate your solution\n",
        "# Check if the model has an objective\n",
        "@assert objective_function(lotsizeModel) !== nothing \"Model must have an objective function\"\n",
        "\n",
        "# Check if it's a minimization problem\n",
        "@assert objective_sense(lotsizeModel) == MOI.MIN_SENSE \"Objective should be minimization\"\n",
        "\n",
        "# Check if the objective function contains both cost components\n",
        "obj_expr = objective_function(lotsizeModel)\n",
        "@assert contains(string(obj_expr), \"productBottled\") \"Objective must include setup costs (productBottled)\"\n",
        "@assert contains(string(obj_expr), \"WarehouseStockPeriodEnd\") \"Objective must include warehouse costs (WarehouseStockPeriodEnd)\""
      ],
      "id": "457cefa1"
    },
    {
      "cell_type": "markdown",
      "metadata": {},
      "source": [
        "------------------------------------------------------------------------\n",
        "\n",
        "## Define the constraints\n",
        "\n",
        "Now, we need to define all necessary constraints for the model. Start\n",
        "with the demand/inventory balance constraint.\n",
        "\n",
        "> **Tip**\n",
        ">\n",
        "> The first period is special, as it does not have a previous period.\n",
        "> Furthermore, we are working with strings as variable references, thus\n",
        "> we cannot use `t-1` directly as in the lecture. To address this, we\n",
        "> could collect and sort all keys and then use their indices to address\n",
        "> the previous period. For example, `all_periods[t-1]` would then be the\n",
        "> previous period, if we index t just as a range from\n",
        "> `2:length(all_periods)`."
      ],
      "id": "714055d2-a428-48c8-9d28-3f0c806e5e39"
    },
    {
      "cell_type": "code",
      "execution_count": 17,
      "metadata": {},
      "outputs": [],
      "source": [
        "# Get the first period and all periods\n",
        "first_period = first(sort(collect(keys(dictAvailableTime))))\n",
        "all_periods = sort(collect(keys(dictAvailableTime)))"
      ],
      "id": "3a93e543"
    },
    {
      "cell_type": "markdown",
      "metadata": {},
      "source": [
        "With these, we can now define the demand/inventory balance constraint.\n",
        "As this is the first constraint and might be a bit tricky, the solution\n",
        "is already given below."
      ],
      "id": "f76c545a-686e-48f4-af20-de434119811e"
    },
    {
      "cell_type": "code",
      "execution_count": 18,
      "metadata": {},
      "outputs": [],
      "source": [
        "# Inventory balance constraints for periods after first period\n",
        "@constraint(lotsizeModel,\n",
        "    demandBalance[i=keys(dictBottlingTime), t=2:length(all_periods)],\n",
        "    WarehouseStockPeriodEnd[i,all_periods[t-1]] + productQuantity[i,all_periods[t]] - WarehouseStockPeriodEnd[i,all_periods[t]] == dictDemand[i,all_periods[t]]\n",
        "    )"
      ],
      "id": "c1119b80"
    },
    {
      "cell_type": "markdown",
      "metadata": {},
      "source": [
        "Next, we need to ensure that we setup the production for a beer type\n",
        "only if we bottle the type at least once."
      ],
      "id": "5940d63f-9eeb-4468-b58f-c37e1c790f6b"
    },
    {
      "cell_type": "code",
      "execution_count": 19,
      "metadata": {},
      "outputs": [],
      "source": [
        "# YOUR CODE BELOW"
      ],
      "id": "717d4d54"
    },
    {
      "cell_type": "markdown",
      "metadata": {},
      "source": [
        "Last, we need to define the constraint that limits the production\n",
        "quantity to the number of bottles that can be bottled within the\n",
        "available time."
      ],
      "id": "c52a909f-943c-432b-8d5d-7911de48d823"
    },
    {
      "cell_type": "code",
      "execution_count": 20,
      "metadata": {},
      "outputs": [],
      "source": [
        "# YOUR CODE BELOW"
      ],
      "id": "ace12aeb"
    },
    {
      "cell_type": "markdown",
      "metadata": {},
      "source": [
        "------------------------------------------------------------------------\n",
        "\n",
        "## Solve the model\n",
        "\n",
        "Finally, implement the solve statement for your model instance."
      ],
      "id": "cde4f12e-dbf8-4659-879e-c3b7f057a180"
    },
    {
      "cell_type": "code",
      "execution_count": 21,
      "metadata": {},
      "outputs": [],
      "source": [
        "# YOUR CODE BELOW"
      ],
      "id": "97dc019c"
    },
    {
      "cell_type": "code",
      "execution_count": 22,
      "metadata": {},
      "outputs": [],
      "source": [
        "# Validate your solution\n",
        "@assert 600000 <= objective_value(lotsizeModel) <= 700000 \"Objective value should be between 600,000 and 700,000\""
      ],
      "id": "fee700e3"
    },
    {
      "cell_type": "markdown",
      "metadata": {},
      "source": [
        "Now, unfortunately we cannot assert the value of the objective function\n",
        "perfectly here as we have to abort the computation due to the time limit\n",
        "and everybody is likely getting different results. The solution for the\n",
        "first task will likely be in the <span class=\"highlight\">range of\n",
        "600,000 to 700,000</span>. If your model is solved within seconds, your\n",
        "formulation is not correct.\n",
        "\n",
        "------------------------------------------------------------------------\n",
        "\n",
        "## Create the plots\n",
        "\n",
        "The following code creates production and warehouse plots for you. Use\n",
        "it to verify and visualize your solution in the following tasks.\n",
        "\n",
        "> **Note**\n",
        ">\n",
        "> The creation of the dataframes and the plots is implemented inside of\n",
        "> a function, as we will need to use it multiple times in the following\n",
        "> tasks."
      ],
      "id": "35c85c94-5884-4a8b-be1c-d5d055e7cf2d"
    },
    {
      "cell_type": "code",
      "execution_count": 23,
      "metadata": {},
      "outputs": [],
      "source": [
        "# Create the production results\n",
        "function create_production_results()\n",
        "    # Create a DataFrame to store the results\n",
        "    productionResults = DataFrame(\n",
        "        period = String[],\n",
        "        product = String[],\n",
        "        productBottled = Bool[],\n",
        "        productQuantity=Int[],\n",
        "        WarehouseStockPeriodEnd=Int[]\n",
        "    )\n",
        "\n",
        "    # Populate the DataFrame with the results\n",
        "    for i in keys(dictSetupTime)\n",
        "        for t in keys(dictAvailableTime)\n",
        "            push!(\n",
        "                productionResults,(\n",
        "                period = t,\n",
        "                product = i,\n",
        "                productBottled = value(productBottled[i,t])>0.5 ? true : false,\n",
        "                productQuantity = ceil(Int,value(productQuantity[i,t])),\n",
        "                WarehouseStockPeriodEnd = ceil(Int,value(WarehouseStockPeriodEnd[i,t])),\n",
        "                )\n",
        "            )\n",
        "        end\n",
        "    end\n",
        "\n",
        "    sort!(productionResults,[:period, :product])\n",
        "    return productionResults\n",
        "end\n",
        "\n",
        "# Create the production plot\n",
        "function create_production_plot(productionResults)\n",
        "    p = groupedbar(\n",
        "        productionResults.period,\n",
        "        productionResults.productQuantity,\n",
        "        group=productionResults.product,\n",
        "        ylabel=\"Production Quantity (Bottles)\",\n",
        "        xlabel=\"Period\",\n",
        "        title=\"Production Schedule by Beer Type\",\n",
        "        size=(1200,600),\n",
        "        palette = :Set3,\n",
        "        legend=:outertopright,\n",
        "        xrotation = 45,\n",
        "        legendtitle=\"Beer Type\",\n",
        "        bar_width=0.7,\n",
        "        grid=false,\n",
        "        dpi=300\n",
        "    )\n",
        "    return p\n",
        "end\n",
        "\n",
        "# Create the warehouse stock plot\n",
        "function create_warehouse_plot(productionResults)\n",
        "    p = groupedbar(\n",
        "        productionResults.period,\n",
        "        productionResults.WarehouseStockPeriodEnd,\n",
        "        group=productionResults.product,\n",
        "        ylabel=\"Warehouse Stock\",\n",
        "        xlabel=\"Period\",\n",
        "        title=\"Warehouse Stock\",\n",
        "        size=(1200,600),\n",
        "        palette = :Set3,\n",
        "        legend=:outertopright,\n",
        "        xrotation = 45,\n",
        "        legendtitle=\"Beer Type\",\n",
        "        bar_width=0.7,\n",
        "        grid=false,\n",
        "        dpi=300\n",
        "    )\n",
        "    return p\n",
        "end\n"
      ],
      "id": "ca18fd2c"
    },
    {
      "cell_type": "markdown",
      "metadata": {},
      "source": [
        "The following code creates the production plot."
      ],
      "id": "d85011cf-e400-4606-812b-c0a02c195dcf"
    },
    {
      "cell_type": "code",
      "execution_count": 24,
      "metadata": {},
      "outputs": [],
      "source": [
        "productionResults = create_production_results()\n",
        "p = create_production_plot(productionResults)"
      ],
      "id": "e1f1d149"
    },
    {
      "cell_type": "markdown",
      "metadata": {},
      "source": [
        "The following code creates the warehouse stock plot."
      ],
      "id": "ebb9b98d-6140-48c7-8238-ab9206ac4747"
    },
    {
      "cell_type": "code",
      "execution_count": 25,
      "metadata": {},
      "outputs": [],
      "source": [
        "productionResults = create_production_results()\n",
        "p = create_warehouse_plot(productionResults)"
      ],
      "id": "50d0d505"
    },
    {
      "cell_type": "markdown",
      "metadata": {},
      "source": [
        "------------------------------------------------------------------------\n",
        "\n",
        "## Calculate the setup and inventory costs\n",
        "\n",
        "Next, we calculate the setup and inventory costs for each period and\n",
        "store them in a DataFrame. This should also work for you, if you\n",
        "followed the previous name instructions."
      ],
      "id": "6426cff0-26ef-4781-8275-821c7df2875a"
    },
    {
      "cell_type": "code",
      "execution_count": 26,
      "metadata": {},
      "outputs": [],
      "source": [
        "# Calculate costs per period\n",
        "function create_cost_results()\n",
        "    costResults = DataFrame(\n",
        "        period = String[],\n",
        "        setup_costs = Float64[],\n",
        "        inventory_costs = Float64[]\n",
        "    )\n",
        "\n",
        "    for t in sort(collect(keys(dictAvailableTime)))\n",
        "        # Calculate setup costs for this period\n",
        "        period_setup_costs = sum(\n",
        "            setupHourCosts * dictSetupTime[i] * value(productBottled[i,t])\n",
        "            for i in keys(dictBottlingTime)\n",
        "        )\n",
        "\n",
        "        # Calculate inventory costs for this period\n",
        "        period_inventory_costs = sum(\n",
        "            warehouseCosts * value(WarehouseStockPeriodEnd[i,t])\n",
        "            for i in keys(dictBottlingTime)\n",
        "        )\n",
        "\n",
        "        push!(costResults, (\n",
        "            period = t,\n",
        "            setup_costs = period_setup_costs,\n",
        "            inventory_costs = period_inventory_costs\n",
        "        ))\n",
        "    end\n",
        "\n",
        "    # Stack the cost columns\n",
        "    stacked_costs = stack(costResults, [:setup_costs, :inventory_costs],\n",
        "                         variable_name=\"Cost_Type\", value_name=\"Cost\")\n",
        "    return stacked_costs\n",
        "end\n",
        "\n",
        "# Create the cost plot\n",
        "function create_cost_plot(stacked_costs)\n",
        "    p = groupedbar(\n",
        "        stacked_costs.period,\n",
        "        stacked_costs.Cost,\n",
        "        group=stacked_costs.Cost_Type,\n",
        "        ylabel=\"Costs (€)\",\n",
        "        xlabel=\"Period\",\n",
        "        title=\"Setup and Inventory Costs per Period\",\n",
        "        size=(1200,600),\n",
        "        palette=:Set2,\n",
        "        legend=:outertopright,\n",
        "        xrotation=45,\n",
        "        legendtitle=\"Cost Type\",\n",
        "        bar_width=0.7,\n",
        "        grid=false,\n",
        "        dpi=300\n",
        "    )\n",
        "    return p\n",
        "end"
      ],
      "id": "39259009"
    },
    {
      "cell_type": "markdown",
      "metadata": {},
      "source": [
        "The following code calls the setup and inventory costs plot."
      ],
      "id": "1cbecd26-4d5f-4a4c-9e9e-b1040e51e194"
    },
    {
      "cell_type": "code",
      "execution_count": 27,
      "metadata": {},
      "outputs": [],
      "source": [
        "stacked_costs = create_cost_results()\n",
        "p = create_cost_plot(stacked_costs)"
      ],
      "id": "d9f3bd5d"
    },
    {
      "cell_type": "markdown",
      "metadata": {},
      "source": [
        "------------------------------------------------------------------------\n",
        "\n",
        "# 2. Initial Warehouse Stock\n",
        "\n",
        "The model currently sets the initial warehouse stock levels without any\n",
        "restrictions. Modify your model to incorporate an initial stock for\n",
        "**all types of beer of zero** at the beginning of the **initial planning\n",
        "period**.\n",
        "\n",
        "To solve this task, you can simply extend the previous model by these\n",
        "additional constraints in the cell below. Afterwards, you can re-run the\n",
        "optimization."
      ],
      "id": "144748b2-7007-4f26-a07d-6d7e06288426"
    },
    {
      "cell_type": "code",
      "execution_count": 28,
      "metadata": {},
      "outputs": [],
      "source": [
        "# YOUR CODE BELOW"
      ],
      "id": "ff8cc8cd"
    },
    {
      "cell_type": "code",
      "execution_count": 29,
      "metadata": {},
      "outputs": [],
      "source": [
        "# Validate your solution\n",
        "@assert 700000 <= objective_value(lotsizeModel) <= 760000 \"Objective value should be between 700,000 and 760,000\""
      ],
      "id": "c55a8306"
    },
    {
      "cell_type": "markdown",
      "metadata": {},
      "source": [
        "The objective value should now be higher, as the solution space is\n",
        "smaller than before and the initial stock is zero for all beer types.\n",
        "You can check the plots for the production and warehouse stock to verify\n",
        "this."
      ],
      "id": "1b9e8692-4b05-4ded-9198-8eff080f0e59"
    },
    {
      "cell_type": "code",
      "execution_count": 30,
      "metadata": {},
      "outputs": [],
      "source": [
        "productionResults = create_production_results()\n",
        "p = create_production_plot(productionResults)"
      ],
      "id": "3a32c9a5"
    },
    {
      "cell_type": "code",
      "execution_count": 31,
      "metadata": {},
      "outputs": [],
      "source": [
        "productionResults = create_production_results()\n",
        "p = create_warehouse_plot(productionResults)"
      ],
      "id": "0e2c0901"
    },
    {
      "cell_type": "code",
      "execution_count": 32,
      "metadata": {},
      "outputs": [],
      "source": [
        "stacked_costs = create_cost_results()\n",
        "p = create_cost_plot(stacked_costs)"
      ],
      "id": "91ac163c"
    },
    {
      "cell_type": "markdown",
      "metadata": {},
      "source": [
        "------------------------------------------------------------------------\n",
        "\n",
        "# 3. Scheduled Repair\n",
        "\n",
        "Unfortunately, the bottling plant has to undergo maintenance in periods\n",
        "`\"week_10\"` and `\"week_11\"`. **Extend your model** to prevent any\n",
        "production in those two periods.\n",
        "\n",
        "Again, to solve this task, you can simply extend the previous model by\n",
        "these additional constraints in the cell below. Afterwards, you can\n",
        "re-run the optimization."
      ],
      "id": "e699e791-0758-4e67-a017-58dcee9e535b"
    },
    {
      "cell_type": "code",
      "execution_count": 33,
      "metadata": {},
      "outputs": [],
      "source": [
        "# YOUR CODE BELOW\n"
      ],
      "id": "d622db65"
    },
    {
      "cell_type": "code",
      "execution_count": 34,
      "metadata": {},
      "outputs": [],
      "source": [
        "# Validate your solution\n",
        "@assert 760000 <= objective_value(lotsizeModel) <= 800000 \"Objective value should be between 760,000 and 800,000\""
      ],
      "id": "2cd97a74"
    },
    {
      "cell_type": "markdown",
      "metadata": {},
      "source": [
        "Again, the objective value should be higher, because the solution space\n",
        "is smaller. You can check the plots for the production and warehouse\n",
        "stock to verify whether the production is zero in the maintenance\n",
        "periods."
      ],
      "id": "2a8377b9-2075-4a5d-8039-39c1ea0eaebc"
    },
    {
      "cell_type": "code",
      "execution_count": 35,
      "metadata": {},
      "outputs": [],
      "source": [
        "productionResults = create_production_results()\n",
        "p = create_production_plot(productionResults)"
      ],
      "id": "89246cde"
    },
    {
      "cell_type": "code",
      "execution_count": 36,
      "metadata": {},
      "outputs": [],
      "source": [
        "productionResults = create_production_results()\n",
        "p = create_warehouse_plot(productionResults)"
      ],
      "id": "7537c0ca"
    },
    {
      "cell_type": "code",
      "execution_count": 37,
      "metadata": {},
      "outputs": [],
      "source": [
        "stacked_costs = create_cost_results()\n",
        "p = create_cost_plot(stacked_costs)"
      ],
      "id": "5721dece"
    },
    {
      "cell_type": "markdown",
      "metadata": {},
      "source": [
        "------------------------------------------------------------------------\n",
        "\n",
        "# 4. Production Schedule Analysis\n",
        "\n",
        "Analyze the production schedule outlined in section 2 of this tutorial.\n",
        "Is the workload **distributed evenly** across all time periods? Provide\n",
        "a rationale for your assessment.\n",
        "\n",
        "Please answer in the following cell. Note, that `#=` and `=#` are a\n",
        "comment delimiter for multiline comments. You can write whatever you\n",
        "want between them and the code will not be executed."
      ],
      "id": "a026ae8e-c0e5-4f84-b73d-634d90071267"
    },
    {
      "cell_type": "code",
      "execution_count": 38,
      "metadata": {},
      "outputs": [],
      "source": [
        "# YOUR REASONING BELOW\n",
        "#=\n",
        "\n",
        "\n",
        "\n",
        "=#"
      ],
      "id": "58f55081"
    },
    {
      "cell_type": "markdown",
      "metadata": {},
      "source": [
        "Based on the production data from the final period, **calculate the\n",
        "ending inventory levels for each type of beer**. Discuss any significant\n",
        "findings. Compute the ending inventory levels for each type of beer in\n",
        "the following cell. You can name the DataFrame however you want."
      ],
      "id": "faa2bf5c-a1c6-4760-845d-7c91989ee94b"
    },
    {
      "cell_type": "code",
      "execution_count": 39,
      "metadata": {},
      "outputs": [],
      "source": [
        "# YOUR CODE BELOW"
      ],
      "id": "6accbbcf"
    },
    {
      "cell_type": "markdown",
      "metadata": {},
      "source": [
        "------------------------------------------------------------------------\n",
        "\n",
        "# 5. Biannual Bottling Strategy\n",
        "\n",
        "Reflecting on a scenario where the company schedules its bottling\n",
        "operations **biannually** using the current method: identify and discuss\n",
        "potential pitfalls of this strategy.\n",
        "\n",
        "Offer at least one actionable suggestion for enhancing the efficiency or\n",
        "effectiveness of the production planning process.\n",
        "\n",
        "Your answer goes here."
      ],
      "id": "00a6989d-830b-4753-8f8b-dab5ed93c0ea"
    },
    {
      "cell_type": "code",
      "execution_count": 40,
      "metadata": {},
      "outputs": [],
      "source": [
        "# YOUR ANSWER BELOW\n",
        "#=\n",
        "\n",
        "\n",
        "\n",
        "=#"
      ],
      "id": "6e4355a4"
    },
    {
      "cell_type": "markdown",
      "metadata": {},
      "source": [
        "------------------------------------------------------------------------\n",
        "\n",
        "# Solutions\n",
        "\n",
        "You will likely find solutions to most exercises online. However, I\n",
        "strongly encourage you to work on these exercises independently without\n",
        "searching explicitly for the exact answers to the exercises.\n",
        "Understanding someone else’s solution is very different from developing\n",
        "your own. Use the lecture notes and try to solve the exercises on your\n",
        "own. This approach will significantly enhance your learning and\n",
        "problem-solving skills.\n",
        "\n",
        "Remember, the goal is not just to complete the exercises, but to\n",
        "understand the concepts and improve your programming abilities. If you\n",
        "encounter difficulties, review the lecture materials, experiment with\n",
        "different approaches, and don’t hesitate to ask for clarification during\n",
        "class discussions."
      ],
      "id": "caec6fec-2119-4251-a82f-86183b374250"
    }
  ],
  "nbformat": 4,
  "nbformat_minor": 5,
  "metadata": {
    "kernelspec": {
      "name": "julia-ao-1.12",
      "display_name": "Julia-AO 1.12.0",
      "language": "julia",
      "path": "/Users/vlcek/Library/Jupyter/kernels/julia-ao-1.12"
    },
    "language_info": {
      "name": "julia",
      "file_extension": ".jl",
      "mimetype": "application/julia",
      "version": "1.12.0"
    }
  }
}