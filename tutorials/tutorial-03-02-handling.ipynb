{
  "cells": [
    {
      "cell_type": "markdown",
      "metadata": {},
      "source": [
        "# Tutorial III.II - Package Management\n",
        "\n",
        "Applied Optimization with Julia\n",
        "\n",
        "# Introduction\n",
        "\n",
        "Welcome to this beginner-friendly guide on understanding packages and\n",
        "package management in Julia!\n",
        "\n",
        "Think of packages as pre-written sets of tools that extend what Julia\n",
        "can do. It’s like having a toolbox where you can add new tools\n",
        "(packages) to help you solve specific problems. For example, there are\n",
        "packages for working with data, creating visualizations, or solving\n",
        "complex math problems.\n",
        "\n",
        "The best part? Most Julia packages are free to use, thanks to the\n",
        "open-source community!\n",
        "\n",
        "> **Note**\n",
        ">\n",
        "> While we’ll practice some commands here, you’ll typically manage\n",
        "> packages in Julia’s REPL (Read-Eval-Print Loop), which is like Julia’s\n",
        "> command center.\n",
        "\n",
        "------------------------------------------------------------------------\n",
        "\n",
        "# Section 1 - Using the Package Manager\n",
        "\n",
        "Julia’s built-in package manager, Pkg, provides a robust set of tools\n",
        "for managing packages. To utilize these tools, start by importing the\n",
        "Pkg module. This module allows you to add, update, and remove packages,\n",
        "and manage environments efficiently.\n",
        "\n",
        "> **Note**\n",
        ">\n",
        "> Note, `import PackageName` lets you access exported functions with\n",
        "> `PackageName.function`, while `using PackageName` imports all exported\n",
        "> names into the local namespace for direct access.\n",
        "\n",
        "## Exercise 1.1 - Import the Pkg Module\n",
        "\n",
        "Import the Pkg module to start managing packages effectively."
      ],
      "id": "59f6420e-0e5e-415b-acf2-1bece8188634"
    },
    {
      "cell_type": "code",
      "execution_count": 2,
      "metadata": {},
      "outputs": [],
      "source": [
        "# YOUR CODE BELOW"
      ],
      "id": "4ac7ef69"
    },
    {
      "cell_type": "code",
      "execution_count": 3,
      "metadata": {},
      "outputs": [],
      "source": [
        "# Test your answer\n",
        "try\n",
        "    Pkg.update()\n",
        "    println(\"Pkg module imported successfully and packages were updated!\")\n",
        "catch e\n",
        "    @error \"The Pkg module was not imported yet! Have you used the correct syntax?\"\n",
        "end"
      ],
      "id": "629cce95"
    },
    {
      "cell_type": "markdown",
      "metadata": {},
      "source": [
        "------------------------------------------------------------------------\n",
        "\n",
        "# Section 2 - Managing Environments and Adding Packages\n",
        "\n",
        "Think of environments as separate workspaces for different projects.\n",
        "It’s like having different folders for different school subjects. It’s a\n",
        "best practice to create a new environment for each project to avoid\n",
        "conflicts between package versions. Activate a new environment with\n",
        "`Pkg.activate(\"new_environment\")` and add packages to it with\n",
        "`Pkg.add(\"PackageName\")`. This ensures that each of your projects has a\n",
        "clean, dedicated set of dependencies. When you create a new environment,\n",
        "Julia generates two important files:\n",
        "\n",
        "1.  `Project.toml`: Lists direct dependencies of your project.\n",
        "2.  `Manifest.toml`: Contains a complete dependency graph of your\n",
        "    project.\n",
        "\n",
        "These files help ensure reproducibility and should be version controlled\n",
        "with your project. Remember what we did at the start of the lecture? We\n",
        "activated `Pkg.activate(\"applied-optimization\")` together, which means\n",
        "we are already working in an environment!\n",
        "\n",
        "Before installing new packages, we should always activate this\n",
        "environment again. This ensures that the packages are **installed in the\n",
        "environment** and not globally.\n",
        "\n",
        "Remember how we did this at the start?"
      ],
      "id": "4fea0538-e87c-4f1b-a946-d431c19aae23"
    },
    {
      "cell_type": "code",
      "execution_count": 4,
      "metadata": {},
      "outputs": [],
      "source": [
        "Pkg.activate(\"applied-optimization\")"
      ],
      "id": "a275b51d"
    },
    {
      "cell_type": "markdown",
      "metadata": {},
      "source": [
        "> **Tip**\n",
        ">\n",
        "> Our environment is linked to the Jupyter kernel. It is the thing in\n",
        "> the upper right corner we are using in this course. Therefore, we\n",
        "> don’t need to activate it most of the time as it is already running\n",
        "> automatically. But to update packages or add new packages, we should\n",
        "> activate it so the packages are added permanently.\n",
        "\n",
        "> **Tip**\n",
        ">\n",
        "> Once created and while working in the folder with `Project.toml` and\n",
        "> `Manifest.toml`, a simple `Pkg.activate()` is faster and enough to\n",
        "> load the environment in the working folder!\n",
        "\n",
        "Adding packages in Julia is afterwards straightforward using the\n",
        "`Pkg.add(\"PackageName\")` function. Replace `PackageName` with the actual\n",
        "package name you wish to add.\n",
        "\n",
        "## Exercise 2.1 - Add the DataFrames Package\n",
        "\n",
        "Let’s add a popular package called DataFrames. It’s great for working\n",
        "with structured data, like spreadsheets."
      ],
      "id": "ce5e8f51-9e72-4472-ab83-a450ffc366fb"
    },
    {
      "cell_type": "code",
      "execution_count": 5,
      "metadata": {},
      "outputs": [],
      "source": [
        "# YOUR CODE BELOW"
      ],
      "id": "3bd66264"
    },
    {
      "cell_type": "code",
      "execution_count": 6,
      "metadata": {},
      "outputs": [],
      "source": [
        "# Test your answer\n",
        "try\n",
        "    using DataFrames\n",
        "    println(\"Package added successfully!\")\n",
        "catch e\n",
        "    @error \"Package was not added yet! Have you used the correct syntax?\"\n",
        "end"
      ],
      "id": "c197535c"
    },
    {
      "cell_type": "markdown",
      "metadata": {},
      "source": [
        "------------------------------------------------------------------------\n",
        "\n",
        "# Section 3 - Updating and Removing Packages\n",
        "\n",
        "Just like apps on your phone, packages can be updated or removed when\n",
        "you no longer need them.\n",
        "\n",
        "-   To update a package: `Pkg.update(\"PackageName\")`\n",
        "-   To update all packages: `Pkg.update()`\n",
        "-   To remove a package: `Pkg.rm(\"PackageName\")`\n",
        "\n",
        "If you wanted to update DataFrames, you’d use\n",
        "`Pkg.update(\"DataFrames\")`. To remove it, you’d use\n",
        "`Pkg.rm(\"DataFrames\")`.\n",
        "\n",
        "## Conclusion\n",
        "\n",
        "Congratulations! You’ve completed the tutorial on packages and package\n",
        "management in Julia. These skills are important for effectively managing\n",
        "and utilizing external libraries. Continue to the next file to learn\n",
        "more.\n",
        "\n",
        "# Solutions\n",
        "\n",
        "You will likely find solutions to most exercises online. However, I\n",
        "strongly encourage you to work on these exercises independently without\n",
        "searching explicitly for the exact answers to the exercises.\n",
        "Understanding someone else’s solution is very different from developing\n",
        "your own. Use the lecture notes and try to solve the exercises on your\n",
        "own. This approach will significantly enhance your learning and\n",
        "problem-solving skills.\n",
        "\n",
        "Remember, the goal is not just to complete the exercises, but to\n",
        "understand the concepts and improve your programming abilities. If you\n",
        "encounter difficulties, review the lecture materials, experiment with\n",
        "different approaches, and don’t hesitate to ask for clarification during\n",
        "class discussions."
      ],
      "id": "16ff47e8-d3f0-420e-b15d-59421288551c"
    }
  ],
  "nbformat": 4,
  "nbformat_minor": 5,
  "metadata": {
    "kernelspec": {
      "name": "julia-ao-1.12",
      "display_name": "Julia-AO 1.12.0",
      "language": "julia",
      "path": "/Users/vlcek/Library/Jupyter/kernels/julia-ao-1.12"
    },
    "language_info": {
      "name": "julia",
      "file_extension": ".jl",
      "mimetype": "application/julia",
      "version": "1.12.0"
    }
  }
}