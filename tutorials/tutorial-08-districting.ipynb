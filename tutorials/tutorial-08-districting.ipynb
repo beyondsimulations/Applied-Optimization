{
  "cells": [
    {
      "cell_type": "markdown",
      "metadata": {},
      "source": [
        "# Tutorial VIII - Police Districting\n",
        "\n",
        "Applied Optimization with Julia\n",
        "\n",
        "# Introduction\n",
        "\n",
        "Imagine you’re the lead consultant for Hamburg’s police force\n",
        "modernization project. The city is facing increasing response times in\n",
        "certain districts, and the Chief of Police has hired you to optimize\n",
        "their district boundaries. Your mission: redesign Hamburg’s police\n",
        "districts to ensure rapid response times while meeting several critical\n",
        "operational requirements.\n",
        "\n",
        "Key Objectives:\n",
        "\n",
        "-   Minimize average response time to incidents\n",
        "-   Ensure every area has adequate police coverage\n",
        "-   Enable efficient backup support between districts\n",
        "-   Account for real-world constraints like traffic patterns\n",
        "\n",
        "Throughout this tutorial, you’ll build this solution step-by-step,\n",
        "starting with a basic model and gradually adding real-world constraints\n",
        "that police departments face daily.\n",
        "\n",
        "# 1. Modelling the P-Median Problem\n",
        "\n",
        "Your first task is to fix a prototype model. It contains 6 critical\n",
        "errors that are causing the model to fail. As the lead consultant, you\n",
        "need to:\n",
        "\n",
        "1.  Identify and fix these errors\n",
        "2.  Document why each fix was necessary in a comment\n",
        "3.  Validate that your solution makes sense\n",
        "\n",
        "In this task it is **not yet necessary** to include contiguity and\n",
        "compactness constraints! If the model takes too long on your machine,\n",
        "you can set the **relative gap to 10% or decrease the time limit**.\n",
        "\n",
        "To execute the code, several files are provided, which contain the\n",
        "Euclidean distance between the BAs, the driving time between BAs, the\n",
        "number of incidents per BA, and the hexagonal shapes (a `.shp` file and\n",
        "a `.dbf` file - you need both!).\n",
        "\n",
        "------------------------------------------------------------------------\n",
        "\n",
        "## Loading Data and Packages\n",
        "\n",
        "We start by loading the new `Shapefile` package. **No mistakes here!**"
      ],
      "id": "926ce8b6-2455-4c1c-9649-9e7d16b2a9e5"
    },
    {
      "cell_type": "code",
      "execution_count": 2,
      "metadata": {},
      "outputs": [],
      "source": [
        "import Pkg\n",
        "Pkg.add(\"Shapefile\")"
      ],
      "id": "3c443a29"
    },
    {
      "cell_type": "markdown",
      "metadata": {},
      "source": [
        "We then load the required packages. If you have not installed them yet,\n",
        "you can do so by modifying the code chunk above to include the missing\n",
        "packages. **Still no mistakes!**"
      ],
      "id": "db787de4-e832-4874-a715-0d86493b3069"
    },
    {
      "cell_type": "code",
      "execution_count": 3,
      "metadata": {},
      "outputs": [],
      "source": [
        "using JuMP, HiGHS\n",
        "using DelimitedFiles\n",
        "using Shapefile\n",
        "using DataFrames\n",
        "using Plots"
      ],
      "id": "e76b077d"
    },
    {
      "cell_type": "markdown",
      "metadata": {},
      "source": [
        "We then define the number of departments, load the data into scope and\n",
        "define the number of departments and the weighted driving times. Make\n",
        "sure to use the correct path to the data files - it should be relative\n",
        "to the location notebook file in a folder called `data`. **Again, no\n",
        "mistakes!**"
      ],
      "id": "6ae503eb-1f1b-433c-b3ae-05432ff77f64"
    },
    {
      "cell_type": "code",
      "execution_count": 4,
      "metadata": {},
      "outputs": [],
      "source": [
        "# Load the data into scope\n",
        "file_directory = \"$(@__DIR__)/data\"\n",
        "euclidianDistances = readdlm(\"$file_directory/euclidianDistances0510.csv\",'\\t')\n",
        "drivingTimes = readdlm(\"$file_directory/drivingTimes0510.csv\",'\\t')\n",
        "incidentWeights = vec(readdlm(\"$file_directory/incidentWeights0510.csv\",'\\t'))\n",
        "\n",
        "# Load the Shapefile for plotting\n",
        "hexshape = DataFrame(Shapefile.Table(\"$file_directory/grid0510.shp\"))\n",
        "sort!(hexshape, :id)\n",
        "\n",
        "# Define the number of departments\n",
        "p = 10\n",
        "\n",
        "# Define the weighted driving times\n",
        "weightedDriving = drivingTimes .* transpose(incidentWeights)"
      ],
      "id": "ab0e15f0"
    },
    {
      "cell_type": "markdown",
      "metadata": {},
      "source": [
        "------------------------------------------------------------------------\n",
        "\n",
        "## Fixing the Mistakes\n",
        "\n",
        "From here on, the code contains **6 mistakes** you need to correct in\n",
        "order to solve the model. **Mistakes can be anything so be careful!**"
      ],
      "id": "e6d5b400-d4e5-4ba0-a389-a3eb7b899735"
    },
    {
      "cell_type": "code",
      "execution_count": 5,
      "metadata": {},
      "outputs": [],
      "source": [
        "# MISTAKES BELOW\n",
        "\n",
        "# Prepare the model instance\n",
        "pMedianModel = Model(HiGHS.Optimizer)\n",
        "set_attribute(pMedianModel, \"presolve\", \"on\")\n",
        "set_attribute(model, \"time_limit\", 120.0)\n",
        "set_attribute(pMedianModel, \"mip_rel_gap\", 0.0)\n",
        "\n",
        "# Define the range of the problem instance\n",
        "rangeBAs = 1:2\n",
        "rangeDepartments = unique(rand(1:size(incidentWeights,1), 100))  # Ensure unique departments (This line is correct!)\n",
        "\n",
        "# Define variable\n",
        "@variable(pMedianModel, X[i = rangeDepartments,j = rangeDepartments], Bin)\n",
        "\n",
        "# Define objective function\n",
        "@objective(pMedianModel, Max,\n",
        "    sum(weightedDriving[i,j]* X[i,j] for i in rangeDepartments, j in rangeBAs)\n",
        "    )\n",
        "\n",
        "# Define the constraints\n",
        "@constraint(pMedianModel,\n",
        "    eachAllocated[j=rangeBAs],\n",
        "    sum(X[i,j] for i in rangeDepartments) == 0\n",
        "    )\n",
        "\n",
        "@constraint(pMedianModel,\n",
        "    pLocations,\n",
        "    sum(X[i,i] for i in rangeDepartments) == p\n",
        "    )\n",
        "\n",
        "@constraint(pMedianModel,\n",
        "    departmentNecessary[i=rangeDepartments,j=rangeBAs],\n",
        "    2 * X[i,j] <= X[i,i]\n",
        "    )\n",
        "\n",
        "# Start optimization\n",
        "optimize!(pMedianModel)\n",
        "\n",
        "# MISTAKES ABOVE"
      ],
      "id": "bea2a3ca"
    },
    {
      "cell_type": "markdown",
      "metadata": {},
      "source": [
        "We then check the solution. **No mistakes here, as all mistakes are in\n",
        "the code in the cell above!**"
      ],
      "id": "d1ba60b9-543e-4532-8c9d-96550c0f9834"
    },
    {
      "cell_type": "code",
      "execution_count": 6,
      "metadata": {},
      "outputs": [
        {
          "output_type": "display_data",
          "metadata": {},
          "data": {
            "text/plain": [
              "print_model_status (generic function with 1 method)"
            ]
          }
        }
      ],
      "source": [
        "# Function to print the model status\n",
        "function print_model_status(model)\n",
        "    begin\n",
        "        println()\n",
        "    if termination_status(pMedianModel) == OPTIMAL\n",
        "        println(\"Great, the solution is optimal.\")\n",
        "        println(\"The relative gap is $(relative_gap(pMedianModel))\")\n",
        "        println(\"The solve time (in seconds) is $(solve_time(pMedianModel))\")\n",
        "    elseif termination_status(pMedianModel) == TIME_LIMIT && has_values(pMedianModel)\n",
        "        println(\"Solution is suboptimal due to a time limit, but a primal solution is available\")\n",
        "    else\n",
        "        error(\"The model was not solved correctly.\")\n",
        "    end\n",
        "        println(\"The objective value is \", objective_value(pMedianModel))\n",
        "    end\n",
        "end"
      ],
      "id": "8212930b"
    },
    {
      "cell_type": "code",
      "execution_count": 7,
      "metadata": {},
      "outputs": [],
      "source": [
        "print_model_status(pMedianModel)\n",
        "@assert termination_status(pMedianModel) == OPTIMAL || (termination_status(pMedianModel) == TIME_LIMIT && has_values(pMedianModel)) \"Unfortunate, the model was not solved correctly. Have you corrected all mistakes?\"\n",
        "println(\"Great, the model was solved correctly.\")"
      ],
      "id": "0ea2c771"
    },
    {
      "cell_type": "markdown",
      "metadata": {},
      "source": [
        "------------------------------------------------------------------------\n",
        "\n",
        "## Visualizing the Results\n",
        "\n",
        "The following code then builds and uses a function to plot the results."
      ],
      "id": "6630dd3d-6899-4723-8d43-53edb0cab624"
    },
    {
      "cell_type": "code",
      "execution_count": 8,
      "metadata": {},
      "outputs": [],
      "source": [
        "function visualize_departments(hexshape, X, p)\n",
        "    # Convert solution matrix to regular Matrix\n",
        "    allAssignments = Matrix(value.(X))\n",
        "\n",
        "    # Find assignments where value > 0.5 (accounting for potential floating-point imprecision)\n",
        "    assignments = findall(allAssignments .> 0.5)\n",
        "\n",
        "    # Create copy of hexshape to avoid modifying original\n",
        "    plot_data = copy(hexshape)\n",
        "\n",
        "    # Assign departments and initialize colors\n",
        "    plot_data.department = rangeDepartments[map(x->x[1], assignments)]\n",
        "    plot_data.color = fill(RGB(0/255, 0/255, 0/255), nrow(plot_data))\n",
        "\n",
        "    # Get unique department locations and create color mapping\n",
        "    department_locations = unique(rangeDepartments[map(x->x[1], assignments)])\n",
        "    color_palette = cgrad(:Pastel1_9, p, categorical=true)\n",
        "    color_dict = Dict(department_locations[i] => color_palette[i] for i in 1:p)\n",
        "\n",
        "    # Color non-department locations\n",
        "    for hex in eachrow(plot_data)\n",
        "        if hex.id in department_locations\n",
        "            hex.color = RGB(0/255, 0/255, 0/255)\n",
        "        else\n",
        "            hex.color = color_dict[hex.department]\n",
        "        end\n",
        "    end\n",
        "\n",
        "    # Create and return plot\n",
        "    return plot(\n",
        "        plot_data.geometry,\n",
        "        color=plot_data.color',\n",
        "        legend=false,\n",
        "        axis=false,\n",
        "        ticks=false,\n",
        "        size=(800,450)\n",
        "    )\n",
        "end\n",
        "\n",
        "# Plot the results\n",
        "plot_area = visualize_departments(hexshape, X, p)"
      ],
      "id": "33fb3f4d"
    },
    {
      "cell_type": "markdown",
      "metadata": {},
      "source": [
        "------------------------------------------------------------------------\n",
        "\n",
        "# 2. Ensuring District Connectivity\n",
        "\n",
        "The Police Chief has identified a critical flaw in the initial model:\n",
        "some police units would need to drive through other districts to reach\n",
        "parts of their own district! This creates jurisdictional issues and\n",
        "slower response times.\n",
        "\n",
        "Your challenge:\n",
        "\n",
        "-   Implement contiguity constraints to ensure each district is fully\n",
        "    connected\n",
        "-   Compare response times before and after adding these constraints\n",
        "-   Visualize the impact of your changes on the district map\n",
        "\n",
        "## Conditional Constraints\n",
        "\n",
        "Before we start, we will quickly repeat some basic concepts on\n",
        "constraints and conditions in JuMP. You can add conditions to\n",
        "constraints by using the `;` operator. This is useful if you want to add\n",
        "a constraint only under certain conditions. In the example below, the\n",
        "constraint is only active if the Euclidean distance between two BAs is\n",
        "less than 1.5."
      ],
      "id": "448524d6-c925-455f-a958-7a2ca449bde1"
    },
    {
      "cell_type": "code",
      "execution_count": 9,
      "metadata": {},
      "outputs": [],
      "source": [
        "@constraint(model,\n",
        "    conditionalConstraint[\n",
        "        i=rangeDepartments,\n",
        "        j=rangeBAs;\n",
        "        euclidianDistances[i,j] < 1.5\n",
        "        ],\n",
        "    X[i,j] == 1\n",
        "    )"
      ],
      "id": "e77252ef"
    },
    {
      "cell_type": "markdown",
      "metadata": {},
      "source": [
        "Furthermore,we can use conditions within constraints by using the `for`\n",
        "keyword. For example, in the constraint below, the sum is only taken\n",
        "over the BAs that are within 1.5 units of BA $i$."
      ],
      "id": "610e64ec-de28-42cf-b144-0ab829e91a2d"
    },
    {
      "cell_type": "code",
      "execution_count": 10,
      "metadata": {},
      "outputs": [],
      "source": [
        "@constraint(model,\n",
        "    conditionalConstraint2[i=rangeDepartments],\n",
        "    sum(X[i,j] for j in rangeBAs if euclidianDistances[i,j] < 1.5) >= 1\n",
        "    )"
      ],
      "id": "c165f235"
    },
    {
      "cell_type": "markdown",
      "metadata": {},
      "source": [
        "------------------------------------------------------------------------\n",
        "\n",
        "## Extending the Model\n",
        "\n",
        "Now, we can start to extend the model. Add the contiguity constraint\n",
        "from the lecture to the model.\n",
        "\n",
        "> **Important**\n",
        ">\n",
        "> Take a careful look at the Euclidean distances, as you can use them to\n",
        "> determine if two BAs are adjacent to each other. If the distance\n",
        "> between two BAs is less than 1.5, then the BAs are adjacent to each\n",
        "> other. You can use this information to define the new constraint."
      ],
      "id": "d0c9b5c3-6f9a-4f29-860e-b8176288a4e9"
    },
    {
      "cell_type": "code",
      "execution_count": 11,
      "metadata": {},
      "outputs": [],
      "source": [
        "# YOUR CODE BELOW"
      ],
      "id": "d176d429"
    },
    {
      "cell_type": "markdown",
      "metadata": {},
      "source": [
        "Solve the model again, this time with the contiguity constraint."
      ],
      "id": "4853840a-f014-469f-9d56-002911fff8a4"
    },
    {
      "cell_type": "code",
      "execution_count": 12,
      "metadata": {},
      "outputs": [],
      "source": [
        "# YOUR CODE BELOW"
      ],
      "id": "359e7621"
    },
    {
      "cell_type": "markdown",
      "metadata": {},
      "source": [
        "The following code prints the model status and visualizes the districts.\n",
        "If your implementation is correct, the districts should be contiguous\n",
        "and the model should have reached optimality or found a feasible\n",
        "solution before hitting the time limit."
      ],
      "id": "5c106020-51cf-4fd5-8a8b-4e1c8171c60b"
    },
    {
      "cell_type": "code",
      "execution_count": 13,
      "metadata": {},
      "outputs": [],
      "source": [
        "print_model_status(pMedianModel)\n",
        "display(visualize_departments(hexshape, X, p))"
      ],
      "id": "dd76bbcf"
    },
    {
      "cell_type": "markdown",
      "metadata": {},
      "source": [
        "------------------------------------------------------------------------\n",
        "\n",
        "## Compute the Gap\n",
        "\n",
        "Based on your results, what is the gap between the solution in the\n",
        "previous task and this task? Write a comment answering the question in\n",
        "cell below. You can also use the cell, to compute the gap based on the\n",
        "objective values."
      ],
      "id": "bb9b86c4-145a-4c99-87c0-dd9c8024eba3"
    },
    {
      "cell_type": "code",
      "execution_count": 14,
      "metadata": {},
      "outputs": [],
      "source": [
        "#=\n",
        "\n",
        "\n",
        "\n",
        "=#"
      ],
      "id": "30297641"
    },
    {
      "cell_type": "markdown",
      "metadata": {},
      "source": [
        "> **Tip**\n",
        ">\n",
        "> If you computer cannot determine the optimal solution, you can just\n",
        "> use the best solutions you found after both runs to compute the gap.\n",
        "\n",
        "------------------------------------------------------------------------\n",
        "\n",
        "# 3. Emergency Response Time Guarantees\n",
        "\n",
        "Hamburg’s City Council has mandated that high-priority emergencies must\n",
        "receive a response within 20 minutes. Your previous model doesn’t\n",
        "guarantee this! Your task: Implement maximum response time constraints.\n",
        "\n",
        "Extend your model by an additional parameter `max_driving_time = 20` to\n",
        "ensure that no allocation with a driving time $d_{i,j}$ higher than\n",
        "`max_driving_time` minutes from $i$ to $j$ is possible."
      ],
      "id": "4274665a-43e1-43ae-9d42-c9aff4ce5069"
    },
    {
      "cell_type": "code",
      "execution_count": 15,
      "metadata": {},
      "outputs": [],
      "source": [
        "# YOUR CODE BELOW"
      ],
      "id": "574d7efa"
    },
    {
      "cell_type": "markdown",
      "metadata": {},
      "source": [
        "> **Tip**\n",
        ">\n",
        "> Don’t confuse the `weightedDriving` matrix with the `drivingTimes`\n",
        "> matrix! The `weightedDriving` matrix contains the weighted driving\n",
        "> times, while the `drivingTimes` matrix contains the driving times.\n",
        "\n",
        "Again, solve the model."
      ],
      "id": "cfd8bd39-31d6-4f4b-bf88-c955f6126512"
    },
    {
      "cell_type": "code",
      "execution_count": 16,
      "metadata": {},
      "outputs": [],
      "source": [
        "# YOUR CODE BELOW"
      ],
      "id": "6f23daaa"
    },
    {
      "cell_type": "markdown",
      "metadata": {},
      "source": [
        "The following code prints the model status and visualizes the districts.\n",
        "If your implementation is correct, the districts with previously longer\n",
        "driving times should have shrinked. Furthermore, the model should have\n",
        "reached optimality or found a feasible solution before hitting the time\n",
        "limit."
      ],
      "id": "0a742ad5-abcc-4b9c-a6e6-861c0b65fcb3"
    },
    {
      "cell_type": "code",
      "execution_count": 17,
      "metadata": {},
      "outputs": [],
      "source": [
        "print_model_status(pMedianModel)\n",
        "display(visualize_departments(hexshape, X, p))"
      ],
      "id": "d7216d9d"
    },
    {
      "cell_type": "markdown",
      "metadata": {},
      "source": [
        "------------------------------------------------------------------------\n",
        "\n",
        "# 4. Planning for Peak Demand\n",
        "\n",
        "During major events or crime waves, districts need backup support from\n",
        "neighboring stations. The Police Union has emphasized this as a critical\n",
        "safety requirement for their officers. Your task: Design constraints\n",
        "ensuring each district has backup support within 20 minutes of the\n",
        "driving time."
      ],
      "id": "33e375e9-da5b-44d2-869f-74672bcf9f91"
    },
    {
      "cell_type": "code",
      "execution_count": 18,
      "metadata": {},
      "outputs": [],
      "source": [
        "# YOUR CODE BELOW"
      ],
      "id": "4787a2fd"
    },
    {
      "cell_type": "markdown",
      "metadata": {},
      "source": [
        "> **Tip**\n",
        ">\n",
        "> This is a rather complicated task, so don’t worry if you cannot find\n",
        "> the correct restriction. Try to come up with something or describe\n",
        "> your thoughts in comments if you do not find the correct restriction\n",
        "> or a way to implement it. If you are not sure, it often helps to start\n",
        "> on paper and to draw the districts and the BAs to find a way to\n",
        "> implement it.\n",
        "\n",
        "In case you came up with a solution, solve the model to optimize the\n",
        "layout of the districts."
      ],
      "id": "87b66312-9cd2-477f-abae-398d2dd6d3fa"
    },
    {
      "cell_type": "code",
      "execution_count": 19,
      "metadata": {},
      "outputs": [],
      "source": [
        "# YOUR CODE BELOW"
      ],
      "id": "f0c5a9e8"
    },
    {
      "cell_type": "markdown",
      "metadata": {},
      "source": [
        "If your implementation is correct, the districts are contiguous and\n",
        "distributed across the city. In addition, the model should have reached\n",
        "optimality or found a feasible solution before hitting the time limit."
      ],
      "id": "d4c954a8-e290-4658-92a6-0ee31a8194a3"
    },
    {
      "cell_type": "code",
      "execution_count": 20,
      "metadata": {},
      "outputs": [],
      "source": [
        "print_model_status(pMedianModel)\n",
        "display(visualize_departments(hexshape, X, p))"
      ],
      "id": "4e04040b"
    },
    {
      "cell_type": "markdown",
      "metadata": {},
      "source": [
        "------------------------------------------------------------------------\n",
        "\n",
        "# Solutions\n",
        "\n",
        "You will likely find solutions to most exercises online. However, I\n",
        "strongly encourage you to work on these exercises independently without\n",
        "searching explicitly for the exact answers to the exercises.\n",
        "Understanding someone else’s solution is very different from developing\n",
        "your own. Use the lecture notes and try to solve the exercises on your\n",
        "own. This approach will significantly enhance your learning and\n",
        "problem-solving skills.\n",
        "\n",
        "Remember, the goal is not just to complete the exercises, but to\n",
        "understand the concepts and improve your programming abilities. If you\n",
        "encounter difficulties, review the lecture materials, experiment with\n",
        "different approaches, and don’t hesitate to ask for clarification during\n",
        "class discussions.\n",
        "\n",
        "Later, you will find the solutions to these exercises online in the\n",
        "associated GitHub repository, but we will also quickly go over them in\n",
        "next week’s tutorial. To access the solutions, click on the Github\n",
        "button on the lower right and search for the folder with today’s lecture\n",
        "and tutorial. Alternatively, you can ask ChatGPT or Claude to explain\n",
        "them to you. But please remember, the goal is not just to complete the\n",
        "exercises, but to understand the concepts and improve your programming\n",
        "abilities."
      ],
      "id": "e85855da-0f87-4e01-bda6-176a9317b9c8"
    }
  ],
  "nbformat": 4,
  "nbformat_minor": 5,
  "metadata": {
    "kernelspec": {
      "name": "julia-1.11",
      "display_name": "Julia 1.11.6",
      "language": "julia",
      "path": "/Users/vlcek/Library/Jupyter/kernels/julia-1.11"
    },
    "language_info": {
      "name": "julia",
      "file_extension": ".jl",
      "mimetype": "application/julia",
      "version": "1.11.6"
    }
  }
}