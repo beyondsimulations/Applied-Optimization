{
  "cells": [
    {
      "cell_type": "markdown",
      "metadata": {},
      "source": [
        "# Tutorial VIII - Police Districting\n",
        "\n",
        "Applied Optimization with Julia\n",
        "\n",
        "# Introduction\n",
        "\n",
        "Imagine you’re the lead consultant for Hamburg’s police force\n",
        "modernization project. The city is facing increasing response times in\n",
        "certain districts, and the Chief of Police has hired you to optimize\n",
        "their district boundaries. Your mission: redesign Hamburg’s police\n",
        "districts to ensure rapid response times while meeting several critical\n",
        "operational requirements.\n",
        "\n",
        "Key Objectives:\n",
        "\n",
        "-   Minimize average response time to incidents\n",
        "-   Ensure every area has adequate police coverage\n",
        "-   Enable efficient backup support between districts\n",
        "-   Account for real-world constraints like traffic patterns\n",
        "\n",
        "Throughout this tutorial, you’ll build this solution step-by-step,\n",
        "starting with a basic model and gradually adding real-world constraints\n",
        "that police departments face daily.\n",
        "\n",
        "# 1. Modelling the P-Median Problem\n",
        "\n",
        "Your first task is to fix a prototype model. It contains 6 critical\n",
        "errors that are causing the model to fail. As the lead consultant, you\n",
        "need to:\n",
        "\n",
        "1.  Identify and fix these errors\n",
        "2.  Document why each fix was necessary in a comment\n",
        "3.  Validate that your solution makes sense\n",
        "\n",
        "In this task it is **not yet necessary** to include contiguity and\n",
        "compactness constraints! If the model takes too long on your machine,\n",
        "you can set the **relative gap to 10% or decrease the time limit**.\n",
        "\n",
        "To execute the code, several files are provided, which contain the\n",
        "Euclidean distance between the BAs, the driving time between BAs, the\n",
        "number of incidents per BA, and the hexagonal shapes (a `.shp` file and\n",
        "a `.dbf` file - you need both!).\n",
        "\n",
        "------------------------------------------------------------------------\n",
        "\n",
        "## Loading Data and Packages\n",
        "\n",
        "We start by loading the new `Shapefile` package. **No mistakes here!**"
      ],
      "id": "16d24d21-84d6-4099-88bc-d70131ce6488"
    },
    {
      "cell_type": "code",
      "execution_count": 2,
      "metadata": {},
      "outputs": [],
      "source": [
        "import Pkg\n",
        "Pkg.add(\"Shapefile\")"
      ],
      "id": "2f7739f2"
    },
    {
      "cell_type": "markdown",
      "metadata": {},
      "source": [
        "We then load the required packages. If you have not installed them yet,\n",
        "you can do so by modifying the code chunk above to include the missing\n",
        "packages. **Still no mistakes!**"
      ],
      "id": "90265803-1321-4dc4-9c17-09d8f66e7873"
    },
    {
      "cell_type": "code",
      "execution_count": 3,
      "metadata": {},
      "outputs": [],
      "source": [
        "using JuMP, HiGHS\n",
        "using DelimitedFiles\n",
        "using Shapefile\n",
        "using DataFrames\n",
        "using Plots"
      ],
      "id": "309f7a6f"
    },
    {
      "cell_type": "markdown",
      "metadata": {},
      "source": [
        "We then define the number of departments, load the data into scope and\n",
        "define the number of departments and the weighted driving times. Make\n",
        "sure to use the correct path to the data files - it should be relative\n",
        "to the location notebook file in a folder called `data`. **Again, no\n",
        "mistakes!**"
      ],
      "id": "9fda2650-3ae9-48cf-8ff7-8922d32397e9"
    },
    {
      "cell_type": "code",
      "execution_count": 4,
      "metadata": {},
      "outputs": [],
      "source": [
        "# Load the data into scope\n",
        "file_directory = \"$(@__DIR__)/data\"\n",
        "euclidianDistances = readdlm(\"$file_directory/euclidianDistances0510.csv\",'\\t')\n",
        "drivingTimes = readdlm(\"$file_directory/drivingTimes0510.csv\",'\\t')\n",
        "incidentWeights = vec(readdlm(\"$file_directory/incidentWeights0510.csv\",'\\t'))\n",
        "\n",
        "# Load the Shapefile for plotting\n",
        "hexshape = DataFrame(Shapefile.Table(\"$file_directory/grid0510.shp\"))\n",
        "sort!(hexshape, :id)\n",
        "\n",
        "# Define the number of departments\n",
        "p = 10\n",
        "\n",
        "# Define the weighted driving times\n",
        "weightedDriving = drivingTimes .* transpose(incidentWeights)"
      ],
      "id": "ca259b21"
    },
    {
      "cell_type": "markdown",
      "metadata": {},
      "source": [
        "------------------------------------------------------------------------\n",
        "\n",
        "## Fixing the Mistakes\n",
        "\n",
        "From here on, the code contains **6 mistakes** you need to correct in\n",
        "order to solve the model. **Mistakes can be anything so be careful!**"
      ],
      "id": "e7c6c63f-3d78-4779-899b-3dc7ec1c218f"
    },
    {
      "cell_type": "code",
      "execution_count": 5,
      "metadata": {},
      "outputs": [],
      "source": [
        "# MISTAKES BELOW\n",
        "\n",
        "# Prepare the model instance\n",
        "pMedianModel = Model(HiGHS.Optimizer)\n",
        "set_attribute(pMedianModel, \"presolve\", \"on\")\n",
        "set_attribute(model, \"time_limit\", 120.0)\n",
        "set_attribute(pMedianModel, \"mip_rel_gap\", 0.0)\n",
        "\n",
        "# Define the range of the problem instance\n",
        "rangeBAs = 1:2\n",
        "rangeDepartments = unique(rand(1:size(incidentWeights,1), 100))  # Ensure unique departments (This line is correct!)\n",
        "\n",
        "# Define variable\n",
        "@variable(pMedianModel, X[i = rangeDepartments,j = rangeDepartments], Bin)\n",
        "\n",
        "# Define objective function\n",
        "@objective(pMedianModel, Max,\n",
        "    sum(weightedDriving[i,j]* X[i,j] for i in rangeDepartments, j in rangeBAs)\n",
        "    )\n",
        "\n",
        "# Define the constraints\n",
        "@constraint(pMedianModel,\n",
        "    eachAllocated[j=rangeBAs],\n",
        "    sum(X[i,j] for i in rangeDepartments) == 0\n",
        "    )\n",
        "\n",
        "@constraint(pMedianModel,\n",
        "    pLocations,\n",
        "    sum(X[i,i] for i in rangeDepartments) == p\n",
        "    )\n",
        "\n",
        "@constraint(pMedianModel,\n",
        "    departmentNecessary[i=rangeDepartments,j=rangeBAs],\n",
        "    2 * X[i,j] <= X[i,i]\n",
        "    )\n",
        "\n",
        "# Start optimization\n",
        "optimize!(pMedianModel)\n",
        "\n",
        "# MISTAKES ABOVE"
      ],
      "id": "fc0be486"
    },
    {
      "cell_type": "markdown",
      "metadata": {},
      "source": [
        "We then check the solution. **No mistakes here, as all mistakes are in\n",
        "the code in the cell above!**"
      ],
      "id": "8bfb911f-83ed-48ec-8004-93bea770e46e"
    },
    {
      "cell_type": "code",
      "execution_count": 6,
      "metadata": {},
      "outputs": [
        {
          "output_type": "display_data",
          "metadata": {},
          "data": {
            "text/plain": [
              "print_model_status (generic function with 1 method)"
            ]
          }
        }
      ],
      "source": [
        "# Function to print the model status\n",
        "function print_model_status(model)\n",
        "    begin\n",
        "        println()\n",
        "    if termination_status(pMedianModel) == OPTIMAL\n",
        "        println(\"Great, the solution is optimal.\")\n",
        "        println(\"The relative gap is $(relative_gap(pMedianModel))\")\n",
        "        println(\"The solve time (in seconds) is $(solve_time(pMedianModel))\")\n",
        "    elseif termination_status(pMedianModel) == TIME_LIMIT && has_values(pMedianModel)\n",
        "        println(\"Solution is suboptimal due to a time limit, but a primal solution is available\")\n",
        "    else\n",
        "        error(\"The model was not solved correctly.\")\n",
        "    end\n",
        "        println(\"The objective value is \", objective_value(pMedianModel))\n",
        "    end\n",
        "end"
      ],
      "id": "1a6e58d0"
    },
    {
      "cell_type": "code",
      "execution_count": 7,
      "metadata": {},
      "outputs": [],
      "source": [
        "print_model_status(pMedianModel)\n",
        "@assert termination_status(pMedianModel) == OPTIMAL || (termination_status(pMedianModel) == TIME_LIMIT && has_values(pMedianModel)) \"Unfortunate, the model was not solved correctly. Have you corrected all mistakes?\"\n",
        "println(\"Great, the model was solved correctly.\")"
      ],
      "id": "2c91f446"
    },
    {
      "cell_type": "markdown",
      "metadata": {},
      "source": [
        "------------------------------------------------------------------------\n",
        "\n",
        "## Visualizing the Results\n",
        "\n",
        "The following code then builds and uses a function to plot the results."
      ],
      "id": "5c83320c-373e-4df5-8981-8881665094ce"
    },
    {
      "cell_type": "code",
      "execution_count": 8,
      "metadata": {},
      "outputs": [],
      "source": [
        "function visualize_departments(hexshape, X, p)\n",
        "    # Convert solution matrix to regular Matrix\n",
        "    allAssignments = Matrix(value.(X))\n",
        "\n",
        "    # Find assignments where value > 0.5 (accounting for potential floating-point imprecision)\n",
        "    assignments = findall(allAssignments .> 0.5)\n",
        "\n",
        "    # Create copy of hexshape to avoid modifying original\n",
        "    plot_data = copy(hexshape)\n",
        "\n",
        "    # Assign departments and initialize colors\n",
        "    plot_data.department = rangeDepartments[map(x->x[1], assignments)]\n",
        "    plot_data.color = fill(RGB(0/255, 0/255, 0/255), nrow(plot_data))\n",
        "\n",
        "    # Get unique department locations and create color mapping\n",
        "    department_locations = unique(rangeDepartments[map(x->x[1], assignments)])\n",
        "    color_palette = cgrad(:Pastel1_9, p, categorical=true)\n",
        "    color_dict = Dict(department_locations[i] => color_palette[i] for i in 1:p)\n",
        "\n",
        "    # Color non-department locations\n",
        "    for hex in eachrow(plot_data)\n",
        "        if hex.id in department_locations\n",
        "            hex.color = RGB(0/255, 0/255, 0/255)\n",
        "        else\n",
        "            hex.color = color_dict[hex.department]\n",
        "        end\n",
        "    end\n",
        "\n",
        "    # Create and return plot\n",
        "    return plot(\n",
        "        plot_data.geometry,\n",
        "        color=plot_data.color',\n",
        "        legend=false,\n",
        "        axis=false,\n",
        "        ticks=false,\n",
        "        size=(800,450)\n",
        "    )\n",
        "end\n",
        "\n",
        "# Plot the results\n",
        "plot_area = visualize_departments(hexshape, X, p)"
      ],
      "id": "90b29ab9"
    },
    {
      "cell_type": "markdown",
      "metadata": {},
      "source": [
        "------------------------------------------------------------------------\n",
        "\n",
        "# 2. Ensuring District Connectivity\n",
        "\n",
        "The Police Chief has identified a critical flaw in the initial model:\n",
        "some police units would need to drive through other districts to reach\n",
        "parts of their own district! This creates jurisdictional issues and\n",
        "slower response times.\n",
        "\n",
        "Your challenge:\n",
        "\n",
        "-   Implement contiguity constraints to ensure each district is fully\n",
        "    connected\n",
        "-   Compare response times before and after adding these constraints\n",
        "-   Visualize the impact of your changes on the district map\n",
        "\n",
        "## Conditional Constraints\n",
        "\n",
        "Before we start, we will quickly repeat some basic concepts on\n",
        "constraints and conditions in JuMP. You can add conditions to\n",
        "constraints by using the `;` operator. This is useful if you want to add\n",
        "a constraint only under certain conditions. In the example below, the\n",
        "constraint is only active if the Euclidean distance between two BAs is\n",
        "less than 1.5."
      ],
      "id": "ccc15d12-9c03-4238-afd2-776f389fb2ef"
    },
    {
      "cell_type": "code",
      "execution_count": 9,
      "metadata": {},
      "outputs": [],
      "source": [
        "@constraint(model,\n",
        "    conditionalConstraint[\n",
        "        i=rangeDepartments,\n",
        "        j=rangeBAs;\n",
        "        euclidianDistances[i,j] < 1.5\n",
        "        ],\n",
        "    X[i,j] == 1\n",
        "    )"
      ],
      "id": "f3ed592c"
    },
    {
      "cell_type": "markdown",
      "metadata": {},
      "source": [
        "Furthermore,we can use conditions within constraints by using the `for`\n",
        "keyword. For example, in the constraint below, the sum is only taken\n",
        "over the BAs that are within 1.5 units of BA $i$."
      ],
      "id": "f71da047-4df9-470f-9679-9568309f0cec"
    },
    {
      "cell_type": "code",
      "execution_count": 10,
      "metadata": {},
      "outputs": [],
      "source": [
        "@constraint(model,\n",
        "    conditionalConstraint2[i=rangeDepartments],\n",
        "    sum(X[i,j] for j in rangeBAs if euclidianDistances[i,j] < 1.5) >= 1\n",
        "    )"
      ],
      "id": "90df3993"
    },
    {
      "cell_type": "markdown",
      "metadata": {},
      "source": [
        "------------------------------------------------------------------------\n",
        "\n",
        "## Extending the Model\n",
        "\n",
        "Now, we can start to extend the model. Add the contiguity constraint\n",
        "from the lecture to the model.\n",
        "\n",
        "> **Important**\n",
        ">\n",
        "> Take a careful look at the Euclidean distances, as you can use them to\n",
        "> determine if two BAs are adjacent to each other. If the distance\n",
        "> between two BAs is less than 1.5, then the BAs are adjacent to each\n",
        "> other. You can use this information to define the new constraint."
      ],
      "id": "0f2fda4b-7cd1-4430-9dd3-560a79cbc120"
    },
    {
      "cell_type": "code",
      "execution_count": 11,
      "metadata": {},
      "outputs": [],
      "source": [
        "# YOUR CODE BELOW"
      ],
      "id": "1f9bd57c"
    },
    {
      "cell_type": "markdown",
      "metadata": {},
      "source": [
        "Solve the model again, this time with the contiguity constraint."
      ],
      "id": "0a91a488-48c3-41cf-b877-fa5b6d10b853"
    },
    {
      "cell_type": "code",
      "execution_count": 12,
      "metadata": {},
      "outputs": [],
      "source": [
        "# YOUR CODE BELOW"
      ],
      "id": "80de48eb"
    },
    {
      "cell_type": "markdown",
      "metadata": {},
      "source": [
        "The following code prints the model status and visualizes the districts.\n",
        "If your implementation is correct, the districts should be contiguous\n",
        "and the model should have reached optimality or found a feasible\n",
        "solution before hitting the time limit."
      ],
      "id": "853a87dc-3147-4775-8d07-02b364d7f870"
    },
    {
      "cell_type": "code",
      "execution_count": 13,
      "metadata": {},
      "outputs": [],
      "source": [
        "print_model_status(pMedianModel)\n",
        "display(visualize_departments(hexshape, X, p))"
      ],
      "id": "973cf4f2"
    },
    {
      "cell_type": "markdown",
      "metadata": {},
      "source": [
        "------------------------------------------------------------------------\n",
        "\n",
        "## Compute the Gap\n",
        "\n",
        "Based on your results, what is the gap between the solution in the\n",
        "previous task and this task? Write a comment answering the question in\n",
        "cell below. You can also use the cell, to compute the gap based on the\n",
        "objective values."
      ],
      "id": "e879bec2-95a6-4445-a45b-e798f3fa8ffe"
    },
    {
      "cell_type": "code",
      "execution_count": 14,
      "metadata": {},
      "outputs": [],
      "source": [
        "#=\n",
        "\n",
        "\n",
        "\n",
        "=#"
      ],
      "id": "d497691b"
    },
    {
      "cell_type": "markdown",
      "metadata": {},
      "source": [
        "> **Tip**\n",
        ">\n",
        "> If you computer cannot determine the optimal solution, you can just\n",
        "> use the best solutions you found after both runs to compute the gap.\n",
        "\n",
        "------------------------------------------------------------------------\n",
        "\n",
        "# 3. Emergency Response Time Guarantees\n",
        "\n",
        "Hamburg’s City Council has mandated that high-priority emergencies must\n",
        "receive a response within 20 minutes. Your previous model doesn’t\n",
        "guarantee this! Your task: Implement maximum response time constraints.\n",
        "\n",
        "Extend your model by an additional parameter `max_driving_time = 20` to\n",
        "ensure that no allocation with a driving time $d_{i,j}$ higher than\n",
        "`max_driving_time` minutes from $i$ to $j$ is possible."
      ],
      "id": "4a9c2104-8e08-485a-bf8a-cf60680f3d4d"
    },
    {
      "cell_type": "code",
      "execution_count": 15,
      "metadata": {},
      "outputs": [],
      "source": [
        "# YOUR CODE BELOW"
      ],
      "id": "4779a13d"
    },
    {
      "cell_type": "markdown",
      "metadata": {},
      "source": [
        "> **Tip**\n",
        ">\n",
        "> Don’t confuse the `weightedDriving` matrix with the `drivingTimes`\n",
        "> matrix! The `weightedDriving` matrix contains the weighted driving\n",
        "> times, while the `drivingTimes` matrix contains the driving times.\n",
        "\n",
        "Again, solve the model."
      ],
      "id": "bc20cfc0-d2c2-44a0-b45e-4277f3793e9a"
    },
    {
      "cell_type": "code",
      "execution_count": 16,
      "metadata": {},
      "outputs": [],
      "source": [
        "# YOUR CODE BELOW"
      ],
      "id": "86a0d010"
    },
    {
      "cell_type": "markdown",
      "metadata": {},
      "source": [
        "The following code prints the model status and visualizes the districts.\n",
        "If your implementation is correct, the districts with previously longer\n",
        "driving times should have shrinked. Furthermore, the model should have\n",
        "reached optimality or found a feasible solution before hitting the time\n",
        "limit."
      ],
      "id": "706fa9a8-d992-46e7-91fc-f8f0240a11c6"
    },
    {
      "cell_type": "code",
      "execution_count": 17,
      "metadata": {},
      "outputs": [],
      "source": [
        "print_model_status(pMedianModel)\n",
        "display(visualize_departments(hexshape, X, p))"
      ],
      "id": "4635f537"
    },
    {
      "cell_type": "markdown",
      "metadata": {},
      "source": [
        "------------------------------------------------------------------------\n",
        "\n",
        "# 4. Planning for Peak Demand\n",
        "\n",
        "During major events or crime waves, districts need backup support from\n",
        "neighboring stations. The Police Union has emphasized this as a critical\n",
        "safety requirement for their officers. Your task: Design constraints\n",
        "ensuring each district has backup support within 20 minutes of the\n",
        "driving time."
      ],
      "id": "08bfbfe2-7473-4ede-8660-cd21d57ee667"
    },
    {
      "cell_type": "code",
      "execution_count": 18,
      "metadata": {},
      "outputs": [],
      "source": [
        "# YOUR CODE BELOW"
      ],
      "id": "b6d6afa3"
    },
    {
      "cell_type": "markdown",
      "metadata": {},
      "source": [
        "> **Tip**\n",
        ">\n",
        "> This is a rather complicated task, so don’t worry if you cannot find\n",
        "> the correct restriction. Try to come up with something or describe\n",
        "> your thoughts in comments if you do not find the correct restriction\n",
        "> or a way to implement it. If you are not sure, it often helps to start\n",
        "> on paper and to draw the districts and the BAs to find a way to\n",
        "> implement it.\n",
        "\n",
        "In case you came up with a solution, solve the model to optimize the\n",
        "layout of the districts."
      ],
      "id": "dfcaf7a8-f098-4e41-8ca6-b3a19c8f6dfb"
    },
    {
      "cell_type": "code",
      "execution_count": 19,
      "metadata": {},
      "outputs": [],
      "source": [
        "# YOUR CODE BELOW"
      ],
      "id": "b73daf6e"
    },
    {
      "cell_type": "markdown",
      "metadata": {},
      "source": [
        "If your implementation is correct, the districts are contiguous and\n",
        "distributed across the city. In addition, the model should have reached\n",
        "optimality or found a feasible solution before hitting the time limit."
      ],
      "id": "91f6f9e3-9531-43f1-8245-97face4cc016"
    },
    {
      "cell_type": "code",
      "execution_count": 20,
      "metadata": {},
      "outputs": [],
      "source": [
        "print_model_status(pMedianModel)\n",
        "display(visualize_departments(hexshape, X, p))"
      ],
      "id": "48e7ede0"
    },
    {
      "cell_type": "markdown",
      "metadata": {},
      "source": [
        "------------------------------------------------------------------------\n",
        "\n",
        "# Solutions\n",
        "\n",
        "You will likely find solutions to most exercises online. However, I\n",
        "strongly encourage you to work on these exercises independently without\n",
        "searching explicitly for the exact answers to the exercises.\n",
        "Understanding someone else’s solution is very different from developing\n",
        "your own. Use the lecture notes and try to solve the exercises on your\n",
        "own. This approach will significantly enhance your learning and\n",
        "problem-solving skills.\n",
        "\n",
        "Remember, the goal is not just to complete the exercises, but to\n",
        "understand the concepts and improve your programming abilities. If you\n",
        "encounter difficulties, review the lecture materials, experiment with\n",
        "different approaches, and don’t hesitate to ask for clarification during\n",
        "class discussions."
      ],
      "id": "4e994f83-207b-45c0-9d00-323a6cfc27f3"
    }
  ],
  "nbformat": 4,
  "nbformat_minor": 5,
  "metadata": {
    "kernelspec": {
      "name": "julia-ao-1.12",
      "display_name": "Julia-AO 1.12.0",
      "language": "julia",
      "path": "/Users/vlcek/Library/Jupyter/kernels/julia-ao-1.12"
    },
    "language_info": {
      "name": "julia",
      "file_extension": ".jl",
      "mimetype": "application/julia",
      "version": "1.12.0"
    }
  }
}