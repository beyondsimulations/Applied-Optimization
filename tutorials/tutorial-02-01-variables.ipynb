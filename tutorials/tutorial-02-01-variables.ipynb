{
  "cells": [
    {
      "cell_type": "markdown",
      "metadata": {},
      "source": [
        "# Tutorial II.I - Variables and Types\n",
        "\n",
        "Applied Optimization with Julia\n",
        "\n",
        "# Introduction\n",
        "\n",
        "Welcome to this interactive Julia tutorial which introduces the basics\n",
        "of variables and types. Understanding variables and their types is\n",
        "crucial as they are the building blocks of any program. They determine\n",
        "how data is stored, manipulated, and how efficiently your code runs.\n",
        "\n",
        "This script is designed to be interactive. Follow the instructions,\n",
        "write your code in the designated code blocks, and then execute the\n",
        "corresponding code. Each exercise is followed by an `@assert` statement\n",
        "that checks your solution.\n",
        "\n",
        "There are two ways to run the code:\n",
        "\n",
        "1.  Running Julia notebooks in VS Code\n",
        "2.  Running Julia notebooks in the browser\n",
        "\n",
        "## Julia in VS Code\n",
        "\n",
        "1.  First, install the Julia and the Jupyter Extension from the menu on\n",
        "    the left side.\n",
        "2.  Now you can open the downloaded `.ipynb` files but you can’t run\n",
        "    them yet!\n",
        "3.  Open the terminal and copy and paste the following code snippets:\n",
        "    -   `julia` (This will activate Julia)\n",
        "    -   `using Pkg`(This will load the package manager (more on this\n",
        "        later))\n",
        "    -   `Pkg.activate(\"applied-optimization\")`(This will activate an\n",
        "        environment for our course)\n",
        "    -   `Pkg.add(\"IJulia\")` (This will add IJulia - the support for\n",
        "        notebooks - to the environment)\n",
        "    -   `using IJulia` (This will tell the system to load IJulia for the\n",
        "        session)\n",
        "4.  On the right side in the upper corner click there is a button saying\n",
        "    something like “Julia Release Channel” or “Pick kernel”. Click this\n",
        "    button.\n",
        "5.  Now, select the field “Select another kernel”, click it, and then\n",
        "    select “Jupyter Kernel”\n",
        "6.  Finally, select the Julia kernel which contains the word\n",
        "    applied-optimization.\n",
        "\n",
        "> **Note**\n",
        ">\n",
        "> Sorry, that this start is rather complicated. But in following this,\n",
        "> we have a clean environment we can work in and you basically cannot\n",
        "> break anything with the installation of packages.\n",
        "\n",
        "> **Tip**\n",
        ">\n",
        "> Activating an environment creates some files in your folder. These\n",
        "> essentially save which packages our environment needs to work\n",
        "> properly.\n",
        "\n",
        "## Julia in the Browser\n",
        "\n",
        "1.  First, follow steps 1 to 3 from the previous section to install\n",
        "    IJulia.\n",
        "2.  Now, each time you want to start it from the terminal open a new\n",
        "    terminal first.\n",
        "3.  Then, use the following code snippets:\n",
        "    -   `julia` (This will activate Julia (again) in the terminal)\n",
        "    -   `using Pkg`(This will load the package manager first, which\n",
        "        allows us to load the environment\n",
        "    -   `Pkg.activate(\"applied-optimization\")`(This will activate our\n",
        "        created environment)\n",
        "    -   `using IJulia; notebook()` (This will load the web browser with\n",
        "        IJulia for you)\n",
        "4.  Now, in the browser you can open the `.ipynb` files.\n",
        "5.  To run a file, select the correct kernel on the right side (contains\n",
        "    “applied-optimization”)\n",
        "\n",
        "> **Note**\n",
        ">\n",
        "> Always replace ‘YOUR CODE BELOW’ with your actual code.\n",
        "\n",
        "------------------------------------------------------------------------\n",
        "\n",
        "# Section 1 - Variables\n",
        "\n",
        "Think of variables as labeled containers. Just like you might label a\n",
        "box “Books” to store books, in programming we label our data with\n",
        "variable names. For example:"
      ],
      "id": "59579aca-a640-46f0-ae67-758680acac92"
    },
    {
      "cell_type": "code",
      "execution_count": 2,
      "metadata": {},
      "outputs": [
        {
          "output_type": "display_data",
          "metadata": {},
          "data": {
            "text/plain": [
              "30"
            ]
          }
        }
      ],
      "source": [
        "age = 30        # A box labeled \"age\" containing the number 30"
      ],
      "id": "64f6dc6f"
    },
    {
      "cell_type": "code",
      "execution_count": 3,
      "metadata": {},
      "outputs": [
        {
          "output_type": "display_data",
          "metadata": {},
          "data": {
            "text/plain": [
              "\"Tobias\""
            ]
          }
        }
      ],
      "source": [
        "name = \"Tobias\"  # A box labeled \"name\" containing the text \"Tobias\""
      ],
      "id": "855b194f"
    },
    {
      "cell_type": "markdown",
      "metadata": {},
      "source": [
        "## Exercise 1.1 - Declare a Variable\n",
        "\n",
        "Declare a variable named `x` and assign it the value `1`."
      ],
      "id": "0dd408c0-b461-4539-885d-fb32d637c331"
    },
    {
      "cell_type": "code",
      "execution_count": 4,
      "metadata": {},
      "outputs": [],
      "source": [
        "# YOUR CODE BELOW"
      ],
      "id": "e168aef2"
    },
    {
      "cell_type": "code",
      "execution_count": 5,
      "metadata": {},
      "outputs": [],
      "source": [
        "# Test your answer\n",
        "@assert x == 1 \"Check again, the value of x should be 1. Remember to assign the value directly to x.\"\n",
        "println(\"Great, you have correctly assigned the value $x to the variable 'x'.\")"
      ],
      "id": "3977e36c"
    },
    {
      "cell_type": "markdown",
      "metadata": {},
      "source": [
        "## Exercise 1.2 - Declare a String Variable\n",
        "\n",
        "Declare a variable named `hi` and assign it the string\n",
        "`\"Hello, Optimization!\"`."
      ],
      "id": "8983f739-bbcf-4add-9bf4-e1ecb349c22d"
    },
    {
      "cell_type": "code",
      "execution_count": 6,
      "metadata": {},
      "outputs": [],
      "source": [
        "# YOUR CODE BELOW"
      ],
      "id": "ac9dbfe2"
    },
    {
      "cell_type": "code",
      "execution_count": 7,
      "metadata": {},
      "outputs": [],
      "source": [
        "# Test your answer\n",
        "@assert hi == \"Hello, Optimization!\" \"Make sure the variable 'hi' contains the exact string \\\"Hello, Optimization\\\"!\"\n",
        "println(\"Good, the variable 'hi' now states \\\"$hi\\\".\")"
      ],
      "id": "6d3dd471"
    },
    {
      "cell_type": "markdown",
      "metadata": {},
      "source": [
        "------------------------------------------------------------------------\n",
        "\n",
        "# Section 2 - Basic Types\n",
        "\n",
        "Just like real containers come in different types (like boxes for books,\n",
        "refrigerators for food, etc.), variables in Julia have different types\n",
        "depending on what they store:\n",
        "\n",
        "-   Integers (Int): Whole numbers like `1`, `42`, `-10`\n",
        "-   Floats (Float64): Numbers with decimal points like `3.14`, `-0.5`\n",
        "-   Booleans (Bool): True/false values like `true`, `false`\n",
        "-   Strings (String): Text in quotes like `\"Hello\"`\n",
        "\n",
        "You can check what type of “container” a variable is using `typeof()`.\n",
        "Try this:"
      ],
      "id": "de37a4bf-b269-4e80-90fc-5162d3fa352f"
    },
    {
      "cell_type": "code",
      "execution_count": 8,
      "metadata": {},
      "outputs": [
        {
          "output_type": "display_data",
          "metadata": {},
          "data": {
            "text/plain": [
              "Int64"
            ]
          }
        }
      ],
      "source": [
        "age = 25\n",
        "typeof(age)     # Will show Int64 (integer type)"
      ],
      "id": "0d1110d4"
    },
    {
      "cell_type": "code",
      "execution_count": 9,
      "metadata": {},
      "outputs": [
        {
          "output_type": "display_data",
          "metadata": {},
          "data": {
            "text/plain": [
              "Float64"
            ]
          }
        }
      ],
      "source": [
        "price = 19.99\n",
        "typeof(price)   # Will show Float64 (decimal number type)"
      ],
      "id": "6f737661"
    },
    {
      "cell_type": "markdown",
      "metadata": {},
      "source": [
        "## Exercise 2.1 - Create an Integer Variable\n",
        "\n",
        "Create an Integer variable `answerUniverse` and set it to `42`."
      ],
      "id": "59dad978-829d-40f1-814d-8b64a24048d0"
    },
    {
      "cell_type": "code",
      "execution_count": 10,
      "metadata": {},
      "outputs": [],
      "source": [
        "# YOUR CODE BELOW"
      ],
      "id": "ac719386"
    },
    {
      "cell_type": "code",
      "execution_count": 11,
      "metadata": {},
      "outputs": [],
      "source": [
        "# Test your answer\n",
        "@assert answerUniverse == 42 \"The variable 'answerUniverse' should hold 42.\"\n",
        "println(\"Great, the answer to all questions on the universe is $answerUniverse now.\")"
      ],
      "id": "f1afdc7f"
    },
    {
      "cell_type": "markdown",
      "metadata": {},
      "source": [
        "## Exercise 2.2 - Create a Float Variable\n",
        "\n",
        "Create a Float variable `money` and set it to `1.35`."
      ],
      "id": "5b8ce5e0-d4d6-4cd3-8c63-6c4678e3054f"
    },
    {
      "cell_type": "code",
      "execution_count": 12,
      "metadata": {},
      "outputs": [],
      "source": [
        "# YOUR CODE BELOW"
      ],
      "id": "a795744d"
    },
    {
      "cell_type": "code",
      "execution_count": 13,
      "metadata": {},
      "outputs": [],
      "source": [
        "# Test your answer\n",
        "@assert money == 1.35 \"The variable 'money' should hold the Float64 1.35.\"\n",
        "println(\"Perfect, the you have stored $money in the variable 'money'.\")"
      ],
      "id": "af2beaf2"
    },
    {
      "cell_type": "markdown",
      "metadata": {},
      "source": [
        "## Exercise 2.3 - Create a Boolean Variable\n",
        "\n",
        "Create a Boolean variable `isStudent` and set it to `true`."
      ],
      "id": "8afb82a7-9e3e-40cb-88fc-38be3ffc4178"
    },
    {
      "cell_type": "code",
      "execution_count": 14,
      "metadata": {},
      "outputs": [],
      "source": [
        "# YOUR CODE BELOW"
      ],
      "id": "befd1a78"
    },
    {
      "cell_type": "code",
      "execution_count": 15,
      "metadata": {},
      "outputs": [],
      "source": [
        "# Test your answer\n",
        "@assert isStudent == true \"The variable 'isStudent' should be set to true.\"\n",
        "println(\"Correct, you are a student now.\")"
      ],
      "id": "7acdf3ee"
    },
    {
      "cell_type": "markdown",
      "metadata": {},
      "source": [
        "------------------------------------------------------------------------\n",
        "\n",
        "# Section 3 - Type Annotations and Inference\n",
        "\n",
        "Sometimes we want to specify exactly what kind of “container” we want to\n",
        "use. In Julia, we can do this using type annotations:"
      ],
      "id": "2fea8414-3242-4945-9670-390689c1946d"
    },
    {
      "cell_type": "code",
      "execution_count": 16,
      "metadata": {},
      "outputs": [
        {
          "output_type": "display_data",
          "metadata": {},
          "data": {
            "text/plain": [
              "98.6"
            ]
          }
        }
      ],
      "source": [
        "temperature::Float64 = 98.6    # Specifically saying we want a decimal number"
      ],
      "id": "f2776924"
    },
    {
      "cell_type": "code",
      "execution_count": 17,
      "metadata": {},
      "outputs": [
        {
          "output_type": "display_data",
          "metadata": {},
          "data": {
            "text/plain": [
              "100"
            ]
          }
        }
      ],
      "source": [
        "count::Int64 = 100            # Specifically saying we want a whole number"
      ],
      "id": "c2d4ceef"
    },
    {
      "cell_type": "markdown",
      "metadata": {},
      "source": [
        "## Exercise 3.1 - Type Annotation\n",
        "\n",
        "Declare a variable `y` with an explicit type annotation of `Int64` and\n",
        "assign it the value `5`."
      ],
      "id": "cbc33990-f504-4abb-ae90-8c47869d8bcc"
    },
    {
      "cell_type": "code",
      "execution_count": 18,
      "metadata": {},
      "outputs": [],
      "source": [
        "# YOUR CODE BELOW"
      ],
      "id": "0c8d306c"
    },
    {
      "cell_type": "code",
      "execution_count": 19,
      "metadata": {},
      "outputs": [],
      "source": [
        "# Test your answer\n",
        "@assert y == 5 && typeof(y) == Int64 \"Make sure 'y' is of type Int64 and has the value 5.\"\n",
        "println(\"Great! You've created an Int64 variable 'y' with the value $y.\")"
      ],
      "id": "8188a07a"
    },
    {
      "cell_type": "markdown",
      "metadata": {},
      "source": [
        "------------------------------------------------------------------------\n",
        "\n",
        "# Section 4 - String Interpolation\n",
        "\n",
        "String interpolation is like filling in blanks in a sentence. Instead of\n",
        "writing:"
      ],
      "id": "46bb2310-ab2f-4c4e-876a-7233aa2ee6d3"
    },
    {
      "cell_type": "code",
      "execution_count": 20,
      "metadata": {},
      "outputs": [
        {
          "output_type": "display_data",
          "metadata": {},
          "data": {
            "text/plain": [
              "\"My name is Tobias and I am 30 years old\""
            ]
          }
        }
      ],
      "source": [
        "name = \"Tobias\"\n",
        "age = 30\n",
        "# The hard way:\n",
        "message = \"My name is \" * name * \" and I am \" * string(age) * \" years old\""
      ],
      "id": "72852660"
    },
    {
      "cell_type": "markdown",
      "metadata": {},
      "source": [
        "We can use the `$` symbol to insert variables directly into our text:"
      ],
      "id": "ecb19c73-8bd2-46ee-b60f-56715a1f2e04"
    },
    {
      "cell_type": "code",
      "execution_count": 21,
      "metadata": {},
      "outputs": [
        {
          "output_type": "display_data",
          "metadata": {},
          "data": {
            "text/plain": [
              "\"My name is Tobias and I am 30 years old\""
            ]
          }
        }
      ],
      "source": [
        "message = \"My name is $name and I am $age years old\""
      ],
      "id": "ed67f150"
    },
    {
      "cell_type": "markdown",
      "metadata": {},
      "source": [
        "It’s like having a template where Julia automatically fills in the\n",
        "values for you! If you have paid attention to the previous excercise,\n",
        "you have already seen this in action. The following example illustrates\n",
        "this again:"
      ],
      "id": "116e069f-24be-4188-b878-cd03c17768ca"
    },
    {
      "cell_type": "code",
      "execution_count": 22,
      "metadata": {},
      "outputs": [
        {
          "output_type": "stream",
          "name": "stdout",
          "text": [
            "I'm learning Julia"
          ]
        }
      ],
      "source": [
        "language = \"Julia\"\n",
        "println(\"I'm learning $language\")"
      ],
      "id": "ca928f55"
    },
    {
      "cell_type": "markdown",
      "metadata": {},
      "source": [
        "## Exercise 4.1 - String Interpolation\n",
        "\n",
        "Create a string `message` that says `\"y is [value of y]\"` using string\n",
        "interpolation."
      ],
      "id": "39311a53-47af-4473-bfd4-c558283f3546"
    },
    {
      "cell_type": "code",
      "execution_count": 23,
      "metadata": {},
      "outputs": [],
      "source": [
        "# YOUR CODE BELOW"
      ],
      "id": "3c7d12a0"
    },
    {
      "cell_type": "code",
      "execution_count": 24,
      "metadata": {},
      "outputs": [],
      "source": [
        "# Test your answer\n",
        "@assert message == \"y is 5\" \"Make sure your string includes the correct value of y.\"\n",
        "println(\"Excellent! Your interpolated string is: $message\")"
      ],
      "id": "af27ce3f"
    },
    {
      "cell_type": "markdown",
      "metadata": {},
      "source": [
        "------------------------------------------------------------------------\n",
        "\n",
        "# Conclusion\n",
        "\n",
        "Congratulations! You have completed the first tutorial on Variables and\n",
        "Types. You’ve learned about the basics of variables, integers, floats,\n",
        "booleans, and strings. Continue to the next file to learn more.\n",
        "\n",
        "# Solutions\n",
        "\n",
        "You will likely find solutions to most exercises online. However, I\n",
        "strongly encourage you to work on these exercises independently without\n",
        "searching explicitly for the exact answers to the exercises.\n",
        "Understanding someone else’s solution is very different from developing\n",
        "your own. Use the lecture notes and try to solve the exercises on your\n",
        "own. This approach will significantly enhance your learning and\n",
        "problem-solving skills.\n",
        "\n",
        "Remember, the goal is not just to complete the exercises, but to\n",
        "understand the concepts and improve your programming abilities. If you\n",
        "encounter difficulties, review the lecture materials, experiment with\n",
        "different approaches, and don’t hesitate to ask for clarification during\n",
        "class discussions."
      ],
      "id": "d6d6abd7-9038-40e0-acd0-107237f5790a"
    }
  ],
  "nbformat": 4,
  "nbformat_minor": 5,
  "metadata": {
    "kernelspec": {
      "name": "julia-ao-1.12",
      "display_name": "Julia-AO 1.12.0",
      "language": "julia",
      "path": "/Users/vlcek/Library/Jupyter/kernels/julia-ao-1.12"
    },
    "language_info": {
      "name": "julia",
      "file_extension": ".jl",
      "mimetype": "application/julia",
      "version": "1.12.0"
    }
  }
}