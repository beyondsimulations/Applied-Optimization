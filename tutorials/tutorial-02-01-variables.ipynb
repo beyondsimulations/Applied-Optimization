{
  "cells": [
    {
      "cell_type": "markdown",
      "metadata": {},
      "source": [
        "# Tutorial II.I - Variables and Types\n",
        "\n",
        "Applied Optimization with Julia\n",
        "\n",
        "# Introduction\n",
        "\n",
        "Welcome to this interactive Julia tutorial which introduces the basics\n",
        "of variables and types. Understanding variables and their types is\n",
        "crucial as they are the building blocks of any program. They determine\n",
        "how data is stored, manipulated, and how efficiently your code runs.\n",
        "\n",
        "This script is designed to be interactive. Follow the instructions,\n",
        "write your code in the designated code blocks, and then execute the\n",
        "corresponding code. Each exercise is followed by an `@assert` statement\n",
        "that checks your solution.\n",
        "\n",
        "## Julia in VS Code\n",
        "\n",
        "1.  First, install the\n",
        "    [Julia](https://marketplace.visualstudio.com/items?itemName=julialang.language-julia)\n",
        "    and the [Jupyter\n",
        "    Extension](https://marketplace.visualstudio.com/items?itemName=ms-toolsai.jupyter)\n",
        "    from the extensions menu on the left side.\n",
        "\n",
        "2.  Install the [Jupytext for Notebooks\n",
        "    Extension](https://marketplace.visualstudio.com/items?itemName=congyiwu.vscode-jupytext)\n",
        "\n",
        "3.  Open VS Code and navigate to the folder where you want to save all\n",
        "    the files for this course.\n",
        "\n",
        "4.  Open the terminal in VS Code (Terminal → New Terminal) and run:\n",
        "\n",
        "        julia --project=applied-optimization\n",
        "\n",
        "    This starts Julia with the course project environment.\n",
        "\n",
        "5.  In the Julia REPL that opens, run:\n",
        "\n",
        "    ``` julia\n",
        "    using Pkg\n",
        "    Pkg.instantiate()  # Initialize the project\n",
        "    Pkg.add(\"IJulia\")  # Add IJulia to the environment\n",
        "    ```\n",
        "\n",
        "6.  Still in Julia, run:\n",
        "\n",
        "    ``` julia\n",
        "    using IJulia\n",
        "    IJulia.installkernel(\"Applied Optimization\", \"--project=applied-optimization\")\n",
        "    ```\n",
        "\n",
        "    This creates a Jupyter kernel that uses the course environment.\n",
        "\n",
        "7.  Type `exit()` or press Ctrl+D to exit the Julia REPL.\n",
        "\n",
        "8.  Download the first notebook from the course website and save it in\n",
        "    your course folder. I recommend to download the `.jl` Julia files by\n",
        "    clicking on Julia. If these don’t work, download the `.ipynb` files\n",
        "    by clicking on Jupyter on the course website.\n",
        "\n",
        "9.  If you work with `.jl` files, right-click on any dowloaded `.jl`\n",
        "    file and select “Open with Jupyter Notebook”. If you work with\n",
        "    `.ipynb` files, just open the file and you are good to go.\n",
        "\n",
        "10. Click the kernel selector (top-right corner) and choose “Applied\n",
        "    Optimization” from the list.\n",
        "\n",
        "> **Warning**\n",
        ">\n",
        "> Sorry, that this start is rather complicated. But in following this,\n",
        "> we have a clean environment we can work in and you basically cannot\n",
        "> break anything with the installation of packages. If you use `.jl`\n",
        "> files your files are saved as `.jl` file while also being a notebook\n",
        "> which is great for Git version control (Git)! If you use `.ipynb`,\n",
        "> it’s fine as well, although version control of notebooks does not work\n",
        "> so good.\n",
        "\n",
        "> **Note**\n",
        ">\n",
        "> These steps ensure you’re working in the correct Julia environment\n",
        "> with all course dependencies. The `--project=.` flag tells Julia to\n",
        "> use the `Project.toml` file in the current directory, keeping all\n",
        "> packages organized and avoiding conflicts.\n",
        "\n",
        "------------------------------------------------------------------------\n",
        "\n",
        "# Section 1 - Variables\n",
        "\n",
        "Think of variables as labeled containers. Just like you might label a\n",
        "box “Books” to store books, in programming we label our data with\n",
        "variable names. For example:"
      ],
      "id": "9f30a6bd-01fd-435e-bc02-e49fd8ec919a"
    },
    {
      "cell_type": "code",
      "execution_count": 2,
      "metadata": {},
      "outputs": [
        {
          "output_type": "display_data",
          "metadata": {},
          "data": {
            "text/plain": [
              "30"
            ]
          }
        }
      ],
      "source": [
        "age = 30        # A box labeled \"age\" containing the number 30"
      ],
      "id": "6a69a727"
    },
    {
      "cell_type": "code",
      "execution_count": 3,
      "metadata": {},
      "outputs": [
        {
          "output_type": "display_data",
          "metadata": {},
          "data": {
            "text/plain": [
              "\"Tobias\""
            ]
          }
        }
      ],
      "source": [
        "name = \"Tobias\"  # A box labeled \"name\" containing the text \"Tobias\""
      ],
      "id": "83e0371b"
    },
    {
      "cell_type": "markdown",
      "metadata": {},
      "source": [
        "## Exercise 1.1 - Declare a Variable\n",
        "\n",
        "Declare a variable named `x` and assign it the value `1`."
      ],
      "id": "768d0c84-09d2-4a37-be93-3c378abaeb3d"
    },
    {
      "cell_type": "code",
      "execution_count": 4,
      "metadata": {},
      "outputs": [],
      "source": [
        "# YOUR CODE BELOW"
      ],
      "id": "41d2f704"
    },
    {
      "cell_type": "code",
      "execution_count": 5,
      "metadata": {},
      "outputs": [],
      "source": [
        "# Test your answer\n",
        "@assert x == 1 \"Check again, the value of x should be 1. Remember to assign the value directly to x.\"\n",
        "println(\"Great, you have correctly assigned the value $x to the variable 'x'.\")"
      ],
      "id": "089674e6"
    },
    {
      "cell_type": "markdown",
      "metadata": {},
      "source": [
        "> **Note**\n",
        ">\n",
        "> Always replace ‘YOUR CODE BELOW’ with your actual code.\n",
        "\n",
        "## Exercise 1.2 - Declare a String Variable\n",
        "\n",
        "Declare a variable named `hi` and assign it the string\n",
        "`\"Hello, Optimization!\"`."
      ],
      "id": "69044123-e50e-4b4d-9a4d-94b11834914c"
    },
    {
      "cell_type": "code",
      "execution_count": 6,
      "metadata": {},
      "outputs": [],
      "source": [
        "# YOUR CODE BELOW"
      ],
      "id": "26723c0e"
    },
    {
      "cell_type": "code",
      "execution_count": 7,
      "metadata": {},
      "outputs": [],
      "source": [
        "# Test your answer\n",
        "@assert hi == \"Hello, Optimization!\" \"Make sure the variable 'hi' contains the exact string \\\"Hello, Optimization\\\"!\"\n",
        "println(\"Good, the variable 'hi' now states \\\"$hi\\\".\")"
      ],
      "id": "e9577860"
    },
    {
      "cell_type": "markdown",
      "metadata": {},
      "source": [
        "------------------------------------------------------------------------\n",
        "\n",
        "# Section 2 - Basic Types\n",
        "\n",
        "Just like real containers come in different types (like boxes for books,\n",
        "refrigerators for food, etc.), variables in Julia have different types\n",
        "depending on what they store:\n",
        "\n",
        "-   Integers (Int): Whole numbers like `1`, `42`, `-10`\n",
        "-   Floats (Float64): Numbers with decimal points like `3.14`, `-0.5`\n",
        "-   Booleans (Bool): True/false values like `true`, `false`\n",
        "-   Strings (String): Text in quotes like `\"Hello\"`\n",
        "\n",
        "You can check what type of “container” a variable is using `typeof()`.\n",
        "Try this:"
      ],
      "id": "95707617-ebd6-4767-9219-141d0af5583e"
    },
    {
      "cell_type": "code",
      "execution_count": 8,
      "metadata": {},
      "outputs": [
        {
          "output_type": "display_data",
          "metadata": {},
          "data": {
            "text/plain": [
              "Int64"
            ]
          }
        }
      ],
      "source": [
        "age = 25\n",
        "typeof(age)     # Will show Int64 (integer type)"
      ],
      "id": "3643ef39"
    },
    {
      "cell_type": "code",
      "execution_count": 9,
      "metadata": {},
      "outputs": [
        {
          "output_type": "display_data",
          "metadata": {},
          "data": {
            "text/plain": [
              "Float64"
            ]
          }
        }
      ],
      "source": [
        "price = 19.99\n",
        "typeof(price)   # Will show Float64 (decimal number type)"
      ],
      "id": "bc970b22"
    },
    {
      "cell_type": "markdown",
      "metadata": {},
      "source": [
        "## Exercise 2.1 - Create an Integer Variable\n",
        "\n",
        "Create an Integer variable `answerUniverse` and set it to `42`."
      ],
      "id": "91a1cf1a-6b7d-494b-afc0-a9a6094c4b12"
    },
    {
      "cell_type": "code",
      "execution_count": 10,
      "metadata": {},
      "outputs": [],
      "source": [
        "# YOUR CODE BELOW"
      ],
      "id": "60e596a3"
    },
    {
      "cell_type": "code",
      "execution_count": 11,
      "metadata": {},
      "outputs": [],
      "source": [
        "# Test your answer\n",
        "@assert answerUniverse == 42 \"The variable 'answerUniverse' should hold 42.\"\n",
        "println(\"Great, the answer to all questions on the universe is $answerUniverse now.\")"
      ],
      "id": "f9b8eafe"
    },
    {
      "cell_type": "markdown",
      "metadata": {},
      "source": [
        "## Exercise 2.2 - Create a Float Variable\n",
        "\n",
        "Create a Float variable `money` and set it to `1.35`."
      ],
      "id": "76fbcdd0-bca3-4357-a320-94852fa5b8db"
    },
    {
      "cell_type": "code",
      "execution_count": 12,
      "metadata": {},
      "outputs": [],
      "source": [
        "# YOUR CODE BELOW"
      ],
      "id": "d8499d30"
    },
    {
      "cell_type": "code",
      "execution_count": 13,
      "metadata": {},
      "outputs": [],
      "source": [
        "# Test your answer\n",
        "@assert money == 1.35 \"The variable 'money' should hold the Float64 1.35.\"\n",
        "println(\"Perfect, the you have stored $money in the variable 'money'.\")"
      ],
      "id": "c89c88d5"
    },
    {
      "cell_type": "markdown",
      "metadata": {},
      "source": [
        "## Exercise 2.3 - Create a Boolean Variable\n",
        "\n",
        "Create a Boolean variable `isStudent` and set it to `true`."
      ],
      "id": "9b19e508-51e0-4e6a-9760-2e98381506fe"
    },
    {
      "cell_type": "code",
      "execution_count": 14,
      "metadata": {},
      "outputs": [],
      "source": [
        "# YOUR CODE BELOW"
      ],
      "id": "e70ab642"
    },
    {
      "cell_type": "code",
      "execution_count": 15,
      "metadata": {},
      "outputs": [],
      "source": [
        "# Test your answer\n",
        "@assert isStudent == true \"The variable 'isStudent' should be set to true.\"\n",
        "println(\"Correct, you are a student now.\")"
      ],
      "id": "3b063286"
    },
    {
      "cell_type": "markdown",
      "metadata": {},
      "source": [
        "------------------------------------------------------------------------\n",
        "\n",
        "# Section 3 - Type Annotations and Inference\n",
        "\n",
        "Sometimes we want to specify exactly what kind of “container” we want to\n",
        "use. In Julia, we can do this using type annotations:"
      ],
      "id": "1419c699-c24e-4d4c-bcec-b122e62c4295"
    },
    {
      "cell_type": "code",
      "execution_count": 16,
      "metadata": {},
      "outputs": [
        {
          "output_type": "display_data",
          "metadata": {},
          "data": {
            "text/plain": [
              "98.6"
            ]
          }
        }
      ],
      "source": [
        "temperature::Float64 = 98.6    # Specifically saying we want a decimal number"
      ],
      "id": "44acff43"
    },
    {
      "cell_type": "code",
      "execution_count": 17,
      "metadata": {},
      "outputs": [
        {
          "output_type": "display_data",
          "metadata": {},
          "data": {
            "text/plain": [
              "100"
            ]
          }
        }
      ],
      "source": [
        "count::Int64 = 100            # Specifically saying we want a whole number"
      ],
      "id": "33bb78c0"
    },
    {
      "cell_type": "markdown",
      "metadata": {},
      "source": [
        "## Exercise 3.1 - Type Annotation\n",
        "\n",
        "Declare a variable `y` with an explicit type annotation of `Int64` and\n",
        "assign it the value `5`."
      ],
      "id": "7341c9e7-4b04-4fec-a05f-2ba52f7a6042"
    },
    {
      "cell_type": "code",
      "execution_count": 18,
      "metadata": {},
      "outputs": [],
      "source": [
        "# YOUR CODE BELOW"
      ],
      "id": "54c41d2a"
    },
    {
      "cell_type": "code",
      "execution_count": 19,
      "metadata": {},
      "outputs": [],
      "source": [
        "# Test your answer\n",
        "@assert y == 5 && typeof(y) == Int64 \"Make sure 'y' is of type Int64 and has the value 5.\"\n",
        "println(\"Great! You've created an Int64 variable 'y' with the value $y.\")"
      ],
      "id": "961d8978"
    },
    {
      "cell_type": "markdown",
      "metadata": {},
      "source": [
        "------------------------------------------------------------------------\n",
        "\n",
        "# Section 4 - String Interpolation\n",
        "\n",
        "String interpolation is like filling in blanks in a sentence. Instead of\n",
        "writing:"
      ],
      "id": "87a2c54e-51f9-4d77-8b1b-eaf67d6201ee"
    },
    {
      "cell_type": "code",
      "execution_count": 20,
      "metadata": {},
      "outputs": [
        {
          "output_type": "display_data",
          "metadata": {},
          "data": {
            "text/plain": [
              "\"My name is Tobias and I am 30 years old\""
            ]
          }
        }
      ],
      "source": [
        "name = \"Tobias\"\n",
        "age = 30\n",
        "# The hard way:\n",
        "message = \"My name is \" * name * \" and I am \" * string(age) * \" years old\""
      ],
      "id": "093f2da3"
    },
    {
      "cell_type": "markdown",
      "metadata": {},
      "source": [
        "We can use the `$` symbol to insert variables directly into our text:"
      ],
      "id": "5f310558-80bc-4ed4-b64d-c2ee65463299"
    },
    {
      "cell_type": "code",
      "execution_count": 21,
      "metadata": {},
      "outputs": [
        {
          "output_type": "display_data",
          "metadata": {},
          "data": {
            "text/plain": [
              "\"My name is Tobias and I am 30 years old\""
            ]
          }
        }
      ],
      "source": [
        "message = \"My name is $name and I am $age years old\""
      ],
      "id": "11dc90ab"
    },
    {
      "cell_type": "markdown",
      "metadata": {},
      "source": [
        "It’s like having a template where Julia automatically fills in the\n",
        "values for you! If you have paid attention to the previous excercise,\n",
        "you have already seen this in action. The following example illustrates\n",
        "this again:"
      ],
      "id": "79e4fe4b-4f6f-495b-925c-c8179386d896"
    },
    {
      "cell_type": "code",
      "execution_count": 22,
      "metadata": {},
      "outputs": [
        {
          "output_type": "stream",
          "name": "stdout",
          "text": [
            "I'm learning Julia"
          ]
        }
      ],
      "source": [
        "language = \"Julia\"\n",
        "println(\"I'm learning $language\")"
      ],
      "id": "2eb5a4f7"
    },
    {
      "cell_type": "markdown",
      "metadata": {},
      "source": [
        "## Exercise 4.1 - String Interpolation\n",
        "\n",
        "Create a string `message` that says `\"y is [value of y]\"` using string\n",
        "interpolation."
      ],
      "id": "10b84309-49c9-429a-b8c8-331ae4bf557f"
    },
    {
      "cell_type": "code",
      "execution_count": 23,
      "metadata": {},
      "outputs": [],
      "source": [
        "# YOUR CODE BELOW"
      ],
      "id": "a87be5ba"
    },
    {
      "cell_type": "code",
      "execution_count": 24,
      "metadata": {},
      "outputs": [],
      "source": [
        "# Test your answer\n",
        "@assert message == \"y is 5\" \"Make sure your string includes the correct value of y.\"\n",
        "println(\"Excellent! Your interpolated string is: $message\")"
      ],
      "id": "7a097136"
    },
    {
      "cell_type": "markdown",
      "metadata": {},
      "source": [
        "------------------------------------------------------------------------\n",
        "\n",
        "# Conclusion\n",
        "\n",
        "Congratulations! You have completed the first tutorial on Variables and\n",
        "Types. You’ve learned about the basics of variables, integers, floats,\n",
        "booleans, and strings. Continue to the next file to learn more.\n",
        "\n",
        "# Solutions\n",
        "\n",
        "You will likely find solutions to most exercises online. However, I\n",
        "strongly encourage you to work on these exercises independently without\n",
        "searching explicitly for the exact answers to the exercises.\n",
        "Understanding someone else’s solution is very different from developing\n",
        "your own. Use the lecture notes and try to solve the exercises on your\n",
        "own. This approach will significantly enhance your learning and\n",
        "problem-solving skills.\n",
        "\n",
        "Remember, the goal is not just to complete the exercises, but to\n",
        "understand the concepts and improve your programming abilities. If you\n",
        "encounter difficulties, review the lecture materials, experiment with\n",
        "different approaches, and don’t hesitate to ask for clarification during\n",
        "class discussions."
      ],
      "id": "de6357f5-a0ab-4047-90ab-97cec642d248"
    }
  ],
  "nbformat": 4,
  "nbformat_minor": 5,
  "metadata": {
    "kernelspec": {
      "name": "julia-ao-1.12",
      "display_name": "Julia-AO 1.12.0",
      "language": "julia",
      "path": "/Users/vlcek/Library/Jupyter/kernels/julia-ao-1.12"
    },
    "language_info": {
      "name": "julia",
      "file_extension": ".jl",
      "mimetype": "application/julia",
      "version": "1.12.0"
    }
  }
}