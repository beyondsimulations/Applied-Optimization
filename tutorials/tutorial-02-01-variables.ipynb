{
  "cells": [
    {
      "cell_type": "markdown",
      "metadata": {},
      "source": [
        "# Tutorial II.I - Variables and Types\n",
        "\n",
        "Applied Optimization with Julia\n",
        "\n",
        "# Introduction\n",
        "\n",
        "Welcome to this interactive Julia tutorial which introduces the basics\n",
        "of variables and types. Understanding variables and their types is\n",
        "crucial as they are the building blocks of any program. They determine\n",
        "how data is stored, manipulated, and how efficiently your code runs.\n",
        "\n",
        "This script is designed to be interactive. Follow the instructions,\n",
        "write your code in the designated code blocks, and then execute the\n",
        "corresponding code. Each exercise is followed by an `@assert` statement\n",
        "that checks your solution.\n",
        "\n",
        "There are two ways to run the code:\n",
        "\n",
        "1.  The easiest way to run the code is by using VS Code. First, install\n",
        "    the Julia and the Jupyter Extension. Then, you can open the\n",
        "    downloaded `.ipynb` files and run the code from there.\n",
        "\n",
        "2.  The second way is by using IJulia. Start Julia, and type\n",
        "    `using IJulia; notebook()` in the Julia prompt. This will open a new\n",
        "    browser window where you can run the code. If you have not installed\n",
        "    IJulia yet, you can do so by typing `]` in the Julia prompt to open\n",
        "    the package manager, and then installing IJulia by typing\n",
        "    `add IJulia`.\n",
        "\n",
        "> **Note**\n",
        ">\n",
        "> Always replace ‘YOUR CODE BELOW’ with your actual code.\n",
        "\n",
        "------------------------------------------------------------------------\n",
        "\n",
        "# Section 1 - Variables\n",
        "\n",
        "Think of variables as labeled containers. Just like you might label a\n",
        "box “Books” to store books, in programming we label our data with\n",
        "variable names. For example:"
      ],
      "id": "1bffa0b6-31e7-4d24-b777-5291303a4fb5"
    },
    {
      "cell_type": "code",
      "execution_count": 2,
      "metadata": {},
      "outputs": [
        {
          "output_type": "display_data",
          "metadata": {},
          "data": {
            "text/plain": [
              "30"
            ]
          }
        }
      ],
      "source": [
        "age = 30        # A box labeled \"age\" containing the number 30"
      ],
      "id": "1eeb6046"
    },
    {
      "cell_type": "code",
      "execution_count": 3,
      "metadata": {},
      "outputs": [
        {
          "output_type": "display_data",
          "metadata": {},
          "data": {
            "text/plain": [
              "\"Tobias\""
            ]
          }
        }
      ],
      "source": [
        "name = \"Tobias\"  # A box labeled \"name\" containing the text \"Tobias\""
      ],
      "id": "b7b8d284"
    },
    {
      "cell_type": "markdown",
      "metadata": {},
      "source": [
        "## Exercise 1.1 - Declare a Variable\n",
        "\n",
        "Declare a variable named `x` and assign it the value `1`."
      ],
      "id": "09d2b68f-13c4-4b78-abf6-041cae01ff67"
    },
    {
      "cell_type": "code",
      "execution_count": 4,
      "metadata": {},
      "outputs": [],
      "source": [
        "# YOUR CODE BELOW"
      ],
      "id": "a5ece939"
    },
    {
      "cell_type": "code",
      "execution_count": 5,
      "metadata": {},
      "outputs": [],
      "source": [
        "# Test your answer\n",
        "@assert x == 1 \"Check again, the value of x should be 1. Remember to assign the value directly to x.\"\n",
        "println(\"Great, you have correctly assigned the value $x to the variable 'x'.\")"
      ],
      "id": "dab3e732"
    },
    {
      "cell_type": "markdown",
      "metadata": {},
      "source": [
        "## Exercise 1.2 - Declare a String Variable\n",
        "\n",
        "Declare a variable named `hi` and assign it the string\n",
        "`\"Hello, Optimization!\"`."
      ],
      "id": "6a680029-04fa-4cb3-bc70-7b045a020346"
    },
    {
      "cell_type": "code",
      "execution_count": 6,
      "metadata": {},
      "outputs": [],
      "source": [
        "# YOUR CODE BELOW"
      ],
      "id": "b9cafc71"
    },
    {
      "cell_type": "code",
      "execution_count": 7,
      "metadata": {},
      "outputs": [],
      "source": [
        "# Test your answer\n",
        "@assert hi == \"Hello, Optimization!\" \"Make sure the variable 'hi' contains the exact string \\\"Hello, Optimization\\\"!\"\n",
        "println(\"Good, the variable 'hi' now states \\\"$hi\\\".\")"
      ],
      "id": "b38fcabb"
    },
    {
      "cell_type": "markdown",
      "metadata": {},
      "source": [
        "------------------------------------------------------------------------\n",
        "\n",
        "# Section 2 - Basic Types\n",
        "\n",
        "Just like real containers come in different types (like boxes for books,\n",
        "refrigerators for food, etc.), variables in Julia have different types\n",
        "depending on what they store:\n",
        "\n",
        "-   Integers (Int): Whole numbers like `1`, `42`, `-10`\n",
        "-   Floats (Float64): Numbers with decimal points like `3.14`, `-0.5`\n",
        "-   Booleans (Bool): True/false values like `true`, `false`\n",
        "-   Strings (String): Text in quotes like `\"Hello\"`\n",
        "\n",
        "You can check what type of “container” a variable is using `typeof()`.\n",
        "Try this:"
      ],
      "id": "3712b4ec-f5c3-4c89-80de-aece22398a08"
    },
    {
      "cell_type": "code",
      "execution_count": 8,
      "metadata": {},
      "outputs": [
        {
          "output_type": "display_data",
          "metadata": {},
          "data": {
            "text/plain": [
              "Int64"
            ]
          }
        }
      ],
      "source": [
        "age = 25\n",
        "typeof(age)     # Will show Int64 (integer type)"
      ],
      "id": "02e872b1"
    },
    {
      "cell_type": "code",
      "execution_count": 9,
      "metadata": {},
      "outputs": [
        {
          "output_type": "display_data",
          "metadata": {},
          "data": {
            "text/plain": [
              "Float64"
            ]
          }
        }
      ],
      "source": [
        "price = 19.99\n",
        "typeof(price)   # Will show Float64 (decimal number type)"
      ],
      "id": "4c5afb33"
    },
    {
      "cell_type": "markdown",
      "metadata": {},
      "source": [
        "## Exercise 2.1 - Create an Integer Variable\n",
        "\n",
        "Create an Integer variable `answerUniverse` and set it to `42`."
      ],
      "id": "e103a86d-bacf-44f8-977d-9d9af992eb59"
    },
    {
      "cell_type": "code",
      "execution_count": 10,
      "metadata": {},
      "outputs": [],
      "source": [
        "# YOUR CODE BELOW"
      ],
      "id": "9fefd505"
    },
    {
      "cell_type": "code",
      "execution_count": 11,
      "metadata": {},
      "outputs": [],
      "source": [
        "# Test your answer\n",
        "@assert answerUniverse == 42 \"The variable 'answerUniverse' should hold 42.\"\n",
        "println(\"Great, the answer to all questions on the universe is $answerUniverse now.\")"
      ],
      "id": "8e6a1b2f"
    },
    {
      "cell_type": "markdown",
      "metadata": {},
      "source": [
        "## Exercise 2.2 - Create a Float Variable\n",
        "\n",
        "Create a Float variable `money` and set it to `1.35`."
      ],
      "id": "59ead26b-e4b6-4f5a-b657-cb94adebffff"
    },
    {
      "cell_type": "code",
      "execution_count": 12,
      "metadata": {},
      "outputs": [],
      "source": [
        "# YOUR CODE BELOW"
      ],
      "id": "018e91d2"
    },
    {
      "cell_type": "code",
      "execution_count": 13,
      "metadata": {},
      "outputs": [],
      "source": [
        "# Test your answer\n",
        "@assert money == 1.35 \"The variable 'money' should hold the Float64 1.35.\"\n",
        "println(\"Perfect, the you have stored $money in the variable 'money'.\")"
      ],
      "id": "5f7b2815"
    },
    {
      "cell_type": "markdown",
      "metadata": {},
      "source": [
        "## Exercise 2.3 - Create a Boolean Variable\n",
        "\n",
        "Create a Boolean variable `isStudent` and set it to `true`."
      ],
      "id": "15714c9a-00c9-4f50-92f8-8d00e3cb9f45"
    },
    {
      "cell_type": "code",
      "execution_count": 14,
      "metadata": {},
      "outputs": [],
      "source": [
        "# YOUR CODE BELOW"
      ],
      "id": "76bc540d"
    },
    {
      "cell_type": "code",
      "execution_count": 15,
      "metadata": {},
      "outputs": [],
      "source": [
        "# Test your answer\n",
        "@assert isStudent == true \"The variable 'isStudent' should be set to true.\"\n",
        "println(\"Correct, you are a student now.\")"
      ],
      "id": "4aa8e8a4"
    },
    {
      "cell_type": "markdown",
      "metadata": {},
      "source": [
        "------------------------------------------------------------------------\n",
        "\n",
        "# Section 3 - Type Annotations and Inference\n",
        "\n",
        "Sometimes we want to specify exactly what kind of “container” we want to\n",
        "use. In Julia, we can do this using type annotations:"
      ],
      "id": "6ffd7f74-8390-48c2-97cc-41fefc9d168d"
    },
    {
      "cell_type": "code",
      "execution_count": 16,
      "metadata": {},
      "outputs": [
        {
          "output_type": "display_data",
          "metadata": {},
          "data": {
            "text/plain": [
              "98.6"
            ]
          }
        }
      ],
      "source": [
        "temperature::Float64 = 98.6    # Specifically saying we want a decimal number"
      ],
      "id": "5221826f"
    },
    {
      "cell_type": "code",
      "execution_count": 17,
      "metadata": {},
      "outputs": [
        {
          "output_type": "display_data",
          "metadata": {},
          "data": {
            "text/plain": [
              "100"
            ]
          }
        }
      ],
      "source": [
        "count::Int64 = 100            # Specifically saying we want a whole number"
      ],
      "id": "878e34d4"
    },
    {
      "cell_type": "markdown",
      "metadata": {},
      "source": [
        "## Exercise 3.1 - Type Annotation\n",
        "\n",
        "Declare a variable `y` with an explicit type annotation of `Int64` and\n",
        "assign it the value `5`."
      ],
      "id": "76f1039e-f973-4235-bf62-a75f9f50b758"
    },
    {
      "cell_type": "code",
      "execution_count": 18,
      "metadata": {},
      "outputs": [],
      "source": [
        "# YOUR CODE BELOW"
      ],
      "id": "96fa5e45"
    },
    {
      "cell_type": "code",
      "execution_count": 19,
      "metadata": {},
      "outputs": [],
      "source": [
        "# Test your answer\n",
        "@assert y == 5 && typeof(y) == Int64 \"Make sure 'y' is of type Int64 and has the value 5.\"\n",
        "println(\"Great! You've created an Int64 variable 'y' with the value $y.\")"
      ],
      "id": "7b2b7534"
    },
    {
      "cell_type": "markdown",
      "metadata": {},
      "source": [
        "------------------------------------------------------------------------\n",
        "\n",
        "# Section 4 - String Interpolation\n",
        "\n",
        "String interpolation is like filling in blanks in a sentence. Instead of\n",
        "writing:"
      ],
      "id": "bc4621cf-b406-416e-b0cb-0d4df21160e3"
    },
    {
      "cell_type": "code",
      "execution_count": 20,
      "metadata": {},
      "outputs": [
        {
          "output_type": "display_data",
          "metadata": {},
          "data": {
            "text/plain": [
              "\"My name is Tobias and I am 30 years old\""
            ]
          }
        }
      ],
      "source": [
        "name = \"Tobias\"\n",
        "age = 30\n",
        "# The hard way:\n",
        "message = \"My name is \" * name * \" and I am \" * string(age) * \" years old\""
      ],
      "id": "f744f4d0"
    },
    {
      "cell_type": "markdown",
      "metadata": {},
      "source": [
        "We can use the `$` symbol to insert variables directly into our text:"
      ],
      "id": "b1535c59-edae-49c8-bbd2-fdb18cb3bef5"
    },
    {
      "cell_type": "code",
      "execution_count": 21,
      "metadata": {},
      "outputs": [
        {
          "output_type": "display_data",
          "metadata": {},
          "data": {
            "text/plain": [
              "\"My name is Tobias and I am 30 years old\""
            ]
          }
        }
      ],
      "source": [
        "message = \"My name is $name and I am $age years old\""
      ],
      "id": "da585e74"
    },
    {
      "cell_type": "markdown",
      "metadata": {},
      "source": [
        "It’s like having a template where Julia automatically fills in the\n",
        "values for you! If you have paid attention to the previous excercise,\n",
        "you have already seen this in action. The following example illustrates\n",
        "this again:"
      ],
      "id": "5ad8f23f-3db0-4e60-b15e-7ad18e2165b8"
    },
    {
      "cell_type": "code",
      "execution_count": 22,
      "metadata": {},
      "outputs": [
        {
          "output_type": "stream",
          "name": "stdout",
          "text": [
            "I'm learning Julia"
          ]
        }
      ],
      "source": [
        "language = \"Julia\"\n",
        "println(\"I'm learning $language\")"
      ],
      "id": "32d33239"
    },
    {
      "cell_type": "markdown",
      "metadata": {},
      "source": [
        "## Exercise 4.1 - String Interpolation\n",
        "\n",
        "Create a string `message` that says `\"y is [value of y]\"` using string\n",
        "interpolation."
      ],
      "id": "0527b517-08ba-47d6-8c4a-2d0a437b0808"
    },
    {
      "cell_type": "code",
      "execution_count": 23,
      "metadata": {},
      "outputs": [],
      "source": [
        "# YOUR CODE BELOW"
      ],
      "id": "225f0cea"
    },
    {
      "cell_type": "code",
      "execution_count": 24,
      "metadata": {},
      "outputs": [],
      "source": [
        "# Test your answer\n",
        "@assert message == \"y is 5\" \"Make sure your string includes the correct value of y.\"\n",
        "println(\"Excellent! Your interpolated string is: $message\")"
      ],
      "id": "4c118c64"
    },
    {
      "cell_type": "markdown",
      "metadata": {},
      "source": [
        "------------------------------------------------------------------------\n",
        "\n",
        "# Conclusion\n",
        "\n",
        "Congratulations! You have completed the first tutorial on Variables and\n",
        "Types. You’ve learned about the basics of variables, integers, floats,\n",
        "booleans, and strings. Continue to the next file to learn more.\n",
        "\n",
        "# Solutions\n",
        "\n",
        "You will likely find solutions to most exercises online. However, I\n",
        "strongly encourage you to work on these exercises independently without\n",
        "searching explicitly for the exact answers to the exercises.\n",
        "Understanding someone else’s solution is very different from developing\n",
        "your own. Use the lecture notes and try to solve the exercises on your\n",
        "own. This approach will significantly enhance your learning and\n",
        "problem-solving skills.\n",
        "\n",
        "Remember, the goal is not just to complete the exercises, but to\n",
        "understand the concepts and improve your programming abilities. If you\n",
        "encounter difficulties, review the lecture materials, experiment with\n",
        "different approaches, and don’t hesitate to ask for clarification during\n",
        "class discussions.\n",
        "\n",
        "Later, you will find the solutions to these exercises online in the\n",
        "associated GitHub repository, but we will also quickly go over them in\n",
        "next week’s tutorial. To access the solutions, click on the Github\n",
        "button on the lower right and search for the folder with today’s lecture\n",
        "and tutorial. Alternatively, you can ask ChatGPT or Claude to explain\n",
        "them to you. But please remember, the goal is not just to complete the\n",
        "exercises, but to understand the concepts and improve your programming\n",
        "abilities."
      ],
      "id": "3507f6fd-2d03-4944-b9bb-bebf14a174c9"
    }
  ],
  "nbformat": 4,
  "nbformat_minor": 5,
  "metadata": {
    "kernelspec": {
      "name": "julia-1.11",
      "display_name": "Julia 1.11.6",
      "language": "julia",
      "path": "/Users/vlcek/Library/Jupyter/kernels/julia-1.11"
    },
    "language_info": {
      "name": "julia",
      "file_extension": ".jl",
      "mimetype": "application/julia",
      "version": "1.11.6"
    }
  }
}