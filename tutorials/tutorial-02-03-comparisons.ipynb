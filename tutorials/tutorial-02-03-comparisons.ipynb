{
  "cells": [
    {
      "cell_type": "markdown",
      "metadata": {},
      "source": [
        "# Tutorial II.III - Comparison Operators\n",
        "\n",
        "Applied Optimization with Julia\n",
        "\n",
        "# Introduction\n",
        "\n",
        "Imagine you’re teaching a computer to make decisions. Just like we\n",
        "compare things in everyday life (“Is it raining?”, “Do I have enough\n",
        "money?”), computers need ways to compare values and make choices. This\n",
        "tutorial will show you how to help computers make these comparisons!\n",
        "\n",
        "Follow the instructions, write your code in the designated code blocks,\n",
        "and execute the corresponding code cell.\n",
        "\n",
        "------------------------------------------------------------------------\n",
        "\n",
        "# Section 1 - Comparisons\n",
        "\n",
        "In everyday life, we make comparisons all the time:\n",
        "\n",
        "-   Is this coffee too hot?\n",
        "-   Do I have enough money for lunch?\n",
        "-   Is my password correct?\n",
        "\n",
        "In Julia, we use special symbols to make these comparisons. Comparisons\n",
        "return a boolean value (true or false). You can use these directly or\n",
        "store them in a variable. For example:"
      ],
      "id": "49eb3ae6-fa1d-40bb-b7f4-a84286de5e87"
    },
    {
      "cell_type": "code",
      "execution_count": 2,
      "metadata": {},
      "outputs": [
        {
          "output_type": "display_data",
          "metadata": {},
          "data": {
            "text/plain": [
              "true"
            ]
          }
        }
      ],
      "source": [
        "user_input = \"secret123\"\n",
        "password_correct = (user_input == \"secret123\")"
      ],
      "id": "500e906e"
    },
    {
      "cell_type": "code",
      "execution_count": 3,
      "metadata": {},
      "outputs": [
        {
          "output_type": "display_data",
          "metadata": {},
          "data": {
            "text/plain": [
              "false"
            ]
          }
        }
      ],
      "source": [
        "coffee_temp = 75\n",
        "temperature_safe = (coffee_temp <= 70)"
      ],
      "id": "77ca025b"
    },
    {
      "cell_type": "markdown",
      "metadata": {},
      "source": [
        "The following are potential real-world examples:\n",
        "\n",
        "``` julia\n",
        "# Do I have enough money?\n",
        "enough_money = (wallet >= price)\n",
        "# Is the person an adult?\n",
        "is_adult = (age >= 18)\n",
        "# Is this person Elio?\n",
        "same_name = (name == \"Elio\")\n",
        "```\n",
        "\n",
        "Here are all the comparison operators:\n",
        "\n",
        "| Symbol | Meaning                  | Real-world Example              |\n",
        "|--------|--------------------------|---------------------------------|\n",
        "| `==`   | Equal to                 | Is my password correct?         |\n",
        "| `!=`   | Not equal to             | Is this a different person?     |\n",
        "| `<`    | Less than                | Is it colder than freezing?     |\n",
        "| `>`    | Greater than             | Do I have more than \\$10?       |\n",
        "| `<=`   | Less than or equal to    | Can this ride fit in my garage? |\n",
        "| `>=`   | Greater than or equal to | Am I old enough to vote?        |\n",
        "\n",
        "Let’s try some examples:"
      ],
      "id": "93247efa-7c68-40e4-a679-14ddada6a8d8"
    },
    {
      "cell_type": "code",
      "execution_count": 4,
      "metadata": {},
      "outputs": [
        {
          "output_type": "stream",
          "name": "stdout",
          "text": [
            "Is it freezing? false"
          ]
        }
      ],
      "source": [
        "# Temperature comparison\n",
        "temp = 25\n",
        "is_freezing = (temp <= 0)\n",
        "println(\"Is it freezing? $is_freezing\")"
      ],
      "id": "ffbd4788"
    },
    {
      "cell_type": "code",
      "execution_count": 5,
      "metadata": {},
      "outputs": [
        {
          "output_type": "stream",
          "name": "stdout",
          "text": [
            "Can I afford it? true"
          ]
        }
      ],
      "source": [
        "# Price comparison\n",
        "budget = 50\n",
        "price = 45\n",
        "can_afford = (budget >= price)\n",
        "println(\"Can I afford it? $can_afford\")"
      ],
      "id": "3e53932d"
    },
    {
      "cell_type": "markdown",
      "metadata": {},
      "source": [
        "## Exercise 1.1 - Compare if 10 is greater than 5\n",
        "\n",
        "Compare if 10 is greater than 5 and store the result in `comparison1`."
      ],
      "id": "feaa19b0-f1a1-44d2-a0b2-a52d263f5cfc"
    },
    {
      "cell_type": "code",
      "execution_count": 6,
      "metadata": {},
      "outputs": [],
      "source": [
        "# YOUR CODE BELOW"
      ],
      "id": "437fa026"
    },
    {
      "cell_type": "code",
      "execution_count": 7,
      "metadata": {},
      "outputs": [],
      "source": [
        "# Test your answer\n",
        "@assert comparison1 == true\n",
        "println(\"comparison1 is \", comparison1)"
      ],
      "id": "4fb37966"
    },
    {
      "cell_type": "markdown",
      "metadata": {},
      "source": [
        "## Exercise 1.2 - Compare if x is not equal to y\n",
        "\n",
        "Define variables `x` with value `\"Hello\"` and `y` with value `\"world\"`.\n",
        "Compare if `x` is not equal to `y` and store the result in\n",
        "`comparison2`."
      ],
      "id": "ae7f58ff-5779-454e-b078-48bd29b7fbf8"
    },
    {
      "cell_type": "code",
      "execution_count": 8,
      "metadata": {},
      "outputs": [],
      "source": [
        "# YOUR CODE BELOW"
      ],
      "id": "6eb78b3f"
    },
    {
      "cell_type": "code",
      "execution_count": 9,
      "metadata": {},
      "outputs": [],
      "source": [
        "# Test your answer\n",
        "@assert x == \"Hello\"\n",
        "@assert y == \"world\"\n",
        "@assert comparison2 == true\n",
        "println(\"Comparison2 is \", comparison2)"
      ],
      "id": "196ffd20"
    },
    {
      "cell_type": "markdown",
      "metadata": {},
      "source": [
        "------------------------------------------------------------------------\n",
        "\n",
        "# Section 2 - Logical Operators\n",
        "\n",
        "Sometimes we need to combine multiple comparisons in our code, just like\n",
        "in real life decisions:\n",
        "\n",
        "-   “Can I go to the party?” might depend on:\n",
        "    -   (Is it weekend?) AND (Have I finished my studies?)\n",
        "-   “Should I take an umbrella?” might depend on:\n",
        "    -   (Is it raining?) OR (Is it likely to rain?)\n",
        "\n",
        "Julia uses three main logical operators:\n",
        "\n",
        "``` julia\n",
        "# AND (&&): Both conditions must be true\n",
        "can_go_to_party = (is_weekend && homework_done)\n",
        "\n",
        "# OR (||): At least one condition must be true\n",
        "need_umbrella = (is_raining || forecast_says_rain)\n",
        "\n",
        "# NOT (!): Opposite of the condition\n",
        "is_closed = !is_open\n",
        "```\n",
        "\n",
        "Real-world Examples:"
      ],
      "id": "fbf2cb74-4164-4207-8c58-23f130150625"
    },
    {
      "cell_type": "code",
      "execution_count": 10,
      "metadata": {},
      "outputs": [
        {
          "output_type": "stream",
          "name": "stdout",
          "text": [
            "Can I buy the game? true"
          ]
        }
      ],
      "source": [
        "# Can I buy this game?\n",
        "age = 25\n",
        "money = 60\n",
        "game_price = 50\n",
        "can_buy = (age >= 18) && (money >= game_price)\n",
        "println(\"Can I buy the game? $can_buy\")"
      ],
      "id": "f281962d"
    },
    {
      "cell_type": "code",
      "execution_count": 11,
      "metadata": {},
      "outputs": [
        {
          "output_type": "stream",
          "name": "stdout",
          "text": [
            "Should I wear a coat? true"
          ]
        }
      ],
      "source": [
        "# Should I wear a coat?\n",
        "temperature = 5\n",
        "is_raining = true\n",
        "need_coat = (temperature < 10) || is_raining\n",
        "println(\"Should I wear a coat? $need_coat\")"
      ],
      "id": "bcddc414"
    },
    {
      "cell_type": "markdown",
      "metadata": {},
      "source": [
        "> **Tip**\n",
        ">\n",
        "> Think of those logical operators as follows:\n",
        ">\n",
        "> -   `&&` (AND) as a strict condition - everything must be perfect\n",
        "> -   `||` (OR) as a lenient condition - any good reason is enough\n",
        "> -   `!` (NOT) as the opposite of something\n",
        "\n",
        "## Exercise 2.1 - Use the AND operator\n",
        "\n",
        "Use the `AND` operator to check if `10` is greater than `5` and `hello`\n",
        "is equal to `hello`. Store the result in `logic1`."
      ],
      "id": "40846d74-344a-443e-b2f4-539137b5e827"
    },
    {
      "cell_type": "code",
      "execution_count": 12,
      "metadata": {},
      "outputs": [],
      "source": [
        "# YOUR CODE BELOW"
      ],
      "id": "7794de73"
    },
    {
      "cell_type": "code",
      "execution_count": 13,
      "metadata": {},
      "outputs": [],
      "source": [
        "# Test your answer\n",
        "@assert logic1 == true\n",
        "println(\"logic1 is \", logic1)"
      ],
      "id": "dac1af54"
    },
    {
      "cell_type": "markdown",
      "metadata": {},
      "source": [
        "## Exercise 2.2 - Use the OR operator\n",
        "\n",
        "Use the `OR` operator to check if `10` is less than `5` or `hello` is\n",
        "equal to `hello`. Store the result in `logic2`."
      ],
      "id": "a6d64a27-0b5d-4159-9fe5-5f32549b0918"
    },
    {
      "cell_type": "code",
      "execution_count": 14,
      "metadata": {},
      "outputs": [],
      "source": [
        "# YOUR CODE BELOW"
      ],
      "id": "4957685c"
    },
    {
      "cell_type": "code",
      "execution_count": 15,
      "metadata": {},
      "outputs": [],
      "source": [
        "# Test your answer\n",
        "@assert logic2 == true\n",
        "println(\"logic2 is \", logic2)"
      ],
      "id": "2481d69f"
    },
    {
      "cell_type": "markdown",
      "metadata": {},
      "source": [
        "> **Tip**\n",
        ">\n",
        "> Julia uses short-circuit evaluation for `&&` and `||` operators. This\n",
        "> means that the second operand is only evaluated if necessary.\n",
        "\n",
        "## Exercise 2.3 - Use the NOT operator\n",
        "\n",
        "Check whether `10` is greater than `5` and store the result in `logic3`.\n",
        "Then, use the `NOT` operator to invert `logic3`. Store the result in\n",
        "`logic4`."
      ],
      "id": "4a172173-8ffc-451b-8103-e7c8d084ea37"
    },
    {
      "cell_type": "code",
      "execution_count": 16,
      "metadata": {},
      "outputs": [],
      "source": [
        "# YOUR CODE BELOW"
      ],
      "id": "7bcf3b0e"
    },
    {
      "cell_type": "code",
      "execution_count": 17,
      "metadata": {},
      "outputs": [],
      "source": [
        "# Test your answer\n",
        "@assert logic3 == true\n",
        "@assert logic4 == false\n",
        "println(\"logic3 is \", logic3,\" and logic4 is\", logic4)"
      ],
      "id": "e248e2a3"
    },
    {
      "cell_type": "markdown",
      "metadata": {},
      "source": [
        "## Exercise 2.4 - Chaining Comparisons\n",
        "\n",
        "Julia has a neat feature that lets you write comparisons the way you\n",
        "think about them:\n",
        "\n",
        "``` julia\n",
        "# Instead of writing:\n",
        "age >= 13 && age <= 19    # Is age between 13 and 19?\n",
        "\n",
        "# You can write:\n",
        "13 <= age <= 19          # Much more natural!\n",
        "```\n",
        "\n",
        "Real-world examples:\n",
        "\n",
        "``` julia\n",
        "# Is the body temperature normal?\n",
        "normal_temperature = (36.5 <= body_temp <= 37.5)\n",
        "\n",
        "# Is the current hour within working hours?\n",
        "working_hours = (9 <= current_hour < 17)\n",
        "```\n",
        "\n",
        "Check if `x` is between `1` and `10` (exclusive) using a chained\n",
        "comparison. Store the result in `chained_comparison`."
      ],
      "id": "ae9aee43-91c9-4e82-beac-4ed74414d8f0"
    },
    {
      "cell_type": "code",
      "execution_count": 18,
      "metadata": {},
      "outputs": [],
      "source": [
        "x = 5\n",
        "# YOUR CODE BELOW"
      ],
      "id": "d34eb9ca"
    },
    {
      "cell_type": "code",
      "execution_count": 19,
      "metadata": {},
      "outputs": [],
      "source": [
        "# Test your answer\n",
        "@assert chained_comparison == true\n",
        "println(\"chained_comparison is \", chained_comparison)"
      ],
      "id": "09affdef"
    },
    {
      "cell_type": "markdown",
      "metadata": {},
      "source": [
        "------------------------------------------------------------------------\n",
        "\n",
        "# Conclusion\n",
        "\n",
        "Excellent work! You’ve completed the tutorial on Comparisons and logical\n",
        "operators in Julia. You’ve learned to compare values and use logical\n",
        "operators to combine or invert boolean values. Experiment with the code,\n",
        "try different operations, and understand how Julia handles logic.\n",
        "Continue to the next file to learn more.\n",
        "\n",
        "# Solutions\n",
        "\n",
        "You will likely find solutions to most exercises online. However, I\n",
        "strongly encourage you to work on these exercises independently without\n",
        "searching explicitly for the exact answers to the exercises.\n",
        "Understanding someone else’s solution is very different from developing\n",
        "your own. Use the lecture notes and try to solve the exercises on your\n",
        "own. This approach will significantly enhance your learning and\n",
        "problem-solving skills.\n",
        "\n",
        "Remember, the goal is not just to complete the exercises, but to\n",
        "understand the concepts and improve your programming abilities. If you\n",
        "encounter difficulties, review the lecture materials, experiment with\n",
        "different approaches, and don’t hesitate to ask for clarification during\n",
        "class discussions.\n",
        "\n",
        "Later, you will find the solutions to these exercises online in the\n",
        "associated GitHub repository, but we will also quickly go over them in\n",
        "next week’s tutorial. To access the solutions, click on the Github\n",
        "button on the lower right and search for the folder with today’s lecture\n",
        "and tutorial. Alternatively, you can ask ChatGPT or Claude to explain\n",
        "them to you. But please remember, the goal is not just to complete the\n",
        "exercises, but to understand the concepts and improve your programming\n",
        "abilities."
      ],
      "id": "f960aa9d-3b6f-44b4-8c59-219e7c5732d3"
    }
  ],
  "nbformat": 4,
  "nbformat_minor": 5,
  "metadata": {
    "kernelspec": {
      "name": "julia-1.11",
      "display_name": "Julia 1.11.6",
      "language": "julia",
      "path": "/Users/vlcek/Library/Jupyter/kernels/julia-1.11"
    },
    "language_info": {
      "name": "julia",
      "file_extension": ".jl",
      "mimetype": "application/julia",
      "version": "1.11.6"
    }
  }
}