{
  "cells": [
    {
      "cell_type": "markdown",
      "metadata": {},
      "source": [
        "# Tutorial VI - Minimizing Split Orders in E-Commerce\n",
        "\n",
        "Applied Optimization with Julia\n",
        "\n",
        "# Introduction\n",
        "\n",
        "We are consulting for FitGear, a rapidly growing e-commerce company\n",
        "specializing in fitness equipment and athletic wear. FitGear is facing a\n",
        "challenge: customer complaints about split orders have increased by 40%\n",
        "in the last quarter. When a customer orders multiple items, they\n",
        "sometimes receive multiple packages from different warehouses, leading\n",
        "to higher shipping costs and frustrated customers.\n",
        "\n",
        "This tutorial explores how to optimize SKU allocation across warehouses\n",
        "to minimize split orders using mathematical optimization.\n",
        "\n",
        "------------------------------------------------------------------------\n",
        "\n",
        "## 1. Coappearance Matrix\n",
        "\n",
        "First, we need to understand which products are frequently purchased\n",
        "together. We’ll use a coappearance matrix. It shows how frequently items\n",
        "appear together in customer orders. For each pair of items (i,j), the\n",
        "matrix element Q\\[i,j\\] represents the number of orders containing both\n",
        "items i and j. Let’s start with a small sample of FitGear’s historical\n",
        "order data and determine the coappearance matrix of the transactional\n",
        "data set **manually by hand**.\n",
        "\n",
        "| $t_{mi}$ | A   | B   | C   | D   |\n",
        "|----------|-----|-----|-----|-----|\n",
        "| 1        | 1   | 1   | 1   | 0   |\n",
        "| 2        | 1   | 1   | 1   | 0   |\n",
        "| 3        | 1   | 1   | 0   | 0   |\n",
        "| 4        | 1   | 0   | 0   | 1   |\n",
        "| 5        | 1   | 0   | 0   | 1   |\n",
        "| 6        | 1   | 0   | 0   | 1   |\n",
        "| 7        | 1   | 0   | 0   | 1   |\n",
        "| 8        | 0   | 0   | 1   | 1   |\n",
        "\n",
        "What is the resulting **coappearance matrix** from the transactional\n",
        "data set? Please provide it in the following cell as matrix by changing\n",
        "the `0`s to the correct values."
      ],
      "id": "0bd5f66f-37d1-4417-8182-d13a690983a2"
    },
    {
      "cell_type": "code",
      "execution_count": 2,
      "metadata": {},
      "outputs": [],
      "source": [
        "Q = [\n",
        "    0 0 0 0;\n",
        "    0 0 0 0;\n",
        "    0 0 0 0;\n",
        "    0 0 0 0;\n",
        "]"
      ],
      "id": "30de11d4"
    },
    {
      "cell_type": "markdown",
      "metadata": {},
      "source": [
        "------------------------------------------------------------------------\n",
        "\n",
        "## 2. Maximizing Coappearances\n",
        "\n",
        "FitGear currently operates two warehouses - one in Hamburg and one in\n",
        "Berlin. Each warehouse has limited storage capacity:\n",
        "\n",
        "-   Hamburg can store 3 different product types (SKUs)\n",
        "-   Berlin can also store 3 different product types\n",
        "\n",
        "Based on the coappearance matrix you have determined in the previous\n",
        "assignment, use the model from the lecture to maximise the coappearances\n",
        "**manually by hand**. What is the resulting objective function value of\n",
        "the assignment? Please provide it in the following cell."
      ],
      "id": "d08f3e64-1219-4dfa-8fbe-19d6e6a729c7"
    },
    {
      "cell_type": "code",
      "execution_count": 3,
      "metadata": {},
      "outputs": [],
      "source": [
        "objective_value_by_hand ="
      ],
      "id": "6faf334a"
    },
    {
      "cell_type": "markdown",
      "metadata": {},
      "source": [
        "------------------------------------------------------------------------\n",
        "\n",
        "## 3. Counting Split Parcels\n",
        "\n",
        "Based on the output of the optimisation, we don’t know the number of\n",
        "split orders yet. Calculate the **number of split orders manually** from\n",
        "your previous solution."
      ],
      "id": "fae2217a-3d6a-4c70-b8f2-8ba721fa015f"
    },
    {
      "cell_type": "code",
      "execution_count": 4,
      "metadata": {},
      "outputs": [],
      "source": [
        "number_of_split_parcels ="
      ],
      "id": "0027bb29"
    },
    {
      "cell_type": "markdown",
      "metadata": {},
      "source": [
        "> **Bonus Question**\n",
        ">\n",
        "> Is the solution of the QMKP the optimal solution for the underlying\n",
        "> split parcel minimisation problem? Try to come up with another\n",
        "> solution that has less split or the same number of split parcels.\n",
        "\n",
        "------------------------------------------------------------------------\n",
        "\n",
        "## 4. Implementing the model\n",
        "\n",
        "As FitGear continues to grow, the operations team needs a solution that\n",
        "can handle their full product catalog. They now have:\n",
        "\n",
        "-   12 popular fitness products\n",
        "-   40 recent customer orders\n",
        "-   Two warehouses with different capacities:\n",
        "    -   Hamburg: 7 SKUs\n",
        "    -   Berlin: 6 SKUs\n",
        "\n",
        "Thus, we’ll now implement a scalable solution using Julia and JuMP that\n",
        "can handle larger datasets."
      ],
      "id": "02195c1c-fb1c-4af0-808b-1117973afa88"
    },
    {
      "cell_type": "code",
      "execution_count": 5,
      "metadata": {},
      "outputs": [],
      "source": [
        "skus = [\n",
        "    \"Running Shoes\",\n",
        "    \"Athletic Socks\",\n",
        "    \"Water Bottle\",\n",
        "    \"Yoga Mat\",\n",
        "    \"Resistance Bands\",\n",
        "    \"Sports Bag\",\n",
        "    \"Protein Powder\",\n",
        "    \"Exercise Shorts\",\n",
        "    \"Training Shirt\",\n",
        "    \"Fitness Tracker\",\n",
        "    \"Foam Roller\",\n",
        "    \"Weight Gloves\"\n",
        "]\n",
        "\n",
        "warehouses = [\"Hamburg\", \"Berlin\"]\n",
        "\n",
        "capacity = [7, 6]\n",
        "\n",
        "T = [\n",
        "    # First set of transactions (1-20)\n",
        "    1 1 0 0 0 0 0 0 0 0 0 0;  # shoes + socks\n",
        "    1 1 0 0 0 1 0 0 0 0 0 0;  # shoes + socks + sports bag\n",
        "    0 0 0 1 1 0 0 0 0 0 1 0;  # yoga mat + bands + foam roller\n",
        "    0 0 1 1 0 0 0 0 0 0 0 0;  # water bottle + yoga mat\n",
        "    0 0 0 0 0 0 1 0 0 0 0 0;  # just protein powder\n",
        "    0 0 0 0 0 0 1 0 0 0 0 1;  # protein powder + gloves\n",
        "    0 0 0 0 0 0 0 1 1 0 0 0;  # shorts + shirt combo\n",
        "    0 0 0 0 1 0 0 1 1 0 0 0;  # workout outfit + bands\n",
        "    0 0 0 0 0 0 0 0 0 1 0 0;  # just fitness tracker\n",
        "    1 1 1 0 0 1 0 1 1 0 0 0;  # full running gear set\n",
        "    0 0 0 1 1 0 0 0 0 0 1 1;  # home gym basics\n",
        "    0 0 0 0 0 0 1 1 1 0 0 1;  # gym starter pack\n",
        "    0 0 1 0 1 0 0 0 0 0 0 0;  # water bottle + bands\n",
        "    1 1 0 0 0 0 0 1 1 0 0 0;  # running outfit complete\n",
        "    0 0 0 1 1 0 0 0 0 0 1 0;  # yoga equipment set\n",
        "    0 0 0 0 0 0 1 0 0 0 0 1;  # protein powder + gloves\n",
        "    0 0 1 0 0 0 1 0 0 0 0 0;  # water bottle + protein\n",
        "    1 0 0 0 0 1 0 0 0 1 0 0;  # shoes + bag + tracker\n",
        "    0 0 0 0 1 0 0 1 1 0 0 0;  # workout outfit + bands\n",
        "    0 0 0 1 0 0 0 0 0 0 1 0;  # yoga mat + foam roller\n",
        "    1 1 0 0 0 0 0 1 1 0 0 0;  # shoes + socks + workout clothes\n",
        "    1 1 0 0 0 1 0 0 0 1 0 0;  # shoes + socks + bag + tracker\n",
        "    0 0 0 1 1 0 0 0 0 0 1 1;  # yoga mat + bands + foam roller + gloves\n",
        "    0 0 1 1 1 0 0 0 0 0 0 0;  # water bottle + yoga mat + bands\n",
        "    0 0 1 0 0 0 1 0 0 0 0 1;  # protein powder + water bottle + gloves\n",
        "    0 0 0 0 1 0 1 0 0 0 0 1;  # protein powder + bands + gloves\n",
        "    0 0 0 0 0 0 0 1 1 1 0 0;  # shorts + shirt + tracker\n",
        "    1 0 0 0 1 0 0 1 1 0 0 0;  # shoes + workout outfit + bands\n",
        "    0 0 1 0 0 0 0 0 0 1 0 0;  # water bottle + tracker\n",
        "    1 1 1 0 0 1 0 1 1 1 0 0;  # deluxe running gear set\n",
        "    0 0 0 1 1 0 1 0 0 0 1 1;  # advanced home gym set\n",
        "    0 0 1 0 0 0 1 1 1 0 0 1;  # gym starter pack with water bottle\n",
        "    0 0 1 0 1 0 0 0 0 1 0 0;  # water bottle + bands + tracker\n",
        "    1 1 0 0 0 1 0 1 1 0 0 0;  # running outfit with bag\n",
        "    0 0 0 1 1 0 0 0 0 0 1 1;  # yoga equipment set with gloves\n",
        "    0 0 1 0 0 0 1 0 0 0 1 1;  # protein set with foam roller\n",
        "    0 0 1 0 0 1 1 0 0 0 0 0;  # water bottle + protein + bag\n",
        "    1 0 0 0 0 1 0 0 0 1 1 0;  # shoes + bag + tracker + foam roller\n",
        "    0 0 0 0 1 0 0 1 1 1 0 0;  # workout outfit + bands + tracker\n",
        "    0 0 0 1 0 0 0 0 0 1 1 0   # yoga mat + tracker + foam roller\n",
        "]"
      ],
      "id": "bcc3bb8d"
    },
    {
      "cell_type": "markdown",
      "metadata": {},
      "source": [
        "Implement the model in Julia and solve it for the given data set.\n",
        "\n",
        "> **Each SKU can only be allocated to one warehouse!**\n",
        ">\n",
        "> The retailer has another requirement: each SKU can only be allocated\n",
        "> to one warehouse. Make sure to include this requirement in your model.\n",
        "\n",
        "------------------------------------------------------------------------\n",
        "\n",
        "## Use the Juniper solver\n",
        "\n",
        "If you don’t have Juniper, Ipopt and/or HiGHS installed, add the solver\n",
        "via Pkg.add(“Juniper”) and Pkg.add(“Ipopt”) and Pkg.add(“HiGHS”).\n",
        "Juniper is a solver for nonlinear problems, that can be used in\n",
        "combination with Ipopt and HiGHS to solve mixed-integer quadratic\n",
        "problems. If you want to use SCIP, you can also do this by adding JuMP\n",
        "and SCIP and then change the solver in the model definition to\n",
        "`warehouse_model = Model(SCIP.Optimizer())`. Note, that this does not\n",
        "work automatically in Windows, as you will have to install the SCIP\n",
        "binaries manually. On Mac and Linux, it should work out of the box.\n",
        "\n",
        "First, we start by defining the model."
      ],
      "id": "eba5221d-a70a-4fca-bc9c-3caa9213435a"
    },
    {
      "cell_type": "code",
      "execution_count": 7,
      "metadata": {},
      "outputs": [
        {
          "output_type": "display_data",
          "metadata": {},
          "data": {
            "text/plain": [
              "A JuMP Model\n",
              "├ solver: Juniper\n",
              "├ objective_sense: FEASIBILITY_SENSE\n",
              "├ num_variables: 0\n",
              "├ num_constraints: 0\n",
              "└ Names registered in the model: none"
            ]
          }
        }
      ],
      "source": [
        "# Definition of the warehouse model\n",
        "using JuMP, Ipopt, HiGHS, Juniper\n",
        "ipopt = optimizer_with_attributes(Ipopt.Optimizer, \"print_level\" => 0)\n",
        "highs = optimizer_with_attributes(HiGHS.Optimizer, \"output_flag\" => false)\n",
        "warehouse_model = Model(\n",
        "    optimizer_with_attributes(\n",
        "        Juniper.Optimizer,\n",
        "        \"nl_solver\" => ipopt,\n",
        "        \"mip_solver\" => highs,\n",
        "    ),\n",
        ")"
      ],
      "id": "708af467"
    },
    {
      "cell_type": "markdown",
      "metadata": {},
      "source": [
        "------------------------------------------------------------------------\n",
        "\n",
        "## Compute the coappearance matrix\n",
        "\n",
        "Next, compute the coappearance matrix based on the transactional data\n",
        "provided in `T`."
      ],
      "id": "abca0c75-5c7e-42d8-bffd-4f6afdbe9897"
    },
    {
      "cell_type": "code",
      "execution_count": 8,
      "metadata": {},
      "outputs": [],
      "source": [
        "# YOUR CODE BELOW"
      ],
      "id": "efa95d3a"
    },
    {
      "cell_type": "code",
      "execution_count": 9,
      "metadata": {},
      "outputs": [],
      "source": [
        "# Assert whether the coappearance matrix is correct.\n",
        "@assert Q == Q' \"The coappearance matrix is not symmetric. Have you transposed the transactional data set?\"\n",
        "@assert Q[1,1] == 11 \"The coappearance matrix is not correct. Have you multiplied the transposed transactional data set with itself?\"\n",
        "println(\"Great! The coappearance matrix is correct.\")"
      ],
      "id": "704738b7"
    },
    {
      "cell_type": "markdown",
      "metadata": {},
      "source": [
        "------------------------------------------------------------------------\n",
        "\n",
        "## Define the decision variable\n",
        "\n",
        "Now, define the decision variable for the SKU allocation. Please name\n",
        "the variable `X`."
      ],
      "id": "4c5eb79e-f006-44f1-b1ed-570b6653d199"
    },
    {
      "cell_type": "code",
      "execution_count": 10,
      "metadata": {},
      "outputs": [],
      "source": [
        "# YOUR CODE BELOW"
      ],
      "id": "32d3f12b"
    },
    {
      "cell_type": "code",
      "execution_count": 11,
      "metadata": {},
      "outputs": [],
      "source": [
        "# Assert whether the decision variable is correct.\n",
        "@assert typeof(X) <: AbstractArray{VariableRef} \"The decision variable X should be an array of JuMP variables\"\n",
        "@assert all(is_binary.(X)) \"The decision variable X should be defined as binary\"\n",
        "@assert size(X) == (length(skus), length(warehouses)) \"The decision variable X should have dimensions [skus × warehouses]\"\n",
        "println(\"Great! The decision variable is correctly defined as a binary variable with proper dimensions.\")"
      ],
      "id": "7e833993"
    },
    {
      "cell_type": "markdown",
      "metadata": {},
      "source": [
        "------------------------------------------------------------------------\n",
        "\n",
        "## Define the objective function\n",
        "\n",
        "Then, define the objective function to maximize the coappearance."
      ],
      "id": "2d2c951d-12be-4ebd-b9d1-8aae1faf95e5"
    },
    {
      "cell_type": "code",
      "execution_count": 12,
      "metadata": {},
      "outputs": [],
      "source": [
        "# YOUR CODE BELOW"
      ],
      "id": "969ef82c"
    },
    {
      "cell_type": "code",
      "execution_count": 13,
      "metadata": {},
      "outputs": [],
      "source": [
        "# Assert whether the objective function is correct.\n",
        "@assert typeof(objective_function(warehouse_model)) <: QuadExpr \"The objective function should be a quadratic expression of JuMP variables\"\n",
        "println(\"Great! The objective function is correctly defined.\")"
      ],
      "id": "0d54d20a"
    },
    {
      "cell_type": "markdown",
      "metadata": {},
      "source": [
        "------------------------------------------------------------------------\n",
        "\n",
        "## Define the constraints\n",
        "\n",
        "To ensure that each SKU is allocated to one warehouse, add the first\n",
        "constraint."
      ],
      "id": "b4bfec26-4973-4b6e-a426-991072aadfaa"
    },
    {
      "cell_type": "code",
      "execution_count": 14,
      "metadata": {},
      "outputs": [],
      "source": [
        "# YOUR CODE BELOW"
      ],
      "id": "f23c1c31"
    },
    {
      "cell_type": "code",
      "execution_count": 15,
      "metadata": {},
      "outputs": [],
      "source": [
        "# Assert whether the single allocation constraint is correct.\n",
        "@assert num_constraints(warehouse_model, AffExpr, MOI.EqualTo{Float64}) == length(skus) \"The single allocation constraint should have one constraint for each SKU\"\n",
        "println(\"Great! The single allocation constraint is correctly defined.\")"
      ],
      "id": "d9ba5d47"
    },
    {
      "cell_type": "markdown",
      "metadata": {},
      "source": [
        "To ensure that the capacity of each warehouse is not exceeded, add the\n",
        "second constraint."
      ],
      "id": "0fa350a5-eee0-4132-bad9-e450403379d0"
    },
    {
      "cell_type": "code",
      "execution_count": 16,
      "metadata": {},
      "outputs": [],
      "source": [
        "# YOUR CODE BELOW"
      ],
      "id": "87abc07e"
    },
    {
      "cell_type": "code",
      "execution_count": 17,
      "metadata": {},
      "outputs": [],
      "source": [
        "# Assert whether the capacity constraint is correct.\n",
        "@assert num_constraints(warehouse_model, AffExpr, MOI.LessThan{Float64}) == length(warehouses) \"The capacity constraint should have one constraint for each warehouse\"\n",
        "println(\"Great! The capacity constraint is correctly defined.\")"
      ],
      "id": "c53e4e28"
    },
    {
      "cell_type": "markdown",
      "metadata": {},
      "source": [
        "------------------------------------------------------------------------\n",
        "\n",
        "## Solve the model\n",
        "\n",
        "Finally, solve the model with a solve statement."
      ],
      "id": "e29854f9-e3cb-49b8-abb9-bf98f371d3b7"
    },
    {
      "cell_type": "code",
      "execution_count": 18,
      "metadata": {},
      "outputs": [],
      "source": [
        "# YOUR CODE BELOW"
      ],
      "id": "89fcb8f1"
    },
    {
      "cell_type": "code",
      "execution_count": 19,
      "metadata": {},
      "outputs": [],
      "source": [
        "# Assert whether the model is solved correctly.\n",
        "@assert termination_status(warehouse_model) == MOI.OPTIMAL || termination_status(warehouse_model) == MOI.LOCALLY_SOLVED \"The model should either be solved with an optimal solution or with a locally optimal solution\"\n",
        "@assert isapprox(objective_value(warehouse_model), 141) \"The objective value should approximaly be 141. Have you correctly implemented the objective function?\"\n",
        "println(\"Great! The model is correctly solved.\")"
      ],
      "id": "1602cf99"
    },
    {
      "cell_type": "markdown",
      "metadata": {},
      "source": [
        "------------------------------------------------------------------------\n",
        "\n",
        "## Print the results\n",
        "\n",
        "The following code prints the objective value, the SKU allocation and\n",
        "the warehouse capacities based on your optimal solution."
      ],
      "id": "3468356b-0070-4625-a7cf-8354c236ac77"
    },
    {
      "cell_type": "code",
      "execution_count": 20,
      "metadata": {},
      "outputs": [],
      "source": [
        "println(\"Objective value: \", objective_value(warehouse_model))\n",
        "println()\n",
        "println(\"SKU Allocation:\")\n",
        "for i in skus\n",
        "    for k in warehouses\n",
        "        if value(X[i,k]) > 0.1\n",
        "            println(\"SKU: \", i, \" Allocation: \", k)\n",
        "        end\n",
        "    end\n",
        "end\n",
        "println()\n",
        "println(\"Warehouse Capacities:\")\n",
        "for k in 1:length(warehouses)\n",
        "    println(\"Warehouse: \", warehouses[k], \" Capacity: \", capacity[k], \" Used: \", sum(value.(X[i,warehouses[k]]) for i in skus))\n",
        "end"
      ],
      "id": "01fa7072"
    },
    {
      "cell_type": "markdown",
      "metadata": {},
      "source": [
        "------------------------------------------------------------------------\n",
        "\n",
        "## Count the number of split orders\n",
        "\n",
        "Based on the output of the optimisation, we still don’t know the number\n",
        "of split orders. The following code calculates the number of split\n",
        "orders from the SKU allocation for the optimal solution."
      ],
      "id": "43076982-5184-4626-ba09-ad6af7111fd4"
    },
    {
      "cell_type": "code",
      "execution_count": 21,
      "metadata": {},
      "outputs": [],
      "source": [
        "# Binary matrix indicating whether a SKU is allocated to a warehouse.\n",
        "X_values = [value(X[i,j]) > 0 ? true : false for i in skus, j in warehouses]\n",
        "\n",
        "# Function to count the number of split and regular parcels.\n",
        "function count_split_orders(X_input, transactional_data)\n",
        "    # Initialize the counters for split and regular parcels.\n",
        "    split_parcels = 0\n",
        "    regular_parcels = 0\n",
        "\n",
        "    # Iterate over each transaction in the transactional data set.\n",
        "    for t in 1:size(transactional_data,1)\n",
        "\n",
        "        # Check if the first warehouse can fulfill the transaction.\n",
        "        if all(X_input[:,1] .>= transactional_data[t,:])\n",
        "            regular_parcels += 1\n",
        "\n",
        "        # Check if the second warehouse can fulfill the transaction.\n",
        "        elseif all(X_input[:,2] .>= transactional_data[t,:])\n",
        "            regular_parcels += 1\n",
        "\n",
        "        # If neither warehouse can fulfill the transaction, it is a split.\n",
        "        else\n",
        "            split_parcels += 1\n",
        "            regular_parcels += 1\n",
        "        end\n",
        "    end\n",
        "    return split_parcels, regular_parcels\n",
        "end\n",
        "\n",
        "# Count the number of split and regular parcels for the optimal solution.\n",
        "split_parcels, regular_parcels = count_split_orders(X_values, T)\n",
        "\n",
        "# Count the number of split and regular parcels for 100 random solutions.\n",
        "split_parcels_random = []\n",
        "regular_parcels_random = []\n",
        "for trial in 1:100\n",
        "    X_random = [rand(Bool) for i in 1:length(skus), j in 1:length(warehouses)]\n",
        "    split_parcels_random_trial, regular_parcels_random_trial = count_split_orders(X_random, T)\n",
        "    push!(split_parcels_random, split_parcels_random_trial)\n",
        "    push!(regular_parcels_random, regular_parcels_random_trial)\n",
        "end\n",
        "split_parcels_random = sum(split_parcels_random)/100\n",
        "regular_parcels_random = sum(regular_parcels_random)/100\n",
        "\n",
        "# Print the number of split and regular parcels.\n",
        "println(\"Number of split orders (optimal): \", split_parcels)\n",
        "println(\"Number of regular orders (optimal): \", regular_parcels)\n",
        "println()\n",
        "\n",
        "# Print the number of split and regular parcels for the random solution.\n",
        "println(\"Number of split orders (random): \", split_parcels_random)\n",
        "println(\"Number of regular orders (random): \", regular_parcels_random)"
      ],
      "id": "bc7b05b4"
    },
    {
      "cell_type": "markdown",
      "metadata": {},
      "source": [
        "------------------------------------------------------------------------\n",
        "\n",
        "## 5. Analyzing the Results\n",
        "\n",
        "FitGear’s operations team needs to understand the business implications\n",
        "of this optimization:\n",
        "\n",
        "-   Which product categories tend to cluster together in the same\n",
        "    warehouse? For example, do workout clothes tend to be stored\n",
        "    together?\n",
        "-   How many fewer split shipments would FitGear have compared to their\n",
        "    current random allocation?\n",
        "-   How might this new allocation affect warehouse operations and\n",
        "    picking efficiency?\n",
        "\n",
        "Your answer goes here, thinking from the business perspective. A few\n",
        "sentences are fully sufficient!"
      ],
      "id": "4cfd2461-54d1-4946-9c30-822011c83b5b"
    },
    {
      "cell_type": "code",
      "execution_count": 22,
      "metadata": {},
      "outputs": [],
      "source": [
        "# YOUR ANSWER BELOW\n",
        "#=\n",
        "\n",
        "\n",
        "\n",
        "=#"
      ],
      "id": "7014fbf7"
    },
    {
      "cell_type": "markdown",
      "metadata": {},
      "source": [
        "------------------------------------------------------------------------\n",
        "\n",
        "# Solutions\n",
        "\n",
        "You will likely find solutions to most exercises online. However, I\n",
        "strongly encourage you to work on these exercises independently without\n",
        "searching explicitly for the exact answers to the exercises.\n",
        "Understanding someone else’s solution is very different from developing\n",
        "your own. Use the lecture notes and try to solve the exercises on your\n",
        "own. This approach will significantly enhance your learning and\n",
        "problem-solving skills.\n",
        "\n",
        "Remember, the goal is not just to complete the exercises, but to\n",
        "understand the concepts and improve your programming abilities. If you\n",
        "encounter difficulties, review the lecture materials, experiment with\n",
        "different approaches, and don’t hesitate to ask for clarification during\n",
        "class discussions.\n",
        "\n",
        "Later, you will find the solutions to these exercises online in the\n",
        "associated GitHub repository, but we will also quickly go over them in\n",
        "next week’s tutorial. To access the solutions, click on the Github\n",
        "button on the lower right and search for the folder with today’s lecture\n",
        "and tutorial. Alternatively, you can ask ChatGPT or Claude to explain\n",
        "them to you. But please remember, the goal is not just to complete the\n",
        "exercises, but to understand the concepts and improve your programming\n",
        "abilities."
      ],
      "id": "3eee330b-eaa8-43f2-bfbf-e94d9a48baa7"
    }
  ],
  "nbformat": 4,
  "nbformat_minor": 5,
  "metadata": {
    "kernelspec": {
      "name": "julia-ao-1.12",
      "display_name": "Julia-AO 1.12.0",
      "language": "julia",
      "path": "/Users/vlcek/Library/Jupyter/kernels/julia-ao-1.12"
    },
    "language_info": {
      "name": "julia",
      "file_extension": ".jl",
      "mimetype": "application/julia",
      "version": "1.12.0"
    }
  }
}