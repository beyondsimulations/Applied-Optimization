{
  "cells": [
    {
      "cell_type": "markdown",
      "metadata": {},
      "source": [
        "# Tutorial VI - Minimizing Split Orders in E-Commerce\n",
        "\n",
        "Applied Optimization with Julia\n",
        "\n",
        "# Introduction\n",
        "\n",
        "We are consulting for FitGear, a rapidly growing e-commerce company\n",
        "specializing in fitness equipment and athletic wear. FitGear is facing a\n",
        "challenge: customer complaints about split orders have increased by 40%\n",
        "in the last quarter. When a customer orders multiple items, they\n",
        "sometimes receive multiple packages from different warehouses, leading\n",
        "to higher shipping costs and frustrated customers.\n",
        "\n",
        "This tutorial explores how to optimize SKU allocation across warehouses\n",
        "to minimize split orders using mathematical optimization.\n",
        "\n",
        "------------------------------------------------------------------------\n",
        "\n",
        "## 1. Coappearance Matrix\n",
        "\n",
        "First, we need to understand which products are frequently purchased\n",
        "together. We’ll use a coappearance matrix. It shows how frequently items\n",
        "appear together in customer orders. For each pair of items (i,j), the\n",
        "matrix element Q\\[i,j\\] represents the number of orders containing both\n",
        "items i and j. Let’s start with a small sample of FitGear’s historical\n",
        "order data and determine the coappearance matrix of the transactional\n",
        "data set **manually by hand**.\n",
        "\n",
        "| $t_{mi}$ | A   | B   | C   | D   |\n",
        "|----------|-----|-----|-----|-----|\n",
        "| 1        | 1   | 1   | 1   | 0   |\n",
        "| 2        | 1   | 1   | 1   | 0   |\n",
        "| 3        | 1   | 1   | 0   | 0   |\n",
        "| 4        | 1   | 0   | 0   | 1   |\n",
        "| 5        | 1   | 0   | 0   | 1   |\n",
        "| 6        | 1   | 0   | 0   | 1   |\n",
        "| 7        | 1   | 0   | 0   | 1   |\n",
        "| 8        | 0   | 0   | 1   | 1   |\n",
        "\n",
        "What is the resulting **coappearance matrix** from the transactional\n",
        "data set? Please provide it in the following cell as matrix by changing\n",
        "the `0`s to the correct values."
      ],
      "id": "efbdae02-7918-411a-8695-f8a05ad62ea4"
    },
    {
      "cell_type": "code",
      "execution_count": 2,
      "metadata": {},
      "outputs": [],
      "source": [
        "Q = [\n",
        "    0 0 0 0;\n",
        "    0 0 0 0;\n",
        "    0 0 0 0;\n",
        "    0 0 0 0;\n",
        "]"
      ],
      "id": "db3dbb36"
    },
    {
      "cell_type": "markdown",
      "metadata": {},
      "source": [
        "------------------------------------------------------------------------\n",
        "\n",
        "## 2. Maximizing Coappearances\n",
        "\n",
        "FitGear currently operates two warehouses - one in Hamburg and one in\n",
        "Berlin. Each warehouse has limited storage capacity:\n",
        "\n",
        "-   Hamburg can store 3 different product types (SKUs)\n",
        "-   Berlin can also store 3 different product types\n",
        "\n",
        "Based on the coappearance matrix you have determined in the previous\n",
        "assignment, use the model from the lecture to maximise the coappearances\n",
        "**manually by hand**. What is the resulting objective function value of\n",
        "the assignment? Please provide it in the following cell."
      ],
      "id": "68378b76-3df6-45ea-912c-bda8a6c6ebfb"
    },
    {
      "cell_type": "code",
      "execution_count": 3,
      "metadata": {},
      "outputs": [],
      "source": [
        "objective_value_by_hand ="
      ],
      "id": "810d98ed"
    },
    {
      "cell_type": "markdown",
      "metadata": {},
      "source": [
        "------------------------------------------------------------------------\n",
        "\n",
        "## 3. Counting Split Parcels\n",
        "\n",
        "Based on the output of the optimisation, we don’t know the number of\n",
        "split orders yet. Calculate the **number of split orders manually** from\n",
        "your previous solution."
      ],
      "id": "ee490bbe-b4b3-47d9-b268-ec15045d9a60"
    },
    {
      "cell_type": "code",
      "execution_count": 4,
      "metadata": {},
      "outputs": [],
      "source": [
        "number_of_split_parcels ="
      ],
      "id": "0e2ac617"
    },
    {
      "cell_type": "markdown",
      "metadata": {},
      "source": [
        "> **Bonus Question**\n",
        ">\n",
        "> Is the solution of the QMKP the optimal solution for the underlying\n",
        "> split parcel minimisation problem? Try to come up with another\n",
        "> solution that has less split or the same number of split parcels.\n",
        "\n",
        "------------------------------------------------------------------------\n",
        "\n",
        "## 4. Implementing the model\n",
        "\n",
        "As FitGear continues to grow, the operations team needs a solution that\n",
        "can handle their full product catalog. They now have:\n",
        "\n",
        "-   12 popular fitness products\n",
        "-   40 recent customer orders\n",
        "-   Two warehouses with different capacities:\n",
        "    -   Hamburg: 7 SKUs\n",
        "    -   Berlin: 6 SKUs\n",
        "\n",
        "Thus, we’ll now implement a scalable solution using Julia and JuMP that\n",
        "can handle larger datasets."
      ],
      "id": "b520a975-d232-4c55-8de7-54442adc3847"
    },
    {
      "cell_type": "code",
      "execution_count": 5,
      "metadata": {},
      "outputs": [],
      "source": [
        "skus = [\n",
        "    \"Running Shoes\",\n",
        "    \"Athletic Socks\",\n",
        "    \"Water Bottle\",\n",
        "    \"Yoga Mat\",\n",
        "    \"Resistance Bands\",\n",
        "    \"Sports Bag\",\n",
        "    \"Protein Powder\",\n",
        "    \"Exercise Shorts\",\n",
        "    \"Training Shirt\",\n",
        "    \"Fitness Tracker\",\n",
        "    \"Foam Roller\",\n",
        "    \"Weight Gloves\"\n",
        "]\n",
        "\n",
        "warehouses = [\"Hamburg\", \"Berlin\"]\n",
        "\n",
        "capacity = [7, 6]\n",
        "\n",
        "T = [\n",
        "    # First set of transactions (1-20)\n",
        "    1 1 0 0 0 0 0 0 0 0 0 0;  # shoes + socks\n",
        "    1 1 0 0 0 1 0 0 0 0 0 0;  # shoes + socks + sports bag\n",
        "    0 0 0 1 1 0 0 0 0 0 1 0;  # yoga mat + bands + foam roller\n",
        "    0 0 1 1 0 0 0 0 0 0 0 0;  # water bottle + yoga mat\n",
        "    0 0 0 0 0 0 1 0 0 0 0 0;  # just protein powder\n",
        "    0 0 0 0 0 0 1 0 0 0 0 1;  # protein powder + gloves\n",
        "    0 0 0 0 0 0 0 1 1 0 0 0;  # shorts + shirt combo\n",
        "    0 0 0 0 1 0 0 1 1 0 0 0;  # workout outfit + bands\n",
        "    0 0 0 0 0 0 0 0 0 1 0 0;  # just fitness tracker\n",
        "    1 1 1 0 0 1 0 1 1 0 0 0;  # full running gear set\n",
        "    0 0 0 1 1 0 0 0 0 0 1 1;  # home gym basics\n",
        "    0 0 0 0 0 0 1 1 1 0 0 1;  # gym starter pack\n",
        "    0 0 1 0 1 0 0 0 0 0 0 0;  # water bottle + bands\n",
        "    1 1 0 0 0 0 0 1 1 0 0 0;  # running outfit complete\n",
        "    0 0 0 1 1 0 0 0 0 0 1 0;  # yoga equipment set\n",
        "    0 0 0 0 0 0 1 0 0 0 0 1;  # protein powder + gloves\n",
        "    0 0 1 0 0 0 1 0 0 0 0 0;  # water bottle + protein\n",
        "    1 0 0 0 0 1 0 0 0 1 0 0;  # shoes + bag + tracker\n",
        "    0 0 0 0 1 0 0 1 1 0 0 0;  # workout outfit + bands\n",
        "    0 0 0 1 0 0 0 0 0 0 1 0;  # yoga mat + foam roller\n",
        "    1 1 0 0 0 0 0 1 1 0 0 0;  # shoes + socks + workout clothes\n",
        "    1 1 0 0 0 1 0 0 0 1 0 0;  # shoes + socks + bag + tracker\n",
        "    0 0 0 1 1 0 0 0 0 0 1 1;  # yoga mat + bands + foam roller + gloves\n",
        "    0 0 1 1 1 0 0 0 0 0 0 0;  # water bottle + yoga mat + bands\n",
        "    0 0 1 0 0 0 1 0 0 0 0 1;  # protein powder + water bottle + gloves\n",
        "    0 0 0 0 1 0 1 0 0 0 0 1;  # protein powder + bands + gloves\n",
        "    0 0 0 0 0 0 0 1 1 1 0 0;  # shorts + shirt + tracker\n",
        "    1 0 0 0 1 0 0 1 1 0 0 0;  # shoes + workout outfit + bands\n",
        "    0 0 1 0 0 0 0 0 0 1 0 0;  # water bottle + tracker\n",
        "    1 1 1 0 0 1 0 1 1 1 0 0;  # deluxe running gear set\n",
        "    0 0 0 1 1 0 1 0 0 0 1 1;  # advanced home gym set\n",
        "    0 0 1 0 0 0 1 1 1 0 0 1;  # gym starter pack with water bottle\n",
        "    0 0 1 0 1 0 0 0 0 1 0 0;  # water bottle + bands + tracker\n",
        "    1 1 0 0 0 1 0 1 1 0 0 0;  # running outfit with bag\n",
        "    0 0 0 1 1 0 0 0 0 0 1 1;  # yoga equipment set with gloves\n",
        "    0 0 1 0 0 0 1 0 0 0 1 1;  # protein set with foam roller\n",
        "    0 0 1 0 0 1 1 0 0 0 0 0;  # water bottle + protein + bag\n",
        "    1 0 0 0 0 1 0 0 0 1 1 0;  # shoes + bag + tracker + foam roller\n",
        "    0 0 0 0 1 0 0 1 1 1 0 0;  # workout outfit + bands + tracker\n",
        "    0 0 0 1 0 0 0 0 0 1 1 0   # yoga mat + tracker + foam roller\n",
        "]"
      ],
      "id": "cfd4d794"
    },
    {
      "cell_type": "markdown",
      "metadata": {},
      "source": [
        "Implement the model in Julia and solve it for the given data set.\n",
        "\n",
        "> **Each SKU can only be allocated to one warehouse!**\n",
        ">\n",
        "> The retailer has another requirement: each SKU can only be allocated\n",
        "> to one warehouse. Make sure to include this requirement in your model.\n",
        "\n",
        "------------------------------------------------------------------------\n",
        "\n",
        "## Use the Juniper solver\n",
        "\n",
        "If you don’t have Juniper, Ipopt and/or HiGHS installed, add the solver\n",
        "via Pkg.add(“Juniper”) and Pkg.add(“Ipopt”) and Pkg.add(“HiGHS”).\n",
        "Juniper is a solver for nonlinear problems, that can be used in\n",
        "combination with Ipopt and HiGHS to solve mixed-integer quadratic\n",
        "problems. If you want to use SCIP, you can also do this by adding JuMP\n",
        "and SCIP and then change the solver in the model definition to\n",
        "`warehouse_model = Model(SCIP.Optimizer())`. Note, that this does not\n",
        "work automatically in Windows, as you will have to install the SCIP\n",
        "binaries manually. On Mac and Linux, it should work out of the box.\n",
        "\n",
        "First, we start by defining the model."
      ],
      "id": "73e31fb6-6826-4037-90fd-a33a4764443a"
    },
    {
      "cell_type": "code",
      "execution_count": 7,
      "metadata": {},
      "outputs": [
        {
          "output_type": "display_data",
          "metadata": {},
          "data": {
            "text/plain": [
              "A JuMP Model\n",
              "├ solver: Juniper\n",
              "├ objective_sense: FEASIBILITY_SENSE\n",
              "├ num_variables: 0\n",
              "├ num_constraints: 0\n",
              "└ Names registered in the model: none"
            ]
          }
        }
      ],
      "source": [
        "# Definition of the warehouse model\n",
        "using JuMP, Ipopt, HiGHS, Juniper\n",
        "ipopt = optimizer_with_attributes(Ipopt.Optimizer, \"print_level\" => 0)\n",
        "highs = optimizer_with_attributes(HiGHS.Optimizer, \"output_flag\" => false)\n",
        "warehouse_model = Model(\n",
        "    optimizer_with_attributes(\n",
        "        Juniper.Optimizer,\n",
        "        \"nl_solver\" => ipopt,\n",
        "        \"mip_solver\" => highs,\n",
        "    ),\n",
        ")"
      ],
      "id": "a7afabb8"
    },
    {
      "cell_type": "markdown",
      "metadata": {},
      "source": [
        "------------------------------------------------------------------------\n",
        "\n",
        "## Compute the coappearance matrix\n",
        "\n",
        "Next, compute the coappearance matrix based on the transactional data\n",
        "provided in `T`."
      ],
      "id": "48fbdf84-c57d-4f2a-936c-63a81038b282"
    },
    {
      "cell_type": "code",
      "execution_count": 8,
      "metadata": {},
      "outputs": [],
      "source": [
        "# YOUR CODE BELOW"
      ],
      "id": "b4c09b0e"
    },
    {
      "cell_type": "code",
      "execution_count": 9,
      "metadata": {},
      "outputs": [],
      "source": [
        "# Assert whether the coappearance matrix is correct.\n",
        "@assert Q == Q' \"The coappearance matrix is not symmetric. Have you transposed the transactional data set?\"\n",
        "@assert Q[1,1] == 11 \"The coappearance matrix is not correct. Have you multiplied the transposed transactional data set with itself?\"\n",
        "println(\"Great! The coappearance matrix is correct.\")"
      ],
      "id": "d0af819d"
    },
    {
      "cell_type": "markdown",
      "metadata": {},
      "source": [
        "------------------------------------------------------------------------\n",
        "\n",
        "## Define the decision variable\n",
        "\n",
        "Now, define the decision variable for the SKU allocation. Please name\n",
        "the variable `X`."
      ],
      "id": "3319d734-bd04-435a-bb2e-0b32589b28cb"
    },
    {
      "cell_type": "code",
      "execution_count": 10,
      "metadata": {},
      "outputs": [],
      "source": [
        "# YOUR CODE BELOW"
      ],
      "id": "300d55d4"
    },
    {
      "cell_type": "code",
      "execution_count": 11,
      "metadata": {},
      "outputs": [],
      "source": [
        "# Assert whether the decision variable is correct.\n",
        "@assert typeof(X) <: AbstractArray{VariableRef} \"The decision variable X should be an array of JuMP variables\"\n",
        "@assert all(is_binary.(X)) \"The decision variable X should be defined as binary\"\n",
        "@assert size(X) == (length(skus), length(warehouses)) \"The decision variable X should have dimensions [skus × warehouses]\"\n",
        "println(\"Great! The decision variable is correctly defined as a binary variable with proper dimensions.\")"
      ],
      "id": "d19e718c"
    },
    {
      "cell_type": "markdown",
      "metadata": {},
      "source": [
        "------------------------------------------------------------------------\n",
        "\n",
        "## Define the objective function\n",
        "\n",
        "Then, define the objective function to maximize the coappearance."
      ],
      "id": "f705353c-2a7c-4ca4-9e1f-3c9a3dda540a"
    },
    {
      "cell_type": "code",
      "execution_count": 12,
      "metadata": {},
      "outputs": [],
      "source": [
        "# YOUR CODE BELOW"
      ],
      "id": "b526c081"
    },
    {
      "cell_type": "code",
      "execution_count": 13,
      "metadata": {},
      "outputs": [],
      "source": [
        "# Assert whether the objective function is correct.\n",
        "@assert typeof(objective_function(warehouse_model)) <: QuadExpr \"The objective function should be a quadratic expression of JuMP variables\"\n",
        "println(\"Great! The objective function is correctly defined.\")"
      ],
      "id": "d0669c13"
    },
    {
      "cell_type": "markdown",
      "metadata": {},
      "source": [
        "------------------------------------------------------------------------\n",
        "\n",
        "## Define the constraints\n",
        "\n",
        "To ensure that each SKU is allocated to one warehouse, add the first\n",
        "constraint."
      ],
      "id": "4712c867-0e83-4435-893f-1c9958e40479"
    },
    {
      "cell_type": "code",
      "execution_count": 14,
      "metadata": {},
      "outputs": [],
      "source": [
        "# YOUR CODE BELOW"
      ],
      "id": "435ec806"
    },
    {
      "cell_type": "code",
      "execution_count": 15,
      "metadata": {},
      "outputs": [],
      "source": [
        "# Assert whether the single allocation constraint is correct.\n",
        "@assert num_constraints(warehouse_model, AffExpr, MOI.EqualTo{Float64}) == length(skus) \"The single allocation constraint should have one constraint for each SKU\"\n",
        "println(\"Great! The single allocation constraint is correctly defined.\")"
      ],
      "id": "df9c9c07"
    },
    {
      "cell_type": "markdown",
      "metadata": {},
      "source": [
        "To ensure that the capacity of each warehouse is not exceeded, add the\n",
        "second constraint."
      ],
      "id": "7d88f026-ce8d-4bf7-86d5-bcb0ab774d0f"
    },
    {
      "cell_type": "code",
      "execution_count": 16,
      "metadata": {},
      "outputs": [],
      "source": [
        "# YOUR CODE BELOW"
      ],
      "id": "fee4d88b"
    },
    {
      "cell_type": "code",
      "execution_count": 17,
      "metadata": {},
      "outputs": [],
      "source": [
        "# Assert whether the capacity constraint is correct.\n",
        "@assert num_constraints(warehouse_model, AffExpr, MOI.LessThan{Float64}) == length(warehouses) \"The capacity constraint should have one constraint for each warehouse\"\n",
        "println(\"Great! The capacity constraint is correctly defined.\")"
      ],
      "id": "c8123386"
    },
    {
      "cell_type": "markdown",
      "metadata": {},
      "source": [
        "------------------------------------------------------------------------\n",
        "\n",
        "## Solve the model\n",
        "\n",
        "Finally, solve the model with a solve statement."
      ],
      "id": "5fd5803f-bc50-46f5-a5f9-5a68f53abc01"
    },
    {
      "cell_type": "code",
      "execution_count": 18,
      "metadata": {},
      "outputs": [],
      "source": [
        "# YOUR CODE BELOW"
      ],
      "id": "1366085e"
    },
    {
      "cell_type": "code",
      "execution_count": 19,
      "metadata": {},
      "outputs": [],
      "source": [
        "# Assert whether the model is solved correctly.\n",
        "@assert termination_status(warehouse_model) == MOI.OPTIMAL || termination_status(warehouse_model) == MOI.LOCALLY_SOLVED \"The model should either be solved with an optimal solution or with a locally optimal solution\"\n",
        "@assert isapprox(objective_value(warehouse_model), 141) \"The objective value should approximaly be 141. Have you correctly implemented the objective function?\"\n",
        "println(\"Great! The model is correctly solved.\")"
      ],
      "id": "5a69a5ef"
    },
    {
      "cell_type": "markdown",
      "metadata": {},
      "source": [
        "------------------------------------------------------------------------\n",
        "\n",
        "## Print the results\n",
        "\n",
        "The following code prints the objective value, the SKU allocation and\n",
        "the warehouse capacities based on your optimal solution."
      ],
      "id": "c3562774-27d1-4ef6-a4b2-ab2d9dfc762e"
    },
    {
      "cell_type": "code",
      "execution_count": 20,
      "metadata": {},
      "outputs": [],
      "source": [
        "println(\"Objective value: \", objective_value(warehouse_model))\n",
        "println()\n",
        "println(\"SKU Allocation:\")\n",
        "for i in skus\n",
        "    for k in warehouses\n",
        "        if value(X[i,k]) > 0.1\n",
        "            println(\"SKU: \", i, \" Allocation: \", k)\n",
        "        end\n",
        "    end\n",
        "end\n",
        "println()\n",
        "println(\"Warehouse Capacities:\")\n",
        "for k in 1:length(warehouses)\n",
        "    println(\"Warehouse: \", warehouses[k], \" Capacity: \", capacity[k], \" Used: \", sum(value.(X[i,warehouses[k]]) for i in skus))\n",
        "end"
      ],
      "id": "60a8c5fc"
    },
    {
      "cell_type": "markdown",
      "metadata": {},
      "source": [
        "------------------------------------------------------------------------\n",
        "\n",
        "## Count the number of split orders\n",
        "\n",
        "Based on the output of the optimisation, we still don’t know the number\n",
        "of split orders. The following code calculates the number of split\n",
        "orders from the SKU allocation for the optimal solution."
      ],
      "id": "82be8113-0fee-4bca-b5c3-e106834d2a80"
    },
    {
      "cell_type": "code",
      "execution_count": 21,
      "metadata": {},
      "outputs": [],
      "source": [
        "# Binary matrix indicating whether a SKU is allocated to a warehouse.\n",
        "X_values = [value(X[i,j]) > 0 ? true : false for i in skus, j in warehouses]\n",
        "\n",
        "# Function to count the number of split and regular parcels.\n",
        "function count_split_orders(X_input, transactional_data)\n",
        "    # Initialize the counters for split and regular parcels.\n",
        "    split_parcels = 0\n",
        "    regular_parcels = 0\n",
        "\n",
        "    # Iterate over each transaction in the transactional data set.\n",
        "    for t in 1:size(transactional_data,1)\n",
        "\n",
        "        # Check if the first warehouse can fulfill the transaction.\n",
        "        if all(X_input[:,1] .>= transactional_data[t,:])\n",
        "            regular_parcels += 1\n",
        "\n",
        "        # Check if the second warehouse can fulfill the transaction.\n",
        "        elseif all(X_input[:,2] .>= transactional_data[t,:])\n",
        "            regular_parcels += 1\n",
        "\n",
        "        # If neither warehouse can fulfill the transaction, it is a split.\n",
        "        else\n",
        "            split_parcels += 1\n",
        "            regular_parcels += 1\n",
        "        end\n",
        "    end\n",
        "    return split_parcels, regular_parcels\n",
        "end\n",
        "\n",
        "# Count the number of split and regular parcels for the optimal solution.\n",
        "split_parcels, regular_parcels = count_split_orders(X_values, T)\n",
        "\n",
        "# Count the number of split and regular parcels for 100 random solutions.\n",
        "split_parcels_random = []\n",
        "regular_parcels_random = []\n",
        "for trial in 1:100\n",
        "    X_random = [rand(Bool) for i in 1:length(skus), j in 1:length(warehouses)]\n",
        "    split_parcels_random_trial, regular_parcels_random_trial = count_split_orders(X_random, T)\n",
        "    push!(split_parcels_random, split_parcels_random_trial)\n",
        "    push!(regular_parcels_random, regular_parcels_random_trial)\n",
        "end\n",
        "split_parcels_random = sum(split_parcels_random)/100\n",
        "regular_parcels_random = sum(regular_parcels_random)/100\n",
        "\n",
        "# Print the number of split and regular parcels.\n",
        "println(\"Number of split orders (optimal): \", split_parcels)\n",
        "println(\"Number of regular orders (optimal): \", regular_parcels)\n",
        "println()\n",
        "\n",
        "# Print the number of split and regular parcels for the random solution.\n",
        "println(\"Number of split orders (random): \", split_parcels_random)\n",
        "println(\"Number of regular orders (random): \", regular_parcels_random)"
      ],
      "id": "474b4d10"
    },
    {
      "cell_type": "markdown",
      "metadata": {},
      "source": [
        "------------------------------------------------------------------------\n",
        "\n",
        "## 5. Analyzing the Results\n",
        "\n",
        "FitGear’s operations team needs to understand the business implications\n",
        "of this optimization:\n",
        "\n",
        "-   Which product categories tend to cluster together in the same\n",
        "    warehouse? For example, do workout clothes tend to be stored\n",
        "    together?\n",
        "-   How many fewer split shipments would FitGear have compared to their\n",
        "    current random allocation?\n",
        "-   How might this new allocation affect warehouse operations and\n",
        "    picking efficiency?\n",
        "\n",
        "Your answer goes here, thinking from the business perspective. A few\n",
        "sentences are fully sufficient!"
      ],
      "id": "bf81309d-be55-4c08-882b-e868e5ac36cd"
    },
    {
      "cell_type": "code",
      "execution_count": 22,
      "metadata": {},
      "outputs": [],
      "source": [
        "# YOUR ANSWER BELOW\n",
        "#=\n",
        "\n",
        "\n",
        "\n",
        "=#"
      ],
      "id": "b3d0b64d"
    },
    {
      "cell_type": "markdown",
      "metadata": {},
      "source": [
        "------------------------------------------------------------------------\n",
        "\n",
        "# Solutions\n",
        "\n",
        "You will likely find solutions to most exercises online. However, I\n",
        "strongly encourage you to work on these exercises independently without\n",
        "searching explicitly for the exact answers to the exercises.\n",
        "Understanding someone else’s solution is very different from developing\n",
        "your own. Use the lecture notes and try to solve the exercises on your\n",
        "own. This approach will significantly enhance your learning and\n",
        "problem-solving skills.\n",
        "\n",
        "Remember, the goal is not just to complete the exercises, but to\n",
        "understand the concepts and improve your programming abilities. If you\n",
        "encounter difficulties, review the lecture materials, experiment with\n",
        "different approaches, and don’t hesitate to ask for clarification during\n",
        "class discussions."
      ],
      "id": "16072896-764b-409f-8a71-66febab094d3"
    }
  ],
  "nbformat": 4,
  "nbformat_minor": 5,
  "metadata": {
    "kernelspec": {
      "name": "julia-ao-1.12",
      "display_name": "Julia-AO 1.12.0",
      "language": "julia",
      "path": "/Users/vlcek/Library/Jupyter/kernels/julia-ao-1.12"
    },
    "language_info": {
      "name": "julia",
      "file_extension": ".jl",
      "mimetype": "application/julia",
      "version": "1.12.0"
    }
  }
}