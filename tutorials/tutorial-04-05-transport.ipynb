{
  "cells": [
    {
      "cell_type": "markdown",
      "metadata": {},
      "source": [
        "# Tutorial IV.V - Modelling the Transportation Problem with JuMP\n",
        "\n",
        "Applied Optimization with Julia\n",
        "\n",
        "# Introduction\n",
        "\n",
        "Welcome to this tutorial on the transportation problem using JuMP! As\n",
        "always, don’t worry if you’re new to optimization - we’ll walk through\n",
        "everything step by step using a real-world example.\n",
        "\n",
        "Imagine you’re running a solar panel distribution company. You have\n",
        "several warehouses (suppliers) and need to ship solar panels to various\n",
        "solar farms (customers). Your goal is to minimize the total cost of\n",
        "transportation while meeting all customer demands.\n",
        "\n",
        "By the end of this tutorial, you’ll be able to:\n",
        "\n",
        "1.  Understand what a transportation problem is\n",
        "2.  Set up a transportation problem using JuMP\n",
        "3.  Solve the problem and interpret the results\n",
        "\n",
        "Let’s start by loading the necessary packages:"
      ],
      "id": "6ee5dabd-8e20-470e-b41c-e41552526997"
    },
    {
      "cell_type": "code",
      "execution_count": 3,
      "metadata": {},
      "outputs": [],
      "source": [
        "using JuMP, HiGHS\n",
        "using DataFrames, CSV"
      ],
      "id": "c9cea7a8"
    },
    {
      "cell_type": "markdown",
      "metadata": {},
      "source": [
        "------------------------------------------------------------------------\n",
        "\n",
        "# Section 1 - Understanding the Transportation Problem\n",
        "\n",
        "The transportation problem involves:\n",
        "\n",
        "-   Suppliers (our warehouses)\n",
        "-   Customers (solar farms)\n",
        "-   Transportation costs between each supplier and customer\n",
        "-   Supply available at each warehouse\n",
        "-   Demand required by each solar farm\n",
        "\n",
        "Our goal is to decide how many solar panels to ship from each warehouse\n",
        "to each solar farm to minimize total cost.\n",
        "\n",
        "Let’s set up our problem:\n",
        "\n",
        "-   The revenue from each truckload of solar panels is 11000\n",
        "-   The variable costs from each truckload of solar panels is 6300\n",
        "-   The available panels at the supplier are given in the file\n",
        "    `available-panels.csv`\n",
        "-   The requested panels at the customer are given in the file\n",
        "    `panel-demand.csv`\n",
        "-   The transportation costs between suppliers and customers are given\n",
        "    in the file `cost.csv`\n",
        "\n",
        "> **Note**\n",
        ">\n",
        "> We can use the `CSV.read` function to load the data from a CSV file\n",
        "> into a DataFrame. If we want to access the directory of the current\n",
        "> file, we can again use the convinient `@__DIR__` macro."
      ],
      "id": "601fe728-aecb-42d3-8e65-8bb557e9c852"
    },
    {
      "cell_type": "code",
      "execution_count": 4,
      "metadata": {},
      "outputs": [
        {
          "output_type": "stream",
          "name": "stdout",
          "text": [
            "Data loaded successfully!"
          ]
        }
      ],
      "source": [
        "# Fixed parameters\n",
        "revenue = 11000  # Revenue per truckload of solar panels\n",
        "varCosts = 6300  # Variable costs per truckload\n",
        "\n",
        "# Load data from CSV files\n",
        "available = CSV.read(\"$(@__DIR__)/data/available-panels.csv\", DataFrame)\n",
        "requested = CSV.read(\"$(@__DIR__)/data/panel-demand.csv\", DataFrame)\n",
        "travelCosts = CSV.read(\"$(@__DIR__)/data/cost.csv\", DataFrame)\n",
        "\n",
        "println(\"Data loaded successfully!\")"
      ],
      "id": "5cbf0579"
    },
    {
      "cell_type": "markdown",
      "metadata": {},
      "source": [
        "> **Tip**\n",
        ">\n",
        "> Make sure, that you donwload the datasets from Github and store them\n",
        "> in a folder called `data` in the same directory as the script you are\n",
        "> currently working on. You can find the data sets in the GitHub\n",
        "> repository for this tutorial. Note, that you don’t need to preprocess\n",
        "> the data in any way. This tutorial we will focus on the modeling part.\n",
        "\n",
        "Now, we can check out the data by printing the first few rows of each\n",
        "DataFrame. We can use the `first` function to get the first few rows of\n",
        "a DataFrame."
      ],
      "id": "11f681f6-4147-4af3-8df9-d42ce636606b"
    },
    {
      "cell_type": "code",
      "execution_count": 5,
      "metadata": {},
      "outputs": [
        {
          "output_type": "stream",
          "name": "stdout",
          "text": [
            "Available panels:"
          ]
        },
        {
          "output_type": "display_data",
          "metadata": {},
          "data": {
            "text/html": [
              "</div>"
            ]
          }
        }
      ],
      "source": [
        "println(\"Available panels:\")\n",
        "first(available,5)"
      ],
      "id": "b1b795fa"
    },
    {
      "cell_type": "code",
      "execution_count": 6,
      "metadata": {},
      "outputs": [
        {
          "output_type": "stream",
          "name": "stdout",
          "text": [
            "Requested panels:"
          ]
        },
        {
          "output_type": "display_data",
          "metadata": {},
          "data": {
            "text/html": [
              "</div>"
            ]
          }
        }
      ],
      "source": [
        "println(\"Requested panels:\")\n",
        "first(requested,5)"
      ],
      "id": "7eb1d882"
    },
    {
      "cell_type": "code",
      "execution_count": 7,
      "metadata": {},
      "outputs": [
        {
          "output_type": "stream",
          "name": "stdout",
          "text": [
            "Travel costs:"
          ]
        },
        {
          "output_type": "display_data",
          "metadata": {},
          "data": {
            "text/html": [
              "</div>"
            ]
          }
        }
      ],
      "source": [
        "println(\"Travel costs:\")\n",
        "first(travelCosts,5)"
      ],
      "id": "24f2ea3e"
    },
    {
      "cell_type": "markdown",
      "metadata": {},
      "source": [
        "## Exercise 1.1 - Understand the Data\n",
        "\n",
        "Take a moment to look at the data. Can you answer these questions?\n",
        "\n",
        "1.  How many warehouses do we have? Save the number in a variable called\n",
        "    `num_warehouses`.\n",
        "2.  How many solar farms are we supplying? Save the number in a variable\n",
        "    called `num_solar_farms`."
      ],
      "id": "ab69bd8c-9e46-45e6-a3ef-e4a9ab4c1789"
    },
    {
      "cell_type": "code",
      "execution_count": 8,
      "metadata": {},
      "outputs": [],
      "source": [
        "# YOUR ANSWERS BELOW\n",
        "# Hint: Use the `nrow()` function to count rows"
      ],
      "id": "c206fa98"
    },
    {
      "cell_type": "code",
      "execution_count": 9,
      "metadata": {},
      "outputs": [],
      "source": [
        "# Test your understanding\n",
        "@assert num_warehouses == nrow(available)\n",
        "@assert num_solar_farms == nrow(requested)\n",
        "\n",
        "println(\"Great job! Here are the answers:\")\n",
        "println(\"Number of warehouses: \", num_warehouses)\n",
        "println(\"Number of solar farms: \", num_solar_farms)"
      ],
      "id": "57d093e2"
    },
    {
      "cell_type": "markdown",
      "metadata": {},
      "source": [
        "------------------------------------------------------------------------\n",
        "\n",
        "# Section 2 - Using dictionaries to store the data\n",
        "\n",
        "Now, DataFrames are not a very convenient format for our purposes. We\n",
        "have several options now on how to deal with these data sets. As our\n",
        "suppliers and customers are given names, it might be useful to convert\n",
        "the data into dictionaries. Dictionaries are a great data structure that\n",
        "allow us to store key-value pairs, where the keys are unique identifiers\n",
        "and the values are the data associated with those keys. By using\n",
        "dictionaries, we can easily access and modify the data associated with a\n",
        "specific key."
      ],
      "id": "95952f30-2f8c-4b9f-a213-54bacc0fe086"
    },
    {
      "cell_type": "code",
      "execution_count": 10,
      "metadata": {},
      "outputs": [],
      "source": [
        "available_dict = Dict(\n",
        "    available.supplier .=> available.truckloads_available\n",
        ")\n",
        "requested_dict = Dict(\n",
        "    requested.solar_farm .=> requested.truckload_demand\n",
        ")\n",
        "travelCosts_dict = Dict(\n",
        "    (row.supplier,row.solar_farm) => row.costs\n",
        "    for row in eachrow(travelCosts)\n",
        ")"
      ],
      "id": "78821511"
    },
    {
      "cell_type": "markdown",
      "metadata": {},
      "source": [
        "> **Tip**\n",
        ">\n",
        "> You can use the `Dict` function to create a dictionary from two arrays\n",
        "> or DataFrames. For example: `Dict(keys .=> values)` will create a\n",
        "> dictionary where the keys are the elements of the `keys` array and the\n",
        "> values are the elements of the `values` array.\n",
        "\n",
        "Now, let us check out the dictionaries. We can use the `first` function\n",
        "to get the first few key-value pairs of a dictionary."
      ],
      "id": "16674fe9-388e-4c75-9c15-423ca81c5696"
    },
    {
      "cell_type": "code",
      "execution_count": 11,
      "metadata": {},
      "outputs": [
        {
          "output_type": "stream",
          "name": "stdout",
          "text": [
            "Available panels:"
          ]
        },
        {
          "output_type": "display_data",
          "metadata": {},
          "data": {
            "text/plain": [
              "5-element Vector{Pair{String7, Int64}}:\n",
              " \"a_13\" => 145\n",
              " \"a_17\" => 181\n",
              " \"a_26\" => 405\n",
              " \"a_90\" => 479\n",
              " \"a_67\" => 430"
            ]
          }
        }
      ],
      "source": [
        "println(\"Available panels:\")\n",
        "first(available_dict,5)"
      ],
      "id": "9e7331b4"
    },
    {
      "cell_type": "code",
      "execution_count": 12,
      "metadata": {},
      "outputs": [
        {
          "output_type": "stream",
          "name": "stdout",
          "text": [
            "Travel costs:"
          ]
        },
        {
          "output_type": "display_data",
          "metadata": {},
          "data": {
            "text/plain": [
              "5-element Vector{Pair{Tuple{String7, String7}, Int64}}:\n",
              " (\"a_33\", \"b_450\") => 1903\n",
              " (\"a_99\", \"b_340\") => 1749\n",
              " (\"a_74\", \"b_249\") => 7016\n",
              " (\"a_11\", \"b_278\") => 5788\n",
              "  (\"a_40\", \"b_35\") => 11369"
            ]
          }
        }
      ],
      "source": [
        "println(\"Travel costs:\")\n",
        "first(travelCosts_dict,5)"
      ],
      "id": "1343e8af"
    },
    {
      "cell_type": "markdown",
      "metadata": {},
      "source": [
        "Remember, we can also access the value associated with a specific key in\n",
        "a dictionary by using the key inside square brackets. For example:\n",
        "`available_dict[\"a_1\"]` will return the value associated with the key\n",
        "`\"a_1\"`."
      ],
      "id": "a22ee78e-acfd-40ea-8f52-0c1b77c7c023"
    },
    {
      "cell_type": "code",
      "execution_count": 13,
      "metadata": {},
      "outputs": [
        {
          "output_type": "stream",
          "name": "stdout",
          "text": [
            "Value associated with supplier 'a_1': "
          ]
        },
        {
          "output_type": "display_data",
          "metadata": {},
          "data": {
            "text/plain": [
              "478"
            ]
          }
        }
      ],
      "source": [
        "print(\"Value associated with supplier 'a_1': \")\n",
        "available_dict[\"a_1\"]"
      ],
      "id": "eb392ed4"
    },
    {
      "cell_type": "markdown",
      "metadata": {},
      "source": [
        "Our travel costs dictionary is a bit more complex, as it is dictionary\n",
        "with tuples as keys. We can access the value associated with a specific\n",
        "supplier and customer by using two keys inside square brackets. For\n",
        "example: `travelCosts_dict[(\"a_1\",\"b_1\")]` will return the value\n",
        "associated with the keys `(\"a_1\",\"b_1\")`."
      ],
      "id": "a4ce7cad-19df-4cb3-93ed-da75b5a7d0a6"
    },
    {
      "cell_type": "code",
      "execution_count": 14,
      "metadata": {},
      "outputs": [
        {
          "output_type": "stream",
          "name": "stdout",
          "text": [
            "Value associated with supplier 'a_1' and customer 'b_1': "
          ]
        },
        {
          "output_type": "display_data",
          "metadata": {},
          "data": {
            "text/plain": [
              "8052"
            ]
          }
        }
      ],
      "source": [
        "print(\"Value associated with supplier 'a_1' and customer 'b_1': \")\n",
        "travelCosts_dict[(\"a_1\",\"b_1\")]"
      ],
      "id": "b4cfc1fd"
    },
    {
      "cell_type": "markdown",
      "metadata": {},
      "source": [
        "We can also extract the keys and values of a dictionary using the `keys`\n",
        "and `values` functions, as shown in the previous tutorial."
      ],
      "id": "7f66d257-c567-4bb4-b502-4644e1573e5a"
    },
    {
      "cell_type": "code",
      "execution_count": 15,
      "metadata": {},
      "outputs": [
        {
          "output_type": "stream",
          "name": "stdout",
          "text": [
            "Keys of the travel costs dictionary:"
          ]
        },
        {
          "output_type": "display_data",
          "metadata": {},
          "data": {
            "text/plain": [
              "5-element Vector{Tuple{String7, String7}}:\n",
              " (\"a_33\", \"b_450\")\n",
              " (\"a_99\", \"b_340\")\n",
              " (\"a_74\", \"b_249\")\n",
              " (\"a_11\", \"b_278\")\n",
              " (\"a_40\", \"b_35\")"
            ]
          }
        }
      ],
      "source": [
        "println(\"Keys of the travel costs dictionary:\")\n",
        "first(keys(travelCosts_dict),5)"
      ],
      "id": "5b0b8dc3"
    },
    {
      "cell_type": "code",
      "execution_count": 16,
      "metadata": {},
      "outputs": [
        {
          "output_type": "stream",
          "name": "stdout",
          "text": [
            "Values of the travel costs dictionary:"
          ]
        },
        {
          "output_type": "display_data",
          "metadata": {},
          "data": {
            "text/plain": [
              "5-element Vector{Int64}:\n",
              "  1903\n",
              "  1749\n",
              "  7016\n",
              "  5788\n",
              " 11369"
            ]
          }
        }
      ],
      "source": [
        "println(\"Values of the travel costs dictionary:\")\n",
        "first(values(travelCosts_dict),5)"
      ],
      "id": "48776c26"
    },
    {
      "cell_type": "markdown",
      "metadata": {},
      "source": [
        "Dictionaries make it a lot easier to access the data later on, as we can\n",
        "use the keys to directly access the desired value in our model. This\n",
        "will be useful when we want to define the constraints later on.\n",
        "\n",
        "------------------------------------------------------------------------\n",
        "\n",
        "# Section 3 - The model instance\n",
        "\n",
        "After the preprocessing and data loading, we now can create the model\n",
        "instance with the HiGHS optimizer.\n",
        "\n",
        "## Exercise 3.1 - Creating the model instance\n",
        "\n",
        "From the last tutorial, you should know how to do this. Create a model\n",
        "instance called `transport_model` and set the optimizer to HiGHS."
      ],
      "id": "6dc98d5d-a04b-4e96-9bfd-aa2a62a49b12"
    },
    {
      "cell_type": "code",
      "execution_count": 17,
      "metadata": {},
      "outputs": [],
      "source": [
        "# YOUR CODE BELOW"
      ],
      "id": "a80313e3"
    },
    {
      "cell_type": "code",
      "execution_count": 18,
      "metadata": {},
      "outputs": [],
      "source": [
        "# Test your answer\n",
        "@assert typeof(transport_model) == JuMP.Model\n",
        "println(\"Model instance created successfully!\")"
      ],
      "id": "6dd65a37"
    },
    {
      "cell_type": "markdown",
      "metadata": {},
      "source": [
        "------------------------------------------------------------------------\n",
        "\n",
        "# Section 4 - Defining the model\n",
        "\n",
        "## Define the variables\n",
        "\n",
        "We can now define the variables of our model. We need to define a\n",
        "variable for each supplier and customer pair. As before, we can use the\n",
        "`@variable` macro to define the variables. The syntax is\n",
        "`@variable(model, varname[index1,index2] >= 0)`, where `model` is the\n",
        "model instance, `varname` is the name of the variable, and `index1` and\n",
        "`index2` are the indices of the variable. We can use vectors as input\n",
        "for the indices, but we could also use the keys of the dictionaries. In\n",
        "the following code block we mixed both options, to show you that it is\n",
        "possible."
      ],
      "id": "9018c21b-8f30-4e36-a579-8bb7ed4a0aa1"
    },
    {
      "cell_type": "code",
      "execution_count": 19,
      "metadata": {},
      "outputs": [],
      "source": [
        "# Define variable\n",
        "@variable(\n",
        "    transport_model,\n",
        "    X[available.supplier,keys(requested_dict)] >= 0\n",
        ")"
      ],
      "id": "b55a050b"
    },
    {
      "cell_type": "markdown",
      "metadata": {},
      "source": [
        "## Define the objective\n",
        "\n",
        "Next, we can define the objective of our model. We want to maximize the\n",
        "profit, which is the revenue minus the variable costs and the\n",
        "transportation costs. As before, we can use the `@objective` macro to\n",
        "define the objective. The syntax is\n",
        "`@objective(model, Max, expression)`, where `model` is the model\n",
        "instance, `Max` indicates that we want to maximize the expression, and\n",
        "`expression` is the expression we want to maximize."
      ],
      "id": "514fed41-13e8-4873-a2ef-155243390dc8"
    },
    {
      "cell_type": "code",
      "execution_count": 20,
      "metadata": {},
      "outputs": [],
      "source": [
        "@objective(transport_model, Max,\n",
        "    sum((revenue-varCosts-travelCosts_dict[(i,j)]) * X[i,j]\n",
        "    for i in keys(available_dict), j in keys(requested_dict))\n",
        ")"
      ],
      "id": "081b859f"
    },
    {
      "cell_type": "markdown",
      "metadata": {},
      "source": [
        "## Define the constraints\n",
        "\n",
        "We can now define the constraints of our model. We need to ensure that\n",
        "the supply from each supplier is enough to cover the demand of each\n",
        "customer. We can use the `@constraint` macro to define the constraints.\n",
        "The syntax is `@constraint(model, expression)`, where `model` is the\n",
        "model instance and `expression` is the expression we want to constrain.\n",
        "\n",
        "To illustrate the use of dictionaries, we will again use the keys of the\n",
        "dictionaries to define the constraints in the following code block."
      ],
      "id": "5a126bda-60c1-4ead-b729-c4ed824e8e51"
    },
    {
      "cell_type": "code",
      "execution_count": 21,
      "metadata": {},
      "outputs": [],
      "source": [
        "@constraint(transport_model,\n",
        "    restrictAvailable[i in keys(available_dict)],\n",
        "    sum(X[i,j] for j in keys(requested_dict)) <= available_dict[i]\n",
        ")"
      ],
      "id": "c9cf9de7"
    },
    {
      "cell_type": "markdown",
      "metadata": {},
      "source": [
        "Naturally, we could also use the vectors with the names from the\n",
        "DataFrames to define the constraints or we could also just work with\n",
        "ranges from the beginning, e.g. `1:length(available.supplier)` and\n",
        "`1:length(requested.solar_farm)`. Working with names is often more\n",
        "convenient, though."
      ],
      "id": "3287dee3-4f9b-440d-aea5-ef29cbc381df"
    },
    {
      "cell_type": "code",
      "execution_count": 22,
      "metadata": {},
      "outputs": [],
      "source": [
        "@constraint(transport_model,\n",
        "    restrictDemand[j in requested.solar_farm],\n",
        "    sum(X[i,j] for i in available.supplier) <= requested_dict[j]\n",
        ")"
      ],
      "id": "919da757"
    },
    {
      "cell_type": "markdown",
      "metadata": {},
      "source": [
        "And that’s it! We have now defined the model and can start optimizing.\n",
        "\n",
        "------------------------------------------------------------------------\n",
        "\n",
        "# Section 5 - Solving the model\n",
        "\n",
        "## Exercise 5.1 - Start optimization\n",
        "\n",
        "Start the optimization as usual by calling the `optimize!` function on\n",
        "the model instance."
      ],
      "id": "ff4c8754-938b-4736-b214-90846ebd880e"
    },
    {
      "cell_type": "code",
      "execution_count": 23,
      "metadata": {},
      "outputs": [],
      "source": [
        "# YOUR CODE BELOW"
      ],
      "id": "4f5e229d"
    },
    {
      "cell_type": "code",
      "execution_count": 24,
      "metadata": {},
      "outputs": [],
      "source": [
        "# Test your answer\n",
        "@assert termination_status(transport_model) == MOI.OPTIMAL\n",
        "println(\"Model optimized successfully!\")"
      ],
      "id": "ea49ded8"
    },
    {
      "cell_type": "markdown",
      "metadata": {},
      "source": [
        "Now, we can access the values of the variables at the optimal solution.\n",
        "But remember, we defined the variables with the keys of the\n",
        "dictionaries, so we need to convert the result back to a DataFrame.\n",
        "Calling the variable itself will just show the structure of the\n",
        "variable, not the values."
      ],
      "id": "d4a62138-5686-4a58-9039-84a2a78c721d"
    },
    {
      "cell_type": "code",
      "execution_count": 25,
      "metadata": {},
      "outputs": [],
      "source": [
        "first(X,5)"
      ],
      "id": "25488127"
    },
    {
      "cell_type": "markdown",
      "metadata": {},
      "source": [
        "Thus, we need to use the `value` function to extract the values from the\n",
        "variable."
      ],
      "id": "7d6ff1bf-d029-4654-aced-a1917e0dddd0"
    },
    {
      "cell_type": "code",
      "execution_count": 26,
      "metadata": {},
      "outputs": [],
      "source": [
        "transport_values = value.(X)"
      ],
      "id": "451cdfec"
    },
    {
      "cell_type": "markdown",
      "metadata": {},
      "source": [
        "The result is a `DenseAxisArray{Float64,2,...}` with index sets. To\n",
        "convert it to a DataFrame, we just need to iterate over the keys\n",
        "dictionaries and store the values in a new DataFrame. As we are not\n",
        "interested in values which are zero, we can skip those.\n",
        "\n",
        "First, we need to initialize an empty DataFrame with the correct column\n",
        "names."
      ],
      "id": "89bb2aa9-1254-4e30-9dd9-0061b91babc4"
    },
    {
      "cell_type": "code",
      "execution_count": 27,
      "metadata": {},
      "outputs": [
        {
          "output_type": "display_data",
          "metadata": {},
          "data": {
            "text/html": [
              "</div>"
            ]
          }
        }
      ],
      "source": [
        "transport_df = DataFrame(\n",
        "    supplier = [],\n",
        "    solar_farm = [],\n",
        "    truckloads = []\n",
        ")"
      ],
      "id": "6513e40a"
    },
    {
      "cell_type": "markdown",
      "metadata": {},
      "source": [
        "Then, we can iterate over the keys of the dictionaries and store the\n",
        "values in the DataFrame if they are greater than zero."
      ],
      "id": "56634260-b795-400c-9e86-3329fac52d92"
    },
    {
      "cell_type": "code",
      "execution_count": 28,
      "metadata": {},
      "outputs": [],
      "source": [
        "for i in keys(available_dict)\n",
        "    for j in keys(requested_dict)\n",
        "        if transport_values[i,j] > 0\n",
        "            push!(transport_df, (\n",
        "                supplier = i,\n",
        "                solar_farm = j,\n",
        "                truckloads = transport_values[i,j]\n",
        "                )\n",
        "            )\n",
        "        end\n",
        "    end\n",
        "end"
      ],
      "id": "14db8d06"
    },
    {
      "cell_type": "markdown",
      "metadata": {},
      "source": [
        "Finally, we can print the first few rows of the transportation plan to\n",
        "check if it looks correct."
      ],
      "id": "ce367d8c-d399-484d-9729-ec4897a9e78a"
    },
    {
      "cell_type": "code",
      "execution_count": 29,
      "metadata": {},
      "outputs": [],
      "source": [
        "println(\"Begining of the transportation plan:\")\n",
        "first(transport_df,5)"
      ],
      "id": "0f7ef063"
    },
    {
      "cell_type": "markdown",
      "metadata": {},
      "source": [
        "> **Note**\n",
        ">\n",
        "> Although the above code looks rather complicated, it is essentially\n",
        "> just iterating over the keys of the dictionaries and storing the\n",
        "> values in a new DataFrame. This is a common pattern in optimization,\n",
        "> as we often want to convert the result of an optimization problem into\n",
        "> a more convenient format for reporting or further processing.\n",
        "\n",
        "------------------------------------------------------------------------\n",
        "\n",
        "# Conclusion\n",
        "\n",
        "In this tutorial, we have learned how to model and solve the\n",
        "transportation problem using JuMP. We have also learned how to use\n",
        "dictionaries to store and access the data, which will be useful for more\n",
        "complex models. If you have any questions, feel free to ask me via\n",
        "email!\n",
        "\n",
        "# Solutions\n",
        "\n",
        "You will likely find solutions to most exercises online. However, I\n",
        "strongly encourage you to work on these exercises independently without\n",
        "searching explicitly for the exact answers to the exercises.\n",
        "Understanding someone else’s solution is very different from developing\n",
        "your own. Use the lecture notes and try to solve the exercises on your\n",
        "own. This approach will significantly enhance your learning and\n",
        "problem-solving skills.\n",
        "\n",
        "Remember, the goal is not just to complete the exercises, but to\n",
        "understand the concepts and improve your programming abilities. If you\n",
        "encounter difficulties, review the lecture materials, experiment with\n",
        "different approaches, and don’t hesitate to ask for clarification during\n",
        "class discussions."
      ],
      "id": "3d290cfe-593c-42fe-a25b-cd4214adccff"
    }
  ],
  "nbformat": 4,
  "nbformat_minor": 5,
  "metadata": {
    "kernelspec": {
      "name": "julia-ao-1.12",
      "display_name": "Julia-AO 1.12.0",
      "language": "julia",
      "path": "/Users/vlcek/Library/Jupyter/kernels/julia-ao-1.12"
    },
    "language_info": {
      "name": "julia",
      "file_extension": ".jl",
      "mimetype": "application/julia",
      "version": "1.12.0"
    }
  }
}