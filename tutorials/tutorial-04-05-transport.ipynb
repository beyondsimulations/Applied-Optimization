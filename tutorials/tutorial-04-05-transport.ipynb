{
  "cells": [
    {
      "cell_type": "markdown",
      "metadata": {},
      "source": [
        "# Tutorial IV.V - Modelling the Transportation Problem with JuMP\n",
        "\n",
        "Applied Optimization with Julia\n",
        "\n",
        "# Introduction\n",
        "\n",
        "Welcome to this tutorial on the transportation problem using JuMP! As\n",
        "always, don’t worry if you’re new to optimization - we’ll walk through\n",
        "everything step by step using a real-world example.\n",
        "\n",
        "Imagine you’re running a solar panel distribution company. You have\n",
        "several warehouses (suppliers) and need to ship solar panels to various\n",
        "solar farms (customers). Your goal is to minimize the total cost of\n",
        "transportation while meeting all customer demands.\n",
        "\n",
        "By the end of this tutorial, you’ll be able to:\n",
        "\n",
        "1.  Understand what a transportation problem is\n",
        "2.  Set up a transportation problem using JuMP\n",
        "3.  Solve the problem and interpret the results\n",
        "\n",
        "Let’s start by loading the necessary packages:"
      ],
      "id": "bc62524d-2557-4528-89f0-bdbad83ce43b"
    },
    {
      "cell_type": "code",
      "execution_count": 3,
      "metadata": {},
      "outputs": [],
      "source": [
        "using JuMP, HiGHS\n",
        "using DataFrames, CSV"
      ],
      "id": "43639afd"
    },
    {
      "cell_type": "markdown",
      "metadata": {},
      "source": [
        "------------------------------------------------------------------------\n",
        "\n",
        "# Section 1 - Understanding the Transportation Problem\n",
        "\n",
        "The transportation problem involves:\n",
        "\n",
        "-   Suppliers (our warehouses)\n",
        "-   Customers (solar farms)\n",
        "-   Transportation costs between each supplier and customer\n",
        "-   Supply available at each warehouse\n",
        "-   Demand required by each solar farm\n",
        "\n",
        "Our goal is to decide how many solar panels to ship from each warehouse\n",
        "to each solar farm to minimize total cost.\n",
        "\n",
        "Let’s set up our problem:\n",
        "\n",
        "-   The revenue from each truckload of solar panels is 11000\n",
        "-   The variable costs from each truckload of solar panels is 6300\n",
        "-   The available panels at the supplier are given in the file\n",
        "    `available-panels.csv`\n",
        "-   The requested panels at the customer are given in the file\n",
        "    `panel-demand.csv`\n",
        "-   The transportation costs between suppliers and customers are given\n",
        "    in the file `cost.csv`\n",
        "\n",
        "> **Note**\n",
        ">\n",
        "> We can use the `CSV.read` function to load the data from a CSV file\n",
        "> into a DataFrame. If we want to access the directory of the current\n",
        "> file, we can again use the convinient `@__DIR__` macro."
      ],
      "id": "5782af91-96c1-40da-9d05-ba471cd81c14"
    },
    {
      "cell_type": "code",
      "execution_count": 4,
      "metadata": {},
      "outputs": [
        {
          "output_type": "stream",
          "name": "stdout",
          "text": [
            "Data loaded successfully!"
          ]
        }
      ],
      "source": [
        "# Fixed parameters\n",
        "revenue = 11000  # Revenue per truckload of solar panels\n",
        "varCosts = 6300  # Variable costs per truckload\n",
        "\n",
        "# Load data from CSV files\n",
        "available = CSV.read(\"$(@__DIR__)/data/available-panels.csv\", DataFrame)\n",
        "requested = CSV.read(\"$(@__DIR__)/data/panel-demand.csv\", DataFrame)\n",
        "travelCosts = CSV.read(\"$(@__DIR__)/data/cost.csv\", DataFrame)\n",
        "\n",
        "println(\"Data loaded successfully!\")"
      ],
      "id": "eabfa643"
    },
    {
      "cell_type": "markdown",
      "metadata": {},
      "source": [
        "> **Tip**\n",
        ">\n",
        "> Make sure, that you donwload the datasets from Github and store them\n",
        "> in a folder called `data` in the same directory as the script you are\n",
        "> currently working on. You can find the data sets in the GitHub\n",
        "> repository for this tutorial. Note, that you don’t need to preprocess\n",
        "> the data in any way. This tutorial we will focus on the modeling part.\n",
        "\n",
        "Now, we can check out the data by printing the first few rows of each\n",
        "DataFrame. We can use the `first` function to get the first few rows of\n",
        "a DataFrame."
      ],
      "id": "6f7ff039-a799-4dee-8608-a6696ed06188"
    },
    {
      "cell_type": "code",
      "execution_count": 5,
      "metadata": {},
      "outputs": [
        {
          "output_type": "stream",
          "name": "stdout",
          "text": [
            "Available panels:"
          ]
        },
        {
          "output_type": "display_data",
          "metadata": {},
          "data": {
            "text/html": [
              "</div>"
            ]
          }
        }
      ],
      "source": [
        "println(\"Available panels:\")\n",
        "first(available,5)"
      ],
      "id": "48d9125f"
    },
    {
      "cell_type": "code",
      "execution_count": 6,
      "metadata": {},
      "outputs": [
        {
          "output_type": "stream",
          "name": "stdout",
          "text": [
            "Requested panels:"
          ]
        },
        {
          "output_type": "display_data",
          "metadata": {},
          "data": {
            "text/html": [
              "</div>"
            ]
          }
        }
      ],
      "source": [
        "println(\"Requested panels:\")\n",
        "first(requested,5)"
      ],
      "id": "3e3359f1"
    },
    {
      "cell_type": "code",
      "execution_count": 7,
      "metadata": {},
      "outputs": [
        {
          "output_type": "stream",
          "name": "stdout",
          "text": [
            "Travel costs:"
          ]
        },
        {
          "output_type": "display_data",
          "metadata": {},
          "data": {
            "text/html": [
              "</div>"
            ]
          }
        }
      ],
      "source": [
        "println(\"Travel costs:\")\n",
        "first(travelCosts,5)"
      ],
      "id": "0fad48f6"
    },
    {
      "cell_type": "markdown",
      "metadata": {},
      "source": [
        "## Exercise 1.1 - Understand the Data\n",
        "\n",
        "Take a moment to look at the data. Can you answer these questions?\n",
        "\n",
        "1.  How many warehouses do we have? Save the number in a variable called\n",
        "    `num_warehouses`.\n",
        "2.  How many solar farms are we supplying? Save the number in a variable\n",
        "    called `num_solar_farms`."
      ],
      "id": "1991383a-fb43-4436-b124-fcdbd59c0c19"
    },
    {
      "cell_type": "code",
      "execution_count": 8,
      "metadata": {},
      "outputs": [],
      "source": [
        "# YOUR ANSWERS BELOW\n",
        "# Hint: Use the `nrow()` function to count rows"
      ],
      "id": "108ed702"
    },
    {
      "cell_type": "code",
      "execution_count": 9,
      "metadata": {},
      "outputs": [],
      "source": [
        "# Test your understanding\n",
        "@assert num_warehouses == nrow(available)\n",
        "@assert num_solar_farms == nrow(requested)\n",
        "\n",
        "println(\"Great job! Here are the answers:\")\n",
        "println(\"Number of warehouses: \", num_warehouses)\n",
        "println(\"Number of solar farms: \", num_solar_farms)"
      ],
      "id": "c81a99cd"
    },
    {
      "cell_type": "markdown",
      "metadata": {},
      "source": [
        "------------------------------------------------------------------------\n",
        "\n",
        "# Section 2 - Using dictionaries to store the data\n",
        "\n",
        "Now, DataFrames are not a very convenient format for our purposes. We\n",
        "have several options now on how to deal with these data sets. As our\n",
        "suppliers and customers are given names, it might be useful to convert\n",
        "the data into dictionaries. Dictionaries are a great data structure that\n",
        "allow us to store key-value pairs, where the keys are unique identifiers\n",
        "and the values are the data associated with those keys. By using\n",
        "dictionaries, we can easily access and modify the data associated with a\n",
        "specific key."
      ],
      "id": "0049861e-4d9d-4bb2-9d6f-3513d4fab075"
    },
    {
      "cell_type": "code",
      "execution_count": 10,
      "metadata": {},
      "outputs": [],
      "source": [
        "available_dict = Dict(\n",
        "    available.supplier .=> available.truckloads_available\n",
        ")\n",
        "requested_dict = Dict(\n",
        "    requested.solar_farm .=> requested.truckload_demand\n",
        ")\n",
        "travelCosts_dict = Dict(\n",
        "    (row.supplier,row.solar_farm) => row.costs\n",
        "    for row in eachrow(travelCosts)\n",
        ")"
      ],
      "id": "a5176854"
    },
    {
      "cell_type": "markdown",
      "metadata": {},
      "source": [
        "> **Tip**\n",
        ">\n",
        "> You can use the `Dict` function to create a dictionary from two arrays\n",
        "> or DataFrames. For example: `Dict(keys .=> values)` will create a\n",
        "> dictionary where the keys are the elements of the `keys` array and the\n",
        "> values are the elements of the `values` array.\n",
        "\n",
        "Now, let us check out the dictionaries. We can use the `first` function\n",
        "to get the first few key-value pairs of a dictionary."
      ],
      "id": "b1cec465-5752-457f-8932-6560bb593bee"
    },
    {
      "cell_type": "code",
      "execution_count": 11,
      "metadata": {},
      "outputs": [
        {
          "output_type": "stream",
          "name": "stdout",
          "text": [
            "Available panels:"
          ]
        },
        {
          "output_type": "display_data",
          "metadata": {},
          "data": {
            "text/plain": [
              "5-element Vector{Pair{String7, Int64}}:\n",
              " \"a_13\" => 145\n",
              " \"a_17\" => 181\n",
              " \"a_26\" => 405\n",
              " \"a_90\" => 479\n",
              " \"a_67\" => 430"
            ]
          }
        }
      ],
      "source": [
        "println(\"Available panels:\")\n",
        "first(available_dict,5)"
      ],
      "id": "4d2c47ab"
    },
    {
      "cell_type": "code",
      "execution_count": 12,
      "metadata": {},
      "outputs": [
        {
          "output_type": "stream",
          "name": "stdout",
          "text": [
            "Travel costs:"
          ]
        },
        {
          "output_type": "display_data",
          "metadata": {},
          "data": {
            "text/plain": [
              "5-element Vector{Pair{Tuple{String7, String7}, Int64}}:\n",
              " (\"a_33\", \"b_450\") => 1903\n",
              " (\"a_99\", \"b_340\") => 1749\n",
              " (\"a_74\", \"b_249\") => 7016\n",
              " (\"a_11\", \"b_278\") => 5788\n",
              "  (\"a_40\", \"b_35\") => 11369"
            ]
          }
        }
      ],
      "source": [
        "println(\"Travel costs:\")\n",
        "first(travelCosts_dict,5)"
      ],
      "id": "0409c24f"
    },
    {
      "cell_type": "markdown",
      "metadata": {},
      "source": [
        "Remember, we can also access the value associated with a specific key in\n",
        "a dictionary by using the key inside square brackets. For example:\n",
        "`available_dict[\"a_1\"]` will return the value associated with the key\n",
        "`\"a_1\"`."
      ],
      "id": "4144f638-8474-4cdd-a6b5-04c63e4c622c"
    },
    {
      "cell_type": "code",
      "execution_count": 13,
      "metadata": {},
      "outputs": [
        {
          "output_type": "stream",
          "name": "stdout",
          "text": [
            "Value associated with supplier 'a_1': "
          ]
        },
        {
          "output_type": "display_data",
          "metadata": {},
          "data": {
            "text/plain": [
              "478"
            ]
          }
        }
      ],
      "source": [
        "print(\"Value associated with supplier 'a_1': \")\n",
        "available_dict[\"a_1\"]"
      ],
      "id": "344ea0b2"
    },
    {
      "cell_type": "markdown",
      "metadata": {},
      "source": [
        "Our travel costs dictionary is a bit more complex, as it is dictionary\n",
        "with tuples as keys. We can access the value associated with a specific\n",
        "supplier and customer by using two keys inside square brackets. For\n",
        "example: `travelCosts_dict[(\"a_1\",\"b_1\")]` will return the value\n",
        "associated with the keys `(\"a_1\",\"b_1\")`."
      ],
      "id": "54579172-321c-4e34-90e9-9dbf79b8d297"
    },
    {
      "cell_type": "code",
      "execution_count": 14,
      "metadata": {},
      "outputs": [
        {
          "output_type": "stream",
          "name": "stdout",
          "text": [
            "Value associated with supplier 'a_1' and customer 'b_1': "
          ]
        },
        {
          "output_type": "display_data",
          "metadata": {},
          "data": {
            "text/plain": [
              "8052"
            ]
          }
        }
      ],
      "source": [
        "print(\"Value associated with supplier 'a_1' and customer 'b_1': \")\n",
        "travelCosts_dict[(\"a_1\",\"b_1\")]"
      ],
      "id": "6411354f"
    },
    {
      "cell_type": "markdown",
      "metadata": {},
      "source": [
        "We can also extract the keys and values of a dictionary using the `keys`\n",
        "and `values` functions, as shown in the previous tutorial."
      ],
      "id": "eb87db52-d6ec-4aaa-bf61-d7c7ca3c0616"
    },
    {
      "cell_type": "code",
      "execution_count": 15,
      "metadata": {},
      "outputs": [
        {
          "output_type": "stream",
          "name": "stdout",
          "text": [
            "Keys of the travel costs dictionary:"
          ]
        },
        {
          "output_type": "display_data",
          "metadata": {},
          "data": {
            "text/plain": [
              "5-element Vector{Tuple{String7, String7}}:\n",
              " (\"a_33\", \"b_450\")\n",
              " (\"a_99\", \"b_340\")\n",
              " (\"a_74\", \"b_249\")\n",
              " (\"a_11\", \"b_278\")\n",
              " (\"a_40\", \"b_35\")"
            ]
          }
        }
      ],
      "source": [
        "println(\"Keys of the travel costs dictionary:\")\n",
        "first(keys(travelCosts_dict),5)"
      ],
      "id": "604f0dc2"
    },
    {
      "cell_type": "code",
      "execution_count": 16,
      "metadata": {},
      "outputs": [
        {
          "output_type": "stream",
          "name": "stdout",
          "text": [
            "Values of the travel costs dictionary:"
          ]
        },
        {
          "output_type": "display_data",
          "metadata": {},
          "data": {
            "text/plain": [
              "5-element Vector{Int64}:\n",
              "  1903\n",
              "  1749\n",
              "  7016\n",
              "  5788\n",
              " 11369"
            ]
          }
        }
      ],
      "source": [
        "println(\"Values of the travel costs dictionary:\")\n",
        "first(values(travelCosts_dict),5)"
      ],
      "id": "7fda0ed0"
    },
    {
      "cell_type": "markdown",
      "metadata": {},
      "source": [
        "Dictionaries make it a lot easier to access the data later on, as we can\n",
        "use the keys to directly access the desired value in our model. This\n",
        "will be useful when we want to define the constraints later on.\n",
        "\n",
        "------------------------------------------------------------------------\n",
        "\n",
        "# Section 3 - The model instance\n",
        "\n",
        "After the preprocessing and data loading, we now can create the model\n",
        "instance with the HiGHS optimizer.\n",
        "\n",
        "## Exercise 3.1 - Creating the model instance\n",
        "\n",
        "From the last tutorial, you should know how to do this. Create a model\n",
        "instance called `transport_model` and set the optimizer to HiGHS."
      ],
      "id": "f02788bd-7d89-4bb2-87ee-00816bcee5b9"
    },
    {
      "cell_type": "code",
      "execution_count": 17,
      "metadata": {},
      "outputs": [],
      "source": [
        "# YOUR CODE BELOW"
      ],
      "id": "9f1d5e53"
    },
    {
      "cell_type": "code",
      "execution_count": 18,
      "metadata": {},
      "outputs": [],
      "source": [
        "# Test your answer\n",
        "@assert typeof(transport_model) == JuMP.Model\n",
        "println(\"Model instance created successfully!\")"
      ],
      "id": "0814eb87"
    },
    {
      "cell_type": "markdown",
      "metadata": {},
      "source": [
        "------------------------------------------------------------------------\n",
        "\n",
        "# Section 4 - Defining the model\n",
        "\n",
        "## Define the variables\n",
        "\n",
        "We can now define the variables of our model. We need to define a\n",
        "variable for each supplier and customer pair. As before, we can use the\n",
        "`@variable` macro to define the variables. The syntax is\n",
        "`@variable(model, varname[index1,index2] >= 0)`, where `model` is the\n",
        "model instance, `varname` is the name of the variable, and `index1` and\n",
        "`index2` are the indices of the variable. We can use vectors as input\n",
        "for the indices, but we could also use the keys of the dictionaries. In\n",
        "the following code block we mixed both options, to show you that it is\n",
        "possible."
      ],
      "id": "cfc41d9e-4cb8-4cfc-a9c6-1b741b1a69c1"
    },
    {
      "cell_type": "code",
      "execution_count": 19,
      "metadata": {},
      "outputs": [],
      "source": [
        "# Define variable\n",
        "@variable(\n",
        "    transport_model,\n",
        "    X[available.supplier,keys(requested_dict)] >= 0\n",
        ")"
      ],
      "id": "64020ec4"
    },
    {
      "cell_type": "markdown",
      "metadata": {},
      "source": [
        "## Define the objective\n",
        "\n",
        "Next, we can define the objective of our model. We want to maximize the\n",
        "profit, which is the revenue minus the variable costs and the\n",
        "transportation costs. As before, we can use the `@objective` macro to\n",
        "define the objective. The syntax is\n",
        "`@objective(model, Max, expression)`, where `model` is the model\n",
        "instance, `Max` indicates that we want to maximize the expression, and\n",
        "`expression` is the expression we want to maximize."
      ],
      "id": "b0dbf43d-79fd-4312-89a3-f3f8ad2e385e"
    },
    {
      "cell_type": "code",
      "execution_count": 20,
      "metadata": {},
      "outputs": [],
      "source": [
        "@objective(transport_model, Max,\n",
        "    sum((revenue-varCosts-travelCosts_dict[(i,j)]) * X[i,j]\n",
        "    for i in keys(available_dict), j in keys(requested_dict))\n",
        ")"
      ],
      "id": "df3925d8"
    },
    {
      "cell_type": "markdown",
      "metadata": {},
      "source": [
        "## Define the constraints\n",
        "\n",
        "We can now define the constraints of our model. We need to ensure that\n",
        "the supply from each supplier is enough to cover the demand of each\n",
        "customer. We can use the `@constraint` macro to define the constraints.\n",
        "The syntax is `@constraint(model, expression)`, where `model` is the\n",
        "model instance and `expression` is the expression we want to constrain.\n",
        "\n",
        "To illustrate the use of dictionaries, we will again use the keys of the\n",
        "dictionaries to define the constraints in the following code block."
      ],
      "id": "b6e3a836-d25e-49a5-8112-ab8a95eaa006"
    },
    {
      "cell_type": "code",
      "execution_count": 21,
      "metadata": {},
      "outputs": [],
      "source": [
        "@constraint(transport_model,\n",
        "    restrictAvailable[i in keys(available_dict)],\n",
        "    sum(X[i,j] for j in keys(requested_dict)) <= available_dict[i]\n",
        ")"
      ],
      "id": "fdf9a1f7"
    },
    {
      "cell_type": "markdown",
      "metadata": {},
      "source": [
        "Naturally, we could also use the vectors with the names from the\n",
        "DataFrames to define the constraints or we could also just work with\n",
        "ranges from the beginning, e.g. `1:length(available.supplier)` and\n",
        "`1:length(requested.solar_farm)`. Working with names is often more\n",
        "convenient, though."
      ],
      "id": "f20117e1-9744-49f9-86ca-eb551e1b69c2"
    },
    {
      "cell_type": "code",
      "execution_count": 22,
      "metadata": {},
      "outputs": [],
      "source": [
        "@constraint(transport_model,\n",
        "    restrictDemand[j in requested.solar_farm],\n",
        "    sum(X[i,j] for i in available.supplier) <= requested_dict[j]\n",
        ")"
      ],
      "id": "43fc20fa"
    },
    {
      "cell_type": "markdown",
      "metadata": {},
      "source": [
        "And that’s it! We have now defined the model and can start optimizing.\n",
        "\n",
        "------------------------------------------------------------------------\n",
        "\n",
        "# Section 5 - Solving the model\n",
        "\n",
        "## Exercise 5.1 - Start optimization\n",
        "\n",
        "Start the optimization as usual by calling the `optimize!` function on\n",
        "the model instance."
      ],
      "id": "a2e72448-ef38-46d2-9764-bbe7e384b9ab"
    },
    {
      "cell_type": "code",
      "execution_count": 23,
      "metadata": {},
      "outputs": [],
      "source": [
        "# YOUR CODE BELOW"
      ],
      "id": "c29e09c0"
    },
    {
      "cell_type": "code",
      "execution_count": 24,
      "metadata": {},
      "outputs": [],
      "source": [
        "# Test your answer\n",
        "@assert termination_status(transport_model) == MOI.OPTIMAL\n",
        "println(\"Model optimized successfully!\")"
      ],
      "id": "a28d9de5"
    },
    {
      "cell_type": "markdown",
      "metadata": {},
      "source": [
        "Now, we can access the values of the variables at the optimal solution.\n",
        "But remember, we defined the variables with the keys of the\n",
        "dictionaries, so we need to convert the result back to a DataFrame.\n",
        "Calling the variable itself will just show the structure of the\n",
        "variable, not the values."
      ],
      "id": "4fde6679-3345-4133-9275-d11ac67e1efc"
    },
    {
      "cell_type": "code",
      "execution_count": 25,
      "metadata": {},
      "outputs": [],
      "source": [
        "first(X,5)"
      ],
      "id": "05cea26d"
    },
    {
      "cell_type": "markdown",
      "metadata": {},
      "source": [
        "Thus, we need to use the `value` function to extract the values from the\n",
        "variable."
      ],
      "id": "c8682e24-17c3-4388-965c-70f2314d934a"
    },
    {
      "cell_type": "code",
      "execution_count": 26,
      "metadata": {},
      "outputs": [],
      "source": [
        "transport_values = value.(X)"
      ],
      "id": "83de20ee"
    },
    {
      "cell_type": "markdown",
      "metadata": {},
      "source": [
        "The result is a `DenseAxisArray{Float64,2,...}` with index sets. To\n",
        "convert it to a DataFrame, we just need to iterate over the keys\n",
        "dictionaries and store the values in a new DataFrame. As we are not\n",
        "interested in values which are zero, we can skip those.\n",
        "\n",
        "First, we need to initialize an empty DataFrame with the correct column\n",
        "names."
      ],
      "id": "9caaaaa2-4baa-42b6-8a04-934e7e684c0d"
    },
    {
      "cell_type": "code",
      "execution_count": 27,
      "metadata": {},
      "outputs": [
        {
          "output_type": "display_data",
          "metadata": {},
          "data": {
            "text/html": [
              "</div>"
            ]
          }
        }
      ],
      "source": [
        "transport_df = DataFrame(\n",
        "    supplier = [],\n",
        "    solar_farm = [],\n",
        "    truckloads = []\n",
        ")"
      ],
      "id": "1b050c80"
    },
    {
      "cell_type": "markdown",
      "metadata": {},
      "source": [
        "Then, we can iterate over the keys of the dictionaries and store the\n",
        "values in the DataFrame if they are greater than zero."
      ],
      "id": "f5526aeb-1cdd-45fa-b016-3ade3d8ccd40"
    },
    {
      "cell_type": "code",
      "execution_count": 28,
      "metadata": {},
      "outputs": [],
      "source": [
        "for i in keys(available_dict)\n",
        "    for j in keys(requested_dict)\n",
        "        if transport_values[i,j] > 0\n",
        "            push!(transport_df, (\n",
        "                supplier = i,\n",
        "                solar_farm = j,\n",
        "                truckloads = transport_values[i,j]\n",
        "                )\n",
        "            )\n",
        "        end\n",
        "    end\n",
        "end"
      ],
      "id": "422f5318"
    },
    {
      "cell_type": "markdown",
      "metadata": {},
      "source": [
        "Finally, we can print the first few rows of the transportation plan to\n",
        "check if it looks correct."
      ],
      "id": "4eb3876f-eaec-445d-9d1a-1e109dbbc941"
    },
    {
      "cell_type": "code",
      "execution_count": 29,
      "metadata": {},
      "outputs": [],
      "source": [
        "println(\"Begining of the transportation plan:\")\n",
        "first(transport_df,5)"
      ],
      "id": "79d7d705"
    },
    {
      "cell_type": "markdown",
      "metadata": {},
      "source": [
        "> **Note**\n",
        ">\n",
        "> Although the above code looks rather complicated, it is essentially\n",
        "> just iterating over the keys of the dictionaries and storing the\n",
        "> values in a new DataFrame. This is a common pattern in optimization,\n",
        "> as we often want to convert the result of an optimization problem into\n",
        "> a more convenient format for reporting or further processing.\n",
        "\n",
        "------------------------------------------------------------------------\n",
        "\n",
        "# Conclusion\n",
        "\n",
        "In this tutorial, we have learned how to model and solve the\n",
        "transportation problem using JuMP. We have also learned how to use\n",
        "dictionaries to store and access the data, which will be useful for more\n",
        "complex models. If you have any questions, feel free to ask me via\n",
        "email!\n",
        "\n",
        "# Solutions\n",
        "\n",
        "You will likely find solutions to most exercises online. However, I\n",
        "strongly encourage you to work on these exercises independently without\n",
        "searching explicitly for the exact answers to the exercises.\n",
        "Understanding someone else’s solution is very different from developing\n",
        "your own. Use the lecture notes and try to solve the exercises on your\n",
        "own. This approach will significantly enhance your learning and\n",
        "problem-solving skills.\n",
        "\n",
        "Remember, the goal is not just to complete the exercises, but to\n",
        "understand the concepts and improve your programming abilities. If you\n",
        "encounter difficulties, review the lecture materials, experiment with\n",
        "different approaches, and don’t hesitate to ask for clarification during\n",
        "class discussions."
      ],
      "id": "4f2057ae-f735-4f57-9adf-449b197b0c1d"
    }
  ],
  "nbformat": 4,
  "nbformat_minor": 5,
  "metadata": {
    "kernelspec": {
      "name": "julia-ao-1.12",
      "display_name": "Julia-AO 1.12.0",
      "language": "julia",
      "path": "/Users/vlcek/Library/Jupyter/kernels/julia-ao-1.12"
    },
    "language_info": {
      "name": "julia",
      "file_extension": ".jl",
      "mimetype": "application/julia",
      "version": "1.12.0"
    }
  }
}