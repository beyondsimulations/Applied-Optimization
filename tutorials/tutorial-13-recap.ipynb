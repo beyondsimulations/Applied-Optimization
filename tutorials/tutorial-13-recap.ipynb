{
  "cells": [
    {
      "cell_type": "markdown",
      "metadata": {},
      "source": [
        "# Tutorial XIII - Recap and Discussion\n",
        "\n",
        "Applied Optimization with Julia\n",
        "\n",
        "# Introduction\n",
        "\n",
        "# Solutions\n",
        "\n",
        "You will likely find solutions to most exercises online. However, I\n",
        "strongly encourage you to work on these exercises independently without\n",
        "searching explicitly for the exact answers to the exercises.\n",
        "Understanding someone else’s solution is very different from developing\n",
        "your own. Use the lecture notes and try to solve the exercises on your\n",
        "own. This approach will significantly enhance your learning and\n",
        "problem-solving skills.\n",
        "\n",
        "Remember, the goal is not just to complete the exercises, but to\n",
        "understand the concepts and improve your programming abilities. If you\n",
        "encounter difficulties, review the lecture materials, experiment with\n",
        "different approaches, and don’t hesitate to ask for clarification during\n",
        "class discussions.\n",
        "\n",
        "This will (hopefully) be the easiest tutorial of the entire course.\n",
        "Essentially, we will just use today’s tutorial as a last chance for you\n",
        "to ask questions and discuss the content of the course.\n",
        "\n",
        "# Feedback on the lecture series\n",
        "\n",
        "To receive half a bonus point, you will just need to complete a short\n",
        "feedback form on the lecture series before the exam. It is not from the\n",
        "university, but from me, and I would be truly grateful for your honest\n",
        "opinion and feedback. Your feedback is important to me and has\n",
        "absolutely no influence on your grade!\n",
        "\n",
        "# Questions\n",
        "\n",
        "You can answer the questions directly online, but I’ll give you a heads\n",
        "up with the list of questions before. In total I think it will take you\n",
        "about 15 - 20 minutes to complete the form - that’s not too bad given\n",
        "that you will receive half a bonus point for it, right?\n",
        "\n",
        "In all honesty, I know this is much to ask of you - especially given\n",
        "that you will only receive half a bonus point for it and the exams are\n",
        "coming up. However, I think it is very important for me to get your\n",
        "honest opinion and feedback. I will use it to improve the course for\n",
        "future students, as well as for my future teaching.\n",
        "\n",
        "## Julia Programming Experience\n",
        "\n",
        "As this course introduced many of you to Julia programming, I’m\n",
        "particularly interested in your experience learning and working with\n",
        "this language. Your feedback will help determine if Julia remains the\n",
        "right choice for future iterations of this course and what additional\n",
        "programming support might be needed.\n",
        "\n",
        "-   How did you find the learning experience of Julia in this course?\n",
        "-   What were the greatest challenges you faced while learning Julia?\n",
        "-   Should I have used a different programming language for this course?\n",
        "-   Should we have covered programming with AI in this course?\n",
        "\n",
        "## Course Content and Structure\n",
        "\n",
        "The course covered a wide range of optimization topics, from basic\n",
        "concepts to advanced applications. I’d like to understand which parts\n",
        "resonated with you and which areas might need adjustment in terms of\n",
        "depth and clarity.\n",
        "\n",
        "-   Which topics would you have preferred to explore in more depth?\n",
        "-   Was there any topic you felt was covered too much?\n",
        "-   Which of the topics would you recommend removing in exchange for a\n",
        "    new topic in the future?\n",
        "-   How could the tutorial instructions be improved for clarity?\n",
        "\n",
        "## Learning Experience\n",
        "\n",
        "The course utilized a web-based format with interactive elements and a\n",
        "bonus point system. Your feedback on these teaching methods and course\n",
        "mechanics will be valuable for improving the learning experience.\n",
        "\n",
        "-   How did you find the website format for learning the material?\n",
        "-   What additional elements would enhance your learning?\n",
        "-   How could the teaching of the course be improved?\n",
        "-   How could the bonus point system be improved?\n",
        "\n",
        "## Future Improvements\n",
        "\n",
        "Looking ahead, I want to ensure this course continues to evolve and meet\n",
        "students’ needs. Your suggestions for future developments and overall\n",
        "reflections will help shape the course’s direction.\n",
        "\n",
        "-   What type of exam would best demonstrate your understanding?\n",
        "-   Please summarize your overall experience with the course?\n",
        "-   Is there any course at the university you would like to see in the\n",
        "    future?\n",
        "-   Have I missed anything important? Here is your chance!\n",
        "\n",
        "# Feedback Form"
      ],
      "id": "4b8f1fab-d3f1-4117-923c-19045a7408bd"
    },
    {
      "cell_type": "raw",
      "metadata": {
        "raw_mimetype": "text/html"
      },
      "source": [
        "<iframe data-tally-src=\"https://tally.so/embed/w58Z5E?alignLeft=1&amp;hideTitle=1&amp;transparentBackground=1&amp;dynamicHeight=1\" loading=\"lazy\" width=\"100%\" height=\"181\" frameborder=\"0\" marginheight=\"0\" marginwidth=\"0\" title=\"Feedback: Applied Optimization\">"
      ],
      "id": "be3296ea-4bcf-48a6-9fb6-7dfc3d9f5f8e"
    },
    {
      "cell_type": "raw",
      "metadata": {
        "raw_mimetype": "text/html"
      },
      "source": [
        "</iframe>"
      ],
      "id": "bcefde75-43e1-42f9-8dd7-1140e67ec9e3"
    },
    {
      "cell_type": "raw",
      "metadata": {
        "raw_mimetype": "text/html"
      },
      "source": [
        "<script>var d=document,w=\"https://tally.so/widgets/embed.js\",v=function(){\"undefined\"!=typeof Tally?Tally.loadEmbeds():d.querySelectorAll(\"iframe[data-tally-src]:not([src])\").forEach((function(e){e.src=e.dataset.tallySrc}))};if(\"undefined\"!=typeof Tally)v();else if(d.querySelector('script[src=\"'+w+'\"]')==null){var s=d.createElement(\"script\");s.src=w,s.onload=v,s.onerror=v,d.body.appendChild(s);}</script>"
      ],
      "id": "9b1b0810-63b4-4735-b57d-5e73de06dd3a"
    },
    {
      "cell_type": "markdown",
      "metadata": {},
      "source": [
        "# Wrap-up\n",
        "\n",
        "Thank’s for your participation! I wish you all the best for your exam\n",
        "and I hope you enjoyed the course! If you have any questions, please\n",
        "feel free to ask me or send me an email. We offer seminars each summer\n",
        "semester where you can explore different topics in more depth. In case\n",
        "you are interested in writing your thesis with me, please let me know\n",
        "and we can discuss potential topics."
      ],
      "id": "c40d846e-d7cd-4251-986f-08ec84ed836e"
    }
  ],
  "nbformat": 4,
  "nbformat_minor": 5,
  "metadata": {
    "kernelspec": {
      "display_name": "Python 3",
      "language": "python",
      "name": "python3"
    }
  }
}