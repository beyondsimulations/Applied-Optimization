{
  "cells": [
    {
      "cell_type": "markdown",
      "metadata": {},
      "source": [
        "# Tutorial III.I - Functions in Julia\n",
        "\n",
        "Applied Optimization with Julia\n",
        "\n",
        "# Introduction\n",
        "\n",
        "Imagine you have a helpful worker. Instead of explaining every little\n",
        "task to it each time, you can teach it specific jobs once, and then just\n",
        "ask it to do those jobs later. In programming, these “jobs” are called\n",
        "functions! This tutorial will show you how to create and use functions\n",
        "in Julia, making your code more organized and reusable.\n",
        "\n",
        "Follow the instructions, input your code in the designated areas, and\n",
        "verify your implementations with `@assert` statements.\n",
        "\n",
        "------------------------------------------------------------------------\n",
        "\n",
        "# Section 1 - Creating and Calling Functions\n",
        "\n",
        "Functions in Julia encapsulate reusable code and can be defined using\n",
        "the `function` keyword or shorthand syntax. After the keyword, you name\n",
        "the function and write the parameters in parentheses. Later, you can\n",
        "call the function by writing the name of the function followed by the\n",
        "parameters in parentheses.\n",
        "\n",
        "Thus, think of a function like a recipe:\n",
        "\n",
        "1.  It has a name (like “say_something”)\n",
        "2.  It might need ingredients (our “parameters”)\n",
        "3.  It has steps to follow (the code inside the function)\n",
        "4.  It usually produces something (we call this the “return value”)\n",
        "\n",
        "Let’s see some examples:"
      ],
      "id": "5b399cc5-1c25-464d-906a-876793d59ac0"
    },
    {
      "cell_type": "code",
      "execution_count": 2,
      "metadata": {},
      "outputs": [
        {
          "output_type": "display_data",
          "metadata": {},
          "data": {
            "text/plain": [
              "\"Hello, Elio!\""
            ]
          }
        }
      ],
      "source": [
        "# A simple function to greet someone\n",
        "function say_hello(name)\n",
        "    return \"Hello, $(name)!\"\n",
        "end\n",
        "\n",
        "# Using our function\n",
        "message = say_hello(\"Elio\")"
      ],
      "id": "060d2899"
    },
    {
      "cell_type": "code",
      "execution_count": 3,
      "metadata": {},
      "outputs": [
        {
          "output_type": "display_data",
          "metadata": {},
          "data": {
            "text/plain": [
              "50"
            ]
          }
        }
      ],
      "source": [
        "function multiply(a,b)\n",
        "   a * b\n",
        "end\n",
        "multiply(10, 5)"
      ],
      "id": "e61dd6bc"
    },
    {
      "cell_type": "markdown",
      "metadata": {},
      "source": [
        "The second function takes two parameters, multiplies them, and returns\n",
        "the result implicitly. In Julia, the last expression is automatically\n",
        "returned, making the `return` keyword optional. If you explicitly use\n",
        "the `return` keyword in the function, it will return the value\n",
        "immediately once the function encounters the keyword and stops the\n",
        "further execution of the function. That way, you can also use the\n",
        "keyword in conditional statements and use it to return a value based on\n",
        "a condition. For example:"
      ],
      "id": "166724f4-c2fe-4576-b898-be046aa36f27"
    },
    {
      "cell_type": "code",
      "execution_count": 4,
      "metadata": {},
      "outputs": [
        {
          "output_type": "stream",
          "name": "stdout",
          "text": [
            "The result of do_something(10, 5) is 50\n",
            "The result of do_something(5, 10) is 15"
          ]
        }
      ],
      "source": [
        "function do_something(a,b)\n",
        "   if a > b\n",
        "      return a * b\n",
        "   else\n",
        "      return a + b\n",
        "   end\n",
        "end\n",
        "println(\"The result of do_something(10, 5) is $(do_something(10, 5))\")\n",
        "println(\"The result of do_something(5, 10) is $(do_something(5, 10))\")"
      ],
      "id": "484b41ba"
    },
    {
      "cell_type": "markdown",
      "metadata": {},
      "source": [
        "> **Tip**\n",
        ">\n",
        "> Functions are like teaching a robot new skills:\n",
        ">\n",
        "> -   The function name is like the skill name (e.g., “make_sandwich”)\n",
        "> -   Parameters are things the robot needs to do the job (e.g., bread,\n",
        ">     filling)\n",
        "> -   The code inside are the steps to follow\n",
        "> -   The return value is the finished product\n",
        "\n",
        "## Exercise 1.1 - Define and Test a Simple Addition Function\n",
        "\n",
        "Define and test a simple addition function. Define a function `add` that\n",
        "takes two parameters and returns their sum."
      ],
      "id": "0166ba0f-ff88-4bb8-bfac-e2bf4566969e"
    },
    {
      "cell_type": "code",
      "execution_count": 5,
      "metadata": {},
      "outputs": [],
      "source": [
        "# YOUR CODE BELOW"
      ],
      "id": "a8f364a2"
    },
    {
      "cell_type": "code",
      "execution_count": 6,
      "metadata": {},
      "outputs": [],
      "source": [
        "# Test your answer\n",
        "@assert add(10, 5) == 15 \"The sum computed is $(add(10, 5)) but should be 15.\"\n",
        "println(\"The sum computed is $(add(10, 5)), wonderful!\")"
      ],
      "id": "d31dac15"
    },
    {
      "cell_type": "markdown",
      "metadata": {},
      "source": [
        "------------------------------------------------------------------------\n",
        "\n",
        "# Section 2 - Scope within Functions\n",
        "\n",
        "When you create variables inside a function, they’re like secret\n",
        "ingredients - they only exist inside that function’s “kitchen”. We call\n",
        "this “local scope”. Thus, variables declared inside a function are local\n",
        "to that function and are not accessible outside."
      ],
      "id": "7c6cb737-7f83-4216-8b37-8a8c56675cc1"
    },
    {
      "cell_type": "code",
      "execution_count": 7,
      "metadata": {},
      "outputs": [
        {
          "output_type": "stream",
          "name": "stdout",
          "text": [
            "Adding the secret ingredient: vanilla extract"
          ]
        }
      ],
      "source": [
        "function bake_cake()\n",
        "    secret_ingredient = \"vanilla extract\"\n",
        "    println(\"Adding the secret ingredient: $secret_ingredient\")\n",
        "end\n",
        "bake_cake()  # This works fine"
      ],
      "id": "d476e18e"
    },
    {
      "cell_type": "code",
      "execution_count": 8,
      "metadata": {},
      "outputs": [],
      "source": [
        "# But this would cause an error:\n",
        "println(secret_ingredient)"
      ],
      "id": "e101f262"
    },
    {
      "cell_type": "markdown",
      "metadata": {},
      "source": [
        "If you want to access the variable outside of the function, you have to\n",
        "explicitly return it. You can do this by passing `return` in front of\n",
        "the variable you want to return from the function.\n",
        "\n",
        "## Exercise 2.1 - Return a Local Variable\n",
        "\n",
        "Try to execute the following block of code. The objective is to\n",
        "understand how to return the `local_variable_one` from the function\n",
        "`scope_test`. Your task is to change the function, to return the value\n",
        "of `local_variable_one`."
      ],
      "id": "c0404c69-2224-4610-8fdd-a5cb4f455939"
    },
    {
      "cell_type": "code",
      "execution_count": 9,
      "metadata": {},
      "outputs": [],
      "source": [
        "# YOUR CHANGES BELOW\n",
        "function scope_test()\n",
        "    local_variable_one = 10\n",
        "    local_variable_two = 20\n",
        "end\n",
        "# YOUR CHANGES ABOVE"
      ],
      "id": "aa6eef57"
    },
    {
      "cell_type": "code",
      "execution_count": 10,
      "metadata": {},
      "outputs": [],
      "source": [
        "# Test your function\n",
        "@assert scope_test() == 10 \"The value exported is $(scope_test()).\"\n",
        "println(\"The value exported is $(scope_test()), you solved it!\")"
      ],
      "id": "3a90067e"
    },
    {
      "cell_type": "markdown",
      "metadata": {},
      "source": [
        "## Exercise 2.2 - Define an Implicit Return Function\n",
        "\n",
        "Define and test an implicit return function. Define a function\n",
        "`subtract` that takes two parameters and implicitly returns their\n",
        "difference. The implicit return feature makes your code cleaner and more\n",
        "concise."
      ],
      "id": "a8e22fa2-aac5-4170-a86a-87bf50a819b9"
    },
    {
      "cell_type": "code",
      "execution_count": 11,
      "metadata": {},
      "outputs": [],
      "source": [
        "# YOUR CODE BELOW"
      ],
      "id": "63f94a6e"
    },
    {
      "cell_type": "code",
      "execution_count": 12,
      "metadata": {},
      "outputs": [],
      "source": [
        "# Test your answer\n",
        "@assert subtract(10, 5) == 5  \"The difference computed is $(subtract(10, 5)) but should be 5.\"\n",
        "println(\"The difference computed is $(subtract(10, 5)), perfect!\")"
      ],
      "id": "c3b51fe1"
    },
    {
      "cell_type": "markdown",
      "metadata": {},
      "source": [
        "------------------------------------------------------------------------\n",
        "\n",
        "# Section 3 - Multiple Dispatch\n",
        "\n",
        "Multiple dispatch in Julia allows defining function behavior based on\n",
        "argument types, promoting code reuse and clarity. It’s a powerful\n",
        "feature for designing flexible and extensible functions. We first define\n",
        "a generic version and then provide specific implementations for\n",
        "different types:"
      ],
      "id": "c755d3af-da0a-4958-b243-5b8d0f21f9a0"
    },
    {
      "cell_type": "code",
      "execution_count": 13,
      "metadata": {},
      "outputs": [
        {
          "output_type": "stream",
          "name": "stdout",
          "text": [
            "30\n",
            "Hello, World!\n",
            "Generic operation for objects of type String and Int64"
          ]
        }
      ],
      "source": [
        "# Generic operation for objects of all types.\n",
        "function operation(a, b)\n",
        "    \"Generic operation for objects of type $(typeof(a)) and $(typeof(b))\"\n",
        "end\n",
        "\n",
        "# The specific implementations are:\n",
        "operation(a::Number, b::Number) = a + b        # Specific method for Number types.\n",
        "operation(a::String, b::String) = string(a, b) # Specific method for String types.\n",
        "\n",
        "# Test with different types of arguments.\n",
        "result1 = operation(10, 20)\n",
        "println(result1)\n",
        "result2 = operation(\"Hello, \", \"World!\")\n",
        "println(result2)\n",
        "result3 = operation(\"Hello, \", 20)\n",
        "println(result3)"
      ],
      "id": "df2021a3"
    },
    {
      "cell_type": "markdown",
      "metadata": {},
      "source": [
        "## Exercise 3.1 - Match Results to Assertions\n",
        "\n",
        "Match the results from the previous example to the correct assertions:"
      ],
      "id": "ae19e754-4da7-47d7-806e-55a0c94f6bcf"
    },
    {
      "cell_type": "code",
      "execution_count": 14,
      "metadata": {},
      "outputs": [],
      "source": [
        "# YOUR CHANGES BELOW\n",
        "@assert result2 == 30 \"result1 should be the sum of two numbers\"\n",
        "@assert result3 == \"Hello, World!\" \"result2 should be the concatenation of two strings\"\n",
        "@assert result1 == \"Generic operation for objects of type String and Int64\" \"result3 should use the generic operation\"\n",
        "println(\"You solved it, the assertions are now correct!\")"
      ],
      "id": "960fd6b6"
    },
    {
      "cell_type": "markdown",
      "metadata": {},
      "source": [
        "> **Tip**\n",
        ">\n",
        "> **Hint**: Look at the types of arguments used in each `operation` call\n",
        "> and match them to the appropriate method.\n",
        "\n",
        "------------------------------------------------------------------------\n",
        "\n",
        "# Conclusion\n",
        "\n",
        "Great work! You’ve just completed the tutorial on functions in Julia.\n",
        "You now have a first understanding of how to create, use, and understand\n",
        "functions in Julia. Continue to the next file to learn more.\n",
        "\n",
        "# Solutions\n",
        "\n",
        "You will likely find solutions to most exercises online. However, I\n",
        "strongly encourage you to work on these exercises independently without\n",
        "searching explicitly for the exact answers to the exercises.\n",
        "Understanding someone else’s solution is very different from developing\n",
        "your own. Use the lecture notes and try to solve the exercises on your\n",
        "own. This approach will significantly enhance your learning and\n",
        "problem-solving skills.\n",
        "\n",
        "Remember, the goal is not just to complete the exercises, but to\n",
        "understand the concepts and improve your programming abilities. If you\n",
        "encounter difficulties, review the lecture materials, experiment with\n",
        "different approaches, and don’t hesitate to ask for clarification during\n",
        "class discussions."
      ],
      "id": "c6862931-73e4-4813-a3cb-02a35a86fcbc"
    }
  ],
  "nbformat": 4,
  "nbformat_minor": 5,
  "metadata": {
    "kernelspec": {
      "name": "julia-ao-1.12",
      "display_name": "Julia-AO 1.12.0",
      "language": "julia",
      "path": "/Users/vlcek/Library/Jupyter/kernels/julia-ao-1.12"
    },
    "language_info": {
      "name": "julia",
      "file_extension": ".jl",
      "mimetype": "application/julia",
      "version": "1.12.0"
    }
  }
}