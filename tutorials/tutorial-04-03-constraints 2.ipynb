{
  "cells": [
    {
      "cell_type": "markdown",
      "metadata": {},
      "source": [
        "# Tutorial IV.III - Constraints in JuMP\n",
        "\n",
        "Applied Optimization with Julia\n",
        "\n",
        "# Introduction\n",
        "\n",
        "Welcome to this tutorial on constraints in JuMP! In this lesson, we’ll\n",
        "explore how to add rules (constraints) to our optimization problems.\n",
        "\n",
        "By the end of this tutorial, you’ll be able to: 1. Create simple\n",
        "constraints for your optimization problems 2. Use containers (like\n",
        "arrays) to manage multiple similar constraints 3. Create more complex\n",
        "constraints based on conditions\n",
        "\n",
        "Let’s start by loading the necessary packages:"
      ],
      "id": "a1799d0d-5ad4-4aae-9e5f-e77be08686b0"
    },
    {
      "cell_type": "code",
      "execution_count": 3,
      "metadata": {},
      "outputs": [],
      "source": [
        "using JuMP, HiGHS"
      ],
      "id": "2d4fbc45"
    },
    {
      "cell_type": "markdown",
      "metadata": {},
      "source": [
        "Now, let’s create a model that we’ll use throughout this tutorial:"
      ],
      "id": "6c2a860f-b8cf-4e71-baa3-0bcc8d151cb0"
    },
    {
      "cell_type": "code",
      "execution_count": 4,
      "metadata": {},
      "outputs": [],
      "source": [
        "another_model = Model(HiGHS.Optimizer)\n",
        "println(\"Great! We've created a new optimization model.\")"
      ],
      "id": "172bfd5a"
    },
    {
      "cell_type": "markdown",
      "metadata": {},
      "source": [
        "------------------------------------------------------------------------\n",
        "\n",
        "# Section 1 - Objective Functions with Container Variables\n",
        "\n",
        "Defining objective functions with variables in containers allows for\n",
        "scalable and dynamic model formulations. First, we need a container with\n",
        "variables for the objective function. For example:\n",
        "\n",
        "``` julia\n",
        "@variable(modelName, variableName[1:3] >= 0)\n",
        "```\n",
        "\n",
        "Now, we can define an objective function with the container. For\n",
        "example:\n",
        "\n",
        "``` julia\n",
        "@objective(modelName, Max, sum(variableName[i] for i in 1:3))\n",
        "```\n",
        "\n",
        "## Exercise 1.1 - Define arrays\n",
        "\n",
        "Scenario: Imagine you’re optimizing the production of 8 different\n",
        "products in a factory. Each product has a different profit margin, and\n",
        "you want to maximize total profit.\n",
        "\n",
        "Define an array of variables and an objective function for\n",
        "`another_model`. The variables should be called `profits` and have a\n",
        "range from `1:8`. It has a lower bound of `0`. The objective should be a\n",
        "Maximization of the sum of all `profits`."
      ],
      "id": "dcd91613-fd91-402d-a5b1-2931136a7570"
    },
    {
      "cell_type": "code",
      "execution_count": 5,
      "metadata": {},
      "outputs": [],
      "source": [
        "# YOUR CODE BELOW"
      ],
      "id": "4dc84572"
    },
    {
      "cell_type": "code",
      "execution_count": 6,
      "metadata": {},
      "outputs": [],
      "source": [
        "# Test your answer\n",
        "@assert length(profits) == 8 && all(lower_bound(profits[i]) == 0 for i in 1:8)\n",
        "@assert typeof(objective_function(another_model)) == AffExpr\n",
        "println(\"Objective function with container variables defined successfully!\")"
      ],
      "id": "8bef1762"
    },
    {
      "cell_type": "markdown",
      "metadata": {},
      "source": [
        "------------------------------------------------------------------------\n",
        "\n",
        "# Section 2 - Constraints within Containers\n",
        "\n",
        "Defining constraints within containers allows for structured and easily\n",
        "manageable models. This is especially important when models become\n",
        "larger! To define a constraint within a container, we can do, for\n",
        "example, the following:\n",
        "\n",
        "``` julia\n",
        "@constraint(modelName,\n",
        "    constraintName[i in 1:3],\n",
        "    variableName[i] <= 100\n",
        ")\n",
        "```\n",
        "\n",
        "This would create a constraint called `constraintName` for each `i` -\n",
        "thus `1`,`2`, and `3` - where `variableName[1]`, `variableName[2]`, and\n",
        "`variableName[3]` are restricted to be maximally `100`.\n",
        "\n",
        "# Exercise 2.1 - Define constraints\n",
        "\n",
        "Continuing our factory scenario: Each product has a maximum daily\n",
        "production capacity due to machine limitations.\n",
        "\n",
        "Define constraints called `maxProfit` using an array of variables. The\n",
        "logic: Each profit defined in the previous task should be less than or\n",
        "equal to `12`."
      ],
      "id": "8aa69e84-fcfd-4024-94b2-a14f5081c3c6"
    },
    {
      "cell_type": "code",
      "execution_count": 7,
      "metadata": {},
      "outputs": [],
      "source": [
        "# YOUR CODE BELOW"
      ],
      "id": "67f57a5d"
    },
    {
      "cell_type": "code",
      "execution_count": 8,
      "metadata": {},
      "outputs": [],
      "source": [
        "# Test your answer\n",
        "@assert all(is_valid(another_model, maxProfit[i]) for i in 1:8)\n",
        "println(\"Constraints within containers defined successfully!\")"
      ],
      "id": "7996cfaf"
    },
    {
      "cell_type": "markdown",
      "metadata": {},
      "source": [
        "------------------------------------------------------------------------\n",
        "\n",
        "# Section 3 - Implementing Conditional Constraints\n",
        "\n",
        "Conditional constraints are added to the model based on certain\n",
        "conditions, allowing for dynamic and flexible model formulations. To\n",
        "define a constraint within a container under conditions, we can do the\n",
        "following:\n",
        "\n",
        "``` julia\n",
        "@constraint(modelName,\n",
        "    constraintName[i in 1:3; i <= 2],\n",
        "    variableName[i] <= 50\n",
        ")\n",
        "```\n",
        "\n",
        "This would create a constraint called `constraintName` for each `i` -\n",
        "thus `1`,`2`, and `3` - where `variableName[1]`, `variableName[2]` are\n",
        "restricted to be maximally `50` and `variableName[3]` was not\n",
        "restricted.\n",
        "\n",
        "## Exercise 3.1 - Add a conditional constraints\n",
        "\n",
        "Scenario extension: The first 4 products are new and have limited market\n",
        "demand.\n",
        "\n",
        "Add a conditional constraint `smallProfit` to the previous model.\n",
        "Condition: Only the first 4 variables profit have to be lower or\n",
        "equalthan 5."
      ],
      "id": "12053842-6edd-4156-bca4-1f610720f4b7"
    },
    {
      "cell_type": "code",
      "execution_count": 9,
      "metadata": {},
      "outputs": [],
      "source": [
        "# YOUR CODE BELOW"
      ],
      "id": "6b945c99"
    },
    {
      "cell_type": "code",
      "execution_count": 10,
      "metadata": {},
      "outputs": [],
      "source": [
        "# Test your answer\n",
        "@assert all(is_valid(another_model, smallProfit[i]) for i in 1:4)\n",
        "println(\"Conditional constraint implemented successfully!\")\n",
        "println(\"Checking successful implementation.\")\n",
        "optimize!(another_model)\n",
        "status = termination_status(another_model)\n",
        "@assert status == MOI.OPTIMAL \"Sorry, something didn't work out as the model status is $status\"\n",
        "@assert objective_value(another_model) ≈ 68 atol=1e-4 \"Although you have an optimal solution,\n",
        "    the should be 68 not $(objective_value(another_model)). Is the model correct?\"\n",
        "println(\"Model components validated successfully!\")"
      ],
      "id": "30f15ccd"
    },
    {
      "cell_type": "markdown",
      "metadata": {},
      "source": [
        "# Visualization of Results\n",
        "\n",
        "Let’s visualize our optimal solution:"
      ],
      "id": "ca9358e6-ab74-41df-a78d-0cefd05224fd"
    },
    {
      "cell_type": "code",
      "execution_count": 11,
      "metadata": {},
      "outputs": [],
      "source": [
        "using Plots\n",
        "# Assuming the model has been solved!!!\n",
        "optimal_profits = value.(profits)\n",
        "\n",
        "bar(1:8, optimal_profits,\n",
        "    title=\"Optimal Production Levels\",\n",
        "    xlabel=\"Product\",\n",
        "    ylabel=\"Profit\",\n",
        "    legend=false)"
      ],
      "id": "4f241f1e"
    },
    {
      "cell_type": "markdown",
      "metadata": {},
      "source": [
        "------------------------------------------------------------------------\n",
        "\n",
        "# Conclusion\n",
        "\n",
        "Congratulations! You’ve completed the tutorial on advanced handling of\n",
        "objective functions and constraints in JuMP. You’ve learned how to\n",
        "define objective functions and constraints using container variables.\n",
        "Continue to the next file to learn more.\n",
        "\n",
        "# Solutions\n",
        "\n",
        "You will likely find solutions to most exercises online. However, I\n",
        "strongly encourage you to work on these exercises independently without\n",
        "searching explicitly for the exact answers to the exercises.\n",
        "Understanding someone else’s solution is very different from developing\n",
        "your own. Use the lecture notes and try to solve the exercises on your\n",
        "own. This approach will significantly enhance your learning and\n",
        "problem-solving skills.\n",
        "\n",
        "Remember, the goal is not just to complete the exercises, but to\n",
        "understand the concepts and improve your programming abilities. If you\n",
        "encounter difficulties, review the lecture materials, experiment with\n",
        "different approaches, and don’t hesitate to ask for clarification during\n",
        "class discussions."
      ],
      "id": "ffee0a2b-8964-4ce6-a3fe-454ba760e36f"
    }
  ],
  "nbformat": 4,
  "nbformat_minor": 5,
  "metadata": {
    "kernelspec": {
      "name": "julia-ao-1.12",
      "display_name": "Julia-AO 1.12.0",
      "language": "julia",
      "path": "/Users/vlcek/Library/Jupyter/kernels/julia-ao-1.12"
    },
    "language_info": {
      "name": "julia",
      "file_extension": ".jl",
      "mimetype": "application/julia",
      "version": "1.12.0"
    }
  }
}