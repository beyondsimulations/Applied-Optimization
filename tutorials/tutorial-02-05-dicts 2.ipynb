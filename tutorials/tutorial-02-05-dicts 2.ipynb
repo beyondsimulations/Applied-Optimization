{
  "cells": [
    {
      "cell_type": "markdown",
      "metadata": {},
      "source": [
        "# Tutorial II.V - Dictionaries\n",
        "\n",
        "Applied Optimization with Julia\n",
        "\n",
        "# Introduction\n",
        "\n",
        "Imagine you have a school directory where each student’s name is\n",
        "associated with their unique student ID. This is similar to how\n",
        "dictionaries work in programming - they allow you to store and retrieve\n",
        "information using key-value pairs.\n",
        "\n",
        "Follow the structured instructions, implement your code in the\n",
        "designated blocks, and affirm your comprehension with `@assert`\n",
        "statements.\n",
        "\n",
        "------------------------------------------------------------------------\n",
        "\n",
        "# Section 1 - Creating and Accessing Dictionaries\n",
        "\n",
        "Think of it this way:\n",
        "\n",
        "-   A dictionary is like a lookup table\n",
        "-   Each entry has a unique key (like a student’s name)\n",
        "-   And an associated value (like their ID number)\n",
        "\n",
        "Let’s see some examples:"
      ],
      "id": "526aa5a8-de78-42d0-ade8-923d09f7ccc1"
    },
    {
      "cell_type": "code",
      "execution_count": 2,
      "metadata": {},
      "outputs": [
        {
          "output_type": "display_data",
          "metadata": {},
          "data": {
            "text/plain": [
              "Dict{String, Int64} with 3 entries:\n",
              "  \"Elio\" => 1001\n",
              "  \"Bob\"  => 1002\n",
              "  \"Yola\" => 1003"
            ]
          }
        }
      ],
      "source": [
        "# Creating a dictionary\n",
        "student_ids = Dict(\n",
        "    \"Elio\" => 1001,\n",
        "    \"Bob\" => 1002,\n",
        "    \"Yola\" => 1003\n",
        ")"
      ],
      "id": "af807f0e"
    },
    {
      "cell_type": "code",
      "execution_count": 3,
      "metadata": {},
      "outputs": [
        {
          "output_type": "stream",
          "name": "stdout",
          "text": [
            "Elio's ID: 1001"
          ]
        }
      ],
      "source": [
        "# Accessing values\n",
        "println(\"Elio's ID: \", student_ids[\"Elio\"])"
      ],
      "id": "4915359d"
    },
    {
      "cell_type": "code",
      "execution_count": 4,
      "metadata": {},
      "outputs": [
        {
          "output_type": "display_data",
          "metadata": {},
          "data": {
            "text/plain": [
              "1004"
            ]
          }
        }
      ],
      "source": [
        "# Adding a new entry\n",
        "student_ids[\"David\"] = 1004"
      ],
      "id": "d330b45c"
    },
    {
      "cell_type": "code",
      "execution_count": 5,
      "metadata": {},
      "outputs": [
        {
          "output_type": "stream",
          "name": "stdout",
          "text": [
            "Eve is not in the directory"
          ]
        }
      ],
      "source": [
        "# Checking if a key exists\n",
        "if haskey(student_ids, \"Eve\")\n",
        "    println(\"Eve's ID: \", student_ids[\"Eve\"])\n",
        "else\n",
        "    println(\"Eve is not in the directory\")\n",
        "end"
      ],
      "id": "1e16fc27"
    },
    {
      "cell_type": "markdown",
      "metadata": {},
      "source": [
        "## Exercise 1.1 - Create and Modify a Dictionary\n",
        "\n",
        "Add a new book called “Harry Potter and the Philosopher’s Stone” with\n",
        "the author “J.K. Rowling” to the created dictionary."
      ],
      "id": "7a60729c-9116-40f0-b021-a9ea01b373d9"
    },
    {
      "cell_type": "code",
      "execution_count": 6,
      "metadata": {},
      "outputs": [],
      "source": [
        "# Creates a dictionary of books and authors\n",
        "books = Dict(\n",
        "    \"1984\" => \"George Orwell\",\n",
        "    \"Nexus\" => \"Yuval Noah Harari\"\n",
        ")\n",
        "# YOUR CODE BELOW"
      ],
      "id": "652ff55d"
    },
    {
      "cell_type": "code",
      "execution_count": 7,
      "metadata": {},
      "outputs": [],
      "source": [
        "# Test your answer\n",
        "@assert haskey(books, \"Harry Potter and the Philosopher's Stone\")\n",
        "println(\"Great! You've successfully added a new book to the books dictionary.\")"
      ],
      "id": "57190983"
    },
    {
      "cell_type": "markdown",
      "metadata": {},
      "source": [
        "## Exercise 1.2 - Modify a Dictionary\n",
        "\n",
        "Change the author of “1984” to “Eric Blair” (George Orwell’s real name)."
      ],
      "id": "40c27542-5fe0-4d07-8b52-a2b4443e11d0"
    },
    {
      "cell_type": "code",
      "execution_count": 8,
      "metadata": {},
      "outputs": [],
      "source": [
        "# YOUR CODE BELOW"
      ],
      "id": "f4a2e98c"
    },
    {
      "cell_type": "code",
      "execution_count": 9,
      "metadata": {},
      "outputs": [],
      "source": [
        "# Test your answer\n",
        "@assert books[\"1984\"] == \"Eric Blair\"\n",
        "println(\"Great! You've successfully modified the books dictionary.\")"
      ],
      "id": "1c3d6526"
    },
    {
      "cell_type": "markdown",
      "metadata": {},
      "source": [
        "------------------------------------------------------------------------\n",
        "\n",
        "# Section 2 - Advanced Dictionary Operations\n",
        "\n",
        "Dictionaries can do more than just store simple information. Let’s\n",
        "explore some features:"
      ],
      "id": "801d9dd0-7f56-4631-b091-0e033a4a3d02"
    },
    {
      "cell_type": "code",
      "execution_count": 10,
      "metadata": {},
      "outputs": [
        {
          "output_type": "display_data",
          "metadata": {},
          "data": {
            "text/plain": [
              "Dict{String, Vector{Int64}} with 3 entries:\n",
              "  \"Elio\" => [85, 92, 78]\n",
              "  \"Bob\"  => [76, 88, 94]\n",
              "  \"Yola\" => [90, 91, 89]"
            ]
          }
        }
      ],
      "source": [
        "# A dictionary of student grades\n",
        "grades = Dict(\n",
        "    \"Elio\" => [85, 92, 78],\n",
        "    \"Bob\" => [76, 88, 94],\n",
        "    \"Yola\" => [90, 91, 89]\n",
        ")"
      ],
      "id": "106ef1f2"
    },
    {
      "cell_type": "code",
      "execution_count": 11,
      "metadata": {},
      "outputs": [
        {
          "output_type": "stream",
          "name": "stdout",
          "text": [
            "Students: [\"Elio\", \"Bob\", \"Yola\"]"
          ]
        }
      ],
      "source": [
        "# Get all the keys (student names)\n",
        "student_names = keys(grades)\n",
        "println(\"Students: \", student_names)"
      ],
      "id": "bb2b22d5"
    },
    {
      "cell_type": "code",
      "execution_count": 12,
      "metadata": {},
      "outputs": [
        {
          "output_type": "stream",
          "name": "stdout",
          "text": [
            "All grades: [[85, 92, 78], [76, 88, 94], [90, 91, 89]]"
          ]
        }
      ],
      "source": [
        "# Get all the values (grade lists)\n",
        "all_grades = values(grades)\n",
        "println(\"All grades: \", all_grades)"
      ],
      "id": "5b1a391a"
    },
    {
      "cell_type": "code",
      "execution_count": 13,
      "metadata": {},
      "outputs": [
        {
          "output_type": "stream",
          "name": "stdout",
          "text": [
            "Elio's average grade: 85.0\n",
            "Bob's average grade: 86.0\n",
            "Yola's average grade: 90.0"
          ]
        }
      ],
      "source": [
        "# Calculate average grade for each student\n",
        "for (student, grade_list) in grades\n",
        "    average = sum(grade_list) / length(grade_list)\n",
        "    println(\"$student's average grade: $average\")\n",
        "end"
      ],
      "id": "6bdbbe39"
    },
    {
      "cell_type": "markdown",
      "metadata": {},
      "source": [
        "> **Note**\n",
        ">\n",
        "> The `(student, grade_list)` is a tuple that contains the key and value\n",
        "> of each entry in the dictionary. We could also name the tuple as\n",
        "> `(key, value)` or `(a, b)`.\n",
        "\n",
        "------------------------------------------------------------------------\n",
        "\n",
        "## Conclusion\n",
        "\n",
        "Great! You’ve just navigated through the basics of dictionaries in\n",
        "Julia. Dictionaries are powerful data structures that allow for\n",
        "efficient data organization and retrieval. Continue to the next file to\n",
        "learn more advanced Julia concepts.\n",
        "\n",
        "# Solutions\n",
        "\n",
        "You will likely find solutions to most exercises online. However, I\n",
        "strongly encourage you to work on these exercises independently without\n",
        "searching explicitly for the exact answers to the exercises.\n",
        "Understanding someone else’s solution is very different from developing\n",
        "your own. Use the lecture notes and try to solve the exercises on your\n",
        "own. This approach will significantly enhance your learning and\n",
        "problem-solving skills.\n",
        "\n",
        "Remember, the goal is not just to complete the exercises, but to\n",
        "understand the concepts and improve your programming abilities. If you\n",
        "encounter difficulties, review the lecture materials, experiment with\n",
        "different approaches, and don’t hesitate to ask for clarification during\n",
        "class discussions."
      ],
      "id": "7e4f2cec-1fa8-4f31-885c-536c0ed5af51"
    }
  ],
  "nbformat": 4,
  "nbformat_minor": 5,
  "metadata": {
    "kernelspec": {
      "name": "julia-ao-1.12",
      "display_name": "Julia-AO 1.12.0",
      "language": "julia",
      "path": "/Users/vlcek/Library/Jupyter/kernels/julia-ao-1.12"
    },
    "language_info": {
      "name": "julia",
      "file_extension": ".jl",
      "mimetype": "application/julia",
      "version": "1.12.0"
    }
  }
}