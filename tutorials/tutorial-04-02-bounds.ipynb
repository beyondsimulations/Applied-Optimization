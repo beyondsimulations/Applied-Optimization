{
  "cells": [
    {
      "cell_type": "markdown",
      "metadata": {},
      "source": [
        "# Tutorial IV.II - Variables and Bounds in JuMP\n",
        "\n",
        "Applied Optimization with Julia\n",
        "\n",
        "# Introduction\n",
        "\n",
        "Welcome to this beginner-friendly tutorial on variables and bounds in\n",
        "JuMP! In this lesson, we’ll explore different types of variables and how\n",
        "to set limits (or bounds) on them. Don’t worry if you’re new to\n",
        "optimization - we’ll explain everything step by step using real-world\n",
        "examples.\n",
        "\n",
        "Follow the instructions, write your code in the designated code blocks,\n",
        "and confirm your understanding with `@assert` statements. Make sure to\n",
        "have the JuMP package installed to follow this tutorial.\n",
        "\n",
        "Let’s start by loading the JuMP package:"
      ],
      "id": "790e9bd2-efce-46c2-ab36-ca5fce00608a"
    },
    {
      "cell_type": "code",
      "execution_count": 3,
      "metadata": {},
      "outputs": [],
      "source": [
        "using JuMP"
      ],
      "id": "bbd96e09"
    },
    {
      "cell_type": "markdown",
      "metadata": {},
      "source": [
        "Now, let’s create a model that we’ll use throughout this tutorial:"
      ],
      "id": "59b032a7-14c9-4aa3-bcad-217d9a7fe34c"
    },
    {
      "cell_type": "code",
      "execution_count": 4,
      "metadata": {},
      "outputs": [
        {
          "output_type": "stream",
          "name": "stdout",
          "text": [
            "Great! We've created a new optimization model."
          ]
        }
      ],
      "source": [
        "model = Model()\n",
        "println(\"Great! We've created a new optimization model.\")"
      ],
      "id": "ffbf8b24"
    },
    {
      "cell_type": "markdown",
      "metadata": {},
      "source": [
        "------------------------------------------------------------------------\n",
        "\n",
        "# Section 1 - Understanding Different Types of Variables\n",
        "\n",
        "In optimization problems, we often need to represent different kinds of\n",
        "decisions. JuMP allows us to use three main types of variables:\n",
        "\n",
        "1.  **Continuous variables**: These can take any real value within a\n",
        "    range. Example: The amount of water in a reservoir (can be any\n",
        "    number, like 3.7 liters).\n",
        "\n",
        "2.  **Integer variables**: These can only be whole numbers. Example: The\n",
        "    number of cars produced in a factory (we can’t produce half a car!).\n",
        "\n",
        "3.  **Binary variables**: These can only be 0 or 1. Example: Whether to\n",
        "    build a new store in a location (yes = 1, no = 0).\n",
        "\n",
        "Let’s see how to create each type:"
      ],
      "id": "a32ee9f4-4d98-421c-b292-ac86947a925c"
    },
    {
      "cell_type": "code",
      "execution_count": 5,
      "metadata": {},
      "outputs": [],
      "source": [
        "@variable(model, variableName)"
      ],
      "id": "e82c3b7c"
    },
    {
      "cell_type": "markdown",
      "metadata": {},
      "source": [
        "This defines a continuous variable without any bound."
      ],
      "id": "7327189d-ead4-4f83-aee1-c98ed8d565d2"
    },
    {
      "cell_type": "code",
      "execution_count": 6,
      "metadata": {},
      "outputs": [],
      "source": [
        "@variable(model, 0 <= variableName2 <= 1)\n",
        "has_lower_bound(variableName2) && has_upper_bound(variableName2)"
      ],
      "id": "69441ba2"
    },
    {
      "cell_type": "markdown",
      "metadata": {},
      "source": [
        "This defines a continuous variable in an interval."
      ],
      "id": "79d6844b-820b-45c7-b2b9-8c6d85ce3393"
    },
    {
      "cell_type": "code",
      "execution_count": 7,
      "metadata": {},
      "outputs": [],
      "source": [
        "@variable(model, variableName3, Bin)\n",
        "is_binary(variableName3)"
      ],
      "id": "7ac594ee"
    },
    {
      "cell_type": "markdown",
      "metadata": {},
      "source": [
        "This defines a binary variable."
      ],
      "id": "c39af888-1f99-49e7-9c59-23091f65de52"
    },
    {
      "cell_type": "code",
      "execution_count": 8,
      "metadata": {},
      "outputs": [],
      "source": [
        "@variable(model, 0 <= variableName4, Int)\n",
        "is_integer(variableName4)"
      ],
      "id": "57c2d124"
    },
    {
      "cell_type": "markdown",
      "metadata": {},
      "source": [
        "This defines an integer variable.\n",
        "\n",
        "> **Note**\n",
        ">\n",
        "> Note that you will have to change `model` and `variableName` according\n",
        "> to your instance.\n",
        "\n",
        "## Exercise 1.1 - Create Variables\n",
        "\n",
        "Now it’s your turn! Create three variables:\n",
        "\n",
        "1.  A continuous variable called `water_amount`\n",
        "2.  An integer variable called `cars_produced`\n",
        "3.  A binary variable called `build_store`"
      ],
      "id": "b72e5e70-c040-4219-9a5b-e3b522df4edc"
    },
    {
      "cell_type": "code",
      "execution_count": 9,
      "metadata": {},
      "outputs": [],
      "source": [
        "# YOUR CODE BELOW\n",
        "# Hint: Use the @variable macro three times, once for each variable"
      ],
      "id": "cf766dcb"
    },
    {
      "cell_type": "code",
      "execution_count": 10,
      "metadata": {},
      "outputs": [],
      "source": [
        "# Test your answer\n",
        "@assert typeof(water_amount) == VariableRef && !is_integer(water_amount) && !is_binary(water_amount)\n",
        "@assert typeof(cars_produced) == VariableRef && is_integer(cars_produced)\n",
        "@assert typeof(build_store) == VariableRef && is_binary(build_store)\n",
        "println(\"Excellent work! You've successfully created continuous, integer, and binary variables.\")"
      ],
      "id": "33d210ad"
    },
    {
      "cell_type": "markdown",
      "metadata": {},
      "source": [
        "------------------------------------------------------------------------\n",
        "\n",
        "# Section 2 - Creating Variables in Containers\n",
        "\n",
        "When we have many similar variables, it’s helpful to group them\n",
        "together. JuMP allows us to use containers like arrays and matrices for\n",
        "this purpose. For example:"
      ],
      "id": "224a074f-77fd-455a-a84b-b770e14c9685"
    },
    {
      "cell_type": "code",
      "execution_count": 11,
      "metadata": {},
      "outputs": [
        {
          "output_type": "display_data",
          "metadata": {},
          "data": {
            "text/plain": [
              "20-element Vector{VariableRef}:\n",
              " variableName5[1]\n",
              " variableName5[2]\n",
              " variableName5[3]\n",
              " variableName5[4]\n",
              " variableName5[5]\n",
              " variableName5[6]\n",
              " variableName5[7]\n",
              " variableName5[8]\n",
              " variableName5[9]\n",
              " variableName5[10]\n",
              " variableName5[11]\n",
              " variableName5[12]\n",
              " variableName5[13]\n",
              " variableName5[14]\n",
              " variableName5[15]\n",
              " variableName5[16]\n",
              " variableName5[17]\n",
              " variableName5[18]\n",
              " variableName5[19]\n",
              " variableName5[20]"
            ]
          }
        }
      ],
      "source": [
        "@variable(model, variableName5[1:20], Bin)"
      ],
      "id": "c2b6ac89"
    },
    {
      "cell_type": "markdown",
      "metadata": {},
      "source": [
        "This would create a container with 20 variables. To create a set based\n",
        "on a range, we could do:"
      ],
      "id": "8f7af728-2aec-425e-b0d3-3e06d47f889c"
    },
    {
      "cell_type": "code",
      "execution_count": 12,
      "metadata": {},
      "outputs": [
        {
          "output_type": "display_data",
          "metadata": {},
          "data": {
            "text/plain": [
              "1-dimensional DenseAxisArray{VariableRef,1,...} with index sets:\n",
              "    Dimension 1, 1:100\n",
              "And data, a 100-element Vector{VariableRef}:\n",
              " variableName6[1]\n",
              " variableName6[2]\n",
              " variableName6[3]\n",
              " variableName6[4]\n",
              " variableName6[5]\n",
              " variableName6[6]\n",
              " variableName6[7]\n",
              " variableName6[8]\n",
              " variableName6[9]\n",
              " variableName6[10]\n",
              " variableName6[11]\n",
              " variableName6[12]\n",
              " variableName6[13]\n",
              " ⋮\n",
              " variableName6[89]\n",
              " variableName6[90]\n",
              " variableName6[91]\n",
              " variableName6[92]\n",
              " variableName6[93]\n",
              " variableName6[94]\n",
              " variableName6[95]\n",
              " variableName6[96]\n",
              " variableName6[97]\n",
              " variableName6[98]\n",
              " variableName6[99]\n",
              " variableName6[100]"
            ]
          }
        }
      ],
      "source": [
        "new_range = 1:100\n",
        "@variable(model, variableName6[i in new_range] >= 0)"
      ],
      "id": "a9e87070"
    },
    {
      "cell_type": "markdown",
      "metadata": {},
      "source": [
        "This would create a container with 100 continuous variables larger than\n",
        "0. For a container with multiple dimensions:"
      ],
      "id": "1046c85d-ab85-4759-868c-aae23114b6ff"
    },
    {
      "cell_type": "code",
      "execution_count": 13,
      "metadata": {},
      "outputs": [
        {
          "output_type": "display_data",
          "metadata": {},
          "data": {
            "text/plain": [
              "30×30 Matrix{VariableRef}:\n",
              " variableName7[1,1]   variableName7[1,2]   …  variableName7[1,30]\n",
              " variableName7[2,1]   variableName7[2,2]      variableName7[2,30]\n",
              " variableName7[3,1]   variableName7[3,2]      variableName7[3,30]\n",
              " variableName7[4,1]   variableName7[4,2]      variableName7[4,30]\n",
              " variableName7[5,1]   variableName7[5,2]      variableName7[5,30]\n",
              " variableName7[6,1]   variableName7[6,2]   …  variableName7[6,30]\n",
              " variableName7[7,1]   variableName7[7,2]      variableName7[7,30]\n",
              " variableName7[8,1]   variableName7[8,2]      variableName7[8,30]\n",
              " variableName7[9,1]   variableName7[9,2]      variableName7[9,30]\n",
              " variableName7[10,1]  variableName7[10,2]     variableName7[10,30]\n",
              " variableName7[11,1]  variableName7[11,2]  …  variableName7[11,30]\n",
              " variableName7[12,1]  variableName7[12,2]     variableName7[12,30]\n",
              " variableName7[13,1]  variableName7[13,2]     variableName7[13,30]\n",
              " ⋮                                         ⋱  \n",
              " variableName7[19,1]  variableName7[19,2]     variableName7[19,30]\n",
              " variableName7[20,1]  variableName7[20,2]     variableName7[20,30]\n",
              " variableName7[21,1]  variableName7[21,2]  …  variableName7[21,30]\n",
              " variableName7[22,1]  variableName7[22,2]     variableName7[22,30]\n",
              " variableName7[23,1]  variableName7[23,2]     variableName7[23,30]\n",
              " variableName7[24,1]  variableName7[24,2]     variableName7[24,30]\n",
              " variableName7[25,1]  variableName7[25,2]     variableName7[25,30]\n",
              " variableName7[26,1]  variableName7[26,2]  …  variableName7[26,30]\n",
              " variableName7[27,1]  variableName7[27,2]     variableName7[27,30]\n",
              " variableName7[28,1]  variableName7[28,2]     variableName7[28,30]\n",
              " variableName7[29,1]  variableName7[29,2]     variableName7[29,30]\n",
              " variableName7[30,1]  variableName7[30,2]     variableName7[30,30]"
            ]
          }
        }
      ],
      "source": [
        "@variable(model, variableName7[1:30, 1:30])"
      ],
      "id": "96ded630"
    },
    {
      "cell_type": "markdown",
      "metadata": {},
      "source": [
        "This would create a container with a matrix of continuous variables\n",
        "without any bound. Note that you will have to change `model` and\n",
        "`variableName` according to your instance.\n",
        "\n",
        "## Exercise 2.1 - Create an Array\n",
        "\n",
        "Imagine you’re planning production for a week. Create an array\n",
        "`daily_production` with 7 non-negative variables, one for each day of\n",
        "the week."
      ],
      "id": "175292ba-594a-4af5-a379-343bf2867be0"
    },
    {
      "cell_type": "code",
      "execution_count": 14,
      "metadata": {},
      "outputs": [],
      "source": [
        "# YOUR CODE BELOW"
      ],
      "id": "a912ed4e"
    },
    {
      "cell_type": "code",
      "execution_count": 15,
      "metadata": {},
      "outputs": [],
      "source": [
        "# Test your answer\n",
        "@assert length(daily_production) == 7\n",
        "@assert all(lower_bound(daily_production[i]) == 0 for i in 1:7)\n",
        "println(\"Great job! You've created an array of 7 non-negative variables for daily production.\")"
      ],
      "id": "ca62fe53"
    },
    {
      "cell_type": "markdown",
      "metadata": {},
      "source": [
        "## Exercise 2.2 - Create a Matrix of Variables\n",
        "\n",
        "Now, imagine you’re deciding whether to stock 4 different products in 3\n",
        "different stores. Create a 3x4 matrix of binary variables called\n",
        "`stock_decision`."
      ],
      "id": "69a8757e-badd-46ca-9b9c-ca83df56a7d4"
    },
    {
      "cell_type": "code",
      "execution_count": 16,
      "metadata": {},
      "outputs": [],
      "source": [
        "# YOUR CODE BELOW"
      ],
      "id": "8736293f"
    },
    {
      "cell_type": "code",
      "execution_count": 17,
      "metadata": {},
      "outputs": [],
      "source": [
        "# Test your answer\n",
        "@assert size(stock_decision) == (3, 4)\n",
        "@assert all(is_binary(stock_decision[i,j]) for i in 1:3, j in 1:4)\n",
        "println(\"Excellent! You've created a 3x4 matrix of binary variables for stocking decisions.\")"
      ],
      "id": "7431f3fc"
    },
    {
      "cell_type": "markdown",
      "metadata": {},
      "source": [
        "------------------------------------------------------------------------\n",
        "\n",
        "# Section 3 - Setting Bounds on Variables\n",
        "\n",
        "Often, we know that a variable can’t go below or above certain values.\n",
        "We can set these limits (called bounds) when we create the variable.\n",
        "\n",
        "For example, if a factory can produce between 100 and 500 units:\n",
        "\n",
        "``` julia\n",
        "@variable(model, 100 <= production <= 500)\n",
        "```\n",
        "\n",
        "Or if we know a percentage must be between 0 and 100:\n",
        "\n",
        "``` julia\n",
        "@variable(model, 0 <= percentage <= 100)\n",
        "```\n",
        "\n",
        "## Exercise 3.1 - Set Bounds on a Variable\n",
        "\n",
        "Create a variable `temperature` that represents the temperature setting\n",
        "on a thermostat. It should be between 0 and 37 degrees."
      ],
      "id": "1fffa9f7-bc6c-4fa9-be3b-2b73b35413e6"
    },
    {
      "cell_type": "code",
      "execution_count": 18,
      "metadata": {},
      "outputs": [],
      "source": [
        "# YOUR CODE BELOW"
      ],
      "id": "05ac3987"
    },
    {
      "cell_type": "code",
      "execution_count": 19,
      "metadata": {},
      "outputs": [],
      "source": [
        "# Test your answer\n",
        "@assert lower_bound(temperature) == 0\n",
        "@assert upper_bound(temperature) == 37\n",
        "println(\"Well done! You've created a variable for temperature with appropriate bounds.\")"
      ],
      "id": "9fe8b602"
    },
    {
      "cell_type": "markdown",
      "metadata": {},
      "source": [
        "------------------------------------------------------------------------\n",
        "\n",
        "# Conclusion\n",
        "\n",
        "Fantastic! You’ve completed the tutorial on advanced variables in JuMP.\n",
        "You’ve learned how to create variables in containers, manage different\n",
        "types of variables, and work with indexed variables. Continue to the\n",
        "next file to learn more.\n",
        "\n",
        "# Solutions\n",
        "\n",
        "You will likely find solutions to most exercises online. However, I\n",
        "strongly encourage you to work on these exercises independently without\n",
        "searching explicitly for the exact answers to the exercises.\n",
        "Understanding someone else’s solution is very different from developing\n",
        "your own. Use the lecture notes and try to solve the exercises on your\n",
        "own. This approach will significantly enhance your learning and\n",
        "problem-solving skills.\n",
        "\n",
        "Remember, the goal is not just to complete the exercises, but to\n",
        "understand the concepts and improve your programming abilities. If you\n",
        "encounter difficulties, review the lecture materials, experiment with\n",
        "different approaches, and don’t hesitate to ask for clarification during\n",
        "class discussions.\n",
        "\n",
        "Later, you will find the solutions to these exercises online in the\n",
        "associated GitHub repository, but we will also quickly go over them in\n",
        "next week’s tutorial. To access the solutions, click on the Github\n",
        "button on the lower right and search for the folder with today’s lecture\n",
        "and tutorial. Alternatively, you can ask ChatGPT or Claude to explain\n",
        "them to you. But please remember, the goal is not just to complete the\n",
        "exercises, but to understand the concepts and improve your programming\n",
        "abilities."
      ],
      "id": "c453b916-f301-4b66-b08a-f5a5b060172e"
    }
  ],
  "nbformat": 4,
  "nbformat_minor": 5,
  "metadata": {
    "kernelspec": {
      "name": "julia-ao-1.12",
      "display_name": "Julia-AO 1.12.0",
      "language": "julia",
      "path": "/Users/vlcek/Library/Jupyter/kernels/julia-ao-1.12"
    },
    "language_info": {
      "name": "julia",
      "file_extension": ".jl",
      "mimetype": "application/julia",
      "version": "1.12.0"
    }
  }
}