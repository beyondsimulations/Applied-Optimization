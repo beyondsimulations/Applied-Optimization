{
  "cells": [
    {
      "cell_type": "markdown",
      "metadata": {},
      "source": [
        "---\n",
        "title: \"Tutorial III.V - Plotting Graphs\"\n",
        "subtitle: \"Applied Optimization with Julia\"\n",
        "\n",
        "format:\n",
        "    html:\n",
        "        theme: litera\n",
        "        highlight-style: arrow\n",
        "        linkcolor: \"#a60000\"\n",
        "        code-copy: true\n",
        "        code-link: true\n",
        "        toc: true\n",
        "        toc-location: right\n",
        "        code-overflow: wrap\n",
        "    ipynb:\n",
        "        code-copy: true\n",
        "        code-overflow: wrap\n",
        "---\n",
        "\n",
        "\n",
        "# Introduction\n",
        "\n",
        "Welcome to this tutorial on plotting in Julia! We'll be using the powerful Plots.jl package to create beautiful and informative visualizations. Don't worry if you're new to plotting – we'll start with the basics and gradually build up to more advanced techniques.\n",
        "\n",
        "In this tutorial, you'll learn how to:\n",
        "1. Create simple plots like line graphs and scatter plots\n",
        "2. Customize your plots with colors, labels, and styles\n",
        "3. Add multiple data series to a single plot\n",
        "4. Save your plots as image files for use in reports or presentations\n",
        "\n",
        "Follow the instructions, write your code in the designated code blocks, and validate your results with @assert statements.\n",
        "\n",
        "Before we begin, let's make sure you have the necessary packages installed. If you've been following the course, you'll need to install the Plots and StatsPlots packages:\n"
      ],
      "id": "29cd6c7b"
    },
    {
      "cell_type": "code",
      "metadata": {},
      "source": [
        "#| eval: false\n",
        "import Pkg; Pkg.add([\"Plots\",\"StatsPlots\"])"
      ],
      "id": "1a8ec7b2",
      "execution_count": null,
      "outputs": []
    },
    {
      "cell_type": "markdown",
      "metadata": {},
      "source": [
        "Now, let's load these packages:\n"
      ],
      "id": "cdd7603d"
    },
    {
      "cell_type": "code",
      "metadata": {},
      "source": [
        "#| eval: true\n",
        "using Plots, StatsPlots"
      ],
      "id": "2a7758ce",
      "execution_count": null,
      "outputs": []
    },
    {
      "cell_type": "markdown",
      "metadata": {},
      "source": [
        "# Section 1 - Creating Basic Plots\n",
        "\n",
        "The Plots.jl package simplifies the process of creating a wide array of plots, from simple line plots to complex 3D visualizations. Let's start with the simplest type of plot: a line plot. We'll create some example data and then plot it.\n"
      ],
      "id": "41f9290b"
    },
    {
      "cell_type": "code",
      "metadata": {},
      "source": [
        "#| output: true\n",
        "# Create some example data\n",
        "x = 1:10      # This creates a range of numbers from 1 to 10\n",
        "y = rand(10)  # This creates 10 random numbers between 0 and 1\n",
        "\n",
        "# Create a basic line plot\n",
        "line_plot = plot(\n",
        "    x, y, \n",
        "    title=\"My First Line Plot\", \n",
        "    xlabel=\"X-axis Label\", \n",
        "    ylabel=\"Y-axis Label\", \n",
        "    legend=false\n",
        ")\n",
        "\n",
        "# Display the plot\n",
        "display(line_plot)"
      ],
      "id": "2ce3519e",
      "execution_count": null,
      "outputs": []
    },
    {
      "cell_type": "markdown",
      "metadata": {},
      "source": [
        "Let's break down what each part of this code does:\n",
        "\n",
        "- `plot(x, y, ...)` creates the plot using our x and y data\n",
        "- `title=...` sets the title of the plot\n",
        "- `xlabel=...` and `ylabel=...` label the x and y axes\n",
        "- `legend=false` turns off the legend (we'll use this later)\n",
        "\n",
        "## Exercise 1.1 - Create a Scatter Plot\n",
        "\n",
        "Now it's your turn! Create a scatter plot using the `scatter()` function instead of `plot()`. Use a range from 1 to 20 for x, and generate 20 random numbers for y.\n"
      ],
      "id": "e0063cef"
    },
    {
      "cell_type": "code",
      "metadata": {},
      "source": [
        "#| eval: false\n",
        "# YOUR CODE BELOW\n",
        "# Hint: Use x = 1:20 and y = rand(20)"
      ],
      "id": "2f03739a",
      "execution_count": null,
      "outputs": []
    },
    {
      "cell_type": "code",
      "metadata": {},
      "source": [
        "#| eval: false\n",
        "#| code-fold: true\n",
        "# Test your answer\n",
        "@assert @isdefined scatter_plot\n",
        "println(\"Great job! You've created your first scatter plot.\")"
      ],
      "id": "7d5afe37",
      "execution_count": null,
      "outputs": []
    },
    {
      "cell_type": "markdown",
      "metadata": {},
      "source": [
        "# Section 2 - Customizing Plots\n",
        "\n",
        "One of the best things about Plots.jl is how easy it is to customize your plots. Let's explore some options:\n"
      ],
      "id": "4107e496"
    },
    {
      "cell_type": "code",
      "metadata": {},
      "source": [
        "#| output: true\n",
        "x = 1:10\n",
        "y = rand(10)\n",
        "\n",
        "custom_plot = plot(\n",
        "    x, y,\n",
        "    title=\"Customized Line Plot\",\n",
        "    xlabel=\"X-axis\",\n",
        "    ylabel=\"Y-axis\",\n",
        "    line=(:dash, 2),  # Dashed line with width 2\n",
        "    color=:red,       # Red color\n",
        "    marker=(:circle, 8)  # Circle markers of size 8\n",
        ")\n",
        "\n",
        "display(custom_plot)"
      ],
      "id": "2985538f",
      "execution_count": null,
      "outputs": []
    },
    {
      "cell_type": "markdown",
      "metadata": {},
      "source": [
        "## Exercise 2.1 - Customize a Line Plot\n",
        "\n",
        "Now it's your turn to get creative! Customize a line plot with your choice of colors, line styles, and markers. Save your masterpiece in the variable `custom_line_plot`.\n"
      ],
      "id": "f35a0452"
    },
    {
      "cell_type": "code",
      "metadata": {},
      "source": [
        "#| eval: false\n",
        "# YOUR CODE BELOW\n",
        "# Hint: Try different line styles (:dash, :dot), colors (:blue, :green), and markers (:star, :diamond)"
      ],
      "id": "fcfc327b",
      "execution_count": null,
      "outputs": []
    },
    {
      "cell_type": "code",
      "metadata": {},
      "source": [
        "#| eval: false\n",
        "#| code-fold: true\n",
        "# Test your answer\n",
        "@assert @isdefined custom_line_plot\n",
        "println(\"Excellent! You've created a custom line plot.\")"
      ],
      "id": "767fdda9",
      "execution_count": null,
      "outputs": []
    },
    {
      "cell_type": "markdown",
      "metadata": {},
      "source": [
        "::: {.callout-note}\n",
        "Feel free to experiment with different options. There's no \"right\" answer here – it's all about what looks good to you!\n",
        ":::\n",
        "\n",
        "# Section 3 - Adding Multiple Series to a Plot\n",
        "\n",
        "Now, let's learn how to add multiple data series to a single plot:\n"
      ],
      "id": "b0f5fda6"
    },
    {
      "cell_type": "code",
      "metadata": {},
      "source": [
        "#| output: true\n",
        "x = 1:20\n",
        "a = rand(20)\n",
        "b = rand(20)\n",
        "\n",
        "multi_plot = plot(\n",
        "    x, a, \n",
        "    title=\"Plot with Two Series\", \n",
        "    xlabel=\"X-axis\", \n",
        "    ylabel=\"Y-axis\", \n",
        "    label=\"Series A\"\n",
        ")\n",
        "plot!(multi_plot, \n",
        "    x, b, \n",
        "    label=\"Series B\"\n",
        ")\n",
        "\n",
        "display(multi_plot)"
      ],
      "id": "e9405eeb",
      "execution_count": null,
      "outputs": []
    },
    {
      "cell_type": "markdown",
      "metadata": {},
      "source": [
        "::: {.callout-note}\n",
        "The `plot!()` function (with an exclamation mark) adds to an existing plot instead of creating a new one. In addition, we used the label here to add a legend to the plot.\n",
        ":::\n",
        "\n",
        "## Exercise 3.1 - Create a Multiple Series Plot\n",
        "\n",
        "NYour turn! Create a plot called `multi_series_plot` with three data series `y1`, `y2`, and `y3`. Make sure to give each series a different color and label.\n"
      ],
      "id": "ad72e525"
    },
    {
      "cell_type": "code",
      "metadata": {},
      "source": [
        "#| eval: false\n",
        "# YOUR CODE BELOW\n",
        "# Hint: Use plot() for the first series, then plot!() for the second and third"
      ],
      "id": "d594ec85",
      "execution_count": null,
      "outputs": []
    },
    {
      "cell_type": "code",
      "metadata": {},
      "source": [
        "#| eval: false\n",
        "#| code-fold: true\n",
        "# Test your answer\n",
        "@assert @isdefined y1\n",
        "@assert @isdefined y2\n",
        "@assert @isdefined y3\n",
        "@assert @isdefined multi_series_plot\n",
        "println(\"Fantastic! You've created a plot with multiple series.\")"
      ],
      "id": "ba75e585",
      "execution_count": null,
      "outputs": []
    },
    {
      "cell_type": "markdown",
      "metadata": {},
      "source": [
        "# Section 3 - Saving Plots to Files\n",
        "\n",
        "Plots.jl supports saving your plots to various file formats including PNG, SVG, and PDF, enabling you to use your plots outside of Julia. The function to save plots is `savefig()`, the first argument is the plot itself and the second argument is the `path/filename` format as string. Replace `path` with the path, the `filename` with the actual name and `format` with the file format, e.g. `pdf`, `png`, ... . For example, if you want to save your file as PDF, you would just name it `path/filename.pdf`. For example:\n",
        "\n",
        "```julia\n",
        "savefig(plot_name, \"path/filename.png\")\n",
        "```\n",
        "\n",
        "This saves the plot as a PNG file.\n",
        "\n",
        "## Exercise 3.1 - Save a Plot to a File\n",
        "\n",
        "Save your `multi_series_plot` as a PNG file named \"saved_plot.png\" in the \"ExampleData\" folder.\n"
      ],
      "id": "078c2d5b"
    },
    {
      "cell_type": "code",
      "metadata": {},
      "source": [
        "#| eval: false\n",
        "# YOUR CODE BELOW\n",
        "# Don't forget to use the @__DIR__ macro to get the correct file path!"
      ],
      "id": "97476bef",
      "execution_count": null,
      "outputs": []
    },
    {
      "cell_type": "code",
      "metadata": {},
      "source": [
        "#| eval: false\n",
        "#| code-fold: true\n",
        "# Test your answer\n",
        "@assert isfile(\"$(@__DIR__)/ExampleData/saved_plot.png\") \"File does not exist yet.\"\n",
        "println(\"Well done! You've saved your plot as an image file.\")"
      ],
      "id": "2e786ba0",
      "execution_count": null,
      "outputs": []
    },
    {
      "cell_type": "markdown",
      "metadata": {},
      "source": [
        "# Section 4 - Advanced Plotting Techniques\n",
        "\n",
        "Let's explore some other common plot types. While you don't have to solve any task here, the code might come in handy later on during the course as recipe.\n",
        "\n",
        "## Bar Plot\n"
      ],
      "id": "01a50328"
    },
    {
      "cell_type": "code",
      "metadata": {},
      "source": [
        "#| output: true\n",
        "# Bar plot\n",
        "x_categories = [\"A\", \"B\", \"C\", \"D\"]\n",
        "y_values = [15, 23, 18, 30]\n",
        "bar_plot = bar(\n",
        "    x_categories, \n",
        "    y_values, \n",
        "    title=\"Bar Plot Example\"\n",
        ")\n",
        "display(bar_plot)"
      ],
      "id": "9d53da2d",
      "execution_count": null,
      "outputs": []
    },
    {
      "cell_type": "markdown",
      "metadata": {},
      "source": [
        "## Histogram\n"
      ],
      "id": "18c7198f"
    },
    {
      "cell_type": "code",
      "metadata": {},
      "source": [
        "#| output: true\n",
        "data = randn(1000)\n",
        "hist_plot = histogram(\n",
        "    data, \n",
        "    bins=30, \n",
        "    title=\"Histogram Example\"\n",
        ")\n",
        "display(hist_plot)"
      ],
      "id": "400f8066",
      "execution_count": null,
      "outputs": []
    },
    {
      "cell_type": "markdown",
      "metadata": {},
      "source": [
        "## Box Plot\n"
      ],
      "id": "53a7788e"
    },
    {
      "cell_type": "code",
      "metadata": {},
      "source": [
        "#| output: true\n",
        "# Box plot\n",
        "group = repeat(1:4, inner=50)\n",
        "y = randn(200) .+ group\n",
        "box_plot = boxplot(\n",
        "    group, \n",
        "    y, \n",
        "    title=\"Box Plot Example\"\n",
        ")\n",
        "display(box_plot)"
      ],
      "id": "45245231",
      "execution_count": null,
      "outputs": []
    },
    {
      "cell_type": "markdown",
      "metadata": {},
      "source": [
        "# Conclusion\n",
        "\n",
        "Fantastic! You've completed the tutorial on basic plotting in Julia. You've learned how to create basic plots and customize and save them. Continue to the next file to learn more.\n",
        "\n",
        "\n",
        "# Solutions\n",
        "\n",
        "You will likely find solutions to most exercises online. However, I strongly encourage you to work on these exercises independently without searching explicitly for the exact answers to the exercises. Understanding someone else's solution is very different from developing your own. Use the lecture notes and try to solve the exercises on your own. This approach will significantly enhance your learning and problem-solving skills.\n",
        "\n",
        "Remember, the goal is not just to complete the exercises, but to understand the concepts and improve your programming abilities. If you encounter difficulties, review the lecture materials, experiment with different approaches, and don't hesitate to ask for clarification during class discussions.\n",
        "\n",
        "Later, you will find the solutions to these exercises online in the associated GitHub repository, but we will also quickly go over them in next week's tutorial. To access the solutions, click on the Github button on the lower right and search for the folder with today's lecture and tutorial. Alternatively, you can ask ChatGPT or Claude to explain them to you. But please remember, the goal is not just to complete the exercises, but to understand the concepts and improve your programming abilities.\n"
      ],
      "id": "88af7973"
    }
  ],
  "metadata": {
    "kernelspec": {
      "name": "julia-1.10",
      "language": "julia",
      "display_name": "Julia 1.10.4",
      "path": "/Users/tvlcek/Library/Jupyter/kernels/julia-1.10"
    }
  },
  "nbformat": 4,
  "nbformat_minor": 5
}