{
  "cells": [
    {
      "cell_type": "markdown",
      "metadata": {},
      "source": [
        "# Tutorial III.IV - Input and Output\n",
        "\n",
        "Applied Optimization with Julia\n",
        "\n",
        "# Introduction to Reading and Writing Files in Julia\n",
        "\n",
        "This interactive Julia script introduces the essentials of interacting\n",
        "with external files. It covers reading and writing text files, handling\n",
        "CSV, and working with delimited files using DelimitedFiles. Follow the\n",
        "instructions, write your code in the designated code blocks, and\n",
        "validate your results with @assert statements.\n",
        "\n",
        "## Section 1: Working with Delimited Files\n",
        "\n",
        "Delimited files, such as `.csv`, can be handled efficiently using the\n",
        "DelimitedFiles package in Julia. This requires the DelimitedFiles\n",
        "package. But as it is part of the Julia Standard Library, you can use it\n",
        "directly without the need to use `Pkg.add()` before."
      ],
      "id": "544c5401-82da-4867-bd1f-11b21a159032"
    },
    {
      "cell_type": "code",
      "execution_count": 1,
      "metadata": {},
      "outputs": [],
      "source": [
        "using DelimitedFiles"
      ],
      "id": "2"
    },
    {
      "cell_type": "markdown",
      "metadata": {},
      "source": [
        "The following code writes a matrix to a CSV file, seperating values with\n",
        "`,`."
      ],
      "id": "029b5f10-dbb7-40b6-bf08-80283411660f"
    },
    {
      "cell_type": "code",
      "execution_count": 0,
      "metadata": {},
      "outputs": [],
      "source": [
        "new_data = [10 12 6; 13 25 1; 40 30 7]\n",
        "mkdir(\"ExampleData\")\n",
        "open(\"ExampleData/matrix.csv\", \"w\") do io\n",
        "    writedlm(io, new_data, ',')\n",
        "end\n",
        "println(\"CSV file 'matrix.csv' written successfully to folder ExampleData!\")"
      ],
      "id": "4"
    },
    {
      "cell_type": "markdown",
      "metadata": {},
      "source": [
        "## Exercise 1.1\n",
        "\n",
        "Read the just written CSV file ‘matrix.csv’ using the function\n",
        "`readdlm()`. Save the matrix in the variable `read_matrix`. To learn the\n",
        "syntax, use the inbuild help by typing `?` in the terminal. Afterwards,\n",
        "just type the function name for an explanation."
      ],
      "id": "6873a7f4-06f5-4839-b13c-cad4b4f78e88"
    },
    {
      "cell_type": "code",
      "execution_count": 0,
      "metadata": {},
      "outputs": [],
      "source": [
        "# Read the just written CSV file 'matrix.csv' using the function `readdlm()`. Save the matrix in the variable `read_matrix`. To learn the syntax, use the inbuild help by typing `?` in the terminal. Afterwards, just type the function name for an explanation.\n",
        "# YOUR CODE BELOW\n",
        "\n",
        "# Test your answer\n",
        "@assert read_matrix == new_data\n",
        "println(\"File 'matrix.csv' read successfully!\")"
      ],
      "id": "6"
    },
    {
      "cell_type": "markdown",
      "metadata": {},
      "source": [
        "## Section 2: Working with CSV Files and DataFrames\n",
        "\n",
        "The CSV package in Julia provides powerful tools for reading and writing\n",
        "CSV files to and from DataFrames, a common requirement in data analysis\n",
        "and data science projects. This requires the CSV and DataFrames\n",
        "packages. If you solely followed the course so far, you first have to\n",
        "install the CSV Package before you can start using it:\n",
        "\n",
        "``` julia\n",
        "import Pkg; Pkg.add(\"CSV\")\n",
        "```\n",
        "\n",
        "## Exercise 2.1\n",
        "\n",
        "Write the following given DataFrame to a CSV file `table_out.csv` in the\n",
        "folder `ExampleData`. This can be done by using the function\n",
        "`CSV.write()`. To learn the syntax, ask the inbuild help with `?` and\n",
        "the function name."
      ],
      "id": "98b0341e-8ed7-40c0-be12-259570830dac"
    },
    {
      "cell_type": "code",
      "execution_count": 0,
      "metadata": {},
      "outputs": [],
      "source": [
        "using CSV, DataFrames\n",
        "# Write the following given DataFrame to a CSV file 'table_out.csv' in the folder 'ExampleData'. This can be done by using the function CSV.write(). To learn the syntax, ask the inbuild help with '?' and the function name.\n",
        "\n",
        "data = DataFrame(Name = [\"Alice\", \"Bob\", \"Charlie\"], Age = [25, 30, 35])\n",
        "csv_file_path = \"ExampleData/table_out.csv\"\n",
        "# YOUR CODE BELOW\n",
        "\n",
        "# Test your answer\n",
        "@assert isfile(\"ExampleData/table_out.csv\") \"Sorry, the file could not be found. \n",
        "    Have you followed all steps?\"\n",
        "println(\"CSV file 'data.csv' written successfully!\")"
      ],
      "id": "8"
    },
    {
      "cell_type": "markdown",
      "metadata": {},
      "source": [
        "## Exercise 2.2\n",
        "\n",
        "Read the CSV file `table_in.csv` in the folder `ExampleData` into the\n",
        "variable `read_data`. Here you can use the function `CSV.read()`. Again,\n",
        "use the inbuild help to familiarize yourself with the syntax. Note, that\n",
        "you need to provide a sink for the data when using `CSV.read()`, e.g. a\n",
        "DataFrame."
      ],
      "id": "e63671af-9564-49f2-8fbd-6cd20dc3ff64"
    },
    {
      "cell_type": "code",
      "execution_count": 0,
      "metadata": {},
      "outputs": [],
      "source": [
        "# Read the CSV file `table_in.csv` in the folder `ExampleData` into the variable `read_data`. Here you can use the function `CSV.read()`. Again, use the inbuild help to familiarize yourself with the syntax. Note, that you need to provide a sink for the data when using `CSV.read()`, e.g. a DataFrame.\n",
        "# YOUR CODE BELOW\n",
        "\n",
        "# Test your CSV reading\n",
        "@assert read_data[1,1] == \"Lisa\"\n",
        "println(\"CSV file 'table_in.csv' read successfully!\")"
      ],
      "id": "10"
    },
    {
      "cell_type": "markdown",
      "metadata": {},
      "source": [
        "## Conclusion\n",
        "\n",
        "Congratulations! You’ve successfully completed the tutorial on reading\n",
        "and writing external files in Julia. Continue to the next file to learn\n",
        "more.\n",
        "\n",
        "# Solutions\n",
        "\n",
        "You will likely find solutions to most exercises online. However, I\n",
        "strongly encourage you to work on these exercises independently without\n",
        "searching explicitly for the exact answers to the exercises.\n",
        "Understanding someone else’s solution is very different from developing\n",
        "your own. Use the lecture notes and try to solve the exercises on your\n",
        "own. This approach will significantly enhance your learning and\n",
        "problem-solving skills.\n",
        "\n",
        "Remember, the goal is not just to complete the exercises, but to\n",
        "understand the concepts and improve your programming abilities. If you\n",
        "encounter difficulties, review the lecture materials, experiment with\n",
        "different approaches, and don’t hesitate to ask for clarification during\n",
        "class discussions.\n",
        "\n",
        "Later, you will find the solutions to these exercises online in the\n",
        "associated GitHub repository, but we will also quickly go over them in\n",
        "next week’s tutorial. To access the solutions, click on the Github\n",
        "button on the lower right and search for the folder with today’s lecture\n",
        "and tutorial. Alternatively, you can ask ChatGPT or Claude to explain\n",
        "them to you. But please remember, the goal is not just to complete the\n",
        "exercises, but to understand the concepts and improve your programming\n",
        "abilities."
      ],
      "id": "c15d20fa-3573-4f34-a859-a452c9ec2936"
    }
  ],
  "nbformat": 4,
  "nbformat_minor": 5,
  "metadata": {
    "kernel_info": {
      "name": "julia"
    },
    "kernelspec": {
      "name": "julia",
      "display_name": "Julia",
      "language": "julia"
    },
    "language_info": {
      "name": "julia",
      "codemirror_mode": "julia",
      "version": "1.10.5"
    }
  }
}