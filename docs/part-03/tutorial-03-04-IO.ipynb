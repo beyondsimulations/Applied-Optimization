{
  "cells": [
    {
      "cell_type": "markdown",
      "metadata": {},
      "source": [
        "# Tutorial III.IV - Input and Output\n",
        "\n",
        "Applied Optimization with Julia\n",
        "\n",
        "# Introduction\n",
        "\n",
        "This interactive Julia script introduces the essentials of interacting\n",
        "with external files. File Input/Output (I/O) operations are crucial in\n",
        "programming and data analysis, allowing us to persist data, share\n",
        "information between programs, and work with large datasets that don’t\n",
        "fit in memory. In this tutorial, we’ll cover reading and writing text\n",
        "files, handling CSV files, and working with delimited files using\n",
        "various Julia packages. These skills are fundamental for data\n",
        "preprocessing, analysis, and result storage in real-world applications.\n",
        "\n",
        "Follow the instructions, write your code in the designated code blocks,\n",
        "and validate your results with `@assert` statements.\n",
        "\n",
        "# Section 1 - Working with Delimited Files\n",
        "\n",
        "Delimited files, such as `.csv`, can be handled efficiently using the\n",
        "DelimitedFiles package in Julia. This requires the DelimitedFiles\n",
        "package. But as it is part of the Julia Standard Library, you can use it\n",
        "directly without the need to use `Pkg.add()` before."
      ],
      "id": "6dfe6a0d-2dfa-4cbe-9cb3-03a02239d226"
    },
    {
      "cell_type": "code",
      "execution_count": 1,
      "metadata": {},
      "outputs": [],
      "source": [
        "using DelimitedFiles"
      ],
      "id": "2"
    },
    {
      "cell_type": "markdown",
      "metadata": {},
      "source": [
        "The following code writes a matrix to a CSV file, seperating values with\n",
        "`,`."
      ],
      "id": "acc3d2dc-d831-4bc5-a09e-827ebc3e518b"
    },
    {
      "cell_type": "code",
      "execution_count": 0,
      "metadata": {},
      "outputs": [],
      "source": [
        "new_data = [10 12 6; 13 25 1; 40 30 7]\n",
        "mkdir(\"ExampleData\")\n",
        "open(\"ExampleData/matrix.csv\", \"w\") do io\n",
        "    writedlm(io, new_data, ',')\n",
        "end\n",
        "println(\"CSV file 'matrix.csv' written successfully to folder ExampleData!\")"
      ],
      "id": "4"
    },
    {
      "cell_type": "markdown",
      "metadata": {},
      "source": [
        "## Exercise 1.1 - Read a CSV File\n",
        "\n",
        "Read the just written CSV file ‘matrix.csv’ using the function\n",
        "`readdlm()`. Save the matrix in the variable `read_matrix`. To learn the\n",
        "syntax, use the inbuild help by typing `?` in the terminal. Afterwards,\n",
        "just type the function name for an explanation."
      ],
      "id": "9966dea0-7a46-4353-8a23-87148cfdecd4"
    },
    {
      "cell_type": "code",
      "execution_count": 0,
      "metadata": {},
      "outputs": [],
      "source": [
        "# YOUR CODE BELOW\n",
        "\n",
        "# Test your answer\n",
        "@assert read_matrix == new_data\n",
        "println(\"File 'matrix.csv' read successfully!\")"
      ],
      "id": "6"
    },
    {
      "cell_type": "markdown",
      "metadata": {},
      "source": [
        "# Section 2 - Working with CSV Files and DataFrames\n",
        "\n",
        "The CSV package in Julia provides powerful tools for reading and writing\n",
        "CSV files to and from DataFrames, a common requirement in data analysis\n",
        "and data science projects. This requires the CSV and DataFrames\n",
        "packages. If you solely followed the course so far, you first have to\n",
        "install the CSV Package before you can start using it:"
      ],
      "id": "1df93706-76d2-4c4b-b523-3743f4e07a7f"
    },
    {
      "cell_type": "code",
      "execution_count": 0,
      "metadata": {},
      "outputs": [],
      "source": [
        "import Pkg; Pkg.add(\"CSV\")"
      ],
      "id": "8"
    },
    {
      "cell_type": "markdown",
      "metadata": {},
      "source": [
        "## Exercise 2.1 - Write a DataFrame to a CSV File\n",
        "\n",
        "Write the following given DataFrame to a CSV file `table_out.csv` in the\n",
        "folder `ExampleData`. This can be done by using the function\n",
        "`CSV.write()`. To learn the syntax, ask the inbuild help with `?` and\n",
        "the function name."
      ],
      "id": "9bc3dde4-4e88-4973-bd7a-9818aad68040"
    },
    {
      "cell_type": "code",
      "execution_count": 0,
      "metadata": {},
      "outputs": [],
      "source": [
        "using CSV, DataFrames\n",
        "data = DataFrame(Name = [\"Alice\", \"Bob\", \"Charlie\"], Age = [25, 30, 35])\n",
        "csv_file_path = \"ExampleData/table_out.csv\"\n",
        "# YOUR CODE BELOW\n",
        "\n",
        "# Test your answer\n",
        "@assert isfile(\"ExampleData/table_out.csv\") \"Sorry, the file could not be found. \n",
        "    Have you followed all steps?\"\n",
        "println(\"CSV file 'data.csv' written successfully!\")"
      ],
      "id": "10"
    },
    {
      "cell_type": "markdown",
      "metadata": {},
      "source": [
        "## Exercise 2.2 - Read a CSV File in\n",
        "\n",
        "Read the CSV file `table_in.csv` in the folder `ExampleData` into the\n",
        "variable `read_data`. Here you can use the function `CSV.read()`, e.g.:\n",
        "\n",
        "``` julia\n",
        "read_data = CSV.read(\"Path/datatable.csv\", DataFrame)\n",
        "```\n",
        "\n",
        "> **Note**\n",
        ">\n",
        "> Note, that you need to provide a sink for the data when using\n",
        "> `CSV.read()`, e.g. a DataFrame."
      ],
      "id": "ebc4287d-e6fd-486c-bea4-0e23a0eefeb6"
    },
    {
      "cell_type": "code",
      "execution_count": 0,
      "metadata": {},
      "outputs": [],
      "source": [
        "# YOUR CODE BELOW\n",
        "\n",
        "# Test your CSV reading\n",
        "@assert read_data[1,1] == \"Lisa\"\n",
        "println(\"CSV file 'table_in.csv' read successfully!\")"
      ],
      "id": "12"
    },
    {
      "cell_type": "markdown",
      "metadata": {},
      "source": [
        "# Conclusion\n",
        "\n",
        "Congratulations! You’ve successfully completed the tutorial on reading\n",
        "and writing external files in Julia. Continue to the next file to learn\n",
        "more.\n",
        "\n",
        "# Solutions\n",
        "\n",
        "You will likely find solutions to most exercises online. However, I\n",
        "strongly encourage you to work on these exercises independently without\n",
        "searching explicitly for the exact answers to the exercises.\n",
        "Understanding someone else’s solution is very different from developing\n",
        "your own. Use the lecture notes and try to solve the exercises on your\n",
        "own. This approach will significantly enhance your learning and\n",
        "problem-solving skills.\n",
        "\n",
        "Remember, the goal is not just to complete the exercises, but to\n",
        "understand the concepts and improve your programming abilities. If you\n",
        "encounter difficulties, review the lecture materials, experiment with\n",
        "different approaches, and don’t hesitate to ask for clarification during\n",
        "class discussions.\n",
        "\n",
        "Later, you will find the solutions to these exercises online in the\n",
        "associated GitHub repository, but we will also quickly go over them in\n",
        "next week’s tutorial. To access the solutions, click on the Github\n",
        "button on the lower right and search for the folder with today’s lecture\n",
        "and tutorial. Alternatively, you can ask ChatGPT or Claude to explain\n",
        "them to you. But please remember, the goal is not just to complete the\n",
        "exercises, but to understand the concepts and improve your programming\n",
        "abilities."
      ],
      "id": "d33adf78-45b9-494d-aa20-8e0870640b50"
    }
  ],
  "nbformat": 4,
  "nbformat_minor": 5,
  "metadata": {
    "kernel_info": {
      "name": "julia"
    },
    "kernelspec": {
      "name": "julia",
      "display_name": "Julia",
      "language": "julia"
    },
    "language_info": {
      "name": "julia",
      "codemirror_mode": "julia",
      "version": "1.10.5"
    }
  }
}