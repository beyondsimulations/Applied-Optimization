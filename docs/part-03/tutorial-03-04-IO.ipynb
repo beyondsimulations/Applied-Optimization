{
  "cells": [
    {
      "cell_type": "markdown",
      "metadata": {},
      "source": [
        "# Tutorial III.IV - Input and Output\n",
        "\n",
        "Applied Optimization with Julia\n",
        "\n",
        "# Introduction\n",
        "\n",
        "Welcome to this interactive Julia tutorial on working with external\n",
        "files! File Input/Output (I/O) operations are crucial in programming and\n",
        "data analysis, allowing us to persist data, share information between\n",
        "programs, and work with large datasets that don’t fit in memory. In this\n",
        "tutorial, we’ll cover reading and writing text files, handling CSV\n",
        "files, and working with delimited files using various Julia packages.\n",
        "These skills are fundamental for data preprocessing, analysis, and\n",
        "result storage in real-world applications.\n",
        "\n",
        "Follow the instructions, write your code in the designated code blocks,\n",
        "and validate your results with `@assert` statements.\n",
        "\n",
        "# Section 1 - Working with Delimited Files\n",
        "\n",
        "Delimited files, such as CSV (Comma-Separated Values), are a common way\n",
        "to store structured data. Each value in the file is separated by a\n",
        "specific character, often a comma. Julia’s DelimitedFiles package makes\n",
        "it easy to work with these files.\n",
        "\n",
        "> **Tip**\n",
        ">\n",
        "> The DelimitedFiles package is part of Julia’s Standard Library, which\n",
        "> means you can use it without installing anything extra!"
      ],
      "id": "a7ba9317-8cb1-40f0-8146-a1d2c7a017c7"
    },
    {
      "cell_type": "code",
      "execution_count": 1,
      "metadata": {},
      "outputs": [],
      "source": [
        "using DelimitedFiles"
      ],
      "id": "2"
    },
    {
      "cell_type": "markdown",
      "metadata": {},
      "source": [
        "Now, let’s create a simple matrix and save it as a CSV file:"
      ],
      "id": "847118d6-088e-4a5f-a1e3-4fc44d9deea3"
    },
    {
      "cell_type": "code",
      "execution_count": 0,
      "metadata": {},
      "outputs": [],
      "source": [
        "# Create a 3x3 matrix\n",
        "new_data = [10 12 6; 13 25 1; 40 30 7]\n",
        "\n",
        "# Create a new folder called \"ExampleData\"\n",
        "mkdir(\"ExampleData\")\n",
        "\n",
        "# Write the matrix to a CSV file\n",
        "open(\"ExampleData/matrix.csv\", \"w\") do io\n",
        "    writedlm(io, new_data, ',')\n",
        "end\n",
        "\n",
        "println(\"CSV file 'matrix.csv' written successfully to folder ExampleData!\")"
      ],
      "id": "4"
    },
    {
      "cell_type": "markdown",
      "metadata": {},
      "source": [
        "## Exercise 1.1 - Read a CSV File\n",
        "\n",
        "Now it’s your turn! Let’s read the CSV file we just created.\n",
        "\n",
        "> **Tip**\n",
        ">\n",
        "> To learn how to use a Julia function, you can type `?` followed by the\n",
        "> function name in the REPL (Julia’s command-line interface). For\n",
        "> example, `?readdlm` will show you information about the `readdlm()`\n",
        "> function.\n",
        "\n",
        "Use the `readdlm()` function to read the ‘matrix.csv’ file we just\n",
        "created. Save the result in a variable called `read_matrix`."
      ],
      "id": "7fbff3cf-d393-4df0-b50d-5dc540922035"
    },
    {
      "cell_type": "code",
      "execution_count": 0,
      "metadata": {},
      "outputs": [],
      "source": [
        "# YOUR CODE BELOW\n"
      ],
      "id": "6"
    },
    {
      "cell_type": "code",
      "execution_count": 0,
      "metadata": {},
      "outputs": [],
      "source": [
        "# Test your answer\n",
        "@assert read_matrix == new_data\n",
        "println(\"File 'matrix.csv' read successfully!\")"
      ],
      "id": "8"
    },
    {
      "cell_type": "markdown",
      "metadata": {},
      "source": [
        "# Section 2 - Working with CSV Files and DataFrames\n",
        "\n",
        "The CSV package in Julia provides powerful tools for reading and writing\n",
        "CSV files to and from DataFrames, a common requirement in data analysis\n",
        "and data science projects. This requires the CSV and DataFrames\n",
        "packages. If you solely followed the course so far, you first have to\n",
        "install the CSV Package before you can start using it:"
      ],
      "id": "6ca3fe8b-d41c-40e2-9deb-af0ce88f754e"
    },
    {
      "cell_type": "code",
      "execution_count": 0,
      "metadata": {},
      "outputs": [],
      "source": [
        "import Pkg; Pkg.add(\"CSV\")"
      ],
      "id": "10"
    },
    {
      "cell_type": "markdown",
      "metadata": {},
      "source": [
        "## Exercise 2.1 - Write a DataFrame to a CSV File\n",
        "\n",
        "Write the following given DataFrame to a CSV file `table_out.csv` in the\n",
        "folder `ExampleData`. This can be done by using the function\n",
        "`CSV.write()`. To learn the syntax, ask the inbuild help with `?` and\n",
        "the function name."
      ],
      "id": "9f1205b8-3001-4771-b033-70736c0c48c5"
    },
    {
      "cell_type": "code",
      "execution_count": 0,
      "metadata": {},
      "outputs": [],
      "source": [
        "using CSV, DataFrames\n",
        "data = DataFrame(Name = [\"Elio\", \"Bob\", \"Yola\"], Age = [18, 25, 29])\n",
        "csv_file_path = \"ExampleData/table_out.csv\"\n",
        "# YOUR CODE BELOW\n"
      ],
      "id": "12"
    },
    {
      "cell_type": "code",
      "execution_count": 0,
      "metadata": {},
      "outputs": [],
      "source": [
        "# Test your answer\n",
        "@assert isfile(\"ExampleData/table_out.csv\") \"Sorry, the file could not be found. \n",
        "    Have you followed all steps?\"\n",
        "println(\"CSV file 'data.csv' written successfully!\")"
      ],
      "id": "14"
    },
    {
      "cell_type": "markdown",
      "metadata": {},
      "source": [
        "## Exercise 2.2 - Read a CSV File in\n",
        "\n",
        "Read the CSV file `table_out.csv` in the folder `ExampleData` into the\n",
        "variable `read_data`. Here you can use the function `CSV.read()`, e.g.:\n",
        "\n",
        "``` julia\n",
        "read_data = CSV.read(\"Path/datatable.csv\", DataFrame)\n",
        "```\n",
        "\n",
        "> **Note**\n",
        ">\n",
        "> Note, that you need to provide a sink for the data when using\n",
        "> `CSV.read()`, e.g. a DataFrame."
      ],
      "id": "078e7aab-9fd6-4eea-9e7c-71e0d52cc94f"
    },
    {
      "cell_type": "code",
      "execution_count": 0,
      "metadata": {},
      "outputs": [],
      "source": [
        "# YOUR CODE BELOW\n"
      ],
      "id": "16"
    },
    {
      "cell_type": "code",
      "execution_count": 0,
      "metadata": {},
      "outputs": [],
      "source": [
        "# Test your answer\n",
        "@assert read_data[1,1] == \"Alice\"\n",
        "println(\"CSV file 'table_out.csv' read successfully!\")"
      ],
      "id": "18"
    },
    {
      "cell_type": "markdown",
      "metadata": {},
      "source": [
        "# Conclusion\n",
        "\n",
        "Congratulations! You’ve successfully completed the tutorial on reading\n",
        "and writing external files in Julia. Continue to the next file to learn\n",
        "more.\n",
        "\n",
        "# Solutions\n",
        "\n",
        "You will likely find solutions to most exercises online. However, I\n",
        "strongly encourage you to work on these exercises independently without\n",
        "searching explicitly for the exact answers to the exercises.\n",
        "Understanding someone else’s solution is very different from developing\n",
        "your own. Use the lecture notes and try to solve the exercises on your\n",
        "own. This approach will significantly enhance your learning and\n",
        "problem-solving skills.\n",
        "\n",
        "Remember, the goal is not just to complete the exercises, but to\n",
        "understand the concepts and improve your programming abilities. If you\n",
        "encounter difficulties, review the lecture materials, experiment with\n",
        "different approaches, and don’t hesitate to ask for clarification during\n",
        "class discussions.\n",
        "\n",
        "Later, you will find the solutions to these exercises online in the\n",
        "associated GitHub repository, but we will also quickly go over them in\n",
        "next week’s tutorial. To access the solutions, click on the Github\n",
        "button on the lower right and search for the folder with today’s lecture\n",
        "and tutorial. Alternatively, you can ask ChatGPT or Claude to explain\n",
        "them to you. But please remember, the goal is not just to complete the\n",
        "exercises, but to understand the concepts and improve your programming\n",
        "abilities."
      ],
      "id": "a7538930-4094-42ad-842f-2eb90062b5af"
    }
  ],
  "nbformat": 4,
  "nbformat_minor": 5,
  "metadata": {
    "kernel_info": {
      "name": "julia"
    },
    "kernelspec": {
      "name": "julia",
      "display_name": "Julia",
      "language": "julia"
    },
    "language_info": {
      "name": "julia",
      "codemirror_mode": "julia",
      "version": "1.10.5"
    }
  }
}