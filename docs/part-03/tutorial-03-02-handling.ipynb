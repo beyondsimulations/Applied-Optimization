{
  "cells": [
    {
      "cell_type": "markdown",
      "metadata": {},
      "source": [
        "# Tutorial III.II - Package Management\n",
        "\n",
        "Applied Optimization with Julia\n",
        "\n",
        "# Introduction\n",
        "\n",
        "This interactive script serves as an in-depth guide to understanding\n",
        "packages and package management in Julia. Delve into the utilization of\n",
        "the package manager, the processes of adding, updating, and removing\n",
        "packages, and management of distinct environments. First off all, we\n",
        "briefly need to introduce what a package is: a package is a collection\n",
        "of code that is used to extend the functionality of Julia. There are a\n",
        "lot of packages available for Julia, ranging from basic packages like\n",
        "`LinearAlgebra` to more specialized packages like `JuMP` for\n",
        "optimization. This means that most of the time you don’nt have to invent\n",
        "the wheel by yourself but can rely on the work of others. The great\n",
        "thing: Almost all packages available for Julia are available for free\n",
        "and can be used under the `MIT license`.\n",
        "\n",
        "> **Note**\n",
        ">\n",
        "> Note: While this script offers guidance, package management commands\n",
        "> are usually executed in Julia’s REPL. The REPL is the command line\n",
        "> interface to Julia where you can interact with the language.\n",
        "\n",
        "# Section 1 - Using the Package Manager\n",
        "\n",
        "Julia’s built-in package manager, Pkg, provides a robust set of tools\n",
        "for managing packages. To utilize these tools, start by importing the\n",
        "Pkg module. This module allows you to add, update, and remove packages,\n",
        "and manage environments efficiently. Note, `import PackageName` lets you\n",
        "access exported functions with `PackageName.function`, while\n",
        "`using PackageName` imports all exported names into the local namespace\n",
        "for direct access.\n",
        "\n",
        "## Exercise 1.1 - Import the Pkg Module\n",
        "\n",
        "Import the Pkg module to start managing packages effectively."
      ],
      "id": "563aca19-b841-4774-8861-290b26471c49"
    },
    {
      "cell_type": "code",
      "execution_count": 0,
      "metadata": {},
      "outputs": [],
      "source": [
        "# YOUR CODE BELOW\n",
        "\n",
        "# Test your answer\n",
        "try \n",
        "    Pkg.update()\n",
        "    println(\"Pkg module imported successfully and packages were updated!\")\n",
        "catch e\n",
        "    @error \"The Pkg module was not imported yet! Have you used the correct syntax?\"\n",
        "end"
      ],
      "id": "2"
    },
    {
      "cell_type": "markdown",
      "metadata": {},
      "source": [
        "# Section 2 - Adding Packages\n",
        "\n",
        "Adding packages in Julia is straightforward using the\n",
        "`Pkg.add(\"PackageName\")` function. Replace `PackageName` with the actual\n",
        "package name you wish to add.\n",
        "\n",
        "## Exercise 2.1 - Add the DataFrames Package\n",
        "\n",
        "Use `Pkg.add()` to add the Package `DataFrames` that we will use later."
      ],
      "id": "413869c5-0112-4457-8641-b0a666608a51"
    },
    {
      "cell_type": "code",
      "execution_count": 1,
      "metadata": {},
      "outputs": [
        {
          "output_type": "stream",
          "name": "stdout",
          "text": [
            "Package added successfully!"
          ]
        }
      ],
      "source": [
        "# YOUR CODE BELOW\n",
        "\n",
        "# Test your answer\n",
        "try \n",
        "    using DataFrames\n",
        "    println(\"Package added successfully!\")\n",
        "catch e\n",
        "    @error \"Package was not added yet! Have you used the correct syntax?\"\n",
        "end"
      ],
      "id": "4"
    },
    {
      "cell_type": "markdown",
      "metadata": {},
      "source": [
        "# Section 3 - Updating and Removing Packages\n",
        "\n",
        "Maintaining your Julia environment involves keeping your packages\n",
        "up-to-date and removing those that are no longer necessary. Use\n",
        "`Pkg.update(\"PackageName\")` to update individual packages, or simply\n",
        "`Pkg.update()` to update all packages. To remove an obsolete package,\n",
        "use `Pkg.rm(\"PackageName\")`. Remember to replace `PackageName` with the\n",
        "actual name of the package you wish to manage.\n",
        "\n",
        "# Section 4 - Managing Environments\n",
        "\n",
        "Julia environments are essential for keeping project dependencies\n",
        "isolated and organized. It’s a best practice to create a new environment\n",
        "for each project to avoid conflicts between package versions. Activate a\n",
        "new environment with `Pkg.activate(\"new_environment\")` and add packages\n",
        "to it with `Pkg.add(\"PackageName\")`. This ensures that each of your\n",
        "projects has a clean, dedicated set of dependencies. When you create a\n",
        "new environment, Julia generates two important files:\n",
        "\n",
        "1.  `Project.toml`: Lists direct dependencies of your project.\n",
        "2.  `Manifest.toml`: Contains a complete dependency graph of your\n",
        "    project.\n",
        "\n",
        "These files help ensure reproducibility and should be version controlled\n",
        "with your project. But don’t worry, you don’t have to worry about this\n",
        "yet.\n",
        "\n",
        "> **Note**\n",
        ">\n",
        "> If you plan to stick to working with notebooks, you don’t have to care\n",
        "> about environments yet. Just use the regular environment for the\n",
        "> course and you don’t have to activate anything.\n",
        "\n",
        "## Conclusion\n",
        "\n",
        "Congratulations! You’ve completed the tutorial on packages and package\n",
        "management in Julia. These skills are important for effectively managing\n",
        "and utilizing external libraries. Continue to the next file to learn\n",
        "more.\n",
        "\n",
        "# Solutions\n",
        "\n",
        "You will likely find solutions to most exercises online. However, I\n",
        "strongly encourage you to work on these exercises independently without\n",
        "searching explicitly for the exact answers to the exercises.\n",
        "Understanding someone else’s solution is very different from developing\n",
        "your own. Use the lecture notes and try to solve the exercises on your\n",
        "own. This approach will significantly enhance your learning and\n",
        "problem-solving skills.\n",
        "\n",
        "Remember, the goal is not just to complete the exercises, but to\n",
        "understand the concepts and improve your programming abilities. If you\n",
        "encounter difficulties, review the lecture materials, experiment with\n",
        "different approaches, and don’t hesitate to ask for clarification during\n",
        "class discussions.\n",
        "\n",
        "Later, you will find the solutions to these exercises online in the\n",
        "associated GitHub repository, but we will also quickly go over them in\n",
        "next week’s tutorial. To access the solutions, click on the Github\n",
        "button on the lower right and search for the folder with today’s lecture\n",
        "and tutorial. Alternatively, you can ask ChatGPT or Claude to explain\n",
        "them to you. But please remember, the goal is not just to complete the\n",
        "exercises, but to understand the concepts and improve your programming\n",
        "abilities."
      ],
      "id": "2cfe2d60-2a57-4bd6-a0cd-2bba7be50b7c"
    }
  ],
  "nbformat": 4,
  "nbformat_minor": 5,
  "metadata": {
    "kernel_info": {
      "name": "julia"
    },
    "kernelspec": {
      "name": "julia",
      "display_name": "Julia",
      "language": "julia"
    },
    "language_info": {
      "name": "julia",
      "codemirror_mode": "julia",
      "version": "1.10.5"
    }
  }
}