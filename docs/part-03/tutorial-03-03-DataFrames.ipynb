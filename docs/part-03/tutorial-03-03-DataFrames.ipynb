{
  "cells": [
    {
      "cell_type": "markdown",
      "metadata": {},
      "source": [
        "# Tutorial III.III - DataFrames in Julia\n",
        "\n",
        "Applied Optimization with Julia\n",
        "\n",
        "# Introduction\n",
        "\n",
        "This interactive Julia script is your comprehensive guide to\n",
        "understanding DataFrames in Julia. Work on creating DataFrames,\n",
        "accessing, modifying, and filtering data, alongside basic data\n",
        "manipulation techniques. Follow the instructions, input your code in the\n",
        "designated areas, and verify your implementations with @assert\n",
        "statements. Note: Ensure you have the DataFrames package installed to\n",
        "effectively follow this tutorial!"
      ],
      "id": "cb995ee6-342f-4427-a62a-6e232ea3ab57"
    },
    {
      "cell_type": "code",
      "execution_count": 0,
      "metadata": {},
      "outputs": [],
      "source": [
        "# Import the DataFrames package\n",
        "using DataFrames"
      ],
      "id": "2"
    },
    {
      "cell_type": "markdown",
      "metadata": {},
      "source": [
        "# Section 1 - Creating DataFrames\n",
        "\n",
        "A DataFrame in Julia is akin to a table in SQL or a spreadsheet - each\n",
        "column can have its own type, making it highly versatile. A DataFrame\n",
        "can be created using the DataFrame constructor and passing key-value\n",
        "pairs where the key is the column name and the value is an array of\n",
        "data. For more help, use `?` in the REPL and type `DataFrame`.\n",
        "\n",
        "## Exercise 1.1 - Create a DataFrame\n",
        "\n",
        "Create and Test a DataFrame. Create a DataFrame named `employees` with\n",
        "the columns `Name`, `Age`, and `Salary`, and populate it with the\n",
        "specified data: John is `28` years old and earns `50000`, Mike is `23`\n",
        "years old and earns `62000`. Frank is `37` years old and earns `90000`."
      ],
      "id": "b3fb0fc0-e648-4c7f-ad79-6b1bb841c0c6"
    },
    {
      "cell_type": "code",
      "execution_count": 0,
      "metadata": {},
      "outputs": [],
      "source": [
        "# YOUR CODE BELOW\n"
      ],
      "id": "4"
    },
    {
      "cell_type": "code",
      "execution_count": 0,
      "metadata": {},
      "outputs": [],
      "source": [
        "# Test your answer\n",
        "@assert employees == DataFrame(Name = [\"John\", \"Mike\", \"Frank\"], Age = [28, 23, 37], Salary = [50000, 62000, 90000])\n",
        "println(\"DataFrame created successfully!\")\n",
        "println(employees)"
      ],
      "id": "6"
    },
    {
      "cell_type": "markdown",
      "metadata": {},
      "source": [
        "> **Tip**\n",
        ">\n",
        "> Remember, for more help, use `?` in the REPL and type `DataFrame`.\n",
        "\n",
        "# Section 2 - Accessing and Modifying Data\n",
        "\n",
        "Accessing columns in a DataFrame can be done using the dot syntax, while\n",
        "rows can be accessed via indexing. Modification of data is\n",
        "straightforward; just assign a new value to the desired cell. To access\n",
        "the column ‘name’ in our DataFrame with `employees`, we could do:"
      ],
      "id": "1d8f0635-53c2-41f4-ba67-8d41afdd38a4"
    },
    {
      "cell_type": "code",
      "execution_count": 1,
      "metadata": {},
      "outputs": [
        {
          "output_type": "display_data",
          "metadata": {},
          "data": {
            "text/plain": [
              "3-element Vector{String}:\n",
              " \"John\"\n",
              " \"Mike\"\n",
              " \"Frank\""
            ]
          }
        }
      ],
      "source": [
        "employees.Name"
      ],
      "id": "10"
    },
    {
      "cell_type": "markdown",
      "metadata": {},
      "source": [
        "To access the third name specifically, we could do:"
      ],
      "id": "1643ebfa-4ca2-45df-aeec-6cff0189df3a"
    },
    {
      "cell_type": "code",
      "execution_count": 1,
      "metadata": {},
      "outputs": [
        {
          "output_type": "display_data",
          "metadata": {},
          "data": {
            "text/plain": [
              "\"Frank\""
            ]
          }
        }
      ],
      "source": [
        "employees.Name[3]"
      ],
      "id": "12"
    },
    {
      "cell_type": "markdown",
      "metadata": {},
      "source": [
        "## Exercise 2.1 - Access the `Age` Column\n",
        "\n",
        "Access the `Age` column from the DataFrame and save it in a new variable\n",
        "`ages`."
      ],
      "id": "b0825e12-81eb-4044-8b17-124a8d93d0b2"
    },
    {
      "cell_type": "code",
      "execution_count": 0,
      "metadata": {},
      "outputs": [],
      "source": [
        "# YOUR CODE BELOW\n"
      ],
      "id": "14"
    },
    {
      "cell_type": "code",
      "execution_count": 0,
      "metadata": {},
      "outputs": [],
      "source": [
        "# Test your answer\n",
        "@assert ages == [28, 23, 37]\n",
        "println(\"Correct, the Ages column is: \", ages)"
      ],
      "id": "16"
    },
    {
      "cell_type": "markdown",
      "metadata": {},
      "source": [
        "## Exercise 2.2 - Update John’s Salary\n",
        "\n",
        "Update John’s salary to `59000`."
      ],
      "id": "d2968932-7226-42e6-945b-dc8cf64eead6"
    },
    {
      "cell_type": "code",
      "execution_count": 0,
      "metadata": {},
      "outputs": [],
      "source": [
        "# YOUR CODE BELOW\n"
      ],
      "id": "18"
    },
    {
      "cell_type": "code",
      "execution_count": 0,
      "metadata": {},
      "outputs": [],
      "source": [
        "# Test your answer\n",
        "@assert employees.Salary[1] == 59000\n",
        "println(\"Modified DataFrame: \")\n",
        "println(employees)"
      ],
      "id": "20"
    },
    {
      "cell_type": "markdown",
      "metadata": {},
      "source": [
        "# Section 3 - Filtering Data\n",
        "\n",
        "Logical indexing can be used to filter rows in a DataFrame based on\n",
        "conditions. To filter the DataFrame to include only employees names\n",
        "“Frank” we could do:"
      ],
      "id": "b402baef-a576-4f11-874a-f33ebcf919a4"
    },
    {
      "cell_type": "code",
      "execution_count": 1,
      "metadata": {},
      "outputs": [
        {
          "output_type": "display_data",
          "metadata": {},
          "data": {
            "text/html": [
              "</div>"
            ]
          }
        }
      ],
      "source": [
        "allFranks = employees[employees.Name .== \"Frank\", :]"
      ],
      "id": "22"
    },
    {
      "cell_type": "markdown",
      "metadata": {},
      "source": [
        "Alternatively, the filter function provides a powerful tool to extract\n",
        "subsets of data based on a condition:"
      ],
      "id": "54c5338b-5034-4439-89a8-63a91c6ebeb1"
    },
    {
      "cell_type": "code",
      "execution_count": 1,
      "metadata": {},
      "outputs": [
        {
          "output_type": "display_data",
          "metadata": {},
          "data": {
            "text/html": [
              "</div>"
            ]
          }
        }
      ],
      "source": [
        "allFranks = filter(row -> row.Name == \"Frank\", employees)"
      ],
      "id": "24"
    },
    {
      "cell_type": "markdown",
      "metadata": {},
      "source": [
        "## Exercise 3.1 - Filter the DataFrame\n",
        "\n",
        "Filter the DataFrame to include only employees with salaries above\n",
        "`60000`. Save the resulting employees in the DataFrame `high_earners`."
      ],
      "id": "9c3c3e8b-18b0-4707-9e47-6553b2685dd6"
    },
    {
      "cell_type": "code",
      "execution_count": 0,
      "metadata": {},
      "outputs": [],
      "source": [
        "# YOUR CODE BELOW\n"
      ],
      "id": "26"
    },
    {
      "cell_type": "code",
      "execution_count": 0,
      "metadata": {},
      "outputs": [],
      "source": [
        "# Test your answer\n",
        "@assert nrow(high_earners) == 2\n",
        "println(\"High earners: \")\n",
        "println(high_earners)"
      ],
      "id": "28"
    },
    {
      "cell_type": "markdown",
      "metadata": {},
      "source": [
        "# Section 4 - Basic Data Manipulation\n",
        "\n",
        "Julia provides functions for basic data manipulation tasks, including\n",
        "sorting, grouping, and joining DataFrames. The `sort` function can be\n",
        "used to order the rows in a DataFrame based on the values in one or more\n",
        "columns. To see how to use the function, type `?` into the REPL\n",
        "(terminal) and type `sort`.\n",
        "\n",
        "## Exercise 4.1 - Sort the DataFrame\n",
        "\n",
        "Sort the DataFrame based on the `Age` column and save it as `sorted_df`."
      ],
      "id": "bfbb41b6-ad00-481d-b52e-141df1f631f7"
    },
    {
      "cell_type": "code",
      "execution_count": 0,
      "metadata": {},
      "outputs": [],
      "source": [
        "# YOUR CODE BELOW\n"
      ],
      "id": "30"
    },
    {
      "cell_type": "code",
      "execution_count": 0,
      "metadata": {},
      "outputs": [],
      "source": [
        "# Test your answer\n",
        "@assert sorted_df.Age[1] == 23\n",
        "println(\"DataFrame sorted by age: \")\n",
        "println(sorted_df)"
      ],
      "id": "32"
    },
    {
      "cell_type": "markdown",
      "metadata": {},
      "source": [
        "> **Tip**\n",
        ">\n",
        "> If you have more complicated data structures, take a look at JSON\n",
        "> files which can be used to work with all kind of differently\n",
        "> structured data sets.\n",
        "\n",
        "# Conclusion\n",
        "\n",
        "Fantastic work! You’ve completed the tutorial on DataFrames in Julia.\n",
        "You’ve seen how to create DataFrames and access, modify and filter data.\n",
        "Continue to the next file to learn more.\n",
        "\n",
        "# Solutions\n",
        "\n",
        "You will likely find solutions to most exercises online. However, I\n",
        "strongly encourage you to work on these exercises independently without\n",
        "searching explicitly for the exact answers to the exercises.\n",
        "Understanding someone else’s solution is very different from developing\n",
        "your own. Use the lecture notes and try to solve the exercises on your\n",
        "own. This approach will significantly enhance your learning and\n",
        "problem-solving skills.\n",
        "\n",
        "Remember, the goal is not just to complete the exercises, but to\n",
        "understand the concepts and improve your programming abilities. If you\n",
        "encounter difficulties, review the lecture materials, experiment with\n",
        "different approaches, and don’t hesitate to ask for clarification during\n",
        "class discussions.\n",
        "\n",
        "Later, you will find the solutions to these exercises online in the\n",
        "associated GitHub repository, but we will also quickly go over them in\n",
        "next week’s tutorial. To access the solutions, click on the Github\n",
        "button on the lower right and search for the folder with today’s lecture\n",
        "and tutorial. Alternatively, you can ask ChatGPT or Claude to explain\n",
        "them to you. But please remember, the goal is not just to complete the\n",
        "exercises, but to understand the concepts and improve your programming\n",
        "abilities."
      ],
      "id": "3ef9de39-5f72-4b16-90fa-0ce3ce949c96"
    }
  ],
  "nbformat": 4,
  "nbformat_minor": 5,
  "metadata": {
    "kernel_info": {
      "name": "julia"
    },
    "kernelspec": {
      "name": "julia",
      "display_name": "Julia",
      "language": "julia"
    },
    "language_info": {
      "name": "julia",
      "codemirror_mode": "julia",
      "version": "1.10.5"
    }
  }
}