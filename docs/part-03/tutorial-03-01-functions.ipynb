{
  "cells": [
    {
      "cell_type": "markdown",
      "metadata": {},
      "source": [
        "# Tutorial III.I - Functions in Julia\n",
        "\n",
        "Applied Optimization with Julia\n",
        "\n",
        "# Functions in Julia\n",
        "\n",
        "This interactive Julia script is a comprehensive guide to understanding\n",
        "functions in Julia. Dive into the creation and usage of functions, grasp\n",
        "the concept of scope within functions, explore returning values, use\n",
        "anonymous functions, and leverage multiple dispatch for versatile\n",
        "function behavior. Follow the instructions, input your code in the\n",
        "designated areas, and verify your implementations with @assert\n",
        "statements.\n",
        "\n",
        "## Section 1: Creating and Calling Functions\n",
        "\n",
        "Functions in Julia encapsulate reusable code and can be defined using\n",
        "the `function` keyword or shorthand syntax. After the keyword, you name\n",
        "the function and write the parameters in parentheses. For example:\n",
        "\n",
        "``` julia\n",
        "function multiply(a,b)\n",
        "   a * b\n",
        "end\n",
        "```\n",
        "\n",
        "This function takes two parameters, multiplies them, and returns the\n",
        "result implicitly. In Julia, the last expression is automatically\n",
        "returned, making the `return` keyword optional. If you explicitly use\n",
        "the `return` keyword in the function, it will return the value\n",
        "immediately once the function encounters the keyword and stops the\n",
        "further execution of the function. That way, you can also use the\n",
        "keyword in conditional statements and use it to return a value based on\n",
        "a condition.\n",
        "\n",
        "## Exercise 1.1\n",
        "\n",
        "Define and Test a Simple Addition Function. Define a function `add` that\n",
        "takes two parameters and returns their sum."
      ],
      "id": "6fe34a4a-11fa-48d4-bd1e-d39b0ff2bb25"
    },
    {
      "cell_type": "code",
      "execution_count": 1,
      "metadata": {},
      "outputs": [],
      "source": [
        "# Define and Test a Simple Addition Function. Define a function `add` that takes two parameters and returns their sum.\n",
        "# YOUR CODE BELOW\n",
        "\n",
        "# Test your function\n",
        "@assert add(10, 5) == 15 \"The sum computed is $(add(10, 5)) but should be 15.\"\n",
        "println(\"The sum computed is $(add(10, 5)), wonderful!\")"
      ],
      "id": "2f776764"
    },
    {
      "cell_type": "markdown",
      "metadata": {},
      "source": [
        "## Section 2: Scope within Functions\n",
        "\n",
        "Variables declared inside a function are local to that function and are\n",
        "not accessible outside. If you want to access the variable outside of\n",
        "the function, you have to explicitly return it. You can do this by\n",
        "passing `return` in front of the variable you want to return from the\n",
        "function.\n",
        "\n",
        "## Exercise 2.1\n",
        "\n",
        "Try to execude the following block of code. The objective is to\n",
        "understand how to return the `local_variable_one` from the function\n",
        "`scope_test`. Your task is to change the function, to return the value\n",
        "of `local_variable_one`."
      ],
      "id": "22396378-9e0c-4d4c-978b-b06df8088a39"
    },
    {
      "cell_type": "code",
      "execution_count": 2,
      "metadata": {},
      "outputs": [],
      "source": [
        "# Try to execude the following block of code. The objective is to understand how to return the 'local_variable_one' from the function 'scope_test'. Your task is to change the function, to return the value of 'local_variable_one'.\n",
        "\n",
        "# YOUR CHANGES BELOW\n",
        "function scope_test()\n",
        "    local_variable_one = 10\n",
        "    local_variable_two = 20\n",
        "end\n",
        "\n",
        "# YOUR CHANGES ABOVE\n",
        "# Test your function\n",
        "@assert scope_test() == 10 \"The value exported is $(scope_test()).\"\n",
        "println(\"The value exported is $(scope_test()), you solved it!\")"
      ],
      "id": "6fbd96cb"
    },
    {
      "cell_type": "markdown",
      "metadata": {},
      "source": [
        "## Exercise 2.2\n",
        "\n",
        "Define and test an implicit return function. Define a function\n",
        "`subtract` that takes two parameters and implicitly returns their\n",
        "difference. The implicit return feature makes your code cleaner and more\n",
        "concise."
      ],
      "id": "2e2d0471-aee8-4857-97ad-da356e3a9b63"
    },
    {
      "cell_type": "code",
      "execution_count": 3,
      "metadata": {},
      "outputs": [],
      "source": [
        "# Define and test an implicit return function. Define a function 'subtract' that takes two parameters and implicitly returns their difference. The implicit return feature makes your code cleaner and more concise.\n",
        "# YOUR CODE BELOW\n",
        "\n",
        "# Test your function\n",
        "@assert subtract(10, 5) == 5  \"The difference computed is $(subtract(10, 5)) but should be 5.\"\n",
        "println(\"The difference computed is $(subtract(10, 5)), perfect!\")"
      ],
      "id": "96c75db4"
    },
    {
      "cell_type": "markdown",
      "metadata": {},
      "source": [
        "## Section 3: Anonymous Functions\n",
        "\n",
        "Anonymous functions in Julia are unnamed functions, useful for concise\n",
        "and short operations. They are particularly useful for operations that\n",
        "are passed as arguments to higher-order functions or used for short,\n",
        "one-off computations. Syntax for anonymous functions can be either of\n",
        "the following:\n",
        "\n",
        "``` julia\n",
        "add_two = (a,b) -> a + b\n",
        "add_two(a,b) = a + b\n",
        "```\n",
        "\n",
        "## Exercise 3.1\n",
        "\n",
        "Create an anonymous function `multiply` that multiplies two numbers."
      ],
      "id": "f1c5c4de-4b41-4ff4-bfd1-70854e7858b4"
    },
    {
      "cell_type": "code",
      "execution_count": 4,
      "metadata": {},
      "outputs": [],
      "source": [
        "# Create an anonymous function 'multiply' that multiplies two numbers.\n",
        "# YOUR CODE BELOW\n",
        "\n",
        "# Test your function\n",
        "@assert multiply(10, 5) == 50  \"The result is $(multiply(10, 5)) but should be 50.\"\n",
        "println(\"Great job! You created an anonymous function that multiplies two numbers.\")"
      ],
      "id": "9e6f1936"
    },
    {
      "cell_type": "markdown",
      "metadata": {},
      "source": [
        "## Section 4: Multiple Dispatch\n",
        "\n",
        "Multiple dispatch in Julia allows defining function behavior based on\n",
        "argument types, promoting code reuse and clarity. It’s a powerful\n",
        "feature for designing flexible and extensible functions. We first define\n",
        "a generic version and then provide specific implementations for\n",
        "different types:"
      ],
      "id": "44b9fa1a-b9a5-41df-bb0d-ec283bed860d"
    },
    {
      "cell_type": "code",
      "execution_count": 5,
      "metadata": {},
      "outputs": [
        {
          "output_type": "display_data",
          "metadata": {},
          "data": {
            "text/plain": [
              "\"Generic operation for objects of type String and Int64\""
            ]
          }
        }
      ],
      "source": [
        "# Generic operation for objects of all types.\n",
        "function operation(a, b)\n",
        "    \"Generic operation for objects of type $(typeof(a)) and $(typeof(b))\"\n",
        "end\n",
        "\n",
        "# The specific implementations are:\n",
        "operation(a::Number, b::Number) = a + b        # Specific method for Number types.\n",
        "operation(a::String, b::String) = string(a, b) # Specific method for String types.\n",
        "\n",
        "# Test with different types of arguments.\n",
        "result1 = operation(10, 20)               # Numeric addition.\n",
        "result2 = operation(\"Hello, \", \"World!\")  # String concatenation.\n",
        "result3 = operation(\"Hello, \", 20)        # Generic implementation."
      ],
      "id": "47635259"
    },
    {
      "cell_type": "markdown",
      "metadata": {},
      "source": [
        "## Exercise 4.1\n",
        "\n",
        "Choose the result that should be asserted in the following to equal the\n",
        "expected value on the right side of the conditional statement."
      ],
      "id": "0bd4b293-dbd1-4212-922c-c8608b627abc"
    },
    {
      "cell_type": "code",
      "execution_count": 6,
      "metadata": {},
      "outputs": [],
      "source": [
        "# Choose the result that should be asserted in the following to equal the expected value on the right side of the conditional statement. Hint: The answer is easy, you just have to change the comparisons.\n",
        "\n",
        "# YOUR CHANGES BELOW\n",
        "@assert result1 == \"Hello, World!\"\n",
        "@assert result3 == 30\n",
        "@assert result2 == \"Generic operation for objects of type String and Int64\"\n",
        "println(\"You solved it, the order is now correct!\")"
      ],
      "id": "11b78da5"
    },
    {
      "cell_type": "markdown",
      "metadata": {},
      "source": [
        "> **Tip**\n",
        ">\n",
        "> **Hint**: The answer is easy, you just have to change the comparisons.\n",
        "\n",
        "## Conclusion\n",
        "\n",
        "Great work! You’ve just completed the tutorial on functions in Julia.\n",
        "You now have a first understanding of how to create, use, and understand\n",
        "functions in Julia. Continue to the next file to learn more.\n",
        "\n",
        "# Solutions\n",
        "\n",
        "You will likely find solutions to most exercises online. However, I\n",
        "strongly encourage you to work on these exercises independently without\n",
        "searching explicitly for the exact answers to the exercises.\n",
        "Understanding someone else’s solution is very different from developing\n",
        "your own. Use the lecture notes and try to solve the exercises on your\n",
        "own. This approach will significantly enhance your learning and\n",
        "problem-solving skills.\n",
        "\n",
        "Remember, the goal is not just to complete the exercises, but to\n",
        "understand the concepts and improve your programming abilities. If you\n",
        "encounter difficulties, review the lecture materials, experiment with\n",
        "different approaches, and don’t hesitate to ask for clarification during\n",
        "class discussions.\n",
        "\n",
        "Later, you will find the solutions to these exercises online in the\n",
        "associated GitHub repository, but we will also quickly go over them in\n",
        "next week’s tutorial. To access the solutions, click on the Github\n",
        "button on the lower right and search for the folder with today’s lecture\n",
        "and tutorial. Alternatively, you can ask ChatGPT or Claude to explain\n",
        "them to you. But please remember, the goal is not just to complete the\n",
        "exercises, but to understand the concepts and improve your programming\n",
        "abilities."
      ],
      "id": "0654db9b-7bc7-47f8-b561-77c011b7b5ea"
    }
  ],
  "nbformat": 4,
  "nbformat_minor": 5,
  "metadata": {
    "kernelspec": {
      "name": "julia-1.10",
      "display_name": "Julia 1.10.4",
      "language": "julia",
      "path": "/Users/tvlcek/Library/Jupyter/kernels/julia-1.10"
    },
    "language_info": {
      "name": "julia",
      "file_extension": ".jl",
      "mimetype": "application/julia",
      "version": "1.10.4"
    }
  }
}