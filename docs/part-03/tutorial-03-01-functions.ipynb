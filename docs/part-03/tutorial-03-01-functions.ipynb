{
  "cells": [
    {
      "cell_type": "markdown",
      "metadata": {},
      "source": [
        "# Tutorial III.I - Functions in Julia\n",
        "\n",
        "Applied Optimization with Julia\n",
        "\n",
        "# Introduction\n",
        "\n",
        "This interactive Julia script is a comprehensive guide to understanding\n",
        "functions in Julia. Dive into the creation and usage of functions, grasp\n",
        "the concept of scope within functions, explore returning values, use\n",
        "anonymous functions, and leverage multiple dispatch for versatile\n",
        "function behavior. Follow the instructions, input your code in the\n",
        "designated areas, and verify your implementations with `@assert`\n",
        "statements.\n",
        "\n",
        "# Section 1 - Creating and Calling Functions\n",
        "\n",
        "Functions in Julia encapsulate reusable code and can be defined using\n",
        "the `function` keyword or shorthand syntax. After the keyword, you name\n",
        "the function and write the parameters in parentheses. Later, you can\n",
        "call the function by writing the name of the function followed by the\n",
        "parameters in parentheses. For example:"
      ],
      "id": "a14a0ac5-ecdc-403f-809b-b822560399f3"
    },
    {
      "cell_type": "code",
      "execution_count": 1,
      "metadata": {},
      "outputs": [
        {
          "output_type": "display_data",
          "metadata": {},
          "data": {
            "text/plain": [
              "50"
            ]
          }
        }
      ],
      "source": [
        "function multiply(a,b)\n",
        "   a * b\n",
        "end\n",
        "multiply(10, 5)"
      ],
      "id": "2"
    },
    {
      "cell_type": "markdown",
      "metadata": {},
      "source": [
        "This function takes two parameters, multiplies them, and returns the\n",
        "result implicitly. In Julia, the last expression is automatically\n",
        "returned, making the `return` keyword optional. If you explicitly use\n",
        "the `return` keyword in the function, it will return the value\n",
        "immediately once the function encounters the keyword and stops the\n",
        "further execution of the function. That way, you can also use the\n",
        "keyword in conditional statements and use it to return a value based on\n",
        "a condition. For example:"
      ],
      "id": "aa1f37a2-f3ed-4e39-bca7-74fb121c19d9"
    },
    {
      "cell_type": "code",
      "execution_count": 1,
      "metadata": {},
      "outputs": [
        {
          "output_type": "stream",
          "name": "stdout",
          "text": [
            "The result of do_something(10, 5) is 50\n",
            "The result of do_something(5, 10) is 15"
          ]
        }
      ],
      "source": [
        "function do_something(a,b)\n",
        "   if a > b\n",
        "      return a * b\n",
        "   else\n",
        "      return a + b\n",
        "   end\n",
        "end\n",
        "println(\"The result of do_something(10, 5) is $(do_something(10, 5))\")\n",
        "println(\"The result of do_something(5, 10) is $(do_something(5, 10))\")"
      ],
      "id": "4"
    },
    {
      "cell_type": "markdown",
      "metadata": {},
      "source": [
        "## Exercise 1.1 - Define and Test a Simple Addition Function\n",
        "\n",
        "Define and Test a Simple Addition Function. Define a function `add` that\n",
        "takes two parameters and returns their sum."
      ],
      "id": "368951ae-9cd8-4a1b-a9a8-8fc51189329d"
    },
    {
      "cell_type": "code",
      "execution_count": 0,
      "metadata": {},
      "outputs": [],
      "source": [
        "# YOUR CODE BELOW\n"
      ],
      "id": "6"
    },
    {
      "cell_type": "code",
      "execution_count": 0,
      "metadata": {},
      "outputs": [],
      "source": [
        "# Test your answer\n",
        "@assert add(10, 5) == 15 \"The sum computed is $(add(10, 5)) but should be 15.\"\n",
        "println(\"The sum computed is $(add(10, 5)), wonderful!\")"
      ],
      "id": "8"
    },
    {
      "cell_type": "markdown",
      "metadata": {},
      "source": [
        "# Section 2 - Scope within Functions\n",
        "\n",
        "Variables declared inside a function are local to that function and are\n",
        "not accessible outside. If you want to access the variable outside of\n",
        "the function, you have to explicitly return it as already shown above.\n",
        "You can do this by passing `return` in front of the variable you want to\n",
        "return from the function.\n",
        "\n",
        "## Exercise 2.1 - Return a Local Variable\n",
        "\n",
        "Try to execute the following block of code. The objective is to\n",
        "understand how to return the `local_variable_one` from the function\n",
        "`scope_test`. Your task is to change the function, to return the value\n",
        "of `local_variable_one`."
      ],
      "id": "df8f7226-8a93-4e52-a062-5e5cd18f666f"
    },
    {
      "cell_type": "code",
      "execution_count": 0,
      "metadata": {},
      "outputs": [],
      "source": [
        "# YOUR CHANGES BELOW\n",
        "function scope_test()\n",
        "    local_variable_one = 10\n",
        "    local_variable_two = 20\n",
        "end\n",
        "\n",
        "# YOUR CHANGES ABOVE\n",
        "# Test your function\n",
        "@assert scope_test() == 10 \"The value exported is $(scope_test()).\"\n",
        "println(\"The value exported is $(scope_test()), you solved it!\")"
      ],
      "id": "10"
    },
    {
      "cell_type": "markdown",
      "metadata": {},
      "source": [
        "## Exercise 2.2 - Define an Implicit Return Function\n",
        "\n",
        "Define and test an implicit return function. Define a function\n",
        "`subtract` that takes two parameters and implicitly returns their\n",
        "difference. The implicit return feature makes your code cleaner and more\n",
        "concise."
      ],
      "id": "d964d7f3-24d7-4415-b04a-d02437a86c1f"
    },
    {
      "cell_type": "code",
      "execution_count": 0,
      "metadata": {},
      "outputs": [],
      "source": [
        "# YOUR CODE BELOW\n"
      ],
      "id": "12"
    },
    {
      "cell_type": "code",
      "execution_count": 0,
      "metadata": {},
      "outputs": [],
      "source": [
        "# Test your answer\n",
        "@assert subtract(10, 5) == 5  \"The difference computed is $(subtract(10, 5)) but should be 5.\"\n",
        "println(\"The difference computed is $(subtract(10, 5)), perfect!\")"
      ],
      "id": "14"
    },
    {
      "cell_type": "markdown",
      "metadata": {},
      "source": [
        "# Section 3 - Multiple Dispatch\n",
        "\n",
        "Multiple dispatch in Julia allows defining function behavior based on\n",
        "argument types, promoting code reuse and clarity. It’s a powerful\n",
        "feature for designing flexible and extensible functions. We first define\n",
        "a generic version and then provide specific implementations for\n",
        "different types:"
      ],
      "id": "ee2af8b0-6493-4811-869d-c85fa42459fb"
    },
    {
      "cell_type": "code",
      "execution_count": 1,
      "metadata": {},
      "outputs": [
        {
          "output_type": "stream",
          "name": "stdout",
          "text": [
            "30\n",
            "Hello, World!\n",
            "Generic operation for objects of type String and Int64"
          ]
        }
      ],
      "source": [
        "# Generic operation for objects of all types.\n",
        "function operation(a, b)\n",
        "    \"Generic operation for objects of type $(typeof(a)) and $(typeof(b))\"\n",
        "end\n",
        "\n",
        "# The specific implementations are:\n",
        "operation(a::Number, b::Number) = a + b        # Specific method for Number types.\n",
        "operation(a::String, b::String) = string(a, b) # Specific method for String types.\n",
        "\n",
        "# Test with different types of arguments.\n",
        "result1 = operation(10, 20)\n",
        "println(result1)\n",
        "result2 = operation(\"Hello, \", \"World!\")\n",
        "println(result2)\n",
        "result3 = operation(\"Hello, \", 20)\n",
        "println(result3)"
      ],
      "id": "16"
    },
    {
      "cell_type": "markdown",
      "metadata": {},
      "source": [
        "## Exercise 3.1 - Match Results to Assertions\n",
        "\n",
        "Match the results from the previous example to the correct assertions:"
      ],
      "id": "8db1f1fa-16a6-4b4f-be1e-e89f5e593124"
    },
    {
      "cell_type": "code",
      "execution_count": 0,
      "metadata": {},
      "outputs": [],
      "source": [
        "# YOUR CHANGES BELOW\n",
        "@assert result2 == 30 \"result1 should be the sum of two numbers\"\n",
        "@assert result3 == \"Hello, World!\" \"result2 should be the concatenation of two strings\"\n",
        "@assert result1 == \"Generic operation for objects of type String and Int64\" \"result3 should use the generic operation\"\n",
        "println(\"You solved it, the assertions are now correct!\")"
      ],
      "id": "18"
    },
    {
      "cell_type": "markdown",
      "metadata": {},
      "source": [
        "> **Tip**\n",
        ">\n",
        "> **Hint**: Look at the types of arguments used in each `operation` call\n",
        "> and match them to the appropriate method.\n",
        "\n",
        "# Conclusion\n",
        "\n",
        "Great work! You’ve just completed the tutorial on functions in Julia.\n",
        "You now have a first understanding of how to create, use, and understand\n",
        "functions in Julia. Continue to the next file to learn more.\n",
        "\n",
        "# Solutions\n",
        "\n",
        "You will likely find solutions to most exercises online. However, I\n",
        "strongly encourage you to work on these exercises independently without\n",
        "searching explicitly for the exact answers to the exercises.\n",
        "Understanding someone else’s solution is very different from developing\n",
        "your own. Use the lecture notes and try to solve the exercises on your\n",
        "own. This approach will significantly enhance your learning and\n",
        "problem-solving skills.\n",
        "\n",
        "Remember, the goal is not just to complete the exercises, but to\n",
        "understand the concepts and improve your programming abilities. If you\n",
        "encounter difficulties, review the lecture materials, experiment with\n",
        "different approaches, and don’t hesitate to ask for clarification during\n",
        "class discussions.\n",
        "\n",
        "Later, you will find the solutions to these exercises online in the\n",
        "associated GitHub repository, but we will also quickly go over them in\n",
        "next week’s tutorial. To access the solutions, click on the Github\n",
        "button on the lower right and search for the folder with today’s lecture\n",
        "and tutorial. Alternatively, you can ask ChatGPT or Claude to explain\n",
        "them to you. But please remember, the goal is not just to complete the\n",
        "exercises, but to understand the concepts and improve your programming\n",
        "abilities."
      ],
      "id": "f2903408-4225-4178-8adf-7e33c32c544f"
    }
  ],
  "nbformat": 4,
  "nbformat_minor": 5,
  "metadata": {
    "kernel_info": {
      "name": "julia"
    },
    "kernelspec": {
      "name": "julia",
      "display_name": "Julia",
      "language": "julia"
    },
    "language_info": {
      "name": "julia",
      "codemirror_mode": "julia",
      "version": "1.10.5"
    }
  }
}