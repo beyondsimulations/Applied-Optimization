{
  "cells": [
    {
      "cell_type": "markdown",
      "metadata": {},
      "source": [
        "# Tutorial IV.I - Introduction to Mathematical Optimization with JuMP\n",
        "\n",
        "and HiGHS\n",
        "\n",
        "Applied Optimization with Julia\n",
        "\n",
        "# Introduction\n",
        "\n",
        "This Julia script is an interactive tutorial to introduce you to\n",
        "mathematical optimization using JuMP and the HiGHS solver. Follow the\n",
        "instructions, write your code in the designated code blocks, and confirm\n",
        "your understanding with @assert statements.\n",
        "\n",
        "JuMP is a general framework to formulate mathematical models in Julia,\n",
        "HiGHS is a open source solver with a MIT license and draws quiet some\n",
        "attention, as it is pretty fast for an open source solver. Nonetheless,\n",
        "we could also use other solvers in JuMP by only changing of a few lines\n",
        "of code, making it more versatile as for example GurobiPy in Python.\n",
        "\n",
        "If you ever feel like you need more information, the JuMP Documentation\n",
        "is a great ressource: [JuMP\n",
        "Documentation](https://jump.dev/JuMP.jl/stable/tutorials/getting_started/getting_started_with_JuMP/)\n",
        "\n",
        "We are going to structure this tutorial based on a small example\n",
        "instance:\n",
        "\n",
        "-   Suppose we are planning the production of two products\n",
        "    -   The profit from each unit of Product A is 100\n",
        "    -   The profit from each unit of Product B is 150\n",
        "-   The production is constrained by the available hours in two\n",
        "    departments\n",
        "    -   Each unit of Product A requires 2 hours of Cutting and 4 hours\n",
        "        of Finishing\n",
        "    -   Each unit of Product B requires 4 hours of Cutting and 3 hours\n",
        "        of Finishing\n",
        "    -   40 hours are available in total in the Cutting department\n",
        "    -   60 hours are available in total in the Finishing department\n",
        "-   We want to maximize the profit given these constraints\n",
        "\n",
        "If you followed the struture of the tutorials, you first have to install\n",
        "the JuMP Package and the HiGHS Package before you can start using it:"
      ],
      "id": "5cf2d09b-9251-4ccb-aeea-7062a6e4eba1"
    },
    {
      "cell_type": "code",
      "execution_count": 1,
      "metadata": {},
      "outputs": [],
      "source": [
        "import Pkg; Pkg.add([\"JuMP\",\"HiGHS\"])"
      ],
      "id": "2"
    },
    {
      "cell_type": "code",
      "execution_count": 1,
      "metadata": {},
      "outputs": [],
      "source": [
        "using JuMP, HiGHS"
      ],
      "id": "4"
    },
    {
      "cell_type": "markdown",
      "metadata": {},
      "source": [
        "# Section 1 - Defining an Optimization Model\n",
        "\n",
        "An optimization model in JuMP is defined within a Model object."
      ],
      "id": "a41f3c36-12fd-4309-91dc-d0d3e62b579f"
    },
    {
      "cell_type": "code",
      "execution_count": 1,
      "metadata": {},
      "outputs": [
        {
          "output_type": "stream",
          "name": "stdout",
          "text": [
            "Optimization model created successfully!"
          ]
        }
      ],
      "source": [
        "model = Model(HiGHS.Optimizer)\n",
        "println(\"Optimization model created successfully!\")"
      ],
      "id": "6"
    },
    {
      "cell_type": "markdown",
      "metadata": {},
      "source": [
        "# Section 2 - Adding Variables\n",
        "\n",
        "In optimization models, variables represent the quantities we want to\n",
        "determine. In JuMP, we use the `@variable` macro to define these\n",
        "variables.\n",
        "\n",
        "To define a variable for the model, we use the syntax:\n",
        "\n",
        "``` julia\n",
        "@variable(model_name, variable_name, [additional_properties])\n",
        "```\n",
        "\n",
        "Where: - `model_name` is the name of your JuMP model - `variable_name`\n",
        "is what you want to call your variable - `[additional_properties]` can\n",
        "include bounds or variable types\n",
        "\n",
        "For example, to create a continuous variable that’s greater than or\n",
        "equal to 0:\n",
        "\n",
        "``` julia\n",
        "@variable(model_name, variable_name >= 0)\n",
        "```\n",
        "\n",
        "This defines a continuous variable that’s equal to or larger than 0.\n",
        "\n",
        "## Exercise 2.1 - Create Variables\n",
        "\n",
        "Create two continous variables equal or larger 0 called `productA` and\n",
        "`productB` that represent the the number of units produced in our\n",
        "problem for our model `model`."
      ],
      "id": "215b94e4-028a-465c-ad68-9ef84d1dc27e"
    },
    {
      "cell_type": "code",
      "execution_count": 0,
      "metadata": {},
      "outputs": [],
      "source": [
        "# YOUR CODE BELOW\n"
      ],
      "id": "8"
    },
    {
      "cell_type": "code",
      "execution_count": 0,
      "metadata": {},
      "outputs": [],
      "source": [
        "# Test your answer\n",
        "@assert @isdefined productA\n",
        "@assert typeof(productA) == VariableRef\n",
        "@assert has_upper_bound(productA) == false\n",
        "@assert has_lower_bound(productA) == true\n",
        "@assert lower_bound(productA) == 0\n",
        "@assert @isdefined productA\n",
        "@assert typeof(productB) == VariableRef\n",
        "@assert has_upper_bound(productB) == false\n",
        "@assert has_lower_bound(productB) == true\n",
        "@assert lower_bound(productB) == 0\n",
        "println(\"Variables added to the model successfully!\")"
      ],
      "id": "10"
    },
    {
      "cell_type": "markdown",
      "metadata": {},
      "source": [
        "# Section 3 - Adding Constraints\n",
        "\n",
        "Constraints are conditions that limit the possible values of the\n",
        "variables in our optimization problem. In JuMP, we use the `@constraint`\n",
        "macro to define these constraints.\n",
        "\n",
        "The general syntax for adding a constraint is:\n",
        "\n",
        "``` julia\n",
        "@constraint(model_name, constraint_name, constraint_expression)\n",
        "```\n",
        "\n",
        "Where: - `model_name` is the name of your JuMP model - `constraint_name`\n",
        "is a label you give to the constraint (optional, but useful for\n",
        "reference) - `constraint_expression` is the mathematical expression of\n",
        "the constraint\n",
        "\n",
        "For example:\n",
        "\n",
        "``` julia\n",
        "constraint(model_name, constraint_name, 4 * variable_name <= 100)\n",
        "```\n",
        "\n",
        "This defines a constraint that ensures, that the variable\n",
        "`variable_name` can maximally be 25. Note, that you will have to change\n",
        "`model_name`, `constraint_name` and `variable_name` according to your\n",
        "instance.\n",
        "\n",
        "## Exercise 3.1 - Create Constraints\n",
        "\n",
        "Create two constraints based on the on the Cutting and Finishing\n",
        "department hours of the problem description in this tutorial. Call the\n",
        "first constraint `cutting_constraint` and the second constraint\n",
        "`finishing_constraint`."
      ],
      "id": "37e586c6-a7c2-4ee3-81c2-403c350f39f7"
    },
    {
      "cell_type": "code",
      "execution_count": 0,
      "metadata": {},
      "outputs": [],
      "source": [
        "# YOUR CODE BELOW\n"
      ],
      "id": "12"
    },
    {
      "cell_type": "code",
      "execution_count": 0,
      "metadata": {},
      "outputs": [],
      "source": [
        "# Test your answer\n",
        "@assert is_valid(model, cutting_constraint)\n",
        "@assert is_valid(model, finishing_constraint)\n",
        "println(\"Constraints added to the model successfully!\")\n",
        "println(\"Note, that only the existence of these constraints was checked!\")\n",
        "println(\"The optimization later will show, whether the formulation was correct.\")"
      ],
      "id": "14"
    },
    {
      "cell_type": "markdown",
      "metadata": {},
      "source": [
        "# Section 4 - Defining the Objective Function\n",
        "\n",
        "The objective function represents the goal of our optimization problem -\n",
        "what we want to maximize or minimize. In JuMP, we use the `@objective`\n",
        "macro to define this function.\n",
        "\n",
        "The general syntax for defining an objective function is:\n",
        "\n",
        "``` julia\n",
        "@objective(model_name, optimization_direction, objective_expression)\n",
        "```\n",
        "\n",
        "Where: - `model_name` is the name of your JuMP model -\n",
        "`optimization_direction` is either `Max` for maximization or `Min` for\n",
        "minimization - `objective_expression` is the mathematical expression of\n",
        "the objective function\n",
        "\n",
        "For example:\n",
        "\n",
        "``` julia\n",
        "@objective(model_name, Max, 2*variableA + 3*variableB) \n",
        "```\n",
        "\n",
        "This defines an objective function that maximizes something based on the\n",
        "values of `variableA` and `variableB`.\n",
        "\n",
        "## Exercise 4.1 - Create the Objective Function\n",
        "\n",
        "Create the objective function based on the problem description of this\n",
        "tutorial. The objective is to maximize profit based on the values of\n",
        "`productA` and `productB`."
      ],
      "id": "210705e8-136b-49f1-be9f-7fe35d0c2533"
    },
    {
      "cell_type": "code",
      "execution_count": 0,
      "metadata": {},
      "outputs": [],
      "source": [
        "# YOUR CODE BELOW\n"
      ],
      "id": "16"
    },
    {
      "cell_type": "code",
      "execution_count": 0,
      "metadata": {},
      "outputs": [],
      "source": [
        "# Test your answer\n",
        "@assert typeof(objective_function(model)) == AffExpr\n",
        "println(\"An objective function defined successfully!\")\n",
        "println(\"The optimization later will show, whether the formulation was correct.\")"
      ],
      "id": "18"
    },
    {
      "cell_type": "markdown",
      "metadata": {},
      "source": [
        "# Section 5 - Solving the Model\n",
        "\n",
        "Once we have defined our variables, constraints, and objective function,\n",
        "we can solve the optimization model. Here’s how to do it step by step:\n",
        "\n",
        "1.  Solve the model:"
      ],
      "id": "3377088d-6ab8-434e-81be-c6bc043bae23"
    },
    {
      "cell_type": "code",
      "execution_count": 0,
      "metadata": {},
      "outputs": [],
      "source": [
        "optimize!(model)"
      ],
      "id": "20"
    },
    {
      "cell_type": "markdown",
      "metadata": {},
      "source": [
        "1.  Check the status of the solution:"
      ],
      "id": "998169f8-a8d4-4527-baa3-8c54b83d7a9f"
    },
    {
      "cell_type": "code",
      "execution_count": 0,
      "metadata": {},
      "outputs": [],
      "source": [
        "termination_status(model)"
      ],
      "id": "22"
    },
    {
      "cell_type": "markdown",
      "metadata": {},
      "source": [
        "1.  If the solution is optimal, we can retrieve the optimal values of\n",
        "    our variables and the objective function. If the time limit is\n",
        "    reached, we can check whether a primal solution is available. We do\n",
        "    so by checking whether the model has values."
      ],
      "id": "c628e521-2ce5-4bcb-8593-471f4f148cb4"
    },
    {
      "cell_type": "code",
      "execution_count": 0,
      "metadata": {},
      "outputs": [],
      "source": [
        "begin\n",
        "    if termination_status(model) == OPTIMAL \n",
        "        println(\"Solution is optimal\")\n",
        "    elseif termination_status(model) == TIME_LIMIT && has_values(model) \n",
        "        println(\"Solution is suboptimal due to a time limit, \n",
        "            but a primal solution is available\") \n",
        "    else\n",
        "        error(\"The model was not solved correctly.\") \n",
        "    end\n",
        "    println(\"Objective value = \", objective_value(model)) \n",
        "end"
      ],
      "id": "24"
    },
    {
      "cell_type": "markdown",
      "metadata": {},
      "source": [
        "We can then get the values of the variables as follows:"
      ],
      "id": "7b3343d7-b52d-4848-8695-eb8e51f7b423"
    },
    {
      "cell_type": "code",
      "execution_count": 0,
      "metadata": {},
      "outputs": [],
      "source": [
        "println(\"Product A quantity: $(value(productA))\")\n",
        "println(\"Product B quantity: $(value(productB))\")"
      ],
      "id": "26"
    },
    {
      "cell_type": "markdown",
      "metadata": {},
      "source": [
        "> **Note**\n",
        ">\n",
        "> Note, that the values can be slightly off due to the nature of Float64\n",
        "> numbers!\n",
        "\n",
        "The following code block tests whether the solution is correct or\n",
        "whether you have made a mistake in the formulation of the problem."
      ],
      "id": "f5d81e1f-ef14-482e-b67d-ffb272b5bd8c"
    },
    {
      "cell_type": "code",
      "execution_count": 0,
      "metadata": {},
      "outputs": [],
      "source": [
        "# Test your answer\n",
        "@assert termination_status(model) == MOI.OPTIMAL \"Sorry, something didn't work out as the model status is $termination_status(model)\".\n",
        "println(\"Solution: Product A = \", val_productA, \", Product B = \", val_productB)\n",
        "@assert val_productA ≈ 12 atol=1e-4 \"Although you have a solution, val_productA should be 12 not $val_productA\"\n",
        "@assert val_productB ≈ 4 atol=1e-4 \"Although you have a solution, val_productB should be 4 not $val_productB\"\n",
        "println(\"You have solved the model correctly!\")"
      ],
      "id": "28"
    },
    {
      "cell_type": "markdown",
      "metadata": {},
      "source": [
        "# Conclusion\n",
        "\n",
        "Excellent! You’ve completed the tutorial on mathematical optimization\n",
        "with JuMP and HiGHS. You’ve learned how to define optimization models,\n",
        "add variables and constraints, define an objective function, and solve\n",
        "the model. Continue to the next file to learn more.\n",
        "\n",
        "# Solutions\n",
        "\n",
        "You will likely find solutions to most exercises online. However, I\n",
        "strongly encourage you to work on these exercises independently without\n",
        "searching explicitly for the exact answers to the exercises.\n",
        "Understanding someone else’s solution is very different from developing\n",
        "your own. Use the lecture notes and try to solve the exercises on your\n",
        "own. This approach will significantly enhance your learning and\n",
        "problem-solving skills.\n",
        "\n",
        "Remember, the goal is not just to complete the exercises, but to\n",
        "understand the concepts and improve your programming abilities. If you\n",
        "encounter difficulties, review the lecture materials, experiment with\n",
        "different approaches, and don’t hesitate to ask for clarification during\n",
        "class discussions.\n",
        "\n",
        "Later, you will find the solutions to these exercises online in the\n",
        "associated GitHub repository, but we will also quickly go over them in\n",
        "next week’s tutorial. To access the solutions, click on the Github\n",
        "button on the lower right and search for the folder with today’s lecture\n",
        "and tutorial. Alternatively, you can ask ChatGPT or Claude to explain\n",
        "them to you. But please remember, the goal is not just to complete the\n",
        "exercises, but to understand the concepts and improve your programming\n",
        "abilities."
      ],
      "id": "f95ccf97-3276-4559-a06d-ebb75735af16"
    }
  ],
  "nbformat": 4,
  "nbformat_minor": 5,
  "metadata": {
    "kernel_info": {
      "name": "julia"
    },
    "kernelspec": {
      "name": "julia",
      "display_name": "Julia",
      "language": "julia"
    },
    "language_info": {
      "name": "julia",
      "codemirror_mode": "julia",
      "version": "1.10.5"
    }
  }
}