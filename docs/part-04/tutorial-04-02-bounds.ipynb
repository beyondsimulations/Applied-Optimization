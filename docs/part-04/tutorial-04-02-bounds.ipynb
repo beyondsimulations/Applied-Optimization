{
  "cells": [
    {
      "cell_type": "markdown",
      "metadata": {},
      "source": [
        "# Tutorial IV.II - Variables and Bounds in JuMP\n",
        "\n",
        "Applied Optimization with Julia\n",
        "\n",
        "# Introduction\n",
        "\n",
        "This Julia script is an interactive tutorial to introduce you to\n",
        "advanced variable handling in JuMP. You’ll learn about creating\n",
        "variables in containers, managing different types of variables, and\n",
        "working with indexed variables. Follow the instructions, write your code\n",
        "in the designated code blocks, and confirm your understanding with\n",
        "`@assert` statements. Make sure to have the JuMP package installed to\n",
        "follow this tutorial."
      ],
      "id": "aa83bfc7-734e-400a-982b-2b2e6cc1366b"
    },
    {
      "cell_type": "code",
      "execution_count": 1,
      "metadata": {},
      "outputs": [],
      "source": [
        "using JuMP"
      ],
      "id": "2"
    },
    {
      "cell_type": "markdown",
      "metadata": {},
      "source": [
        "Now, we need a model. As we don’t solve anything in this tutorial, we\n",
        "don’t need to add the solver and can solely define the abstract model."
      ],
      "id": "f318abb6-7cfd-40a4-b038-4991121704bd"
    },
    {
      "cell_type": "code",
      "execution_count": 1,
      "metadata": {},
      "outputs": [
        {
          "output_type": "display_data",
          "metadata": {},
          "data": {
            "text/plain": [
              "A JuMP Model\n",
              "├ solver: none\n",
              "├ objective_sense: FEASIBILITY_SENSE\n",
              "├ num_variables: 0\n",
              "├ num_constraints: 0\n",
              "└ Names registered in the model: none"
            ]
          }
        }
      ],
      "source": [
        "new_model = Model()"
      ],
      "id": "4"
    },
    {
      "cell_type": "markdown",
      "metadata": {},
      "source": [
        "# Section 1 - Managing Different Types of Variables\n",
        "\n",
        "## Why Different Variable Types?\n",
        "\n",
        "-   **Continuous variables**: Represent quantities that can take any\n",
        "    real value within a range (e.g., amount of raw materials in a\n",
        "    production process).\n",
        "-   **Integer variables**: Represent indivisible quantities (e.g.,\n",
        "    number of products manufactured).\n",
        "-   **Binary variables**: Represent yes/no decisions (e.g., whether to\n",
        "    build a facility at a specific location).\n",
        "\n",
        "For example:\n",
        "\n",
        "``` julia\n",
        "@variable(model, variableName)    \n",
        "```\n",
        "\n",
        "This defines a continuous variable without any bound.\n",
        "\n",
        "``` julia\n",
        "@variable(model, 0 <= variableName <= 1) \n",
        "```\n",
        "\n",
        "This defines a continuous variable in an interval.\n",
        "\n",
        "``` julia\n",
        "@variable(model, 0 <= variableName, Bin) \n",
        "```\n",
        "\n",
        "This defines a binary variable.\n",
        "\n",
        "``` julia\n",
        "@variable(model, 0 <= variableName, Int) \n",
        "```\n",
        "\n",
        "This defines an integer variable. Note that you will have to change\n",
        "`modelName` and `variableName` according to your instance.\n",
        "\n",
        "## Exercise 1.1 - Create Variables\n",
        "\n",
        "Create continuous, integer, and binary variables. Create three different\n",
        "variables of different types without any additional bound:\n",
        "`continuous_var` as a continuous variable for `new_model`, `integer_var`\n",
        "as an integer variable for `new_model`, and `binary_var` as a binary\n",
        "variable for `new_model`."
      ],
      "id": "66a67881-f708-4441-9e88-51c1d87df08e"
    },
    {
      "cell_type": "code",
      "execution_count": 0,
      "metadata": {},
      "outputs": [],
      "source": [
        "# YOUR CODE BELOW\n"
      ],
      "id": "6"
    },
    {
      "cell_type": "code",
      "execution_count": 0,
      "metadata": {},
      "outputs": [],
      "source": [
        "# Test your answer\n",
        "@assert typeof(continuous_var) == VariableRef && typeof(integer_var) == VariableRef\n",
        "@assert typeof(binary_var) == VariableRef\n",
        "println(\"Continuous, integer, and binary variables created successfully!\")"
      ],
      "id": "8"
    },
    {
      "cell_type": "markdown",
      "metadata": {},
      "source": [
        "# Section 2 - Creating Variables in Containers\n",
        "\n",
        "When dealing with large-scale problems, creating variables individually\n",
        "becomes impractical. Containers like arrays, matrices, and indexed sets\n",
        "allow us to:\n",
        "\n",
        "1.  Efficiently create and manage many variables.\n",
        "2.  Represent complex relationships between variables.\n",
        "3.  Simplify model formulation for problems with repetitive structures.\n",
        "\n",
        "For example:\n",
        "\n",
        "``` julia\n",
        "@variable(modelName, variableName[1:20], Bin)\n",
        "```\n",
        "\n",
        "This would create a container with 20 variables. To create a set based\n",
        "on a range, we could do:\n",
        "\n",
        "``` julia\n",
        "new_range = 1:100\n",
        "@variable(modelName, variableName[i in new_range] >= 0)\n",
        "```\n",
        "\n",
        "This would create a container with 100 continuous variables larger than\n",
        "0.\n",
        "\n",
        "For a container with multiple dimensions:\n",
        "\n",
        "``` julia\n",
        "@variable(modelName, variableName[1:30, 1:30])\n",
        "```\n",
        "\n",
        "This would create a container with a matrix of continuous variables\n",
        "without any bound. Note that you will have to change `modelName` and\n",
        "`variableName` according to your instance.\n",
        "\n",
        "## Exercise 2.1 - Create an Array\n",
        "\n",
        "Create an array `X` for `new_model` containing 8 variables with\n",
        "non-negative lower bounds."
      ],
      "id": "2dba941e-08ca-4c85-84dc-6efeb4561840"
    },
    {
      "cell_type": "code",
      "execution_count": 1,
      "metadata": {},
      "outputs": [],
      "source": [
        "# YOUR CODE BELOW\n"
      ],
      "id": "10"
    },
    {
      "cell_type": "code",
      "execution_count": 0,
      "metadata": {},
      "outputs": [],
      "source": [
        "# Test your answer\n",
        "@assert length(X) == 8 && all(lower_bound(X[i]) == 0 for i in 1:8)\n",
        "println(\"Array of variables created successfully!\")"
      ],
      "id": "12"
    },
    {
      "cell_type": "markdown",
      "metadata": {},
      "source": [
        "## Exercise 2.2 - Create a Matrix\n",
        "\n",
        "Create a matrix `Y` for `new_model` containing binary variables with a\n",
        "size of 3 x 3."
      ],
      "id": "f281a86e-9baa-4e41-b3d2-82431fdb75f0"
    },
    {
      "cell_type": "code",
      "execution_count": 0,
      "metadata": {},
      "outputs": [],
      "source": [
        "# YOUR CODE BELOW\n"
      ],
      "id": "14"
    },
    {
      "cell_type": "code",
      "execution_count": 0,
      "metadata": {},
      "outputs": [],
      "source": [
        "# Test your answer\n",
        "@assert size(Y, 1) == 3 && size(Y, 2) == 3\n",
        "@assert all(has_lower_bound(Y[i, j]) == false for i in 1:3, j in 1:3)\n",
        "@assert all(has_upper_bound(Y[i, j]) == false for i in 1:3, j in 1:3)\n",
        "println(\"Matrix of variables created successfully!\")"
      ],
      "id": "16"
    },
    {
      "cell_type": "markdown",
      "metadata": {},
      "source": [
        "## Exercise 2.3 - Create Indexed Variables\n",
        "\n",
        "Create indexed variables based on a set. Create variables `W` indexed by\n",
        "set `N` of size 1, 2, …, 6 with non-negative lower bounds."
      ],
      "id": "5ae3fa4b-cbdf-4a9a-a4be-8506734de403"
    },
    {
      "cell_type": "code",
      "execution_count": 0,
      "metadata": {},
      "outputs": [],
      "source": [
        "# YOUR CODE BELOW\n"
      ],
      "id": "18"
    },
    {
      "cell_type": "code",
      "execution_count": 0,
      "metadata": {},
      "outputs": [],
      "source": [
        "# Test your answer\n",
        "@assert length(W) == 6 && all(lower_bound(W[i]) == 0 for i in N)\n",
        "println(\"Indexed variables created successfully!\")"
      ],
      "id": "20"
    },
    {
      "cell_type": "markdown",
      "metadata": {},
      "source": [
        "## Exercise 2.4 - Create Nested Containers\n",
        "\n",
        "Create a 3-dimensional array `Z` for `new_model` containing integer\n",
        "variables with dimensions 2 x 3 x 4, where each variable has a lower\n",
        "bound of 0 and an upper bound of 10."
      ],
      "id": "145e490d-baef-4855-932e-af5f93ffb98f"
    },
    {
      "cell_type": "code",
      "execution_count": 1,
      "metadata": {},
      "outputs": [],
      "source": [
        "# YOUR CODE BELOW\n"
      ],
      "id": "22"
    },
    {
      "cell_type": "code",
      "execution_count": 0,
      "metadata": {},
      "outputs": [],
      "source": [
        "# Test your answer\n",
        "@assert size(Z) == (2, 3, 4)\n",
        "@assert all(is_integer(Z[i,j,k]) && lower_bound(Z[i,j,k]) == 0 && upper_bound(Z[i,j,k]) == 10 \n",
        "            for i in 1:2, j in 1:3, k in 1:4)\n",
        "println(\"3D array of integer variables created successfully!\")"
      ],
      "id": "24"
    },
    {
      "cell_type": "markdown",
      "metadata": {},
      "source": [
        "# Conclusion\n",
        "\n",
        "Fantastic! You’ve completed the tutorial on advanced variables in JuMP.\n",
        "You’ve learned how to create variables in containers, manage different\n",
        "types of variables, and work with indexed variables. Continue to the\n",
        "next file to learn more.\n",
        "\n",
        "# Solutions\n",
        "\n",
        "You will likely find solutions to most exercises online. However, I\n",
        "strongly encourage you to work on these exercises independently without\n",
        "searching explicitly for the exact answers to the exercises.\n",
        "Understanding someone else’s solution is very different from developing\n",
        "your own. Use the lecture notes and try to solve the exercises on your\n",
        "own. This approach will significantly enhance your learning and\n",
        "problem-solving skills.\n",
        "\n",
        "Remember, the goal is not just to complete the exercises, but to\n",
        "understand the concepts and improve your programming abilities. If you\n",
        "encounter difficulties, review the lecture materials, experiment with\n",
        "different approaches, and don’t hesitate to ask for clarification during\n",
        "class discussions.\n",
        "\n",
        "Later, you will find the solutions to these exercises online in the\n",
        "associated GitHub repository, but we will also quickly go over them in\n",
        "next week’s tutorial. To access the solutions, click on the Github\n",
        "button on the lower right and search for the folder with today’s lecture\n",
        "and tutorial. Alternatively, you can ask ChatGPT or Claude to explain\n",
        "them to you. But please remember, the goal is not just to complete the\n",
        "exercises, but to understand the concepts and improve your programming\n",
        "abilities."
      ],
      "id": "86aaeca6-a5af-40b1-9edd-2b09c3a973ee"
    }
  ],
  "nbformat": 4,
  "nbformat_minor": 5,
  "metadata": {
    "kernel_info": {
      "name": "julia"
    },
    "kernelspec": {
      "name": "julia",
      "display_name": "Julia",
      "language": "julia"
    },
    "language_info": {
      "name": "julia",
      "codemirror_mode": "julia",
      "version": "1.10.5"
    }
  }
}