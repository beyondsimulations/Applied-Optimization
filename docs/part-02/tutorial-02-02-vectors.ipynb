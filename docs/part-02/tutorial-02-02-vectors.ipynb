{
  "cells": [
    {
      "cell_type": "markdown",
      "metadata": {},
      "source": [
        "# Tutorial II.II - Vectors and Matrices\n",
        "\n",
        "Applied Optimization with Julia\n",
        "\n",
        "# Introduction to Vectors, Matrices, and Tuples in Julia\n",
        "\n",
        "This interactive Julia script introduces the basics of vectors,\n",
        "matrices, and tuples. Vectors and matrices are fundamental in numerical\n",
        "computing and data analysis, while tuples are essential for grouping\n",
        "different types of data. Understanding these data structures and how to\n",
        "manipulate them is crucial in Julia. Follow the instructions, write your\n",
        "code in the designated code blocks, and execute the corresponding code\n",
        "cell.\n",
        "\n",
        "> **Note**\n",
        ">\n",
        "> Always replace ‘YOUR CODE BELOW’ with your actual code.\n",
        "\n",
        "# Section 1: Vectors\n",
        "\n",
        "Vectors in Julia are one-dimensional arrays used to store sequences of\n",
        "elements. They’re powerful for numerical operations and data handling.\n",
        "Create matrices with square brackets, separate elements with commas. For\n",
        "example:\n",
        "\n",
        "``` julia\n",
        "myvector = [1,2,3,4,5]\n",
        "```\n",
        "\n",
        "This creates a vector ‘myvector’ that contains the elements `1,2,3,4,5`.\n",
        "Vectors are mutable, and you can add elements with `push!()` or\n",
        "`pushfirst!()` (the ‘!’ denotes function modification of the input).\n",
        "Remove elements with `pop!()` or `popfirst!()`. Use ‘?’ in the REPL for\n",
        "function details. Access elements with square brackets, e.g.,\n",
        "`fib[1:4]`.\n",
        "\n",
        "> **Tip**\n",
        ">\n",
        "> Remember, Julia is 1-based indexed.\n",
        "\n",
        "## Exercise 1.1\n",
        "\n",
        "Create a vector ‘fib’ with the first five Fibonacci numbers:\n",
        "`1, 1, 2, 3, 5`."
      ],
      "id": "fc2ca454-4655-428e-a81c-5a300e2c0498"
    },
    {
      "cell_type": "code",
      "execution_count": 1,
      "metadata": {},
      "outputs": [],
      "source": [
        "# Create a vector 'fib' with the first five Fibonacci numbers: 1, 1, 2, 3, 5\n",
        "# YOUR CODE BELOW\n",
        "\n",
        "# Test your answer\n",
        "@assert fib == [1, 1, 2, 3, 5]\n",
        "println(\"The 'fib' vector: \", fib)"
      ],
      "id": "0b1e0609"
    },
    {
      "cell_type": "markdown",
      "metadata": {},
      "source": [
        "## Exercise 1.2\n",
        "\n",
        "Append the number 8 to the `fib` vector."
      ],
      "id": "6918275f-a8fd-4edc-a724-43d7609e7e68"
    },
    {
      "cell_type": "code",
      "execution_count": 2,
      "metadata": {},
      "outputs": [],
      "source": [
        "# Append the number 8 to the 'fib' vector.\n",
        "# YOUR CODE BELOW\n",
        "\n",
        "# Test your answer\n",
        "@assert fib == [1, 1, 2, 3, 5, 8]\n",
        "println(\"The 'fib' vector after appending 8: \", fib)"
      ],
      "id": "bf2e4ecc"
    },
    {
      "cell_type": "markdown",
      "metadata": {},
      "source": [
        "## Exercise 1.3\n",
        "\n",
        "Remove the first element of the `fib` vector."
      ],
      "id": "51555378-5add-436d-8b3d-272ed092d68f"
    },
    {
      "cell_type": "code",
      "execution_count": 3,
      "metadata": {},
      "outputs": [],
      "source": [
        "# Remove the first element of the 'fib' vector. \n",
        "# YOUR CODE BELOW\n",
        "\n",
        "# Test your answer\n",
        "@assert fib == [1, 2, 3, 5, 8]\n",
        "println(\"The 'fib' vector after removing the first element: \", fib)"
      ],
      "id": "61df6ef8"
    },
    {
      "cell_type": "markdown",
      "metadata": {},
      "source": [
        "## Exercise 1.4\n",
        "\n",
        "Access and save the first three elements of `fib`, to\n",
        "`first_three_elements`."
      ],
      "id": "75e870ae-2113-4d5e-8df2-4aeba608fea7"
    },
    {
      "cell_type": "code",
      "execution_count": 4,
      "metadata": {},
      "outputs": [],
      "source": [
        "# Access and save the first three elements of 'fib', to 'first_three_elements'.\n",
        "# YOUR CODE BELOW\n",
        "\n",
        "# Test your answer\n",
        "@assert first_three_elements == fib[1:3]\n",
        "println(\"The first three elements of the 'fib' vector: \", first_three_elements)"
      ],
      "id": "5c8d5e63"
    },
    {
      "cell_type": "markdown",
      "metadata": {},
      "source": [
        "# Section 2: Matrices\n",
        "\n",
        "A matrix in Julia is a 2D array, great for linear algebra and data\n",
        "representation. Create matrices with square brackets, separate elements\n",
        "with spaces, rows with semicolons. Access elements with square brackets\n",
        "(e.g., `matrix[2,2]`). You can add or substract matrices of the same\n",
        "dimensions element-wise if you add or substract them. For example:\n",
        "\n",
        "``` julia\n",
        "matrix1 = [2 2; 3 3] + [1 2; 3 4]\n",
        "matrix2 = [2 2; 3 3] - [1 2; 3 4]   \n",
        "```\n",
        "\n",
        "> **Tip**\n",
        ">\n",
        "> Note: Matrix multiplication is not performed element-wise!\n",
        "\n",
        "``` julia\n",
        "matrix3 = [2 2; 3 3] * [1 2; 3 4]   # Not element-wise multiplication\n",
        "matrix4 = [2 2; 3 3] .* [1 2; 3 4]  # Element-wise multiplication\n",
        "```\n",
        "\n",
        "Use the ‘.’ syntax for element-wise operations to add single elements to\n",
        "a vector:\n",
        "\n",
        "``` julia\n",
        "matrix = matrix .+ 1\n",
        "```\n",
        "\n",
        "## Exercise 2.1\n",
        "\n",
        "Create a 2x3 matrix `my_matrix` with the values: `1 2 3; 4 5 6`."
      ],
      "id": "bad698c8-0da5-49f6-9611-9ab3083e14e9"
    },
    {
      "cell_type": "code",
      "execution_count": 5,
      "metadata": {},
      "outputs": [],
      "source": [
        "# Create a 2x3 matrix 'my_matrix' with the values: 1 2 3; 4 5 6\n",
        "# YOUR CODE BELOW\n",
        "\n",
        "# Test your answer\n",
        "@assert my_matrix == [1 2 3; 4 5 6]\n",
        "println(\"The 'my_matrix':\\n\", my_matrix)"
      ],
      "id": "a4df97b2"
    },
    {
      "cell_type": "markdown",
      "metadata": {},
      "source": [
        "## Exercise 2.2\n",
        "\n",
        "Change the 3rd column of the 2nd row to `17` by accessing and changing\n",
        "the element."
      ],
      "id": "34cc977b-e2fb-4fbf-b747-df8b05b7d676"
    },
    {
      "cell_type": "code",
      "execution_count": 6,
      "metadata": {},
      "outputs": [],
      "source": [
        "# Change the 3rd column of the 2nd row to 17 by accessing and changing the element.\n",
        "\n",
        "# YOUR CODE BELOW\n",
        "\n",
        "\n",
        "# Test your answer\n",
        "@assert my_matrix == [1 2 3; 4 5 17]\n",
        "println(\"The 'my_matrix' after modification:\\n\", my_matrix)"
      ],
      "id": "fa156bbf"
    },
    {
      "cell_type": "markdown",
      "metadata": {},
      "source": [
        "## Exercise 2.3\n",
        "\n",
        "Perform matrix addition with `my_matrix` and `another_matrix`. Call the\n",
        "resulting matrix `added_matrices`."
      ],
      "id": "011c9451-5e15-475d-9017-a4ca752b43f1"
    },
    {
      "cell_type": "code",
      "execution_count": 7,
      "metadata": {},
      "outputs": [],
      "source": [
        "# Perform matrix addition with 'my_matrix' and 'another_matrix'. Call the resulting matrix 'added_matrices'.\n",
        "another_matrix = [10 20 30; 40 50 60]\n",
        "# YOUR CODE BELOW\n",
        "\n",
        "# Test your answer\n",
        "@assert added_matrices == [11 22 33; 44 55 77]\n",
        "println(\"Result of adding 'my_matrix' and 'another_matrix':\\n\", added_matrices)"
      ],
      "id": "dace19e2"
    },
    {
      "cell_type": "markdown",
      "metadata": {},
      "source": [
        "## Exercise 2.4\n",
        "\n",
        "Add `10` to each element in `added_matrices`."
      ],
      "id": "c505a610-75a6-495d-803f-a797fb22220d"
    },
    {
      "cell_type": "code",
      "execution_count": 8,
      "metadata": {},
      "outputs": [],
      "source": [
        "# Add '10' to each element in 'added_matrices'.\n",
        "# YOUR CODE BELOW\n",
        "\n",
        "# Test your answer\n",
        "@assert added_matrices == [21 32 43; 54 65 87]\n",
        "println(\"Result of adding 10 to each element in 'added_matrices':\\n\", added_matrices)"
      ],
      "id": "488c4b4e"
    },
    {
      "cell_type": "markdown",
      "metadata": {},
      "source": [
        "# Section 3: Tuples\n",
        "\n",
        "Tuples are immutable collections used to group different types of\n",
        "elements. They are useful for functions that need to return multiple\n",
        "values. Create a tuple using parentheses and separating elements with\n",
        "commas. Access tuple elements with square brackets, e.g., `tuple[1]`.\n",
        "\n",
        "## Exercise 3.1\n",
        "\n",
        "Create a tuple `my_tuple` with three elements: `4.0`, your matrix\n",
        "`added_matrices`, and `\"Hi there!\"`."
      ],
      "id": "8dfb7a20-21a5-444b-8f32-0e05d9ce62a3"
    },
    {
      "cell_type": "code",
      "execution_count": 9,
      "metadata": {},
      "outputs": [],
      "source": [
        "# Create a tuple 'my_tuple' with three elements: 4.0, your matrix 'added_matrices', and \"Hi there!\".\n",
        "# YOUR CODE BELOW\n",
        "\n",
        "# Test your answer\n",
        "@assert my_tuple == (4.0, added_matrices, \"Hi there!\")\n",
        "println(\"The 'my_tuple': \", my_tuple)"
      ],
      "id": "6aca1040"
    },
    {
      "cell_type": "markdown",
      "metadata": {},
      "source": [
        "## Exercise 3.2\n",
        "\n",
        "Access the second element of `my_tuple`, store it in `second_element`."
      ],
      "id": "5c86ec22-ed81-402b-be76-c325e3d01b10"
    },
    {
      "cell_type": "code",
      "execution_count": 10,
      "metadata": {},
      "outputs": [],
      "source": [
        "# Access the second element of 'my_tuple', store it in 'second_element'.\n",
        "# YOUR CODE BELOW\n",
        "\n",
        "# Test your answer\n",
        "@assert second_element == [21 32 43; 54 65 87]\n",
        "println(\"The second element of 'my_tuple':\\n\", second_element)"
      ],
      "id": "d8516df0"
    },
    {
      "cell_type": "markdown",
      "metadata": {},
      "source": [
        "## Conclusion\n",
        "\n",
        "Well done! You’ve completed the tutorial on Vectors, Matrices, and\n",
        "Tuples. You’ve learned to create, manipulate, and interact with these\n",
        "fundamental data structures. Experiment with the code, try different\n",
        "operations, and see how Julia behaves. Continue to the next file to\n",
        "learn more.\n",
        "\n",
        "# Solutions\n",
        "\n",
        "You will likely find solutions to most exercises online. However, I\n",
        "strongly encourage you to work on these exercises independently without\n",
        "searching explicitly for the exact answers to the exercises.\n",
        "Understanding someone else’s solution is very different from developing\n",
        "your own. Use the lecture notes and try to solve the exercises on your\n",
        "own. This approach will significantly enhance your learning and\n",
        "problem-solving skills.\n",
        "\n",
        "Remember, the goal is not just to complete the exercises, but to\n",
        "understand the concepts and improve your programming abilities. If you\n",
        "encounter difficulties, review the lecture materials, experiment with\n",
        "different approaches, and don’t hesitate to ask for clarification during\n",
        "class discussions.\n",
        "\n",
        "Later, you will find the solutions to these exercises online in the\n",
        "associated GitHub repository, but we will also quickly go over them in\n",
        "next week’s tutorial. To access the solutions, click on the Github\n",
        "button on the lower right and search for the folder with today’s lecture\n",
        "and tutorial. Alternatively, you can ask ChatGPT or Claude to explain\n",
        "them to you. But please remember, the goal is not just to complete the\n",
        "exercises, but to understand the concepts and improve your programming\n",
        "abilities."
      ],
      "id": "8718ed0e-82bf-4e42-8340-549c51d0c5d0"
    }
  ],
  "nbformat": 4,
  "nbformat_minor": 5,
  "metadata": {
    "kernelspec": {
      "name": "julia-1.10",
      "display_name": "Julia 1.10.4",
      "language": "julia",
      "path": "/Users/tvlcek/Library/Jupyter/kernels/julia-1.10"
    },
    "language_info": {
      "name": "julia",
      "file_extension": ".jl",
      "mimetype": "application/julia",
      "version": "1.10.4"
    }
  }
}