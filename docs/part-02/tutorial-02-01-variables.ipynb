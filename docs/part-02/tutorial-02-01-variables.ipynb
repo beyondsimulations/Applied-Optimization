{
  "cells": [
    {
      "cell_type": "markdown",
      "metadata": {},
      "source": [
        "# Tutorial II.I - Variables and Types\n",
        "\n",
        "Applied Optimization with Julia\n",
        "\n",
        "# Introduction to Variables and Types in Julia\n",
        "\n",
        "Welcome to this interactive Julia tutorial which introduces the basics\n",
        "of variables and types. Understanding variables and their types is\n",
        "crucial as they are the building blocks of any program. They determine\n",
        "how data is stored, manipulated, and how efficiently your code runs.\n",
        "\n",
        "This script is designed to be interactive. Follow the instructions,\n",
        "write your code in the designated code blocks, and then execute the\n",
        "corresponding code. Each exercise is followed by an @assert statement\n",
        "that checks your solution.\n",
        "\n",
        "The easiest way to run the code is by using IJulia. Start Julia, and\n",
        "type `using IJulia; notebook()` in the Julia prompt. This will open a\n",
        "new browser window where you can run the code. If you have not installed\n",
        "IJulia yet, you can do so by typing `]` in the Julia prompt to open the\n",
        "package manager, and then installing IJulia by typing `add IJulia`.\n",
        "\n",
        "> **Note**\n",
        ">\n",
        "> Always replace ‘YOUR CODE BELOW’ with your actual code.\n",
        "\n",
        "# Section 1: Variables\n",
        "\n",
        "Introduction to Variables: A variable in Julia can be used to store data\n",
        "like numbers, text, or more complex types. To declare a variable in\n",
        "Julia, simply assign a value to a name: `variable_name = value`.\n",
        "\n",
        "## Exercise 1.1\n",
        "\n",
        "Declare a variable named ‘x’ and assign it the value 1."
      ],
      "id": "4488f79d-69f9-4b06-8b13-7aab0443da4d"
    },
    {
      "cell_type": "code",
      "execution_count": 1,
      "metadata": {},
      "outputs": [],
      "source": [
        "# Declare a variable named 'x' and assign it the value 1\n",
        "# YOUR CODE BELOW\n",
        "\n",
        "# Test your answer\n",
        "@assert x == 1 \"Check again, the value of x should be 1. Remember to assign the value directly to x.\"\n",
        "println(\"Great, you have correctly assigned the value $x to the variable 'x'.\")"
      ],
      "id": "ac146209"
    },
    {
      "cell_type": "markdown",
      "metadata": {},
      "source": [
        "## Exercise 1.2\n",
        "\n",
        "Declare a variable named ‘hi’ and assign it the string “Hello,\n",
        "Optimization!”."
      ],
      "id": "e8ea8da6-a7d9-4b86-9a59-fb33c7e26cec"
    },
    {
      "cell_type": "code",
      "execution_count": 2,
      "metadata": {},
      "outputs": [],
      "source": [
        "# Declare a variable named 'hi' and assign it the string  \"Hello, Optimization!\"\n",
        "# YOUR CODE BELOW\n",
        "\n",
        "# Test your answer\n",
        "@assert hi == \"Hello, Optimization!\" \"Make sure the variable 'hi' contains the exact string \\\"Hello, Optimization\\\"!\"\n",
        "println(\"Good, the variable 'hi' now states \\\"$hi\\\".\")"
      ],
      "id": "83db16c2"
    },
    {
      "cell_type": "markdown",
      "metadata": {},
      "source": [
        "# Section 2: Basic Types\n",
        "\n",
        "Julia is a dynamically typed language, yet it allows you to indicate\n",
        "types explicitly. Understanding types is crucial for writing efficient\n",
        "Julia code. Common basic types include Integers, Floats, Booleans, and\n",
        "Strings. To check the type of a variable, use the `typeof()` function.\n",
        "\n",
        "## Exercise 2.1\n",
        "\n",
        "Create an Integer variable ‘answerUniverse’ and set it to 42."
      ],
      "id": "42194a1e-d2f4-49e7-b71f-d4a31881d852"
    },
    {
      "cell_type": "code",
      "execution_count": 3,
      "metadata": {},
      "outputs": [],
      "source": [
        "# Create an Integer variable 'answerUniverse' and set it to 42\n",
        "# YOUR CODE BELOW\n",
        "\n",
        "# Test your answer\n",
        "@assert answerUniverse == 42 \"The variable 'answerUniverse' should hold 42.\"\n",
        "println(\"Great, the answer to all questions on the universe is $answerUniverse now.\")"
      ],
      "id": "0a1cfea0"
    },
    {
      "cell_type": "markdown",
      "metadata": {},
      "source": [
        "## Exercise 2.2\n",
        "\n",
        "Create a Float variable ‘money’ and set it to 1.35."
      ],
      "id": "7c7e3634-166d-42b7-9c15-1893a07f8aaa"
    },
    {
      "cell_type": "code",
      "execution_count": 4,
      "metadata": {},
      "outputs": [],
      "source": [
        "# Create a Float variable 'money' and set it to 1.35\n",
        "# YOUR CODE BELOW\n",
        "\n",
        "# Test your answer\n",
        "@assert money == 1.35 \"The variable 'money' should hold the Float64 1.35.\"\n",
        "println(\"Perfect, the you have stored $money in the variable 'money'.\")"
      ],
      "id": "32ef120c"
    },
    {
      "cell_type": "markdown",
      "metadata": {},
      "source": [
        "## Exercise 2.3\n",
        "\n",
        "Create a Boolean variable ‘isStudent’ and set it to true."
      ],
      "id": "ba549c52-dbff-4aa6-a069-260c071c0d8e"
    },
    {
      "cell_type": "code",
      "execution_count": 5,
      "metadata": {},
      "outputs": [],
      "source": [
        "# Create a Boolean variable 'isStudent' and set it to true\n",
        "# YOUR CODE BELOW\n",
        "\n",
        "# Test your answer\n",
        "@assert isStudent == true \"The variable 'isStudent' should be set to true.\"\n",
        "println(\"Correct, you are a student now.\")"
      ],
      "id": "32441cea"
    },
    {
      "cell_type": "markdown",
      "metadata": {},
      "source": [
        "## Conclusion\n",
        "\n",
        "Congratulations! You have completed the first tutorial on Variables and\n",
        "Types. You’ve learned about the basics of variables, integers, floats,\n",
        "booleans, and strings. Continue to the next file to learn more.\n",
        "\n",
        "# Solutions\n",
        "\n",
        "You will likely find solutions to most exercises online. However, I\n",
        "strongly encourage you to work on these exercises independently without\n",
        "searching explicitly for the exact answers to the exercises.\n",
        "Understanding someone else’s solution is very different from developing\n",
        "your own. Use the lecture notes and try to solve the exercises on your\n",
        "own. This approach will significantly enhance your learning and\n",
        "problem-solving skills.\n",
        "\n",
        "Remember, the goal is not just to complete the exercises, but to\n",
        "understand the concepts and improve your programming abilities. If you\n",
        "encounter difficulties, review the lecture materials, experiment with\n",
        "different approaches, and don’t hesitate to ask for clarification during\n",
        "class discussions.\n",
        "\n",
        "Later, you will find the solutions to these exercises online in the\n",
        "associated GitHub repository, but we will also quickly go over them in\n",
        "next week’s tutorial. To access the solutions, click on the Github\n",
        "button on the lower right and search for the folder with today’s lecture\n",
        "and tutorial. Alternatively, you can ask ChatGPT or Claude to explain\n",
        "them to you. But please remember, the goal is not just to complete the\n",
        "exercises, but to understand the concepts and improve your programming\n",
        "abilities."
      ],
      "id": "098b29c0-87eb-4f26-b42c-011c528405df"
    }
  ],
  "nbformat": 4,
  "nbformat_minor": 5,
  "metadata": {
    "kernelspec": {
      "name": "julia-1.10",
      "display_name": "Julia 1.10.4",
      "language": "julia",
      "path": "/Users/tvlcek/Library/Jupyter/kernels/julia-1.10"
    },
    "language_info": {
      "name": "julia",
      "file_extension": ".jl",
      "mimetype": "application/julia",
      "version": "1.10.4"
    }
  }
}