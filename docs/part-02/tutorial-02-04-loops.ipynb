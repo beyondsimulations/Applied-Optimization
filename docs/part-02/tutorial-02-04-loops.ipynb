{
  "cells": [
    {
      "cell_type": "markdown",
      "metadata": {},
      "source": [
        "# Tutorial II.IV - Loops\n",
        "\n",
        "Applied Optimization with Julia\n",
        "\n",
        "# Introduction\n",
        "\n",
        "This interactive Julia script is an extensive tutorial introducing you\n",
        "to the robust loop structures in Julia. Improve your skills in for and\n",
        "while loops for performing repetitive tasks, manipulating loop flow with\n",
        "break and continue, and applying nested loops to iterate through\n",
        "multi-dimensional structures. Follow the instructions, input your code\n",
        "in the designated areas, and verify your implementations with @assert\n",
        "statements.\n",
        "\n",
        "# Section 1 - For Loops\n",
        "\n",
        "`for` loops iterate over a sequence such as a range or collection,\n",
        "executing a block of code for each item. Basic syntax:\n",
        "\n",
        "``` julia\n",
        "for variable in collection\n",
        "    Execute code for each element\n",
        "end\n",
        "```\n",
        "\n",
        "Iterating over a range (1 to 3):"
      ],
      "id": "7b580e8e-19ab-47a2-bce4-86c74c8fbf83"
    },
    {
      "cell_type": "code",
      "execution_count": 1,
      "metadata": {},
      "outputs": [
        {
          "output_type": "stream",
          "name": "stdout",
          "text": [
            "1\n",
            "2\n",
            "3"
          ]
        }
      ],
      "source": [
        "for i in 1:3\n",
        "    println(i) \n",
        "end"
      ],
      "id": "2"
    },
    {
      "cell_type": "markdown",
      "metadata": {},
      "source": [
        "This prints `1`, `2`, and `3`.\n",
        "\n",
        "Iterating over an array:"
      ],
      "id": "d35ce3ae-c809-4b4a-b91d-a3105f283897"
    },
    {
      "cell_type": "code",
      "execution_count": 1,
      "metadata": {},
      "outputs": [
        {
          "output_type": "stream",
          "name": "stdout",
          "text": [
            "apple\n",
            "banana\n",
            "cherry"
          ]
        }
      ],
      "source": [
        "fruits = [\"apple\", \"banana\", \"cherry\"]\n",
        "for fruit in fruits\n",
        "    println(fruit)\n",
        "end"
      ],
      "id": "4"
    },
    {
      "cell_type": "markdown",
      "metadata": {},
      "source": [
        "This prints each fruit in the `fruits` array.\n",
        "\n",
        "The `break` statement can be utilized to exit the loop based on a\n",
        "condition. To check some condition, we can use `if` statements. For\n",
        "example:"
      ],
      "id": "d5e6b5d4-400f-43a7-a180-7452b8f92336"
    },
    {
      "cell_type": "code",
      "execution_count": 1,
      "metadata": {},
      "outputs": [
        {
          "output_type": "stream",
          "name": "stdout",
          "text": [
            "1\n",
            "2\n",
            "3\n",
            "4"
          ]
        }
      ],
      "source": [
        "loop_number = 0\n",
        "for x in 1:10\n",
        "    loop_number = x\n",
        "    println(loop_number)\n",
        "    if loop_number == 4\n",
        "        break\n",
        "    end\n",
        "end"
      ],
      "id": "6"
    },
    {
      "cell_type": "markdown",
      "metadata": {},
      "source": [
        "This exits the loop in iteration `4`, as the condition\n",
        "`loop_number == 4` is true here.\n",
        "\n",
        "We can also chain `if` statements. For example:"
      ],
      "id": "11341384-54b3-4482-8c5e-b8154015683e"
    },
    {
      "cell_type": "code",
      "execution_count": 1,
      "metadata": {},
      "outputs": [
        {
          "output_type": "stream",
          "name": "stdout",
          "text": [
            "1\n",
            "2\n",
            "We reached 3!"
          ]
        }
      ],
      "source": [
        "loop_number = 0\n",
        "for x in 1:10\n",
        "    loop_number = x\n",
        "    if loop_number <= 2\n",
        "        println(loop_number)\n",
        "    elseif loop_number == 3\n",
        "        println(\"We reached 3!\")\n",
        "    else \n",
        "        break\n",
        "    end\n",
        "end"
      ],
      "id": "8"
    },
    {
      "cell_type": "markdown",
      "metadata": {},
      "source": [
        "This prints `1`, then `2`, then `We reached 3!`. Afterwards the loop\n",
        "ends, as the `break` statement kicks in.\n",
        "\n",
        "## Exercise 1.1 - Sum the Numbers from 1 to 5\n",
        "\n",
        "Sum the numbers from `1` to `5` in a loop. Don’t worry about the `let`\n",
        "here, it just starts a scope block. More on this later in the tutorial\n",
        "on variable scope. The next lines initialize `sum_numbers` to `0`. The\n",
        "sum you compute should accumulate in this variable."
      ],
      "id": "77490e8a-6017-40c2-9b4d-195acb83927d"
    },
    {
      "cell_type": "code",
      "execution_count": 0,
      "metadata": {},
      "outputs": [],
      "source": [
        "let \n",
        "sum_numbers = 0\n",
        "# YOUR CODE BELOW\n",
        "\n",
        "# Test your answer\n",
        "@assert sum_numbers == 15\n",
        "println(\"Sum of numbers from 1 to 5: \", sum_numbers)\n",
        "end # This ends the scope of the previously started scope block."
      ],
      "id": "10"
    },
    {
      "cell_type": "markdown",
      "metadata": {},
      "source": [
        "## Exercise 1.2 - Sum Only the Even Numbers from 1 to 10\n",
        "\n",
        "Sum only the even numbers from `1` to `10`. Again, we initialize a\n",
        "variable `sum_evens` to `0`. The sum you compute should accumulate in\n",
        "this variable."
      ],
      "id": "9288432e-fa4e-4637-a78b-b102c4b3f218"
    },
    {
      "cell_type": "code",
      "execution_count": 0,
      "metadata": {},
      "outputs": [],
      "source": [
        "let # First, we start a scope block for the loop!\n",
        "sum_evens = 0\n",
        "# YOUR CODE BELOW\n",
        "\n",
        "# Test your answer\n",
        "@assert sum_evens == 30\n",
        "println(\"Sum of even numbers from 1 to 10: \", sum_evens)\n",
        "end # Here we end the scope block again."
      ],
      "id": "12"
    },
    {
      "cell_type": "markdown",
      "metadata": {},
      "source": [
        "> **Tip**\n",
        ">\n",
        "> Hint: You can use the modulo operator `%` to check if a number is\n",
        "> even. The modulo operator returns the remainder of the division of two\n",
        "> numbers. If a number is divisible by another number, the remainder is\n",
        "> `0`. The following example checks if `4` is even: `4 % 2 == 0`.\n",
        "\n",
        "## Exercise 1.3 - Exit the Loop if the Current Fruit is Banana\n",
        "\n",
        "Iterate over each fruit in the `fruits` array, store the current fruit\n",
        "in `current_fruit`, and exit the loop if `current_fruit` is `banana`.\n",
        "The next lines initialize the `fruits` array and `current_fruit`\n",
        "variable."
      ],
      "id": "cfe67235-6413-49af-af54-abf1151c8965"
    },
    {
      "cell_type": "code",
      "execution_count": 0,
      "metadata": {},
      "outputs": [],
      "source": [
        "let \n",
        "fruits = [\"apple\", \"banana\", \"cherry\"]\n",
        "current_fruit = \"None\"\n",
        "# YOUR CODE BELOW\n",
        "\n",
        "# Test your answer\n",
        "@assert current_fruit == \"banana\"\n",
        "println(\"The current fruit is: \", current_fruit)\n",
        "end # Here we end the scope block again."
      ],
      "id": "14"
    },
    {
      "cell_type": "markdown",
      "metadata": {},
      "source": [
        "# Section 2 - While Loops for Conditional Execution\n",
        "\n",
        "`while` loops execute as long as a specified condition holds true.\n",
        "They’re particularly useful when the number of iterations is dynamic or\n",
        "unknown in advance.\n",
        "\n",
        "## Exercise 2.1 - Subtract from 10 in Increments of 1 Until the Result is Less Than 3\n",
        "\n",
        "Subtract from `10` in increments of `1` until the result is less than\n",
        "`3`. The next line initializes `current_value` to `10`. The result\n",
        "should be in this variable."
      ],
      "id": "abb01cd1-4a10-4698-8abf-a40a9f751e58"
    },
    {
      "cell_type": "code",
      "execution_count": 0,
      "metadata": {},
      "outputs": [],
      "source": [
        "# Start a new scope block\n",
        "let \n",
        "current_value = 10\n",
        "# YOUR CODE BELOW\n",
        "\n",
        "# Test your answer\n",
        "@assert current_value == 2\n",
        "println(\"The first value smaller than 3 is: \", current_value)\n",
        "end # Scope block closed again."
      ],
      "id": "16"
    },
    {
      "cell_type": "markdown",
      "metadata": {},
      "source": [
        "## Exercise 2.2 - Find the First Multiple of 7 Greater Than 50\n",
        "\n",
        "Find the first multiple of `7` greater than `50` using an indefinite\n",
        "loop. The next line initializes `first_multiple_of_7` to `0`. The first\n",
        "multiple should be in this variable."
      ],
      "id": "cfe567f6-598e-49cd-8a2a-7151cb04ec45"
    },
    {
      "cell_type": "code",
      "execution_count": 0,
      "metadata": {},
      "outputs": [],
      "source": [
        "# New scope block\n",
        "let \n",
        "first_multiple_of_7 = 0\n",
        "# YOUR CODE BELOW\n",
        "\n",
        "# Test your answer\n",
        "@assert first_multiple_of_7 == 56\n",
        "println(\"First multiple of 7 greater than 50: \", first_multiple_of_7)\n",
        "end # End of scope block"
      ],
      "id": "18"
    },
    {
      "cell_type": "markdown",
      "metadata": {},
      "source": [
        "> **Tip**\n",
        ">\n",
        "> ‘while true … end’ constructs an infinite loop. You can exit the loop\n",
        "> using a ‘break’ statement if a condition is met.\n",
        "\n",
        "# Section 3 - Nested Loops\n",
        "\n",
        "Nested loops are loops within another loop, useful for iterating over\n",
        "multi-dimensional data structures.\n",
        "\n",
        "## Exercise 3.1 - Compute the Product of Each Pair of Elements from Two Arrays\n",
        "\n",
        "Compute the product of **each pair of elements** from two arrays. For\n",
        "example, the product of two numbers `a` and `b` is `a * b`. The next\n",
        "lines initialize `numbers1`, `numbers2` arrays, and the `products` array\n",
        "to store your results."
      ],
      "id": "dbac230e-2e39-4fa2-b97d-2343a1a37ca5"
    },
    {
      "cell_type": "code",
      "execution_count": 0,
      "metadata": {},
      "outputs": [],
      "source": [
        "# First, we start a new scope block.\n",
        "let \n",
        "numbers1 = [1, 2, 3]\n",
        "numbers2 = [4, 5, 6]\n",
        "products = []\n",
        "# YOUR CODE BELOW\n",
        "\n",
        "# Test your answer\n",
        "@assert products == [4, 5, 6, 8, 10, 12, 12, 15, 18]\n",
        "println(\"Products of each pair from two arrays: \", products)\n",
        "end # End scope block"
      ],
      "id": "20"
    },
    {
      "cell_type": "markdown",
      "metadata": {},
      "source": [
        "> **Tip**\n",
        ">\n",
        "> Remember, you can use push!() to append elements to an array.\n",
        "\n",
        "# Section 4 - List Comprehensions\n",
        "\n",
        "List comprehensions provide a concise way to create lists based on\n",
        "existing lists. They can often replace for loops and are considered more\n",
        "“Julia-like”. Basic syntax:\n",
        "\n",
        "``` julia\n",
        "[expression for item in collection if condition]\n",
        "```\n",
        "\n",
        "For example, the following list comprehension squares the numbers from\n",
        "`1` to `5` if they are smaller than `4`:"
      ],
      "id": "04b4805c-7a2f-48c8-b659-01d70906e396"
    },
    {
      "cell_type": "code",
      "execution_count": 1,
      "metadata": {},
      "outputs": [
        {
          "output_type": "stream",
          "name": "stdout",
          "text": [
            "[1, 4, 9]"
          ]
        }
      ],
      "source": [
        "squares = [x^2 for x in 1:5 if x < 4]\n",
        "println(squares)"
      ],
      "id": "22"
    },
    {
      "cell_type": "markdown",
      "metadata": {},
      "source": [
        "## Exercise 4.1 - Create a List of Even Numbers\n",
        "\n",
        "Create a list of even numbers from 1 to 10 using a list comprehension."
      ],
      "id": "44d1f7dd-a130-49ca-869b-af01566e84f6"
    },
    {
      "cell_type": "code",
      "execution_count": 0,
      "metadata": {},
      "outputs": [],
      "source": [
        "let\n",
        "# YOUR CODE BELOW\n",
        "\n",
        "# Test your answer\n",
        "@assert even_numbers == [2, 4, 6, 8, 10]\n",
        "println(\"Even numbers from 1 to 10: \", even_numbers)\n",
        "end"
      ],
      "id": "24"
    },
    {
      "cell_type": "markdown",
      "metadata": {},
      "source": [
        "# Conclusion\n",
        "\n",
        "Great work! You’ve successfully navigated through the basics of loops in\n",
        "Julia. You’ve seen for and while loops, tackled iterable structure, and\n",
        "worked on nested loops. Continue to the next file to learn more.\n",
        "\n",
        "# Solutions\n",
        "\n",
        "You will likely find solutions to most exercises online. However, I\n",
        "strongly encourage you to work on these exercises independently without\n",
        "searching explicitly for the exact answers to the exercises.\n",
        "Understanding someone else’s solution is very different from developing\n",
        "your own. Use the lecture notes and try to solve the exercises on your\n",
        "own. This approach will significantly enhance your learning and\n",
        "problem-solving skills.\n",
        "\n",
        "Remember, the goal is not just to complete the exercises, but to\n",
        "understand the concepts and improve your programming abilities. If you\n",
        "encounter difficulties, review the lecture materials, experiment with\n",
        "different approaches, and don’t hesitate to ask for clarification during\n",
        "class discussions.\n",
        "\n",
        "Later, you will find the solutions to these exercises online in the\n",
        "associated GitHub repository, but we will also quickly go over them in\n",
        "next week’s tutorial. To access the solutions, click on the Github\n",
        "button on the lower right and search for the folder with today’s lecture\n",
        "and tutorial. Alternatively, you can ask ChatGPT or Claude to explain\n",
        "them to you. But please remember, the goal is not just to complete the\n",
        "exercises, but to understand the concepts and improve your programming\n",
        "abilities."
      ],
      "id": "29172160-46d5-4d28-94dc-53b3c5603444"
    }
  ],
  "nbformat": 4,
  "nbformat_minor": 5,
  "metadata": {
    "kernel_info": {
      "name": "julia"
    },
    "kernelspec": {
      "name": "julia",
      "display_name": "Julia",
      "language": "julia"
    },
    "language_info": {
      "name": "julia",
      "codemirror_mode": "julia",
      "version": "1.10.5"
    }
  }
}