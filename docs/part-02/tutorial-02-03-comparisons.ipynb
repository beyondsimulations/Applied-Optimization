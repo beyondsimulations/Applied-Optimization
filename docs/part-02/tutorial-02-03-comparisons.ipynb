{
  "cells": [
    {
      "cell_type": "markdown",
      "metadata": {},
      "source": [
        "# Tutorial II.III - Comparison Operators\n",
        "\n",
        "Applied Optimization with Julia\n",
        "\n",
        "# Introduction to Comparisons and Logical Operators in Julia\n",
        "\n",
        "This interactive Julia script introduces the basics of comparisons and\n",
        "logical operators. These are fundamental for controlling the flow of\n",
        "programs and making decisions. Follow the instructions, write your code\n",
        "in the designated code blocks, and execute the corresponding code cell.\n",
        "\n",
        "## Section 1: Comparisons\n",
        "\n",
        "In Julia, comparison operators allow you to compare values and make\n",
        "decisions based on these comparisons. Common comparison operators\n",
        "include\n",
        "\n",
        "-   `==` (equal)\n",
        "-   `!=` (not equal)\n",
        "-   `<` (less than)\n",
        "-   `>` (greater than)\n",
        "-   `<=` (less than or equal to)\n",
        "-   `>=` (greater than or equal to)\n",
        "\n",
        "Comparisons return a boolean value (true or false). You can use these\n",
        "directly or store them in a variable. For example:\n",
        "\n",
        "``` julia\n",
        "comparison = 5 == 5  # This will store 'true' in 'comparison'.\n",
        "```\n",
        "\n",
        "## Exercise 1.1:\n",
        "\n",
        "Compare if 10 is greater than 5 and store the result in `comparison1`."
      ],
      "id": "49adcce8-935a-4272-b969-61278b776254"
    },
    {
      "cell_type": "code",
      "execution_count": 1,
      "metadata": {},
      "outputs": [],
      "source": [
        "# Compare if 10 is greater than 5 and store the result in 'comparison1'.\n",
        "# YOUR CODE BELOW\n",
        "\n",
        "# Test your answer\n",
        "@assert comparison1 == true\n",
        "println(\"comparison1 is \", comparison1)"
      ],
      "id": "c02bebf7"
    },
    {
      "cell_type": "markdown",
      "metadata": {},
      "source": [
        "## Exercise 1.2:\n",
        "\n",
        "Compare if `x` is not equal to `y` and store the result in\n",
        "`comparison2`."
      ],
      "id": "829aa912-1b34-43a6-819b-501fd8f8d0ed"
    },
    {
      "cell_type": "code",
      "execution_count": 2,
      "metadata": {},
      "outputs": [],
      "source": [
        "# Define variables 'x' with value \"Hello\" and 'y' with value \"world\". Compare if 'x' is not equal to 'y' and store the result in 'comparison2'.\n",
        "# YOUR CODE BELOW\n",
        "\n",
        "# Test your answer\n",
        "@assert x == \"Hello\"\n",
        "@assert y == \"world\"\n",
        "@assert comparison2 == true\n",
        "println(\"Comparison2 is \", comparison2)"
      ],
      "id": "3ffe3f36"
    },
    {
      "cell_type": "markdown",
      "metadata": {},
      "source": [
        "## Section 2: Logical Operators\n",
        "\n",
        "Logical operators combine or invert boolean values. In Julia, use\n",
        "\n",
        "-   `&&` for AND\n",
        "-   `||` for OR\n",
        "-   `!` for NOT\n",
        "\n",
        "These are useful in complex conditions and controlling program flow.\n",
        "\n",
        "## Exercise 2.1:\n",
        "\n",
        "Use the AND operator to check if 10 is greater than 5 and `hello` is\n",
        "equal to `hello`. Store the result in `logic1`."
      ],
      "id": "3cc8f185-3c50-4f85-845a-c52ed35182ee"
    },
    {
      "cell_type": "code",
      "execution_count": 3,
      "metadata": {},
      "outputs": [],
      "source": [
        "# Use the AND operator to check if 10 is greater than 5 and 'hello' is equal to 'hello'. Store the result in 'logic1'.\n",
        "# YOUR CODE BELOW\n",
        "\n",
        "# Test your answer\n",
        "@assert logic1 == true\n",
        "println(\"logic1 is \", logic1)"
      ],
      "id": "97ae89e8"
    },
    {
      "cell_type": "markdown",
      "metadata": {},
      "source": [
        "## Exercise 2.2:\n",
        "\n",
        "Use the OR operator to check if 10 is less than 5 or `hello` is equal to\n",
        "`hello`. Store the result in `logic2`."
      ],
      "id": "7316ab01-34a8-4f56-ae59-de8d79a3e971"
    },
    {
      "cell_type": "code",
      "execution_count": 4,
      "metadata": {},
      "outputs": [],
      "source": [
        "# Use the OR operator to check if 10 is less than 5 or `hello` is equal to `hello`. Store the result in `logic2`.\n",
        "# YOUR CODE BELOW\n",
        "\n",
        "# Test your answer\n",
        "@assert logic2 == true\n",
        "println(\"logic2 is \", logic2)"
      ],
      "id": "581f766e"
    },
    {
      "cell_type": "markdown",
      "metadata": {},
      "source": [
        "## Exercise 2.3:\n",
        "\n",
        "Check whether 10 is greater than 5 and store the result in `logic3`.\n",
        "Then, use the NOT operator to invert `logic3`. Store the result in\n",
        "`logic4`."
      ],
      "id": "cc23172b-aa48-41c6-953c-108baffa39ce"
    },
    {
      "cell_type": "code",
      "execution_count": 5,
      "metadata": {},
      "outputs": [],
      "source": [
        "# Check whether 10 is greater than 5 and store the result in `logic3`. Then, use the NOT operator to invert `logic3`. Store the result in `logic4`.\n",
        "# YOUR CODE BELOW\n",
        "\n",
        "# Test your answer\n",
        "@assert logic3 == true\n",
        "@assert logic4 == false\n",
        "println(\"logic3 is \", logic3,\" and logic4 is\", logic4)"
      ],
      "id": "15caaef1"
    },
    {
      "cell_type": "markdown",
      "metadata": {},
      "source": [
        "## Conclusion\n",
        "\n",
        "Excellent work! You’ve completed the tutorial on Comparisons and logical\n",
        "operators in Julia. You’ve learned to compare values and use logical\n",
        "operators to combine or invert boolean values. Experiment with the code,\n",
        "try different operations, and understand how Julia handles logic.\n",
        "Continue to the next file to learn more.\n",
        "\n",
        "# Solutions\n",
        "\n",
        "You will likely find solutions to most exercises online. However, I\n",
        "strongly encourage you to work on these exercises independently without\n",
        "searching explicitly for the exact answers to the exercises.\n",
        "Understanding someone else’s solution is very different from developing\n",
        "your own. Use the lecture notes and try to solve the exercises on your\n",
        "own. This approach will significantly enhance your learning and\n",
        "problem-solving skills.\n",
        "\n",
        "Remember, the goal is not just to complete the exercises, but to\n",
        "understand the concepts and improve your programming abilities. If you\n",
        "encounter difficulties, review the lecture materials, experiment with\n",
        "different approaches, and don’t hesitate to ask for clarification during\n",
        "class discussions.\n",
        "\n",
        "Later, you will find the solutions to these exercises online in the\n",
        "associated GitHub repository, but we will also quickly go over them in\n",
        "next week’s tutorial. To access the solutions, click on the Github\n",
        "button on the lower right and search for the folder with today’s lecture\n",
        "and tutorial. Alternatively, you can ask ChatGPT or Claude to explain\n",
        "them to you. But please remember, the goal is not just to complete the\n",
        "exercises, but to understand the concepts and improve your programming\n",
        "abilities."
      ],
      "id": "760546d5-def8-40e9-9f02-eef8186c9df7"
    }
  ],
  "nbformat": 4,
  "nbformat_minor": 5,
  "metadata": {
    "kernelspec": {
      "name": "julia-1.10",
      "display_name": "Julia 1.10.4",
      "language": "julia",
      "path": "/Users/tvlcek/Library/Jupyter/kernels/julia-1.10"
    },
    "language_info": {
      "name": "julia",
      "file_extension": ".jl",
      "mimetype": "application/julia",
      "version": "1.10.4"
    }
  }
}