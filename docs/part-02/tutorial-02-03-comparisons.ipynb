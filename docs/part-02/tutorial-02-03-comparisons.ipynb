{
  "cells": [
    {
      "cell_type": "markdown",
      "metadata": {},
      "source": [
        "# Tutorial II.III - Comparison Operators\n",
        "\n",
        "Applied Optimization with Julia\n",
        "\n",
        "# Introduction\n",
        "\n",
        "This interactive Julia script introduces the basics of comparisons and\n",
        "logical operators. These are fundamental for controlling the flow of\n",
        "programs and making decisions. Follow the instructions, write your code\n",
        "in the designated code blocks, and execute the corresponding code cell.\n",
        "\n",
        "# Section 1 - Comparisons\n",
        "\n",
        "In Julia, comparison operators allow you to compare values and make\n",
        "decisions based on these comparisons. Common comparison operators\n",
        "include\n",
        "\n",
        "-   `==` (equal)\n",
        "-   `!=` (not equal)\n",
        "-   `<` (less than)\n",
        "-   `>` (greater than)\n",
        "-   `<=` (less than or equal to)\n",
        "-   `>=` (greater than or equal to)\n",
        "\n",
        "Comparisons return a boolean value (true or false). You can use these\n",
        "directly or store them in a variable. For example:"
      ],
      "id": "00ae4964-8ccc-4904-9b46-67b3896e2431"
    },
    {
      "cell_type": "code",
      "execution_count": 1,
      "metadata": {},
      "outputs": [
        {
          "output_type": "stream",
          "name": "stdout",
          "text": [
            "comparison is true."
          ]
        }
      ],
      "source": [
        "comparison = 5 == 5 # Store the result in 'comparison'.\n",
        "println(\"comparison is $comparison.\")"
      ],
      "id": "2"
    },
    {
      "cell_type": "markdown",
      "metadata": {},
      "source": [
        "## Exercise 1.1 - Compare if 10 is greater than 5\n",
        "\n",
        "Compare if 10 is greater than 5 and store the result in `comparison1`."
      ],
      "id": "707015c8-ba7f-4c3a-be3e-293a036aaacd"
    },
    {
      "cell_type": "code",
      "execution_count": 0,
      "metadata": {},
      "outputs": [],
      "source": [
        "# YOUR CODE BELOW\n"
      ],
      "id": "4"
    },
    {
      "cell_type": "code",
      "execution_count": 0,
      "metadata": {},
      "outputs": [],
      "source": [
        "# Test your answer\n",
        "@assert comparison1 == true\n",
        "println(\"comparison1 is \", comparison1)"
      ],
      "id": "6"
    },
    {
      "cell_type": "markdown",
      "metadata": {},
      "source": [
        "## Exercise 1.2 - Compare if x is not equal to y\n",
        "\n",
        "Define variables `x` with value `\"Hello\"` and `y` with value `\"world\"`.\n",
        "Compare if `x` is not equal to `y` and store the result in\n",
        "`comparison2`."
      ],
      "id": "b182d2ed-6f76-4b0b-bb96-94fa331a8726"
    },
    {
      "cell_type": "code",
      "execution_count": 0,
      "metadata": {},
      "outputs": [],
      "source": [
        "# YOUR CODE BELOW\n"
      ],
      "id": "8"
    },
    {
      "cell_type": "code",
      "execution_count": 0,
      "metadata": {},
      "outputs": [],
      "source": [
        "# Test your answer\n",
        "@assert x == \"Hello\"\n",
        "@assert y == \"world\"\n",
        "@assert comparison2 == true\n",
        "println(\"Comparison2 is \", comparison2)"
      ],
      "id": "10"
    },
    {
      "cell_type": "markdown",
      "metadata": {},
      "source": [
        "# Section 2 - Logical Operators\n",
        "\n",
        "Logical operators combine or invert boolean values. In Julia, use\n",
        "\n",
        "-   `&&` for AND\n",
        "-   `||` for OR\n",
        "-   `!` for NOT\n",
        "\n",
        "These are useful in complex conditions and controlling program flow.\n",
        "\n",
        "## Exercise 2.1 - Use the AND operator\n",
        "\n",
        "Use the `AND` operator to check if `10` is greater than `5` and `hello`\n",
        "is equal to `hello`. Store the result in `logic1`."
      ],
      "id": "18a7bbb6-6192-4d94-8e47-344a8eab5913"
    },
    {
      "cell_type": "code",
      "execution_count": 0,
      "metadata": {},
      "outputs": [],
      "source": [
        "# YOUR CODE BELOW\n"
      ],
      "id": "12"
    },
    {
      "cell_type": "code",
      "execution_count": 0,
      "metadata": {},
      "outputs": [],
      "source": [
        "# Test your answer\n",
        "@assert logic1 == true\n",
        "println(\"logic1 is \", logic1)"
      ],
      "id": "14"
    },
    {
      "cell_type": "markdown",
      "metadata": {},
      "source": [
        "## Exercise 2.2 - Use the OR operator\n",
        "\n",
        "Use the `OR` operator to check if `10` is less than `5` or `hello` is\n",
        "equal to `hello`. Store the result in `logic2`."
      ],
      "id": "3ac362bb-8761-4220-ba5d-664603d5a087"
    },
    {
      "cell_type": "code",
      "execution_count": 0,
      "metadata": {},
      "outputs": [],
      "source": [
        "# YOUR CODE BELOW\n"
      ],
      "id": "16"
    },
    {
      "cell_type": "code",
      "execution_count": 0,
      "metadata": {},
      "outputs": [],
      "source": [
        "# Test your answer\n",
        "@assert logic2 == true\n",
        "println(\"logic2 is \", logic2)"
      ],
      "id": "18"
    },
    {
      "cell_type": "markdown",
      "metadata": {},
      "source": [
        "> **Tip**\n",
        ">\n",
        "> Julia uses short-circuit evaluation for `&&` and `||` operators. This\n",
        "> means that the second operand is only evaluated if necessary.\n",
        "\n",
        "## Exercise 2.3 - Use the NOT operator\n",
        "\n",
        "Check whether `10` is greater than `5` and store the result in `logic3`.\n",
        "Then, use the `NOT` operator to invert `logic3`. Store the result in\n",
        "`logic4`."
      ],
      "id": "d35c27f4-8d5e-450a-bbea-a9b373f94bef"
    },
    {
      "cell_type": "code",
      "execution_count": 0,
      "metadata": {},
      "outputs": [],
      "source": [
        "# YOUR CODE BELOW\n"
      ],
      "id": "20"
    },
    {
      "cell_type": "code",
      "execution_count": 0,
      "metadata": {},
      "outputs": [],
      "source": [
        "# Test your answer\n",
        "@assert logic3 == true\n",
        "@assert logic4 == false\n",
        "println(\"logic3 is \", logic3,\" and logic4 is\", logic4)"
      ],
      "id": "22"
    },
    {
      "cell_type": "markdown",
      "metadata": {},
      "source": [
        "## Exercise 2.4 - Chaining Comparisons\n",
        "\n",
        "Julia allows you to chain multiple comparisons:"
      ],
      "id": "bcb3d7f0-3bb8-4360-a137-898754ac77e1"
    },
    {
      "cell_type": "code",
      "execution_count": 1,
      "metadata": {},
      "outputs": [
        {
          "output_type": "stream",
          "name": "stdout",
          "text": [
            "result is true."
          ]
        }
      ],
      "source": [
        "y = 2\n",
        "result = 1 < y < 5  # Equivalent to (1 < y) && (y < 5)\n",
        "println(\"result is $result.\")"
      ],
      "id": "24"
    },
    {
      "cell_type": "markdown",
      "metadata": {},
      "source": [
        "Check if `x` is between `1` and `10` (exclusive) using a chained\n",
        "comparison. Store the result in `chained_comparison`."
      ],
      "id": "30cae206-04f0-4d14-96ad-5883a3793f9c"
    },
    {
      "cell_type": "code",
      "execution_count": 0,
      "metadata": {},
      "outputs": [],
      "source": [
        "x = 5\n",
        "# YOUR CODE BELOW\n"
      ],
      "id": "26"
    },
    {
      "cell_type": "code",
      "execution_count": 0,
      "metadata": {},
      "outputs": [],
      "source": [
        "# Test your answer\n",
        "@assert chained_comparison == true\n",
        "println(\"chained_comparison is \", chained_comparison)"
      ],
      "id": "28"
    },
    {
      "cell_type": "markdown",
      "metadata": {},
      "source": [
        "# Conclusion\n",
        "\n",
        "Excellent work! You’ve completed the tutorial on Comparisons and logical\n",
        "operators in Julia. You’ve learned to compare values and use logical\n",
        "operators to combine or invert boolean values. Experiment with the code,\n",
        "try different operations, and understand how Julia handles logic.\n",
        "Continue to the next file to learn more.\n",
        "\n",
        "# Solutions\n",
        "\n",
        "You will likely find solutions to most exercises online. However, I\n",
        "strongly encourage you to work on these exercises independently without\n",
        "searching explicitly for the exact answers to the exercises.\n",
        "Understanding someone else’s solution is very different from developing\n",
        "your own. Use the lecture notes and try to solve the exercises on your\n",
        "own. This approach will significantly enhance your learning and\n",
        "problem-solving skills.\n",
        "\n",
        "Remember, the goal is not just to complete the exercises, but to\n",
        "understand the concepts and improve your programming abilities. If you\n",
        "encounter difficulties, review the lecture materials, experiment with\n",
        "different approaches, and don’t hesitate to ask for clarification during\n",
        "class discussions.\n",
        "\n",
        "Later, you will find the solutions to these exercises online in the\n",
        "associated GitHub repository, but we will also quickly go over them in\n",
        "next week’s tutorial. To access the solutions, click on the Github\n",
        "button on the lower right and search for the folder with today’s lecture\n",
        "and tutorial. Alternatively, you can ask ChatGPT or Claude to explain\n",
        "them to you. But please remember, the goal is not just to complete the\n",
        "exercises, but to understand the concepts and improve your programming\n",
        "abilities."
      ],
      "id": "b99674b7-5406-42d3-b698-46335daa3e5a"
    }
  ],
  "nbformat": 4,
  "nbformat_minor": 5,
  "metadata": {
    "kernel_info": {
      "name": "julia"
    },
    "kernelspec": {
      "name": "julia",
      "display_name": "Julia",
      "language": "julia"
    },
    "language_info": {
      "name": "julia",
      "codemirror_mode": "julia",
      "version": "1.10.5"
    }
  }
}